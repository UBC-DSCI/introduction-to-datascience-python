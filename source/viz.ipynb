{
 "cells": [
  {
   "cell_type": "markdown",
   "id": "663ab692",
   "metadata": {},
   "source": [
    "# Effective data visualization\n",
    "\n",
    "\n",
    "\n",
    "## Overview \n",
    "This chapter will introduce concepts and tools relating to data visualization\n",
    "beyond what we have seen and practiced so far.  We will focus on guiding\n",
    "principles for effective data visualization and explaining visualizations\n",
    "independent of any particular tool or programming language.  In the process, we\n",
    "will cover some specifics of creating visualizations (scatter plots, bar\n",
    "plots, line plots, and histograms) for data using Python. \n",
    "\n",
    "## Chapter learning objectives\n",
    "\n",
    "By the end of the chapter, readers will be able to do the following:\n",
    "\n",
    "\n",
    "- Given a data set and a question, select from the above plot types and use Python to create a visualization that best answers the question.\n",
    "- Given a visualization and a question, evaluate the effectiveness of the visualization and suggest improvements to better answer the question.\n",
    "- Referring to the visualization, communicate the conclusions in non-technical terms.\n",
    "- Identify rules of thumb for creating effective visualizations. \n",
    "- Define the two key aspects of altair objects:\n",
    "    - mark objects\n",
    "    - encodings\n",
    "- Use the altair library in Python to create and refine the above visualizations using:\n",
    "    - mark objects: mark_point, mark_line, mark_bar\n",
    "    - encodings : x, y, fill, color, shape\n",
    "    - subplots: facet\n",
    "- Describe the difference in raster and vector output formats.\n",
    "- Use `chart.save()` to save visualizations in `.png` and `.svg` format.\n",
    "\n",
    "## Choosing the visualization\n",
    "#### *Ask a question, and answer it* {-}\n",
    "\n",
    "The purpose of a visualization is to answer a question\n",
    "\\index{question!visualization} about a data set of interest. So naturally, the\n",
    "first thing to do **before** creating a visualization is to formulate the\n",
    "question about the data you are trying to answer.  A good visualization will\n",
    "clearly answer your question without distraction; a *great* visualization will\n",
    "suggest even what the question was itself without additional explanation.\n",
    "Imagine your visualization as part of a poster presentation for a project; even\n",
    "if you aren't standing at the poster explaining things, an effective\n",
    "visualization will convey your message to the audience.\n",
    "\n",
    "Recall the different data analysis questions \n",
    "from Chapter \\@ref(intro). \n",
    "With the visualizations we will cover in this chapter, \n",
    "we will be able to answer *only descriptive and exploratory* questions. \n",
    "Be careful to not answer any *predictive, inferential, causal* \n",
    "*or mechanistic* questions with the visualizations presented here, \n",
    "as we have not learned the tools necessary to do that properly just yet.  \n",
    "\n",
    "As with most coding tasks, it is totally fine (and quite common) to make\n",
    "mistakes and iterate a few times before you find the right visualization for\n",
    "your data and question. There are many different kinds of plotting\n",
    "graphics available to use (see Chapter 5 of *Fundamentals of Data Visualization* [@wilkeviz] for a directory). \n",
    "The types of plot that we introduce in this book are shown in {numref}`plot_sketches`\n",
    "which one you should select depends on your data \n",
    "and the question you want to answer. \n",
    "In general, the guiding principles of when to use each type of plot \n",
    "are as follows:\n",
    "\n",
    "\\index{visualization!line}\n",
    "\\index{visualization!histogram}\n",
    "\\index{visualization!scatter}\n",
    "\\index{visualization!bar}\n",
    "\n",
    "- **scatter plots** visualize the relationship between two quantitative variables\n",
    "- **line plots** visualize trends with respect to an independent, ordered quantity (e.g., time)\n",
    "- **bar plots** visualize comparisons of amounts\n",
    "- **histograms** visualize the distribution of one quantitative variable (i.e., all its possible values and how often they occur) \\index{distribution}\n",
    "\n",
    "\n",
    "```{figure} img/plot-sketches-1.png\n",
    "---\n",
    "height: 400px\n",
    "name: plot_sketches\n",
    "---\n",
    "Examples of scatter, line and bar plots, as well as histograms.\n",
    "```\n",
    "\n",
    "\n",
    "All types of visualization have their (mis)uses, but three kinds are usually\n",
    "hard to understand or are easily replaced with an oft-better alternative.  In\n",
    "particular, you should avoid **pie charts**; it is generally better to use\n",
    "bars, as it is easier to compare bar heights than pie slice sizes.  You should\n",
    "also not use **3-D visualizations**, as they are typically hard to understand\n",
    "when converted to a static 2-D image format. Finally, do not use tables to make\n",
    "numerical comparisons; humans are much better at quickly processing visual\n",
    "information than text and math. Bar plots are again typically a better\n",
    "alternative."
   ]
  },
  {
   "cell_type": "markdown",
   "id": "512d2ca7",
   "metadata": {},
   "source": [
    "## Refining the visualization\n",
    "#### *Convey the message, minimize noise* {-}\n",
    "\n",
    "Just being able to make a visualization in Python with `altair` (or any other tool\n",
    "for that matter) doesn't mean that it effectively communicates your message to\n",
    "others. Once you have selected a broad type of visualization to use, you will\n",
    "have to refine it to suit your particular need.  Some rules of thumb for doing\n",
    "this are listed below. They generally fall into two classes: you want to \n",
    "*make your visualization convey your message*, and you want to *reduce visual noise*\n",
    "as much as possible. Humans have limited cognitive ability to process\n",
    "information; both of these types of refinement aim to reduce the mental load on\n",
    "your audience when viewing your visualization, making it easier for them to\n",
    "understand and remember your message quickly.\n",
    "\n",
    "**Convey the message**\n",
    "\n",
    "- Make sure the visualization answers the question you have asked most simply and plainly as possible.\n",
    "- Use legends and labels so that your visualization is understandable without reading the surrounding text.\n",
    "- Ensure the text, symbols, lines, etc., on your visualization are big enough to be easily read.\n",
    "- Ensure the data are clearly visible; don't hide the shape/distribution of the data behind other objects (e.g.,  a bar).\n",
    "- Make sure to use color schemes that are understandable by those with\n",
    "  colorblindness (a surprisingly large fraction of the overall \n",
    "  population&mdash;from about 1% to 10%, depending on sex and ancestry [@deebblind]).\n",
    "  For example, [Color Schemes](https://vega.github.io/vega/docs/schemes/) \n",
    "  provides the ability to pick such color schemes, and you can check\n",
    "  your visualizations after you have created them by uploading to online tools\n",
    "  such as a [color blindness simulator](https://www.color-blindness.com/coblis-color-blindness-simulator/).\n",
    "- Redundancy can be helpful; sometimes conveying the same message in multiple ways reinforces it for the audience.\n",
    "\n",
    "**Minimize noise**\n",
    "\n",
    "- Use colors sparingly. Too many different colors can be distracting, create false patterns, and detract from the message. \n",
    "- Be wary of overplotting. Overplotting is when marks that represent the data\n",
    "  overlap, and is problematic as it prevents you from seeing how many data\n",
    "  points are represented in areas of the visualization where this occurs. If your\n",
    "  plot has too many dots or lines and starts to look like a mess, you need to do\n",
    "  something different.\n",
    "- Only make the plot area (where the dots, lines, bars are) as big as needed. Simple plots can be made small.\n",
    "- Don't adjust the axes to zoom in on small differences. If the difference is small, show that it's small!"
   ]
  },
  {
   "cell_type": "markdown",
   "id": "5617179a",
   "metadata": {},
   "source": [
    "## Creating visualizations with `altair` \n",
    "#### *Build the visualization iteratively* {-}\n",
    "\n",
    "This section will cover examples of how to choose and refine a visualization given a data set and a question that you want to answer, \n",
    "and then how to create the visualization in Python \\index{ggplot} using `altair`.  To use the `altair` package, we need to import the `altair` package. We will also import `pandas` in order to support reading and other data related operations."
   ]
  },
  {
   "cell_type": "code",
   "execution_count": 1,
   "id": "5af165ec",
   "metadata": {
    "execution": {
     "iopub.execute_input": "2022-07-19T22:59:14.368343Z",
     "iopub.status.busy": "2022-07-19T22:59:14.367860Z",
     "iopub.status.idle": "2022-07-19T22:59:14.785500Z",
     "shell.execute_reply": "2022-07-19T22:59:14.785125Z"
    }
   },
   "outputs": [],
   "source": [
    "import pandas as pd\n",
    "import altair as alt"
   ]
  },
  {
   "cell_type": "code",
   "execution_count": 2,
   "id": "60a19804",
   "metadata": {
    "execution": {
     "iopub.execute_input": "2022-07-19T22:59:14.787720Z",
     "iopub.status.busy": "2022-07-19T22:59:14.787532Z",
     "iopub.status.idle": "2022-07-19T22:59:15.252404Z",
     "shell.execute_reply": "2022-07-19T22:59:15.252022Z"
    },
    "tags": [
     "remove-cell"
    ]
   },
   "outputs": [],
   "source": [
    "from myst_nb import glue"
   ]
  },
  {
   "cell_type": "markdown",
   "id": "ff3d07eb",
   "metadata": {},
   "source": [
    "### Scatter plots and line plots: the Mauna Loa CO$_{\\text{2}}$ data set\n",
    "\n",
    "The [Mauna Loa CO$_{\\text{2}}$ data set](https://www.esrl.noaa.gov/gmd/ccgg/trends/data.html), \n",
    "curated by Dr. Pieter Tans, NOAA/GML \n",
    "and Dr. Ralph Keeling, Scripps Institution of Oceanography,\n",
    "records the atmospheric concentration of carbon dioxide \n",
    "(CO$_{\\text{2}}$, in parts per million) \n",
    "at the Mauna Loa research station in \\index{Mauna Loa} Hawaii \n",
    "from 1959 onward [@maunadata].\n",
    "For this book, we are going to focus on the last 40 years of the data set,\n",
    "1980-2020.\n",
    "\n",
    "**Question:** \\index{question!visualization} \n",
    "Does the concentration of atmospheric CO$_{\\text{2}}$ change over time, \n",
    "and are there any interesting patterns to note?"
   ]
  },
  {
   "cell_type": "code",
   "execution_count": 3,
   "id": "73c2d230",
   "metadata": {
    "execution": {
     "iopub.execute_input": "2022-07-19T22:59:15.254627Z",
     "iopub.status.busy": "2022-07-19T22:59:15.254430Z",
     "iopub.status.idle": "2022-07-19T22:59:15.267174Z",
     "shell.execute_reply": "2022-07-19T22:59:15.266823Z"
    },
    "tags": [
     "remove-cell"
    ]
   },
   "outputs": [],
   "source": [
    "mauna_loa = pd.read_csv(\"data/mauna_loa.csv\")\n",
    "mauna_loa['day']=1\n",
    "mauna_loa['date_measured']=pd.to_datetime(mauna_loa[[\"year\", \"month\", \"day\"]])\n",
    "mauna_loa = mauna_loa[['date_measured', 'ppm']].query('ppm>0 and date_measured>\"1980-1-1\"')\n",
    "mauna_loa.to_csv(\"data/mauna_loa_data.csv\", index=False)"
   ]
  },
  {
   "cell_type": "markdown",
   "id": "39003fd6",
   "metadata": {},
   "source": [
    "To get started, we will read and inspect the data:"
   ]
  },
  {
   "cell_type": "code",
   "execution_count": 4,
   "id": "9d9c2ff7",
   "metadata": {
    "execution": {
     "iopub.execute_input": "2022-07-19T22:59:15.269137Z",
     "iopub.status.busy": "2022-07-19T22:59:15.268991Z",
     "iopub.status.idle": "2022-07-19T22:59:15.279835Z",
     "shell.execute_reply": "2022-07-19T22:59:15.279523Z"
    }
   },
   "outputs": [
    {
     "data": {
      "text/html": [
       "<div>\n",
       "<style scoped>\n",
       "    .dataframe tbody tr th:only-of-type {\n",
       "        vertical-align: middle;\n",
       "    }\n",
       "\n",
       "    .dataframe tbody tr th {\n",
       "        vertical-align: top;\n",
       "    }\n",
       "\n",
       "    .dataframe thead th {\n",
       "        text-align: right;\n",
       "    }\n",
       "</style>\n",
       "<table border=\"1\" class=\"dataframe\">\n",
       "  <thead>\n",
       "    <tr style=\"text-align: right;\">\n",
       "      <th></th>\n",
       "      <th>date_measured</th>\n",
       "      <th>ppm</th>\n",
       "    </tr>\n",
       "  </thead>\n",
       "  <tbody>\n",
       "    <tr>\n",
       "      <th>0</th>\n",
       "      <td>1980-02-01</td>\n",
       "      <td>338.34</td>\n",
       "    </tr>\n",
       "    <tr>\n",
       "      <th>1</th>\n",
       "      <td>1980-03-01</td>\n",
       "      <td>340.01</td>\n",
       "    </tr>\n",
       "    <tr>\n",
       "      <th>2</th>\n",
       "      <td>1980-04-01</td>\n",
       "      <td>340.93</td>\n",
       "    </tr>\n",
       "    <tr>\n",
       "      <th>3</th>\n",
       "      <td>1980-05-01</td>\n",
       "      <td>341.48</td>\n",
       "    </tr>\n",
       "    <tr>\n",
       "      <th>4</th>\n",
       "      <td>1980-06-01</td>\n",
       "      <td>341.33</td>\n",
       "    </tr>\n",
       "    <tr>\n",
       "      <th>...</th>\n",
       "      <td>...</td>\n",
       "      <td>...</td>\n",
       "    </tr>\n",
       "    <tr>\n",
       "      <th>479</th>\n",
       "      <td>2020-02-01</td>\n",
       "      <td>414.11</td>\n",
       "    </tr>\n",
       "    <tr>\n",
       "      <th>480</th>\n",
       "      <td>2020-03-01</td>\n",
       "      <td>414.51</td>\n",
       "    </tr>\n",
       "    <tr>\n",
       "      <th>481</th>\n",
       "      <td>2020-04-01</td>\n",
       "      <td>416.21</td>\n",
       "    </tr>\n",
       "    <tr>\n",
       "      <th>482</th>\n",
       "      <td>2020-05-01</td>\n",
       "      <td>417.07</td>\n",
       "    </tr>\n",
       "    <tr>\n",
       "      <th>483</th>\n",
       "      <td>2020-06-01</td>\n",
       "      <td>416.39</td>\n",
       "    </tr>\n",
       "  </tbody>\n",
       "</table>\n",
       "<p>484 rows × 2 columns</p>\n",
       "</div>"
      ],
      "text/plain": [
       "    date_measured     ppm\n",
       "0      1980-02-01  338.34\n",
       "1      1980-03-01  340.01\n",
       "2      1980-04-01  340.93\n",
       "3      1980-05-01  341.48\n",
       "4      1980-06-01  341.33\n",
       "..            ...     ...\n",
       "479    2020-02-01  414.11\n",
       "480    2020-03-01  414.51\n",
       "481    2020-04-01  416.21\n",
       "482    2020-05-01  417.07\n",
       "483    2020-06-01  416.39\n",
       "\n",
       "[484 rows x 2 columns]"
      ]
     },
     "execution_count": 4,
     "metadata": {},
     "output_type": "execute_result"
    }
   ],
   "source": [
    "# mauna loa carbon dioxide data\n",
    "co2_df = pd.read_csv(\"data/mauna_loa_data.csv\", parse_dates=['date_measured'])\n",
    "co2_df"
   ]
  },
  {
   "cell_type": "code",
   "execution_count": 5,
   "id": "70c0624f",
   "metadata": {
    "execution": {
     "iopub.execute_input": "2022-07-19T22:59:15.281705Z",
     "iopub.status.busy": "2022-07-19T22:59:15.281559Z",
     "iopub.status.idle": "2022-07-19T22:59:15.284267Z",
     "shell.execute_reply": "2022-07-19T22:59:15.283995Z"
    }
   },
   "outputs": [
    {
     "data": {
      "text/plain": [
       "date_measured    datetime64[ns]\n",
       "ppm                     float64\n",
       "dtype: object"
      ]
     },
     "execution_count": 5,
     "metadata": {},
     "output_type": "execute_result"
    }
   ],
   "source": [
    "co2_df.dtypes"
   ]
  },
  {
   "cell_type": "markdown",
   "id": "6c879795",
   "metadata": {},
   "source": [
    "We see that there are two columns in the `co2_df` data frame; `date_measured` and `ppm`. \n",
    "The `date_measured` column holds the date the measurement was taken, \n",
    "and is of type `datetime64`.\n",
    "The `ppm` column holds the value of CO$_{\\text{2}}$ in parts per million \n",
    "that was measured on each date, and is type `float64`.\n",
    "\n",
    "> **Note:** `read_csv` was able to parse the `date_measured` column into the\n",
    "> `datetime` vector type because it was entered \n",
    "> in the international standard date format, \n",
    "> called ISO 8601, which lists dates as `year-month-day` and we used `parse_dates=True`. \n",
    "> `datetime` vectors are `double` vectors with special properties that allow \n",
    "> them to handle dates correctly.\n",
    "> For example, `datetime` type vectors allow functions like `altair` \n",
    "> to treat them as numeric dates and not as character vectors, \n",
    "> even though they contain non-numeric characters \n",
    "> (e.g., in the `date_measured` column in the `co2_df` data frame).\n",
    "> This means Python will not accidentally plot the dates in the wrong order \n",
    "> (i.e., not alphanumerically as would happen if it was a character vector). \n",
    "> More about dates and times can be viewed [here](https://wesmckinney.com/book/time-series.html)\n",
    "\n",
    "\n",
    "Since we are investigating a relationship between two variables \n",
    "(CO$_{\\text{2}}$ concentration and date), \n",
    "a scatter plot is a good place to start. \n",
    "Scatter plots show the data as individual points with `x` (horizontal axis) \n",
    "and `y` (vertical axis) coordinates.\n",
    "Here, we will use the measurement date as the `x` coordinate \n",
    "and the CO$_{\\text{2}}$ concentration as the `y` coordinate.  \n",
    "while using the `altair` package, We create a plot object with the `alt.Chart()` function. \n",
    "There are a few basic aspects of a plot that we need to specify:\n",
    "\\index{ggplot!aesthetic mapping}\n",
    "\\index{ggplot!geometric object}\n",
    "\n",
    "\n",
    "\n",
    "- The name of the **data frame** object to visualize.\n",
    "    - Here, we specify the `co2_df` data frame as an argument to the `alt.Chart()` function\n",
    "- The **geometric object**, which specifies \\index{aesthetic mapping} how the mapped data should be displayed.\n",
    "    - To create a geometric object, we use `Chart.mark_*` methods (see the [altair reference](https://altair-viz.github.io/user_guide/marks.html) for a list of geometric objects).\n",
    "    - Here, we use the `mark_point` function to visualize our data as a scatter plot.\n",
    "- The **geometric encoding**, which tells \\index{aesthetic mapping} `altair` how the columns in the data frame map to properties of the visualization.\n",
    "    - To create an encoding, we use the `encode()` function.\n",
    "    - The `encode()` method builds a key-value mapping between encoding channels (such as x, y) to fields in the dataset, accessed by field name(column names)\n",
    "    - Here, we set the plot `x` axis to the `date_measured` variable, and the plot `y` axis to the `ppm` variable."
   ]
  },
  {
   "cell_type": "code",
   "execution_count": 6,
   "id": "045e2f56",
   "metadata": {
    "execution": {
     "iopub.execute_input": "2022-07-19T22:59:15.286034Z",
     "iopub.status.busy": "2022-07-19T22:59:15.285887Z",
     "iopub.status.idle": "2022-07-19T22:59:15.287577Z",
     "shell.execute_reply": "2022-07-19T22:59:15.287288Z"
    },
    "tags": [
     "remove-cell"
    ]
   },
   "outputs": [],
   "source": [
    "from myst_nb import glue"
   ]
  },
  {
   "cell_type": "code",
   "execution_count": 7,
   "id": "dfb8e55a",
   "metadata": {
    "execution": {
     "iopub.execute_input": "2022-07-19T22:59:15.289268Z",
     "iopub.status.busy": "2022-07-19T22:59:15.289137Z",
     "iopub.status.idle": "2022-07-19T22:59:15.294174Z",
     "shell.execute_reply": "2022-07-19T22:59:15.293861Z"
    }
   },
   "outputs": [],
   "source": [
    "co2_scatter = alt.Chart(co2_df).mark_point().encode(\n",
    "    x = \"date_measured\", \n",
    "    y = alt.Y(\"ppm\", scale=alt.Scale(zero=False)))\n",
    "    \n"
   ]
  },
  {
   "cell_type": "code",
   "execution_count": 8,
   "id": "1180ee24",
   "metadata": {
    "execution": {
     "iopub.execute_input": "2022-07-19T22:59:15.295898Z",
     "iopub.status.busy": "2022-07-19T22:59:15.295757Z",
     "iopub.status.idle": "2022-07-19T22:59:15.308307Z",
     "shell.execute_reply": "2022-07-19T22:59:15.308018Z"
    },
    "tags": [
     "remove-cell"
    ]
   },
   "outputs": [
    {
     "data": {
      "application/papermill.record/text/html": "\n<div id=\"altair-viz-01345a481df242bab0c4514c1c41076d\"></div>\n<script type=\"text/javascript\">\n  var VEGA_DEBUG = (typeof VEGA_DEBUG == \"undefined\") ? {} : VEGA_DEBUG;\n  (function(spec, embedOpt){\n    let outputDiv = document.currentScript.previousElementSibling;\n    if (outputDiv.id !== \"altair-viz-01345a481df242bab0c4514c1c41076d\") {\n      outputDiv = document.getElementById(\"altair-viz-01345a481df242bab0c4514c1c41076d\");\n    }\n    const paths = {\n      \"vega\": \"https://cdn.jsdelivr.net/npm//vega@5?noext\",\n      \"vega-lib\": \"https://cdn.jsdelivr.net/npm//vega-lib?noext\",\n      \"vega-lite\": \"https://cdn.jsdelivr.net/npm//vega-lite@4.17.0?noext\",\n      \"vega-embed\": \"https://cdn.jsdelivr.net/npm//vega-embed@6?noext\",\n    };\n\n    function maybeLoadScript(lib, version) {\n      var key = `${lib.replace(\"-\", \"\")}_version`;\n      return (VEGA_DEBUG[key] == version) ?\n        Promise.resolve(paths[lib]) :\n        new Promise(function(resolve, reject) {\n          var s = document.createElement('script');\n          document.getElementsByTagName(\"head\")[0].appendChild(s);\n          s.async = true;\n          s.onload = () => {\n            VEGA_DEBUG[key] = version;\n            return resolve(paths[lib]);\n          };\n          s.onerror = () => reject(`Error loading script: ${paths[lib]}`);\n          s.src = paths[lib];\n        });\n    }\n\n    function showError(err) {\n      outputDiv.innerHTML = `<div class=\"error\" style=\"color:red;\">${err}</div>`;\n      throw err;\n    }\n\n    function displayChart(vegaEmbed) {\n      vegaEmbed(outputDiv, spec, embedOpt)\n        .catch(err => showError(`Javascript Error: ${err.message}<br>This usually means there's a typo in your chart specification. See the javascript console for the full traceback.`));\n    }\n\n    if(typeof define === \"function\" && define.amd) {\n      requirejs.config({paths});\n      require([\"vega-embed\"], displayChart, err => showError(`Error loading script: ${err.message}`));\n    } else {\n      maybeLoadScript(\"vega\", \"5\")\n        .then(() => maybeLoadScript(\"vega-lite\", \"4.17.0\"))\n        .then(() => maybeLoadScript(\"vega-embed\", \"6\"))\n        .catch(showError)\n        .then(() => displayChart(vegaEmbed));\n    }\n  })({\"config\": {\"view\": {\"continuousWidth\": 400, \"continuousHeight\": 300}}, \"data\": {\"name\": \"data-ecfc281786dd23148efa483af3159f83\"}, \"mark\": \"point\", \"encoding\": {\"x\": {\"field\": \"date_measured\", \"type\": \"temporal\"}, \"y\": {\"field\": \"ppm\", \"scale\": {\"zero\": false}, \"type\": \"quantitative\"}}, \"$schema\": \"https://vega.github.io/schema/vega-lite/v4.17.0.json\", \"datasets\": {\"data-ecfc281786dd23148efa483af3159f83\": [{\"date_measured\": \"1980-02-01T00:00:00\", \"ppm\": 338.34}, {\"date_measured\": \"1980-03-01T00:00:00\", \"ppm\": 340.01}, {\"date_measured\": \"1980-04-01T00:00:00\", \"ppm\": 340.93}, {\"date_measured\": \"1980-05-01T00:00:00\", \"ppm\": 341.48}, {\"date_measured\": \"1980-06-01T00:00:00\", \"ppm\": 341.33}, {\"date_measured\": \"1980-07-01T00:00:00\", \"ppm\": 339.4}, {\"date_measured\": \"1980-08-01T00:00:00\", \"ppm\": 337.7}, {\"date_measured\": \"1980-09-01T00:00:00\", \"ppm\": 336.19}, {\"date_measured\": \"1980-10-01T00:00:00\", \"ppm\": 336.15}, {\"date_measured\": \"1980-11-01T00:00:00\", \"ppm\": 337.27}, {\"date_measured\": \"1980-12-01T00:00:00\", \"ppm\": 338.32}, {\"date_measured\": \"1981-01-01T00:00:00\", \"ppm\": 339.29}, {\"date_measured\": \"1981-02-01T00:00:00\", \"ppm\": 340.55}, {\"date_measured\": \"1981-03-01T00:00:00\", \"ppm\": 341.61}, {\"date_measured\": \"1981-04-01T00:00:00\", \"ppm\": 342.53}, {\"date_measured\": \"1981-05-01T00:00:00\", \"ppm\": 343.03}, {\"date_measured\": \"1981-06-01T00:00:00\", \"ppm\": 342.54}, {\"date_measured\": \"1981-07-01T00:00:00\", \"ppm\": 340.78}, {\"date_measured\": \"1981-08-01T00:00:00\", \"ppm\": 338.44}, {\"date_measured\": \"1981-09-01T00:00:00\", \"ppm\": 336.95}, {\"date_measured\": \"1981-10-01T00:00:00\", \"ppm\": 337.08}, {\"date_measured\": \"1981-11-01T00:00:00\", \"ppm\": 338.58}, {\"date_measured\": \"1981-12-01T00:00:00\", \"ppm\": 339.88}, {\"date_measured\": \"1982-01-01T00:00:00\", \"ppm\": 340.96}, {\"date_measured\": \"1982-02-01T00:00:00\", \"ppm\": 341.73}, {\"date_measured\": \"1982-03-01T00:00:00\", \"ppm\": 342.81}, {\"date_measured\": \"1982-04-01T00:00:00\", \"ppm\": 343.97}, {\"date_measured\": \"1982-05-01T00:00:00\", \"ppm\": 344.63}, {\"date_measured\": \"1982-06-01T00:00:00\", \"ppm\": 343.79}, {\"date_measured\": \"1982-07-01T00:00:00\", \"ppm\": 342.32}, {\"date_measured\": \"1982-08-01T00:00:00\", \"ppm\": 340.09}, {\"date_measured\": \"1982-09-01T00:00:00\", \"ppm\": 338.28}, {\"date_measured\": \"1982-10-01T00:00:00\", \"ppm\": 338.29}, {\"date_measured\": \"1982-11-01T00:00:00\", \"ppm\": 339.6}, {\"date_measured\": \"1982-12-01T00:00:00\", \"ppm\": 340.9}, {\"date_measured\": \"1983-01-01T00:00:00\", \"ppm\": 341.68}, {\"date_measured\": \"1983-02-01T00:00:00\", \"ppm\": 342.9}, {\"date_measured\": \"1983-03-01T00:00:00\", \"ppm\": 343.33}, {\"date_measured\": \"1983-04-01T00:00:00\", \"ppm\": 345.25}, {\"date_measured\": \"1983-05-01T00:00:00\", \"ppm\": 346.03}, {\"date_measured\": \"1983-06-01T00:00:00\", \"ppm\": 345.63}, {\"date_measured\": \"1983-07-01T00:00:00\", \"ppm\": 344.19}, {\"date_measured\": \"1983-08-01T00:00:00\", \"ppm\": 342.27}, {\"date_measured\": \"1983-09-01T00:00:00\", \"ppm\": 340.35}, {\"date_measured\": \"1983-10-01T00:00:00\", \"ppm\": 340.38}, {\"date_measured\": \"1983-11-01T00:00:00\", \"ppm\": 341.59}, {\"date_measured\": \"1983-12-01T00:00:00\", \"ppm\": 343.05}, {\"date_measured\": \"1984-01-01T00:00:00\", \"ppm\": 344.1}, {\"date_measured\": \"1984-02-01T00:00:00\", \"ppm\": 344.79}, {\"date_measured\": \"1984-03-01T00:00:00\", \"ppm\": 345.52}, {\"date_measured\": \"1984-05-01T00:00:00\", \"ppm\": 347.63}, {\"date_measured\": \"1984-06-01T00:00:00\", \"ppm\": 346.98}, {\"date_measured\": \"1984-07-01T00:00:00\", \"ppm\": 345.53}, {\"date_measured\": \"1984-08-01T00:00:00\", \"ppm\": 343.55}, {\"date_measured\": \"1984-09-01T00:00:00\", \"ppm\": 341.4}, {\"date_measured\": \"1984-10-01T00:00:00\", \"ppm\": 341.67}, {\"date_measured\": \"1984-11-01T00:00:00\", \"ppm\": 343.1}, {\"date_measured\": \"1984-12-01T00:00:00\", \"ppm\": 344.7}, {\"date_measured\": \"1985-01-01T00:00:00\", \"ppm\": 345.21}, {\"date_measured\": \"1985-02-01T00:00:00\", \"ppm\": 346.16}, {\"date_measured\": \"1985-03-01T00:00:00\", \"ppm\": 347.74}, {\"date_measured\": \"1985-04-01T00:00:00\", \"ppm\": 348.34}, {\"date_measured\": \"1985-05-01T00:00:00\", \"ppm\": 349.06}, {\"date_measured\": \"1985-06-01T00:00:00\", \"ppm\": 348.38}, {\"date_measured\": \"1985-07-01T00:00:00\", \"ppm\": 346.71}, {\"date_measured\": \"1985-08-01T00:00:00\", \"ppm\": 345.02}, {\"date_measured\": \"1985-09-01T00:00:00\", \"ppm\": 343.27}, {\"date_measured\": \"1985-10-01T00:00:00\", \"ppm\": 343.13}, {\"date_measured\": \"1985-11-01T00:00:00\", \"ppm\": 344.49}, {\"date_measured\": \"1985-12-01T00:00:00\", \"ppm\": 345.88}, {\"date_measured\": \"1986-01-01T00:00:00\", \"ppm\": 346.56}, {\"date_measured\": \"1986-02-01T00:00:00\", \"ppm\": 347.28}, {\"date_measured\": \"1986-03-01T00:00:00\", \"ppm\": 348.01}, {\"date_measured\": \"1986-04-01T00:00:00\", \"ppm\": 349.77}, {\"date_measured\": \"1986-05-01T00:00:00\", \"ppm\": 350.38}, {\"date_measured\": \"1986-06-01T00:00:00\", \"ppm\": 349.93}, {\"date_measured\": \"1986-07-01T00:00:00\", \"ppm\": 348.16}, {\"date_measured\": \"1986-08-01T00:00:00\", \"ppm\": 346.08}, {\"date_measured\": \"1986-09-01T00:00:00\", \"ppm\": 345.22}, {\"date_measured\": \"1986-10-01T00:00:00\", \"ppm\": 344.51}, {\"date_measured\": \"1986-11-01T00:00:00\", \"ppm\": 345.93}, {\"date_measured\": \"1986-12-01T00:00:00\", \"ppm\": 347.22}, {\"date_measured\": \"1987-01-01T00:00:00\", \"ppm\": 348.52}, {\"date_measured\": \"1987-02-01T00:00:00\", \"ppm\": 348.73}, {\"date_measured\": \"1987-03-01T00:00:00\", \"ppm\": 349.73}, {\"date_measured\": \"1987-04-01T00:00:00\", \"ppm\": 351.31}, {\"date_measured\": \"1987-05-01T00:00:00\", \"ppm\": 352.09}, {\"date_measured\": \"1987-06-01T00:00:00\", \"ppm\": 351.53}, {\"date_measured\": \"1987-07-01T00:00:00\", \"ppm\": 350.11}, {\"date_measured\": \"1987-08-01T00:00:00\", \"ppm\": 348.08}, {\"date_measured\": \"1987-09-01T00:00:00\", \"ppm\": 346.52}, {\"date_measured\": \"1987-10-01T00:00:00\", \"ppm\": 346.59}, {\"date_measured\": \"1987-11-01T00:00:00\", \"ppm\": 347.96}, {\"date_measured\": \"1987-12-01T00:00:00\", \"ppm\": 349.16}, {\"date_measured\": \"1988-01-01T00:00:00\", \"ppm\": 350.39}, {\"date_measured\": \"1988-02-01T00:00:00\", \"ppm\": 351.64}, {\"date_measured\": \"1988-03-01T00:00:00\", \"ppm\": 352.4}, {\"date_measured\": \"1988-04-01T00:00:00\", \"ppm\": 353.69}, {\"date_measured\": \"1988-05-01T00:00:00\", \"ppm\": 354.21}, {\"date_measured\": \"1988-06-01T00:00:00\", \"ppm\": 353.72}, {\"date_measured\": \"1988-07-01T00:00:00\", \"ppm\": 352.69}, {\"date_measured\": \"1988-08-01T00:00:00\", \"ppm\": 350.4}, {\"date_measured\": \"1988-09-01T00:00:00\", \"ppm\": 348.92}, {\"date_measured\": \"1988-10-01T00:00:00\", \"ppm\": 349.13}, {\"date_measured\": \"1988-11-01T00:00:00\", \"ppm\": 350.2}, {\"date_measured\": \"1988-12-01T00:00:00\", \"ppm\": 351.41}, {\"date_measured\": \"1989-01-01T00:00:00\", \"ppm\": 352.91}, {\"date_measured\": \"1989-02-01T00:00:00\", \"ppm\": 353.27}, {\"date_measured\": \"1989-03-01T00:00:00\", \"ppm\": 353.96}, {\"date_measured\": \"1989-04-01T00:00:00\", \"ppm\": 355.64}, {\"date_measured\": \"1989-05-01T00:00:00\", \"ppm\": 355.86}, {\"date_measured\": \"1989-06-01T00:00:00\", \"ppm\": 355.37}, {\"date_measured\": \"1989-07-01T00:00:00\", \"ppm\": 353.99}, {\"date_measured\": \"1989-08-01T00:00:00\", \"ppm\": 351.81}, {\"date_measured\": \"1989-09-01T00:00:00\", \"ppm\": 350.05}, {\"date_measured\": \"1989-10-01T00:00:00\", \"ppm\": 350.25}, {\"date_measured\": \"1989-11-01T00:00:00\", \"ppm\": 351.49}, {\"date_measured\": \"1989-12-01T00:00:00\", \"ppm\": 352.85}, {\"date_measured\": \"1990-01-01T00:00:00\", \"ppm\": 353.8}, {\"date_measured\": \"1990-02-01T00:00:00\", \"ppm\": 355.04}, {\"date_measured\": \"1990-03-01T00:00:00\", \"ppm\": 355.73}, {\"date_measured\": \"1990-04-01T00:00:00\", \"ppm\": 356.32}, {\"date_measured\": \"1990-05-01T00:00:00\", \"ppm\": 357.32}, {\"date_measured\": \"1990-06-01T00:00:00\", \"ppm\": 356.34}, {\"date_measured\": \"1990-07-01T00:00:00\", \"ppm\": 354.84}, {\"date_measured\": \"1990-08-01T00:00:00\", \"ppm\": 353.01}, {\"date_measured\": \"1990-09-01T00:00:00\", \"ppm\": 351.31}, {\"date_measured\": \"1990-10-01T00:00:00\", \"ppm\": 351.62}, {\"date_measured\": \"1990-11-01T00:00:00\", \"ppm\": 353.07}, {\"date_measured\": \"1990-12-01T00:00:00\", \"ppm\": 354.33}, {\"date_measured\": \"1991-01-01T00:00:00\", \"ppm\": 354.84}, {\"date_measured\": \"1991-02-01T00:00:00\", \"ppm\": 355.73}, {\"date_measured\": \"1991-03-01T00:00:00\", \"ppm\": 357.23}, {\"date_measured\": \"1991-04-01T00:00:00\", \"ppm\": 358.66}, {\"date_measured\": \"1991-05-01T00:00:00\", \"ppm\": 359.13}, {\"date_measured\": \"1991-06-01T00:00:00\", \"ppm\": 358.13}, {\"date_measured\": \"1991-07-01T00:00:00\", \"ppm\": 356.19}, {\"date_measured\": \"1991-08-01T00:00:00\", \"ppm\": 353.85}, {\"date_measured\": \"1991-09-01T00:00:00\", \"ppm\": 352.25}, {\"date_measured\": \"1991-10-01T00:00:00\", \"ppm\": 352.35}, {\"date_measured\": \"1991-11-01T00:00:00\", \"ppm\": 353.81}, {\"date_measured\": \"1991-12-01T00:00:00\", \"ppm\": 355.12}, {\"date_measured\": \"1992-01-01T00:00:00\", \"ppm\": 356.25}, {\"date_measured\": \"1992-02-01T00:00:00\", \"ppm\": 357.11}, {\"date_measured\": \"1992-03-01T00:00:00\", \"ppm\": 357.86}, {\"date_measured\": \"1992-04-01T00:00:00\", \"ppm\": 359.09}, {\"date_measured\": \"1992-05-01T00:00:00\", \"ppm\": 359.59}, {\"date_measured\": \"1992-06-01T00:00:00\", \"ppm\": 359.33}, {\"date_measured\": \"1992-07-01T00:00:00\", \"ppm\": 357.01}, {\"date_measured\": \"1992-08-01T00:00:00\", \"ppm\": 354.94}, {\"date_measured\": \"1992-09-01T00:00:00\", \"ppm\": 352.95}, {\"date_measured\": \"1992-10-01T00:00:00\", \"ppm\": 353.32}, {\"date_measured\": \"1992-11-01T00:00:00\", \"ppm\": 354.32}, {\"date_measured\": \"1992-12-01T00:00:00\", \"ppm\": 355.57}, {\"date_measured\": \"1993-01-01T00:00:00\", \"ppm\": 357.0}, {\"date_measured\": \"1993-02-01T00:00:00\", \"ppm\": 357.31}, {\"date_measured\": \"1993-03-01T00:00:00\", \"ppm\": 358.47}, {\"date_measured\": \"1993-04-01T00:00:00\", \"ppm\": 359.27}, {\"date_measured\": \"1993-05-01T00:00:00\", \"ppm\": 360.19}, {\"date_measured\": \"1993-06-01T00:00:00\", \"ppm\": 359.52}, {\"date_measured\": \"1993-07-01T00:00:00\", \"ppm\": 357.33}, {\"date_measured\": \"1993-08-01T00:00:00\", \"ppm\": 355.64}, {\"date_measured\": \"1993-09-01T00:00:00\", \"ppm\": 354.03}, {\"date_measured\": \"1993-10-01T00:00:00\", \"ppm\": 354.12}, {\"date_measured\": \"1993-11-01T00:00:00\", \"ppm\": 355.41}, {\"date_measured\": \"1993-12-01T00:00:00\", \"ppm\": 356.91}, {\"date_measured\": \"1994-01-01T00:00:00\", \"ppm\": 358.24}, {\"date_measured\": \"1994-02-01T00:00:00\", \"ppm\": 358.92}, {\"date_measured\": \"1994-03-01T00:00:00\", \"ppm\": 359.99}, {\"date_measured\": \"1994-04-01T00:00:00\", \"ppm\": 361.23}, {\"date_measured\": \"1994-05-01T00:00:00\", \"ppm\": 361.65}, {\"date_measured\": \"1994-06-01T00:00:00\", \"ppm\": 360.81}, {\"date_measured\": \"1994-07-01T00:00:00\", \"ppm\": 359.38}, {\"date_measured\": \"1994-08-01T00:00:00\", \"ppm\": 357.46}, {\"date_measured\": \"1994-09-01T00:00:00\", \"ppm\": 355.73}, {\"date_measured\": \"1994-10-01T00:00:00\", \"ppm\": 356.08}, {\"date_measured\": \"1994-11-01T00:00:00\", \"ppm\": 357.53}, {\"date_measured\": \"1994-12-01T00:00:00\", \"ppm\": 358.98}, {\"date_measured\": \"1995-01-01T00:00:00\", \"ppm\": 359.92}, {\"date_measured\": \"1995-02-01T00:00:00\", \"ppm\": 360.86}, {\"date_measured\": \"1995-03-01T00:00:00\", \"ppm\": 361.83}, {\"date_measured\": \"1995-04-01T00:00:00\", \"ppm\": 363.3}, {\"date_measured\": \"1995-05-01T00:00:00\", \"ppm\": 363.69}, {\"date_measured\": \"1995-06-01T00:00:00\", \"ppm\": 363.19}, {\"date_measured\": \"1995-07-01T00:00:00\", \"ppm\": 361.64}, {\"date_measured\": \"1995-08-01T00:00:00\", \"ppm\": 359.12}, {\"date_measured\": \"1995-09-01T00:00:00\", \"ppm\": 358.17}, {\"date_measured\": \"1995-10-01T00:00:00\", \"ppm\": 357.99}, {\"date_measured\": \"1995-11-01T00:00:00\", \"ppm\": 359.45}, {\"date_measured\": \"1995-12-01T00:00:00\", \"ppm\": 360.68}, {\"date_measured\": \"1996-01-01T00:00:00\", \"ppm\": 362.07}, {\"date_measured\": \"1996-02-01T00:00:00\", \"ppm\": 363.24}, {\"date_measured\": \"1996-03-01T00:00:00\", \"ppm\": 364.17}, {\"date_measured\": \"1996-04-01T00:00:00\", \"ppm\": 364.57}, {\"date_measured\": \"1996-05-01T00:00:00\", \"ppm\": 365.13}, {\"date_measured\": \"1996-06-01T00:00:00\", \"ppm\": 364.92}, {\"date_measured\": \"1996-07-01T00:00:00\", \"ppm\": 363.55}, {\"date_measured\": \"1996-08-01T00:00:00\", \"ppm\": 361.38}, {\"date_measured\": \"1996-09-01T00:00:00\", \"ppm\": 359.54}, {\"date_measured\": \"1996-10-01T00:00:00\", \"ppm\": 359.58}, {\"date_measured\": \"1996-11-01T00:00:00\", \"ppm\": 360.89}, {\"date_measured\": \"1996-12-01T00:00:00\", \"ppm\": 362.24}, {\"date_measured\": \"1997-01-01T00:00:00\", \"ppm\": 363.09}, {\"date_measured\": \"1997-02-01T00:00:00\", \"ppm\": 364.03}, {\"date_measured\": \"1997-03-01T00:00:00\", \"ppm\": 364.51}, {\"date_measured\": \"1997-04-01T00:00:00\", \"ppm\": 366.35}, {\"date_measured\": \"1997-05-01T00:00:00\", \"ppm\": 366.64}, {\"date_measured\": \"1997-06-01T00:00:00\", \"ppm\": 365.59}, {\"date_measured\": \"1997-07-01T00:00:00\", \"ppm\": 364.31}, {\"date_measured\": \"1997-08-01T00:00:00\", \"ppm\": 362.25}, {\"date_measured\": \"1997-09-01T00:00:00\", \"ppm\": 360.29}, {\"date_measured\": \"1997-10-01T00:00:00\", \"ppm\": 360.82}, {\"date_measured\": \"1997-11-01T00:00:00\", \"ppm\": 362.49}, {\"date_measured\": \"1997-12-01T00:00:00\", \"ppm\": 364.38}, {\"date_measured\": \"1998-01-01T00:00:00\", \"ppm\": 365.27}, {\"date_measured\": \"1998-02-01T00:00:00\", \"ppm\": 365.98}, {\"date_measured\": \"1998-03-01T00:00:00\", \"ppm\": 367.24}, {\"date_measured\": \"1998-04-01T00:00:00\", \"ppm\": 368.66}, {\"date_measured\": \"1998-05-01T00:00:00\", \"ppm\": 369.42}, {\"date_measured\": \"1998-06-01T00:00:00\", \"ppm\": 368.99}, {\"date_measured\": \"1998-07-01T00:00:00\", \"ppm\": 367.82}, {\"date_measured\": \"1998-08-01T00:00:00\", \"ppm\": 365.95}, {\"date_measured\": \"1998-09-01T00:00:00\", \"ppm\": 364.02}, {\"date_measured\": \"1998-10-01T00:00:00\", \"ppm\": 364.4}, {\"date_measured\": \"1998-11-01T00:00:00\", \"ppm\": 365.52}, {\"date_measured\": \"1998-12-01T00:00:00\", \"ppm\": 367.13}, {\"date_measured\": \"1999-01-01T00:00:00\", \"ppm\": 368.18}, {\"date_measured\": \"1999-02-01T00:00:00\", \"ppm\": 369.07}, {\"date_measured\": \"1999-03-01T00:00:00\", \"ppm\": 369.68}, {\"date_measured\": \"1999-04-01T00:00:00\", \"ppm\": 370.99}, {\"date_measured\": \"1999-05-01T00:00:00\", \"ppm\": 370.96}, {\"date_measured\": \"1999-06-01T00:00:00\", \"ppm\": 370.3}, {\"date_measured\": \"1999-07-01T00:00:00\", \"ppm\": 369.45}, {\"date_measured\": \"1999-08-01T00:00:00\", \"ppm\": 366.9}, {\"date_measured\": \"1999-09-01T00:00:00\", \"ppm\": 364.81}, {\"date_measured\": \"1999-10-01T00:00:00\", \"ppm\": 365.37}, {\"date_measured\": \"1999-11-01T00:00:00\", \"ppm\": 366.72}, {\"date_measured\": \"1999-12-01T00:00:00\", \"ppm\": 368.1}, {\"date_measured\": \"2000-01-01T00:00:00\", \"ppm\": 369.29}, {\"date_measured\": \"2000-02-01T00:00:00\", \"ppm\": 369.55}, {\"date_measured\": \"2000-03-01T00:00:00\", \"ppm\": 370.6}, {\"date_measured\": \"2000-04-01T00:00:00\", \"ppm\": 371.82}, {\"date_measured\": \"2000-05-01T00:00:00\", \"ppm\": 371.58}, {\"date_measured\": \"2000-06-01T00:00:00\", \"ppm\": 371.7}, {\"date_measured\": \"2000-07-01T00:00:00\", \"ppm\": 369.86}, {\"date_measured\": \"2000-08-01T00:00:00\", \"ppm\": 368.13}, {\"date_measured\": \"2000-09-01T00:00:00\", \"ppm\": 367.0}, {\"date_measured\": \"2000-10-01T00:00:00\", \"ppm\": 367.03}, {\"date_measured\": \"2000-11-01T00:00:00\", \"ppm\": 368.37}, {\"date_measured\": \"2000-12-01T00:00:00\", \"ppm\": 369.67}, {\"date_measured\": \"2001-01-01T00:00:00\", \"ppm\": 370.59}, {\"date_measured\": \"2001-02-01T00:00:00\", \"ppm\": 371.51}, {\"date_measured\": \"2001-03-01T00:00:00\", \"ppm\": 372.43}, {\"date_measured\": \"2001-04-01T00:00:00\", \"ppm\": 373.37}, {\"date_measured\": \"2001-05-01T00:00:00\", \"ppm\": 373.85}, {\"date_measured\": \"2001-06-01T00:00:00\", \"ppm\": 373.22}, {\"date_measured\": \"2001-07-01T00:00:00\", \"ppm\": 371.5}, {\"date_measured\": \"2001-08-01T00:00:00\", \"ppm\": 369.61}, {\"date_measured\": \"2001-09-01T00:00:00\", \"ppm\": 368.18}, {\"date_measured\": \"2001-10-01T00:00:00\", \"ppm\": 368.45}, {\"date_measured\": \"2001-11-01T00:00:00\", \"ppm\": 369.76}, {\"date_measured\": \"2001-12-01T00:00:00\", \"ppm\": 371.24}, {\"date_measured\": \"2002-01-01T00:00:00\", \"ppm\": 372.53}, {\"date_measured\": \"2002-02-01T00:00:00\", \"ppm\": 373.2}, {\"date_measured\": \"2002-03-01T00:00:00\", \"ppm\": 374.12}, {\"date_measured\": \"2002-04-01T00:00:00\", \"ppm\": 375.02}, {\"date_measured\": \"2002-05-01T00:00:00\", \"ppm\": 375.76}, {\"date_measured\": \"2002-06-01T00:00:00\", \"ppm\": 375.52}, {\"date_measured\": \"2002-07-01T00:00:00\", \"ppm\": 374.01}, {\"date_measured\": \"2002-08-01T00:00:00\", \"ppm\": 371.85}, {\"date_measured\": \"2002-09-01T00:00:00\", \"ppm\": 370.75}, {\"date_measured\": \"2002-10-01T00:00:00\", \"ppm\": 370.55}, {\"date_measured\": \"2002-11-01T00:00:00\", \"ppm\": 372.25}, {\"date_measured\": \"2002-12-01T00:00:00\", \"ppm\": 373.79}, {\"date_measured\": \"2003-01-01T00:00:00\", \"ppm\": 374.88}, {\"date_measured\": \"2003-02-01T00:00:00\", \"ppm\": 375.64}, {\"date_measured\": \"2003-03-01T00:00:00\", \"ppm\": 376.45}, {\"date_measured\": \"2003-04-01T00:00:00\", \"ppm\": 377.73}, {\"date_measured\": \"2003-05-01T00:00:00\", \"ppm\": 378.6}, {\"date_measured\": \"2003-06-01T00:00:00\", \"ppm\": 378.28}, {\"date_measured\": \"2003-07-01T00:00:00\", \"ppm\": 376.7}, {\"date_measured\": \"2003-08-01T00:00:00\", \"ppm\": 374.38}, {\"date_measured\": \"2003-09-01T00:00:00\", \"ppm\": 373.17}, {\"date_measured\": \"2003-10-01T00:00:00\", \"ppm\": 373.15}, {\"date_measured\": \"2003-11-01T00:00:00\", \"ppm\": 374.66}, {\"date_measured\": \"2003-12-01T00:00:00\", \"ppm\": 375.99}, {\"date_measured\": \"2004-01-01T00:00:00\", \"ppm\": 377.0}, {\"date_measured\": \"2004-02-01T00:00:00\", \"ppm\": 377.87}, {\"date_measured\": \"2004-03-01T00:00:00\", \"ppm\": 378.88}, {\"date_measured\": \"2004-04-01T00:00:00\", \"ppm\": 380.35}, {\"date_measured\": \"2004-05-01T00:00:00\", \"ppm\": 380.62}, {\"date_measured\": \"2004-06-01T00:00:00\", \"ppm\": 379.69}, {\"date_measured\": \"2004-07-01T00:00:00\", \"ppm\": 377.47}, {\"date_measured\": \"2004-08-01T00:00:00\", \"ppm\": 376.01}, {\"date_measured\": \"2004-09-01T00:00:00\", \"ppm\": 374.25}, {\"date_measured\": \"2004-10-01T00:00:00\", \"ppm\": 374.46}, {\"date_measured\": \"2004-11-01T00:00:00\", \"ppm\": 376.16}, {\"date_measured\": \"2004-12-01T00:00:00\", \"ppm\": 377.51}, {\"date_measured\": \"2005-01-01T00:00:00\", \"ppm\": 378.46}, {\"date_measured\": \"2005-02-01T00:00:00\", \"ppm\": 379.73}, {\"date_measured\": \"2005-03-01T00:00:00\", \"ppm\": 380.77}, {\"date_measured\": \"2005-04-01T00:00:00\", \"ppm\": 382.29}, {\"date_measured\": \"2005-05-01T00:00:00\", \"ppm\": 382.45}, {\"date_measured\": \"2005-06-01T00:00:00\", \"ppm\": 382.21}, {\"date_measured\": \"2005-07-01T00:00:00\", \"ppm\": 380.74}, {\"date_measured\": \"2005-08-01T00:00:00\", \"ppm\": 378.74}, {\"date_measured\": \"2005-09-01T00:00:00\", \"ppm\": 376.7}, {\"date_measured\": \"2005-10-01T00:00:00\", \"ppm\": 377.0}, {\"date_measured\": \"2005-11-01T00:00:00\", \"ppm\": 378.35}, {\"date_measured\": \"2005-12-01T00:00:00\", \"ppm\": 380.11}, {\"date_measured\": \"2006-01-01T00:00:00\", \"ppm\": 381.38}, {\"date_measured\": \"2006-02-01T00:00:00\", \"ppm\": 382.2}, {\"date_measured\": \"2006-03-01T00:00:00\", \"ppm\": 382.67}, {\"date_measured\": \"2006-04-01T00:00:00\", \"ppm\": 384.61}, {\"date_measured\": \"2006-05-01T00:00:00\", \"ppm\": 385.03}, {\"date_measured\": \"2006-06-01T00:00:00\", \"ppm\": 384.05}, {\"date_measured\": \"2006-07-01T00:00:00\", \"ppm\": 382.46}, {\"date_measured\": \"2006-08-01T00:00:00\", \"ppm\": 380.41}, {\"date_measured\": \"2006-09-01T00:00:00\", \"ppm\": 378.85}, {\"date_measured\": \"2006-10-01T00:00:00\", \"ppm\": 379.13}, {\"date_measured\": \"2006-11-01T00:00:00\", \"ppm\": 380.15}, {\"date_measured\": \"2006-12-01T00:00:00\", \"ppm\": 381.82}, {\"date_measured\": \"2007-01-01T00:00:00\", \"ppm\": 382.89}, {\"date_measured\": \"2007-02-01T00:00:00\", \"ppm\": 383.9}, {\"date_measured\": \"2007-03-01T00:00:00\", \"ppm\": 384.58}, {\"date_measured\": \"2007-04-01T00:00:00\", \"ppm\": 386.5}, {\"date_measured\": \"2007-05-01T00:00:00\", \"ppm\": 386.56}, {\"date_measured\": \"2007-06-01T00:00:00\", \"ppm\": 386.1}, {\"date_measured\": \"2007-07-01T00:00:00\", \"ppm\": 384.5}, {\"date_measured\": \"2007-08-01T00:00:00\", \"ppm\": 381.99}, {\"date_measured\": \"2007-09-01T00:00:00\", \"ppm\": 380.96}, {\"date_measured\": \"2007-10-01T00:00:00\", \"ppm\": 381.12}, {\"date_measured\": \"2007-11-01T00:00:00\", \"ppm\": 382.45}, {\"date_measured\": \"2007-12-01T00:00:00\", \"ppm\": 383.94}, {\"date_measured\": \"2008-01-01T00:00:00\", \"ppm\": 385.52}, {\"date_measured\": \"2008-02-01T00:00:00\", \"ppm\": 385.82}, {\"date_measured\": \"2008-03-01T00:00:00\", \"ppm\": 386.03}, {\"date_measured\": \"2008-04-01T00:00:00\", \"ppm\": 387.21}, {\"date_measured\": \"2008-05-01T00:00:00\", \"ppm\": 388.54}, {\"date_measured\": \"2008-06-01T00:00:00\", \"ppm\": 387.76}, {\"date_measured\": \"2008-07-01T00:00:00\", \"ppm\": 386.37}, {\"date_measured\": \"2008-08-01T00:00:00\", \"ppm\": 384.09}, {\"date_measured\": \"2008-09-01T00:00:00\", \"ppm\": 383.18}, {\"date_measured\": \"2008-10-01T00:00:00\", \"ppm\": 382.99}, {\"date_measured\": \"2008-11-01T00:00:00\", \"ppm\": 384.19}, {\"date_measured\": \"2008-12-01T00:00:00\", \"ppm\": 385.56}, {\"date_measured\": \"2009-01-01T00:00:00\", \"ppm\": 386.94}, {\"date_measured\": \"2009-02-01T00:00:00\", \"ppm\": 387.48}, {\"date_measured\": \"2009-03-01T00:00:00\", \"ppm\": 388.82}, {\"date_measured\": \"2009-04-01T00:00:00\", \"ppm\": 389.55}, {\"date_measured\": \"2009-05-01T00:00:00\", \"ppm\": 390.14}, {\"date_measured\": \"2009-06-01T00:00:00\", \"ppm\": 389.48}, {\"date_measured\": \"2009-07-01T00:00:00\", \"ppm\": 388.03}, {\"date_measured\": \"2009-08-01T00:00:00\", \"ppm\": 386.11}, {\"date_measured\": \"2009-09-01T00:00:00\", \"ppm\": 384.74}, {\"date_measured\": \"2009-10-01T00:00:00\", \"ppm\": 384.43}, {\"date_measured\": \"2009-11-01T00:00:00\", \"ppm\": 386.02}, {\"date_measured\": \"2009-12-01T00:00:00\", \"ppm\": 387.42}, {\"date_measured\": \"2010-01-01T00:00:00\", \"ppm\": 388.71}, {\"date_measured\": \"2010-02-01T00:00:00\", \"ppm\": 390.2}, {\"date_measured\": \"2010-03-01T00:00:00\", \"ppm\": 391.17}, {\"date_measured\": \"2010-04-01T00:00:00\", \"ppm\": 392.46}, {\"date_measured\": \"2010-05-01T00:00:00\", \"ppm\": 393.0}, {\"date_measured\": \"2010-06-01T00:00:00\", \"ppm\": 392.15}, {\"date_measured\": \"2010-07-01T00:00:00\", \"ppm\": 390.2}, {\"date_measured\": \"2010-08-01T00:00:00\", \"ppm\": 388.35}, {\"date_measured\": \"2010-09-01T00:00:00\", \"ppm\": 386.85}, {\"date_measured\": \"2010-10-01T00:00:00\", \"ppm\": 387.24}, {\"date_measured\": \"2010-11-01T00:00:00\", \"ppm\": 388.67}, {\"date_measured\": \"2010-12-01T00:00:00\", \"ppm\": 389.79}, {\"date_measured\": \"2011-01-01T00:00:00\", \"ppm\": 391.33}, {\"date_measured\": \"2011-02-01T00:00:00\", \"ppm\": 391.86}, {\"date_measured\": \"2011-03-01T00:00:00\", \"ppm\": 392.6}, {\"date_measured\": \"2011-04-01T00:00:00\", \"ppm\": 393.25}, {\"date_measured\": \"2011-05-01T00:00:00\", \"ppm\": 394.19}, {\"date_measured\": \"2011-06-01T00:00:00\", \"ppm\": 393.74}, {\"date_measured\": \"2011-07-01T00:00:00\", \"ppm\": 392.51}, {\"date_measured\": \"2011-08-01T00:00:00\", \"ppm\": 390.13}, {\"date_measured\": \"2011-09-01T00:00:00\", \"ppm\": 389.08}, {\"date_measured\": \"2011-10-01T00:00:00\", \"ppm\": 389.0}, {\"date_measured\": \"2011-11-01T00:00:00\", \"ppm\": 390.28}, {\"date_measured\": \"2011-12-01T00:00:00\", \"ppm\": 391.86}, {\"date_measured\": \"2012-01-01T00:00:00\", \"ppm\": 393.12}, {\"date_measured\": \"2012-02-01T00:00:00\", \"ppm\": 393.86}, {\"date_measured\": \"2012-03-01T00:00:00\", \"ppm\": 394.4}, {\"date_measured\": \"2012-04-01T00:00:00\", \"ppm\": 396.18}, {\"date_measured\": \"2012-05-01T00:00:00\", \"ppm\": 396.74}, {\"date_measured\": \"2012-06-01T00:00:00\", \"ppm\": 395.71}, {\"date_measured\": \"2012-07-01T00:00:00\", \"ppm\": 394.36}, {\"date_measured\": \"2012-08-01T00:00:00\", \"ppm\": 392.39}, {\"date_measured\": \"2012-09-01T00:00:00\", \"ppm\": 391.11}, {\"date_measured\": \"2012-10-01T00:00:00\", \"ppm\": 391.05}, {\"date_measured\": \"2012-11-01T00:00:00\", \"ppm\": 392.98}, {\"date_measured\": \"2012-12-01T00:00:00\", \"ppm\": 394.34}, {\"date_measured\": \"2013-01-01T00:00:00\", \"ppm\": 395.55}, {\"date_measured\": \"2013-02-01T00:00:00\", \"ppm\": 396.8}, {\"date_measured\": \"2013-03-01T00:00:00\", \"ppm\": 397.43}, {\"date_measured\": \"2013-04-01T00:00:00\", \"ppm\": 398.41}, {\"date_measured\": \"2013-05-01T00:00:00\", \"ppm\": 399.78}, {\"date_measured\": \"2013-06-01T00:00:00\", \"ppm\": 398.6}, {\"date_measured\": \"2013-07-01T00:00:00\", \"ppm\": 397.32}, {\"date_measured\": \"2013-08-01T00:00:00\", \"ppm\": 395.2}, {\"date_measured\": \"2013-09-01T00:00:00\", \"ppm\": 393.45}, {\"date_measured\": \"2013-10-01T00:00:00\", \"ppm\": 393.7}, {\"date_measured\": \"2013-11-01T00:00:00\", \"ppm\": 395.16}, {\"date_measured\": \"2013-12-01T00:00:00\", \"ppm\": 396.84}, {\"date_measured\": \"2014-01-01T00:00:00\", \"ppm\": 397.85}, {\"date_measured\": \"2014-02-01T00:00:00\", \"ppm\": 398.01}, {\"date_measured\": \"2014-03-01T00:00:00\", \"ppm\": 399.77}, {\"date_measured\": \"2014-04-01T00:00:00\", \"ppm\": 401.38}, {\"date_measured\": \"2014-05-01T00:00:00\", \"ppm\": 401.78}, {\"date_measured\": \"2014-06-01T00:00:00\", \"ppm\": 401.25}, {\"date_measured\": \"2014-07-01T00:00:00\", \"ppm\": 399.1}, {\"date_measured\": \"2014-08-01T00:00:00\", \"ppm\": 397.03}, {\"date_measured\": \"2014-09-01T00:00:00\", \"ppm\": 395.38}, {\"date_measured\": \"2014-10-01T00:00:00\", \"ppm\": 396.03}, {\"date_measured\": \"2014-11-01T00:00:00\", \"ppm\": 397.28}, {\"date_measured\": \"2014-12-01T00:00:00\", \"ppm\": 398.91}, {\"date_measured\": \"2015-01-01T00:00:00\", \"ppm\": 399.98}, {\"date_measured\": \"2015-02-01T00:00:00\", \"ppm\": 400.28}, {\"date_measured\": \"2015-03-01T00:00:00\", \"ppm\": 401.54}, {\"date_measured\": \"2015-04-01T00:00:00\", \"ppm\": 403.28}, {\"date_measured\": \"2015-05-01T00:00:00\", \"ppm\": 403.96}, {\"date_measured\": \"2015-06-01T00:00:00\", \"ppm\": 402.8}, {\"date_measured\": \"2015-07-01T00:00:00\", \"ppm\": 401.31}, {\"date_measured\": \"2015-08-01T00:00:00\", \"ppm\": 398.93}, {\"date_measured\": \"2015-09-01T00:00:00\", \"ppm\": 397.63}, {\"date_measured\": \"2015-10-01T00:00:00\", \"ppm\": 398.29}, {\"date_measured\": \"2015-11-01T00:00:00\", \"ppm\": 400.16}, {\"date_measured\": \"2015-12-01T00:00:00\", \"ppm\": 401.85}, {\"date_measured\": \"2016-01-01T00:00:00\", \"ppm\": 402.56}, {\"date_measured\": \"2016-02-01T00:00:00\", \"ppm\": 404.12}, {\"date_measured\": \"2016-03-01T00:00:00\", \"ppm\": 404.87}, {\"date_measured\": \"2016-04-01T00:00:00\", \"ppm\": 407.45}, {\"date_measured\": \"2016-05-01T00:00:00\", \"ppm\": 407.72}, {\"date_measured\": \"2016-06-01T00:00:00\", \"ppm\": 406.83}, {\"date_measured\": \"2016-07-01T00:00:00\", \"ppm\": 404.41}, {\"date_measured\": \"2016-08-01T00:00:00\", \"ppm\": 402.27}, {\"date_measured\": \"2016-09-01T00:00:00\", \"ppm\": 401.05}, {\"date_measured\": \"2016-10-01T00:00:00\", \"ppm\": 401.59}, {\"date_measured\": \"2016-11-01T00:00:00\", \"ppm\": 403.55}, {\"date_measured\": \"2016-12-01T00:00:00\", \"ppm\": 404.45}, {\"date_measured\": \"2017-01-01T00:00:00\", \"ppm\": 406.17}, {\"date_measured\": \"2017-02-01T00:00:00\", \"ppm\": 406.46}, {\"date_measured\": \"2017-03-01T00:00:00\", \"ppm\": 407.22}, {\"date_measured\": \"2017-04-01T00:00:00\", \"ppm\": 409.04}, {\"date_measured\": \"2017-05-01T00:00:00\", \"ppm\": 409.69}, {\"date_measured\": \"2017-06-01T00:00:00\", \"ppm\": 408.88}, {\"date_measured\": \"2017-07-01T00:00:00\", \"ppm\": 407.12}, {\"date_measured\": \"2017-08-01T00:00:00\", \"ppm\": 405.13}, {\"date_measured\": \"2017-09-01T00:00:00\", \"ppm\": 403.37}, {\"date_measured\": \"2017-10-01T00:00:00\", \"ppm\": 403.63}, {\"date_measured\": \"2017-11-01T00:00:00\", \"ppm\": 405.12}, {\"date_measured\": \"2017-12-01T00:00:00\", \"ppm\": 406.81}, {\"date_measured\": \"2018-01-01T00:00:00\", \"ppm\": 407.96}, {\"date_measured\": \"2018-02-01T00:00:00\", \"ppm\": 408.32}, {\"date_measured\": \"2018-03-01T00:00:00\", \"ppm\": 409.41}, {\"date_measured\": \"2018-04-01T00:00:00\", \"ppm\": 410.24}, {\"date_measured\": \"2018-05-01T00:00:00\", \"ppm\": 411.24}, {\"date_measured\": \"2018-06-01T00:00:00\", \"ppm\": 410.79}, {\"date_measured\": \"2018-07-01T00:00:00\", \"ppm\": 408.71}, {\"date_measured\": \"2018-08-01T00:00:00\", \"ppm\": 406.99}, {\"date_measured\": \"2018-09-01T00:00:00\", \"ppm\": 405.51}, {\"date_measured\": \"2018-10-01T00:00:00\", \"ppm\": 406.0}, {\"date_measured\": \"2018-11-01T00:00:00\", \"ppm\": 408.02}, {\"date_measured\": \"2018-12-01T00:00:00\", \"ppm\": 409.07}, {\"date_measured\": \"2019-01-01T00:00:00\", \"ppm\": 410.83}, {\"date_measured\": \"2019-02-01T00:00:00\", \"ppm\": 411.75}, {\"date_measured\": \"2019-03-01T00:00:00\", \"ppm\": 411.97}, {\"date_measured\": \"2019-04-01T00:00:00\", \"ppm\": 413.33}, {\"date_measured\": \"2019-05-01T00:00:00\", \"ppm\": 414.64}, {\"date_measured\": \"2019-06-01T00:00:00\", \"ppm\": 413.93}, {\"date_measured\": \"2019-07-01T00:00:00\", \"ppm\": 411.74}, {\"date_measured\": \"2019-08-01T00:00:00\", \"ppm\": 409.95}, {\"date_measured\": \"2019-09-01T00:00:00\", \"ppm\": 408.54}, {\"date_measured\": \"2019-10-01T00:00:00\", \"ppm\": 408.52}, {\"date_measured\": \"2019-11-01T00:00:00\", \"ppm\": 410.25}, {\"date_measured\": \"2019-12-01T00:00:00\", \"ppm\": 411.76}, {\"date_measured\": \"2020-01-01T00:00:00\", \"ppm\": 413.39}, {\"date_measured\": \"2020-02-01T00:00:00\", \"ppm\": 414.11}, {\"date_measured\": \"2020-03-01T00:00:00\", \"ppm\": 414.51}, {\"date_measured\": \"2020-04-01T00:00:00\", \"ppm\": 416.21}, {\"date_measured\": \"2020-05-01T00:00:00\", \"ppm\": 417.07}, {\"date_measured\": \"2020-06-01T00:00:00\", \"ppm\": 416.39}]}}, {\"mode\": \"vega-lite\"});\n</script>",
      "application/papermill.record/text/plain": "alt.Chart(...)"
     },
     "metadata": {
      "scrapbook": {
       "mime_prefix": "application/papermill.record/",
       "name": "co2_scatter"
      }
     },
     "output_type": "display_data"
    }
   ],
   "source": [
    "glue('co2_scatter', co2_scatter, display=False)"
   ]
  },
  {
   "cell_type": "markdown",
   "id": "671ea7a1",
   "metadata": {},
   "source": [
    ":::{glue:figure} co2_scatter \n",
    ":figwidth: 700px \n",
    ":name: co2_scatter\n",
    "\n",
    "Scatter plot of atmospheric concentration of CO$_{2}$ over time.\n",
    ":::\n",
    "\n",
    "\n",
    "> **Note:** We can change the size of the point and color of the plot by specifying `mark_point(size=10, color='black')`. \n",
    "\n",
    "Certainly, the visualization in {numref}`co2_scatter` \n",
    "shows a clear upward trend \n",
    "in the atmospheric concentration of CO$_{\\text{2}}$ over time.\n",
    "This plot answers the first part of our question in the affirmative, \n",
    "but that appears to be the only conclusion one can make \n",
    "from the scatter visualization. \n",
    "\n",
    "One important thing to note about this data is that one of the variables\n",
    "we are exploring is time.\n",
    "Time is a special kind of quantitative variable \n",
    "because it forces additional structure on the data&mdash;the \n",
    "data points have a natural order. \n",
    "Specifically, each observation in the data set has a predecessor \n",
    "and a successor, and the order of the observations matters; changing their order \n",
    "alters their meaning.\n",
    "In situations like this, we typically use a line plot to visualize\n",
    "the data. Line plots connect the sequence of `x` and `y` coordinates\n",
    "of the observations with line segments, thereby emphasizing their order.\n",
    "\n",
    "We can create a line plot in `altair` using the `mark_line` function. \n",
    "Let's now try to visualize the `co2_df` as a line plot \n",
    "with just the default arguments: \n",
    "\\index{ggplot!geom\\_line}"
   ]
  },
  {
   "cell_type": "code",
   "execution_count": 9,
   "id": "53114704",
   "metadata": {
    "execution": {
     "iopub.execute_input": "2022-07-19T22:59:15.310241Z",
     "iopub.status.busy": "2022-07-19T22:59:15.310104Z",
     "iopub.status.idle": "2022-07-19T22:59:15.315520Z",
     "shell.execute_reply": "2022-07-19T22:59:15.315201Z"
    }
   },
   "outputs": [],
   "source": [
    "co2_line = alt.Chart(co2_df).mark_line(color='black').encode(\n",
    "    x = \"date_measured\", \n",
    "    y = alt.Y(\"ppm\", scale=alt.Scale(zero=False)))\n",
    "\n"
   ]
  },
  {
   "cell_type": "code",
   "execution_count": 10,
   "id": "6e5b3e76",
   "metadata": {
    "execution": {
     "iopub.execute_input": "2022-07-19T22:59:15.317417Z",
     "iopub.status.busy": "2022-07-19T22:59:15.317271Z",
     "iopub.status.idle": "2022-07-19T22:59:15.325275Z",
     "shell.execute_reply": "2022-07-19T22:59:15.324950Z"
    },
    "tags": [
     "remove-cell"
    ]
   },
   "outputs": [
    {
     "data": {
      "application/papermill.record/text/html": "\n<div id=\"altair-viz-68d0296bf9b44d5abd639b9fe7dd1a5f\"></div>\n<script type=\"text/javascript\">\n  var VEGA_DEBUG = (typeof VEGA_DEBUG == \"undefined\") ? {} : VEGA_DEBUG;\n  (function(spec, embedOpt){\n    let outputDiv = document.currentScript.previousElementSibling;\n    if (outputDiv.id !== \"altair-viz-68d0296bf9b44d5abd639b9fe7dd1a5f\") {\n      outputDiv = document.getElementById(\"altair-viz-68d0296bf9b44d5abd639b9fe7dd1a5f\");\n    }\n    const paths = {\n      \"vega\": \"https://cdn.jsdelivr.net/npm//vega@5?noext\",\n      \"vega-lib\": \"https://cdn.jsdelivr.net/npm//vega-lib?noext\",\n      \"vega-lite\": \"https://cdn.jsdelivr.net/npm//vega-lite@4.17.0?noext\",\n      \"vega-embed\": \"https://cdn.jsdelivr.net/npm//vega-embed@6?noext\",\n    };\n\n    function maybeLoadScript(lib, version) {\n      var key = `${lib.replace(\"-\", \"\")}_version`;\n      return (VEGA_DEBUG[key] == version) ?\n        Promise.resolve(paths[lib]) :\n        new Promise(function(resolve, reject) {\n          var s = document.createElement('script');\n          document.getElementsByTagName(\"head\")[0].appendChild(s);\n          s.async = true;\n          s.onload = () => {\n            VEGA_DEBUG[key] = version;\n            return resolve(paths[lib]);\n          };\n          s.onerror = () => reject(`Error loading script: ${paths[lib]}`);\n          s.src = paths[lib];\n        });\n    }\n\n    function showError(err) {\n      outputDiv.innerHTML = `<div class=\"error\" style=\"color:red;\">${err}</div>`;\n      throw err;\n    }\n\n    function displayChart(vegaEmbed) {\n      vegaEmbed(outputDiv, spec, embedOpt)\n        .catch(err => showError(`Javascript Error: ${err.message}<br>This usually means there's a typo in your chart specification. See the javascript console for the full traceback.`));\n    }\n\n    if(typeof define === \"function\" && define.amd) {\n      requirejs.config({paths});\n      require([\"vega-embed\"], displayChart, err => showError(`Error loading script: ${err.message}`));\n    } else {\n      maybeLoadScript(\"vega\", \"5\")\n        .then(() => maybeLoadScript(\"vega-lite\", \"4.17.0\"))\n        .then(() => maybeLoadScript(\"vega-embed\", \"6\"))\n        .catch(showError)\n        .then(() => displayChart(vegaEmbed));\n    }\n  })({\"config\": {\"view\": {\"continuousWidth\": 400, \"continuousHeight\": 300}}, \"data\": {\"name\": \"data-ecfc281786dd23148efa483af3159f83\"}, \"mark\": {\"type\": \"line\", \"color\": \"black\"}, \"encoding\": {\"x\": {\"field\": \"date_measured\", \"type\": \"temporal\"}, \"y\": {\"field\": \"ppm\", \"scale\": {\"zero\": false}, \"type\": \"quantitative\"}}, \"$schema\": \"https://vega.github.io/schema/vega-lite/v4.17.0.json\", \"datasets\": {\"data-ecfc281786dd23148efa483af3159f83\": [{\"date_measured\": \"1980-02-01T00:00:00\", \"ppm\": 338.34}, {\"date_measured\": \"1980-03-01T00:00:00\", \"ppm\": 340.01}, {\"date_measured\": \"1980-04-01T00:00:00\", \"ppm\": 340.93}, {\"date_measured\": \"1980-05-01T00:00:00\", \"ppm\": 341.48}, {\"date_measured\": \"1980-06-01T00:00:00\", \"ppm\": 341.33}, {\"date_measured\": \"1980-07-01T00:00:00\", \"ppm\": 339.4}, {\"date_measured\": \"1980-08-01T00:00:00\", \"ppm\": 337.7}, {\"date_measured\": \"1980-09-01T00:00:00\", \"ppm\": 336.19}, {\"date_measured\": \"1980-10-01T00:00:00\", \"ppm\": 336.15}, {\"date_measured\": \"1980-11-01T00:00:00\", \"ppm\": 337.27}, {\"date_measured\": \"1980-12-01T00:00:00\", \"ppm\": 338.32}, {\"date_measured\": \"1981-01-01T00:00:00\", \"ppm\": 339.29}, {\"date_measured\": \"1981-02-01T00:00:00\", \"ppm\": 340.55}, {\"date_measured\": \"1981-03-01T00:00:00\", \"ppm\": 341.61}, {\"date_measured\": \"1981-04-01T00:00:00\", \"ppm\": 342.53}, {\"date_measured\": \"1981-05-01T00:00:00\", \"ppm\": 343.03}, {\"date_measured\": \"1981-06-01T00:00:00\", \"ppm\": 342.54}, {\"date_measured\": \"1981-07-01T00:00:00\", \"ppm\": 340.78}, {\"date_measured\": \"1981-08-01T00:00:00\", \"ppm\": 338.44}, {\"date_measured\": \"1981-09-01T00:00:00\", \"ppm\": 336.95}, {\"date_measured\": \"1981-10-01T00:00:00\", \"ppm\": 337.08}, {\"date_measured\": \"1981-11-01T00:00:00\", \"ppm\": 338.58}, {\"date_measured\": \"1981-12-01T00:00:00\", \"ppm\": 339.88}, {\"date_measured\": \"1982-01-01T00:00:00\", \"ppm\": 340.96}, {\"date_measured\": \"1982-02-01T00:00:00\", \"ppm\": 341.73}, {\"date_measured\": \"1982-03-01T00:00:00\", \"ppm\": 342.81}, {\"date_measured\": \"1982-04-01T00:00:00\", \"ppm\": 343.97}, {\"date_measured\": \"1982-05-01T00:00:00\", \"ppm\": 344.63}, {\"date_measured\": \"1982-06-01T00:00:00\", \"ppm\": 343.79}, {\"date_measured\": \"1982-07-01T00:00:00\", \"ppm\": 342.32}, {\"date_measured\": \"1982-08-01T00:00:00\", \"ppm\": 340.09}, {\"date_measured\": \"1982-09-01T00:00:00\", \"ppm\": 338.28}, {\"date_measured\": \"1982-10-01T00:00:00\", \"ppm\": 338.29}, {\"date_measured\": \"1982-11-01T00:00:00\", \"ppm\": 339.6}, {\"date_measured\": \"1982-12-01T00:00:00\", \"ppm\": 340.9}, {\"date_measured\": \"1983-01-01T00:00:00\", \"ppm\": 341.68}, {\"date_measured\": \"1983-02-01T00:00:00\", \"ppm\": 342.9}, {\"date_measured\": \"1983-03-01T00:00:00\", \"ppm\": 343.33}, {\"date_measured\": \"1983-04-01T00:00:00\", \"ppm\": 345.25}, {\"date_measured\": \"1983-05-01T00:00:00\", \"ppm\": 346.03}, {\"date_measured\": \"1983-06-01T00:00:00\", \"ppm\": 345.63}, {\"date_measured\": \"1983-07-01T00:00:00\", \"ppm\": 344.19}, {\"date_measured\": \"1983-08-01T00:00:00\", \"ppm\": 342.27}, {\"date_measured\": \"1983-09-01T00:00:00\", \"ppm\": 340.35}, {\"date_measured\": \"1983-10-01T00:00:00\", \"ppm\": 340.38}, {\"date_measured\": \"1983-11-01T00:00:00\", \"ppm\": 341.59}, {\"date_measured\": \"1983-12-01T00:00:00\", \"ppm\": 343.05}, {\"date_measured\": \"1984-01-01T00:00:00\", \"ppm\": 344.1}, {\"date_measured\": \"1984-02-01T00:00:00\", \"ppm\": 344.79}, {\"date_measured\": \"1984-03-01T00:00:00\", \"ppm\": 345.52}, {\"date_measured\": \"1984-05-01T00:00:00\", \"ppm\": 347.63}, {\"date_measured\": \"1984-06-01T00:00:00\", \"ppm\": 346.98}, {\"date_measured\": \"1984-07-01T00:00:00\", \"ppm\": 345.53}, {\"date_measured\": \"1984-08-01T00:00:00\", \"ppm\": 343.55}, {\"date_measured\": \"1984-09-01T00:00:00\", \"ppm\": 341.4}, {\"date_measured\": \"1984-10-01T00:00:00\", \"ppm\": 341.67}, {\"date_measured\": \"1984-11-01T00:00:00\", \"ppm\": 343.1}, {\"date_measured\": \"1984-12-01T00:00:00\", \"ppm\": 344.7}, {\"date_measured\": \"1985-01-01T00:00:00\", \"ppm\": 345.21}, {\"date_measured\": \"1985-02-01T00:00:00\", \"ppm\": 346.16}, {\"date_measured\": \"1985-03-01T00:00:00\", \"ppm\": 347.74}, {\"date_measured\": \"1985-04-01T00:00:00\", \"ppm\": 348.34}, {\"date_measured\": \"1985-05-01T00:00:00\", \"ppm\": 349.06}, {\"date_measured\": \"1985-06-01T00:00:00\", \"ppm\": 348.38}, {\"date_measured\": \"1985-07-01T00:00:00\", \"ppm\": 346.71}, {\"date_measured\": \"1985-08-01T00:00:00\", \"ppm\": 345.02}, {\"date_measured\": \"1985-09-01T00:00:00\", \"ppm\": 343.27}, {\"date_measured\": \"1985-10-01T00:00:00\", \"ppm\": 343.13}, {\"date_measured\": \"1985-11-01T00:00:00\", \"ppm\": 344.49}, {\"date_measured\": \"1985-12-01T00:00:00\", \"ppm\": 345.88}, {\"date_measured\": \"1986-01-01T00:00:00\", \"ppm\": 346.56}, {\"date_measured\": \"1986-02-01T00:00:00\", \"ppm\": 347.28}, {\"date_measured\": \"1986-03-01T00:00:00\", \"ppm\": 348.01}, {\"date_measured\": \"1986-04-01T00:00:00\", \"ppm\": 349.77}, {\"date_measured\": \"1986-05-01T00:00:00\", \"ppm\": 350.38}, {\"date_measured\": \"1986-06-01T00:00:00\", \"ppm\": 349.93}, {\"date_measured\": \"1986-07-01T00:00:00\", \"ppm\": 348.16}, {\"date_measured\": \"1986-08-01T00:00:00\", \"ppm\": 346.08}, {\"date_measured\": \"1986-09-01T00:00:00\", \"ppm\": 345.22}, {\"date_measured\": \"1986-10-01T00:00:00\", \"ppm\": 344.51}, {\"date_measured\": \"1986-11-01T00:00:00\", \"ppm\": 345.93}, {\"date_measured\": \"1986-12-01T00:00:00\", \"ppm\": 347.22}, {\"date_measured\": \"1987-01-01T00:00:00\", \"ppm\": 348.52}, {\"date_measured\": \"1987-02-01T00:00:00\", \"ppm\": 348.73}, {\"date_measured\": \"1987-03-01T00:00:00\", \"ppm\": 349.73}, {\"date_measured\": \"1987-04-01T00:00:00\", \"ppm\": 351.31}, {\"date_measured\": \"1987-05-01T00:00:00\", \"ppm\": 352.09}, {\"date_measured\": \"1987-06-01T00:00:00\", \"ppm\": 351.53}, {\"date_measured\": \"1987-07-01T00:00:00\", \"ppm\": 350.11}, {\"date_measured\": \"1987-08-01T00:00:00\", \"ppm\": 348.08}, {\"date_measured\": \"1987-09-01T00:00:00\", \"ppm\": 346.52}, {\"date_measured\": \"1987-10-01T00:00:00\", \"ppm\": 346.59}, {\"date_measured\": \"1987-11-01T00:00:00\", \"ppm\": 347.96}, {\"date_measured\": \"1987-12-01T00:00:00\", \"ppm\": 349.16}, {\"date_measured\": \"1988-01-01T00:00:00\", \"ppm\": 350.39}, {\"date_measured\": \"1988-02-01T00:00:00\", \"ppm\": 351.64}, {\"date_measured\": \"1988-03-01T00:00:00\", \"ppm\": 352.4}, {\"date_measured\": \"1988-04-01T00:00:00\", \"ppm\": 353.69}, {\"date_measured\": \"1988-05-01T00:00:00\", \"ppm\": 354.21}, {\"date_measured\": \"1988-06-01T00:00:00\", \"ppm\": 353.72}, {\"date_measured\": \"1988-07-01T00:00:00\", \"ppm\": 352.69}, {\"date_measured\": \"1988-08-01T00:00:00\", \"ppm\": 350.4}, {\"date_measured\": \"1988-09-01T00:00:00\", \"ppm\": 348.92}, {\"date_measured\": \"1988-10-01T00:00:00\", \"ppm\": 349.13}, {\"date_measured\": \"1988-11-01T00:00:00\", \"ppm\": 350.2}, {\"date_measured\": \"1988-12-01T00:00:00\", \"ppm\": 351.41}, {\"date_measured\": \"1989-01-01T00:00:00\", \"ppm\": 352.91}, {\"date_measured\": \"1989-02-01T00:00:00\", \"ppm\": 353.27}, {\"date_measured\": \"1989-03-01T00:00:00\", \"ppm\": 353.96}, {\"date_measured\": \"1989-04-01T00:00:00\", \"ppm\": 355.64}, {\"date_measured\": \"1989-05-01T00:00:00\", \"ppm\": 355.86}, {\"date_measured\": \"1989-06-01T00:00:00\", \"ppm\": 355.37}, {\"date_measured\": \"1989-07-01T00:00:00\", \"ppm\": 353.99}, {\"date_measured\": \"1989-08-01T00:00:00\", \"ppm\": 351.81}, {\"date_measured\": \"1989-09-01T00:00:00\", \"ppm\": 350.05}, {\"date_measured\": \"1989-10-01T00:00:00\", \"ppm\": 350.25}, {\"date_measured\": \"1989-11-01T00:00:00\", \"ppm\": 351.49}, {\"date_measured\": \"1989-12-01T00:00:00\", \"ppm\": 352.85}, {\"date_measured\": \"1990-01-01T00:00:00\", \"ppm\": 353.8}, {\"date_measured\": \"1990-02-01T00:00:00\", \"ppm\": 355.04}, {\"date_measured\": \"1990-03-01T00:00:00\", \"ppm\": 355.73}, {\"date_measured\": \"1990-04-01T00:00:00\", \"ppm\": 356.32}, {\"date_measured\": \"1990-05-01T00:00:00\", \"ppm\": 357.32}, {\"date_measured\": \"1990-06-01T00:00:00\", \"ppm\": 356.34}, {\"date_measured\": \"1990-07-01T00:00:00\", \"ppm\": 354.84}, {\"date_measured\": \"1990-08-01T00:00:00\", \"ppm\": 353.01}, {\"date_measured\": \"1990-09-01T00:00:00\", \"ppm\": 351.31}, {\"date_measured\": \"1990-10-01T00:00:00\", \"ppm\": 351.62}, {\"date_measured\": \"1990-11-01T00:00:00\", \"ppm\": 353.07}, {\"date_measured\": \"1990-12-01T00:00:00\", \"ppm\": 354.33}, {\"date_measured\": \"1991-01-01T00:00:00\", \"ppm\": 354.84}, {\"date_measured\": \"1991-02-01T00:00:00\", \"ppm\": 355.73}, {\"date_measured\": \"1991-03-01T00:00:00\", \"ppm\": 357.23}, {\"date_measured\": \"1991-04-01T00:00:00\", \"ppm\": 358.66}, {\"date_measured\": \"1991-05-01T00:00:00\", \"ppm\": 359.13}, {\"date_measured\": \"1991-06-01T00:00:00\", \"ppm\": 358.13}, {\"date_measured\": \"1991-07-01T00:00:00\", \"ppm\": 356.19}, {\"date_measured\": \"1991-08-01T00:00:00\", \"ppm\": 353.85}, {\"date_measured\": \"1991-09-01T00:00:00\", \"ppm\": 352.25}, {\"date_measured\": \"1991-10-01T00:00:00\", \"ppm\": 352.35}, {\"date_measured\": \"1991-11-01T00:00:00\", \"ppm\": 353.81}, {\"date_measured\": \"1991-12-01T00:00:00\", \"ppm\": 355.12}, {\"date_measured\": \"1992-01-01T00:00:00\", \"ppm\": 356.25}, {\"date_measured\": \"1992-02-01T00:00:00\", \"ppm\": 357.11}, {\"date_measured\": \"1992-03-01T00:00:00\", \"ppm\": 357.86}, {\"date_measured\": \"1992-04-01T00:00:00\", \"ppm\": 359.09}, {\"date_measured\": \"1992-05-01T00:00:00\", \"ppm\": 359.59}, {\"date_measured\": \"1992-06-01T00:00:00\", \"ppm\": 359.33}, {\"date_measured\": \"1992-07-01T00:00:00\", \"ppm\": 357.01}, {\"date_measured\": \"1992-08-01T00:00:00\", \"ppm\": 354.94}, {\"date_measured\": \"1992-09-01T00:00:00\", \"ppm\": 352.95}, {\"date_measured\": \"1992-10-01T00:00:00\", \"ppm\": 353.32}, {\"date_measured\": \"1992-11-01T00:00:00\", \"ppm\": 354.32}, {\"date_measured\": \"1992-12-01T00:00:00\", \"ppm\": 355.57}, {\"date_measured\": \"1993-01-01T00:00:00\", \"ppm\": 357.0}, {\"date_measured\": \"1993-02-01T00:00:00\", \"ppm\": 357.31}, {\"date_measured\": \"1993-03-01T00:00:00\", \"ppm\": 358.47}, {\"date_measured\": \"1993-04-01T00:00:00\", \"ppm\": 359.27}, {\"date_measured\": \"1993-05-01T00:00:00\", \"ppm\": 360.19}, {\"date_measured\": \"1993-06-01T00:00:00\", \"ppm\": 359.52}, {\"date_measured\": \"1993-07-01T00:00:00\", \"ppm\": 357.33}, {\"date_measured\": \"1993-08-01T00:00:00\", \"ppm\": 355.64}, {\"date_measured\": \"1993-09-01T00:00:00\", \"ppm\": 354.03}, {\"date_measured\": \"1993-10-01T00:00:00\", \"ppm\": 354.12}, {\"date_measured\": \"1993-11-01T00:00:00\", \"ppm\": 355.41}, {\"date_measured\": \"1993-12-01T00:00:00\", \"ppm\": 356.91}, {\"date_measured\": \"1994-01-01T00:00:00\", \"ppm\": 358.24}, {\"date_measured\": \"1994-02-01T00:00:00\", \"ppm\": 358.92}, {\"date_measured\": \"1994-03-01T00:00:00\", \"ppm\": 359.99}, {\"date_measured\": \"1994-04-01T00:00:00\", \"ppm\": 361.23}, {\"date_measured\": \"1994-05-01T00:00:00\", \"ppm\": 361.65}, {\"date_measured\": \"1994-06-01T00:00:00\", \"ppm\": 360.81}, {\"date_measured\": \"1994-07-01T00:00:00\", \"ppm\": 359.38}, {\"date_measured\": \"1994-08-01T00:00:00\", \"ppm\": 357.46}, {\"date_measured\": \"1994-09-01T00:00:00\", \"ppm\": 355.73}, {\"date_measured\": \"1994-10-01T00:00:00\", \"ppm\": 356.08}, {\"date_measured\": \"1994-11-01T00:00:00\", \"ppm\": 357.53}, {\"date_measured\": \"1994-12-01T00:00:00\", \"ppm\": 358.98}, {\"date_measured\": \"1995-01-01T00:00:00\", \"ppm\": 359.92}, {\"date_measured\": \"1995-02-01T00:00:00\", \"ppm\": 360.86}, {\"date_measured\": \"1995-03-01T00:00:00\", \"ppm\": 361.83}, {\"date_measured\": \"1995-04-01T00:00:00\", \"ppm\": 363.3}, {\"date_measured\": \"1995-05-01T00:00:00\", \"ppm\": 363.69}, {\"date_measured\": \"1995-06-01T00:00:00\", \"ppm\": 363.19}, {\"date_measured\": \"1995-07-01T00:00:00\", \"ppm\": 361.64}, {\"date_measured\": \"1995-08-01T00:00:00\", \"ppm\": 359.12}, {\"date_measured\": \"1995-09-01T00:00:00\", \"ppm\": 358.17}, {\"date_measured\": \"1995-10-01T00:00:00\", \"ppm\": 357.99}, {\"date_measured\": \"1995-11-01T00:00:00\", \"ppm\": 359.45}, {\"date_measured\": \"1995-12-01T00:00:00\", \"ppm\": 360.68}, {\"date_measured\": \"1996-01-01T00:00:00\", \"ppm\": 362.07}, {\"date_measured\": \"1996-02-01T00:00:00\", \"ppm\": 363.24}, {\"date_measured\": \"1996-03-01T00:00:00\", \"ppm\": 364.17}, {\"date_measured\": \"1996-04-01T00:00:00\", \"ppm\": 364.57}, {\"date_measured\": \"1996-05-01T00:00:00\", \"ppm\": 365.13}, {\"date_measured\": \"1996-06-01T00:00:00\", \"ppm\": 364.92}, {\"date_measured\": \"1996-07-01T00:00:00\", \"ppm\": 363.55}, {\"date_measured\": \"1996-08-01T00:00:00\", \"ppm\": 361.38}, {\"date_measured\": \"1996-09-01T00:00:00\", \"ppm\": 359.54}, {\"date_measured\": \"1996-10-01T00:00:00\", \"ppm\": 359.58}, {\"date_measured\": \"1996-11-01T00:00:00\", \"ppm\": 360.89}, {\"date_measured\": \"1996-12-01T00:00:00\", \"ppm\": 362.24}, {\"date_measured\": \"1997-01-01T00:00:00\", \"ppm\": 363.09}, {\"date_measured\": \"1997-02-01T00:00:00\", \"ppm\": 364.03}, {\"date_measured\": \"1997-03-01T00:00:00\", \"ppm\": 364.51}, {\"date_measured\": \"1997-04-01T00:00:00\", \"ppm\": 366.35}, {\"date_measured\": \"1997-05-01T00:00:00\", \"ppm\": 366.64}, {\"date_measured\": \"1997-06-01T00:00:00\", \"ppm\": 365.59}, {\"date_measured\": \"1997-07-01T00:00:00\", \"ppm\": 364.31}, {\"date_measured\": \"1997-08-01T00:00:00\", \"ppm\": 362.25}, {\"date_measured\": \"1997-09-01T00:00:00\", \"ppm\": 360.29}, {\"date_measured\": \"1997-10-01T00:00:00\", \"ppm\": 360.82}, {\"date_measured\": \"1997-11-01T00:00:00\", \"ppm\": 362.49}, {\"date_measured\": \"1997-12-01T00:00:00\", \"ppm\": 364.38}, {\"date_measured\": \"1998-01-01T00:00:00\", \"ppm\": 365.27}, {\"date_measured\": \"1998-02-01T00:00:00\", \"ppm\": 365.98}, {\"date_measured\": \"1998-03-01T00:00:00\", \"ppm\": 367.24}, {\"date_measured\": \"1998-04-01T00:00:00\", \"ppm\": 368.66}, {\"date_measured\": \"1998-05-01T00:00:00\", \"ppm\": 369.42}, {\"date_measured\": \"1998-06-01T00:00:00\", \"ppm\": 368.99}, {\"date_measured\": \"1998-07-01T00:00:00\", \"ppm\": 367.82}, {\"date_measured\": \"1998-08-01T00:00:00\", \"ppm\": 365.95}, {\"date_measured\": \"1998-09-01T00:00:00\", \"ppm\": 364.02}, {\"date_measured\": \"1998-10-01T00:00:00\", \"ppm\": 364.4}, {\"date_measured\": \"1998-11-01T00:00:00\", \"ppm\": 365.52}, {\"date_measured\": \"1998-12-01T00:00:00\", \"ppm\": 367.13}, {\"date_measured\": \"1999-01-01T00:00:00\", \"ppm\": 368.18}, {\"date_measured\": \"1999-02-01T00:00:00\", \"ppm\": 369.07}, {\"date_measured\": \"1999-03-01T00:00:00\", \"ppm\": 369.68}, {\"date_measured\": \"1999-04-01T00:00:00\", \"ppm\": 370.99}, {\"date_measured\": \"1999-05-01T00:00:00\", \"ppm\": 370.96}, {\"date_measured\": \"1999-06-01T00:00:00\", \"ppm\": 370.3}, {\"date_measured\": \"1999-07-01T00:00:00\", \"ppm\": 369.45}, {\"date_measured\": \"1999-08-01T00:00:00\", \"ppm\": 366.9}, {\"date_measured\": \"1999-09-01T00:00:00\", \"ppm\": 364.81}, {\"date_measured\": \"1999-10-01T00:00:00\", \"ppm\": 365.37}, {\"date_measured\": \"1999-11-01T00:00:00\", \"ppm\": 366.72}, {\"date_measured\": \"1999-12-01T00:00:00\", \"ppm\": 368.1}, {\"date_measured\": \"2000-01-01T00:00:00\", \"ppm\": 369.29}, {\"date_measured\": \"2000-02-01T00:00:00\", \"ppm\": 369.55}, {\"date_measured\": \"2000-03-01T00:00:00\", \"ppm\": 370.6}, {\"date_measured\": \"2000-04-01T00:00:00\", \"ppm\": 371.82}, {\"date_measured\": \"2000-05-01T00:00:00\", \"ppm\": 371.58}, {\"date_measured\": \"2000-06-01T00:00:00\", \"ppm\": 371.7}, {\"date_measured\": \"2000-07-01T00:00:00\", \"ppm\": 369.86}, {\"date_measured\": \"2000-08-01T00:00:00\", \"ppm\": 368.13}, {\"date_measured\": \"2000-09-01T00:00:00\", \"ppm\": 367.0}, {\"date_measured\": \"2000-10-01T00:00:00\", \"ppm\": 367.03}, {\"date_measured\": \"2000-11-01T00:00:00\", \"ppm\": 368.37}, {\"date_measured\": \"2000-12-01T00:00:00\", \"ppm\": 369.67}, {\"date_measured\": \"2001-01-01T00:00:00\", \"ppm\": 370.59}, {\"date_measured\": \"2001-02-01T00:00:00\", \"ppm\": 371.51}, {\"date_measured\": \"2001-03-01T00:00:00\", \"ppm\": 372.43}, {\"date_measured\": \"2001-04-01T00:00:00\", \"ppm\": 373.37}, {\"date_measured\": \"2001-05-01T00:00:00\", \"ppm\": 373.85}, {\"date_measured\": \"2001-06-01T00:00:00\", \"ppm\": 373.22}, {\"date_measured\": \"2001-07-01T00:00:00\", \"ppm\": 371.5}, {\"date_measured\": \"2001-08-01T00:00:00\", \"ppm\": 369.61}, {\"date_measured\": \"2001-09-01T00:00:00\", \"ppm\": 368.18}, {\"date_measured\": \"2001-10-01T00:00:00\", \"ppm\": 368.45}, {\"date_measured\": \"2001-11-01T00:00:00\", \"ppm\": 369.76}, {\"date_measured\": \"2001-12-01T00:00:00\", \"ppm\": 371.24}, {\"date_measured\": \"2002-01-01T00:00:00\", \"ppm\": 372.53}, {\"date_measured\": \"2002-02-01T00:00:00\", \"ppm\": 373.2}, {\"date_measured\": \"2002-03-01T00:00:00\", \"ppm\": 374.12}, {\"date_measured\": \"2002-04-01T00:00:00\", \"ppm\": 375.02}, {\"date_measured\": \"2002-05-01T00:00:00\", \"ppm\": 375.76}, {\"date_measured\": \"2002-06-01T00:00:00\", \"ppm\": 375.52}, {\"date_measured\": \"2002-07-01T00:00:00\", \"ppm\": 374.01}, {\"date_measured\": \"2002-08-01T00:00:00\", \"ppm\": 371.85}, {\"date_measured\": \"2002-09-01T00:00:00\", \"ppm\": 370.75}, {\"date_measured\": \"2002-10-01T00:00:00\", \"ppm\": 370.55}, {\"date_measured\": \"2002-11-01T00:00:00\", \"ppm\": 372.25}, {\"date_measured\": \"2002-12-01T00:00:00\", \"ppm\": 373.79}, {\"date_measured\": \"2003-01-01T00:00:00\", \"ppm\": 374.88}, {\"date_measured\": \"2003-02-01T00:00:00\", \"ppm\": 375.64}, {\"date_measured\": \"2003-03-01T00:00:00\", \"ppm\": 376.45}, {\"date_measured\": \"2003-04-01T00:00:00\", \"ppm\": 377.73}, {\"date_measured\": \"2003-05-01T00:00:00\", \"ppm\": 378.6}, {\"date_measured\": \"2003-06-01T00:00:00\", \"ppm\": 378.28}, {\"date_measured\": \"2003-07-01T00:00:00\", \"ppm\": 376.7}, {\"date_measured\": \"2003-08-01T00:00:00\", \"ppm\": 374.38}, {\"date_measured\": \"2003-09-01T00:00:00\", \"ppm\": 373.17}, {\"date_measured\": \"2003-10-01T00:00:00\", \"ppm\": 373.15}, {\"date_measured\": \"2003-11-01T00:00:00\", \"ppm\": 374.66}, {\"date_measured\": \"2003-12-01T00:00:00\", \"ppm\": 375.99}, {\"date_measured\": \"2004-01-01T00:00:00\", \"ppm\": 377.0}, {\"date_measured\": \"2004-02-01T00:00:00\", \"ppm\": 377.87}, {\"date_measured\": \"2004-03-01T00:00:00\", \"ppm\": 378.88}, {\"date_measured\": \"2004-04-01T00:00:00\", \"ppm\": 380.35}, {\"date_measured\": \"2004-05-01T00:00:00\", \"ppm\": 380.62}, {\"date_measured\": \"2004-06-01T00:00:00\", \"ppm\": 379.69}, {\"date_measured\": \"2004-07-01T00:00:00\", \"ppm\": 377.47}, {\"date_measured\": \"2004-08-01T00:00:00\", \"ppm\": 376.01}, {\"date_measured\": \"2004-09-01T00:00:00\", \"ppm\": 374.25}, {\"date_measured\": \"2004-10-01T00:00:00\", \"ppm\": 374.46}, {\"date_measured\": \"2004-11-01T00:00:00\", \"ppm\": 376.16}, {\"date_measured\": \"2004-12-01T00:00:00\", \"ppm\": 377.51}, {\"date_measured\": \"2005-01-01T00:00:00\", \"ppm\": 378.46}, {\"date_measured\": \"2005-02-01T00:00:00\", \"ppm\": 379.73}, {\"date_measured\": \"2005-03-01T00:00:00\", \"ppm\": 380.77}, {\"date_measured\": \"2005-04-01T00:00:00\", \"ppm\": 382.29}, {\"date_measured\": \"2005-05-01T00:00:00\", \"ppm\": 382.45}, {\"date_measured\": \"2005-06-01T00:00:00\", \"ppm\": 382.21}, {\"date_measured\": \"2005-07-01T00:00:00\", \"ppm\": 380.74}, {\"date_measured\": \"2005-08-01T00:00:00\", \"ppm\": 378.74}, {\"date_measured\": \"2005-09-01T00:00:00\", \"ppm\": 376.7}, {\"date_measured\": \"2005-10-01T00:00:00\", \"ppm\": 377.0}, {\"date_measured\": \"2005-11-01T00:00:00\", \"ppm\": 378.35}, {\"date_measured\": \"2005-12-01T00:00:00\", \"ppm\": 380.11}, {\"date_measured\": \"2006-01-01T00:00:00\", \"ppm\": 381.38}, {\"date_measured\": \"2006-02-01T00:00:00\", \"ppm\": 382.2}, {\"date_measured\": \"2006-03-01T00:00:00\", \"ppm\": 382.67}, {\"date_measured\": \"2006-04-01T00:00:00\", \"ppm\": 384.61}, {\"date_measured\": \"2006-05-01T00:00:00\", \"ppm\": 385.03}, {\"date_measured\": \"2006-06-01T00:00:00\", \"ppm\": 384.05}, {\"date_measured\": \"2006-07-01T00:00:00\", \"ppm\": 382.46}, {\"date_measured\": \"2006-08-01T00:00:00\", \"ppm\": 380.41}, {\"date_measured\": \"2006-09-01T00:00:00\", \"ppm\": 378.85}, {\"date_measured\": \"2006-10-01T00:00:00\", \"ppm\": 379.13}, {\"date_measured\": \"2006-11-01T00:00:00\", \"ppm\": 380.15}, {\"date_measured\": \"2006-12-01T00:00:00\", \"ppm\": 381.82}, {\"date_measured\": \"2007-01-01T00:00:00\", \"ppm\": 382.89}, {\"date_measured\": \"2007-02-01T00:00:00\", \"ppm\": 383.9}, {\"date_measured\": \"2007-03-01T00:00:00\", \"ppm\": 384.58}, {\"date_measured\": \"2007-04-01T00:00:00\", \"ppm\": 386.5}, {\"date_measured\": \"2007-05-01T00:00:00\", \"ppm\": 386.56}, {\"date_measured\": \"2007-06-01T00:00:00\", \"ppm\": 386.1}, {\"date_measured\": \"2007-07-01T00:00:00\", \"ppm\": 384.5}, {\"date_measured\": \"2007-08-01T00:00:00\", \"ppm\": 381.99}, {\"date_measured\": \"2007-09-01T00:00:00\", \"ppm\": 380.96}, {\"date_measured\": \"2007-10-01T00:00:00\", \"ppm\": 381.12}, {\"date_measured\": \"2007-11-01T00:00:00\", \"ppm\": 382.45}, {\"date_measured\": \"2007-12-01T00:00:00\", \"ppm\": 383.94}, {\"date_measured\": \"2008-01-01T00:00:00\", \"ppm\": 385.52}, {\"date_measured\": \"2008-02-01T00:00:00\", \"ppm\": 385.82}, {\"date_measured\": \"2008-03-01T00:00:00\", \"ppm\": 386.03}, {\"date_measured\": \"2008-04-01T00:00:00\", \"ppm\": 387.21}, {\"date_measured\": \"2008-05-01T00:00:00\", \"ppm\": 388.54}, {\"date_measured\": \"2008-06-01T00:00:00\", \"ppm\": 387.76}, {\"date_measured\": \"2008-07-01T00:00:00\", \"ppm\": 386.37}, {\"date_measured\": \"2008-08-01T00:00:00\", \"ppm\": 384.09}, {\"date_measured\": \"2008-09-01T00:00:00\", \"ppm\": 383.18}, {\"date_measured\": \"2008-10-01T00:00:00\", \"ppm\": 382.99}, {\"date_measured\": \"2008-11-01T00:00:00\", \"ppm\": 384.19}, {\"date_measured\": \"2008-12-01T00:00:00\", \"ppm\": 385.56}, {\"date_measured\": \"2009-01-01T00:00:00\", \"ppm\": 386.94}, {\"date_measured\": \"2009-02-01T00:00:00\", \"ppm\": 387.48}, {\"date_measured\": \"2009-03-01T00:00:00\", \"ppm\": 388.82}, {\"date_measured\": \"2009-04-01T00:00:00\", \"ppm\": 389.55}, {\"date_measured\": \"2009-05-01T00:00:00\", \"ppm\": 390.14}, {\"date_measured\": \"2009-06-01T00:00:00\", \"ppm\": 389.48}, {\"date_measured\": \"2009-07-01T00:00:00\", \"ppm\": 388.03}, {\"date_measured\": \"2009-08-01T00:00:00\", \"ppm\": 386.11}, {\"date_measured\": \"2009-09-01T00:00:00\", \"ppm\": 384.74}, {\"date_measured\": \"2009-10-01T00:00:00\", \"ppm\": 384.43}, {\"date_measured\": \"2009-11-01T00:00:00\", \"ppm\": 386.02}, {\"date_measured\": \"2009-12-01T00:00:00\", \"ppm\": 387.42}, {\"date_measured\": \"2010-01-01T00:00:00\", \"ppm\": 388.71}, {\"date_measured\": \"2010-02-01T00:00:00\", \"ppm\": 390.2}, {\"date_measured\": \"2010-03-01T00:00:00\", \"ppm\": 391.17}, {\"date_measured\": \"2010-04-01T00:00:00\", \"ppm\": 392.46}, {\"date_measured\": \"2010-05-01T00:00:00\", \"ppm\": 393.0}, {\"date_measured\": \"2010-06-01T00:00:00\", \"ppm\": 392.15}, {\"date_measured\": \"2010-07-01T00:00:00\", \"ppm\": 390.2}, {\"date_measured\": \"2010-08-01T00:00:00\", \"ppm\": 388.35}, {\"date_measured\": \"2010-09-01T00:00:00\", \"ppm\": 386.85}, {\"date_measured\": \"2010-10-01T00:00:00\", \"ppm\": 387.24}, {\"date_measured\": \"2010-11-01T00:00:00\", \"ppm\": 388.67}, {\"date_measured\": \"2010-12-01T00:00:00\", \"ppm\": 389.79}, {\"date_measured\": \"2011-01-01T00:00:00\", \"ppm\": 391.33}, {\"date_measured\": \"2011-02-01T00:00:00\", \"ppm\": 391.86}, {\"date_measured\": \"2011-03-01T00:00:00\", \"ppm\": 392.6}, {\"date_measured\": \"2011-04-01T00:00:00\", \"ppm\": 393.25}, {\"date_measured\": \"2011-05-01T00:00:00\", \"ppm\": 394.19}, {\"date_measured\": \"2011-06-01T00:00:00\", \"ppm\": 393.74}, {\"date_measured\": \"2011-07-01T00:00:00\", \"ppm\": 392.51}, {\"date_measured\": \"2011-08-01T00:00:00\", \"ppm\": 390.13}, {\"date_measured\": \"2011-09-01T00:00:00\", \"ppm\": 389.08}, {\"date_measured\": \"2011-10-01T00:00:00\", \"ppm\": 389.0}, {\"date_measured\": \"2011-11-01T00:00:00\", \"ppm\": 390.28}, {\"date_measured\": \"2011-12-01T00:00:00\", \"ppm\": 391.86}, {\"date_measured\": \"2012-01-01T00:00:00\", \"ppm\": 393.12}, {\"date_measured\": \"2012-02-01T00:00:00\", \"ppm\": 393.86}, {\"date_measured\": \"2012-03-01T00:00:00\", \"ppm\": 394.4}, {\"date_measured\": \"2012-04-01T00:00:00\", \"ppm\": 396.18}, {\"date_measured\": \"2012-05-01T00:00:00\", \"ppm\": 396.74}, {\"date_measured\": \"2012-06-01T00:00:00\", \"ppm\": 395.71}, {\"date_measured\": \"2012-07-01T00:00:00\", \"ppm\": 394.36}, {\"date_measured\": \"2012-08-01T00:00:00\", \"ppm\": 392.39}, {\"date_measured\": \"2012-09-01T00:00:00\", \"ppm\": 391.11}, {\"date_measured\": \"2012-10-01T00:00:00\", \"ppm\": 391.05}, {\"date_measured\": \"2012-11-01T00:00:00\", \"ppm\": 392.98}, {\"date_measured\": \"2012-12-01T00:00:00\", \"ppm\": 394.34}, {\"date_measured\": \"2013-01-01T00:00:00\", \"ppm\": 395.55}, {\"date_measured\": \"2013-02-01T00:00:00\", \"ppm\": 396.8}, {\"date_measured\": \"2013-03-01T00:00:00\", \"ppm\": 397.43}, {\"date_measured\": \"2013-04-01T00:00:00\", \"ppm\": 398.41}, {\"date_measured\": \"2013-05-01T00:00:00\", \"ppm\": 399.78}, {\"date_measured\": \"2013-06-01T00:00:00\", \"ppm\": 398.6}, {\"date_measured\": \"2013-07-01T00:00:00\", \"ppm\": 397.32}, {\"date_measured\": \"2013-08-01T00:00:00\", \"ppm\": 395.2}, {\"date_measured\": \"2013-09-01T00:00:00\", \"ppm\": 393.45}, {\"date_measured\": \"2013-10-01T00:00:00\", \"ppm\": 393.7}, {\"date_measured\": \"2013-11-01T00:00:00\", \"ppm\": 395.16}, {\"date_measured\": \"2013-12-01T00:00:00\", \"ppm\": 396.84}, {\"date_measured\": \"2014-01-01T00:00:00\", \"ppm\": 397.85}, {\"date_measured\": \"2014-02-01T00:00:00\", \"ppm\": 398.01}, {\"date_measured\": \"2014-03-01T00:00:00\", \"ppm\": 399.77}, {\"date_measured\": \"2014-04-01T00:00:00\", \"ppm\": 401.38}, {\"date_measured\": \"2014-05-01T00:00:00\", \"ppm\": 401.78}, {\"date_measured\": \"2014-06-01T00:00:00\", \"ppm\": 401.25}, {\"date_measured\": \"2014-07-01T00:00:00\", \"ppm\": 399.1}, {\"date_measured\": \"2014-08-01T00:00:00\", \"ppm\": 397.03}, {\"date_measured\": \"2014-09-01T00:00:00\", \"ppm\": 395.38}, {\"date_measured\": \"2014-10-01T00:00:00\", \"ppm\": 396.03}, {\"date_measured\": \"2014-11-01T00:00:00\", \"ppm\": 397.28}, {\"date_measured\": \"2014-12-01T00:00:00\", \"ppm\": 398.91}, {\"date_measured\": \"2015-01-01T00:00:00\", \"ppm\": 399.98}, {\"date_measured\": \"2015-02-01T00:00:00\", \"ppm\": 400.28}, {\"date_measured\": \"2015-03-01T00:00:00\", \"ppm\": 401.54}, {\"date_measured\": \"2015-04-01T00:00:00\", \"ppm\": 403.28}, {\"date_measured\": \"2015-05-01T00:00:00\", \"ppm\": 403.96}, {\"date_measured\": \"2015-06-01T00:00:00\", \"ppm\": 402.8}, {\"date_measured\": \"2015-07-01T00:00:00\", \"ppm\": 401.31}, {\"date_measured\": \"2015-08-01T00:00:00\", \"ppm\": 398.93}, {\"date_measured\": \"2015-09-01T00:00:00\", \"ppm\": 397.63}, {\"date_measured\": \"2015-10-01T00:00:00\", \"ppm\": 398.29}, {\"date_measured\": \"2015-11-01T00:00:00\", \"ppm\": 400.16}, {\"date_measured\": \"2015-12-01T00:00:00\", \"ppm\": 401.85}, {\"date_measured\": \"2016-01-01T00:00:00\", \"ppm\": 402.56}, {\"date_measured\": \"2016-02-01T00:00:00\", \"ppm\": 404.12}, {\"date_measured\": \"2016-03-01T00:00:00\", \"ppm\": 404.87}, {\"date_measured\": \"2016-04-01T00:00:00\", \"ppm\": 407.45}, {\"date_measured\": \"2016-05-01T00:00:00\", \"ppm\": 407.72}, {\"date_measured\": \"2016-06-01T00:00:00\", \"ppm\": 406.83}, {\"date_measured\": \"2016-07-01T00:00:00\", \"ppm\": 404.41}, {\"date_measured\": \"2016-08-01T00:00:00\", \"ppm\": 402.27}, {\"date_measured\": \"2016-09-01T00:00:00\", \"ppm\": 401.05}, {\"date_measured\": \"2016-10-01T00:00:00\", \"ppm\": 401.59}, {\"date_measured\": \"2016-11-01T00:00:00\", \"ppm\": 403.55}, {\"date_measured\": \"2016-12-01T00:00:00\", \"ppm\": 404.45}, {\"date_measured\": \"2017-01-01T00:00:00\", \"ppm\": 406.17}, {\"date_measured\": \"2017-02-01T00:00:00\", \"ppm\": 406.46}, {\"date_measured\": \"2017-03-01T00:00:00\", \"ppm\": 407.22}, {\"date_measured\": \"2017-04-01T00:00:00\", \"ppm\": 409.04}, {\"date_measured\": \"2017-05-01T00:00:00\", \"ppm\": 409.69}, {\"date_measured\": \"2017-06-01T00:00:00\", \"ppm\": 408.88}, {\"date_measured\": \"2017-07-01T00:00:00\", \"ppm\": 407.12}, {\"date_measured\": \"2017-08-01T00:00:00\", \"ppm\": 405.13}, {\"date_measured\": \"2017-09-01T00:00:00\", \"ppm\": 403.37}, {\"date_measured\": \"2017-10-01T00:00:00\", \"ppm\": 403.63}, {\"date_measured\": \"2017-11-01T00:00:00\", \"ppm\": 405.12}, {\"date_measured\": \"2017-12-01T00:00:00\", \"ppm\": 406.81}, {\"date_measured\": \"2018-01-01T00:00:00\", \"ppm\": 407.96}, {\"date_measured\": \"2018-02-01T00:00:00\", \"ppm\": 408.32}, {\"date_measured\": \"2018-03-01T00:00:00\", \"ppm\": 409.41}, {\"date_measured\": \"2018-04-01T00:00:00\", \"ppm\": 410.24}, {\"date_measured\": \"2018-05-01T00:00:00\", \"ppm\": 411.24}, {\"date_measured\": \"2018-06-01T00:00:00\", \"ppm\": 410.79}, {\"date_measured\": \"2018-07-01T00:00:00\", \"ppm\": 408.71}, {\"date_measured\": \"2018-08-01T00:00:00\", \"ppm\": 406.99}, {\"date_measured\": \"2018-09-01T00:00:00\", \"ppm\": 405.51}, {\"date_measured\": \"2018-10-01T00:00:00\", \"ppm\": 406.0}, {\"date_measured\": \"2018-11-01T00:00:00\", \"ppm\": 408.02}, {\"date_measured\": \"2018-12-01T00:00:00\", \"ppm\": 409.07}, {\"date_measured\": \"2019-01-01T00:00:00\", \"ppm\": 410.83}, {\"date_measured\": \"2019-02-01T00:00:00\", \"ppm\": 411.75}, {\"date_measured\": \"2019-03-01T00:00:00\", \"ppm\": 411.97}, {\"date_measured\": \"2019-04-01T00:00:00\", \"ppm\": 413.33}, {\"date_measured\": \"2019-05-01T00:00:00\", \"ppm\": 414.64}, {\"date_measured\": \"2019-06-01T00:00:00\", \"ppm\": 413.93}, {\"date_measured\": \"2019-07-01T00:00:00\", \"ppm\": 411.74}, {\"date_measured\": \"2019-08-01T00:00:00\", \"ppm\": 409.95}, {\"date_measured\": \"2019-09-01T00:00:00\", \"ppm\": 408.54}, {\"date_measured\": \"2019-10-01T00:00:00\", \"ppm\": 408.52}, {\"date_measured\": \"2019-11-01T00:00:00\", \"ppm\": 410.25}, {\"date_measured\": \"2019-12-01T00:00:00\", \"ppm\": 411.76}, {\"date_measured\": \"2020-01-01T00:00:00\", \"ppm\": 413.39}, {\"date_measured\": \"2020-02-01T00:00:00\", \"ppm\": 414.11}, {\"date_measured\": \"2020-03-01T00:00:00\", \"ppm\": 414.51}, {\"date_measured\": \"2020-04-01T00:00:00\", \"ppm\": 416.21}, {\"date_measured\": \"2020-05-01T00:00:00\", \"ppm\": 417.07}, {\"date_measured\": \"2020-06-01T00:00:00\", \"ppm\": 416.39}]}}, {\"mode\": \"vega-lite\"});\n</script>",
      "application/papermill.record/text/plain": "alt.Chart(...)"
     },
     "metadata": {
      "scrapbook": {
       "mime_prefix": "application/papermill.record/",
       "name": "co2_line"
      }
     },
     "output_type": "display_data"
    }
   ],
   "source": [
    "glue('co2_line', co2_line, display=False)"
   ]
  },
  {
   "cell_type": "markdown",
   "id": "5b01c5a2",
   "metadata": {},
   "source": [
    ":::{glue:figure} co2_line\n",
    ":figwidth: 700px \n",
    ":name: co2_line\n",
    "\n",
    "Line plot of atmospheric concentration of CO$_{2}$ over time.\n",
    ":::\n",
    "\n",
    "\n",
    "Aha! {numref}`co2_line` shows us there *is* another interesting\n",
    "phenomenon in the data: in addition to increasing over time, the concentration\n",
    "seems to oscillate as well.  Given the visualization as it is now, it is still\n",
    "hard to tell how fast the oscillation is, but nevertheless, the line seems to\n",
    "be a better choice for answering the question than the scatter plot was. The\n",
    "comparison between these two visualizations also illustrates a common issue with\n",
    "scatter plots: often, the points are shown too close together or even on top of\n",
    "one another, muddling information that would otherwise be clear\n",
    "(*overplotting*). \\index{overplotting}\n",
    "\n",
    "Now that we have settled on the rough details of the visualization, it is time\n",
    "to refine things. This plot is fairly straightforward, and there is not much\n",
    "visual noise to remove. But there are a few things we must do to improve\n",
    "clarity, such as adding informative axis labels and making the font a more\n",
    "readable size.  To add axis labels, we use the `title` argument along with `alt.X` and `alt.Y` functions. To\n",
    "change the font size, we use the `configure_axis` function with the `titleFontSize` argument:\n",
    "\\index{ggplot!xlab,ylab}\n",
    "\\index{ggplot!theme}"
   ]
  },
  {
   "cell_type": "code",
   "execution_count": 11,
   "id": "4bba6ba5",
   "metadata": {
    "execution": {
     "iopub.execute_input": "2022-07-19T22:59:15.327268Z",
     "iopub.status.busy": "2022-07-19T22:59:15.327122Z",
     "iopub.status.idle": "2022-07-19T22:59:15.330464Z",
     "shell.execute_reply": "2022-07-19T22:59:15.330117Z"
    }
   },
   "outputs": [],
   "source": [
    "co2_line_labels = alt.Chart(co2_df).mark_line(color='black').encode(\n",
    "    x = alt.X(\"date_measured\", title = \"Year\"),\n",
    "    y = alt.Y(\"ppm\", scale=alt.Scale(zero=False), title = \"Atmospheric CO2 (ppm)\")).configure_axis(\n",
    "    titleFontSize=12)\n"
   ]
  },
  {
   "cell_type": "code",
   "execution_count": 12,
   "id": "f2b4a936",
   "metadata": {
    "execution": {
     "iopub.execute_input": "2022-07-19T22:59:15.332270Z",
     "iopub.status.busy": "2022-07-19T22:59:15.332149Z",
     "iopub.status.idle": "2022-07-19T22:59:15.340369Z",
     "shell.execute_reply": "2022-07-19T22:59:15.340042Z"
    },
    "tags": [
     "remove-cell"
    ]
   },
   "outputs": [
    {
     "data": {
      "application/papermill.record/text/html": "\n<div id=\"altair-viz-e561f718bc33435fa4f5f2c1bba7f0f0\"></div>\n<script type=\"text/javascript\">\n  var VEGA_DEBUG = (typeof VEGA_DEBUG == \"undefined\") ? {} : VEGA_DEBUG;\n  (function(spec, embedOpt){\n    let outputDiv = document.currentScript.previousElementSibling;\n    if (outputDiv.id !== \"altair-viz-e561f718bc33435fa4f5f2c1bba7f0f0\") {\n      outputDiv = document.getElementById(\"altair-viz-e561f718bc33435fa4f5f2c1bba7f0f0\");\n    }\n    const paths = {\n      \"vega\": \"https://cdn.jsdelivr.net/npm//vega@5?noext\",\n      \"vega-lib\": \"https://cdn.jsdelivr.net/npm//vega-lib?noext\",\n      \"vega-lite\": \"https://cdn.jsdelivr.net/npm//vega-lite@4.17.0?noext\",\n      \"vega-embed\": \"https://cdn.jsdelivr.net/npm//vega-embed@6?noext\",\n    };\n\n    function maybeLoadScript(lib, version) {\n      var key = `${lib.replace(\"-\", \"\")}_version`;\n      return (VEGA_DEBUG[key] == version) ?\n        Promise.resolve(paths[lib]) :\n        new Promise(function(resolve, reject) {\n          var s = document.createElement('script');\n          document.getElementsByTagName(\"head\")[0].appendChild(s);\n          s.async = true;\n          s.onload = () => {\n            VEGA_DEBUG[key] = version;\n            return resolve(paths[lib]);\n          };\n          s.onerror = () => reject(`Error loading script: ${paths[lib]}`);\n          s.src = paths[lib];\n        });\n    }\n\n    function showError(err) {\n      outputDiv.innerHTML = `<div class=\"error\" style=\"color:red;\">${err}</div>`;\n      throw err;\n    }\n\n    function displayChart(vegaEmbed) {\n      vegaEmbed(outputDiv, spec, embedOpt)\n        .catch(err => showError(`Javascript Error: ${err.message}<br>This usually means there's a typo in your chart specification. See the javascript console for the full traceback.`));\n    }\n\n    if(typeof define === \"function\" && define.amd) {\n      requirejs.config({paths});\n      require([\"vega-embed\"], displayChart, err => showError(`Error loading script: ${err.message}`));\n    } else {\n      maybeLoadScript(\"vega\", \"5\")\n        .then(() => maybeLoadScript(\"vega-lite\", \"4.17.0\"))\n        .then(() => maybeLoadScript(\"vega-embed\", \"6\"))\n        .catch(showError)\n        .then(() => displayChart(vegaEmbed));\n    }\n  })({\"config\": {\"view\": {\"continuousWidth\": 400, \"continuousHeight\": 300}, \"axis\": {\"titleFontSize\": 12}}, \"data\": {\"name\": \"data-ecfc281786dd23148efa483af3159f83\"}, \"mark\": {\"type\": \"line\", \"color\": \"black\"}, \"encoding\": {\"x\": {\"field\": \"date_measured\", \"title\": \"Year\", \"type\": \"temporal\"}, \"y\": {\"field\": \"ppm\", \"scale\": {\"zero\": false}, \"title\": \"Atmospheric CO2 (ppm)\", \"type\": \"quantitative\"}}, \"$schema\": \"https://vega.github.io/schema/vega-lite/v4.17.0.json\", \"datasets\": {\"data-ecfc281786dd23148efa483af3159f83\": [{\"date_measured\": \"1980-02-01T00:00:00\", \"ppm\": 338.34}, {\"date_measured\": \"1980-03-01T00:00:00\", \"ppm\": 340.01}, {\"date_measured\": \"1980-04-01T00:00:00\", \"ppm\": 340.93}, {\"date_measured\": \"1980-05-01T00:00:00\", \"ppm\": 341.48}, {\"date_measured\": \"1980-06-01T00:00:00\", \"ppm\": 341.33}, {\"date_measured\": \"1980-07-01T00:00:00\", \"ppm\": 339.4}, {\"date_measured\": \"1980-08-01T00:00:00\", \"ppm\": 337.7}, {\"date_measured\": \"1980-09-01T00:00:00\", \"ppm\": 336.19}, {\"date_measured\": \"1980-10-01T00:00:00\", \"ppm\": 336.15}, {\"date_measured\": \"1980-11-01T00:00:00\", \"ppm\": 337.27}, {\"date_measured\": \"1980-12-01T00:00:00\", \"ppm\": 338.32}, {\"date_measured\": \"1981-01-01T00:00:00\", \"ppm\": 339.29}, {\"date_measured\": \"1981-02-01T00:00:00\", \"ppm\": 340.55}, {\"date_measured\": \"1981-03-01T00:00:00\", \"ppm\": 341.61}, {\"date_measured\": \"1981-04-01T00:00:00\", \"ppm\": 342.53}, {\"date_measured\": \"1981-05-01T00:00:00\", \"ppm\": 343.03}, {\"date_measured\": \"1981-06-01T00:00:00\", \"ppm\": 342.54}, {\"date_measured\": \"1981-07-01T00:00:00\", \"ppm\": 340.78}, {\"date_measured\": \"1981-08-01T00:00:00\", \"ppm\": 338.44}, {\"date_measured\": \"1981-09-01T00:00:00\", \"ppm\": 336.95}, {\"date_measured\": \"1981-10-01T00:00:00\", \"ppm\": 337.08}, {\"date_measured\": \"1981-11-01T00:00:00\", \"ppm\": 338.58}, {\"date_measured\": \"1981-12-01T00:00:00\", \"ppm\": 339.88}, {\"date_measured\": \"1982-01-01T00:00:00\", \"ppm\": 340.96}, {\"date_measured\": \"1982-02-01T00:00:00\", \"ppm\": 341.73}, {\"date_measured\": \"1982-03-01T00:00:00\", \"ppm\": 342.81}, {\"date_measured\": \"1982-04-01T00:00:00\", \"ppm\": 343.97}, {\"date_measured\": \"1982-05-01T00:00:00\", \"ppm\": 344.63}, {\"date_measured\": \"1982-06-01T00:00:00\", \"ppm\": 343.79}, {\"date_measured\": \"1982-07-01T00:00:00\", \"ppm\": 342.32}, {\"date_measured\": \"1982-08-01T00:00:00\", \"ppm\": 340.09}, {\"date_measured\": \"1982-09-01T00:00:00\", \"ppm\": 338.28}, {\"date_measured\": \"1982-10-01T00:00:00\", \"ppm\": 338.29}, {\"date_measured\": \"1982-11-01T00:00:00\", \"ppm\": 339.6}, {\"date_measured\": \"1982-12-01T00:00:00\", \"ppm\": 340.9}, {\"date_measured\": \"1983-01-01T00:00:00\", \"ppm\": 341.68}, {\"date_measured\": \"1983-02-01T00:00:00\", \"ppm\": 342.9}, {\"date_measured\": \"1983-03-01T00:00:00\", \"ppm\": 343.33}, {\"date_measured\": \"1983-04-01T00:00:00\", \"ppm\": 345.25}, {\"date_measured\": \"1983-05-01T00:00:00\", \"ppm\": 346.03}, {\"date_measured\": \"1983-06-01T00:00:00\", \"ppm\": 345.63}, {\"date_measured\": \"1983-07-01T00:00:00\", \"ppm\": 344.19}, {\"date_measured\": \"1983-08-01T00:00:00\", \"ppm\": 342.27}, {\"date_measured\": \"1983-09-01T00:00:00\", \"ppm\": 340.35}, {\"date_measured\": \"1983-10-01T00:00:00\", \"ppm\": 340.38}, {\"date_measured\": \"1983-11-01T00:00:00\", \"ppm\": 341.59}, {\"date_measured\": \"1983-12-01T00:00:00\", \"ppm\": 343.05}, {\"date_measured\": \"1984-01-01T00:00:00\", \"ppm\": 344.1}, {\"date_measured\": \"1984-02-01T00:00:00\", \"ppm\": 344.79}, {\"date_measured\": \"1984-03-01T00:00:00\", \"ppm\": 345.52}, {\"date_measured\": \"1984-05-01T00:00:00\", \"ppm\": 347.63}, {\"date_measured\": \"1984-06-01T00:00:00\", \"ppm\": 346.98}, {\"date_measured\": \"1984-07-01T00:00:00\", \"ppm\": 345.53}, {\"date_measured\": \"1984-08-01T00:00:00\", \"ppm\": 343.55}, {\"date_measured\": \"1984-09-01T00:00:00\", \"ppm\": 341.4}, {\"date_measured\": \"1984-10-01T00:00:00\", \"ppm\": 341.67}, {\"date_measured\": \"1984-11-01T00:00:00\", \"ppm\": 343.1}, {\"date_measured\": \"1984-12-01T00:00:00\", \"ppm\": 344.7}, {\"date_measured\": \"1985-01-01T00:00:00\", \"ppm\": 345.21}, {\"date_measured\": \"1985-02-01T00:00:00\", \"ppm\": 346.16}, {\"date_measured\": \"1985-03-01T00:00:00\", \"ppm\": 347.74}, {\"date_measured\": \"1985-04-01T00:00:00\", \"ppm\": 348.34}, {\"date_measured\": \"1985-05-01T00:00:00\", \"ppm\": 349.06}, {\"date_measured\": \"1985-06-01T00:00:00\", \"ppm\": 348.38}, {\"date_measured\": \"1985-07-01T00:00:00\", \"ppm\": 346.71}, {\"date_measured\": \"1985-08-01T00:00:00\", \"ppm\": 345.02}, {\"date_measured\": \"1985-09-01T00:00:00\", \"ppm\": 343.27}, {\"date_measured\": \"1985-10-01T00:00:00\", \"ppm\": 343.13}, {\"date_measured\": \"1985-11-01T00:00:00\", \"ppm\": 344.49}, {\"date_measured\": \"1985-12-01T00:00:00\", \"ppm\": 345.88}, {\"date_measured\": \"1986-01-01T00:00:00\", \"ppm\": 346.56}, {\"date_measured\": \"1986-02-01T00:00:00\", \"ppm\": 347.28}, {\"date_measured\": \"1986-03-01T00:00:00\", \"ppm\": 348.01}, {\"date_measured\": \"1986-04-01T00:00:00\", \"ppm\": 349.77}, {\"date_measured\": \"1986-05-01T00:00:00\", \"ppm\": 350.38}, {\"date_measured\": \"1986-06-01T00:00:00\", \"ppm\": 349.93}, {\"date_measured\": \"1986-07-01T00:00:00\", \"ppm\": 348.16}, {\"date_measured\": \"1986-08-01T00:00:00\", \"ppm\": 346.08}, {\"date_measured\": \"1986-09-01T00:00:00\", \"ppm\": 345.22}, {\"date_measured\": \"1986-10-01T00:00:00\", \"ppm\": 344.51}, {\"date_measured\": \"1986-11-01T00:00:00\", \"ppm\": 345.93}, {\"date_measured\": \"1986-12-01T00:00:00\", \"ppm\": 347.22}, {\"date_measured\": \"1987-01-01T00:00:00\", \"ppm\": 348.52}, {\"date_measured\": \"1987-02-01T00:00:00\", \"ppm\": 348.73}, {\"date_measured\": \"1987-03-01T00:00:00\", \"ppm\": 349.73}, {\"date_measured\": \"1987-04-01T00:00:00\", \"ppm\": 351.31}, {\"date_measured\": \"1987-05-01T00:00:00\", \"ppm\": 352.09}, {\"date_measured\": \"1987-06-01T00:00:00\", \"ppm\": 351.53}, {\"date_measured\": \"1987-07-01T00:00:00\", \"ppm\": 350.11}, {\"date_measured\": \"1987-08-01T00:00:00\", \"ppm\": 348.08}, {\"date_measured\": \"1987-09-01T00:00:00\", \"ppm\": 346.52}, {\"date_measured\": \"1987-10-01T00:00:00\", \"ppm\": 346.59}, {\"date_measured\": \"1987-11-01T00:00:00\", \"ppm\": 347.96}, {\"date_measured\": \"1987-12-01T00:00:00\", \"ppm\": 349.16}, {\"date_measured\": \"1988-01-01T00:00:00\", \"ppm\": 350.39}, {\"date_measured\": \"1988-02-01T00:00:00\", \"ppm\": 351.64}, {\"date_measured\": \"1988-03-01T00:00:00\", \"ppm\": 352.4}, {\"date_measured\": \"1988-04-01T00:00:00\", \"ppm\": 353.69}, {\"date_measured\": \"1988-05-01T00:00:00\", \"ppm\": 354.21}, {\"date_measured\": \"1988-06-01T00:00:00\", \"ppm\": 353.72}, {\"date_measured\": \"1988-07-01T00:00:00\", \"ppm\": 352.69}, {\"date_measured\": \"1988-08-01T00:00:00\", \"ppm\": 350.4}, {\"date_measured\": \"1988-09-01T00:00:00\", \"ppm\": 348.92}, {\"date_measured\": \"1988-10-01T00:00:00\", \"ppm\": 349.13}, {\"date_measured\": \"1988-11-01T00:00:00\", \"ppm\": 350.2}, {\"date_measured\": \"1988-12-01T00:00:00\", \"ppm\": 351.41}, {\"date_measured\": \"1989-01-01T00:00:00\", \"ppm\": 352.91}, {\"date_measured\": \"1989-02-01T00:00:00\", \"ppm\": 353.27}, {\"date_measured\": \"1989-03-01T00:00:00\", \"ppm\": 353.96}, {\"date_measured\": \"1989-04-01T00:00:00\", \"ppm\": 355.64}, {\"date_measured\": \"1989-05-01T00:00:00\", \"ppm\": 355.86}, {\"date_measured\": \"1989-06-01T00:00:00\", \"ppm\": 355.37}, {\"date_measured\": \"1989-07-01T00:00:00\", \"ppm\": 353.99}, {\"date_measured\": \"1989-08-01T00:00:00\", \"ppm\": 351.81}, {\"date_measured\": \"1989-09-01T00:00:00\", \"ppm\": 350.05}, {\"date_measured\": \"1989-10-01T00:00:00\", \"ppm\": 350.25}, {\"date_measured\": \"1989-11-01T00:00:00\", \"ppm\": 351.49}, {\"date_measured\": \"1989-12-01T00:00:00\", \"ppm\": 352.85}, {\"date_measured\": \"1990-01-01T00:00:00\", \"ppm\": 353.8}, {\"date_measured\": \"1990-02-01T00:00:00\", \"ppm\": 355.04}, {\"date_measured\": \"1990-03-01T00:00:00\", \"ppm\": 355.73}, {\"date_measured\": \"1990-04-01T00:00:00\", \"ppm\": 356.32}, {\"date_measured\": \"1990-05-01T00:00:00\", \"ppm\": 357.32}, {\"date_measured\": \"1990-06-01T00:00:00\", \"ppm\": 356.34}, {\"date_measured\": \"1990-07-01T00:00:00\", \"ppm\": 354.84}, {\"date_measured\": \"1990-08-01T00:00:00\", \"ppm\": 353.01}, {\"date_measured\": \"1990-09-01T00:00:00\", \"ppm\": 351.31}, {\"date_measured\": \"1990-10-01T00:00:00\", \"ppm\": 351.62}, {\"date_measured\": \"1990-11-01T00:00:00\", \"ppm\": 353.07}, {\"date_measured\": \"1990-12-01T00:00:00\", \"ppm\": 354.33}, {\"date_measured\": \"1991-01-01T00:00:00\", \"ppm\": 354.84}, {\"date_measured\": \"1991-02-01T00:00:00\", \"ppm\": 355.73}, {\"date_measured\": \"1991-03-01T00:00:00\", \"ppm\": 357.23}, {\"date_measured\": \"1991-04-01T00:00:00\", \"ppm\": 358.66}, {\"date_measured\": \"1991-05-01T00:00:00\", \"ppm\": 359.13}, {\"date_measured\": \"1991-06-01T00:00:00\", \"ppm\": 358.13}, {\"date_measured\": \"1991-07-01T00:00:00\", \"ppm\": 356.19}, {\"date_measured\": \"1991-08-01T00:00:00\", \"ppm\": 353.85}, {\"date_measured\": \"1991-09-01T00:00:00\", \"ppm\": 352.25}, {\"date_measured\": \"1991-10-01T00:00:00\", \"ppm\": 352.35}, {\"date_measured\": \"1991-11-01T00:00:00\", \"ppm\": 353.81}, {\"date_measured\": \"1991-12-01T00:00:00\", \"ppm\": 355.12}, {\"date_measured\": \"1992-01-01T00:00:00\", \"ppm\": 356.25}, {\"date_measured\": \"1992-02-01T00:00:00\", \"ppm\": 357.11}, {\"date_measured\": \"1992-03-01T00:00:00\", \"ppm\": 357.86}, {\"date_measured\": \"1992-04-01T00:00:00\", \"ppm\": 359.09}, {\"date_measured\": \"1992-05-01T00:00:00\", \"ppm\": 359.59}, {\"date_measured\": \"1992-06-01T00:00:00\", \"ppm\": 359.33}, {\"date_measured\": \"1992-07-01T00:00:00\", \"ppm\": 357.01}, {\"date_measured\": \"1992-08-01T00:00:00\", \"ppm\": 354.94}, {\"date_measured\": \"1992-09-01T00:00:00\", \"ppm\": 352.95}, {\"date_measured\": \"1992-10-01T00:00:00\", \"ppm\": 353.32}, {\"date_measured\": \"1992-11-01T00:00:00\", \"ppm\": 354.32}, {\"date_measured\": \"1992-12-01T00:00:00\", \"ppm\": 355.57}, {\"date_measured\": \"1993-01-01T00:00:00\", \"ppm\": 357.0}, {\"date_measured\": \"1993-02-01T00:00:00\", \"ppm\": 357.31}, {\"date_measured\": \"1993-03-01T00:00:00\", \"ppm\": 358.47}, {\"date_measured\": \"1993-04-01T00:00:00\", \"ppm\": 359.27}, {\"date_measured\": \"1993-05-01T00:00:00\", \"ppm\": 360.19}, {\"date_measured\": \"1993-06-01T00:00:00\", \"ppm\": 359.52}, {\"date_measured\": \"1993-07-01T00:00:00\", \"ppm\": 357.33}, {\"date_measured\": \"1993-08-01T00:00:00\", \"ppm\": 355.64}, {\"date_measured\": \"1993-09-01T00:00:00\", \"ppm\": 354.03}, {\"date_measured\": \"1993-10-01T00:00:00\", \"ppm\": 354.12}, {\"date_measured\": \"1993-11-01T00:00:00\", \"ppm\": 355.41}, {\"date_measured\": \"1993-12-01T00:00:00\", \"ppm\": 356.91}, {\"date_measured\": \"1994-01-01T00:00:00\", \"ppm\": 358.24}, {\"date_measured\": \"1994-02-01T00:00:00\", \"ppm\": 358.92}, {\"date_measured\": \"1994-03-01T00:00:00\", \"ppm\": 359.99}, {\"date_measured\": \"1994-04-01T00:00:00\", \"ppm\": 361.23}, {\"date_measured\": \"1994-05-01T00:00:00\", \"ppm\": 361.65}, {\"date_measured\": \"1994-06-01T00:00:00\", \"ppm\": 360.81}, {\"date_measured\": \"1994-07-01T00:00:00\", \"ppm\": 359.38}, {\"date_measured\": \"1994-08-01T00:00:00\", \"ppm\": 357.46}, {\"date_measured\": \"1994-09-01T00:00:00\", \"ppm\": 355.73}, {\"date_measured\": \"1994-10-01T00:00:00\", \"ppm\": 356.08}, {\"date_measured\": \"1994-11-01T00:00:00\", \"ppm\": 357.53}, {\"date_measured\": \"1994-12-01T00:00:00\", \"ppm\": 358.98}, {\"date_measured\": \"1995-01-01T00:00:00\", \"ppm\": 359.92}, {\"date_measured\": \"1995-02-01T00:00:00\", \"ppm\": 360.86}, {\"date_measured\": \"1995-03-01T00:00:00\", \"ppm\": 361.83}, {\"date_measured\": \"1995-04-01T00:00:00\", \"ppm\": 363.3}, {\"date_measured\": \"1995-05-01T00:00:00\", \"ppm\": 363.69}, {\"date_measured\": \"1995-06-01T00:00:00\", \"ppm\": 363.19}, {\"date_measured\": \"1995-07-01T00:00:00\", \"ppm\": 361.64}, {\"date_measured\": \"1995-08-01T00:00:00\", \"ppm\": 359.12}, {\"date_measured\": \"1995-09-01T00:00:00\", \"ppm\": 358.17}, {\"date_measured\": \"1995-10-01T00:00:00\", \"ppm\": 357.99}, {\"date_measured\": \"1995-11-01T00:00:00\", \"ppm\": 359.45}, {\"date_measured\": \"1995-12-01T00:00:00\", \"ppm\": 360.68}, {\"date_measured\": \"1996-01-01T00:00:00\", \"ppm\": 362.07}, {\"date_measured\": \"1996-02-01T00:00:00\", \"ppm\": 363.24}, {\"date_measured\": \"1996-03-01T00:00:00\", \"ppm\": 364.17}, {\"date_measured\": \"1996-04-01T00:00:00\", \"ppm\": 364.57}, {\"date_measured\": \"1996-05-01T00:00:00\", \"ppm\": 365.13}, {\"date_measured\": \"1996-06-01T00:00:00\", \"ppm\": 364.92}, {\"date_measured\": \"1996-07-01T00:00:00\", \"ppm\": 363.55}, {\"date_measured\": \"1996-08-01T00:00:00\", \"ppm\": 361.38}, {\"date_measured\": \"1996-09-01T00:00:00\", \"ppm\": 359.54}, {\"date_measured\": \"1996-10-01T00:00:00\", \"ppm\": 359.58}, {\"date_measured\": \"1996-11-01T00:00:00\", \"ppm\": 360.89}, {\"date_measured\": \"1996-12-01T00:00:00\", \"ppm\": 362.24}, {\"date_measured\": \"1997-01-01T00:00:00\", \"ppm\": 363.09}, {\"date_measured\": \"1997-02-01T00:00:00\", \"ppm\": 364.03}, {\"date_measured\": \"1997-03-01T00:00:00\", \"ppm\": 364.51}, {\"date_measured\": \"1997-04-01T00:00:00\", \"ppm\": 366.35}, {\"date_measured\": \"1997-05-01T00:00:00\", \"ppm\": 366.64}, {\"date_measured\": \"1997-06-01T00:00:00\", \"ppm\": 365.59}, {\"date_measured\": \"1997-07-01T00:00:00\", \"ppm\": 364.31}, {\"date_measured\": \"1997-08-01T00:00:00\", \"ppm\": 362.25}, {\"date_measured\": \"1997-09-01T00:00:00\", \"ppm\": 360.29}, {\"date_measured\": \"1997-10-01T00:00:00\", \"ppm\": 360.82}, {\"date_measured\": \"1997-11-01T00:00:00\", \"ppm\": 362.49}, {\"date_measured\": \"1997-12-01T00:00:00\", \"ppm\": 364.38}, {\"date_measured\": \"1998-01-01T00:00:00\", \"ppm\": 365.27}, {\"date_measured\": \"1998-02-01T00:00:00\", \"ppm\": 365.98}, {\"date_measured\": \"1998-03-01T00:00:00\", \"ppm\": 367.24}, {\"date_measured\": \"1998-04-01T00:00:00\", \"ppm\": 368.66}, {\"date_measured\": \"1998-05-01T00:00:00\", \"ppm\": 369.42}, {\"date_measured\": \"1998-06-01T00:00:00\", \"ppm\": 368.99}, {\"date_measured\": \"1998-07-01T00:00:00\", \"ppm\": 367.82}, {\"date_measured\": \"1998-08-01T00:00:00\", \"ppm\": 365.95}, {\"date_measured\": \"1998-09-01T00:00:00\", \"ppm\": 364.02}, {\"date_measured\": \"1998-10-01T00:00:00\", \"ppm\": 364.4}, {\"date_measured\": \"1998-11-01T00:00:00\", \"ppm\": 365.52}, {\"date_measured\": \"1998-12-01T00:00:00\", \"ppm\": 367.13}, {\"date_measured\": \"1999-01-01T00:00:00\", \"ppm\": 368.18}, {\"date_measured\": \"1999-02-01T00:00:00\", \"ppm\": 369.07}, {\"date_measured\": \"1999-03-01T00:00:00\", \"ppm\": 369.68}, {\"date_measured\": \"1999-04-01T00:00:00\", \"ppm\": 370.99}, {\"date_measured\": \"1999-05-01T00:00:00\", \"ppm\": 370.96}, {\"date_measured\": \"1999-06-01T00:00:00\", \"ppm\": 370.3}, {\"date_measured\": \"1999-07-01T00:00:00\", \"ppm\": 369.45}, {\"date_measured\": \"1999-08-01T00:00:00\", \"ppm\": 366.9}, {\"date_measured\": \"1999-09-01T00:00:00\", \"ppm\": 364.81}, {\"date_measured\": \"1999-10-01T00:00:00\", \"ppm\": 365.37}, {\"date_measured\": \"1999-11-01T00:00:00\", \"ppm\": 366.72}, {\"date_measured\": \"1999-12-01T00:00:00\", \"ppm\": 368.1}, {\"date_measured\": \"2000-01-01T00:00:00\", \"ppm\": 369.29}, {\"date_measured\": \"2000-02-01T00:00:00\", \"ppm\": 369.55}, {\"date_measured\": \"2000-03-01T00:00:00\", \"ppm\": 370.6}, {\"date_measured\": \"2000-04-01T00:00:00\", \"ppm\": 371.82}, {\"date_measured\": \"2000-05-01T00:00:00\", \"ppm\": 371.58}, {\"date_measured\": \"2000-06-01T00:00:00\", \"ppm\": 371.7}, {\"date_measured\": \"2000-07-01T00:00:00\", \"ppm\": 369.86}, {\"date_measured\": \"2000-08-01T00:00:00\", \"ppm\": 368.13}, {\"date_measured\": \"2000-09-01T00:00:00\", \"ppm\": 367.0}, {\"date_measured\": \"2000-10-01T00:00:00\", \"ppm\": 367.03}, {\"date_measured\": \"2000-11-01T00:00:00\", \"ppm\": 368.37}, {\"date_measured\": \"2000-12-01T00:00:00\", \"ppm\": 369.67}, {\"date_measured\": \"2001-01-01T00:00:00\", \"ppm\": 370.59}, {\"date_measured\": \"2001-02-01T00:00:00\", \"ppm\": 371.51}, {\"date_measured\": \"2001-03-01T00:00:00\", \"ppm\": 372.43}, {\"date_measured\": \"2001-04-01T00:00:00\", \"ppm\": 373.37}, {\"date_measured\": \"2001-05-01T00:00:00\", \"ppm\": 373.85}, {\"date_measured\": \"2001-06-01T00:00:00\", \"ppm\": 373.22}, {\"date_measured\": \"2001-07-01T00:00:00\", \"ppm\": 371.5}, {\"date_measured\": \"2001-08-01T00:00:00\", \"ppm\": 369.61}, {\"date_measured\": \"2001-09-01T00:00:00\", \"ppm\": 368.18}, {\"date_measured\": \"2001-10-01T00:00:00\", \"ppm\": 368.45}, {\"date_measured\": \"2001-11-01T00:00:00\", \"ppm\": 369.76}, {\"date_measured\": \"2001-12-01T00:00:00\", \"ppm\": 371.24}, {\"date_measured\": \"2002-01-01T00:00:00\", \"ppm\": 372.53}, {\"date_measured\": \"2002-02-01T00:00:00\", \"ppm\": 373.2}, {\"date_measured\": \"2002-03-01T00:00:00\", \"ppm\": 374.12}, {\"date_measured\": \"2002-04-01T00:00:00\", \"ppm\": 375.02}, {\"date_measured\": \"2002-05-01T00:00:00\", \"ppm\": 375.76}, {\"date_measured\": \"2002-06-01T00:00:00\", \"ppm\": 375.52}, {\"date_measured\": \"2002-07-01T00:00:00\", \"ppm\": 374.01}, {\"date_measured\": \"2002-08-01T00:00:00\", \"ppm\": 371.85}, {\"date_measured\": \"2002-09-01T00:00:00\", \"ppm\": 370.75}, {\"date_measured\": \"2002-10-01T00:00:00\", \"ppm\": 370.55}, {\"date_measured\": \"2002-11-01T00:00:00\", \"ppm\": 372.25}, {\"date_measured\": \"2002-12-01T00:00:00\", \"ppm\": 373.79}, {\"date_measured\": \"2003-01-01T00:00:00\", \"ppm\": 374.88}, {\"date_measured\": \"2003-02-01T00:00:00\", \"ppm\": 375.64}, {\"date_measured\": \"2003-03-01T00:00:00\", \"ppm\": 376.45}, {\"date_measured\": \"2003-04-01T00:00:00\", \"ppm\": 377.73}, {\"date_measured\": \"2003-05-01T00:00:00\", \"ppm\": 378.6}, {\"date_measured\": \"2003-06-01T00:00:00\", \"ppm\": 378.28}, {\"date_measured\": \"2003-07-01T00:00:00\", \"ppm\": 376.7}, {\"date_measured\": \"2003-08-01T00:00:00\", \"ppm\": 374.38}, {\"date_measured\": \"2003-09-01T00:00:00\", \"ppm\": 373.17}, {\"date_measured\": \"2003-10-01T00:00:00\", \"ppm\": 373.15}, {\"date_measured\": \"2003-11-01T00:00:00\", \"ppm\": 374.66}, {\"date_measured\": \"2003-12-01T00:00:00\", \"ppm\": 375.99}, {\"date_measured\": \"2004-01-01T00:00:00\", \"ppm\": 377.0}, {\"date_measured\": \"2004-02-01T00:00:00\", \"ppm\": 377.87}, {\"date_measured\": \"2004-03-01T00:00:00\", \"ppm\": 378.88}, {\"date_measured\": \"2004-04-01T00:00:00\", \"ppm\": 380.35}, {\"date_measured\": \"2004-05-01T00:00:00\", \"ppm\": 380.62}, {\"date_measured\": \"2004-06-01T00:00:00\", \"ppm\": 379.69}, {\"date_measured\": \"2004-07-01T00:00:00\", \"ppm\": 377.47}, {\"date_measured\": \"2004-08-01T00:00:00\", \"ppm\": 376.01}, {\"date_measured\": \"2004-09-01T00:00:00\", \"ppm\": 374.25}, {\"date_measured\": \"2004-10-01T00:00:00\", \"ppm\": 374.46}, {\"date_measured\": \"2004-11-01T00:00:00\", \"ppm\": 376.16}, {\"date_measured\": \"2004-12-01T00:00:00\", \"ppm\": 377.51}, {\"date_measured\": \"2005-01-01T00:00:00\", \"ppm\": 378.46}, {\"date_measured\": \"2005-02-01T00:00:00\", \"ppm\": 379.73}, {\"date_measured\": \"2005-03-01T00:00:00\", \"ppm\": 380.77}, {\"date_measured\": \"2005-04-01T00:00:00\", \"ppm\": 382.29}, {\"date_measured\": \"2005-05-01T00:00:00\", \"ppm\": 382.45}, {\"date_measured\": \"2005-06-01T00:00:00\", \"ppm\": 382.21}, {\"date_measured\": \"2005-07-01T00:00:00\", \"ppm\": 380.74}, {\"date_measured\": \"2005-08-01T00:00:00\", \"ppm\": 378.74}, {\"date_measured\": \"2005-09-01T00:00:00\", \"ppm\": 376.7}, {\"date_measured\": \"2005-10-01T00:00:00\", \"ppm\": 377.0}, {\"date_measured\": \"2005-11-01T00:00:00\", \"ppm\": 378.35}, {\"date_measured\": \"2005-12-01T00:00:00\", \"ppm\": 380.11}, {\"date_measured\": \"2006-01-01T00:00:00\", \"ppm\": 381.38}, {\"date_measured\": \"2006-02-01T00:00:00\", \"ppm\": 382.2}, {\"date_measured\": \"2006-03-01T00:00:00\", \"ppm\": 382.67}, {\"date_measured\": \"2006-04-01T00:00:00\", \"ppm\": 384.61}, {\"date_measured\": \"2006-05-01T00:00:00\", \"ppm\": 385.03}, {\"date_measured\": \"2006-06-01T00:00:00\", \"ppm\": 384.05}, {\"date_measured\": \"2006-07-01T00:00:00\", \"ppm\": 382.46}, {\"date_measured\": \"2006-08-01T00:00:00\", \"ppm\": 380.41}, {\"date_measured\": \"2006-09-01T00:00:00\", \"ppm\": 378.85}, {\"date_measured\": \"2006-10-01T00:00:00\", \"ppm\": 379.13}, {\"date_measured\": \"2006-11-01T00:00:00\", \"ppm\": 380.15}, {\"date_measured\": \"2006-12-01T00:00:00\", \"ppm\": 381.82}, {\"date_measured\": \"2007-01-01T00:00:00\", \"ppm\": 382.89}, {\"date_measured\": \"2007-02-01T00:00:00\", \"ppm\": 383.9}, {\"date_measured\": \"2007-03-01T00:00:00\", \"ppm\": 384.58}, {\"date_measured\": \"2007-04-01T00:00:00\", \"ppm\": 386.5}, {\"date_measured\": \"2007-05-01T00:00:00\", \"ppm\": 386.56}, {\"date_measured\": \"2007-06-01T00:00:00\", \"ppm\": 386.1}, {\"date_measured\": \"2007-07-01T00:00:00\", \"ppm\": 384.5}, {\"date_measured\": \"2007-08-01T00:00:00\", \"ppm\": 381.99}, {\"date_measured\": \"2007-09-01T00:00:00\", \"ppm\": 380.96}, {\"date_measured\": \"2007-10-01T00:00:00\", \"ppm\": 381.12}, {\"date_measured\": \"2007-11-01T00:00:00\", \"ppm\": 382.45}, {\"date_measured\": \"2007-12-01T00:00:00\", \"ppm\": 383.94}, {\"date_measured\": \"2008-01-01T00:00:00\", \"ppm\": 385.52}, {\"date_measured\": \"2008-02-01T00:00:00\", \"ppm\": 385.82}, {\"date_measured\": \"2008-03-01T00:00:00\", \"ppm\": 386.03}, {\"date_measured\": \"2008-04-01T00:00:00\", \"ppm\": 387.21}, {\"date_measured\": \"2008-05-01T00:00:00\", \"ppm\": 388.54}, {\"date_measured\": \"2008-06-01T00:00:00\", \"ppm\": 387.76}, {\"date_measured\": \"2008-07-01T00:00:00\", \"ppm\": 386.37}, {\"date_measured\": \"2008-08-01T00:00:00\", \"ppm\": 384.09}, {\"date_measured\": \"2008-09-01T00:00:00\", \"ppm\": 383.18}, {\"date_measured\": \"2008-10-01T00:00:00\", \"ppm\": 382.99}, {\"date_measured\": \"2008-11-01T00:00:00\", \"ppm\": 384.19}, {\"date_measured\": \"2008-12-01T00:00:00\", \"ppm\": 385.56}, {\"date_measured\": \"2009-01-01T00:00:00\", \"ppm\": 386.94}, {\"date_measured\": \"2009-02-01T00:00:00\", \"ppm\": 387.48}, {\"date_measured\": \"2009-03-01T00:00:00\", \"ppm\": 388.82}, {\"date_measured\": \"2009-04-01T00:00:00\", \"ppm\": 389.55}, {\"date_measured\": \"2009-05-01T00:00:00\", \"ppm\": 390.14}, {\"date_measured\": \"2009-06-01T00:00:00\", \"ppm\": 389.48}, {\"date_measured\": \"2009-07-01T00:00:00\", \"ppm\": 388.03}, {\"date_measured\": \"2009-08-01T00:00:00\", \"ppm\": 386.11}, {\"date_measured\": \"2009-09-01T00:00:00\", \"ppm\": 384.74}, {\"date_measured\": \"2009-10-01T00:00:00\", \"ppm\": 384.43}, {\"date_measured\": \"2009-11-01T00:00:00\", \"ppm\": 386.02}, {\"date_measured\": \"2009-12-01T00:00:00\", \"ppm\": 387.42}, {\"date_measured\": \"2010-01-01T00:00:00\", \"ppm\": 388.71}, {\"date_measured\": \"2010-02-01T00:00:00\", \"ppm\": 390.2}, {\"date_measured\": \"2010-03-01T00:00:00\", \"ppm\": 391.17}, {\"date_measured\": \"2010-04-01T00:00:00\", \"ppm\": 392.46}, {\"date_measured\": \"2010-05-01T00:00:00\", \"ppm\": 393.0}, {\"date_measured\": \"2010-06-01T00:00:00\", \"ppm\": 392.15}, {\"date_measured\": \"2010-07-01T00:00:00\", \"ppm\": 390.2}, {\"date_measured\": \"2010-08-01T00:00:00\", \"ppm\": 388.35}, {\"date_measured\": \"2010-09-01T00:00:00\", \"ppm\": 386.85}, {\"date_measured\": \"2010-10-01T00:00:00\", \"ppm\": 387.24}, {\"date_measured\": \"2010-11-01T00:00:00\", \"ppm\": 388.67}, {\"date_measured\": \"2010-12-01T00:00:00\", \"ppm\": 389.79}, {\"date_measured\": \"2011-01-01T00:00:00\", \"ppm\": 391.33}, {\"date_measured\": \"2011-02-01T00:00:00\", \"ppm\": 391.86}, {\"date_measured\": \"2011-03-01T00:00:00\", \"ppm\": 392.6}, {\"date_measured\": \"2011-04-01T00:00:00\", \"ppm\": 393.25}, {\"date_measured\": \"2011-05-01T00:00:00\", \"ppm\": 394.19}, {\"date_measured\": \"2011-06-01T00:00:00\", \"ppm\": 393.74}, {\"date_measured\": \"2011-07-01T00:00:00\", \"ppm\": 392.51}, {\"date_measured\": \"2011-08-01T00:00:00\", \"ppm\": 390.13}, {\"date_measured\": \"2011-09-01T00:00:00\", \"ppm\": 389.08}, {\"date_measured\": \"2011-10-01T00:00:00\", \"ppm\": 389.0}, {\"date_measured\": \"2011-11-01T00:00:00\", \"ppm\": 390.28}, {\"date_measured\": \"2011-12-01T00:00:00\", \"ppm\": 391.86}, {\"date_measured\": \"2012-01-01T00:00:00\", \"ppm\": 393.12}, {\"date_measured\": \"2012-02-01T00:00:00\", \"ppm\": 393.86}, {\"date_measured\": \"2012-03-01T00:00:00\", \"ppm\": 394.4}, {\"date_measured\": \"2012-04-01T00:00:00\", \"ppm\": 396.18}, {\"date_measured\": \"2012-05-01T00:00:00\", \"ppm\": 396.74}, {\"date_measured\": \"2012-06-01T00:00:00\", \"ppm\": 395.71}, {\"date_measured\": \"2012-07-01T00:00:00\", \"ppm\": 394.36}, {\"date_measured\": \"2012-08-01T00:00:00\", \"ppm\": 392.39}, {\"date_measured\": \"2012-09-01T00:00:00\", \"ppm\": 391.11}, {\"date_measured\": \"2012-10-01T00:00:00\", \"ppm\": 391.05}, {\"date_measured\": \"2012-11-01T00:00:00\", \"ppm\": 392.98}, {\"date_measured\": \"2012-12-01T00:00:00\", \"ppm\": 394.34}, {\"date_measured\": \"2013-01-01T00:00:00\", \"ppm\": 395.55}, {\"date_measured\": \"2013-02-01T00:00:00\", \"ppm\": 396.8}, {\"date_measured\": \"2013-03-01T00:00:00\", \"ppm\": 397.43}, {\"date_measured\": \"2013-04-01T00:00:00\", \"ppm\": 398.41}, {\"date_measured\": \"2013-05-01T00:00:00\", \"ppm\": 399.78}, {\"date_measured\": \"2013-06-01T00:00:00\", \"ppm\": 398.6}, {\"date_measured\": \"2013-07-01T00:00:00\", \"ppm\": 397.32}, {\"date_measured\": \"2013-08-01T00:00:00\", \"ppm\": 395.2}, {\"date_measured\": \"2013-09-01T00:00:00\", \"ppm\": 393.45}, {\"date_measured\": \"2013-10-01T00:00:00\", \"ppm\": 393.7}, {\"date_measured\": \"2013-11-01T00:00:00\", \"ppm\": 395.16}, {\"date_measured\": \"2013-12-01T00:00:00\", \"ppm\": 396.84}, {\"date_measured\": \"2014-01-01T00:00:00\", \"ppm\": 397.85}, {\"date_measured\": \"2014-02-01T00:00:00\", \"ppm\": 398.01}, {\"date_measured\": \"2014-03-01T00:00:00\", \"ppm\": 399.77}, {\"date_measured\": \"2014-04-01T00:00:00\", \"ppm\": 401.38}, {\"date_measured\": \"2014-05-01T00:00:00\", \"ppm\": 401.78}, {\"date_measured\": \"2014-06-01T00:00:00\", \"ppm\": 401.25}, {\"date_measured\": \"2014-07-01T00:00:00\", \"ppm\": 399.1}, {\"date_measured\": \"2014-08-01T00:00:00\", \"ppm\": 397.03}, {\"date_measured\": \"2014-09-01T00:00:00\", \"ppm\": 395.38}, {\"date_measured\": \"2014-10-01T00:00:00\", \"ppm\": 396.03}, {\"date_measured\": \"2014-11-01T00:00:00\", \"ppm\": 397.28}, {\"date_measured\": \"2014-12-01T00:00:00\", \"ppm\": 398.91}, {\"date_measured\": \"2015-01-01T00:00:00\", \"ppm\": 399.98}, {\"date_measured\": \"2015-02-01T00:00:00\", \"ppm\": 400.28}, {\"date_measured\": \"2015-03-01T00:00:00\", \"ppm\": 401.54}, {\"date_measured\": \"2015-04-01T00:00:00\", \"ppm\": 403.28}, {\"date_measured\": \"2015-05-01T00:00:00\", \"ppm\": 403.96}, {\"date_measured\": \"2015-06-01T00:00:00\", \"ppm\": 402.8}, {\"date_measured\": \"2015-07-01T00:00:00\", \"ppm\": 401.31}, {\"date_measured\": \"2015-08-01T00:00:00\", \"ppm\": 398.93}, {\"date_measured\": \"2015-09-01T00:00:00\", \"ppm\": 397.63}, {\"date_measured\": \"2015-10-01T00:00:00\", \"ppm\": 398.29}, {\"date_measured\": \"2015-11-01T00:00:00\", \"ppm\": 400.16}, {\"date_measured\": \"2015-12-01T00:00:00\", \"ppm\": 401.85}, {\"date_measured\": \"2016-01-01T00:00:00\", \"ppm\": 402.56}, {\"date_measured\": \"2016-02-01T00:00:00\", \"ppm\": 404.12}, {\"date_measured\": \"2016-03-01T00:00:00\", \"ppm\": 404.87}, {\"date_measured\": \"2016-04-01T00:00:00\", \"ppm\": 407.45}, {\"date_measured\": \"2016-05-01T00:00:00\", \"ppm\": 407.72}, {\"date_measured\": \"2016-06-01T00:00:00\", \"ppm\": 406.83}, {\"date_measured\": \"2016-07-01T00:00:00\", \"ppm\": 404.41}, {\"date_measured\": \"2016-08-01T00:00:00\", \"ppm\": 402.27}, {\"date_measured\": \"2016-09-01T00:00:00\", \"ppm\": 401.05}, {\"date_measured\": \"2016-10-01T00:00:00\", \"ppm\": 401.59}, {\"date_measured\": \"2016-11-01T00:00:00\", \"ppm\": 403.55}, {\"date_measured\": \"2016-12-01T00:00:00\", \"ppm\": 404.45}, {\"date_measured\": \"2017-01-01T00:00:00\", \"ppm\": 406.17}, {\"date_measured\": \"2017-02-01T00:00:00\", \"ppm\": 406.46}, {\"date_measured\": \"2017-03-01T00:00:00\", \"ppm\": 407.22}, {\"date_measured\": \"2017-04-01T00:00:00\", \"ppm\": 409.04}, {\"date_measured\": \"2017-05-01T00:00:00\", \"ppm\": 409.69}, {\"date_measured\": \"2017-06-01T00:00:00\", \"ppm\": 408.88}, {\"date_measured\": \"2017-07-01T00:00:00\", \"ppm\": 407.12}, {\"date_measured\": \"2017-08-01T00:00:00\", \"ppm\": 405.13}, {\"date_measured\": \"2017-09-01T00:00:00\", \"ppm\": 403.37}, {\"date_measured\": \"2017-10-01T00:00:00\", \"ppm\": 403.63}, {\"date_measured\": \"2017-11-01T00:00:00\", \"ppm\": 405.12}, {\"date_measured\": \"2017-12-01T00:00:00\", \"ppm\": 406.81}, {\"date_measured\": \"2018-01-01T00:00:00\", \"ppm\": 407.96}, {\"date_measured\": \"2018-02-01T00:00:00\", \"ppm\": 408.32}, {\"date_measured\": \"2018-03-01T00:00:00\", \"ppm\": 409.41}, {\"date_measured\": \"2018-04-01T00:00:00\", \"ppm\": 410.24}, {\"date_measured\": \"2018-05-01T00:00:00\", \"ppm\": 411.24}, {\"date_measured\": \"2018-06-01T00:00:00\", \"ppm\": 410.79}, {\"date_measured\": \"2018-07-01T00:00:00\", \"ppm\": 408.71}, {\"date_measured\": \"2018-08-01T00:00:00\", \"ppm\": 406.99}, {\"date_measured\": \"2018-09-01T00:00:00\", \"ppm\": 405.51}, {\"date_measured\": \"2018-10-01T00:00:00\", \"ppm\": 406.0}, {\"date_measured\": \"2018-11-01T00:00:00\", \"ppm\": 408.02}, {\"date_measured\": \"2018-12-01T00:00:00\", \"ppm\": 409.07}, {\"date_measured\": \"2019-01-01T00:00:00\", \"ppm\": 410.83}, {\"date_measured\": \"2019-02-01T00:00:00\", \"ppm\": 411.75}, {\"date_measured\": \"2019-03-01T00:00:00\", \"ppm\": 411.97}, {\"date_measured\": \"2019-04-01T00:00:00\", \"ppm\": 413.33}, {\"date_measured\": \"2019-05-01T00:00:00\", \"ppm\": 414.64}, {\"date_measured\": \"2019-06-01T00:00:00\", \"ppm\": 413.93}, {\"date_measured\": \"2019-07-01T00:00:00\", \"ppm\": 411.74}, {\"date_measured\": \"2019-08-01T00:00:00\", \"ppm\": 409.95}, {\"date_measured\": \"2019-09-01T00:00:00\", \"ppm\": 408.54}, {\"date_measured\": \"2019-10-01T00:00:00\", \"ppm\": 408.52}, {\"date_measured\": \"2019-11-01T00:00:00\", \"ppm\": 410.25}, {\"date_measured\": \"2019-12-01T00:00:00\", \"ppm\": 411.76}, {\"date_measured\": \"2020-01-01T00:00:00\", \"ppm\": 413.39}, {\"date_measured\": \"2020-02-01T00:00:00\", \"ppm\": 414.11}, {\"date_measured\": \"2020-03-01T00:00:00\", \"ppm\": 414.51}, {\"date_measured\": \"2020-04-01T00:00:00\", \"ppm\": 416.21}, {\"date_measured\": \"2020-05-01T00:00:00\", \"ppm\": 417.07}, {\"date_measured\": \"2020-06-01T00:00:00\", \"ppm\": 416.39}]}}, {\"mode\": \"vega-lite\"});\n</script>",
      "application/papermill.record/text/plain": "alt.Chart(...)"
     },
     "metadata": {
      "scrapbook": {
       "mime_prefix": "application/papermill.record/",
       "name": "co2_line_labels"
      }
     },
     "output_type": "display_data"
    }
   ],
   "source": [
    "glue('co2_line_labels', co2_line_labels, display=False)"
   ]
  },
  {
   "cell_type": "markdown",
   "id": "02eef178",
   "metadata": {},
   "source": [
    ":::{glue:figure} co2_line_labels\n",
    ":figwidth: 700px \n",
    ":name: co2_line_labels\n",
    "\n",
    "Line plot of atmospheric concentration of CO$_{2}$ over time with clearer axes and labels.\n",
    ":::\n",
    "\n",
    "> **Note:** The `configure_` function in `altair` is complex and supports many other functionalities, which can be viewed [here](https://altair-viz.github.io/user_guide/configuration.html)\n",
    "\n",
    "\n",
    "Finally, let's see if we can better understand the oscillation by changing the\n",
    "visualization slightly. Note that it is totally fine to use a small number of\n",
    "visualizations to answer different aspects of the question you are trying to\n",
    "answer. We will accomplish this by using *scale*, \\index{ggplot!scales}\n",
    "another important feature of `altair` that easily transforms the different\n",
    "variables and set limits.  We scale the horizontal axis using the `alt.Scale(domain=['1990', '1993'])` by restricting the x-axis values between 1990 and 1994,\n",
    "and the vertical axis with the `alt.Scale(zero=False)` function, to not start the y-axis with zero.\n",
    "In particular, here, we will use the `alt.Scale()` function to zoom in \n",
    "on just five years of data (say, 1990-1994).\n",
    "`domain` argument takes a list of length two \n",
    "to specify the upper and lower bounds to limit the axis."
   ]
  },
  {
   "cell_type": "code",
   "execution_count": 13,
   "id": "4d6ca2e3",
   "metadata": {
    "execution": {
     "iopub.execute_input": "2022-07-19T22:59:15.342397Z",
     "iopub.status.busy": "2022-07-19T22:59:15.342240Z",
     "iopub.status.idle": "2022-07-19T22:59:15.346071Z",
     "shell.execute_reply": "2022-07-19T22:59:15.345763Z"
    }
   },
   "outputs": [],
   "source": [
    "\n",
    "co2_line_scale = alt.Chart(co2_df).mark_line(color='black', clip=True).encode(\n",
    "    x=alt.X(\"date_measured\", title=\"Measurement Date\", axis=alt.Axis(tickCount=4), scale=alt.Scale(domain=['1990', '1994'])),\n",
    "    y=alt.Y(\"ppm\", scale=alt.Scale(zero=False), title=\"Atmospheric CO2 (ppm)\")\n",
    ").configure_axis(\n",
    "    titleFontSize=12\n",
    ")\n",
    "\n",
    "\n",
    "\n"
   ]
  },
  {
   "cell_type": "code",
   "execution_count": 14,
   "id": "8d399b14",
   "metadata": {
    "execution": {
     "iopub.execute_input": "2022-07-19T22:59:15.347770Z",
     "iopub.status.busy": "2022-07-19T22:59:15.347652Z",
     "iopub.status.idle": "2022-07-19T22:59:15.355966Z",
     "shell.execute_reply": "2022-07-19T22:59:15.355669Z"
    },
    "tags": [
     "remove-cell"
    ]
   },
   "outputs": [
    {
     "data": {
      "application/papermill.record/text/html": "\n<div id=\"altair-viz-0c039f5158a84ae6bb5baf7e8d03c4b8\"></div>\n<script type=\"text/javascript\">\n  var VEGA_DEBUG = (typeof VEGA_DEBUG == \"undefined\") ? {} : VEGA_DEBUG;\n  (function(spec, embedOpt){\n    let outputDiv = document.currentScript.previousElementSibling;\n    if (outputDiv.id !== \"altair-viz-0c039f5158a84ae6bb5baf7e8d03c4b8\") {\n      outputDiv = document.getElementById(\"altair-viz-0c039f5158a84ae6bb5baf7e8d03c4b8\");\n    }\n    const paths = {\n      \"vega\": \"https://cdn.jsdelivr.net/npm//vega@5?noext\",\n      \"vega-lib\": \"https://cdn.jsdelivr.net/npm//vega-lib?noext\",\n      \"vega-lite\": \"https://cdn.jsdelivr.net/npm//vega-lite@4.17.0?noext\",\n      \"vega-embed\": \"https://cdn.jsdelivr.net/npm//vega-embed@6?noext\",\n    };\n\n    function maybeLoadScript(lib, version) {\n      var key = `${lib.replace(\"-\", \"\")}_version`;\n      return (VEGA_DEBUG[key] == version) ?\n        Promise.resolve(paths[lib]) :\n        new Promise(function(resolve, reject) {\n          var s = document.createElement('script');\n          document.getElementsByTagName(\"head\")[0].appendChild(s);\n          s.async = true;\n          s.onload = () => {\n            VEGA_DEBUG[key] = version;\n            return resolve(paths[lib]);\n          };\n          s.onerror = () => reject(`Error loading script: ${paths[lib]}`);\n          s.src = paths[lib];\n        });\n    }\n\n    function showError(err) {\n      outputDiv.innerHTML = `<div class=\"error\" style=\"color:red;\">${err}</div>`;\n      throw err;\n    }\n\n    function displayChart(vegaEmbed) {\n      vegaEmbed(outputDiv, spec, embedOpt)\n        .catch(err => showError(`Javascript Error: ${err.message}<br>This usually means there's a typo in your chart specification. See the javascript console for the full traceback.`));\n    }\n\n    if(typeof define === \"function\" && define.amd) {\n      requirejs.config({paths});\n      require([\"vega-embed\"], displayChart, err => showError(`Error loading script: ${err.message}`));\n    } else {\n      maybeLoadScript(\"vega\", \"5\")\n        .then(() => maybeLoadScript(\"vega-lite\", \"4.17.0\"))\n        .then(() => maybeLoadScript(\"vega-embed\", \"6\"))\n        .catch(showError)\n        .then(() => displayChart(vegaEmbed));\n    }\n  })({\"config\": {\"view\": {\"continuousWidth\": 400, \"continuousHeight\": 300}, \"axis\": {\"titleFontSize\": 12}}, \"data\": {\"name\": \"data-ecfc281786dd23148efa483af3159f83\"}, \"mark\": {\"type\": \"line\", \"clip\": true, \"color\": \"black\"}, \"encoding\": {\"x\": {\"axis\": {\"tickCount\": 4}, \"field\": \"date_measured\", \"scale\": {\"domain\": [\"1990\", \"1994\"]}, \"title\": \"Measurement Date\", \"type\": \"temporal\"}, \"y\": {\"field\": \"ppm\", \"scale\": {\"zero\": false}, \"title\": \"Atmospheric CO2 (ppm)\", \"type\": \"quantitative\"}}, \"$schema\": \"https://vega.github.io/schema/vega-lite/v4.17.0.json\", \"datasets\": {\"data-ecfc281786dd23148efa483af3159f83\": [{\"date_measured\": \"1980-02-01T00:00:00\", \"ppm\": 338.34}, {\"date_measured\": \"1980-03-01T00:00:00\", \"ppm\": 340.01}, {\"date_measured\": \"1980-04-01T00:00:00\", \"ppm\": 340.93}, {\"date_measured\": \"1980-05-01T00:00:00\", \"ppm\": 341.48}, {\"date_measured\": \"1980-06-01T00:00:00\", \"ppm\": 341.33}, {\"date_measured\": \"1980-07-01T00:00:00\", \"ppm\": 339.4}, {\"date_measured\": \"1980-08-01T00:00:00\", \"ppm\": 337.7}, {\"date_measured\": \"1980-09-01T00:00:00\", \"ppm\": 336.19}, {\"date_measured\": \"1980-10-01T00:00:00\", \"ppm\": 336.15}, {\"date_measured\": \"1980-11-01T00:00:00\", \"ppm\": 337.27}, {\"date_measured\": \"1980-12-01T00:00:00\", \"ppm\": 338.32}, {\"date_measured\": \"1981-01-01T00:00:00\", \"ppm\": 339.29}, {\"date_measured\": \"1981-02-01T00:00:00\", \"ppm\": 340.55}, {\"date_measured\": \"1981-03-01T00:00:00\", \"ppm\": 341.61}, {\"date_measured\": \"1981-04-01T00:00:00\", \"ppm\": 342.53}, {\"date_measured\": \"1981-05-01T00:00:00\", \"ppm\": 343.03}, {\"date_measured\": \"1981-06-01T00:00:00\", \"ppm\": 342.54}, {\"date_measured\": \"1981-07-01T00:00:00\", \"ppm\": 340.78}, {\"date_measured\": \"1981-08-01T00:00:00\", \"ppm\": 338.44}, {\"date_measured\": \"1981-09-01T00:00:00\", \"ppm\": 336.95}, {\"date_measured\": \"1981-10-01T00:00:00\", \"ppm\": 337.08}, {\"date_measured\": \"1981-11-01T00:00:00\", \"ppm\": 338.58}, {\"date_measured\": \"1981-12-01T00:00:00\", \"ppm\": 339.88}, {\"date_measured\": \"1982-01-01T00:00:00\", \"ppm\": 340.96}, {\"date_measured\": \"1982-02-01T00:00:00\", \"ppm\": 341.73}, {\"date_measured\": \"1982-03-01T00:00:00\", \"ppm\": 342.81}, {\"date_measured\": \"1982-04-01T00:00:00\", \"ppm\": 343.97}, {\"date_measured\": \"1982-05-01T00:00:00\", \"ppm\": 344.63}, {\"date_measured\": \"1982-06-01T00:00:00\", \"ppm\": 343.79}, {\"date_measured\": \"1982-07-01T00:00:00\", \"ppm\": 342.32}, {\"date_measured\": \"1982-08-01T00:00:00\", \"ppm\": 340.09}, {\"date_measured\": \"1982-09-01T00:00:00\", \"ppm\": 338.28}, {\"date_measured\": \"1982-10-01T00:00:00\", \"ppm\": 338.29}, {\"date_measured\": \"1982-11-01T00:00:00\", \"ppm\": 339.6}, {\"date_measured\": \"1982-12-01T00:00:00\", \"ppm\": 340.9}, {\"date_measured\": \"1983-01-01T00:00:00\", \"ppm\": 341.68}, {\"date_measured\": \"1983-02-01T00:00:00\", \"ppm\": 342.9}, {\"date_measured\": \"1983-03-01T00:00:00\", \"ppm\": 343.33}, {\"date_measured\": \"1983-04-01T00:00:00\", \"ppm\": 345.25}, {\"date_measured\": \"1983-05-01T00:00:00\", \"ppm\": 346.03}, {\"date_measured\": \"1983-06-01T00:00:00\", \"ppm\": 345.63}, {\"date_measured\": \"1983-07-01T00:00:00\", \"ppm\": 344.19}, {\"date_measured\": \"1983-08-01T00:00:00\", \"ppm\": 342.27}, {\"date_measured\": \"1983-09-01T00:00:00\", \"ppm\": 340.35}, {\"date_measured\": \"1983-10-01T00:00:00\", \"ppm\": 340.38}, {\"date_measured\": \"1983-11-01T00:00:00\", \"ppm\": 341.59}, {\"date_measured\": \"1983-12-01T00:00:00\", \"ppm\": 343.05}, {\"date_measured\": \"1984-01-01T00:00:00\", \"ppm\": 344.1}, {\"date_measured\": \"1984-02-01T00:00:00\", \"ppm\": 344.79}, {\"date_measured\": \"1984-03-01T00:00:00\", \"ppm\": 345.52}, {\"date_measured\": \"1984-05-01T00:00:00\", \"ppm\": 347.63}, {\"date_measured\": \"1984-06-01T00:00:00\", \"ppm\": 346.98}, {\"date_measured\": \"1984-07-01T00:00:00\", \"ppm\": 345.53}, {\"date_measured\": \"1984-08-01T00:00:00\", \"ppm\": 343.55}, {\"date_measured\": \"1984-09-01T00:00:00\", \"ppm\": 341.4}, {\"date_measured\": \"1984-10-01T00:00:00\", \"ppm\": 341.67}, {\"date_measured\": \"1984-11-01T00:00:00\", \"ppm\": 343.1}, {\"date_measured\": \"1984-12-01T00:00:00\", \"ppm\": 344.7}, {\"date_measured\": \"1985-01-01T00:00:00\", \"ppm\": 345.21}, {\"date_measured\": \"1985-02-01T00:00:00\", \"ppm\": 346.16}, {\"date_measured\": \"1985-03-01T00:00:00\", \"ppm\": 347.74}, {\"date_measured\": \"1985-04-01T00:00:00\", \"ppm\": 348.34}, {\"date_measured\": \"1985-05-01T00:00:00\", \"ppm\": 349.06}, {\"date_measured\": \"1985-06-01T00:00:00\", \"ppm\": 348.38}, {\"date_measured\": \"1985-07-01T00:00:00\", \"ppm\": 346.71}, {\"date_measured\": \"1985-08-01T00:00:00\", \"ppm\": 345.02}, {\"date_measured\": \"1985-09-01T00:00:00\", \"ppm\": 343.27}, {\"date_measured\": \"1985-10-01T00:00:00\", \"ppm\": 343.13}, {\"date_measured\": \"1985-11-01T00:00:00\", \"ppm\": 344.49}, {\"date_measured\": \"1985-12-01T00:00:00\", \"ppm\": 345.88}, {\"date_measured\": \"1986-01-01T00:00:00\", \"ppm\": 346.56}, {\"date_measured\": \"1986-02-01T00:00:00\", \"ppm\": 347.28}, {\"date_measured\": \"1986-03-01T00:00:00\", \"ppm\": 348.01}, {\"date_measured\": \"1986-04-01T00:00:00\", \"ppm\": 349.77}, {\"date_measured\": \"1986-05-01T00:00:00\", \"ppm\": 350.38}, {\"date_measured\": \"1986-06-01T00:00:00\", \"ppm\": 349.93}, {\"date_measured\": \"1986-07-01T00:00:00\", \"ppm\": 348.16}, {\"date_measured\": \"1986-08-01T00:00:00\", \"ppm\": 346.08}, {\"date_measured\": \"1986-09-01T00:00:00\", \"ppm\": 345.22}, {\"date_measured\": \"1986-10-01T00:00:00\", \"ppm\": 344.51}, {\"date_measured\": \"1986-11-01T00:00:00\", \"ppm\": 345.93}, {\"date_measured\": \"1986-12-01T00:00:00\", \"ppm\": 347.22}, {\"date_measured\": \"1987-01-01T00:00:00\", \"ppm\": 348.52}, {\"date_measured\": \"1987-02-01T00:00:00\", \"ppm\": 348.73}, {\"date_measured\": \"1987-03-01T00:00:00\", \"ppm\": 349.73}, {\"date_measured\": \"1987-04-01T00:00:00\", \"ppm\": 351.31}, {\"date_measured\": \"1987-05-01T00:00:00\", \"ppm\": 352.09}, {\"date_measured\": \"1987-06-01T00:00:00\", \"ppm\": 351.53}, {\"date_measured\": \"1987-07-01T00:00:00\", \"ppm\": 350.11}, {\"date_measured\": \"1987-08-01T00:00:00\", \"ppm\": 348.08}, {\"date_measured\": \"1987-09-01T00:00:00\", \"ppm\": 346.52}, {\"date_measured\": \"1987-10-01T00:00:00\", \"ppm\": 346.59}, {\"date_measured\": \"1987-11-01T00:00:00\", \"ppm\": 347.96}, {\"date_measured\": \"1987-12-01T00:00:00\", \"ppm\": 349.16}, {\"date_measured\": \"1988-01-01T00:00:00\", \"ppm\": 350.39}, {\"date_measured\": \"1988-02-01T00:00:00\", \"ppm\": 351.64}, {\"date_measured\": \"1988-03-01T00:00:00\", \"ppm\": 352.4}, {\"date_measured\": \"1988-04-01T00:00:00\", \"ppm\": 353.69}, {\"date_measured\": \"1988-05-01T00:00:00\", \"ppm\": 354.21}, {\"date_measured\": \"1988-06-01T00:00:00\", \"ppm\": 353.72}, {\"date_measured\": \"1988-07-01T00:00:00\", \"ppm\": 352.69}, {\"date_measured\": \"1988-08-01T00:00:00\", \"ppm\": 350.4}, {\"date_measured\": \"1988-09-01T00:00:00\", \"ppm\": 348.92}, {\"date_measured\": \"1988-10-01T00:00:00\", \"ppm\": 349.13}, {\"date_measured\": \"1988-11-01T00:00:00\", \"ppm\": 350.2}, {\"date_measured\": \"1988-12-01T00:00:00\", \"ppm\": 351.41}, {\"date_measured\": \"1989-01-01T00:00:00\", \"ppm\": 352.91}, {\"date_measured\": \"1989-02-01T00:00:00\", \"ppm\": 353.27}, {\"date_measured\": \"1989-03-01T00:00:00\", \"ppm\": 353.96}, {\"date_measured\": \"1989-04-01T00:00:00\", \"ppm\": 355.64}, {\"date_measured\": \"1989-05-01T00:00:00\", \"ppm\": 355.86}, {\"date_measured\": \"1989-06-01T00:00:00\", \"ppm\": 355.37}, {\"date_measured\": \"1989-07-01T00:00:00\", \"ppm\": 353.99}, {\"date_measured\": \"1989-08-01T00:00:00\", \"ppm\": 351.81}, {\"date_measured\": \"1989-09-01T00:00:00\", \"ppm\": 350.05}, {\"date_measured\": \"1989-10-01T00:00:00\", \"ppm\": 350.25}, {\"date_measured\": \"1989-11-01T00:00:00\", \"ppm\": 351.49}, {\"date_measured\": \"1989-12-01T00:00:00\", \"ppm\": 352.85}, {\"date_measured\": \"1990-01-01T00:00:00\", \"ppm\": 353.8}, {\"date_measured\": \"1990-02-01T00:00:00\", \"ppm\": 355.04}, {\"date_measured\": \"1990-03-01T00:00:00\", \"ppm\": 355.73}, {\"date_measured\": \"1990-04-01T00:00:00\", \"ppm\": 356.32}, {\"date_measured\": \"1990-05-01T00:00:00\", \"ppm\": 357.32}, {\"date_measured\": \"1990-06-01T00:00:00\", \"ppm\": 356.34}, {\"date_measured\": \"1990-07-01T00:00:00\", \"ppm\": 354.84}, {\"date_measured\": \"1990-08-01T00:00:00\", \"ppm\": 353.01}, {\"date_measured\": \"1990-09-01T00:00:00\", \"ppm\": 351.31}, {\"date_measured\": \"1990-10-01T00:00:00\", \"ppm\": 351.62}, {\"date_measured\": \"1990-11-01T00:00:00\", \"ppm\": 353.07}, {\"date_measured\": \"1990-12-01T00:00:00\", \"ppm\": 354.33}, {\"date_measured\": \"1991-01-01T00:00:00\", \"ppm\": 354.84}, {\"date_measured\": \"1991-02-01T00:00:00\", \"ppm\": 355.73}, {\"date_measured\": \"1991-03-01T00:00:00\", \"ppm\": 357.23}, {\"date_measured\": \"1991-04-01T00:00:00\", \"ppm\": 358.66}, {\"date_measured\": \"1991-05-01T00:00:00\", \"ppm\": 359.13}, {\"date_measured\": \"1991-06-01T00:00:00\", \"ppm\": 358.13}, {\"date_measured\": \"1991-07-01T00:00:00\", \"ppm\": 356.19}, {\"date_measured\": \"1991-08-01T00:00:00\", \"ppm\": 353.85}, {\"date_measured\": \"1991-09-01T00:00:00\", \"ppm\": 352.25}, {\"date_measured\": \"1991-10-01T00:00:00\", \"ppm\": 352.35}, {\"date_measured\": \"1991-11-01T00:00:00\", \"ppm\": 353.81}, {\"date_measured\": \"1991-12-01T00:00:00\", \"ppm\": 355.12}, {\"date_measured\": \"1992-01-01T00:00:00\", \"ppm\": 356.25}, {\"date_measured\": \"1992-02-01T00:00:00\", \"ppm\": 357.11}, {\"date_measured\": \"1992-03-01T00:00:00\", \"ppm\": 357.86}, {\"date_measured\": \"1992-04-01T00:00:00\", \"ppm\": 359.09}, {\"date_measured\": \"1992-05-01T00:00:00\", \"ppm\": 359.59}, {\"date_measured\": \"1992-06-01T00:00:00\", \"ppm\": 359.33}, {\"date_measured\": \"1992-07-01T00:00:00\", \"ppm\": 357.01}, {\"date_measured\": \"1992-08-01T00:00:00\", \"ppm\": 354.94}, {\"date_measured\": \"1992-09-01T00:00:00\", \"ppm\": 352.95}, {\"date_measured\": \"1992-10-01T00:00:00\", \"ppm\": 353.32}, {\"date_measured\": \"1992-11-01T00:00:00\", \"ppm\": 354.32}, {\"date_measured\": \"1992-12-01T00:00:00\", \"ppm\": 355.57}, {\"date_measured\": \"1993-01-01T00:00:00\", \"ppm\": 357.0}, {\"date_measured\": \"1993-02-01T00:00:00\", \"ppm\": 357.31}, {\"date_measured\": \"1993-03-01T00:00:00\", \"ppm\": 358.47}, {\"date_measured\": \"1993-04-01T00:00:00\", \"ppm\": 359.27}, {\"date_measured\": \"1993-05-01T00:00:00\", \"ppm\": 360.19}, {\"date_measured\": \"1993-06-01T00:00:00\", \"ppm\": 359.52}, {\"date_measured\": \"1993-07-01T00:00:00\", \"ppm\": 357.33}, {\"date_measured\": \"1993-08-01T00:00:00\", \"ppm\": 355.64}, {\"date_measured\": \"1993-09-01T00:00:00\", \"ppm\": 354.03}, {\"date_measured\": \"1993-10-01T00:00:00\", \"ppm\": 354.12}, {\"date_measured\": \"1993-11-01T00:00:00\", \"ppm\": 355.41}, {\"date_measured\": \"1993-12-01T00:00:00\", \"ppm\": 356.91}, {\"date_measured\": \"1994-01-01T00:00:00\", \"ppm\": 358.24}, {\"date_measured\": \"1994-02-01T00:00:00\", \"ppm\": 358.92}, {\"date_measured\": \"1994-03-01T00:00:00\", \"ppm\": 359.99}, {\"date_measured\": \"1994-04-01T00:00:00\", \"ppm\": 361.23}, {\"date_measured\": \"1994-05-01T00:00:00\", \"ppm\": 361.65}, {\"date_measured\": \"1994-06-01T00:00:00\", \"ppm\": 360.81}, {\"date_measured\": \"1994-07-01T00:00:00\", \"ppm\": 359.38}, {\"date_measured\": \"1994-08-01T00:00:00\", \"ppm\": 357.46}, {\"date_measured\": \"1994-09-01T00:00:00\", \"ppm\": 355.73}, {\"date_measured\": \"1994-10-01T00:00:00\", \"ppm\": 356.08}, {\"date_measured\": \"1994-11-01T00:00:00\", \"ppm\": 357.53}, {\"date_measured\": \"1994-12-01T00:00:00\", \"ppm\": 358.98}, {\"date_measured\": \"1995-01-01T00:00:00\", \"ppm\": 359.92}, {\"date_measured\": \"1995-02-01T00:00:00\", \"ppm\": 360.86}, {\"date_measured\": \"1995-03-01T00:00:00\", \"ppm\": 361.83}, {\"date_measured\": \"1995-04-01T00:00:00\", \"ppm\": 363.3}, {\"date_measured\": \"1995-05-01T00:00:00\", \"ppm\": 363.69}, {\"date_measured\": \"1995-06-01T00:00:00\", \"ppm\": 363.19}, {\"date_measured\": \"1995-07-01T00:00:00\", \"ppm\": 361.64}, {\"date_measured\": \"1995-08-01T00:00:00\", \"ppm\": 359.12}, {\"date_measured\": \"1995-09-01T00:00:00\", \"ppm\": 358.17}, {\"date_measured\": \"1995-10-01T00:00:00\", \"ppm\": 357.99}, {\"date_measured\": \"1995-11-01T00:00:00\", \"ppm\": 359.45}, {\"date_measured\": \"1995-12-01T00:00:00\", \"ppm\": 360.68}, {\"date_measured\": \"1996-01-01T00:00:00\", \"ppm\": 362.07}, {\"date_measured\": \"1996-02-01T00:00:00\", \"ppm\": 363.24}, {\"date_measured\": \"1996-03-01T00:00:00\", \"ppm\": 364.17}, {\"date_measured\": \"1996-04-01T00:00:00\", \"ppm\": 364.57}, {\"date_measured\": \"1996-05-01T00:00:00\", \"ppm\": 365.13}, {\"date_measured\": \"1996-06-01T00:00:00\", \"ppm\": 364.92}, {\"date_measured\": \"1996-07-01T00:00:00\", \"ppm\": 363.55}, {\"date_measured\": \"1996-08-01T00:00:00\", \"ppm\": 361.38}, {\"date_measured\": \"1996-09-01T00:00:00\", \"ppm\": 359.54}, {\"date_measured\": \"1996-10-01T00:00:00\", \"ppm\": 359.58}, {\"date_measured\": \"1996-11-01T00:00:00\", \"ppm\": 360.89}, {\"date_measured\": \"1996-12-01T00:00:00\", \"ppm\": 362.24}, {\"date_measured\": \"1997-01-01T00:00:00\", \"ppm\": 363.09}, {\"date_measured\": \"1997-02-01T00:00:00\", \"ppm\": 364.03}, {\"date_measured\": \"1997-03-01T00:00:00\", \"ppm\": 364.51}, {\"date_measured\": \"1997-04-01T00:00:00\", \"ppm\": 366.35}, {\"date_measured\": \"1997-05-01T00:00:00\", \"ppm\": 366.64}, {\"date_measured\": \"1997-06-01T00:00:00\", \"ppm\": 365.59}, {\"date_measured\": \"1997-07-01T00:00:00\", \"ppm\": 364.31}, {\"date_measured\": \"1997-08-01T00:00:00\", \"ppm\": 362.25}, {\"date_measured\": \"1997-09-01T00:00:00\", \"ppm\": 360.29}, {\"date_measured\": \"1997-10-01T00:00:00\", \"ppm\": 360.82}, {\"date_measured\": \"1997-11-01T00:00:00\", \"ppm\": 362.49}, {\"date_measured\": \"1997-12-01T00:00:00\", \"ppm\": 364.38}, {\"date_measured\": \"1998-01-01T00:00:00\", \"ppm\": 365.27}, {\"date_measured\": \"1998-02-01T00:00:00\", \"ppm\": 365.98}, {\"date_measured\": \"1998-03-01T00:00:00\", \"ppm\": 367.24}, {\"date_measured\": \"1998-04-01T00:00:00\", \"ppm\": 368.66}, {\"date_measured\": \"1998-05-01T00:00:00\", \"ppm\": 369.42}, {\"date_measured\": \"1998-06-01T00:00:00\", \"ppm\": 368.99}, {\"date_measured\": \"1998-07-01T00:00:00\", \"ppm\": 367.82}, {\"date_measured\": \"1998-08-01T00:00:00\", \"ppm\": 365.95}, {\"date_measured\": \"1998-09-01T00:00:00\", \"ppm\": 364.02}, {\"date_measured\": \"1998-10-01T00:00:00\", \"ppm\": 364.4}, {\"date_measured\": \"1998-11-01T00:00:00\", \"ppm\": 365.52}, {\"date_measured\": \"1998-12-01T00:00:00\", \"ppm\": 367.13}, {\"date_measured\": \"1999-01-01T00:00:00\", \"ppm\": 368.18}, {\"date_measured\": \"1999-02-01T00:00:00\", \"ppm\": 369.07}, {\"date_measured\": \"1999-03-01T00:00:00\", \"ppm\": 369.68}, {\"date_measured\": \"1999-04-01T00:00:00\", \"ppm\": 370.99}, {\"date_measured\": \"1999-05-01T00:00:00\", \"ppm\": 370.96}, {\"date_measured\": \"1999-06-01T00:00:00\", \"ppm\": 370.3}, {\"date_measured\": \"1999-07-01T00:00:00\", \"ppm\": 369.45}, {\"date_measured\": \"1999-08-01T00:00:00\", \"ppm\": 366.9}, {\"date_measured\": \"1999-09-01T00:00:00\", \"ppm\": 364.81}, {\"date_measured\": \"1999-10-01T00:00:00\", \"ppm\": 365.37}, {\"date_measured\": \"1999-11-01T00:00:00\", \"ppm\": 366.72}, {\"date_measured\": \"1999-12-01T00:00:00\", \"ppm\": 368.1}, {\"date_measured\": \"2000-01-01T00:00:00\", \"ppm\": 369.29}, {\"date_measured\": \"2000-02-01T00:00:00\", \"ppm\": 369.55}, {\"date_measured\": \"2000-03-01T00:00:00\", \"ppm\": 370.6}, {\"date_measured\": \"2000-04-01T00:00:00\", \"ppm\": 371.82}, {\"date_measured\": \"2000-05-01T00:00:00\", \"ppm\": 371.58}, {\"date_measured\": \"2000-06-01T00:00:00\", \"ppm\": 371.7}, {\"date_measured\": \"2000-07-01T00:00:00\", \"ppm\": 369.86}, {\"date_measured\": \"2000-08-01T00:00:00\", \"ppm\": 368.13}, {\"date_measured\": \"2000-09-01T00:00:00\", \"ppm\": 367.0}, {\"date_measured\": \"2000-10-01T00:00:00\", \"ppm\": 367.03}, {\"date_measured\": \"2000-11-01T00:00:00\", \"ppm\": 368.37}, {\"date_measured\": \"2000-12-01T00:00:00\", \"ppm\": 369.67}, {\"date_measured\": \"2001-01-01T00:00:00\", \"ppm\": 370.59}, {\"date_measured\": \"2001-02-01T00:00:00\", \"ppm\": 371.51}, {\"date_measured\": \"2001-03-01T00:00:00\", \"ppm\": 372.43}, {\"date_measured\": \"2001-04-01T00:00:00\", \"ppm\": 373.37}, {\"date_measured\": \"2001-05-01T00:00:00\", \"ppm\": 373.85}, {\"date_measured\": \"2001-06-01T00:00:00\", \"ppm\": 373.22}, {\"date_measured\": \"2001-07-01T00:00:00\", \"ppm\": 371.5}, {\"date_measured\": \"2001-08-01T00:00:00\", \"ppm\": 369.61}, {\"date_measured\": \"2001-09-01T00:00:00\", \"ppm\": 368.18}, {\"date_measured\": \"2001-10-01T00:00:00\", \"ppm\": 368.45}, {\"date_measured\": \"2001-11-01T00:00:00\", \"ppm\": 369.76}, {\"date_measured\": \"2001-12-01T00:00:00\", \"ppm\": 371.24}, {\"date_measured\": \"2002-01-01T00:00:00\", \"ppm\": 372.53}, {\"date_measured\": \"2002-02-01T00:00:00\", \"ppm\": 373.2}, {\"date_measured\": \"2002-03-01T00:00:00\", \"ppm\": 374.12}, {\"date_measured\": \"2002-04-01T00:00:00\", \"ppm\": 375.02}, {\"date_measured\": \"2002-05-01T00:00:00\", \"ppm\": 375.76}, {\"date_measured\": \"2002-06-01T00:00:00\", \"ppm\": 375.52}, {\"date_measured\": \"2002-07-01T00:00:00\", \"ppm\": 374.01}, {\"date_measured\": \"2002-08-01T00:00:00\", \"ppm\": 371.85}, {\"date_measured\": \"2002-09-01T00:00:00\", \"ppm\": 370.75}, {\"date_measured\": \"2002-10-01T00:00:00\", \"ppm\": 370.55}, {\"date_measured\": \"2002-11-01T00:00:00\", \"ppm\": 372.25}, {\"date_measured\": \"2002-12-01T00:00:00\", \"ppm\": 373.79}, {\"date_measured\": \"2003-01-01T00:00:00\", \"ppm\": 374.88}, {\"date_measured\": \"2003-02-01T00:00:00\", \"ppm\": 375.64}, {\"date_measured\": \"2003-03-01T00:00:00\", \"ppm\": 376.45}, {\"date_measured\": \"2003-04-01T00:00:00\", \"ppm\": 377.73}, {\"date_measured\": \"2003-05-01T00:00:00\", \"ppm\": 378.6}, {\"date_measured\": \"2003-06-01T00:00:00\", \"ppm\": 378.28}, {\"date_measured\": \"2003-07-01T00:00:00\", \"ppm\": 376.7}, {\"date_measured\": \"2003-08-01T00:00:00\", \"ppm\": 374.38}, {\"date_measured\": \"2003-09-01T00:00:00\", \"ppm\": 373.17}, {\"date_measured\": \"2003-10-01T00:00:00\", \"ppm\": 373.15}, {\"date_measured\": \"2003-11-01T00:00:00\", \"ppm\": 374.66}, {\"date_measured\": \"2003-12-01T00:00:00\", \"ppm\": 375.99}, {\"date_measured\": \"2004-01-01T00:00:00\", \"ppm\": 377.0}, {\"date_measured\": \"2004-02-01T00:00:00\", \"ppm\": 377.87}, {\"date_measured\": \"2004-03-01T00:00:00\", \"ppm\": 378.88}, {\"date_measured\": \"2004-04-01T00:00:00\", \"ppm\": 380.35}, {\"date_measured\": \"2004-05-01T00:00:00\", \"ppm\": 380.62}, {\"date_measured\": \"2004-06-01T00:00:00\", \"ppm\": 379.69}, {\"date_measured\": \"2004-07-01T00:00:00\", \"ppm\": 377.47}, {\"date_measured\": \"2004-08-01T00:00:00\", \"ppm\": 376.01}, {\"date_measured\": \"2004-09-01T00:00:00\", \"ppm\": 374.25}, {\"date_measured\": \"2004-10-01T00:00:00\", \"ppm\": 374.46}, {\"date_measured\": \"2004-11-01T00:00:00\", \"ppm\": 376.16}, {\"date_measured\": \"2004-12-01T00:00:00\", \"ppm\": 377.51}, {\"date_measured\": \"2005-01-01T00:00:00\", \"ppm\": 378.46}, {\"date_measured\": \"2005-02-01T00:00:00\", \"ppm\": 379.73}, {\"date_measured\": \"2005-03-01T00:00:00\", \"ppm\": 380.77}, {\"date_measured\": \"2005-04-01T00:00:00\", \"ppm\": 382.29}, {\"date_measured\": \"2005-05-01T00:00:00\", \"ppm\": 382.45}, {\"date_measured\": \"2005-06-01T00:00:00\", \"ppm\": 382.21}, {\"date_measured\": \"2005-07-01T00:00:00\", \"ppm\": 380.74}, {\"date_measured\": \"2005-08-01T00:00:00\", \"ppm\": 378.74}, {\"date_measured\": \"2005-09-01T00:00:00\", \"ppm\": 376.7}, {\"date_measured\": \"2005-10-01T00:00:00\", \"ppm\": 377.0}, {\"date_measured\": \"2005-11-01T00:00:00\", \"ppm\": 378.35}, {\"date_measured\": \"2005-12-01T00:00:00\", \"ppm\": 380.11}, {\"date_measured\": \"2006-01-01T00:00:00\", \"ppm\": 381.38}, {\"date_measured\": \"2006-02-01T00:00:00\", \"ppm\": 382.2}, {\"date_measured\": \"2006-03-01T00:00:00\", \"ppm\": 382.67}, {\"date_measured\": \"2006-04-01T00:00:00\", \"ppm\": 384.61}, {\"date_measured\": \"2006-05-01T00:00:00\", \"ppm\": 385.03}, {\"date_measured\": \"2006-06-01T00:00:00\", \"ppm\": 384.05}, {\"date_measured\": \"2006-07-01T00:00:00\", \"ppm\": 382.46}, {\"date_measured\": \"2006-08-01T00:00:00\", \"ppm\": 380.41}, {\"date_measured\": \"2006-09-01T00:00:00\", \"ppm\": 378.85}, {\"date_measured\": \"2006-10-01T00:00:00\", \"ppm\": 379.13}, {\"date_measured\": \"2006-11-01T00:00:00\", \"ppm\": 380.15}, {\"date_measured\": \"2006-12-01T00:00:00\", \"ppm\": 381.82}, {\"date_measured\": \"2007-01-01T00:00:00\", \"ppm\": 382.89}, {\"date_measured\": \"2007-02-01T00:00:00\", \"ppm\": 383.9}, {\"date_measured\": \"2007-03-01T00:00:00\", \"ppm\": 384.58}, {\"date_measured\": \"2007-04-01T00:00:00\", \"ppm\": 386.5}, {\"date_measured\": \"2007-05-01T00:00:00\", \"ppm\": 386.56}, {\"date_measured\": \"2007-06-01T00:00:00\", \"ppm\": 386.1}, {\"date_measured\": \"2007-07-01T00:00:00\", \"ppm\": 384.5}, {\"date_measured\": \"2007-08-01T00:00:00\", \"ppm\": 381.99}, {\"date_measured\": \"2007-09-01T00:00:00\", \"ppm\": 380.96}, {\"date_measured\": \"2007-10-01T00:00:00\", \"ppm\": 381.12}, {\"date_measured\": \"2007-11-01T00:00:00\", \"ppm\": 382.45}, {\"date_measured\": \"2007-12-01T00:00:00\", \"ppm\": 383.94}, {\"date_measured\": \"2008-01-01T00:00:00\", \"ppm\": 385.52}, {\"date_measured\": \"2008-02-01T00:00:00\", \"ppm\": 385.82}, {\"date_measured\": \"2008-03-01T00:00:00\", \"ppm\": 386.03}, {\"date_measured\": \"2008-04-01T00:00:00\", \"ppm\": 387.21}, {\"date_measured\": \"2008-05-01T00:00:00\", \"ppm\": 388.54}, {\"date_measured\": \"2008-06-01T00:00:00\", \"ppm\": 387.76}, {\"date_measured\": \"2008-07-01T00:00:00\", \"ppm\": 386.37}, {\"date_measured\": \"2008-08-01T00:00:00\", \"ppm\": 384.09}, {\"date_measured\": \"2008-09-01T00:00:00\", \"ppm\": 383.18}, {\"date_measured\": \"2008-10-01T00:00:00\", \"ppm\": 382.99}, {\"date_measured\": \"2008-11-01T00:00:00\", \"ppm\": 384.19}, {\"date_measured\": \"2008-12-01T00:00:00\", \"ppm\": 385.56}, {\"date_measured\": \"2009-01-01T00:00:00\", \"ppm\": 386.94}, {\"date_measured\": \"2009-02-01T00:00:00\", \"ppm\": 387.48}, {\"date_measured\": \"2009-03-01T00:00:00\", \"ppm\": 388.82}, {\"date_measured\": \"2009-04-01T00:00:00\", \"ppm\": 389.55}, {\"date_measured\": \"2009-05-01T00:00:00\", \"ppm\": 390.14}, {\"date_measured\": \"2009-06-01T00:00:00\", \"ppm\": 389.48}, {\"date_measured\": \"2009-07-01T00:00:00\", \"ppm\": 388.03}, {\"date_measured\": \"2009-08-01T00:00:00\", \"ppm\": 386.11}, {\"date_measured\": \"2009-09-01T00:00:00\", \"ppm\": 384.74}, {\"date_measured\": \"2009-10-01T00:00:00\", \"ppm\": 384.43}, {\"date_measured\": \"2009-11-01T00:00:00\", \"ppm\": 386.02}, {\"date_measured\": \"2009-12-01T00:00:00\", \"ppm\": 387.42}, {\"date_measured\": \"2010-01-01T00:00:00\", \"ppm\": 388.71}, {\"date_measured\": \"2010-02-01T00:00:00\", \"ppm\": 390.2}, {\"date_measured\": \"2010-03-01T00:00:00\", \"ppm\": 391.17}, {\"date_measured\": \"2010-04-01T00:00:00\", \"ppm\": 392.46}, {\"date_measured\": \"2010-05-01T00:00:00\", \"ppm\": 393.0}, {\"date_measured\": \"2010-06-01T00:00:00\", \"ppm\": 392.15}, {\"date_measured\": \"2010-07-01T00:00:00\", \"ppm\": 390.2}, {\"date_measured\": \"2010-08-01T00:00:00\", \"ppm\": 388.35}, {\"date_measured\": \"2010-09-01T00:00:00\", \"ppm\": 386.85}, {\"date_measured\": \"2010-10-01T00:00:00\", \"ppm\": 387.24}, {\"date_measured\": \"2010-11-01T00:00:00\", \"ppm\": 388.67}, {\"date_measured\": \"2010-12-01T00:00:00\", \"ppm\": 389.79}, {\"date_measured\": \"2011-01-01T00:00:00\", \"ppm\": 391.33}, {\"date_measured\": \"2011-02-01T00:00:00\", \"ppm\": 391.86}, {\"date_measured\": \"2011-03-01T00:00:00\", \"ppm\": 392.6}, {\"date_measured\": \"2011-04-01T00:00:00\", \"ppm\": 393.25}, {\"date_measured\": \"2011-05-01T00:00:00\", \"ppm\": 394.19}, {\"date_measured\": \"2011-06-01T00:00:00\", \"ppm\": 393.74}, {\"date_measured\": \"2011-07-01T00:00:00\", \"ppm\": 392.51}, {\"date_measured\": \"2011-08-01T00:00:00\", \"ppm\": 390.13}, {\"date_measured\": \"2011-09-01T00:00:00\", \"ppm\": 389.08}, {\"date_measured\": \"2011-10-01T00:00:00\", \"ppm\": 389.0}, {\"date_measured\": \"2011-11-01T00:00:00\", \"ppm\": 390.28}, {\"date_measured\": \"2011-12-01T00:00:00\", \"ppm\": 391.86}, {\"date_measured\": \"2012-01-01T00:00:00\", \"ppm\": 393.12}, {\"date_measured\": \"2012-02-01T00:00:00\", \"ppm\": 393.86}, {\"date_measured\": \"2012-03-01T00:00:00\", \"ppm\": 394.4}, {\"date_measured\": \"2012-04-01T00:00:00\", \"ppm\": 396.18}, {\"date_measured\": \"2012-05-01T00:00:00\", \"ppm\": 396.74}, {\"date_measured\": \"2012-06-01T00:00:00\", \"ppm\": 395.71}, {\"date_measured\": \"2012-07-01T00:00:00\", \"ppm\": 394.36}, {\"date_measured\": \"2012-08-01T00:00:00\", \"ppm\": 392.39}, {\"date_measured\": \"2012-09-01T00:00:00\", \"ppm\": 391.11}, {\"date_measured\": \"2012-10-01T00:00:00\", \"ppm\": 391.05}, {\"date_measured\": \"2012-11-01T00:00:00\", \"ppm\": 392.98}, {\"date_measured\": \"2012-12-01T00:00:00\", \"ppm\": 394.34}, {\"date_measured\": \"2013-01-01T00:00:00\", \"ppm\": 395.55}, {\"date_measured\": \"2013-02-01T00:00:00\", \"ppm\": 396.8}, {\"date_measured\": \"2013-03-01T00:00:00\", \"ppm\": 397.43}, {\"date_measured\": \"2013-04-01T00:00:00\", \"ppm\": 398.41}, {\"date_measured\": \"2013-05-01T00:00:00\", \"ppm\": 399.78}, {\"date_measured\": \"2013-06-01T00:00:00\", \"ppm\": 398.6}, {\"date_measured\": \"2013-07-01T00:00:00\", \"ppm\": 397.32}, {\"date_measured\": \"2013-08-01T00:00:00\", \"ppm\": 395.2}, {\"date_measured\": \"2013-09-01T00:00:00\", \"ppm\": 393.45}, {\"date_measured\": \"2013-10-01T00:00:00\", \"ppm\": 393.7}, {\"date_measured\": \"2013-11-01T00:00:00\", \"ppm\": 395.16}, {\"date_measured\": \"2013-12-01T00:00:00\", \"ppm\": 396.84}, {\"date_measured\": \"2014-01-01T00:00:00\", \"ppm\": 397.85}, {\"date_measured\": \"2014-02-01T00:00:00\", \"ppm\": 398.01}, {\"date_measured\": \"2014-03-01T00:00:00\", \"ppm\": 399.77}, {\"date_measured\": \"2014-04-01T00:00:00\", \"ppm\": 401.38}, {\"date_measured\": \"2014-05-01T00:00:00\", \"ppm\": 401.78}, {\"date_measured\": \"2014-06-01T00:00:00\", \"ppm\": 401.25}, {\"date_measured\": \"2014-07-01T00:00:00\", \"ppm\": 399.1}, {\"date_measured\": \"2014-08-01T00:00:00\", \"ppm\": 397.03}, {\"date_measured\": \"2014-09-01T00:00:00\", \"ppm\": 395.38}, {\"date_measured\": \"2014-10-01T00:00:00\", \"ppm\": 396.03}, {\"date_measured\": \"2014-11-01T00:00:00\", \"ppm\": 397.28}, {\"date_measured\": \"2014-12-01T00:00:00\", \"ppm\": 398.91}, {\"date_measured\": \"2015-01-01T00:00:00\", \"ppm\": 399.98}, {\"date_measured\": \"2015-02-01T00:00:00\", \"ppm\": 400.28}, {\"date_measured\": \"2015-03-01T00:00:00\", \"ppm\": 401.54}, {\"date_measured\": \"2015-04-01T00:00:00\", \"ppm\": 403.28}, {\"date_measured\": \"2015-05-01T00:00:00\", \"ppm\": 403.96}, {\"date_measured\": \"2015-06-01T00:00:00\", \"ppm\": 402.8}, {\"date_measured\": \"2015-07-01T00:00:00\", \"ppm\": 401.31}, {\"date_measured\": \"2015-08-01T00:00:00\", \"ppm\": 398.93}, {\"date_measured\": \"2015-09-01T00:00:00\", \"ppm\": 397.63}, {\"date_measured\": \"2015-10-01T00:00:00\", \"ppm\": 398.29}, {\"date_measured\": \"2015-11-01T00:00:00\", \"ppm\": 400.16}, {\"date_measured\": \"2015-12-01T00:00:00\", \"ppm\": 401.85}, {\"date_measured\": \"2016-01-01T00:00:00\", \"ppm\": 402.56}, {\"date_measured\": \"2016-02-01T00:00:00\", \"ppm\": 404.12}, {\"date_measured\": \"2016-03-01T00:00:00\", \"ppm\": 404.87}, {\"date_measured\": \"2016-04-01T00:00:00\", \"ppm\": 407.45}, {\"date_measured\": \"2016-05-01T00:00:00\", \"ppm\": 407.72}, {\"date_measured\": \"2016-06-01T00:00:00\", \"ppm\": 406.83}, {\"date_measured\": \"2016-07-01T00:00:00\", \"ppm\": 404.41}, {\"date_measured\": \"2016-08-01T00:00:00\", \"ppm\": 402.27}, {\"date_measured\": \"2016-09-01T00:00:00\", \"ppm\": 401.05}, {\"date_measured\": \"2016-10-01T00:00:00\", \"ppm\": 401.59}, {\"date_measured\": \"2016-11-01T00:00:00\", \"ppm\": 403.55}, {\"date_measured\": \"2016-12-01T00:00:00\", \"ppm\": 404.45}, {\"date_measured\": \"2017-01-01T00:00:00\", \"ppm\": 406.17}, {\"date_measured\": \"2017-02-01T00:00:00\", \"ppm\": 406.46}, {\"date_measured\": \"2017-03-01T00:00:00\", \"ppm\": 407.22}, {\"date_measured\": \"2017-04-01T00:00:00\", \"ppm\": 409.04}, {\"date_measured\": \"2017-05-01T00:00:00\", \"ppm\": 409.69}, {\"date_measured\": \"2017-06-01T00:00:00\", \"ppm\": 408.88}, {\"date_measured\": \"2017-07-01T00:00:00\", \"ppm\": 407.12}, {\"date_measured\": \"2017-08-01T00:00:00\", \"ppm\": 405.13}, {\"date_measured\": \"2017-09-01T00:00:00\", \"ppm\": 403.37}, {\"date_measured\": \"2017-10-01T00:00:00\", \"ppm\": 403.63}, {\"date_measured\": \"2017-11-01T00:00:00\", \"ppm\": 405.12}, {\"date_measured\": \"2017-12-01T00:00:00\", \"ppm\": 406.81}, {\"date_measured\": \"2018-01-01T00:00:00\", \"ppm\": 407.96}, {\"date_measured\": \"2018-02-01T00:00:00\", \"ppm\": 408.32}, {\"date_measured\": \"2018-03-01T00:00:00\", \"ppm\": 409.41}, {\"date_measured\": \"2018-04-01T00:00:00\", \"ppm\": 410.24}, {\"date_measured\": \"2018-05-01T00:00:00\", \"ppm\": 411.24}, {\"date_measured\": \"2018-06-01T00:00:00\", \"ppm\": 410.79}, {\"date_measured\": \"2018-07-01T00:00:00\", \"ppm\": 408.71}, {\"date_measured\": \"2018-08-01T00:00:00\", \"ppm\": 406.99}, {\"date_measured\": \"2018-09-01T00:00:00\", \"ppm\": 405.51}, {\"date_measured\": \"2018-10-01T00:00:00\", \"ppm\": 406.0}, {\"date_measured\": \"2018-11-01T00:00:00\", \"ppm\": 408.02}, {\"date_measured\": \"2018-12-01T00:00:00\", \"ppm\": 409.07}, {\"date_measured\": \"2019-01-01T00:00:00\", \"ppm\": 410.83}, {\"date_measured\": \"2019-02-01T00:00:00\", \"ppm\": 411.75}, {\"date_measured\": \"2019-03-01T00:00:00\", \"ppm\": 411.97}, {\"date_measured\": \"2019-04-01T00:00:00\", \"ppm\": 413.33}, {\"date_measured\": \"2019-05-01T00:00:00\", \"ppm\": 414.64}, {\"date_measured\": \"2019-06-01T00:00:00\", \"ppm\": 413.93}, {\"date_measured\": \"2019-07-01T00:00:00\", \"ppm\": 411.74}, {\"date_measured\": \"2019-08-01T00:00:00\", \"ppm\": 409.95}, {\"date_measured\": \"2019-09-01T00:00:00\", \"ppm\": 408.54}, {\"date_measured\": \"2019-10-01T00:00:00\", \"ppm\": 408.52}, {\"date_measured\": \"2019-11-01T00:00:00\", \"ppm\": 410.25}, {\"date_measured\": \"2019-12-01T00:00:00\", \"ppm\": 411.76}, {\"date_measured\": \"2020-01-01T00:00:00\", \"ppm\": 413.39}, {\"date_measured\": \"2020-02-01T00:00:00\", \"ppm\": 414.11}, {\"date_measured\": \"2020-03-01T00:00:00\", \"ppm\": 414.51}, {\"date_measured\": \"2020-04-01T00:00:00\", \"ppm\": 416.21}, {\"date_measured\": \"2020-05-01T00:00:00\", \"ppm\": 417.07}, {\"date_measured\": \"2020-06-01T00:00:00\", \"ppm\": 416.39}]}}, {\"mode\": \"vega-lite\"});\n</script>",
      "application/papermill.record/text/plain": "alt.Chart(...)"
     },
     "metadata": {
      "scrapbook": {
       "mime_prefix": "application/papermill.record/",
       "name": "co2_line_scale"
      }
     },
     "output_type": "display_data"
    }
   ],
   "source": [
    "glue('co2_line_scale', co2_line_scale, display=False)"
   ]
  },
  {
   "cell_type": "markdown",
   "id": "d7a748ff",
   "metadata": {},
   "source": [
    ":::{glue:figure} co2_line_scale\n",
    ":figwidth: 700px \n",
    ":name: co2_line_scale\n",
    "\n",
    "Line plot of atmospheric concentration of CO$_{2}$ from 1990 to 1994.\n",
    ":::\n",
    "\n",
    "Interesting! It seems that each year, the atmospheric CO$_{\\text{2}}$ increases until it reaches its peak somewhere around April, decreases until around late September, \n",
    "and finally increases again until the end of the year. In Hawaii, there are two seasons: summer from May through October, and winter from November through April.\n",
    "Therefore, the oscillating pattern in CO$_{\\text{2}}$ matches up fairly closely with the two seasons.\n",
    "\n",
    "As you might have noticed from the code used to create the final visualization\n",
    "of the `co2_df` data frame, we used `axis=alt.Axis(tickCount=4)` to add the lines in the background to better visualise and map the values on the axis to the plot.\n",
    "\n",
    "\n",
    "A useful analogy to constructing a data visualization is painting a picture.\n",
    "We start with a blank canvas, \n",
    "and the first thing we do is prepare the surface \n",
    "for our painting by adding primer. \n",
    "In our data visualization this is akin to calling `alt.Chart` \n",
    "and specifying the data set we will be using.\n",
    "Next, we sketch out the background of the painting. \n",
    "In our data visualization, \n",
    "this would be when we map data to the axes in the `encode` function.\n",
    "Then we add our key visual subjects to the painting.\n",
    "In our data visualization, \n",
    "this would be the geometric objects (e.g., `mark_point`, `mark_line`, etc.).\n",
    "And finally, we work on adding details and refinements to the painting.\n",
    "In our data visualization this would be when we fine tune axis labels,\n",
    "change the font, adjust the point size, and do other related things.\n",
    "\n",
    "### Scatter plots: the Old Faithful eruption time data set\n",
    "The `faithful` data set \\index{Old Faithful} contains measurements \n",
    "of the waiting time between eruptions \n",
    "and the subsequent eruption duration (in minutes) of the Old Faithful\n",
    "geyser in Yellowstone National Park, Wyoming, United States. \n",
    "First, we will read the data and then answer the following question:\n",
    "\n",
    "**Question:** \\index{question!visualization} \n",
    "Is there a relationship between the waiting time before an eruption \n",
    "and the duration of the eruption?"
   ]
  },
  {
   "cell_type": "code",
   "execution_count": 15,
   "id": "0a23fe09",
   "metadata": {
    "execution": {
     "iopub.execute_input": "2022-07-19T22:59:15.357713Z",
     "iopub.status.busy": "2022-07-19T22:59:15.357576Z",
     "iopub.status.idle": "2022-07-19T22:59:15.363190Z",
     "shell.execute_reply": "2022-07-19T22:59:15.362914Z"
    }
   },
   "outputs": [
    {
     "data": {
      "text/html": [
       "<div>\n",
       "<style scoped>\n",
       "    .dataframe tbody tr th:only-of-type {\n",
       "        vertical-align: middle;\n",
       "    }\n",
       "\n",
       "    .dataframe tbody tr th {\n",
       "        vertical-align: top;\n",
       "    }\n",
       "\n",
       "    .dataframe thead th {\n",
       "        text-align: right;\n",
       "    }\n",
       "</style>\n",
       "<table border=\"1\" class=\"dataframe\">\n",
       "  <thead>\n",
       "    <tr style=\"text-align: right;\">\n",
       "      <th></th>\n",
       "      <th>eruptions</th>\n",
       "      <th>waiting</th>\n",
       "    </tr>\n",
       "  </thead>\n",
       "  <tbody>\n",
       "    <tr>\n",
       "      <th>0</th>\n",
       "      <td>3.600</td>\n",
       "      <td>79</td>\n",
       "    </tr>\n",
       "    <tr>\n",
       "      <th>1</th>\n",
       "      <td>1.800</td>\n",
       "      <td>54</td>\n",
       "    </tr>\n",
       "    <tr>\n",
       "      <th>2</th>\n",
       "      <td>3.333</td>\n",
       "      <td>74</td>\n",
       "    </tr>\n",
       "    <tr>\n",
       "      <th>3</th>\n",
       "      <td>2.283</td>\n",
       "      <td>62</td>\n",
       "    </tr>\n",
       "    <tr>\n",
       "      <th>4</th>\n",
       "      <td>4.533</td>\n",
       "      <td>85</td>\n",
       "    </tr>\n",
       "    <tr>\n",
       "      <th>...</th>\n",
       "      <td>...</td>\n",
       "      <td>...</td>\n",
       "    </tr>\n",
       "    <tr>\n",
       "      <th>267</th>\n",
       "      <td>4.117</td>\n",
       "      <td>81</td>\n",
       "    </tr>\n",
       "    <tr>\n",
       "      <th>268</th>\n",
       "      <td>2.150</td>\n",
       "      <td>46</td>\n",
       "    </tr>\n",
       "    <tr>\n",
       "      <th>269</th>\n",
       "      <td>4.417</td>\n",
       "      <td>90</td>\n",
       "    </tr>\n",
       "    <tr>\n",
       "      <th>270</th>\n",
       "      <td>1.817</td>\n",
       "      <td>46</td>\n",
       "    </tr>\n",
       "    <tr>\n",
       "      <th>271</th>\n",
       "      <td>4.467</td>\n",
       "      <td>74</td>\n",
       "    </tr>\n",
       "  </tbody>\n",
       "</table>\n",
       "<p>272 rows × 2 columns</p>\n",
       "</div>"
      ],
      "text/plain": [
       "     eruptions  waiting\n",
       "0        3.600       79\n",
       "1        1.800       54\n",
       "2        3.333       74\n",
       "3        2.283       62\n",
       "4        4.533       85\n",
       "..         ...      ...\n",
       "267      4.117       81\n",
       "268      2.150       46\n",
       "269      4.417       90\n",
       "270      1.817       46\n",
       "271      4.467       74\n",
       "\n",
       "[272 rows x 2 columns]"
      ]
     },
     "execution_count": 15,
     "metadata": {},
     "output_type": "execute_result"
    }
   ],
   "source": [
    "faithful = pd.read_csv(\"data/faithful.csv\")\n",
    "faithful\n"
   ]
  },
  {
   "cell_type": "markdown",
   "id": "0b22323a",
   "metadata": {},
   "source": [
    "Here again, we investigate the relationship between two quantitative variables \n",
    "(waiting time and eruption time). \n",
    "But if you look at the output of the data frame, \n",
    "you'll notice that unlike time in the Mauna Loa CO$_{\\text{2}}$ data set,\n",
    "neither of the variables here have a natural order to them.\n",
    "So a scatter plot is likely to be the most appropriate\n",
    "visualization. Let's create a scatter plot using the `altair`\n",
    "package with the `waiting` variable on the horizontal axis, the `eruptions` \n",
    "variable on the vertical axis, and the `mark_point` geometric object.\n",
    "The result is shown in {numref}`faithful_scatter`."
   ]
  },
  {
   "cell_type": "code",
   "execution_count": 16,
   "id": "b3102ad5",
   "metadata": {
    "execution": {
     "iopub.execute_input": "2022-07-19T22:59:15.364947Z",
     "iopub.status.busy": "2022-07-19T22:59:15.364808Z",
     "iopub.status.idle": "2022-07-19T22:59:15.371607Z",
     "shell.execute_reply": "2022-07-19T22:59:15.371310Z"
    }
   },
   "outputs": [],
   "source": [
    "faithful_scatter = alt.Chart(faithful).mark_point(color='black', filled=True).encode(\n",
    "    x = \"waiting\",\n",
    "    y = \"eruptions\"\n",
    ")\n"
   ]
  },
  {
   "cell_type": "code",
   "execution_count": 17,
   "id": "7353bafd",
   "metadata": {
    "execution": {
     "iopub.execute_input": "2022-07-19T22:59:15.373439Z",
     "iopub.status.busy": "2022-07-19T22:59:15.373304Z",
     "iopub.status.idle": "2022-07-19T22:59:15.378994Z",
     "shell.execute_reply": "2022-07-19T22:59:15.378711Z"
    },
    "tags": [
     "remove-cell"
    ]
   },
   "outputs": [
    {
     "data": {
      "application/papermill.record/text/html": "\n<div id=\"altair-viz-740c0906593a432d95f4eb107a1584ff\"></div>\n<script type=\"text/javascript\">\n  var VEGA_DEBUG = (typeof VEGA_DEBUG == \"undefined\") ? {} : VEGA_DEBUG;\n  (function(spec, embedOpt){\n    let outputDiv = document.currentScript.previousElementSibling;\n    if (outputDiv.id !== \"altair-viz-740c0906593a432d95f4eb107a1584ff\") {\n      outputDiv = document.getElementById(\"altair-viz-740c0906593a432d95f4eb107a1584ff\");\n    }\n    const paths = {\n      \"vega\": \"https://cdn.jsdelivr.net/npm//vega@5?noext\",\n      \"vega-lib\": \"https://cdn.jsdelivr.net/npm//vega-lib?noext\",\n      \"vega-lite\": \"https://cdn.jsdelivr.net/npm//vega-lite@4.17.0?noext\",\n      \"vega-embed\": \"https://cdn.jsdelivr.net/npm//vega-embed@6?noext\",\n    };\n\n    function maybeLoadScript(lib, version) {\n      var key = `${lib.replace(\"-\", \"\")}_version`;\n      return (VEGA_DEBUG[key] == version) ?\n        Promise.resolve(paths[lib]) :\n        new Promise(function(resolve, reject) {\n          var s = document.createElement('script');\n          document.getElementsByTagName(\"head\")[0].appendChild(s);\n          s.async = true;\n          s.onload = () => {\n            VEGA_DEBUG[key] = version;\n            return resolve(paths[lib]);\n          };\n          s.onerror = () => reject(`Error loading script: ${paths[lib]}`);\n          s.src = paths[lib];\n        });\n    }\n\n    function showError(err) {\n      outputDiv.innerHTML = `<div class=\"error\" style=\"color:red;\">${err}</div>`;\n      throw err;\n    }\n\n    function displayChart(vegaEmbed) {\n      vegaEmbed(outputDiv, spec, embedOpt)\n        .catch(err => showError(`Javascript Error: ${err.message}<br>This usually means there's a typo in your chart specification. See the javascript console for the full traceback.`));\n    }\n\n    if(typeof define === \"function\" && define.amd) {\n      requirejs.config({paths});\n      require([\"vega-embed\"], displayChart, err => showError(`Error loading script: ${err.message}`));\n    } else {\n      maybeLoadScript(\"vega\", \"5\")\n        .then(() => maybeLoadScript(\"vega-lite\", \"4.17.0\"))\n        .then(() => maybeLoadScript(\"vega-embed\", \"6\"))\n        .catch(showError)\n        .then(() => displayChart(vegaEmbed));\n    }\n  })({\"config\": {\"view\": {\"continuousWidth\": 400, \"continuousHeight\": 300}}, \"data\": {\"name\": \"data-5e01a96a81f10c72d948a86132ecb6d1\"}, \"mark\": {\"type\": \"point\", \"color\": \"black\", \"filled\": true}, \"encoding\": {\"x\": {\"field\": \"waiting\", \"type\": \"quantitative\"}, \"y\": {\"field\": \"eruptions\", \"type\": \"quantitative\"}}, \"$schema\": \"https://vega.github.io/schema/vega-lite/v4.17.0.json\", \"datasets\": {\"data-5e01a96a81f10c72d948a86132ecb6d1\": [{\"eruptions\": 3.6, \"waiting\": 79}, {\"eruptions\": 1.8, \"waiting\": 54}, {\"eruptions\": 3.333, \"waiting\": 74}, {\"eruptions\": 2.283, \"waiting\": 62}, {\"eruptions\": 4.533, \"waiting\": 85}, {\"eruptions\": 2.883, \"waiting\": 55}, {\"eruptions\": 4.7, \"waiting\": 88}, {\"eruptions\": 3.6, \"waiting\": 85}, {\"eruptions\": 1.95, \"waiting\": 51}, {\"eruptions\": 4.35, \"waiting\": 85}, {\"eruptions\": 1.833, \"waiting\": 54}, {\"eruptions\": 3.917, \"waiting\": 84}, {\"eruptions\": 4.2, \"waiting\": 78}, {\"eruptions\": 1.75, \"waiting\": 47}, {\"eruptions\": 4.7, \"waiting\": 83}, {\"eruptions\": 2.167, \"waiting\": 52}, {\"eruptions\": 1.75, \"waiting\": 62}, {\"eruptions\": 4.8, \"waiting\": 84}, {\"eruptions\": 1.6, \"waiting\": 52}, {\"eruptions\": 4.25, \"waiting\": 79}, {\"eruptions\": 1.8, \"waiting\": 51}, {\"eruptions\": 1.75, \"waiting\": 47}, {\"eruptions\": 3.45, \"waiting\": 78}, {\"eruptions\": 3.067, \"waiting\": 69}, {\"eruptions\": 4.533, \"waiting\": 74}, {\"eruptions\": 3.6, \"waiting\": 83}, {\"eruptions\": 1.967, \"waiting\": 55}, {\"eruptions\": 4.083, \"waiting\": 76}, {\"eruptions\": 3.85, \"waiting\": 78}, {\"eruptions\": 4.433, \"waiting\": 79}, {\"eruptions\": 4.3, \"waiting\": 73}, {\"eruptions\": 4.467, \"waiting\": 77}, {\"eruptions\": 3.367, \"waiting\": 66}, {\"eruptions\": 4.033, \"waiting\": 80}, {\"eruptions\": 3.833, \"waiting\": 74}, {\"eruptions\": 2.017, \"waiting\": 52}, {\"eruptions\": 1.867, \"waiting\": 48}, {\"eruptions\": 4.833, \"waiting\": 80}, {\"eruptions\": 1.833, \"waiting\": 59}, {\"eruptions\": 4.783, \"waiting\": 90}, {\"eruptions\": 4.35, \"waiting\": 80}, {\"eruptions\": 1.883, \"waiting\": 58}, {\"eruptions\": 4.567, \"waiting\": 84}, {\"eruptions\": 1.75, \"waiting\": 58}, {\"eruptions\": 4.533, \"waiting\": 73}, {\"eruptions\": 3.317, \"waiting\": 83}, {\"eruptions\": 3.833, \"waiting\": 64}, {\"eruptions\": 2.1, \"waiting\": 53}, {\"eruptions\": 4.633, \"waiting\": 82}, {\"eruptions\": 2.0, \"waiting\": 59}, {\"eruptions\": 4.8, \"waiting\": 75}, {\"eruptions\": 4.716, \"waiting\": 90}, {\"eruptions\": 1.833, \"waiting\": 54}, {\"eruptions\": 4.833, \"waiting\": 80}, {\"eruptions\": 1.733, \"waiting\": 54}, {\"eruptions\": 4.883, \"waiting\": 83}, {\"eruptions\": 3.717, \"waiting\": 71}, {\"eruptions\": 1.667, \"waiting\": 64}, {\"eruptions\": 4.567, \"waiting\": 77}, {\"eruptions\": 4.317, \"waiting\": 81}, {\"eruptions\": 2.233, \"waiting\": 59}, {\"eruptions\": 4.5, \"waiting\": 84}, {\"eruptions\": 1.75, \"waiting\": 48}, {\"eruptions\": 4.8, \"waiting\": 82}, {\"eruptions\": 1.817, \"waiting\": 60}, {\"eruptions\": 4.4, \"waiting\": 92}, {\"eruptions\": 4.167, \"waiting\": 78}, {\"eruptions\": 4.7, \"waiting\": 78}, {\"eruptions\": 2.067, \"waiting\": 65}, {\"eruptions\": 4.7, \"waiting\": 73}, {\"eruptions\": 4.033, \"waiting\": 82}, {\"eruptions\": 1.967, \"waiting\": 56}, {\"eruptions\": 4.5, \"waiting\": 79}, {\"eruptions\": 4.0, \"waiting\": 71}, {\"eruptions\": 1.983, \"waiting\": 62}, {\"eruptions\": 5.067, \"waiting\": 76}, {\"eruptions\": 2.017, \"waiting\": 60}, {\"eruptions\": 4.567, \"waiting\": 78}, {\"eruptions\": 3.883, \"waiting\": 76}, {\"eruptions\": 3.6, \"waiting\": 83}, {\"eruptions\": 4.133, \"waiting\": 75}, {\"eruptions\": 4.333, \"waiting\": 82}, {\"eruptions\": 4.1, \"waiting\": 70}, {\"eruptions\": 2.633, \"waiting\": 65}, {\"eruptions\": 4.067, \"waiting\": 73}, {\"eruptions\": 4.933, \"waiting\": 88}, {\"eruptions\": 3.95, \"waiting\": 76}, {\"eruptions\": 4.517, \"waiting\": 80}, {\"eruptions\": 2.167, \"waiting\": 48}, {\"eruptions\": 4.0, \"waiting\": 86}, {\"eruptions\": 2.2, \"waiting\": 60}, {\"eruptions\": 4.333, \"waiting\": 90}, {\"eruptions\": 1.867, \"waiting\": 50}, {\"eruptions\": 4.817, \"waiting\": 78}, {\"eruptions\": 1.833, \"waiting\": 63}, {\"eruptions\": 4.3, \"waiting\": 72}, {\"eruptions\": 4.667, \"waiting\": 84}, {\"eruptions\": 3.75, \"waiting\": 75}, {\"eruptions\": 1.867, \"waiting\": 51}, {\"eruptions\": 4.9, \"waiting\": 82}, {\"eruptions\": 2.483, \"waiting\": 62}, {\"eruptions\": 4.367, \"waiting\": 88}, {\"eruptions\": 2.1, \"waiting\": 49}, {\"eruptions\": 4.5, \"waiting\": 83}, {\"eruptions\": 4.05, \"waiting\": 81}, {\"eruptions\": 1.867, \"waiting\": 47}, {\"eruptions\": 4.7, \"waiting\": 84}, {\"eruptions\": 1.783, \"waiting\": 52}, {\"eruptions\": 4.85, \"waiting\": 86}, {\"eruptions\": 3.683, \"waiting\": 81}, {\"eruptions\": 4.733, \"waiting\": 75}, {\"eruptions\": 2.3, \"waiting\": 59}, {\"eruptions\": 4.9, \"waiting\": 89}, {\"eruptions\": 4.417, \"waiting\": 79}, {\"eruptions\": 1.7, \"waiting\": 59}, {\"eruptions\": 4.633, \"waiting\": 81}, {\"eruptions\": 2.317, \"waiting\": 50}, {\"eruptions\": 4.6, \"waiting\": 85}, {\"eruptions\": 1.817, \"waiting\": 59}, {\"eruptions\": 4.417, \"waiting\": 87}, {\"eruptions\": 2.617, \"waiting\": 53}, {\"eruptions\": 4.067, \"waiting\": 69}, {\"eruptions\": 4.25, \"waiting\": 77}, {\"eruptions\": 1.967, \"waiting\": 56}, {\"eruptions\": 4.6, \"waiting\": 88}, {\"eruptions\": 3.767, \"waiting\": 81}, {\"eruptions\": 1.917, \"waiting\": 45}, {\"eruptions\": 4.5, \"waiting\": 82}, {\"eruptions\": 2.267, \"waiting\": 55}, {\"eruptions\": 4.65, \"waiting\": 90}, {\"eruptions\": 1.867, \"waiting\": 45}, {\"eruptions\": 4.167, \"waiting\": 83}, {\"eruptions\": 2.8, \"waiting\": 56}, {\"eruptions\": 4.333, \"waiting\": 89}, {\"eruptions\": 1.833, \"waiting\": 46}, {\"eruptions\": 4.383, \"waiting\": 82}, {\"eruptions\": 1.883, \"waiting\": 51}, {\"eruptions\": 4.933, \"waiting\": 86}, {\"eruptions\": 2.033, \"waiting\": 53}, {\"eruptions\": 3.733, \"waiting\": 79}, {\"eruptions\": 4.233, \"waiting\": 81}, {\"eruptions\": 2.233, \"waiting\": 60}, {\"eruptions\": 4.533, \"waiting\": 82}, {\"eruptions\": 4.817, \"waiting\": 77}, {\"eruptions\": 4.333, \"waiting\": 76}, {\"eruptions\": 1.983, \"waiting\": 59}, {\"eruptions\": 4.633, \"waiting\": 80}, {\"eruptions\": 2.017, \"waiting\": 49}, {\"eruptions\": 5.1, \"waiting\": 96}, {\"eruptions\": 1.8, \"waiting\": 53}, {\"eruptions\": 5.033, \"waiting\": 77}, {\"eruptions\": 4.0, \"waiting\": 77}, {\"eruptions\": 2.4, \"waiting\": 65}, {\"eruptions\": 4.6, \"waiting\": 81}, {\"eruptions\": 3.567, \"waiting\": 71}, {\"eruptions\": 4.0, \"waiting\": 70}, {\"eruptions\": 4.5, \"waiting\": 81}, {\"eruptions\": 4.083, \"waiting\": 93}, {\"eruptions\": 1.8, \"waiting\": 53}, {\"eruptions\": 3.967, \"waiting\": 89}, {\"eruptions\": 2.2, \"waiting\": 45}, {\"eruptions\": 4.15, \"waiting\": 86}, {\"eruptions\": 2.0, \"waiting\": 58}, {\"eruptions\": 3.833, \"waiting\": 78}, {\"eruptions\": 3.5, \"waiting\": 66}, {\"eruptions\": 4.583, \"waiting\": 76}, {\"eruptions\": 2.367, \"waiting\": 63}, {\"eruptions\": 5.0, \"waiting\": 88}, {\"eruptions\": 1.933, \"waiting\": 52}, {\"eruptions\": 4.617, \"waiting\": 93}, {\"eruptions\": 1.917, \"waiting\": 49}, {\"eruptions\": 2.083, \"waiting\": 57}, {\"eruptions\": 4.583, \"waiting\": 77}, {\"eruptions\": 3.333, \"waiting\": 68}, {\"eruptions\": 4.167, \"waiting\": 81}, {\"eruptions\": 4.333, \"waiting\": 81}, {\"eruptions\": 4.5, \"waiting\": 73}, {\"eruptions\": 2.417, \"waiting\": 50}, {\"eruptions\": 4.0, \"waiting\": 85}, {\"eruptions\": 4.167, \"waiting\": 74}, {\"eruptions\": 1.883, \"waiting\": 55}, {\"eruptions\": 4.583, \"waiting\": 77}, {\"eruptions\": 4.25, \"waiting\": 83}, {\"eruptions\": 3.767, \"waiting\": 83}, {\"eruptions\": 2.033, \"waiting\": 51}, {\"eruptions\": 4.433, \"waiting\": 78}, {\"eruptions\": 4.083, \"waiting\": 84}, {\"eruptions\": 1.833, \"waiting\": 46}, {\"eruptions\": 4.417, \"waiting\": 83}, {\"eruptions\": 2.183, \"waiting\": 55}, {\"eruptions\": 4.8, \"waiting\": 81}, {\"eruptions\": 1.833, \"waiting\": 57}, {\"eruptions\": 4.8, \"waiting\": 76}, {\"eruptions\": 4.1, \"waiting\": 84}, {\"eruptions\": 3.966, \"waiting\": 77}, {\"eruptions\": 4.233, \"waiting\": 81}, {\"eruptions\": 3.5, \"waiting\": 87}, {\"eruptions\": 4.366, \"waiting\": 77}, {\"eruptions\": 2.25, \"waiting\": 51}, {\"eruptions\": 4.667, \"waiting\": 78}, {\"eruptions\": 2.1, \"waiting\": 60}, {\"eruptions\": 4.35, \"waiting\": 82}, {\"eruptions\": 4.133, \"waiting\": 91}, {\"eruptions\": 1.867, \"waiting\": 53}, {\"eruptions\": 4.6, \"waiting\": 78}, {\"eruptions\": 1.783, \"waiting\": 46}, {\"eruptions\": 4.367, \"waiting\": 77}, {\"eruptions\": 3.85, \"waiting\": 84}, {\"eruptions\": 1.933, \"waiting\": 49}, {\"eruptions\": 4.5, \"waiting\": 83}, {\"eruptions\": 2.383, \"waiting\": 71}, {\"eruptions\": 4.7, \"waiting\": 80}, {\"eruptions\": 1.867, \"waiting\": 49}, {\"eruptions\": 3.833, \"waiting\": 75}, {\"eruptions\": 3.417, \"waiting\": 64}, {\"eruptions\": 4.233, \"waiting\": 76}, {\"eruptions\": 2.4, \"waiting\": 53}, {\"eruptions\": 4.8, \"waiting\": 94}, {\"eruptions\": 2.0, \"waiting\": 55}, {\"eruptions\": 4.15, \"waiting\": 76}, {\"eruptions\": 1.867, \"waiting\": 50}, {\"eruptions\": 4.267, \"waiting\": 82}, {\"eruptions\": 1.75, \"waiting\": 54}, {\"eruptions\": 4.483, \"waiting\": 75}, {\"eruptions\": 4.0, \"waiting\": 78}, {\"eruptions\": 4.117, \"waiting\": 79}, {\"eruptions\": 4.083, \"waiting\": 78}, {\"eruptions\": 4.267, \"waiting\": 78}, {\"eruptions\": 3.917, \"waiting\": 70}, {\"eruptions\": 4.55, \"waiting\": 79}, {\"eruptions\": 4.083, \"waiting\": 70}, {\"eruptions\": 2.417, \"waiting\": 54}, {\"eruptions\": 4.183, \"waiting\": 86}, {\"eruptions\": 2.217, \"waiting\": 50}, {\"eruptions\": 4.45, \"waiting\": 90}, {\"eruptions\": 1.883, \"waiting\": 54}, {\"eruptions\": 1.85, \"waiting\": 54}, {\"eruptions\": 4.283, \"waiting\": 77}, {\"eruptions\": 3.95, \"waiting\": 79}, {\"eruptions\": 2.333, \"waiting\": 64}, {\"eruptions\": 4.15, \"waiting\": 75}, {\"eruptions\": 2.35, \"waiting\": 47}, {\"eruptions\": 4.933, \"waiting\": 86}, {\"eruptions\": 2.9, \"waiting\": 63}, {\"eruptions\": 4.583, \"waiting\": 85}, {\"eruptions\": 3.833, \"waiting\": 82}, {\"eruptions\": 2.083, \"waiting\": 57}, {\"eruptions\": 4.367, \"waiting\": 82}, {\"eruptions\": 2.133, \"waiting\": 67}, {\"eruptions\": 4.35, \"waiting\": 74}, {\"eruptions\": 2.2, \"waiting\": 54}, {\"eruptions\": 4.45, \"waiting\": 83}, {\"eruptions\": 3.567, \"waiting\": 73}, {\"eruptions\": 4.5, \"waiting\": 73}, {\"eruptions\": 4.15, \"waiting\": 88}, {\"eruptions\": 3.817, \"waiting\": 80}, {\"eruptions\": 3.917, \"waiting\": 71}, {\"eruptions\": 4.45, \"waiting\": 83}, {\"eruptions\": 2.0, \"waiting\": 56}, {\"eruptions\": 4.283, \"waiting\": 79}, {\"eruptions\": 4.767, \"waiting\": 78}, {\"eruptions\": 4.533, \"waiting\": 84}, {\"eruptions\": 1.85, \"waiting\": 58}, {\"eruptions\": 4.25, \"waiting\": 83}, {\"eruptions\": 1.983, \"waiting\": 43}, {\"eruptions\": 2.25, \"waiting\": 60}, {\"eruptions\": 4.75, \"waiting\": 75}, {\"eruptions\": 4.117, \"waiting\": 81}, {\"eruptions\": 2.15, \"waiting\": 46}, {\"eruptions\": 4.417, \"waiting\": 90}, {\"eruptions\": 1.817, \"waiting\": 46}, {\"eruptions\": 4.467, \"waiting\": 74}]}}, {\"mode\": \"vega-lite\"});\n</script>",
      "application/papermill.record/text/plain": "alt.Chart(...)"
     },
     "metadata": {
      "scrapbook": {
       "mime_prefix": "application/papermill.record/",
       "name": "faithful_scatter"
      }
     },
     "output_type": "display_data"
    }
   ],
   "source": [
    "glue('faithful_scatter', faithful_scatter, display=False)"
   ]
  },
  {
   "cell_type": "markdown",
   "id": "a3248ff0",
   "metadata": {},
   "source": [
    ":::{glue:figure} faithful_scatter \n",
    ":figwidth: 700px \n",
    ":name: faithful_scatter\n",
    "\n",
    "Scatter plot of waiting time and eruption time.\n",
    ":::\n",
    "\n",
    "We can see in {numref}`faithful_scatter` that the data tend to fall\n",
    "into two groups: one with short waiting and eruption times, and one with long\n",
    "waiting and eruption times. Note that in this case, there is no overplotting:\n",
    "the points are generally nicely visually separated, and the pattern they form\n",
    "is clear.  Also, note that to make the points solid, we used `filled=True` as argument of the `mark_point` function. In place of `mark_point(filled=True)`, we can also use `mark_circle()`. \n",
    "In order to refine the visualization, we need only to add axis\n",
    "labels and make the font more readable:"
   ]
  },
  {
   "cell_type": "code",
   "execution_count": 18,
   "id": "efd7c0aa",
   "metadata": {
    "execution": {
     "iopub.execute_input": "2022-07-19T22:59:15.380821Z",
     "iopub.status.busy": "2022-07-19T22:59:15.380684Z",
     "iopub.status.idle": "2022-07-19T22:59:15.383163Z",
     "shell.execute_reply": "2022-07-19T22:59:15.382883Z"
    }
   },
   "outputs": [],
   "source": [
    "faithful_scatter_labels = alt.Chart(faithful).mark_circle(color='black').encode(\n",
    "    x = alt.X(\"waiting\", title = \"Waiting Time (mins)\"),\n",
    "    y = alt.Y(\"eruptions\", title = \"Eruption Duration (mins)\")\n",
    ")\n",
    "\n",
    "\n"
   ]
  },
  {
   "cell_type": "code",
   "execution_count": 19,
   "id": "bf28123b",
   "metadata": {
    "execution": {
     "iopub.execute_input": "2022-07-19T22:59:15.384884Z",
     "iopub.status.busy": "2022-07-19T22:59:15.384752Z",
     "iopub.status.idle": "2022-07-19T22:59:15.390452Z",
     "shell.execute_reply": "2022-07-19T22:59:15.390143Z"
    },
    "tags": [
     "remove-cell"
    ]
   },
   "outputs": [
    {
     "data": {
      "application/papermill.record/text/html": "\n<div id=\"altair-viz-e5cb332838d24aa1b6689aa59e99bff6\"></div>\n<script type=\"text/javascript\">\n  var VEGA_DEBUG = (typeof VEGA_DEBUG == \"undefined\") ? {} : VEGA_DEBUG;\n  (function(spec, embedOpt){\n    let outputDiv = document.currentScript.previousElementSibling;\n    if (outputDiv.id !== \"altair-viz-e5cb332838d24aa1b6689aa59e99bff6\") {\n      outputDiv = document.getElementById(\"altair-viz-e5cb332838d24aa1b6689aa59e99bff6\");\n    }\n    const paths = {\n      \"vega\": \"https://cdn.jsdelivr.net/npm//vega@5?noext\",\n      \"vega-lib\": \"https://cdn.jsdelivr.net/npm//vega-lib?noext\",\n      \"vega-lite\": \"https://cdn.jsdelivr.net/npm//vega-lite@4.17.0?noext\",\n      \"vega-embed\": \"https://cdn.jsdelivr.net/npm//vega-embed@6?noext\",\n    };\n\n    function maybeLoadScript(lib, version) {\n      var key = `${lib.replace(\"-\", \"\")}_version`;\n      return (VEGA_DEBUG[key] == version) ?\n        Promise.resolve(paths[lib]) :\n        new Promise(function(resolve, reject) {\n          var s = document.createElement('script');\n          document.getElementsByTagName(\"head\")[0].appendChild(s);\n          s.async = true;\n          s.onload = () => {\n            VEGA_DEBUG[key] = version;\n            return resolve(paths[lib]);\n          };\n          s.onerror = () => reject(`Error loading script: ${paths[lib]}`);\n          s.src = paths[lib];\n        });\n    }\n\n    function showError(err) {\n      outputDiv.innerHTML = `<div class=\"error\" style=\"color:red;\">${err}</div>`;\n      throw err;\n    }\n\n    function displayChart(vegaEmbed) {\n      vegaEmbed(outputDiv, spec, embedOpt)\n        .catch(err => showError(`Javascript Error: ${err.message}<br>This usually means there's a typo in your chart specification. See the javascript console for the full traceback.`));\n    }\n\n    if(typeof define === \"function\" && define.amd) {\n      requirejs.config({paths});\n      require([\"vega-embed\"], displayChart, err => showError(`Error loading script: ${err.message}`));\n    } else {\n      maybeLoadScript(\"vega\", \"5\")\n        .then(() => maybeLoadScript(\"vega-lite\", \"4.17.0\"))\n        .then(() => maybeLoadScript(\"vega-embed\", \"6\"))\n        .catch(showError)\n        .then(() => displayChart(vegaEmbed));\n    }\n  })({\"config\": {\"view\": {\"continuousWidth\": 400, \"continuousHeight\": 300}}, \"data\": {\"name\": \"data-5e01a96a81f10c72d948a86132ecb6d1\"}, \"mark\": {\"type\": \"circle\", \"color\": \"black\"}, \"encoding\": {\"x\": {\"field\": \"waiting\", \"title\": \"Waiting Time (mins)\", \"type\": \"quantitative\"}, \"y\": {\"field\": \"eruptions\", \"title\": \"Eruption Duration (mins)\", \"type\": \"quantitative\"}}, \"$schema\": \"https://vega.github.io/schema/vega-lite/v4.17.0.json\", \"datasets\": {\"data-5e01a96a81f10c72d948a86132ecb6d1\": [{\"eruptions\": 3.6, \"waiting\": 79}, {\"eruptions\": 1.8, \"waiting\": 54}, {\"eruptions\": 3.333, \"waiting\": 74}, {\"eruptions\": 2.283, \"waiting\": 62}, {\"eruptions\": 4.533, \"waiting\": 85}, {\"eruptions\": 2.883, \"waiting\": 55}, {\"eruptions\": 4.7, \"waiting\": 88}, {\"eruptions\": 3.6, \"waiting\": 85}, {\"eruptions\": 1.95, \"waiting\": 51}, {\"eruptions\": 4.35, \"waiting\": 85}, {\"eruptions\": 1.833, \"waiting\": 54}, {\"eruptions\": 3.917, \"waiting\": 84}, {\"eruptions\": 4.2, \"waiting\": 78}, {\"eruptions\": 1.75, \"waiting\": 47}, {\"eruptions\": 4.7, \"waiting\": 83}, {\"eruptions\": 2.167, \"waiting\": 52}, {\"eruptions\": 1.75, \"waiting\": 62}, {\"eruptions\": 4.8, \"waiting\": 84}, {\"eruptions\": 1.6, \"waiting\": 52}, {\"eruptions\": 4.25, \"waiting\": 79}, {\"eruptions\": 1.8, \"waiting\": 51}, {\"eruptions\": 1.75, \"waiting\": 47}, {\"eruptions\": 3.45, \"waiting\": 78}, {\"eruptions\": 3.067, \"waiting\": 69}, {\"eruptions\": 4.533, \"waiting\": 74}, {\"eruptions\": 3.6, \"waiting\": 83}, {\"eruptions\": 1.967, \"waiting\": 55}, {\"eruptions\": 4.083, \"waiting\": 76}, {\"eruptions\": 3.85, \"waiting\": 78}, {\"eruptions\": 4.433, \"waiting\": 79}, {\"eruptions\": 4.3, \"waiting\": 73}, {\"eruptions\": 4.467, \"waiting\": 77}, {\"eruptions\": 3.367, \"waiting\": 66}, {\"eruptions\": 4.033, \"waiting\": 80}, {\"eruptions\": 3.833, \"waiting\": 74}, {\"eruptions\": 2.017, \"waiting\": 52}, {\"eruptions\": 1.867, \"waiting\": 48}, {\"eruptions\": 4.833, \"waiting\": 80}, {\"eruptions\": 1.833, \"waiting\": 59}, {\"eruptions\": 4.783, \"waiting\": 90}, {\"eruptions\": 4.35, \"waiting\": 80}, {\"eruptions\": 1.883, \"waiting\": 58}, {\"eruptions\": 4.567, \"waiting\": 84}, {\"eruptions\": 1.75, \"waiting\": 58}, {\"eruptions\": 4.533, \"waiting\": 73}, {\"eruptions\": 3.317, \"waiting\": 83}, {\"eruptions\": 3.833, \"waiting\": 64}, {\"eruptions\": 2.1, \"waiting\": 53}, {\"eruptions\": 4.633, \"waiting\": 82}, {\"eruptions\": 2.0, \"waiting\": 59}, {\"eruptions\": 4.8, \"waiting\": 75}, {\"eruptions\": 4.716, \"waiting\": 90}, {\"eruptions\": 1.833, \"waiting\": 54}, {\"eruptions\": 4.833, \"waiting\": 80}, {\"eruptions\": 1.733, \"waiting\": 54}, {\"eruptions\": 4.883, \"waiting\": 83}, {\"eruptions\": 3.717, \"waiting\": 71}, {\"eruptions\": 1.667, \"waiting\": 64}, {\"eruptions\": 4.567, \"waiting\": 77}, {\"eruptions\": 4.317, \"waiting\": 81}, {\"eruptions\": 2.233, \"waiting\": 59}, {\"eruptions\": 4.5, \"waiting\": 84}, {\"eruptions\": 1.75, \"waiting\": 48}, {\"eruptions\": 4.8, \"waiting\": 82}, {\"eruptions\": 1.817, \"waiting\": 60}, {\"eruptions\": 4.4, \"waiting\": 92}, {\"eruptions\": 4.167, \"waiting\": 78}, {\"eruptions\": 4.7, \"waiting\": 78}, {\"eruptions\": 2.067, \"waiting\": 65}, {\"eruptions\": 4.7, \"waiting\": 73}, {\"eruptions\": 4.033, \"waiting\": 82}, {\"eruptions\": 1.967, \"waiting\": 56}, {\"eruptions\": 4.5, \"waiting\": 79}, {\"eruptions\": 4.0, \"waiting\": 71}, {\"eruptions\": 1.983, \"waiting\": 62}, {\"eruptions\": 5.067, \"waiting\": 76}, {\"eruptions\": 2.017, \"waiting\": 60}, {\"eruptions\": 4.567, \"waiting\": 78}, {\"eruptions\": 3.883, \"waiting\": 76}, {\"eruptions\": 3.6, \"waiting\": 83}, {\"eruptions\": 4.133, \"waiting\": 75}, {\"eruptions\": 4.333, \"waiting\": 82}, {\"eruptions\": 4.1, \"waiting\": 70}, {\"eruptions\": 2.633, \"waiting\": 65}, {\"eruptions\": 4.067, \"waiting\": 73}, {\"eruptions\": 4.933, \"waiting\": 88}, {\"eruptions\": 3.95, \"waiting\": 76}, {\"eruptions\": 4.517, \"waiting\": 80}, {\"eruptions\": 2.167, \"waiting\": 48}, {\"eruptions\": 4.0, \"waiting\": 86}, {\"eruptions\": 2.2, \"waiting\": 60}, {\"eruptions\": 4.333, \"waiting\": 90}, {\"eruptions\": 1.867, \"waiting\": 50}, {\"eruptions\": 4.817, \"waiting\": 78}, {\"eruptions\": 1.833, \"waiting\": 63}, {\"eruptions\": 4.3, \"waiting\": 72}, {\"eruptions\": 4.667, \"waiting\": 84}, {\"eruptions\": 3.75, \"waiting\": 75}, {\"eruptions\": 1.867, \"waiting\": 51}, {\"eruptions\": 4.9, \"waiting\": 82}, {\"eruptions\": 2.483, \"waiting\": 62}, {\"eruptions\": 4.367, \"waiting\": 88}, {\"eruptions\": 2.1, \"waiting\": 49}, {\"eruptions\": 4.5, \"waiting\": 83}, {\"eruptions\": 4.05, \"waiting\": 81}, {\"eruptions\": 1.867, \"waiting\": 47}, {\"eruptions\": 4.7, \"waiting\": 84}, {\"eruptions\": 1.783, \"waiting\": 52}, {\"eruptions\": 4.85, \"waiting\": 86}, {\"eruptions\": 3.683, \"waiting\": 81}, {\"eruptions\": 4.733, \"waiting\": 75}, {\"eruptions\": 2.3, \"waiting\": 59}, {\"eruptions\": 4.9, \"waiting\": 89}, {\"eruptions\": 4.417, \"waiting\": 79}, {\"eruptions\": 1.7, \"waiting\": 59}, {\"eruptions\": 4.633, \"waiting\": 81}, {\"eruptions\": 2.317, \"waiting\": 50}, {\"eruptions\": 4.6, \"waiting\": 85}, {\"eruptions\": 1.817, \"waiting\": 59}, {\"eruptions\": 4.417, \"waiting\": 87}, {\"eruptions\": 2.617, \"waiting\": 53}, {\"eruptions\": 4.067, \"waiting\": 69}, {\"eruptions\": 4.25, \"waiting\": 77}, {\"eruptions\": 1.967, \"waiting\": 56}, {\"eruptions\": 4.6, \"waiting\": 88}, {\"eruptions\": 3.767, \"waiting\": 81}, {\"eruptions\": 1.917, \"waiting\": 45}, {\"eruptions\": 4.5, \"waiting\": 82}, {\"eruptions\": 2.267, \"waiting\": 55}, {\"eruptions\": 4.65, \"waiting\": 90}, {\"eruptions\": 1.867, \"waiting\": 45}, {\"eruptions\": 4.167, \"waiting\": 83}, {\"eruptions\": 2.8, \"waiting\": 56}, {\"eruptions\": 4.333, \"waiting\": 89}, {\"eruptions\": 1.833, \"waiting\": 46}, {\"eruptions\": 4.383, \"waiting\": 82}, {\"eruptions\": 1.883, \"waiting\": 51}, {\"eruptions\": 4.933, \"waiting\": 86}, {\"eruptions\": 2.033, \"waiting\": 53}, {\"eruptions\": 3.733, \"waiting\": 79}, {\"eruptions\": 4.233, \"waiting\": 81}, {\"eruptions\": 2.233, \"waiting\": 60}, {\"eruptions\": 4.533, \"waiting\": 82}, {\"eruptions\": 4.817, \"waiting\": 77}, {\"eruptions\": 4.333, \"waiting\": 76}, {\"eruptions\": 1.983, \"waiting\": 59}, {\"eruptions\": 4.633, \"waiting\": 80}, {\"eruptions\": 2.017, \"waiting\": 49}, {\"eruptions\": 5.1, \"waiting\": 96}, {\"eruptions\": 1.8, \"waiting\": 53}, {\"eruptions\": 5.033, \"waiting\": 77}, {\"eruptions\": 4.0, \"waiting\": 77}, {\"eruptions\": 2.4, \"waiting\": 65}, {\"eruptions\": 4.6, \"waiting\": 81}, {\"eruptions\": 3.567, \"waiting\": 71}, {\"eruptions\": 4.0, \"waiting\": 70}, {\"eruptions\": 4.5, \"waiting\": 81}, {\"eruptions\": 4.083, \"waiting\": 93}, {\"eruptions\": 1.8, \"waiting\": 53}, {\"eruptions\": 3.967, \"waiting\": 89}, {\"eruptions\": 2.2, \"waiting\": 45}, {\"eruptions\": 4.15, \"waiting\": 86}, {\"eruptions\": 2.0, \"waiting\": 58}, {\"eruptions\": 3.833, \"waiting\": 78}, {\"eruptions\": 3.5, \"waiting\": 66}, {\"eruptions\": 4.583, \"waiting\": 76}, {\"eruptions\": 2.367, \"waiting\": 63}, {\"eruptions\": 5.0, \"waiting\": 88}, {\"eruptions\": 1.933, \"waiting\": 52}, {\"eruptions\": 4.617, \"waiting\": 93}, {\"eruptions\": 1.917, \"waiting\": 49}, {\"eruptions\": 2.083, \"waiting\": 57}, {\"eruptions\": 4.583, \"waiting\": 77}, {\"eruptions\": 3.333, \"waiting\": 68}, {\"eruptions\": 4.167, \"waiting\": 81}, {\"eruptions\": 4.333, \"waiting\": 81}, {\"eruptions\": 4.5, \"waiting\": 73}, {\"eruptions\": 2.417, \"waiting\": 50}, {\"eruptions\": 4.0, \"waiting\": 85}, {\"eruptions\": 4.167, \"waiting\": 74}, {\"eruptions\": 1.883, \"waiting\": 55}, {\"eruptions\": 4.583, \"waiting\": 77}, {\"eruptions\": 4.25, \"waiting\": 83}, {\"eruptions\": 3.767, \"waiting\": 83}, {\"eruptions\": 2.033, \"waiting\": 51}, {\"eruptions\": 4.433, \"waiting\": 78}, {\"eruptions\": 4.083, \"waiting\": 84}, {\"eruptions\": 1.833, \"waiting\": 46}, {\"eruptions\": 4.417, \"waiting\": 83}, {\"eruptions\": 2.183, \"waiting\": 55}, {\"eruptions\": 4.8, \"waiting\": 81}, {\"eruptions\": 1.833, \"waiting\": 57}, {\"eruptions\": 4.8, \"waiting\": 76}, {\"eruptions\": 4.1, \"waiting\": 84}, {\"eruptions\": 3.966, \"waiting\": 77}, {\"eruptions\": 4.233, \"waiting\": 81}, {\"eruptions\": 3.5, \"waiting\": 87}, {\"eruptions\": 4.366, \"waiting\": 77}, {\"eruptions\": 2.25, \"waiting\": 51}, {\"eruptions\": 4.667, \"waiting\": 78}, {\"eruptions\": 2.1, \"waiting\": 60}, {\"eruptions\": 4.35, \"waiting\": 82}, {\"eruptions\": 4.133, \"waiting\": 91}, {\"eruptions\": 1.867, \"waiting\": 53}, {\"eruptions\": 4.6, \"waiting\": 78}, {\"eruptions\": 1.783, \"waiting\": 46}, {\"eruptions\": 4.367, \"waiting\": 77}, {\"eruptions\": 3.85, \"waiting\": 84}, {\"eruptions\": 1.933, \"waiting\": 49}, {\"eruptions\": 4.5, \"waiting\": 83}, {\"eruptions\": 2.383, \"waiting\": 71}, {\"eruptions\": 4.7, \"waiting\": 80}, {\"eruptions\": 1.867, \"waiting\": 49}, {\"eruptions\": 3.833, \"waiting\": 75}, {\"eruptions\": 3.417, \"waiting\": 64}, {\"eruptions\": 4.233, \"waiting\": 76}, {\"eruptions\": 2.4, \"waiting\": 53}, {\"eruptions\": 4.8, \"waiting\": 94}, {\"eruptions\": 2.0, \"waiting\": 55}, {\"eruptions\": 4.15, \"waiting\": 76}, {\"eruptions\": 1.867, \"waiting\": 50}, {\"eruptions\": 4.267, \"waiting\": 82}, {\"eruptions\": 1.75, \"waiting\": 54}, {\"eruptions\": 4.483, \"waiting\": 75}, {\"eruptions\": 4.0, \"waiting\": 78}, {\"eruptions\": 4.117, \"waiting\": 79}, {\"eruptions\": 4.083, \"waiting\": 78}, {\"eruptions\": 4.267, \"waiting\": 78}, {\"eruptions\": 3.917, \"waiting\": 70}, {\"eruptions\": 4.55, \"waiting\": 79}, {\"eruptions\": 4.083, \"waiting\": 70}, {\"eruptions\": 2.417, \"waiting\": 54}, {\"eruptions\": 4.183, \"waiting\": 86}, {\"eruptions\": 2.217, \"waiting\": 50}, {\"eruptions\": 4.45, \"waiting\": 90}, {\"eruptions\": 1.883, \"waiting\": 54}, {\"eruptions\": 1.85, \"waiting\": 54}, {\"eruptions\": 4.283, \"waiting\": 77}, {\"eruptions\": 3.95, \"waiting\": 79}, {\"eruptions\": 2.333, \"waiting\": 64}, {\"eruptions\": 4.15, \"waiting\": 75}, {\"eruptions\": 2.35, \"waiting\": 47}, {\"eruptions\": 4.933, \"waiting\": 86}, {\"eruptions\": 2.9, \"waiting\": 63}, {\"eruptions\": 4.583, \"waiting\": 85}, {\"eruptions\": 3.833, \"waiting\": 82}, {\"eruptions\": 2.083, \"waiting\": 57}, {\"eruptions\": 4.367, \"waiting\": 82}, {\"eruptions\": 2.133, \"waiting\": 67}, {\"eruptions\": 4.35, \"waiting\": 74}, {\"eruptions\": 2.2, \"waiting\": 54}, {\"eruptions\": 4.45, \"waiting\": 83}, {\"eruptions\": 3.567, \"waiting\": 73}, {\"eruptions\": 4.5, \"waiting\": 73}, {\"eruptions\": 4.15, \"waiting\": 88}, {\"eruptions\": 3.817, \"waiting\": 80}, {\"eruptions\": 3.917, \"waiting\": 71}, {\"eruptions\": 4.45, \"waiting\": 83}, {\"eruptions\": 2.0, \"waiting\": 56}, {\"eruptions\": 4.283, \"waiting\": 79}, {\"eruptions\": 4.767, \"waiting\": 78}, {\"eruptions\": 4.533, \"waiting\": 84}, {\"eruptions\": 1.85, \"waiting\": 58}, {\"eruptions\": 4.25, \"waiting\": 83}, {\"eruptions\": 1.983, \"waiting\": 43}, {\"eruptions\": 2.25, \"waiting\": 60}, {\"eruptions\": 4.75, \"waiting\": 75}, {\"eruptions\": 4.117, \"waiting\": 81}, {\"eruptions\": 2.15, \"waiting\": 46}, {\"eruptions\": 4.417, \"waiting\": 90}, {\"eruptions\": 1.817, \"waiting\": 46}, {\"eruptions\": 4.467, \"waiting\": 74}]}}, {\"mode\": \"vega-lite\"});\n</script>",
      "application/papermill.record/text/plain": "alt.Chart(...)"
     },
     "metadata": {
      "scrapbook": {
       "mime_prefix": "application/papermill.record/",
       "name": "faithful_scatter_labels"
      }
     },
     "output_type": "display_data"
    }
   ],
   "source": [
    "glue('faithful_scatter_labels', faithful_scatter_labels, display=False)"
   ]
  },
  {
   "cell_type": "markdown",
   "id": "c161da35",
   "metadata": {},
   "source": [
    ":::{glue:figure} faithful_scatter_labels\n",
    ":figwidth: 700px \n",
    ":name: faithful_scatter_labels\n",
    "\n",
    "Scatter plot of waiting time and eruption time with clearer axes and labels.\n",
    ":::"
   ]
  },
  {
   "cell_type": "markdown",
   "id": "1b6df1ae",
   "metadata": {},
   "source": [
    "### Axis transformation and colored scatter plots: the Canadian languages data set\n",
    "\n",
    "Recall the `can_lang` data set [@timbers2020canlang] from Chapters \\@ref(intro), \\@ref(reading), and \\@ref(wrangling),\n",
    "\\index{Canadian languages} which contains counts of languages from the 2016\n",
    "Canadian census.\n",
    "\n",
    "**Question:** \\index{question!visualization} Is there a relationship between\n",
    "the percentage of people who speak a language as their mother tongue and \n",
    "the percentage for whom that is the primary language spoken at home?\n",
    "And is there a pattern in the strength of this relationship in the\n",
    "higher-level language categories (Official languages, Aboriginal languages, or\n",
    "non-official and non-Aboriginal languages)?\n",
    "\n",
    "To get started, we will read and inspect the data:"
   ]
  },
  {
   "cell_type": "code",
   "execution_count": 20,
   "id": "db5213e7",
   "metadata": {
    "execution": {
     "iopub.execute_input": "2022-07-19T22:59:15.392249Z",
     "iopub.status.busy": "2022-07-19T22:59:15.392111Z",
     "iopub.status.idle": "2022-07-19T22:59:15.395297Z",
     "shell.execute_reply": "2022-07-19T22:59:15.394971Z"
    }
   },
   "outputs": [],
   "source": [
    "can_lang =  pd.read_csv(\"data/can_lang.csv\")"
   ]
  },
  {
   "cell_type": "code",
   "execution_count": 21,
   "id": "b3f5324b",
   "metadata": {
    "execution": {
     "iopub.execute_input": "2022-07-19T22:59:15.396988Z",
     "iopub.status.busy": "2022-07-19T22:59:15.396868Z",
     "iopub.status.idle": "2022-07-19T22:59:15.399350Z",
     "shell.execute_reply": "2022-07-19T22:59:15.399065Z"
    },
    "tags": [
     "remove-cell"
    ]
   },
   "outputs": [],
   "source": [
    "can_lang = can_lang[(can_lang['most_at_home']>0) & (can_lang['mother_tongue']>0)]"
   ]
  },
  {
   "cell_type": "markdown",
   "id": "7caef1be",
   "metadata": {},
   "source": [
    "We will begin with a scatter plot of the `mother_tongue` and `most_at_home` columns from our data frame.\n",
    "The resulting plot is shown in {numref}`can_lang_plot`\n",
    "\\index{ggplot!geom\\_point}"
   ]
  },
  {
   "cell_type": "code",
   "execution_count": 22,
   "id": "162e8477",
   "metadata": {
    "execution": {
     "iopub.execute_input": "2022-07-19T22:59:15.401142Z",
     "iopub.status.busy": "2022-07-19T22:59:15.401028Z",
     "iopub.status.idle": "2022-07-19T22:59:15.407770Z",
     "shell.execute_reply": "2022-07-19T22:59:15.407481Z"
    }
   },
   "outputs": [],
   "source": [
    "can_lang_plot = alt.Chart(can_lang).mark_circle(color='black').encode(\n",
    "    x = \"most_at_home\",\n",
    "    y = \"mother_tongue\")\n"
   ]
  },
  {
   "cell_type": "code",
   "execution_count": 23,
   "id": "900d78fb",
   "metadata": {
    "execution": {
     "iopub.execute_input": "2022-07-19T22:59:15.409546Z",
     "iopub.status.busy": "2022-07-19T22:59:15.409412Z",
     "iopub.status.idle": "2022-07-19T22:59:15.418126Z",
     "shell.execute_reply": "2022-07-19T22:59:15.417842Z"
    },
    "tags": [
     "remove-cell"
    ]
   },
   "outputs": [
    {
     "data": {
      "application/papermill.record/text/html": "\n<div id=\"altair-viz-954e414d35134e46b6c8175e258e0d91\"></div>\n<script type=\"text/javascript\">\n  var VEGA_DEBUG = (typeof VEGA_DEBUG == \"undefined\") ? {} : VEGA_DEBUG;\n  (function(spec, embedOpt){\n    let outputDiv = document.currentScript.previousElementSibling;\n    if (outputDiv.id !== \"altair-viz-954e414d35134e46b6c8175e258e0d91\") {\n      outputDiv = document.getElementById(\"altair-viz-954e414d35134e46b6c8175e258e0d91\");\n    }\n    const paths = {\n      \"vega\": \"https://cdn.jsdelivr.net/npm//vega@5?noext\",\n      \"vega-lib\": \"https://cdn.jsdelivr.net/npm//vega-lib?noext\",\n      \"vega-lite\": \"https://cdn.jsdelivr.net/npm//vega-lite@4.17.0?noext\",\n      \"vega-embed\": \"https://cdn.jsdelivr.net/npm//vega-embed@6?noext\",\n    };\n\n    function maybeLoadScript(lib, version) {\n      var key = `${lib.replace(\"-\", \"\")}_version`;\n      return (VEGA_DEBUG[key] == version) ?\n        Promise.resolve(paths[lib]) :\n        new Promise(function(resolve, reject) {\n          var s = document.createElement('script');\n          document.getElementsByTagName(\"head\")[0].appendChild(s);\n          s.async = true;\n          s.onload = () => {\n            VEGA_DEBUG[key] = version;\n            return resolve(paths[lib]);\n          };\n          s.onerror = () => reject(`Error loading script: ${paths[lib]}`);\n          s.src = paths[lib];\n        });\n    }\n\n    function showError(err) {\n      outputDiv.innerHTML = `<div class=\"error\" style=\"color:red;\">${err}</div>`;\n      throw err;\n    }\n\n    function displayChart(vegaEmbed) {\n      vegaEmbed(outputDiv, spec, embedOpt)\n        .catch(err => showError(`Javascript Error: ${err.message}<br>This usually means there's a typo in your chart specification. See the javascript console for the full traceback.`));\n    }\n\n    if(typeof define === \"function\" && define.amd) {\n      requirejs.config({paths});\n      require([\"vega-embed\"], displayChart, err => showError(`Error loading script: ${err.message}`));\n    } else {\n      maybeLoadScript(\"vega\", \"5\")\n        .then(() => maybeLoadScript(\"vega-lite\", \"4.17.0\"))\n        .then(() => maybeLoadScript(\"vega-embed\", \"6\"))\n        .catch(showError)\n        .then(() => displayChart(vegaEmbed));\n    }\n  })({\"config\": {\"view\": {\"continuousWidth\": 400, \"continuousHeight\": 300}}, \"data\": {\"name\": \"data-4ddf50cdde7bfe2d60cc10183bddf059\"}, \"mark\": {\"type\": \"circle\", \"color\": \"black\"}, \"encoding\": {\"x\": {\"field\": \"most_at_home\", \"type\": \"quantitative\"}, \"y\": {\"field\": \"mother_tongue\", \"type\": \"quantitative\"}}, \"$schema\": \"https://vega.github.io/schema/vega-lite/v4.17.0.json\", \"datasets\": {\"data-4ddf50cdde7bfe2d60cc10183bddf059\": [{\"category\": \"Aboriginal languages\", \"language\": \"Aboriginal languages, n.o.s.\", \"mother_tongue\": 590.0, \"most_at_home\": 235.0, \"most_at_work\": 30.0, \"lang_known\": 665.0}, {\"category\": \"Non-Official & Non-Aboriginal languages\", \"language\": \"Afrikaans\", \"mother_tongue\": 10260.0, \"most_at_home\": 4785.0, \"most_at_work\": 85.0, \"lang_known\": 23415.0}, {\"category\": \"Non-Official & Non-Aboriginal languages\", \"language\": \"Afro-Asiatic languages, n.i.e.\", \"mother_tongue\": 1150.0, \"most_at_home\": 445.0, \"most_at_work\": 10.0, \"lang_known\": 2775.0}, {\"category\": \"Non-Official & Non-Aboriginal languages\", \"language\": \"Akan (Twi)\", \"mother_tongue\": 13460.0, \"most_at_home\": 5985.0, \"most_at_work\": 25.0, \"lang_known\": 22150.0}, {\"category\": \"Non-Official & Non-Aboriginal languages\", \"language\": \"Albanian\", \"mother_tongue\": 26895.0, \"most_at_home\": 13135.0, \"most_at_work\": 345.0, \"lang_known\": 31930.0}, {\"category\": \"Aboriginal languages\", \"language\": \"Algonquian languages, n.i.e.\", \"mother_tongue\": 45.0, \"most_at_home\": 10.0, \"most_at_work\": 0.0, \"lang_known\": 120.0}, {\"category\": \"Aboriginal languages\", \"language\": \"Algonquin\", \"mother_tongue\": 1260.0, \"most_at_home\": 370.0, \"most_at_work\": 40.0, \"lang_known\": 2480.0}, {\"category\": \"Non-Official & Non-Aboriginal languages\", \"language\": \"American Sign Language\", \"mother_tongue\": 2685.0, \"most_at_home\": 3020.0, \"most_at_work\": 1145.0, \"lang_known\": 21930.0}, {\"category\": \"Non-Official & Non-Aboriginal languages\", \"language\": \"Amharic\", \"mother_tongue\": 22465.0, \"most_at_home\": 12785.0, \"most_at_work\": 200.0, \"lang_known\": 33670.0}, {\"category\": \"Non-Official & Non-Aboriginal languages\", \"language\": \"Arabic\", \"mother_tongue\": 419890.0, \"most_at_home\": 223535.0, \"most_at_work\": 5585.0, \"lang_known\": 629055.0}, {\"category\": \"Non-Official & Non-Aboriginal languages\", \"language\": \"Armenian\", \"mother_tongue\": 33460.0, \"most_at_home\": 21510.0, \"most_at_work\": 450.0, \"lang_known\": 41295.0}, {\"category\": \"Non-Official & Non-Aboriginal languages\", \"language\": \"Assyrian Neo-Aramaic\", \"mother_tongue\": 16070.0, \"most_at_home\": 10510.0, \"most_at_work\": 205.0, \"lang_known\": 19740.0}, {\"category\": \"Aboriginal languages\", \"language\": \"Athabaskan languages, n.i.e.\", \"mother_tongue\": 50.0, \"most_at_home\": 10.0, \"most_at_work\": 0.0, \"lang_known\": 85.0}, {\"category\": \"Aboriginal languages\", \"language\": \"Atikamekw\", \"mother_tongue\": 6150.0, \"most_at_home\": 5465.0, \"most_at_work\": 1100.0, \"lang_known\": 6645.0}, {\"category\": \"Non-Official & Non-Aboriginal languages\", \"language\": \"Austro-Asiatic languages, n.i.e\", \"mother_tongue\": 170.0, \"most_at_home\": 80.0, \"most_at_work\": 0.0, \"lang_known\": 190.0}, {\"category\": \"Non-Official & Non-Aboriginal languages\", \"language\": \"Austronesian languages, n.i.e.\", \"mother_tongue\": 4195.0, \"most_at_home\": 1160.0, \"most_at_work\": 35.0, \"lang_known\": 5585.0}, {\"category\": \"Non-Official & Non-Aboriginal languages\", \"language\": \"Azerbaijani\", \"mother_tongue\": 3255.0, \"most_at_home\": 1245.0, \"most_at_work\": 25.0, \"lang_known\": 5455.0}, {\"category\": \"Aboriginal languages\", \"language\": \"Babine (Wetsuwet'en)\", \"mother_tongue\": 110.0, \"most_at_home\": 20.0, \"most_at_work\": 10.0, \"lang_known\": 210.0}, {\"category\": \"Non-Official & Non-Aboriginal languages\", \"language\": \"Bamanankan\", \"mother_tongue\": 1535.0, \"most_at_home\": 345.0, \"most_at_work\": 0.0, \"lang_known\": 3190.0}, {\"category\": \"Aboriginal languages\", \"language\": \"Beaver\", \"mother_tongue\": 190.0, \"most_at_home\": 50.0, \"most_at_work\": 0.0, \"lang_known\": 340.0}, {\"category\": \"Non-Official & Non-Aboriginal languages\", \"language\": \"Belarusan\", \"mother_tongue\": 810.0, \"most_at_home\": 225.0, \"most_at_work\": 0.0, \"lang_known\": 2265.0}, {\"category\": \"Non-Official & Non-Aboriginal languages\", \"language\": \"Bengali\", \"mother_tongue\": 73125.0, \"most_at_home\": 47350.0, \"most_at_work\": 525.0, \"lang_known\": 91220.0}, {\"category\": \"Non-Official & Non-Aboriginal languages\", \"language\": \"Berber languages, n.i.e.\", \"mother_tongue\": 8985.0, \"most_at_home\": 2615.0, \"most_at_work\": 15.0, \"lang_known\": 12510.0}, {\"category\": \"Non-Official & Non-Aboriginal languages\", \"language\": \"Bikol\", \"mother_tongue\": 1785.0, \"most_at_home\": 290.0, \"most_at_work\": 0.0, \"lang_known\": 2075.0}, {\"category\": \"Non-Official & Non-Aboriginal languages\", \"language\": \"Bilen\", \"mother_tongue\": 805.0, \"most_at_home\": 615.0, \"most_at_work\": 15.0, \"lang_known\": 1085.0}, {\"category\": \"Aboriginal languages\", \"language\": \"Blackfoot\", \"mother_tongue\": 2815.0, \"most_at_home\": 1110.0, \"most_at_work\": 85.0, \"lang_known\": 5645.0}, {\"category\": \"Non-Official & Non-Aboriginal languages\", \"language\": \"Bosnian\", \"mother_tongue\": 12215.0, \"most_at_home\": 6045.0, \"most_at_work\": 155.0, \"lang_known\": 18265.0}, {\"category\": \"Non-Official & Non-Aboriginal languages\", \"language\": \"Bulgarian\", \"mother_tongue\": 20020.0, \"most_at_home\": 11985.0, \"most_at_work\": 200.0, \"lang_known\": 22425.0}, {\"category\": \"Non-Official & Non-Aboriginal languages\", \"language\": \"Burmese\", \"mother_tongue\": 3585.0, \"most_at_home\": 2245.0, \"most_at_work\": 75.0, \"lang_known\": 4995.0}, {\"category\": \"Non-Official & Non-Aboriginal languages\", \"language\": \"Cantonese\", \"mother_tongue\": 565270.0, \"most_at_home\": 400220.0, \"most_at_work\": 58820.0, \"lang_known\": 699125.0}, {\"category\": \"Aboriginal languages\", \"language\": \"Carrier\", \"mother_tongue\": 1025.0, \"most_at_home\": 250.0, \"most_at_work\": 15.0, \"lang_known\": 2100.0}, {\"category\": \"Non-Official & Non-Aboriginal languages\", \"language\": \"Catalan\", \"mother_tongue\": 870.0, \"most_at_home\": 350.0, \"most_at_work\": 30.0, \"lang_known\": 2035.0}, {\"category\": \"Aboriginal languages\", \"language\": \"Cayuga\", \"mother_tongue\": 45.0, \"most_at_home\": 10.0, \"most_at_work\": 10.0, \"lang_known\": 125.0}, {\"category\": \"Non-Official & Non-Aboriginal languages\", \"language\": \"Cebuano\", \"mother_tongue\": 19890.0, \"most_at_home\": 7205.0, \"most_at_work\": 70.0, \"lang_known\": 27040.0}, {\"category\": \"Non-Official & Non-Aboriginal languages\", \"language\": \"Celtic languages, n.i.e.\", \"mother_tongue\": 525.0, \"most_at_home\": 80.0, \"most_at_work\": 10.0, \"lang_known\": 3595.0}, {\"category\": \"Non-Official & Non-Aboriginal languages\", \"language\": \"Chaldean Neo-Aramaic\", \"mother_tongue\": 5545.0, \"most_at_home\": 3445.0, \"most_at_work\": 35.0, \"lang_known\": 7115.0}, {\"category\": \"Aboriginal languages\", \"language\": \"Chilcotin\", \"mother_tongue\": 655.0, \"most_at_home\": 255.0, \"most_at_work\": 15.0, \"lang_known\": 1150.0}, {\"category\": \"Non-Official & Non-Aboriginal languages\", \"language\": \"Chinese languages, n.i.e.\", \"mother_tongue\": 615.0, \"most_at_home\": 280.0, \"most_at_work\": 0.0, \"lang_known\": 590.0}, {\"category\": \"Non-Official & Non-Aboriginal languages\", \"language\": \"Chinese, n.o.s.\", \"mother_tongue\": 38580.0, \"most_at_home\": 23940.0, \"most_at_work\": 2935.0, \"lang_known\": 41685.0}, {\"category\": \"Aboriginal languages\", \"language\": \"Cree, n.o.s.\", \"mother_tongue\": 64050.0, \"most_at_home\": 37950.0, \"most_at_work\": 7800.0, \"lang_known\": 86115.0}, {\"category\": \"Non-Official & Non-Aboriginal languages\", \"language\": \"Creole languages, n.i.e.\", \"mother_tongue\": 4985.0, \"most_at_home\": 2005.0, \"most_at_work\": 15.0, \"lang_known\": 16635.0}, {\"category\": \"Non-Official & Non-Aboriginal languages\", \"language\": \"Creole, n.o.s.\", \"mother_tongue\": 64110.0, \"most_at_home\": 24570.0, \"most_at_work\": 310.0, \"lang_known\": 133045.0}, {\"category\": \"Non-Official & Non-Aboriginal languages\", \"language\": \"Croatian\", \"mother_tongue\": 48200.0, \"most_at_home\": 16775.0, \"most_at_work\": 220.0, \"lang_known\": 69835.0}, {\"category\": \"Non-Official & Non-Aboriginal languages\", \"language\": \"Cushitic languages, n.i.e.\", \"mother_tongue\": 365.0, \"most_at_home\": 180.0, \"most_at_work\": 0.0, \"lang_known\": 480.0}, {\"category\": \"Non-Official & Non-Aboriginal languages\", \"language\": \"Czech\", \"mother_tongue\": 22295.0, \"most_at_home\": 6235.0, \"most_at_work\": 70.0, \"lang_known\": 28725.0}, {\"category\": \"Aboriginal languages\", \"language\": \"Dakota\", \"mother_tongue\": 1210.0, \"most_at_home\": 255.0, \"most_at_work\": 20.0, \"lang_known\": 1760.0}, {\"category\": \"Non-Official & Non-Aboriginal languages\", \"language\": \"Danish\", \"mother_tongue\": 12630.0, \"most_at_home\": 855.0, \"most_at_work\": 85.0, \"lang_known\": 15750.0}, {\"category\": \"Aboriginal languages\", \"language\": \"Dene\", \"mother_tongue\": 10700.0, \"most_at_home\": 7710.0, \"most_at_work\": 770.0, \"lang_known\": 13060.0}, {\"category\": \"Non-Official & Non-Aboriginal languages\", \"language\": \"Dinka\", \"mother_tongue\": 2120.0, \"most_at_home\": 1130.0, \"most_at_work\": 0.0, \"lang_known\": 2475.0}, {\"category\": \"Aboriginal languages\", \"language\": \"Dogrib (Tlicho)\", \"mother_tongue\": 1650.0, \"most_at_home\": 1020.0, \"most_at_work\": 165.0, \"lang_known\": 2375.0}, {\"category\": \"Non-Official & Non-Aboriginal languages\", \"language\": \"Dravidian languages, n.i.e.\", \"mother_tongue\": 490.0, \"most_at_home\": 190.0, \"most_at_work\": 0.0, \"lang_known\": 790.0}, {\"category\": \"Non-Official & Non-Aboriginal languages\", \"language\": \"Dutch\", \"mother_tongue\": 99015.0, \"most_at_home\": 9565.0, \"most_at_work\": 1165.0, \"lang_known\": 120870.0}, {\"category\": \"Non-Official & Non-Aboriginal languages\", \"language\": \"Edo\", \"mother_tongue\": 1670.0, \"most_at_home\": 410.0, \"most_at_work\": 0.0, \"lang_known\": 3220.0}, {\"category\": \"Official languages\", \"language\": \"English\", \"mother_tongue\": 19460850.0, \"most_at_home\": 22162865.0, \"most_at_work\": 15265335.0, \"lang_known\": 29748265.0}, {\"category\": \"Non-Official & Non-Aboriginal languages\", \"language\": \"Estonian\", \"mother_tongue\": 5445.0, \"most_at_home\": 975.0, \"most_at_work\": 55.0, \"lang_known\": 6070.0}, {\"category\": \"Non-Official & Non-Aboriginal languages\", \"language\": \"Ewe\", \"mother_tongue\": 1760.0, \"most_at_home\": 405.0, \"most_at_work\": 10.0, \"lang_known\": 3000.0}, {\"category\": \"Non-Official & Non-Aboriginal languages\", \"language\": \"Fijian\", \"mother_tongue\": 745.0, \"most_at_home\": 195.0, \"most_at_work\": 0.0, \"lang_known\": 1665.0}, {\"category\": \"Non-Official & Non-Aboriginal languages\", \"language\": \"Finnish\", \"mother_tongue\": 15295.0, \"most_at_home\": 2790.0, \"most_at_work\": 105.0, \"lang_known\": 17590.0}, {\"category\": \"Official languages\", \"language\": \"French\", \"mother_tongue\": 7166700.0, \"most_at_home\": 6943800.0, \"most_at_work\": 3825215.0, \"lang_known\": 10242945.0}, {\"category\": \"Non-Official & Non-Aboriginal languages\", \"language\": \"Frisian\", \"mother_tongue\": 2100.0, \"most_at_home\": 185.0, \"most_at_work\": 40.0, \"lang_known\": 2910.0}, {\"category\": \"Non-Official & Non-Aboriginal languages\", \"language\": \"Fulah (Pular, Pulaar, Fulfulde)\", \"mother_tongue\": 2825.0, \"most_at_home\": 825.0, \"most_at_work\": 0.0, \"lang_known\": 4725.0}, {\"category\": \"Non-Official & Non-Aboriginal languages\", \"language\": \"Ga\", \"mother_tongue\": 920.0, \"most_at_home\": 250.0, \"most_at_work\": 0.0, \"lang_known\": 2250.0}, {\"category\": \"Non-Official & Non-Aboriginal languages\", \"language\": \"Ganda\", \"mother_tongue\": 1295.0, \"most_at_home\": 345.0, \"most_at_work\": 25.0, \"lang_known\": 2495.0}, {\"category\": \"Non-Official & Non-Aboriginal languages\", \"language\": \"Georgian\", \"mother_tongue\": 1710.0, \"most_at_home\": 1040.0, \"most_at_work\": 25.0, \"lang_known\": 2150.0}, {\"category\": \"Non-Official & Non-Aboriginal languages\", \"language\": \"German\", \"mother_tongue\": 384040.0, \"most_at_home\": 120335.0, \"most_at_work\": 10065.0, \"lang_known\": 502735.0}, {\"category\": \"Non-Official & Non-Aboriginal languages\", \"language\": \"Germanic languages, n.i.e.\", \"mother_tongue\": 525.0, \"most_at_home\": 1630.0, \"most_at_work\": 725.0, \"lang_known\": 8705.0}, {\"category\": \"Aboriginal languages\", \"language\": \"Gitxsan (Gitksan)\", \"mother_tongue\": 880.0, \"most_at_home\": 315.0, \"most_at_work\": 10.0, \"lang_known\": 1305.0}, {\"category\": \"Non-Official & Non-Aboriginal languages\", \"language\": \"Greek\", \"mother_tongue\": 106525.0, \"most_at_home\": 44550.0, \"most_at_work\": 1020.0, \"lang_known\": 150965.0}, {\"category\": \"Non-Official & Non-Aboriginal languages\", \"language\": \"Gujarati\", \"mother_tongue\": 108780.0, \"most_at_home\": 64150.0, \"most_at_work\": 885.0, \"lang_known\": 149045.0}, {\"category\": \"Aboriginal languages\", \"language\": \"Gwich'in\", \"mother_tongue\": 255.0, \"most_at_home\": 50.0, \"most_at_work\": 10.0, \"lang_known\": 360.0}, {\"category\": \"Aboriginal languages\", \"language\": \"Haida\", \"mother_tongue\": 80.0, \"most_at_home\": 10.0, \"most_at_work\": 0.0, \"lang_known\": 465.0}, {\"category\": \"Aboriginal languages\", \"language\": \"Haisla\", \"mother_tongue\": 90.0, \"most_at_home\": 20.0, \"most_at_work\": 0.0, \"lang_known\": 175.0}, {\"category\": \"Non-Official & Non-Aboriginal languages\", \"language\": \"Haitian Creole\", \"mother_tongue\": 3030.0, \"most_at_home\": 1280.0, \"most_at_work\": 25.0, \"lang_known\": 6855.0}, {\"category\": \"Non-Official & Non-Aboriginal languages\", \"language\": \"Hakka\", \"mother_tongue\": 10910.0, \"most_at_home\": 4085.0, \"most_at_work\": 70.0, \"lang_known\": 12445.0}, {\"category\": \"Aboriginal languages\", \"language\": \"Halkomelem\", \"mother_tongue\": 480.0, \"most_at_home\": 50.0, \"most_at_work\": 20.0, \"lang_known\": 1060.0}, {\"category\": \"Non-Official & Non-Aboriginal languages\", \"language\": \"Harari\", \"mother_tongue\": 1320.0, \"most_at_home\": 735.0, \"most_at_work\": 0.0, \"lang_known\": 1715.0}, {\"category\": \"Non-Official & Non-Aboriginal languages\", \"language\": \"Hebrew\", \"mother_tongue\": 19530.0, \"most_at_home\": 8560.0, \"most_at_work\": 825.0, \"lang_known\": 75020.0}, {\"category\": \"Aboriginal languages\", \"language\": \"Heiltsuk\", \"mother_tongue\": 100.0, \"most_at_home\": 5.0, \"most_at_work\": 10.0, \"lang_known\": 125.0}, {\"category\": \"Non-Official & Non-Aboriginal languages\", \"language\": \"Hiligaynon\", \"mother_tongue\": 6880.0, \"most_at_home\": 2210.0, \"most_at_work\": 25.0, \"lang_known\": 7925.0}, {\"category\": \"Non-Official & Non-Aboriginal languages\", \"language\": \"Hindi\", \"mother_tongue\": 110645.0, \"most_at_home\": 55510.0, \"most_at_work\": 1405.0, \"lang_known\": 433365.0}, {\"category\": \"Non-Official & Non-Aboriginal languages\", \"language\": \"Hmong-Mien languages\", \"mother_tongue\": 795.0, \"most_at_home\": 335.0, \"most_at_work\": 10.0, \"lang_known\": 870.0}, {\"category\": \"Non-Official & Non-Aboriginal languages\", \"language\": \"Hungarian\", \"mother_tongue\": 61235.0, \"most_at_home\": 19480.0, \"most_at_work\": 440.0, \"lang_known\": 71285.0}, {\"category\": \"Non-Official & Non-Aboriginal languages\", \"language\": \"Icelandic\", \"mother_tongue\": 1285.0, \"most_at_home\": 270.0, \"most_at_work\": 0.0, \"lang_known\": 1780.0}, {\"category\": \"Non-Official & Non-Aboriginal languages\", \"language\": \"Igbo\", \"mother_tongue\": 4235.0, \"most_at_home\": 1000.0, \"most_at_work\": 10.0, \"lang_known\": 8855.0}, {\"category\": \"Non-Official & Non-Aboriginal languages\", \"language\": \"Ilocano\", \"mother_tongue\": 26345.0, \"most_at_home\": 9125.0, \"most_at_work\": 110.0, \"lang_known\": 34530.0}, {\"category\": \"Non-Official & Non-Aboriginal languages\", \"language\": \"Indo-Iranian languages, n.i.e.\", \"mother_tongue\": 5185.0, \"most_at_home\": 2380.0, \"most_at_work\": 20.0, \"lang_known\": 8870.0}, {\"category\": \"Aboriginal languages\", \"language\": \"Inuinnaqtun (Inuvialuktun)\", \"mother_tongue\": 1020.0, \"most_at_home\": 165.0, \"most_at_work\": 30.0, \"lang_known\": 1975.0}, {\"category\": \"Aboriginal languages\", \"language\": \"Inuit languages, n.i.e.\", \"mother_tongue\": 310.0, \"most_at_home\": 90.0, \"most_at_work\": 15.0, \"lang_known\": 470.0}, {\"category\": \"Aboriginal languages\", \"language\": \"Inuktitut\", \"mother_tongue\": 35210.0, \"most_at_home\": 29230.0, \"most_at_work\": 8795.0, \"lang_known\": 40620.0}, {\"category\": \"Aboriginal languages\", \"language\": \"Iroquoian languages, n.i.e.\", \"mother_tongue\": 35.0, \"most_at_home\": 5.0, \"most_at_work\": 0.0, \"lang_known\": 115.0}, {\"category\": \"Non-Official & Non-Aboriginal languages\", \"language\": \"Italian\", \"mother_tongue\": 375635.0, \"most_at_home\": 115415.0, \"most_at_work\": 1705.0, \"lang_known\": 574725.0}, {\"category\": \"Non-Official & Non-Aboriginal languages\", \"language\": \"Italic (Romance) languages, n.i.e.\", \"mother_tongue\": 720.0, \"most_at_home\": 175.0, \"most_at_work\": 25.0, \"lang_known\": 2680.0}, {\"category\": \"Non-Official & Non-Aboriginal languages\", \"language\": \"Japanese\", \"mother_tongue\": 43640.0, \"most_at_home\": 19785.0, \"most_at_work\": 3255.0, \"lang_known\": 83095.0}, {\"category\": \"Non-Official & Non-Aboriginal languages\", \"language\": \"Kabyle\", \"mother_tongue\": 13150.0, \"most_at_home\": 5490.0, \"most_at_work\": 15.0, \"lang_known\": 17120.0}, {\"category\": \"Non-Official & Non-Aboriginal languages\", \"language\": \"Kannada\", \"mother_tongue\": 3970.0, \"most_at_home\": 1630.0, \"most_at_work\": 10.0, \"lang_known\": 8245.0}, {\"category\": \"Non-Official & Non-Aboriginal languages\", \"language\": \"Karenic languages\", \"mother_tongue\": 4705.0, \"most_at_home\": 3860.0, \"most_at_work\": 135.0, \"lang_known\": 4895.0}, {\"category\": \"Non-Official & Non-Aboriginal languages\", \"language\": \"Kashmiri\", \"mother_tongue\": 565.0, \"most_at_home\": 135.0, \"most_at_work\": 0.0, \"lang_known\": 905.0}, {\"category\": \"Aboriginal languages\", \"language\": \"Kaska (Nahani)\", \"mother_tongue\": 180.0, \"most_at_home\": 20.0, \"most_at_work\": 10.0, \"lang_known\": 365.0}, {\"category\": \"Non-Official & Non-Aboriginal languages\", \"language\": \"Khmer (Cambodian)\", \"mother_tongue\": 20130.0, \"most_at_home\": 10885.0, \"most_at_work\": 475.0, \"lang_known\": 27035.0}, {\"category\": \"Non-Official & Non-Aboriginal languages\", \"language\": \"Kinyarwanda (Rwanda)\", \"mother_tongue\": 5250.0, \"most_at_home\": 1530.0, \"most_at_work\": 25.0, \"lang_known\": 7860.0}, {\"category\": \"Non-Official & Non-Aboriginal languages\", \"language\": \"Konkani\", \"mother_tongue\": 3330.0, \"most_at_home\": 720.0, \"most_at_work\": 10.0, \"lang_known\": 6790.0}, {\"category\": \"Non-Official & Non-Aboriginal languages\", \"language\": \"Korean\", \"mother_tongue\": 153425.0, \"most_at_home\": 109705.0, \"most_at_work\": 12150.0, \"lang_known\": 172750.0}, {\"category\": \"Non-Official & Non-Aboriginal languages\", \"language\": \"Kurdish\", \"mother_tongue\": 11705.0, \"most_at_home\": 6580.0, \"most_at_work\": 185.0, \"lang_known\": 15290.0}, {\"category\": \"Aboriginal languages\", \"language\": \"Kutenai\", \"mother_tongue\": 110.0, \"most_at_home\": 10.0, \"most_at_work\": 0.0, \"lang_known\": 170.0}, {\"category\": \"Aboriginal languages\", \"language\": \"Kwakiutl (Kwak'wala)\", \"mother_tongue\": 325.0, \"most_at_home\": 25.0, \"most_at_work\": 15.0, \"lang_known\": 605.0}, {\"category\": \"Non-Official & Non-Aboriginal languages\", \"language\": \"Lao\", \"mother_tongue\": 12670.0, \"most_at_home\": 6175.0, \"most_at_work\": 150.0, \"lang_known\": 17235.0}, {\"category\": \"Non-Official & Non-Aboriginal languages\", \"language\": \"Latvian\", \"mother_tongue\": 5450.0, \"most_at_home\": 1255.0, \"most_at_work\": 35.0, \"lang_known\": 6500.0}, {\"category\": \"Aboriginal languages\", \"language\": \"Lillooet\", \"mother_tongue\": 315.0, \"most_at_home\": 25.0, \"most_at_work\": 15.0, \"lang_known\": 790.0}, {\"category\": \"Non-Official & Non-Aboriginal languages\", \"language\": \"Lingala\", \"mother_tongue\": 3805.0, \"most_at_home\": 1045.0, \"most_at_work\": 10.0, \"lang_known\": 17010.0}, {\"category\": \"Non-Official & Non-Aboriginal languages\", \"language\": \"Lithuanian\", \"mother_tongue\": 7075.0, \"most_at_home\": 2015.0, \"most_at_work\": 60.0, \"lang_known\": 8185.0}, {\"category\": \"Non-Official & Non-Aboriginal languages\", \"language\": \"Macedonian\", \"mother_tongue\": 16770.0, \"most_at_home\": 6830.0, \"most_at_work\": 95.0, \"lang_known\": 23075.0}, {\"category\": \"Non-Official & Non-Aboriginal languages\", \"language\": \"Malagasy\", \"mother_tongue\": 1430.0, \"most_at_home\": 430.0, \"most_at_work\": 0.0, \"lang_known\": 2340.0}, {\"category\": \"Non-Official & Non-Aboriginal languages\", \"language\": \"Malay\", \"mother_tongue\": 12275.0, \"most_at_home\": 3625.0, \"most_at_work\": 140.0, \"lang_known\": 22470.0}, {\"category\": \"Non-Official & Non-Aboriginal languages\", \"language\": \"Malayalam\", \"mother_tongue\": 28565.0, \"most_at_home\": 15440.0, \"most_at_work\": 95.0, \"lang_known\": 37810.0}, {\"category\": \"Aboriginal languages\", \"language\": \"Malecite\", \"mother_tongue\": 300.0, \"most_at_home\": 55.0, \"most_at_work\": 10.0, \"lang_known\": 760.0}, {\"category\": \"Non-Official & Non-Aboriginal languages\", \"language\": \"Maltese\", \"mother_tongue\": 5565.0, \"most_at_home\": 1125.0, \"most_at_work\": 25.0, \"lang_known\": 7625.0}, {\"category\": \"Non-Official & Non-Aboriginal languages\", \"language\": \"Mandarin\", \"mother_tongue\": 592040.0, \"most_at_home\": 462890.0, \"most_at_work\": 60090.0, \"lang_known\": 814450.0}, {\"category\": \"Non-Official & Non-Aboriginal languages\", \"language\": \"Marathi\", \"mother_tongue\": 8295.0, \"most_at_home\": 3780.0, \"most_at_work\": 30.0, \"lang_known\": 15565.0}, {\"category\": \"Aboriginal languages\", \"language\": \"Mi'kmaq\", \"mother_tongue\": 6690.0, \"most_at_home\": 3565.0, \"most_at_work\": 915.0, \"lang_known\": 9025.0}, {\"category\": \"Aboriginal languages\", \"language\": \"Michif\", \"mother_tongue\": 465.0, \"most_at_home\": 80.0, \"most_at_work\": 10.0, \"lang_known\": 1210.0}, {\"category\": \"Non-Official & Non-Aboriginal languages\", \"language\": \"Min Dong\", \"mother_tongue\": 1230.0, \"most_at_home\": 345.0, \"most_at_work\": 30.0, \"lang_known\": 1045.0}, {\"category\": \"Non-Official & Non-Aboriginal languages\", \"language\": \"Min Nan (Chaochow, Teochow, Fukien, Taiwanese)\", \"mother_tongue\": 31800.0, \"most_at_home\": 13965.0, \"most_at_work\": 565.0, \"lang_known\": 42840.0}, {\"category\": \"Aboriginal languages\", \"language\": \"Mohawk\", \"mother_tongue\": 985.0, \"most_at_home\": 255.0, \"most_at_work\": 30.0, \"lang_known\": 2415.0}, {\"category\": \"Non-Official & Non-Aboriginal languages\", \"language\": \"Mongolian\", \"mother_tongue\": 1575.0, \"most_at_home\": 905.0, \"most_at_work\": 10.0, \"lang_known\": 2095.0}, {\"category\": \"Aboriginal languages\", \"language\": \"Montagnais (Innu)\", \"mother_tongue\": 10235.0, \"most_at_home\": 8585.0, \"most_at_work\": 2055.0, \"lang_known\": 11445.0}, {\"category\": \"Aboriginal languages\", \"language\": \"Moose Cree\", \"mother_tongue\": 105.0, \"most_at_home\": 10.0, \"most_at_work\": 0.0, \"lang_known\": 195.0}, {\"category\": \"Aboriginal languages\", \"language\": \"Naskapi\", \"mother_tongue\": 1205.0, \"most_at_home\": 1195.0, \"most_at_work\": 370.0, \"lang_known\": 1465.0}, {\"category\": \"Non-Official & Non-Aboriginal languages\", \"language\": \"Nepali\", \"mother_tongue\": 18275.0, \"most_at_home\": 13375.0, \"most_at_work\": 195.0, \"lang_known\": 21385.0}, {\"category\": \"Non-Official & Non-Aboriginal languages\", \"language\": \"Niger-Congo languages, n.i.e.\", \"mother_tongue\": 19135.0, \"most_at_home\": 4010.0, \"most_at_work\": 30.0, \"lang_known\": 40760.0}, {\"category\": \"Non-Official & Non-Aboriginal languages\", \"language\": \"Nilo-Saharan languages, n.i.e.\", \"mother_tongue\": 3750.0, \"most_at_home\": 1520.0, \"most_at_work\": 0.0, \"lang_known\": 4550.0}, {\"category\": \"Aboriginal languages\", \"language\": \"Nisga'a\", \"mother_tongue\": 400.0, \"most_at_home\": 75.0, \"most_at_work\": 10.0, \"lang_known\": 1055.0}, {\"category\": \"Aboriginal languages\", \"language\": \"North Slavey (Hare)\", \"mother_tongue\": 765.0, \"most_at_home\": 340.0, \"most_at_work\": 95.0, \"lang_known\": 1005.0}, {\"category\": \"Aboriginal languages\", \"language\": \"Northern East Cree\", \"mother_tongue\": 315.0, \"most_at_home\": 110.0, \"most_at_work\": 35.0, \"lang_known\": 550.0}, {\"category\": \"Aboriginal languages\", \"language\": \"Northern Tutchone\", \"mother_tongue\": 220.0, \"most_at_home\": 30.0, \"most_at_work\": 0.0, \"lang_known\": 280.0}, {\"category\": \"Non-Official & Non-Aboriginal languages\", \"language\": \"Norwegian\", \"mother_tongue\": 4615.0, \"most_at_home\": 350.0, \"most_at_work\": 70.0, \"lang_known\": 8120.0}, {\"category\": \"Aboriginal languages\", \"language\": \"Nuu-chah-nulth (Nootka)\", \"mother_tongue\": 280.0, \"most_at_home\": 30.0, \"most_at_work\": 10.0, \"lang_known\": 560.0}, {\"category\": \"Aboriginal languages\", \"language\": \"Oji-Cree\", \"mother_tongue\": 12855.0, \"most_at_home\": 7905.0, \"most_at_work\": 1080.0, \"lang_known\": 15605.0}, {\"category\": \"Aboriginal languages\", \"language\": \"Ojibway\", \"mother_tongue\": 17885.0, \"most_at_home\": 6175.0, \"most_at_work\": 765.0, \"lang_known\": 28580.0}, {\"category\": \"Aboriginal languages\", \"language\": \"Okanagan\", \"mother_tongue\": 275.0, \"most_at_home\": 80.0, \"most_at_work\": 20.0, \"lang_known\": 820.0}, {\"category\": \"Aboriginal languages\", \"language\": \"Oneida\", \"mother_tongue\": 60.0, \"most_at_home\": 15.0, \"most_at_work\": 0.0, \"lang_known\": 185.0}, {\"category\": \"Non-Official & Non-Aboriginal languages\", \"language\": \"Oriya (Odia)\", \"mother_tongue\": 1055.0, \"most_at_home\": 475.0, \"most_at_work\": 0.0, \"lang_known\": 1530.0}, {\"category\": \"Non-Official & Non-Aboriginal languages\", \"language\": \"Oromo\", \"mother_tongue\": 4960.0, \"most_at_home\": 3410.0, \"most_at_work\": 45.0, \"lang_known\": 6245.0}, {\"category\": \"Non-Official & Non-Aboriginal languages\", \"language\": \"Other languages, n.i.e.\", \"mother_tongue\": 3685.0, \"most_at_home\": 1110.0, \"most_at_work\": 80.0, \"lang_known\": 9730.0}, {\"category\": \"Aboriginal languages\", \"language\": \"Ottawa (Odawa)\", \"mother_tongue\": 150.0, \"most_at_home\": 75.0, \"most_at_work\": 0.0, \"lang_known\": 205.0}, {\"category\": \"Non-Official & Non-Aboriginal languages\", \"language\": \"Pampangan (Kapampangan, Pampango)\", \"mother_tongue\": 4045.0, \"most_at_home\": 1200.0, \"most_at_work\": 10.0, \"lang_known\": 5425.0}, {\"category\": \"Non-Official & Non-Aboriginal languages\", \"language\": \"Pangasinan\", \"mother_tongue\": 1390.0, \"most_at_home\": 240.0, \"most_at_work\": 0.0, \"lang_known\": 1800.0}, {\"category\": \"Non-Official & Non-Aboriginal languages\", \"language\": \"Pashto\", \"mother_tongue\": 16905.0, \"most_at_home\": 10590.0, \"most_at_work\": 50.0, \"lang_known\": 23180.0}, {\"category\": \"Non-Official & Non-Aboriginal languages\", \"language\": \"Persian (Farsi)\", \"mother_tongue\": 214200.0, \"most_at_home\": 143025.0, \"most_at_work\": 4580.0, \"lang_known\": 252325.0}, {\"category\": \"Aboriginal languages\", \"language\": \"Plains Cree\", \"mother_tongue\": 3065.0, \"most_at_home\": 1345.0, \"most_at_work\": 95.0, \"lang_known\": 5905.0}, {\"category\": \"Non-Official & Non-Aboriginal languages\", \"language\": \"Polish\", \"mother_tongue\": 181710.0, \"most_at_home\": 74780.0, \"most_at_work\": 2495.0, \"lang_known\": 214965.0}, {\"category\": \"Non-Official & Non-Aboriginal languages\", \"language\": \"Portuguese\", \"mother_tongue\": 221535.0, \"most_at_home\": 98710.0, \"most_at_work\": 7485.0, \"lang_known\": 295955.0}, {\"category\": \"Non-Official & Non-Aboriginal languages\", \"language\": \"Punjabi (Panjabi)\", \"mother_tongue\": 501680.0, \"most_at_home\": 349140.0, \"most_at_work\": 27865.0, \"lang_known\": 668240.0}, {\"category\": \"Non-Official & Non-Aboriginal languages\", \"language\": \"Quebec Sign Language\", \"mother_tongue\": 695.0, \"most_at_home\": 730.0, \"most_at_work\": 130.0, \"lang_known\": 4665.0}, {\"category\": \"Non-Official & Non-Aboriginal languages\", \"language\": \"Romanian\", \"mother_tongue\": 96660.0, \"most_at_home\": 53325.0, \"most_at_work\": 745.0, \"lang_known\": 115050.0}, {\"category\": \"Non-Official & Non-Aboriginal languages\", \"language\": \"Rundi (Kirundi)\", \"mother_tongue\": 5850.0, \"most_at_home\": 2110.0, \"most_at_work\": 0.0, \"lang_known\": 8590.0}, {\"category\": \"Non-Official & Non-Aboriginal languages\", \"language\": \"Russian\", \"mother_tongue\": 188255.0, \"most_at_home\": 116595.0, \"most_at_work\": 4855.0, \"lang_known\": 269645.0}, {\"category\": \"Aboriginal languages\", \"language\": \"Salish languages, n.i.e.\", \"mother_tongue\": 260.0, \"most_at_home\": 25.0, \"most_at_work\": 0.0, \"lang_known\": 560.0}, {\"category\": \"Aboriginal languages\", \"language\": \"Sarsi (Sarcee)\", \"mother_tongue\": 80.0, \"most_at_home\": 10.0, \"most_at_work\": 0.0, \"lang_known\": 145.0}, {\"category\": \"Non-Official & Non-Aboriginal languages\", \"language\": \"Scottish Gaelic\", \"mother_tongue\": 1090.0, \"most_at_home\": 190.0, \"most_at_work\": 15.0, \"lang_known\": 3980.0}, {\"category\": \"Aboriginal languages\", \"language\": \"Sekani\", \"mother_tongue\": 85.0, \"most_at_home\": 15.0, \"most_at_work\": 0.0, \"lang_known\": 185.0}, {\"category\": \"Non-Official & Non-Aboriginal languages\", \"language\": \"Semitic languages, n.i.e.\", \"mother_tongue\": 2150.0, \"most_at_home\": 1205.0, \"most_at_work\": 65.0, \"lang_known\": 3220.0}, {\"category\": \"Non-Official & Non-Aboriginal languages\", \"language\": \"Serbian\", \"mother_tongue\": 57350.0, \"most_at_home\": 31750.0, \"most_at_work\": 530.0, \"lang_known\": 73780.0}, {\"category\": \"Non-Official & Non-Aboriginal languages\", \"language\": \"Serbo-Croatian\", \"mother_tongue\": 9550.0, \"most_at_home\": 3890.0, \"most_at_work\": 30.0, \"lang_known\": 11275.0}, {\"category\": \"Non-Official & Non-Aboriginal languages\", \"language\": \"Shona\", \"mother_tongue\": 3185.0, \"most_at_home\": 1035.0, \"most_at_work\": 0.0, \"lang_known\": 5430.0}, {\"category\": \"Aboriginal languages\", \"language\": \"Shuswap (Secwepemctsin)\", \"mother_tongue\": 445.0, \"most_at_home\": 50.0, \"most_at_work\": 35.0, \"lang_known\": 1305.0}, {\"category\": \"Non-Official & Non-Aboriginal languages\", \"language\": \"Sign languages, n.i.e\", \"mother_tongue\": 4125.0, \"most_at_home\": 6690.0, \"most_at_work\": 645.0, \"lang_known\": 22280.0}, {\"category\": \"Non-Official & Non-Aboriginal languages\", \"language\": \"Sindhi\", \"mother_tongue\": 11860.0, \"most_at_home\": 4975.0, \"most_at_work\": 35.0, \"lang_known\": 20260.0}, {\"category\": \"Non-Official & Non-Aboriginal languages\", \"language\": \"Sinhala (Sinhalese)\", \"mother_tongue\": 16335.0, \"most_at_home\": 7790.0, \"most_at_work\": 40.0, \"lang_known\": 27825.0}, {\"category\": \"Aboriginal languages\", \"language\": \"Siouan languages, n.i.e.\", \"mother_tongue\": 55.0, \"most_at_home\": 20.0, \"most_at_work\": 0.0, \"lang_known\": 140.0}, {\"category\": \"Aboriginal languages\", \"language\": \"Slavey, n.o.s.\", \"mother_tongue\": 280.0, \"most_at_home\": 105.0, \"most_at_work\": 10.0, \"lang_known\": 675.0}, {\"category\": \"Non-Official & Non-Aboriginal languages\", \"language\": \"Slavic languages, n.i.e.\", \"mother_tongue\": 2420.0, \"most_at_home\": 670.0, \"most_at_work\": 10.0, \"lang_known\": 2995.0}, {\"category\": \"Non-Official & Non-Aboriginal languages\", \"language\": \"Slovak\", \"mother_tongue\": 17580.0, \"most_at_home\": 5610.0, \"most_at_work\": 100.0, \"lang_known\": 21470.0}, {\"category\": \"Non-Official & Non-Aboriginal languages\", \"language\": \"Slovene (Slovenian)\", \"mother_tongue\": 9785.0, \"most_at_home\": 2055.0, \"most_at_work\": 15.0, \"lang_known\": 11490.0}, {\"category\": \"Non-Official & Non-Aboriginal languages\", \"language\": \"Somali\", \"mother_tongue\": 36755.0, \"most_at_home\": 22895.0, \"most_at_work\": 220.0, \"lang_known\": 49660.0}, {\"category\": \"Aboriginal languages\", \"language\": \"South Slavey\", \"mother_tongue\": 945.0, \"most_at_home\": 370.0, \"most_at_work\": 35.0, \"lang_known\": 1365.0}, {\"category\": \"Aboriginal languages\", \"language\": \"Southern East Cree\", \"mother_tongue\": 45.0, \"most_at_home\": 15.0, \"most_at_work\": 0.0, \"lang_known\": 40.0}, {\"category\": \"Aboriginal languages\", \"language\": \"Southern Tutchone\", \"mother_tongue\": 70.0, \"most_at_home\": 5.0, \"most_at_work\": 0.0, \"lang_known\": 145.0}, {\"category\": \"Non-Official & Non-Aboriginal languages\", \"language\": \"Spanish\", \"mother_tongue\": 458850.0, \"most_at_home\": 263505.0, \"most_at_work\": 13030.0, \"lang_known\": 995260.0}, {\"category\": \"Aboriginal languages\", \"language\": \"Squamish\", \"mother_tongue\": 40.0, \"most_at_home\": 5.0, \"most_at_work\": 10.0, \"lang_known\": 285.0}, {\"category\": \"Aboriginal languages\", \"language\": \"Stoney\", \"mother_tongue\": 3025.0, \"most_at_home\": 1950.0, \"most_at_work\": 240.0, \"lang_known\": 3675.0}, {\"category\": \"Aboriginal languages\", \"language\": \"Straits\", \"mother_tongue\": 80.0, \"most_at_home\": 25.0, \"most_at_work\": 15.0, \"lang_known\": 365.0}, {\"category\": \"Non-Official & Non-Aboriginal languages\", \"language\": \"Swahili\", \"mother_tongue\": 13370.0, \"most_at_home\": 5370.0, \"most_at_work\": 80.0, \"lang_known\": 38685.0}, {\"category\": \"Aboriginal languages\", \"language\": \"Swampy Cree\", \"mother_tongue\": 1440.0, \"most_at_home\": 330.0, \"most_at_work\": 10.0, \"lang_known\": 2350.0}, {\"category\": \"Non-Official & Non-Aboriginal languages\", \"language\": \"Swedish\", \"mother_tongue\": 6840.0, \"most_at_home\": 1050.0, \"most_at_work\": 125.0, \"lang_known\": 14140.0}, {\"category\": \"Non-Official & Non-Aboriginal languages\", \"language\": \"Tagalog (Pilipino, Filipino)\", \"mother_tongue\": 431385.0, \"most_at_home\": 213790.0, \"most_at_work\": 3450.0, \"lang_known\": 612735.0}, {\"category\": \"Aboriginal languages\", \"language\": \"Tahltan\", \"mother_tongue\": 95.0, \"most_at_home\": 5.0, \"most_at_work\": 0.0, \"lang_known\": 265.0}, {\"category\": \"Non-Official & Non-Aboriginal languages\", \"language\": \"Tai-Kadai languages, n.i.e\", \"mother_tongue\": 85.0, \"most_at_home\": 30.0, \"most_at_work\": 0.0, \"lang_known\": 115.0}, {\"category\": \"Non-Official & Non-Aboriginal languages\", \"language\": \"Tamil\", \"mother_tongue\": 140720.0, \"most_at_home\": 96955.0, \"most_at_work\": 2085.0, \"lang_known\": 189860.0}, {\"category\": \"Non-Official & Non-Aboriginal languages\", \"language\": \"Telugu\", \"mother_tongue\": 15660.0, \"most_at_home\": 8280.0, \"most_at_work\": 40.0, \"lang_known\": 23165.0}, {\"category\": \"Non-Official & Non-Aboriginal languages\", \"language\": \"Thai\", \"mother_tongue\": 9255.0, \"most_at_home\": 3365.0, \"most_at_work\": 525.0, \"lang_known\": 15395.0}, {\"category\": \"Aboriginal languages\", \"language\": \"Thompson (Ntlakapamux)\", \"mother_tongue\": 335.0, \"most_at_home\": 20.0, \"most_at_work\": 0.0, \"lang_known\": 450.0}, {\"category\": \"Non-Official & Non-Aboriginal languages\", \"language\": \"Tibetan\", \"mother_tongue\": 6160.0, \"most_at_home\": 4590.0, \"most_at_work\": 50.0, \"lang_known\": 7050.0}, {\"category\": \"Non-Official & Non-Aboriginal languages\", \"language\": \"Tibeto-Burman languages, n.i.e.\", \"mother_tongue\": 1405.0, \"most_at_home\": 655.0, \"most_at_work\": 15.0, \"lang_known\": 2380.0}, {\"category\": \"Non-Official & Non-Aboriginal languages\", \"language\": \"Tigrigna\", \"mother_tongue\": 16645.0, \"most_at_home\": 10205.0, \"most_at_work\": 130.0, \"lang_known\": 21340.0}, {\"category\": \"Aboriginal languages\", \"language\": \"Tsimshian\", \"mother_tongue\": 200.0, \"most_at_home\": 30.0, \"most_at_work\": 10.0, \"lang_known\": 410.0}, {\"category\": \"Non-Official & Non-Aboriginal languages\", \"language\": \"Turkic languages, n.i.e.\", \"mother_tongue\": 1315.0, \"most_at_home\": 455.0, \"most_at_work\": 10.0, \"lang_known\": 1875.0}, {\"category\": \"Non-Official & Non-Aboriginal languages\", \"language\": \"Turkish\", \"mother_tongue\": 32815.0, \"most_at_home\": 18955.0, \"most_at_work\": 690.0, \"lang_known\": 50770.0}, {\"category\": \"Non-Official & Non-Aboriginal languages\", \"language\": \"Ukrainian\", \"mother_tongue\": 102485.0, \"most_at_home\": 28250.0, \"most_at_work\": 1210.0, \"lang_known\": 132115.0}, {\"category\": \"Non-Official & Non-Aboriginal languages\", \"language\": \"Uralic languages, n.i.e.\", \"mother_tongue\": 10.0, \"most_at_home\": 5.0, \"most_at_work\": 0.0, \"lang_known\": 25.0}, {\"category\": \"Non-Official & Non-Aboriginal languages\", \"language\": \"Urdu\", \"mother_tongue\": 210815.0, \"most_at_home\": 128785.0, \"most_at_work\": 1495.0, \"lang_known\": 322220.0}, {\"category\": \"Non-Official & Non-Aboriginal languages\", \"language\": \"Uyghur\", \"mother_tongue\": 1035.0, \"most_at_home\": 610.0, \"most_at_work\": 20.0, \"lang_known\": 1390.0}, {\"category\": \"Non-Official & Non-Aboriginal languages\", \"language\": \"Uzbek\", \"mother_tongue\": 1720.0, \"most_at_home\": 995.0, \"most_at_work\": 15.0, \"lang_known\": 2465.0}, {\"category\": \"Non-Official & Non-Aboriginal languages\", \"language\": \"Vietnamese\", \"mother_tongue\": 156430.0, \"most_at_home\": 104245.0, \"most_at_work\": 8075.0, \"lang_known\": 198895.0}, {\"category\": \"Non-Official & Non-Aboriginal languages\", \"language\": \"Vlaams (Flemish)\", \"mother_tongue\": 3895.0, \"most_at_home\": 355.0, \"most_at_work\": 35.0, \"lang_known\": 4400.0}, {\"category\": \"Non-Official & Non-Aboriginal languages\", \"language\": \"Waray-Waray\", \"mother_tongue\": 1110.0, \"most_at_home\": 310.0, \"most_at_work\": 0.0, \"lang_known\": 1395.0}, {\"category\": \"Non-Official & Non-Aboriginal languages\", \"language\": \"Welsh\", \"mother_tongue\": 1075.0, \"most_at_home\": 95.0, \"most_at_work\": 0.0, \"lang_known\": 1695.0}, {\"category\": \"Non-Official & Non-Aboriginal languages\", \"language\": \"Wolof\", \"mother_tongue\": 3990.0, \"most_at_home\": 1385.0, \"most_at_work\": 10.0, \"lang_known\": 8240.0}, {\"category\": \"Aboriginal languages\", \"language\": \"Woods Cree\", \"mother_tongue\": 1840.0, \"most_at_home\": 800.0, \"most_at_work\": 75.0, \"lang_known\": 2665.0}, {\"category\": \"Non-Official & Non-Aboriginal languages\", \"language\": \"Wu (Shanghainese)\", \"mother_tongue\": 12915.0, \"most_at_home\": 7650.0, \"most_at_work\": 105.0, \"lang_known\": 16530.0}, {\"category\": \"Non-Official & Non-Aboriginal languages\", \"language\": \"Yiddish\", \"mother_tongue\": 13555.0, \"most_at_home\": 7085.0, \"most_at_work\": 895.0, \"lang_known\": 20985.0}, {\"category\": \"Non-Official & Non-Aboriginal languages\", \"language\": \"Yoruba\", \"mother_tongue\": 9080.0, \"most_at_home\": 2615.0, \"most_at_work\": 15.0, \"lang_known\": 22415.0}, {\"category\": \"Non-Official & Non-Aboriginal languages\", \"language\": \"Yoruba\", \"mother_tongue\": 9080.0, \"most_at_home\": 2615.0, \"most_at_work\": 15.0, \"lang_known\": 22415.0}]}}, {\"mode\": \"vega-lite\"});\n</script>",
      "application/papermill.record/text/plain": "alt.Chart(...)"
     },
     "metadata": {
      "scrapbook": {
       "mime_prefix": "application/papermill.record/",
       "name": "can_lang_plot"
      }
     },
     "output_type": "display_data"
    }
   ],
   "source": [
    "glue('can_lang_plot', can_lang_plot, display=False)"
   ]
  },
  {
   "cell_type": "markdown",
   "id": "274e338b",
   "metadata": {},
   "source": [
    ":::{glue:figure} can_lang_plot\n",
    ":figwidth: 700px \n",
    ":name: can_lang_plot\n",
    "\n",
    "Scatter plot of number of Canadians reporting a language as their mother tongue vs the primary language at home\n",
    ":::\n",
    "\n",
    "\n",
    "To make an initial improvement in the interpretability \n",
    "of {numref}`can_lang_plot`, we should \n",
    "replace the default axis\n",
    "names with more informative labels. We can add a line break in\n",
    "the axis names so that some of the words are printed on a new line. This will\n",
    "make the axes labels on the plots more readable. To do this, we pass the title as a list. Each element of the list will be on a new line.\n",
    "\\index{escape character} We should also increase the font size to further \n",
    "improve readability."
   ]
  },
  {
   "cell_type": "code",
   "execution_count": 24,
   "id": "9c227fc2",
   "metadata": {
    "execution": {
     "iopub.execute_input": "2022-07-19T22:59:15.419892Z",
     "iopub.status.busy": "2022-07-19T22:59:15.419761Z",
     "iopub.status.idle": "2022-07-19T22:59:15.423016Z",
     "shell.execute_reply": "2022-07-19T22:59:15.422723Z"
    }
   },
   "outputs": [],
   "source": [
    "can_lang_plot_labels = alt.Chart(can_lang).mark_circle(color='black').encode(\n",
    "    x = alt.X(\"most_at_home\",title = [\"Language spoken most at home\", \"(number of Canadian residents)\"]),\n",
    "    y = alt.Y(\"mother_tongue\", scale=alt.Scale(zero=False), title = [\"Mother tongue\", \"(number of Canadian residents)\"])).configure_axis(\n",
    "    titleFontSize=12)\n"
   ]
  },
  {
   "cell_type": "code",
   "execution_count": 25,
   "id": "0d78e199",
   "metadata": {
    "execution": {
     "iopub.execute_input": "2022-07-19T22:59:15.424718Z",
     "iopub.status.busy": "2022-07-19T22:59:15.424600Z",
     "iopub.status.idle": "2022-07-19T22:59:15.433384Z",
     "shell.execute_reply": "2022-07-19T22:59:15.433095Z"
    },
    "tags": [
     "remove-cell"
    ]
   },
   "outputs": [
    {
     "data": {
      "application/papermill.record/text/html": "\n<div id=\"altair-viz-221b81ff13c748d5bbc63c9eacf024b8\"></div>\n<script type=\"text/javascript\">\n  var VEGA_DEBUG = (typeof VEGA_DEBUG == \"undefined\") ? {} : VEGA_DEBUG;\n  (function(spec, embedOpt){\n    let outputDiv = document.currentScript.previousElementSibling;\n    if (outputDiv.id !== \"altair-viz-221b81ff13c748d5bbc63c9eacf024b8\") {\n      outputDiv = document.getElementById(\"altair-viz-221b81ff13c748d5bbc63c9eacf024b8\");\n    }\n    const paths = {\n      \"vega\": \"https://cdn.jsdelivr.net/npm//vega@5?noext\",\n      \"vega-lib\": \"https://cdn.jsdelivr.net/npm//vega-lib?noext\",\n      \"vega-lite\": \"https://cdn.jsdelivr.net/npm//vega-lite@4.17.0?noext\",\n      \"vega-embed\": \"https://cdn.jsdelivr.net/npm//vega-embed@6?noext\",\n    };\n\n    function maybeLoadScript(lib, version) {\n      var key = `${lib.replace(\"-\", \"\")}_version`;\n      return (VEGA_DEBUG[key] == version) ?\n        Promise.resolve(paths[lib]) :\n        new Promise(function(resolve, reject) {\n          var s = document.createElement('script');\n          document.getElementsByTagName(\"head\")[0].appendChild(s);\n          s.async = true;\n          s.onload = () => {\n            VEGA_DEBUG[key] = version;\n            return resolve(paths[lib]);\n          };\n          s.onerror = () => reject(`Error loading script: ${paths[lib]}`);\n          s.src = paths[lib];\n        });\n    }\n\n    function showError(err) {\n      outputDiv.innerHTML = `<div class=\"error\" style=\"color:red;\">${err}</div>`;\n      throw err;\n    }\n\n    function displayChart(vegaEmbed) {\n      vegaEmbed(outputDiv, spec, embedOpt)\n        .catch(err => showError(`Javascript Error: ${err.message}<br>This usually means there's a typo in your chart specification. See the javascript console for the full traceback.`));\n    }\n\n    if(typeof define === \"function\" && define.amd) {\n      requirejs.config({paths});\n      require([\"vega-embed\"], displayChart, err => showError(`Error loading script: ${err.message}`));\n    } else {\n      maybeLoadScript(\"vega\", \"5\")\n        .then(() => maybeLoadScript(\"vega-lite\", \"4.17.0\"))\n        .then(() => maybeLoadScript(\"vega-embed\", \"6\"))\n        .catch(showError)\n        .then(() => displayChart(vegaEmbed));\n    }\n  })({\"config\": {\"view\": {\"continuousWidth\": 400, \"continuousHeight\": 300}, \"axis\": {\"titleFontSize\": 12}}, \"data\": {\"name\": \"data-4ddf50cdde7bfe2d60cc10183bddf059\"}, \"mark\": {\"type\": \"circle\", \"color\": \"black\"}, \"encoding\": {\"x\": {\"field\": \"most_at_home\", \"title\": [\"Language spoken most at home\", \"(number of Canadian residents)\"], \"type\": \"quantitative\"}, \"y\": {\"field\": \"mother_tongue\", \"scale\": {\"zero\": false}, \"title\": [\"Mother tongue\", \"(number of Canadian residents)\"], \"type\": \"quantitative\"}}, \"$schema\": \"https://vega.github.io/schema/vega-lite/v4.17.0.json\", \"datasets\": {\"data-4ddf50cdde7bfe2d60cc10183bddf059\": [{\"category\": \"Aboriginal languages\", \"language\": \"Aboriginal languages, n.o.s.\", \"mother_tongue\": 590.0, \"most_at_home\": 235.0, \"most_at_work\": 30.0, \"lang_known\": 665.0}, {\"category\": \"Non-Official & Non-Aboriginal languages\", \"language\": \"Afrikaans\", \"mother_tongue\": 10260.0, \"most_at_home\": 4785.0, \"most_at_work\": 85.0, \"lang_known\": 23415.0}, {\"category\": \"Non-Official & Non-Aboriginal languages\", \"language\": \"Afro-Asiatic languages, n.i.e.\", \"mother_tongue\": 1150.0, \"most_at_home\": 445.0, \"most_at_work\": 10.0, \"lang_known\": 2775.0}, {\"category\": \"Non-Official & Non-Aboriginal languages\", \"language\": \"Akan (Twi)\", \"mother_tongue\": 13460.0, \"most_at_home\": 5985.0, \"most_at_work\": 25.0, \"lang_known\": 22150.0}, {\"category\": \"Non-Official & Non-Aboriginal languages\", \"language\": \"Albanian\", \"mother_tongue\": 26895.0, \"most_at_home\": 13135.0, \"most_at_work\": 345.0, \"lang_known\": 31930.0}, {\"category\": \"Aboriginal languages\", \"language\": \"Algonquian languages, n.i.e.\", \"mother_tongue\": 45.0, \"most_at_home\": 10.0, \"most_at_work\": 0.0, \"lang_known\": 120.0}, {\"category\": \"Aboriginal languages\", \"language\": \"Algonquin\", \"mother_tongue\": 1260.0, \"most_at_home\": 370.0, \"most_at_work\": 40.0, \"lang_known\": 2480.0}, {\"category\": \"Non-Official & Non-Aboriginal languages\", \"language\": \"American Sign Language\", \"mother_tongue\": 2685.0, \"most_at_home\": 3020.0, \"most_at_work\": 1145.0, \"lang_known\": 21930.0}, {\"category\": \"Non-Official & Non-Aboriginal languages\", \"language\": \"Amharic\", \"mother_tongue\": 22465.0, \"most_at_home\": 12785.0, \"most_at_work\": 200.0, \"lang_known\": 33670.0}, {\"category\": \"Non-Official & Non-Aboriginal languages\", \"language\": \"Arabic\", \"mother_tongue\": 419890.0, \"most_at_home\": 223535.0, \"most_at_work\": 5585.0, \"lang_known\": 629055.0}, {\"category\": \"Non-Official & Non-Aboriginal languages\", \"language\": \"Armenian\", \"mother_tongue\": 33460.0, \"most_at_home\": 21510.0, \"most_at_work\": 450.0, \"lang_known\": 41295.0}, {\"category\": \"Non-Official & Non-Aboriginal languages\", \"language\": \"Assyrian Neo-Aramaic\", \"mother_tongue\": 16070.0, \"most_at_home\": 10510.0, \"most_at_work\": 205.0, \"lang_known\": 19740.0}, {\"category\": \"Aboriginal languages\", \"language\": \"Athabaskan languages, n.i.e.\", \"mother_tongue\": 50.0, \"most_at_home\": 10.0, \"most_at_work\": 0.0, \"lang_known\": 85.0}, {\"category\": \"Aboriginal languages\", \"language\": \"Atikamekw\", \"mother_tongue\": 6150.0, \"most_at_home\": 5465.0, \"most_at_work\": 1100.0, \"lang_known\": 6645.0}, {\"category\": \"Non-Official & Non-Aboriginal languages\", \"language\": \"Austro-Asiatic languages, n.i.e\", \"mother_tongue\": 170.0, \"most_at_home\": 80.0, \"most_at_work\": 0.0, \"lang_known\": 190.0}, {\"category\": \"Non-Official & Non-Aboriginal languages\", \"language\": \"Austronesian languages, n.i.e.\", \"mother_tongue\": 4195.0, \"most_at_home\": 1160.0, \"most_at_work\": 35.0, \"lang_known\": 5585.0}, {\"category\": \"Non-Official & Non-Aboriginal languages\", \"language\": \"Azerbaijani\", \"mother_tongue\": 3255.0, \"most_at_home\": 1245.0, \"most_at_work\": 25.0, \"lang_known\": 5455.0}, {\"category\": \"Aboriginal languages\", \"language\": \"Babine (Wetsuwet'en)\", \"mother_tongue\": 110.0, \"most_at_home\": 20.0, \"most_at_work\": 10.0, \"lang_known\": 210.0}, {\"category\": \"Non-Official & Non-Aboriginal languages\", \"language\": \"Bamanankan\", \"mother_tongue\": 1535.0, \"most_at_home\": 345.0, \"most_at_work\": 0.0, \"lang_known\": 3190.0}, {\"category\": \"Aboriginal languages\", \"language\": \"Beaver\", \"mother_tongue\": 190.0, \"most_at_home\": 50.0, \"most_at_work\": 0.0, \"lang_known\": 340.0}, {\"category\": \"Non-Official & Non-Aboriginal languages\", \"language\": \"Belarusan\", \"mother_tongue\": 810.0, \"most_at_home\": 225.0, \"most_at_work\": 0.0, \"lang_known\": 2265.0}, {\"category\": \"Non-Official & Non-Aboriginal languages\", \"language\": \"Bengali\", \"mother_tongue\": 73125.0, \"most_at_home\": 47350.0, \"most_at_work\": 525.0, \"lang_known\": 91220.0}, {\"category\": \"Non-Official & Non-Aboriginal languages\", \"language\": \"Berber languages, n.i.e.\", \"mother_tongue\": 8985.0, \"most_at_home\": 2615.0, \"most_at_work\": 15.0, \"lang_known\": 12510.0}, {\"category\": \"Non-Official & Non-Aboriginal languages\", \"language\": \"Bikol\", \"mother_tongue\": 1785.0, \"most_at_home\": 290.0, \"most_at_work\": 0.0, \"lang_known\": 2075.0}, {\"category\": \"Non-Official & Non-Aboriginal languages\", \"language\": \"Bilen\", \"mother_tongue\": 805.0, \"most_at_home\": 615.0, \"most_at_work\": 15.0, \"lang_known\": 1085.0}, {\"category\": \"Aboriginal languages\", \"language\": \"Blackfoot\", \"mother_tongue\": 2815.0, \"most_at_home\": 1110.0, \"most_at_work\": 85.0, \"lang_known\": 5645.0}, {\"category\": \"Non-Official & Non-Aboriginal languages\", \"language\": \"Bosnian\", \"mother_tongue\": 12215.0, \"most_at_home\": 6045.0, \"most_at_work\": 155.0, \"lang_known\": 18265.0}, {\"category\": \"Non-Official & Non-Aboriginal languages\", \"language\": \"Bulgarian\", \"mother_tongue\": 20020.0, \"most_at_home\": 11985.0, \"most_at_work\": 200.0, \"lang_known\": 22425.0}, {\"category\": \"Non-Official & Non-Aboriginal languages\", \"language\": \"Burmese\", \"mother_tongue\": 3585.0, \"most_at_home\": 2245.0, \"most_at_work\": 75.0, \"lang_known\": 4995.0}, {\"category\": \"Non-Official & Non-Aboriginal languages\", \"language\": \"Cantonese\", \"mother_tongue\": 565270.0, \"most_at_home\": 400220.0, \"most_at_work\": 58820.0, \"lang_known\": 699125.0}, {\"category\": \"Aboriginal languages\", \"language\": \"Carrier\", \"mother_tongue\": 1025.0, \"most_at_home\": 250.0, \"most_at_work\": 15.0, \"lang_known\": 2100.0}, {\"category\": \"Non-Official & Non-Aboriginal languages\", \"language\": \"Catalan\", \"mother_tongue\": 870.0, \"most_at_home\": 350.0, \"most_at_work\": 30.0, \"lang_known\": 2035.0}, {\"category\": \"Aboriginal languages\", \"language\": \"Cayuga\", \"mother_tongue\": 45.0, \"most_at_home\": 10.0, \"most_at_work\": 10.0, \"lang_known\": 125.0}, {\"category\": \"Non-Official & Non-Aboriginal languages\", \"language\": \"Cebuano\", \"mother_tongue\": 19890.0, \"most_at_home\": 7205.0, \"most_at_work\": 70.0, \"lang_known\": 27040.0}, {\"category\": \"Non-Official & Non-Aboriginal languages\", \"language\": \"Celtic languages, n.i.e.\", \"mother_tongue\": 525.0, \"most_at_home\": 80.0, \"most_at_work\": 10.0, \"lang_known\": 3595.0}, {\"category\": \"Non-Official & Non-Aboriginal languages\", \"language\": \"Chaldean Neo-Aramaic\", \"mother_tongue\": 5545.0, \"most_at_home\": 3445.0, \"most_at_work\": 35.0, \"lang_known\": 7115.0}, {\"category\": \"Aboriginal languages\", \"language\": \"Chilcotin\", \"mother_tongue\": 655.0, \"most_at_home\": 255.0, \"most_at_work\": 15.0, \"lang_known\": 1150.0}, {\"category\": \"Non-Official & Non-Aboriginal languages\", \"language\": \"Chinese languages, n.i.e.\", \"mother_tongue\": 615.0, \"most_at_home\": 280.0, \"most_at_work\": 0.0, \"lang_known\": 590.0}, {\"category\": \"Non-Official & Non-Aboriginal languages\", \"language\": \"Chinese, n.o.s.\", \"mother_tongue\": 38580.0, \"most_at_home\": 23940.0, \"most_at_work\": 2935.0, \"lang_known\": 41685.0}, {\"category\": \"Aboriginal languages\", \"language\": \"Cree, n.o.s.\", \"mother_tongue\": 64050.0, \"most_at_home\": 37950.0, \"most_at_work\": 7800.0, \"lang_known\": 86115.0}, {\"category\": \"Non-Official & Non-Aboriginal languages\", \"language\": \"Creole languages, n.i.e.\", \"mother_tongue\": 4985.0, \"most_at_home\": 2005.0, \"most_at_work\": 15.0, \"lang_known\": 16635.0}, {\"category\": \"Non-Official & Non-Aboriginal languages\", \"language\": \"Creole, n.o.s.\", \"mother_tongue\": 64110.0, \"most_at_home\": 24570.0, \"most_at_work\": 310.0, \"lang_known\": 133045.0}, {\"category\": \"Non-Official & Non-Aboriginal languages\", \"language\": \"Croatian\", \"mother_tongue\": 48200.0, \"most_at_home\": 16775.0, \"most_at_work\": 220.0, \"lang_known\": 69835.0}, {\"category\": \"Non-Official & Non-Aboriginal languages\", \"language\": \"Cushitic languages, n.i.e.\", \"mother_tongue\": 365.0, \"most_at_home\": 180.0, \"most_at_work\": 0.0, \"lang_known\": 480.0}, {\"category\": \"Non-Official & Non-Aboriginal languages\", \"language\": \"Czech\", \"mother_tongue\": 22295.0, \"most_at_home\": 6235.0, \"most_at_work\": 70.0, \"lang_known\": 28725.0}, {\"category\": \"Aboriginal languages\", \"language\": \"Dakota\", \"mother_tongue\": 1210.0, \"most_at_home\": 255.0, \"most_at_work\": 20.0, \"lang_known\": 1760.0}, {\"category\": \"Non-Official & Non-Aboriginal languages\", \"language\": \"Danish\", \"mother_tongue\": 12630.0, \"most_at_home\": 855.0, \"most_at_work\": 85.0, \"lang_known\": 15750.0}, {\"category\": \"Aboriginal languages\", \"language\": \"Dene\", \"mother_tongue\": 10700.0, \"most_at_home\": 7710.0, \"most_at_work\": 770.0, \"lang_known\": 13060.0}, {\"category\": \"Non-Official & Non-Aboriginal languages\", \"language\": \"Dinka\", \"mother_tongue\": 2120.0, \"most_at_home\": 1130.0, \"most_at_work\": 0.0, \"lang_known\": 2475.0}, {\"category\": \"Aboriginal languages\", \"language\": \"Dogrib (Tlicho)\", \"mother_tongue\": 1650.0, \"most_at_home\": 1020.0, \"most_at_work\": 165.0, \"lang_known\": 2375.0}, {\"category\": \"Non-Official & Non-Aboriginal languages\", \"language\": \"Dravidian languages, n.i.e.\", \"mother_tongue\": 490.0, \"most_at_home\": 190.0, \"most_at_work\": 0.0, \"lang_known\": 790.0}, {\"category\": \"Non-Official & Non-Aboriginal languages\", \"language\": \"Dutch\", \"mother_tongue\": 99015.0, \"most_at_home\": 9565.0, \"most_at_work\": 1165.0, \"lang_known\": 120870.0}, {\"category\": \"Non-Official & Non-Aboriginal languages\", \"language\": \"Edo\", \"mother_tongue\": 1670.0, \"most_at_home\": 410.0, \"most_at_work\": 0.0, \"lang_known\": 3220.0}, {\"category\": \"Official languages\", \"language\": \"English\", \"mother_tongue\": 19460850.0, \"most_at_home\": 22162865.0, \"most_at_work\": 15265335.0, \"lang_known\": 29748265.0}, {\"category\": \"Non-Official & Non-Aboriginal languages\", \"language\": \"Estonian\", \"mother_tongue\": 5445.0, \"most_at_home\": 975.0, \"most_at_work\": 55.0, \"lang_known\": 6070.0}, {\"category\": \"Non-Official & Non-Aboriginal languages\", \"language\": \"Ewe\", \"mother_tongue\": 1760.0, \"most_at_home\": 405.0, \"most_at_work\": 10.0, \"lang_known\": 3000.0}, {\"category\": \"Non-Official & Non-Aboriginal languages\", \"language\": \"Fijian\", \"mother_tongue\": 745.0, \"most_at_home\": 195.0, \"most_at_work\": 0.0, \"lang_known\": 1665.0}, {\"category\": \"Non-Official & Non-Aboriginal languages\", \"language\": \"Finnish\", \"mother_tongue\": 15295.0, \"most_at_home\": 2790.0, \"most_at_work\": 105.0, \"lang_known\": 17590.0}, {\"category\": \"Official languages\", \"language\": \"French\", \"mother_tongue\": 7166700.0, \"most_at_home\": 6943800.0, \"most_at_work\": 3825215.0, \"lang_known\": 10242945.0}, {\"category\": \"Non-Official & Non-Aboriginal languages\", \"language\": \"Frisian\", \"mother_tongue\": 2100.0, \"most_at_home\": 185.0, \"most_at_work\": 40.0, \"lang_known\": 2910.0}, {\"category\": \"Non-Official & Non-Aboriginal languages\", \"language\": \"Fulah (Pular, Pulaar, Fulfulde)\", \"mother_tongue\": 2825.0, \"most_at_home\": 825.0, \"most_at_work\": 0.0, \"lang_known\": 4725.0}, {\"category\": \"Non-Official & Non-Aboriginal languages\", \"language\": \"Ga\", \"mother_tongue\": 920.0, \"most_at_home\": 250.0, \"most_at_work\": 0.0, \"lang_known\": 2250.0}, {\"category\": \"Non-Official & Non-Aboriginal languages\", \"language\": \"Ganda\", \"mother_tongue\": 1295.0, \"most_at_home\": 345.0, \"most_at_work\": 25.0, \"lang_known\": 2495.0}, {\"category\": \"Non-Official & Non-Aboriginal languages\", \"language\": \"Georgian\", \"mother_tongue\": 1710.0, \"most_at_home\": 1040.0, \"most_at_work\": 25.0, \"lang_known\": 2150.0}, {\"category\": \"Non-Official & Non-Aboriginal languages\", \"language\": \"German\", \"mother_tongue\": 384040.0, \"most_at_home\": 120335.0, \"most_at_work\": 10065.0, \"lang_known\": 502735.0}, {\"category\": \"Non-Official & Non-Aboriginal languages\", \"language\": \"Germanic languages, n.i.e.\", \"mother_tongue\": 525.0, \"most_at_home\": 1630.0, \"most_at_work\": 725.0, \"lang_known\": 8705.0}, {\"category\": \"Aboriginal languages\", \"language\": \"Gitxsan (Gitksan)\", \"mother_tongue\": 880.0, \"most_at_home\": 315.0, \"most_at_work\": 10.0, \"lang_known\": 1305.0}, {\"category\": \"Non-Official & Non-Aboriginal languages\", \"language\": \"Greek\", \"mother_tongue\": 106525.0, \"most_at_home\": 44550.0, \"most_at_work\": 1020.0, \"lang_known\": 150965.0}, {\"category\": \"Non-Official & Non-Aboriginal languages\", \"language\": \"Gujarati\", \"mother_tongue\": 108780.0, \"most_at_home\": 64150.0, \"most_at_work\": 885.0, \"lang_known\": 149045.0}, {\"category\": \"Aboriginal languages\", \"language\": \"Gwich'in\", \"mother_tongue\": 255.0, \"most_at_home\": 50.0, \"most_at_work\": 10.0, \"lang_known\": 360.0}, {\"category\": \"Aboriginal languages\", \"language\": \"Haida\", \"mother_tongue\": 80.0, \"most_at_home\": 10.0, \"most_at_work\": 0.0, \"lang_known\": 465.0}, {\"category\": \"Aboriginal languages\", \"language\": \"Haisla\", \"mother_tongue\": 90.0, \"most_at_home\": 20.0, \"most_at_work\": 0.0, \"lang_known\": 175.0}, {\"category\": \"Non-Official & Non-Aboriginal languages\", \"language\": \"Haitian Creole\", \"mother_tongue\": 3030.0, \"most_at_home\": 1280.0, \"most_at_work\": 25.0, \"lang_known\": 6855.0}, {\"category\": \"Non-Official & Non-Aboriginal languages\", \"language\": \"Hakka\", \"mother_tongue\": 10910.0, \"most_at_home\": 4085.0, \"most_at_work\": 70.0, \"lang_known\": 12445.0}, {\"category\": \"Aboriginal languages\", \"language\": \"Halkomelem\", \"mother_tongue\": 480.0, \"most_at_home\": 50.0, \"most_at_work\": 20.0, \"lang_known\": 1060.0}, {\"category\": \"Non-Official & Non-Aboriginal languages\", \"language\": \"Harari\", \"mother_tongue\": 1320.0, \"most_at_home\": 735.0, \"most_at_work\": 0.0, \"lang_known\": 1715.0}, {\"category\": \"Non-Official & Non-Aboriginal languages\", \"language\": \"Hebrew\", \"mother_tongue\": 19530.0, \"most_at_home\": 8560.0, \"most_at_work\": 825.0, \"lang_known\": 75020.0}, {\"category\": \"Aboriginal languages\", \"language\": \"Heiltsuk\", \"mother_tongue\": 100.0, \"most_at_home\": 5.0, \"most_at_work\": 10.0, \"lang_known\": 125.0}, {\"category\": \"Non-Official & Non-Aboriginal languages\", \"language\": \"Hiligaynon\", \"mother_tongue\": 6880.0, \"most_at_home\": 2210.0, \"most_at_work\": 25.0, \"lang_known\": 7925.0}, {\"category\": \"Non-Official & Non-Aboriginal languages\", \"language\": \"Hindi\", \"mother_tongue\": 110645.0, \"most_at_home\": 55510.0, \"most_at_work\": 1405.0, \"lang_known\": 433365.0}, {\"category\": \"Non-Official & Non-Aboriginal languages\", \"language\": \"Hmong-Mien languages\", \"mother_tongue\": 795.0, \"most_at_home\": 335.0, \"most_at_work\": 10.0, \"lang_known\": 870.0}, {\"category\": \"Non-Official & Non-Aboriginal languages\", \"language\": \"Hungarian\", \"mother_tongue\": 61235.0, \"most_at_home\": 19480.0, \"most_at_work\": 440.0, \"lang_known\": 71285.0}, {\"category\": \"Non-Official & Non-Aboriginal languages\", \"language\": \"Icelandic\", \"mother_tongue\": 1285.0, \"most_at_home\": 270.0, \"most_at_work\": 0.0, \"lang_known\": 1780.0}, {\"category\": \"Non-Official & Non-Aboriginal languages\", \"language\": \"Igbo\", \"mother_tongue\": 4235.0, \"most_at_home\": 1000.0, \"most_at_work\": 10.0, \"lang_known\": 8855.0}, {\"category\": \"Non-Official & Non-Aboriginal languages\", \"language\": \"Ilocano\", \"mother_tongue\": 26345.0, \"most_at_home\": 9125.0, \"most_at_work\": 110.0, \"lang_known\": 34530.0}, {\"category\": \"Non-Official & Non-Aboriginal languages\", \"language\": \"Indo-Iranian languages, n.i.e.\", \"mother_tongue\": 5185.0, \"most_at_home\": 2380.0, \"most_at_work\": 20.0, \"lang_known\": 8870.0}, {\"category\": \"Aboriginal languages\", \"language\": \"Inuinnaqtun (Inuvialuktun)\", \"mother_tongue\": 1020.0, \"most_at_home\": 165.0, \"most_at_work\": 30.0, \"lang_known\": 1975.0}, {\"category\": \"Aboriginal languages\", \"language\": \"Inuit languages, n.i.e.\", \"mother_tongue\": 310.0, \"most_at_home\": 90.0, \"most_at_work\": 15.0, \"lang_known\": 470.0}, {\"category\": \"Aboriginal languages\", \"language\": \"Inuktitut\", \"mother_tongue\": 35210.0, \"most_at_home\": 29230.0, \"most_at_work\": 8795.0, \"lang_known\": 40620.0}, {\"category\": \"Aboriginal languages\", \"language\": \"Iroquoian languages, n.i.e.\", \"mother_tongue\": 35.0, \"most_at_home\": 5.0, \"most_at_work\": 0.0, \"lang_known\": 115.0}, {\"category\": \"Non-Official & Non-Aboriginal languages\", \"language\": \"Italian\", \"mother_tongue\": 375635.0, \"most_at_home\": 115415.0, \"most_at_work\": 1705.0, \"lang_known\": 574725.0}, {\"category\": \"Non-Official & Non-Aboriginal languages\", \"language\": \"Italic (Romance) languages, n.i.e.\", \"mother_tongue\": 720.0, \"most_at_home\": 175.0, \"most_at_work\": 25.0, \"lang_known\": 2680.0}, {\"category\": \"Non-Official & Non-Aboriginal languages\", \"language\": \"Japanese\", \"mother_tongue\": 43640.0, \"most_at_home\": 19785.0, \"most_at_work\": 3255.0, \"lang_known\": 83095.0}, {\"category\": \"Non-Official & Non-Aboriginal languages\", \"language\": \"Kabyle\", \"mother_tongue\": 13150.0, \"most_at_home\": 5490.0, \"most_at_work\": 15.0, \"lang_known\": 17120.0}, {\"category\": \"Non-Official & Non-Aboriginal languages\", \"language\": \"Kannada\", \"mother_tongue\": 3970.0, \"most_at_home\": 1630.0, \"most_at_work\": 10.0, \"lang_known\": 8245.0}, {\"category\": \"Non-Official & Non-Aboriginal languages\", \"language\": \"Karenic languages\", \"mother_tongue\": 4705.0, \"most_at_home\": 3860.0, \"most_at_work\": 135.0, \"lang_known\": 4895.0}, {\"category\": \"Non-Official & Non-Aboriginal languages\", \"language\": \"Kashmiri\", \"mother_tongue\": 565.0, \"most_at_home\": 135.0, \"most_at_work\": 0.0, \"lang_known\": 905.0}, {\"category\": \"Aboriginal languages\", \"language\": \"Kaska (Nahani)\", \"mother_tongue\": 180.0, \"most_at_home\": 20.0, \"most_at_work\": 10.0, \"lang_known\": 365.0}, {\"category\": \"Non-Official & Non-Aboriginal languages\", \"language\": \"Khmer (Cambodian)\", \"mother_tongue\": 20130.0, \"most_at_home\": 10885.0, \"most_at_work\": 475.0, \"lang_known\": 27035.0}, {\"category\": \"Non-Official & Non-Aboriginal languages\", \"language\": \"Kinyarwanda (Rwanda)\", \"mother_tongue\": 5250.0, \"most_at_home\": 1530.0, \"most_at_work\": 25.0, \"lang_known\": 7860.0}, {\"category\": \"Non-Official & Non-Aboriginal languages\", \"language\": \"Konkani\", \"mother_tongue\": 3330.0, \"most_at_home\": 720.0, \"most_at_work\": 10.0, \"lang_known\": 6790.0}, {\"category\": \"Non-Official & Non-Aboriginal languages\", \"language\": \"Korean\", \"mother_tongue\": 153425.0, \"most_at_home\": 109705.0, \"most_at_work\": 12150.0, \"lang_known\": 172750.0}, {\"category\": \"Non-Official & Non-Aboriginal languages\", \"language\": \"Kurdish\", \"mother_tongue\": 11705.0, \"most_at_home\": 6580.0, \"most_at_work\": 185.0, \"lang_known\": 15290.0}, {\"category\": \"Aboriginal languages\", \"language\": \"Kutenai\", \"mother_tongue\": 110.0, \"most_at_home\": 10.0, \"most_at_work\": 0.0, \"lang_known\": 170.0}, {\"category\": \"Aboriginal languages\", \"language\": \"Kwakiutl (Kwak'wala)\", \"mother_tongue\": 325.0, \"most_at_home\": 25.0, \"most_at_work\": 15.0, \"lang_known\": 605.0}, {\"category\": \"Non-Official & Non-Aboriginal languages\", \"language\": \"Lao\", \"mother_tongue\": 12670.0, \"most_at_home\": 6175.0, \"most_at_work\": 150.0, \"lang_known\": 17235.0}, {\"category\": \"Non-Official & Non-Aboriginal languages\", \"language\": \"Latvian\", \"mother_tongue\": 5450.0, \"most_at_home\": 1255.0, \"most_at_work\": 35.0, \"lang_known\": 6500.0}, {\"category\": \"Aboriginal languages\", \"language\": \"Lillooet\", \"mother_tongue\": 315.0, \"most_at_home\": 25.0, \"most_at_work\": 15.0, \"lang_known\": 790.0}, {\"category\": \"Non-Official & Non-Aboriginal languages\", \"language\": \"Lingala\", \"mother_tongue\": 3805.0, \"most_at_home\": 1045.0, \"most_at_work\": 10.0, \"lang_known\": 17010.0}, {\"category\": \"Non-Official & Non-Aboriginal languages\", \"language\": \"Lithuanian\", \"mother_tongue\": 7075.0, \"most_at_home\": 2015.0, \"most_at_work\": 60.0, \"lang_known\": 8185.0}, {\"category\": \"Non-Official & Non-Aboriginal languages\", \"language\": \"Macedonian\", \"mother_tongue\": 16770.0, \"most_at_home\": 6830.0, \"most_at_work\": 95.0, \"lang_known\": 23075.0}, {\"category\": \"Non-Official & Non-Aboriginal languages\", \"language\": \"Malagasy\", \"mother_tongue\": 1430.0, \"most_at_home\": 430.0, \"most_at_work\": 0.0, \"lang_known\": 2340.0}, {\"category\": \"Non-Official & Non-Aboriginal languages\", \"language\": \"Malay\", \"mother_tongue\": 12275.0, \"most_at_home\": 3625.0, \"most_at_work\": 140.0, \"lang_known\": 22470.0}, {\"category\": \"Non-Official & Non-Aboriginal languages\", \"language\": \"Malayalam\", \"mother_tongue\": 28565.0, \"most_at_home\": 15440.0, \"most_at_work\": 95.0, \"lang_known\": 37810.0}, {\"category\": \"Aboriginal languages\", \"language\": \"Malecite\", \"mother_tongue\": 300.0, \"most_at_home\": 55.0, \"most_at_work\": 10.0, \"lang_known\": 760.0}, {\"category\": \"Non-Official & Non-Aboriginal languages\", \"language\": \"Maltese\", \"mother_tongue\": 5565.0, \"most_at_home\": 1125.0, \"most_at_work\": 25.0, \"lang_known\": 7625.0}, {\"category\": \"Non-Official & Non-Aboriginal languages\", \"language\": \"Mandarin\", \"mother_tongue\": 592040.0, \"most_at_home\": 462890.0, \"most_at_work\": 60090.0, \"lang_known\": 814450.0}, {\"category\": \"Non-Official & Non-Aboriginal languages\", \"language\": \"Marathi\", \"mother_tongue\": 8295.0, \"most_at_home\": 3780.0, \"most_at_work\": 30.0, \"lang_known\": 15565.0}, {\"category\": \"Aboriginal languages\", \"language\": \"Mi'kmaq\", \"mother_tongue\": 6690.0, \"most_at_home\": 3565.0, \"most_at_work\": 915.0, \"lang_known\": 9025.0}, {\"category\": \"Aboriginal languages\", \"language\": \"Michif\", \"mother_tongue\": 465.0, \"most_at_home\": 80.0, \"most_at_work\": 10.0, \"lang_known\": 1210.0}, {\"category\": \"Non-Official & Non-Aboriginal languages\", \"language\": \"Min Dong\", \"mother_tongue\": 1230.0, \"most_at_home\": 345.0, \"most_at_work\": 30.0, \"lang_known\": 1045.0}, {\"category\": \"Non-Official & Non-Aboriginal languages\", \"language\": \"Min Nan (Chaochow, Teochow, Fukien, Taiwanese)\", \"mother_tongue\": 31800.0, \"most_at_home\": 13965.0, \"most_at_work\": 565.0, \"lang_known\": 42840.0}, {\"category\": \"Aboriginal languages\", \"language\": \"Mohawk\", \"mother_tongue\": 985.0, \"most_at_home\": 255.0, \"most_at_work\": 30.0, \"lang_known\": 2415.0}, {\"category\": \"Non-Official & Non-Aboriginal languages\", \"language\": \"Mongolian\", \"mother_tongue\": 1575.0, \"most_at_home\": 905.0, \"most_at_work\": 10.0, \"lang_known\": 2095.0}, {\"category\": \"Aboriginal languages\", \"language\": \"Montagnais (Innu)\", \"mother_tongue\": 10235.0, \"most_at_home\": 8585.0, \"most_at_work\": 2055.0, \"lang_known\": 11445.0}, {\"category\": \"Aboriginal languages\", \"language\": \"Moose Cree\", \"mother_tongue\": 105.0, \"most_at_home\": 10.0, \"most_at_work\": 0.0, \"lang_known\": 195.0}, {\"category\": \"Aboriginal languages\", \"language\": \"Naskapi\", \"mother_tongue\": 1205.0, \"most_at_home\": 1195.0, \"most_at_work\": 370.0, \"lang_known\": 1465.0}, {\"category\": \"Non-Official & Non-Aboriginal languages\", \"language\": \"Nepali\", \"mother_tongue\": 18275.0, \"most_at_home\": 13375.0, \"most_at_work\": 195.0, \"lang_known\": 21385.0}, {\"category\": \"Non-Official & Non-Aboriginal languages\", \"language\": \"Niger-Congo languages, n.i.e.\", \"mother_tongue\": 19135.0, \"most_at_home\": 4010.0, \"most_at_work\": 30.0, \"lang_known\": 40760.0}, {\"category\": \"Non-Official & Non-Aboriginal languages\", \"language\": \"Nilo-Saharan languages, n.i.e.\", \"mother_tongue\": 3750.0, \"most_at_home\": 1520.0, \"most_at_work\": 0.0, \"lang_known\": 4550.0}, {\"category\": \"Aboriginal languages\", \"language\": \"Nisga'a\", \"mother_tongue\": 400.0, \"most_at_home\": 75.0, \"most_at_work\": 10.0, \"lang_known\": 1055.0}, {\"category\": \"Aboriginal languages\", \"language\": \"North Slavey (Hare)\", \"mother_tongue\": 765.0, \"most_at_home\": 340.0, \"most_at_work\": 95.0, \"lang_known\": 1005.0}, {\"category\": \"Aboriginal languages\", \"language\": \"Northern East Cree\", \"mother_tongue\": 315.0, \"most_at_home\": 110.0, \"most_at_work\": 35.0, \"lang_known\": 550.0}, {\"category\": \"Aboriginal languages\", \"language\": \"Northern Tutchone\", \"mother_tongue\": 220.0, \"most_at_home\": 30.0, \"most_at_work\": 0.0, \"lang_known\": 280.0}, {\"category\": \"Non-Official & Non-Aboriginal languages\", \"language\": \"Norwegian\", \"mother_tongue\": 4615.0, \"most_at_home\": 350.0, \"most_at_work\": 70.0, \"lang_known\": 8120.0}, {\"category\": \"Aboriginal languages\", \"language\": \"Nuu-chah-nulth (Nootka)\", \"mother_tongue\": 280.0, \"most_at_home\": 30.0, \"most_at_work\": 10.0, \"lang_known\": 560.0}, {\"category\": \"Aboriginal languages\", \"language\": \"Oji-Cree\", \"mother_tongue\": 12855.0, \"most_at_home\": 7905.0, \"most_at_work\": 1080.0, \"lang_known\": 15605.0}, {\"category\": \"Aboriginal languages\", \"language\": \"Ojibway\", \"mother_tongue\": 17885.0, \"most_at_home\": 6175.0, \"most_at_work\": 765.0, \"lang_known\": 28580.0}, {\"category\": \"Aboriginal languages\", \"language\": \"Okanagan\", \"mother_tongue\": 275.0, \"most_at_home\": 80.0, \"most_at_work\": 20.0, \"lang_known\": 820.0}, {\"category\": \"Aboriginal languages\", \"language\": \"Oneida\", \"mother_tongue\": 60.0, \"most_at_home\": 15.0, \"most_at_work\": 0.0, \"lang_known\": 185.0}, {\"category\": \"Non-Official & Non-Aboriginal languages\", \"language\": \"Oriya (Odia)\", \"mother_tongue\": 1055.0, \"most_at_home\": 475.0, \"most_at_work\": 0.0, \"lang_known\": 1530.0}, {\"category\": \"Non-Official & Non-Aboriginal languages\", \"language\": \"Oromo\", \"mother_tongue\": 4960.0, \"most_at_home\": 3410.0, \"most_at_work\": 45.0, \"lang_known\": 6245.0}, {\"category\": \"Non-Official & Non-Aboriginal languages\", \"language\": \"Other languages, n.i.e.\", \"mother_tongue\": 3685.0, \"most_at_home\": 1110.0, \"most_at_work\": 80.0, \"lang_known\": 9730.0}, {\"category\": \"Aboriginal languages\", \"language\": \"Ottawa (Odawa)\", \"mother_tongue\": 150.0, \"most_at_home\": 75.0, \"most_at_work\": 0.0, \"lang_known\": 205.0}, {\"category\": \"Non-Official & Non-Aboriginal languages\", \"language\": \"Pampangan (Kapampangan, Pampango)\", \"mother_tongue\": 4045.0, \"most_at_home\": 1200.0, \"most_at_work\": 10.0, \"lang_known\": 5425.0}, {\"category\": \"Non-Official & Non-Aboriginal languages\", \"language\": \"Pangasinan\", \"mother_tongue\": 1390.0, \"most_at_home\": 240.0, \"most_at_work\": 0.0, \"lang_known\": 1800.0}, {\"category\": \"Non-Official & Non-Aboriginal languages\", \"language\": \"Pashto\", \"mother_tongue\": 16905.0, \"most_at_home\": 10590.0, \"most_at_work\": 50.0, \"lang_known\": 23180.0}, {\"category\": \"Non-Official & Non-Aboriginal languages\", \"language\": \"Persian (Farsi)\", \"mother_tongue\": 214200.0, \"most_at_home\": 143025.0, \"most_at_work\": 4580.0, \"lang_known\": 252325.0}, {\"category\": \"Aboriginal languages\", \"language\": \"Plains Cree\", \"mother_tongue\": 3065.0, \"most_at_home\": 1345.0, \"most_at_work\": 95.0, \"lang_known\": 5905.0}, {\"category\": \"Non-Official & Non-Aboriginal languages\", \"language\": \"Polish\", \"mother_tongue\": 181710.0, \"most_at_home\": 74780.0, \"most_at_work\": 2495.0, \"lang_known\": 214965.0}, {\"category\": \"Non-Official & Non-Aboriginal languages\", \"language\": \"Portuguese\", \"mother_tongue\": 221535.0, \"most_at_home\": 98710.0, \"most_at_work\": 7485.0, \"lang_known\": 295955.0}, {\"category\": \"Non-Official & Non-Aboriginal languages\", \"language\": \"Punjabi (Panjabi)\", \"mother_tongue\": 501680.0, \"most_at_home\": 349140.0, \"most_at_work\": 27865.0, \"lang_known\": 668240.0}, {\"category\": \"Non-Official & Non-Aboriginal languages\", \"language\": \"Quebec Sign Language\", \"mother_tongue\": 695.0, \"most_at_home\": 730.0, \"most_at_work\": 130.0, \"lang_known\": 4665.0}, {\"category\": \"Non-Official & Non-Aboriginal languages\", \"language\": \"Romanian\", \"mother_tongue\": 96660.0, \"most_at_home\": 53325.0, \"most_at_work\": 745.0, \"lang_known\": 115050.0}, {\"category\": \"Non-Official & Non-Aboriginal languages\", \"language\": \"Rundi (Kirundi)\", \"mother_tongue\": 5850.0, \"most_at_home\": 2110.0, \"most_at_work\": 0.0, \"lang_known\": 8590.0}, {\"category\": \"Non-Official & Non-Aboriginal languages\", \"language\": \"Russian\", \"mother_tongue\": 188255.0, \"most_at_home\": 116595.0, \"most_at_work\": 4855.0, \"lang_known\": 269645.0}, {\"category\": \"Aboriginal languages\", \"language\": \"Salish languages, n.i.e.\", \"mother_tongue\": 260.0, \"most_at_home\": 25.0, \"most_at_work\": 0.0, \"lang_known\": 560.0}, {\"category\": \"Aboriginal languages\", \"language\": \"Sarsi (Sarcee)\", \"mother_tongue\": 80.0, \"most_at_home\": 10.0, \"most_at_work\": 0.0, \"lang_known\": 145.0}, {\"category\": \"Non-Official & Non-Aboriginal languages\", \"language\": \"Scottish Gaelic\", \"mother_tongue\": 1090.0, \"most_at_home\": 190.0, \"most_at_work\": 15.0, \"lang_known\": 3980.0}, {\"category\": \"Aboriginal languages\", \"language\": \"Sekani\", \"mother_tongue\": 85.0, \"most_at_home\": 15.0, \"most_at_work\": 0.0, \"lang_known\": 185.0}, {\"category\": \"Non-Official & Non-Aboriginal languages\", \"language\": \"Semitic languages, n.i.e.\", \"mother_tongue\": 2150.0, \"most_at_home\": 1205.0, \"most_at_work\": 65.0, \"lang_known\": 3220.0}, {\"category\": \"Non-Official & Non-Aboriginal languages\", \"language\": \"Serbian\", \"mother_tongue\": 57350.0, \"most_at_home\": 31750.0, \"most_at_work\": 530.0, \"lang_known\": 73780.0}, {\"category\": \"Non-Official & Non-Aboriginal languages\", \"language\": \"Serbo-Croatian\", \"mother_tongue\": 9550.0, \"most_at_home\": 3890.0, \"most_at_work\": 30.0, \"lang_known\": 11275.0}, {\"category\": \"Non-Official & Non-Aboriginal languages\", \"language\": \"Shona\", \"mother_tongue\": 3185.0, \"most_at_home\": 1035.0, \"most_at_work\": 0.0, \"lang_known\": 5430.0}, {\"category\": \"Aboriginal languages\", \"language\": \"Shuswap (Secwepemctsin)\", \"mother_tongue\": 445.0, \"most_at_home\": 50.0, \"most_at_work\": 35.0, \"lang_known\": 1305.0}, {\"category\": \"Non-Official & Non-Aboriginal languages\", \"language\": \"Sign languages, n.i.e\", \"mother_tongue\": 4125.0, \"most_at_home\": 6690.0, \"most_at_work\": 645.0, \"lang_known\": 22280.0}, {\"category\": \"Non-Official & Non-Aboriginal languages\", \"language\": \"Sindhi\", \"mother_tongue\": 11860.0, \"most_at_home\": 4975.0, \"most_at_work\": 35.0, \"lang_known\": 20260.0}, {\"category\": \"Non-Official & Non-Aboriginal languages\", \"language\": \"Sinhala (Sinhalese)\", \"mother_tongue\": 16335.0, \"most_at_home\": 7790.0, \"most_at_work\": 40.0, \"lang_known\": 27825.0}, {\"category\": \"Aboriginal languages\", \"language\": \"Siouan languages, n.i.e.\", \"mother_tongue\": 55.0, \"most_at_home\": 20.0, \"most_at_work\": 0.0, \"lang_known\": 140.0}, {\"category\": \"Aboriginal languages\", \"language\": \"Slavey, n.o.s.\", \"mother_tongue\": 280.0, \"most_at_home\": 105.0, \"most_at_work\": 10.0, \"lang_known\": 675.0}, {\"category\": \"Non-Official & Non-Aboriginal languages\", \"language\": \"Slavic languages, n.i.e.\", \"mother_tongue\": 2420.0, \"most_at_home\": 670.0, \"most_at_work\": 10.0, \"lang_known\": 2995.0}, {\"category\": \"Non-Official & Non-Aboriginal languages\", \"language\": \"Slovak\", \"mother_tongue\": 17580.0, \"most_at_home\": 5610.0, \"most_at_work\": 100.0, \"lang_known\": 21470.0}, {\"category\": \"Non-Official & Non-Aboriginal languages\", \"language\": \"Slovene (Slovenian)\", \"mother_tongue\": 9785.0, \"most_at_home\": 2055.0, \"most_at_work\": 15.0, \"lang_known\": 11490.0}, {\"category\": \"Non-Official & Non-Aboriginal languages\", \"language\": \"Somali\", \"mother_tongue\": 36755.0, \"most_at_home\": 22895.0, \"most_at_work\": 220.0, \"lang_known\": 49660.0}, {\"category\": \"Aboriginal languages\", \"language\": \"South Slavey\", \"mother_tongue\": 945.0, \"most_at_home\": 370.0, \"most_at_work\": 35.0, \"lang_known\": 1365.0}, {\"category\": \"Aboriginal languages\", \"language\": \"Southern East Cree\", \"mother_tongue\": 45.0, \"most_at_home\": 15.0, \"most_at_work\": 0.0, \"lang_known\": 40.0}, {\"category\": \"Aboriginal languages\", \"language\": \"Southern Tutchone\", \"mother_tongue\": 70.0, \"most_at_home\": 5.0, \"most_at_work\": 0.0, \"lang_known\": 145.0}, {\"category\": \"Non-Official & Non-Aboriginal languages\", \"language\": \"Spanish\", \"mother_tongue\": 458850.0, \"most_at_home\": 263505.0, \"most_at_work\": 13030.0, \"lang_known\": 995260.0}, {\"category\": \"Aboriginal languages\", \"language\": \"Squamish\", \"mother_tongue\": 40.0, \"most_at_home\": 5.0, \"most_at_work\": 10.0, \"lang_known\": 285.0}, {\"category\": \"Aboriginal languages\", \"language\": \"Stoney\", \"mother_tongue\": 3025.0, \"most_at_home\": 1950.0, \"most_at_work\": 240.0, \"lang_known\": 3675.0}, {\"category\": \"Aboriginal languages\", \"language\": \"Straits\", \"mother_tongue\": 80.0, \"most_at_home\": 25.0, \"most_at_work\": 15.0, \"lang_known\": 365.0}, {\"category\": \"Non-Official & Non-Aboriginal languages\", \"language\": \"Swahili\", \"mother_tongue\": 13370.0, \"most_at_home\": 5370.0, \"most_at_work\": 80.0, \"lang_known\": 38685.0}, {\"category\": \"Aboriginal languages\", \"language\": \"Swampy Cree\", \"mother_tongue\": 1440.0, \"most_at_home\": 330.0, \"most_at_work\": 10.0, \"lang_known\": 2350.0}, {\"category\": \"Non-Official & Non-Aboriginal languages\", \"language\": \"Swedish\", \"mother_tongue\": 6840.0, \"most_at_home\": 1050.0, \"most_at_work\": 125.0, \"lang_known\": 14140.0}, {\"category\": \"Non-Official & Non-Aboriginal languages\", \"language\": \"Tagalog (Pilipino, Filipino)\", \"mother_tongue\": 431385.0, \"most_at_home\": 213790.0, \"most_at_work\": 3450.0, \"lang_known\": 612735.0}, {\"category\": \"Aboriginal languages\", \"language\": \"Tahltan\", \"mother_tongue\": 95.0, \"most_at_home\": 5.0, \"most_at_work\": 0.0, \"lang_known\": 265.0}, {\"category\": \"Non-Official & Non-Aboriginal languages\", \"language\": \"Tai-Kadai languages, n.i.e\", \"mother_tongue\": 85.0, \"most_at_home\": 30.0, \"most_at_work\": 0.0, \"lang_known\": 115.0}, {\"category\": \"Non-Official & Non-Aboriginal languages\", \"language\": \"Tamil\", \"mother_tongue\": 140720.0, \"most_at_home\": 96955.0, \"most_at_work\": 2085.0, \"lang_known\": 189860.0}, {\"category\": \"Non-Official & Non-Aboriginal languages\", \"language\": \"Telugu\", \"mother_tongue\": 15660.0, \"most_at_home\": 8280.0, \"most_at_work\": 40.0, \"lang_known\": 23165.0}, {\"category\": \"Non-Official & Non-Aboriginal languages\", \"language\": \"Thai\", \"mother_tongue\": 9255.0, \"most_at_home\": 3365.0, \"most_at_work\": 525.0, \"lang_known\": 15395.0}, {\"category\": \"Aboriginal languages\", \"language\": \"Thompson (Ntlakapamux)\", \"mother_tongue\": 335.0, \"most_at_home\": 20.0, \"most_at_work\": 0.0, \"lang_known\": 450.0}, {\"category\": \"Non-Official & Non-Aboriginal languages\", \"language\": \"Tibetan\", \"mother_tongue\": 6160.0, \"most_at_home\": 4590.0, \"most_at_work\": 50.0, \"lang_known\": 7050.0}, {\"category\": \"Non-Official & Non-Aboriginal languages\", \"language\": \"Tibeto-Burman languages, n.i.e.\", \"mother_tongue\": 1405.0, \"most_at_home\": 655.0, \"most_at_work\": 15.0, \"lang_known\": 2380.0}, {\"category\": \"Non-Official & Non-Aboriginal languages\", \"language\": \"Tigrigna\", \"mother_tongue\": 16645.0, \"most_at_home\": 10205.0, \"most_at_work\": 130.0, \"lang_known\": 21340.0}, {\"category\": \"Aboriginal languages\", \"language\": \"Tsimshian\", \"mother_tongue\": 200.0, \"most_at_home\": 30.0, \"most_at_work\": 10.0, \"lang_known\": 410.0}, {\"category\": \"Non-Official & Non-Aboriginal languages\", \"language\": \"Turkic languages, n.i.e.\", \"mother_tongue\": 1315.0, \"most_at_home\": 455.0, \"most_at_work\": 10.0, \"lang_known\": 1875.0}, {\"category\": \"Non-Official & Non-Aboriginal languages\", \"language\": \"Turkish\", \"mother_tongue\": 32815.0, \"most_at_home\": 18955.0, \"most_at_work\": 690.0, \"lang_known\": 50770.0}, {\"category\": \"Non-Official & Non-Aboriginal languages\", \"language\": \"Ukrainian\", \"mother_tongue\": 102485.0, \"most_at_home\": 28250.0, \"most_at_work\": 1210.0, \"lang_known\": 132115.0}, {\"category\": \"Non-Official & Non-Aboriginal languages\", \"language\": \"Uralic languages, n.i.e.\", \"mother_tongue\": 10.0, \"most_at_home\": 5.0, \"most_at_work\": 0.0, \"lang_known\": 25.0}, {\"category\": \"Non-Official & Non-Aboriginal languages\", \"language\": \"Urdu\", \"mother_tongue\": 210815.0, \"most_at_home\": 128785.0, \"most_at_work\": 1495.0, \"lang_known\": 322220.0}, {\"category\": \"Non-Official & Non-Aboriginal languages\", \"language\": \"Uyghur\", \"mother_tongue\": 1035.0, \"most_at_home\": 610.0, \"most_at_work\": 20.0, \"lang_known\": 1390.0}, {\"category\": \"Non-Official & Non-Aboriginal languages\", \"language\": \"Uzbek\", \"mother_tongue\": 1720.0, \"most_at_home\": 995.0, \"most_at_work\": 15.0, \"lang_known\": 2465.0}, {\"category\": \"Non-Official & Non-Aboriginal languages\", \"language\": \"Vietnamese\", \"mother_tongue\": 156430.0, \"most_at_home\": 104245.0, \"most_at_work\": 8075.0, \"lang_known\": 198895.0}, {\"category\": \"Non-Official & Non-Aboriginal languages\", \"language\": \"Vlaams (Flemish)\", \"mother_tongue\": 3895.0, \"most_at_home\": 355.0, \"most_at_work\": 35.0, \"lang_known\": 4400.0}, {\"category\": \"Non-Official & Non-Aboriginal languages\", \"language\": \"Waray-Waray\", \"mother_tongue\": 1110.0, \"most_at_home\": 310.0, \"most_at_work\": 0.0, \"lang_known\": 1395.0}, {\"category\": \"Non-Official & Non-Aboriginal languages\", \"language\": \"Welsh\", \"mother_tongue\": 1075.0, \"most_at_home\": 95.0, \"most_at_work\": 0.0, \"lang_known\": 1695.0}, {\"category\": \"Non-Official & Non-Aboriginal languages\", \"language\": \"Wolof\", \"mother_tongue\": 3990.0, \"most_at_home\": 1385.0, \"most_at_work\": 10.0, \"lang_known\": 8240.0}, {\"category\": \"Aboriginal languages\", \"language\": \"Woods Cree\", \"mother_tongue\": 1840.0, \"most_at_home\": 800.0, \"most_at_work\": 75.0, \"lang_known\": 2665.0}, {\"category\": \"Non-Official & Non-Aboriginal languages\", \"language\": \"Wu (Shanghainese)\", \"mother_tongue\": 12915.0, \"most_at_home\": 7650.0, \"most_at_work\": 105.0, \"lang_known\": 16530.0}, {\"category\": \"Non-Official & Non-Aboriginal languages\", \"language\": \"Yiddish\", \"mother_tongue\": 13555.0, \"most_at_home\": 7085.0, \"most_at_work\": 895.0, \"lang_known\": 20985.0}, {\"category\": \"Non-Official & Non-Aboriginal languages\", \"language\": \"Yoruba\", \"mother_tongue\": 9080.0, \"most_at_home\": 2615.0, \"most_at_work\": 15.0, \"lang_known\": 22415.0}, {\"category\": \"Non-Official & Non-Aboriginal languages\", \"language\": \"Yoruba\", \"mother_tongue\": 9080.0, \"most_at_home\": 2615.0, \"most_at_work\": 15.0, \"lang_known\": 22415.0}]}}, {\"mode\": \"vega-lite\"});\n</script>",
      "application/papermill.record/text/plain": "alt.Chart(...)"
     },
     "metadata": {
      "scrapbook": {
       "mime_prefix": "application/papermill.record/",
       "name": "can_lang_plot_labels"
      }
     },
     "output_type": "display_data"
    }
   ],
   "source": [
    "glue('can_lang_plot_labels', can_lang_plot_labels, display=False)"
   ]
  },
  {
   "cell_type": "markdown",
   "id": "00f1544c",
   "metadata": {},
   "source": [
    ":::{glue:figure} can_lang_plot_labels\n",
    ":figwidth: 700px \n",
    ":name: can_lang_plot_labels\n",
    "\n",
    "Scatter plot of number of Canadians reporting a language as their mother tongue vs the primary language at home with x and y labels.\n",
    ":::"
   ]
  },
  {
   "cell_type": "code",
   "execution_count": 26,
   "id": "62ee4675",
   "metadata": {
    "execution": {
     "iopub.execute_input": "2022-07-19T22:59:15.435184Z",
     "iopub.status.busy": "2022-07-19T22:59:15.435047Z",
     "iopub.status.idle": "2022-07-19T22:59:15.439453Z",
     "shell.execute_reply": "2022-07-19T22:59:15.439127Z"
    },
    "tags": [
     "remove-cell"
    ]
   },
   "outputs": [
    {
     "name": "stdout",
     "output_type": "stream",
     "text": [
      "19460850.0\n",
      "10.0\n",
      "14.0\n"
     ]
    },
    {
     "data": {
      "text/plain": [
       "19460850.0"
      ]
     },
     "metadata": {
      "scrapbook": {
       "mime_prefix": "",
       "name": "numlang_speakers_max"
      }
     },
     "output_type": "display_data"
    },
    {
     "data": {
      "text/plain": [
       "10.0"
      ]
     },
     "metadata": {
      "scrapbook": {
       "mime_prefix": "",
       "name": "numlang_speakers_min"
      }
     },
     "output_type": "display_data"
    },
    {
     "data": {
      "text/plain": [
       "14.0"
      ]
     },
     "metadata": {
      "scrapbook": {
       "mime_prefix": "",
       "name": "log_result"
      }
     },
     "output_type": "display_data"
    }
   ],
   "source": [
    "import numpy as np\n",
    "numlang_speakers_max = max(can_lang['mother_tongue'])\n",
    "print(numlang_speakers_max)\n",
    "numlang_speakers_min = min(can_lang['mother_tongue'])\n",
    "print(numlang_speakers_min)\n",
    "log_result = np.floor(np.log(numlang_speakers_max/numlang_speakers_min))\n",
    "print(log_result)\n",
    "glue(\"numlang_speakers_max\", numlang_speakers_max)\n",
    "glue(\"numlang_speakers_min\", numlang_speakers_min)\n",
    "glue(\"log_result\", log_result)"
   ]
  },
  {
   "cell_type": "markdown",
   "id": "d2ac1336",
   "metadata": {},
   "source": [
    "Okay! The axes and labels in {numref}`can_lang_plot_labels` are\n",
    "much more readable and interpretable now. However, the scatter points themselves could use\n",
    "some work; most of the 214 data points are bunched\n",
    "up in the lower left-hand side of the visualization. The data is clumped because\n",
    "many more people in Canada speak English or French (the two points in\n",
    "the upper right corner) than other languages. \n",
    "In particular, the most common mother tongue language \n",
    "has {glue:}`numlang_speakers_max` speakers,  \n",
    "while the least common has only {glue:}`numlang_speakers_min`.\n",
    "That's a {glue:}`log_result` -decimal-place difference\n",
    "in the magnitude of these two numbers!\n",
    "We can confirm that the two points in the upper right-hand corner correspond\n",
    "to Canada's two official languages by filtering the data:\n",
    "\\index{filter}"
   ]
  },
  {
   "cell_type": "code",
   "execution_count": 27,
   "id": "60fb0a4e",
   "metadata": {
    "execution": {
     "iopub.execute_input": "2022-07-19T22:59:15.441320Z",
     "iopub.status.busy": "2022-07-19T22:59:15.441183Z",
     "iopub.status.idle": "2022-07-19T22:59:15.446692Z",
     "shell.execute_reply": "2022-07-19T22:59:15.446395Z"
    }
   },
   "outputs": [
    {
     "data": {
      "text/html": [
       "<div>\n",
       "<style scoped>\n",
       "    .dataframe tbody tr th:only-of-type {\n",
       "        vertical-align: middle;\n",
       "    }\n",
       "\n",
       "    .dataframe tbody tr th {\n",
       "        vertical-align: top;\n",
       "    }\n",
       "\n",
       "    .dataframe thead th {\n",
       "        text-align: right;\n",
       "    }\n",
       "</style>\n",
       "<table border=\"1\" class=\"dataframe\">\n",
       "  <thead>\n",
       "    <tr style=\"text-align: right;\">\n",
       "      <th></th>\n",
       "      <th>category</th>\n",
       "      <th>language</th>\n",
       "      <th>mother_tongue</th>\n",
       "      <th>most_at_home</th>\n",
       "      <th>most_at_work</th>\n",
       "      <th>lang_known</th>\n",
       "    </tr>\n",
       "  </thead>\n",
       "  <tbody>\n",
       "    <tr>\n",
       "      <th>54</th>\n",
       "      <td>Official languages</td>\n",
       "      <td>English</td>\n",
       "      <td>19460850.0</td>\n",
       "      <td>22162865.0</td>\n",
       "      <td>15265335.0</td>\n",
       "      <td>29748265.0</td>\n",
       "    </tr>\n",
       "    <tr>\n",
       "      <th>59</th>\n",
       "      <td>Official languages</td>\n",
       "      <td>French</td>\n",
       "      <td>7166700.0</td>\n",
       "      <td>6943800.0</td>\n",
       "      <td>3825215.0</td>\n",
       "      <td>10242945.0</td>\n",
       "    </tr>\n",
       "  </tbody>\n",
       "</table>\n",
       "</div>"
      ],
      "text/plain": [
       "              category language  mother_tongue  most_at_home  most_at_work  \\\n",
       "54  Official languages  English     19460850.0    22162865.0    15265335.0   \n",
       "59  Official languages   French      7166700.0     6943800.0     3825215.0   \n",
       "\n",
       "    lang_known  \n",
       "54  29748265.0  \n",
       "59  10242945.0  "
      ]
     },
     "execution_count": 27,
     "metadata": {},
     "output_type": "execute_result"
    }
   ],
   "source": [
    "can_lang.loc[(can_lang['language']=='English') | (can_lang['language']=='French')]\n"
   ]
  },
  {
   "cell_type": "markdown",
   "id": "bdb62823",
   "metadata": {},
   "source": [
    "Recall that our question about this data pertains to *all* languages;\n",
    "so to properly answer our question, \n",
    "we will need to adjust the scale of the axes so that we can clearly\n",
    "see all of the scatter points.\n",
    "In particular, we will improve the plot by adjusting the horizontal\n",
    "and vertical axes so that they are on a **logarithmic** (or **log**) scale. \\index{logarithmic scale}\n",
    "Log scaling is useful when your data take both *very large* and *very small* values,\n",
    "because it helps space out small values and squishes larger values together.\n",
    "For example, $\\log_{10}(1) = 0$, $\\log_{10}(10) = 1$, $\\log_{10}(100) = 2$, and $\\log_{10}(1000) = 3$;\n",
    "on the logarithmic scale, \\index{ggplot!logarithmic scaling} \n",
    "the values 1, 10, 100, and 1000 are all the same distance apart!\n",
    "So we see that applying this function is moving big values closer together \n",
    "and moving small values farther apart.\n",
    "Note that if your data can take the value 0, logarithmic scaling may not \n",
    "be appropriate (since `log10(0) = -inf` in Python). There are other ways to transform\n",
    "the data in such a case, but these are beyond the scope of the book. \n",
    "\n",
    "We can accomplish logarithmic scaling in the `altair` visualization\n",
    "using the argument `type=\"log\"` in the scale functions."
   ]
  },
  {
   "cell_type": "code",
   "execution_count": 28,
   "id": "875dd0f4",
   "metadata": {
    "execution": {
     "iopub.execute_input": "2022-07-19T22:59:15.448534Z",
     "iopub.status.busy": "2022-07-19T22:59:15.448401Z",
     "iopub.status.idle": "2022-07-19T22:59:15.452245Z",
     "shell.execute_reply": "2022-07-19T22:59:15.451955Z"
    }
   },
   "outputs": [],
   "source": [
    "can_lang_plot_log = alt.Chart(can_lang).mark_circle(color='black').encode(\n",
    "    x = alt.X(\"most_at_home\",title = [\"Language spoken most at home\", \"(number of Canadian residents)\"], scale=alt.Scale( type=\"log\"), axis=alt.Axis(tickCount=7)),\n",
    "    y = alt.Y(\"mother_tongue\", title = [\"Mother tongue\", \"(number of Canadian residents)\"], scale=alt.Scale(type=\"log\"), axis=alt.Axis(tickCount=7))).configure_axis(\n",
    "    titleFontSize=12)\n"
   ]
  },
  {
   "cell_type": "code",
   "execution_count": 29,
   "id": "d1b02d83",
   "metadata": {
    "execution": {
     "iopub.execute_input": "2022-07-19T22:59:15.453936Z",
     "iopub.status.busy": "2022-07-19T22:59:15.453825Z",
     "iopub.status.idle": "2022-07-19T22:59:15.462868Z",
     "shell.execute_reply": "2022-07-19T22:59:15.462570Z"
    },
    "tags": [
     "remove-cell"
    ]
   },
   "outputs": [
    {
     "data": {
      "application/papermill.record/text/html": "\n<div id=\"altair-viz-e405572e2bfe488a905b9f26aff50167\"></div>\n<script type=\"text/javascript\">\n  var VEGA_DEBUG = (typeof VEGA_DEBUG == \"undefined\") ? {} : VEGA_DEBUG;\n  (function(spec, embedOpt){\n    let outputDiv = document.currentScript.previousElementSibling;\n    if (outputDiv.id !== \"altair-viz-e405572e2bfe488a905b9f26aff50167\") {\n      outputDiv = document.getElementById(\"altair-viz-e405572e2bfe488a905b9f26aff50167\");\n    }\n    const paths = {\n      \"vega\": \"https://cdn.jsdelivr.net/npm//vega@5?noext\",\n      \"vega-lib\": \"https://cdn.jsdelivr.net/npm//vega-lib?noext\",\n      \"vega-lite\": \"https://cdn.jsdelivr.net/npm//vega-lite@4.17.0?noext\",\n      \"vega-embed\": \"https://cdn.jsdelivr.net/npm//vega-embed@6?noext\",\n    };\n\n    function maybeLoadScript(lib, version) {\n      var key = `${lib.replace(\"-\", \"\")}_version`;\n      return (VEGA_DEBUG[key] == version) ?\n        Promise.resolve(paths[lib]) :\n        new Promise(function(resolve, reject) {\n          var s = document.createElement('script');\n          document.getElementsByTagName(\"head\")[0].appendChild(s);\n          s.async = true;\n          s.onload = () => {\n            VEGA_DEBUG[key] = version;\n            return resolve(paths[lib]);\n          };\n          s.onerror = () => reject(`Error loading script: ${paths[lib]}`);\n          s.src = paths[lib];\n        });\n    }\n\n    function showError(err) {\n      outputDiv.innerHTML = `<div class=\"error\" style=\"color:red;\">${err}</div>`;\n      throw err;\n    }\n\n    function displayChart(vegaEmbed) {\n      vegaEmbed(outputDiv, spec, embedOpt)\n        .catch(err => showError(`Javascript Error: ${err.message}<br>This usually means there's a typo in your chart specification. See the javascript console for the full traceback.`));\n    }\n\n    if(typeof define === \"function\" && define.amd) {\n      requirejs.config({paths});\n      require([\"vega-embed\"], displayChart, err => showError(`Error loading script: ${err.message}`));\n    } else {\n      maybeLoadScript(\"vega\", \"5\")\n        .then(() => maybeLoadScript(\"vega-lite\", \"4.17.0\"))\n        .then(() => maybeLoadScript(\"vega-embed\", \"6\"))\n        .catch(showError)\n        .then(() => displayChart(vegaEmbed));\n    }\n  })({\"config\": {\"view\": {\"continuousWidth\": 400, \"continuousHeight\": 300}, \"axis\": {\"titleFontSize\": 12}}, \"data\": {\"name\": \"data-4ddf50cdde7bfe2d60cc10183bddf059\"}, \"mark\": {\"type\": \"circle\", \"color\": \"black\"}, \"encoding\": {\"x\": {\"axis\": {\"tickCount\": 7}, \"field\": \"most_at_home\", \"scale\": {\"type\": \"log\"}, \"title\": [\"Language spoken most at home\", \"(number of Canadian residents)\"], \"type\": \"quantitative\"}, \"y\": {\"axis\": {\"tickCount\": 7}, \"field\": \"mother_tongue\", \"scale\": {\"type\": \"log\"}, \"title\": [\"Mother tongue\", \"(number of Canadian residents)\"], \"type\": \"quantitative\"}}, \"$schema\": \"https://vega.github.io/schema/vega-lite/v4.17.0.json\", \"datasets\": {\"data-4ddf50cdde7bfe2d60cc10183bddf059\": [{\"category\": \"Aboriginal languages\", \"language\": \"Aboriginal languages, n.o.s.\", \"mother_tongue\": 590.0, \"most_at_home\": 235.0, \"most_at_work\": 30.0, \"lang_known\": 665.0}, {\"category\": \"Non-Official & Non-Aboriginal languages\", \"language\": \"Afrikaans\", \"mother_tongue\": 10260.0, \"most_at_home\": 4785.0, \"most_at_work\": 85.0, \"lang_known\": 23415.0}, {\"category\": \"Non-Official & Non-Aboriginal languages\", \"language\": \"Afro-Asiatic languages, n.i.e.\", \"mother_tongue\": 1150.0, \"most_at_home\": 445.0, \"most_at_work\": 10.0, \"lang_known\": 2775.0}, {\"category\": \"Non-Official & Non-Aboriginal languages\", \"language\": \"Akan (Twi)\", \"mother_tongue\": 13460.0, \"most_at_home\": 5985.0, \"most_at_work\": 25.0, \"lang_known\": 22150.0}, {\"category\": \"Non-Official & Non-Aboriginal languages\", \"language\": \"Albanian\", \"mother_tongue\": 26895.0, \"most_at_home\": 13135.0, \"most_at_work\": 345.0, \"lang_known\": 31930.0}, {\"category\": \"Aboriginal languages\", \"language\": \"Algonquian languages, n.i.e.\", \"mother_tongue\": 45.0, \"most_at_home\": 10.0, \"most_at_work\": 0.0, \"lang_known\": 120.0}, {\"category\": \"Aboriginal languages\", \"language\": \"Algonquin\", \"mother_tongue\": 1260.0, \"most_at_home\": 370.0, \"most_at_work\": 40.0, \"lang_known\": 2480.0}, {\"category\": \"Non-Official & Non-Aboriginal languages\", \"language\": \"American Sign Language\", \"mother_tongue\": 2685.0, \"most_at_home\": 3020.0, \"most_at_work\": 1145.0, \"lang_known\": 21930.0}, {\"category\": \"Non-Official & Non-Aboriginal languages\", \"language\": \"Amharic\", \"mother_tongue\": 22465.0, \"most_at_home\": 12785.0, \"most_at_work\": 200.0, \"lang_known\": 33670.0}, {\"category\": \"Non-Official & Non-Aboriginal languages\", \"language\": \"Arabic\", \"mother_tongue\": 419890.0, \"most_at_home\": 223535.0, \"most_at_work\": 5585.0, \"lang_known\": 629055.0}, {\"category\": \"Non-Official & Non-Aboriginal languages\", \"language\": \"Armenian\", \"mother_tongue\": 33460.0, \"most_at_home\": 21510.0, \"most_at_work\": 450.0, \"lang_known\": 41295.0}, {\"category\": \"Non-Official & Non-Aboriginal languages\", \"language\": \"Assyrian Neo-Aramaic\", \"mother_tongue\": 16070.0, \"most_at_home\": 10510.0, \"most_at_work\": 205.0, \"lang_known\": 19740.0}, {\"category\": \"Aboriginal languages\", \"language\": \"Athabaskan languages, n.i.e.\", \"mother_tongue\": 50.0, \"most_at_home\": 10.0, \"most_at_work\": 0.0, \"lang_known\": 85.0}, {\"category\": \"Aboriginal languages\", \"language\": \"Atikamekw\", \"mother_tongue\": 6150.0, \"most_at_home\": 5465.0, \"most_at_work\": 1100.0, \"lang_known\": 6645.0}, {\"category\": \"Non-Official & Non-Aboriginal languages\", \"language\": \"Austro-Asiatic languages, n.i.e\", \"mother_tongue\": 170.0, \"most_at_home\": 80.0, \"most_at_work\": 0.0, \"lang_known\": 190.0}, {\"category\": \"Non-Official & Non-Aboriginal languages\", \"language\": \"Austronesian languages, n.i.e.\", \"mother_tongue\": 4195.0, \"most_at_home\": 1160.0, \"most_at_work\": 35.0, \"lang_known\": 5585.0}, {\"category\": \"Non-Official & Non-Aboriginal languages\", \"language\": \"Azerbaijani\", \"mother_tongue\": 3255.0, \"most_at_home\": 1245.0, \"most_at_work\": 25.0, \"lang_known\": 5455.0}, {\"category\": \"Aboriginal languages\", \"language\": \"Babine (Wetsuwet'en)\", \"mother_tongue\": 110.0, \"most_at_home\": 20.0, \"most_at_work\": 10.0, \"lang_known\": 210.0}, {\"category\": \"Non-Official & Non-Aboriginal languages\", \"language\": \"Bamanankan\", \"mother_tongue\": 1535.0, \"most_at_home\": 345.0, \"most_at_work\": 0.0, \"lang_known\": 3190.0}, {\"category\": \"Aboriginal languages\", \"language\": \"Beaver\", \"mother_tongue\": 190.0, \"most_at_home\": 50.0, \"most_at_work\": 0.0, \"lang_known\": 340.0}, {\"category\": \"Non-Official & Non-Aboriginal languages\", \"language\": \"Belarusan\", \"mother_tongue\": 810.0, \"most_at_home\": 225.0, \"most_at_work\": 0.0, \"lang_known\": 2265.0}, {\"category\": \"Non-Official & Non-Aboriginal languages\", \"language\": \"Bengali\", \"mother_tongue\": 73125.0, \"most_at_home\": 47350.0, \"most_at_work\": 525.0, \"lang_known\": 91220.0}, {\"category\": \"Non-Official & Non-Aboriginal languages\", \"language\": \"Berber languages, n.i.e.\", \"mother_tongue\": 8985.0, \"most_at_home\": 2615.0, \"most_at_work\": 15.0, \"lang_known\": 12510.0}, {\"category\": \"Non-Official & Non-Aboriginal languages\", \"language\": \"Bikol\", \"mother_tongue\": 1785.0, \"most_at_home\": 290.0, \"most_at_work\": 0.0, \"lang_known\": 2075.0}, {\"category\": \"Non-Official & Non-Aboriginal languages\", \"language\": \"Bilen\", \"mother_tongue\": 805.0, \"most_at_home\": 615.0, \"most_at_work\": 15.0, \"lang_known\": 1085.0}, {\"category\": \"Aboriginal languages\", \"language\": \"Blackfoot\", \"mother_tongue\": 2815.0, \"most_at_home\": 1110.0, \"most_at_work\": 85.0, \"lang_known\": 5645.0}, {\"category\": \"Non-Official & Non-Aboriginal languages\", \"language\": \"Bosnian\", \"mother_tongue\": 12215.0, \"most_at_home\": 6045.0, \"most_at_work\": 155.0, \"lang_known\": 18265.0}, {\"category\": \"Non-Official & Non-Aboriginal languages\", \"language\": \"Bulgarian\", \"mother_tongue\": 20020.0, \"most_at_home\": 11985.0, \"most_at_work\": 200.0, \"lang_known\": 22425.0}, {\"category\": \"Non-Official & Non-Aboriginal languages\", \"language\": \"Burmese\", \"mother_tongue\": 3585.0, \"most_at_home\": 2245.0, \"most_at_work\": 75.0, \"lang_known\": 4995.0}, {\"category\": \"Non-Official & Non-Aboriginal languages\", \"language\": \"Cantonese\", \"mother_tongue\": 565270.0, \"most_at_home\": 400220.0, \"most_at_work\": 58820.0, \"lang_known\": 699125.0}, {\"category\": \"Aboriginal languages\", \"language\": \"Carrier\", \"mother_tongue\": 1025.0, \"most_at_home\": 250.0, \"most_at_work\": 15.0, \"lang_known\": 2100.0}, {\"category\": \"Non-Official & Non-Aboriginal languages\", \"language\": \"Catalan\", \"mother_tongue\": 870.0, \"most_at_home\": 350.0, \"most_at_work\": 30.0, \"lang_known\": 2035.0}, {\"category\": \"Aboriginal languages\", \"language\": \"Cayuga\", \"mother_tongue\": 45.0, \"most_at_home\": 10.0, \"most_at_work\": 10.0, \"lang_known\": 125.0}, {\"category\": \"Non-Official & Non-Aboriginal languages\", \"language\": \"Cebuano\", \"mother_tongue\": 19890.0, \"most_at_home\": 7205.0, \"most_at_work\": 70.0, \"lang_known\": 27040.0}, {\"category\": \"Non-Official & Non-Aboriginal languages\", \"language\": \"Celtic languages, n.i.e.\", \"mother_tongue\": 525.0, \"most_at_home\": 80.0, \"most_at_work\": 10.0, \"lang_known\": 3595.0}, {\"category\": \"Non-Official & Non-Aboriginal languages\", \"language\": \"Chaldean Neo-Aramaic\", \"mother_tongue\": 5545.0, \"most_at_home\": 3445.0, \"most_at_work\": 35.0, \"lang_known\": 7115.0}, {\"category\": \"Aboriginal languages\", \"language\": \"Chilcotin\", \"mother_tongue\": 655.0, \"most_at_home\": 255.0, \"most_at_work\": 15.0, \"lang_known\": 1150.0}, {\"category\": \"Non-Official & Non-Aboriginal languages\", \"language\": \"Chinese languages, n.i.e.\", \"mother_tongue\": 615.0, \"most_at_home\": 280.0, \"most_at_work\": 0.0, \"lang_known\": 590.0}, {\"category\": \"Non-Official & Non-Aboriginal languages\", \"language\": \"Chinese, n.o.s.\", \"mother_tongue\": 38580.0, \"most_at_home\": 23940.0, \"most_at_work\": 2935.0, \"lang_known\": 41685.0}, {\"category\": \"Aboriginal languages\", \"language\": \"Cree, n.o.s.\", \"mother_tongue\": 64050.0, \"most_at_home\": 37950.0, \"most_at_work\": 7800.0, \"lang_known\": 86115.0}, {\"category\": \"Non-Official & Non-Aboriginal languages\", \"language\": \"Creole languages, n.i.e.\", \"mother_tongue\": 4985.0, \"most_at_home\": 2005.0, \"most_at_work\": 15.0, \"lang_known\": 16635.0}, {\"category\": \"Non-Official & Non-Aboriginal languages\", \"language\": \"Creole, n.o.s.\", \"mother_tongue\": 64110.0, \"most_at_home\": 24570.0, \"most_at_work\": 310.0, \"lang_known\": 133045.0}, {\"category\": \"Non-Official & Non-Aboriginal languages\", \"language\": \"Croatian\", \"mother_tongue\": 48200.0, \"most_at_home\": 16775.0, \"most_at_work\": 220.0, \"lang_known\": 69835.0}, {\"category\": \"Non-Official & Non-Aboriginal languages\", \"language\": \"Cushitic languages, n.i.e.\", \"mother_tongue\": 365.0, \"most_at_home\": 180.0, \"most_at_work\": 0.0, \"lang_known\": 480.0}, {\"category\": \"Non-Official & Non-Aboriginal languages\", \"language\": \"Czech\", \"mother_tongue\": 22295.0, \"most_at_home\": 6235.0, \"most_at_work\": 70.0, \"lang_known\": 28725.0}, {\"category\": \"Aboriginal languages\", \"language\": \"Dakota\", \"mother_tongue\": 1210.0, \"most_at_home\": 255.0, \"most_at_work\": 20.0, \"lang_known\": 1760.0}, {\"category\": \"Non-Official & Non-Aboriginal languages\", \"language\": \"Danish\", \"mother_tongue\": 12630.0, \"most_at_home\": 855.0, \"most_at_work\": 85.0, \"lang_known\": 15750.0}, {\"category\": \"Aboriginal languages\", \"language\": \"Dene\", \"mother_tongue\": 10700.0, \"most_at_home\": 7710.0, \"most_at_work\": 770.0, \"lang_known\": 13060.0}, {\"category\": \"Non-Official & Non-Aboriginal languages\", \"language\": \"Dinka\", \"mother_tongue\": 2120.0, \"most_at_home\": 1130.0, \"most_at_work\": 0.0, \"lang_known\": 2475.0}, {\"category\": \"Aboriginal languages\", \"language\": \"Dogrib (Tlicho)\", \"mother_tongue\": 1650.0, \"most_at_home\": 1020.0, \"most_at_work\": 165.0, \"lang_known\": 2375.0}, {\"category\": \"Non-Official & Non-Aboriginal languages\", \"language\": \"Dravidian languages, n.i.e.\", \"mother_tongue\": 490.0, \"most_at_home\": 190.0, \"most_at_work\": 0.0, \"lang_known\": 790.0}, {\"category\": \"Non-Official & Non-Aboriginal languages\", \"language\": \"Dutch\", \"mother_tongue\": 99015.0, \"most_at_home\": 9565.0, \"most_at_work\": 1165.0, \"lang_known\": 120870.0}, {\"category\": \"Non-Official & Non-Aboriginal languages\", \"language\": \"Edo\", \"mother_tongue\": 1670.0, \"most_at_home\": 410.0, \"most_at_work\": 0.0, \"lang_known\": 3220.0}, {\"category\": \"Official languages\", \"language\": \"English\", \"mother_tongue\": 19460850.0, \"most_at_home\": 22162865.0, \"most_at_work\": 15265335.0, \"lang_known\": 29748265.0}, {\"category\": \"Non-Official & Non-Aboriginal languages\", \"language\": \"Estonian\", \"mother_tongue\": 5445.0, \"most_at_home\": 975.0, \"most_at_work\": 55.0, \"lang_known\": 6070.0}, {\"category\": \"Non-Official & Non-Aboriginal languages\", \"language\": \"Ewe\", \"mother_tongue\": 1760.0, \"most_at_home\": 405.0, \"most_at_work\": 10.0, \"lang_known\": 3000.0}, {\"category\": \"Non-Official & Non-Aboriginal languages\", \"language\": \"Fijian\", \"mother_tongue\": 745.0, \"most_at_home\": 195.0, \"most_at_work\": 0.0, \"lang_known\": 1665.0}, {\"category\": \"Non-Official & Non-Aboriginal languages\", \"language\": \"Finnish\", \"mother_tongue\": 15295.0, \"most_at_home\": 2790.0, \"most_at_work\": 105.0, \"lang_known\": 17590.0}, {\"category\": \"Official languages\", \"language\": \"French\", \"mother_tongue\": 7166700.0, \"most_at_home\": 6943800.0, \"most_at_work\": 3825215.0, \"lang_known\": 10242945.0}, {\"category\": \"Non-Official & Non-Aboriginal languages\", \"language\": \"Frisian\", \"mother_tongue\": 2100.0, \"most_at_home\": 185.0, \"most_at_work\": 40.0, \"lang_known\": 2910.0}, {\"category\": \"Non-Official & Non-Aboriginal languages\", \"language\": \"Fulah (Pular, Pulaar, Fulfulde)\", \"mother_tongue\": 2825.0, \"most_at_home\": 825.0, \"most_at_work\": 0.0, \"lang_known\": 4725.0}, {\"category\": \"Non-Official & Non-Aboriginal languages\", \"language\": \"Ga\", \"mother_tongue\": 920.0, \"most_at_home\": 250.0, \"most_at_work\": 0.0, \"lang_known\": 2250.0}, {\"category\": \"Non-Official & Non-Aboriginal languages\", \"language\": \"Ganda\", \"mother_tongue\": 1295.0, \"most_at_home\": 345.0, \"most_at_work\": 25.0, \"lang_known\": 2495.0}, {\"category\": \"Non-Official & Non-Aboriginal languages\", \"language\": \"Georgian\", \"mother_tongue\": 1710.0, \"most_at_home\": 1040.0, \"most_at_work\": 25.0, \"lang_known\": 2150.0}, {\"category\": \"Non-Official & Non-Aboriginal languages\", \"language\": \"German\", \"mother_tongue\": 384040.0, \"most_at_home\": 120335.0, \"most_at_work\": 10065.0, \"lang_known\": 502735.0}, {\"category\": \"Non-Official & Non-Aboriginal languages\", \"language\": \"Germanic languages, n.i.e.\", \"mother_tongue\": 525.0, \"most_at_home\": 1630.0, \"most_at_work\": 725.0, \"lang_known\": 8705.0}, {\"category\": \"Aboriginal languages\", \"language\": \"Gitxsan (Gitksan)\", \"mother_tongue\": 880.0, \"most_at_home\": 315.0, \"most_at_work\": 10.0, \"lang_known\": 1305.0}, {\"category\": \"Non-Official & Non-Aboriginal languages\", \"language\": \"Greek\", \"mother_tongue\": 106525.0, \"most_at_home\": 44550.0, \"most_at_work\": 1020.0, \"lang_known\": 150965.0}, {\"category\": \"Non-Official & Non-Aboriginal languages\", \"language\": \"Gujarati\", \"mother_tongue\": 108780.0, \"most_at_home\": 64150.0, \"most_at_work\": 885.0, \"lang_known\": 149045.0}, {\"category\": \"Aboriginal languages\", \"language\": \"Gwich'in\", \"mother_tongue\": 255.0, \"most_at_home\": 50.0, \"most_at_work\": 10.0, \"lang_known\": 360.0}, {\"category\": \"Aboriginal languages\", \"language\": \"Haida\", \"mother_tongue\": 80.0, \"most_at_home\": 10.0, \"most_at_work\": 0.0, \"lang_known\": 465.0}, {\"category\": \"Aboriginal languages\", \"language\": \"Haisla\", \"mother_tongue\": 90.0, \"most_at_home\": 20.0, \"most_at_work\": 0.0, \"lang_known\": 175.0}, {\"category\": \"Non-Official & Non-Aboriginal languages\", \"language\": \"Haitian Creole\", \"mother_tongue\": 3030.0, \"most_at_home\": 1280.0, \"most_at_work\": 25.0, \"lang_known\": 6855.0}, {\"category\": \"Non-Official & Non-Aboriginal languages\", \"language\": \"Hakka\", \"mother_tongue\": 10910.0, \"most_at_home\": 4085.0, \"most_at_work\": 70.0, \"lang_known\": 12445.0}, {\"category\": \"Aboriginal languages\", \"language\": \"Halkomelem\", \"mother_tongue\": 480.0, \"most_at_home\": 50.0, \"most_at_work\": 20.0, \"lang_known\": 1060.0}, {\"category\": \"Non-Official & Non-Aboriginal languages\", \"language\": \"Harari\", \"mother_tongue\": 1320.0, \"most_at_home\": 735.0, \"most_at_work\": 0.0, \"lang_known\": 1715.0}, {\"category\": \"Non-Official & Non-Aboriginal languages\", \"language\": \"Hebrew\", \"mother_tongue\": 19530.0, \"most_at_home\": 8560.0, \"most_at_work\": 825.0, \"lang_known\": 75020.0}, {\"category\": \"Aboriginal languages\", \"language\": \"Heiltsuk\", \"mother_tongue\": 100.0, \"most_at_home\": 5.0, \"most_at_work\": 10.0, \"lang_known\": 125.0}, {\"category\": \"Non-Official & Non-Aboriginal languages\", \"language\": \"Hiligaynon\", \"mother_tongue\": 6880.0, \"most_at_home\": 2210.0, \"most_at_work\": 25.0, \"lang_known\": 7925.0}, {\"category\": \"Non-Official & Non-Aboriginal languages\", \"language\": \"Hindi\", \"mother_tongue\": 110645.0, \"most_at_home\": 55510.0, \"most_at_work\": 1405.0, \"lang_known\": 433365.0}, {\"category\": \"Non-Official & Non-Aboriginal languages\", \"language\": \"Hmong-Mien languages\", \"mother_tongue\": 795.0, \"most_at_home\": 335.0, \"most_at_work\": 10.0, \"lang_known\": 870.0}, {\"category\": \"Non-Official & Non-Aboriginal languages\", \"language\": \"Hungarian\", \"mother_tongue\": 61235.0, \"most_at_home\": 19480.0, \"most_at_work\": 440.0, \"lang_known\": 71285.0}, {\"category\": \"Non-Official & Non-Aboriginal languages\", \"language\": \"Icelandic\", \"mother_tongue\": 1285.0, \"most_at_home\": 270.0, \"most_at_work\": 0.0, \"lang_known\": 1780.0}, {\"category\": \"Non-Official & Non-Aboriginal languages\", \"language\": \"Igbo\", \"mother_tongue\": 4235.0, \"most_at_home\": 1000.0, \"most_at_work\": 10.0, \"lang_known\": 8855.0}, {\"category\": \"Non-Official & Non-Aboriginal languages\", \"language\": \"Ilocano\", \"mother_tongue\": 26345.0, \"most_at_home\": 9125.0, \"most_at_work\": 110.0, \"lang_known\": 34530.0}, {\"category\": \"Non-Official & Non-Aboriginal languages\", \"language\": \"Indo-Iranian languages, n.i.e.\", \"mother_tongue\": 5185.0, \"most_at_home\": 2380.0, \"most_at_work\": 20.0, \"lang_known\": 8870.0}, {\"category\": \"Aboriginal languages\", \"language\": \"Inuinnaqtun (Inuvialuktun)\", \"mother_tongue\": 1020.0, \"most_at_home\": 165.0, \"most_at_work\": 30.0, \"lang_known\": 1975.0}, {\"category\": \"Aboriginal languages\", \"language\": \"Inuit languages, n.i.e.\", \"mother_tongue\": 310.0, \"most_at_home\": 90.0, \"most_at_work\": 15.0, \"lang_known\": 470.0}, {\"category\": \"Aboriginal languages\", \"language\": \"Inuktitut\", \"mother_tongue\": 35210.0, \"most_at_home\": 29230.0, \"most_at_work\": 8795.0, \"lang_known\": 40620.0}, {\"category\": \"Aboriginal languages\", \"language\": \"Iroquoian languages, n.i.e.\", \"mother_tongue\": 35.0, \"most_at_home\": 5.0, \"most_at_work\": 0.0, \"lang_known\": 115.0}, {\"category\": \"Non-Official & Non-Aboriginal languages\", \"language\": \"Italian\", \"mother_tongue\": 375635.0, \"most_at_home\": 115415.0, \"most_at_work\": 1705.0, \"lang_known\": 574725.0}, {\"category\": \"Non-Official & Non-Aboriginal languages\", \"language\": \"Italic (Romance) languages, n.i.e.\", \"mother_tongue\": 720.0, \"most_at_home\": 175.0, \"most_at_work\": 25.0, \"lang_known\": 2680.0}, {\"category\": \"Non-Official & Non-Aboriginal languages\", \"language\": \"Japanese\", \"mother_tongue\": 43640.0, \"most_at_home\": 19785.0, \"most_at_work\": 3255.0, \"lang_known\": 83095.0}, {\"category\": \"Non-Official & Non-Aboriginal languages\", \"language\": \"Kabyle\", \"mother_tongue\": 13150.0, \"most_at_home\": 5490.0, \"most_at_work\": 15.0, \"lang_known\": 17120.0}, {\"category\": \"Non-Official & Non-Aboriginal languages\", \"language\": \"Kannada\", \"mother_tongue\": 3970.0, \"most_at_home\": 1630.0, \"most_at_work\": 10.0, \"lang_known\": 8245.0}, {\"category\": \"Non-Official & Non-Aboriginal languages\", \"language\": \"Karenic languages\", \"mother_tongue\": 4705.0, \"most_at_home\": 3860.0, \"most_at_work\": 135.0, \"lang_known\": 4895.0}, {\"category\": \"Non-Official & Non-Aboriginal languages\", \"language\": \"Kashmiri\", \"mother_tongue\": 565.0, \"most_at_home\": 135.0, \"most_at_work\": 0.0, \"lang_known\": 905.0}, {\"category\": \"Aboriginal languages\", \"language\": \"Kaska (Nahani)\", \"mother_tongue\": 180.0, \"most_at_home\": 20.0, \"most_at_work\": 10.0, \"lang_known\": 365.0}, {\"category\": \"Non-Official & Non-Aboriginal languages\", \"language\": \"Khmer (Cambodian)\", \"mother_tongue\": 20130.0, \"most_at_home\": 10885.0, \"most_at_work\": 475.0, \"lang_known\": 27035.0}, {\"category\": \"Non-Official & Non-Aboriginal languages\", \"language\": \"Kinyarwanda (Rwanda)\", \"mother_tongue\": 5250.0, \"most_at_home\": 1530.0, \"most_at_work\": 25.0, \"lang_known\": 7860.0}, {\"category\": \"Non-Official & Non-Aboriginal languages\", \"language\": \"Konkani\", \"mother_tongue\": 3330.0, \"most_at_home\": 720.0, \"most_at_work\": 10.0, \"lang_known\": 6790.0}, {\"category\": \"Non-Official & Non-Aboriginal languages\", \"language\": \"Korean\", \"mother_tongue\": 153425.0, \"most_at_home\": 109705.0, \"most_at_work\": 12150.0, \"lang_known\": 172750.0}, {\"category\": \"Non-Official & Non-Aboriginal languages\", \"language\": \"Kurdish\", \"mother_tongue\": 11705.0, \"most_at_home\": 6580.0, \"most_at_work\": 185.0, \"lang_known\": 15290.0}, {\"category\": \"Aboriginal languages\", \"language\": \"Kutenai\", \"mother_tongue\": 110.0, \"most_at_home\": 10.0, \"most_at_work\": 0.0, \"lang_known\": 170.0}, {\"category\": \"Aboriginal languages\", \"language\": \"Kwakiutl (Kwak'wala)\", \"mother_tongue\": 325.0, \"most_at_home\": 25.0, \"most_at_work\": 15.0, \"lang_known\": 605.0}, {\"category\": \"Non-Official & Non-Aboriginal languages\", \"language\": \"Lao\", \"mother_tongue\": 12670.0, \"most_at_home\": 6175.0, \"most_at_work\": 150.0, \"lang_known\": 17235.0}, {\"category\": \"Non-Official & Non-Aboriginal languages\", \"language\": \"Latvian\", \"mother_tongue\": 5450.0, \"most_at_home\": 1255.0, \"most_at_work\": 35.0, \"lang_known\": 6500.0}, {\"category\": \"Aboriginal languages\", \"language\": \"Lillooet\", \"mother_tongue\": 315.0, \"most_at_home\": 25.0, \"most_at_work\": 15.0, \"lang_known\": 790.0}, {\"category\": \"Non-Official & Non-Aboriginal languages\", \"language\": \"Lingala\", \"mother_tongue\": 3805.0, \"most_at_home\": 1045.0, \"most_at_work\": 10.0, \"lang_known\": 17010.0}, {\"category\": \"Non-Official & Non-Aboriginal languages\", \"language\": \"Lithuanian\", \"mother_tongue\": 7075.0, \"most_at_home\": 2015.0, \"most_at_work\": 60.0, \"lang_known\": 8185.0}, {\"category\": \"Non-Official & Non-Aboriginal languages\", \"language\": \"Macedonian\", \"mother_tongue\": 16770.0, \"most_at_home\": 6830.0, \"most_at_work\": 95.0, \"lang_known\": 23075.0}, {\"category\": \"Non-Official & Non-Aboriginal languages\", \"language\": \"Malagasy\", \"mother_tongue\": 1430.0, \"most_at_home\": 430.0, \"most_at_work\": 0.0, \"lang_known\": 2340.0}, {\"category\": \"Non-Official & Non-Aboriginal languages\", \"language\": \"Malay\", \"mother_tongue\": 12275.0, \"most_at_home\": 3625.0, \"most_at_work\": 140.0, \"lang_known\": 22470.0}, {\"category\": \"Non-Official & Non-Aboriginal languages\", \"language\": \"Malayalam\", \"mother_tongue\": 28565.0, \"most_at_home\": 15440.0, \"most_at_work\": 95.0, \"lang_known\": 37810.0}, {\"category\": \"Aboriginal languages\", \"language\": \"Malecite\", \"mother_tongue\": 300.0, \"most_at_home\": 55.0, \"most_at_work\": 10.0, \"lang_known\": 760.0}, {\"category\": \"Non-Official & Non-Aboriginal languages\", \"language\": \"Maltese\", \"mother_tongue\": 5565.0, \"most_at_home\": 1125.0, \"most_at_work\": 25.0, \"lang_known\": 7625.0}, {\"category\": \"Non-Official & Non-Aboriginal languages\", \"language\": \"Mandarin\", \"mother_tongue\": 592040.0, \"most_at_home\": 462890.0, \"most_at_work\": 60090.0, \"lang_known\": 814450.0}, {\"category\": \"Non-Official & Non-Aboriginal languages\", \"language\": \"Marathi\", \"mother_tongue\": 8295.0, \"most_at_home\": 3780.0, \"most_at_work\": 30.0, \"lang_known\": 15565.0}, {\"category\": \"Aboriginal languages\", \"language\": \"Mi'kmaq\", \"mother_tongue\": 6690.0, \"most_at_home\": 3565.0, \"most_at_work\": 915.0, \"lang_known\": 9025.0}, {\"category\": \"Aboriginal languages\", \"language\": \"Michif\", \"mother_tongue\": 465.0, \"most_at_home\": 80.0, \"most_at_work\": 10.0, \"lang_known\": 1210.0}, {\"category\": \"Non-Official & Non-Aboriginal languages\", \"language\": \"Min Dong\", \"mother_tongue\": 1230.0, \"most_at_home\": 345.0, \"most_at_work\": 30.0, \"lang_known\": 1045.0}, {\"category\": \"Non-Official & Non-Aboriginal languages\", \"language\": \"Min Nan (Chaochow, Teochow, Fukien, Taiwanese)\", \"mother_tongue\": 31800.0, \"most_at_home\": 13965.0, \"most_at_work\": 565.0, \"lang_known\": 42840.0}, {\"category\": \"Aboriginal languages\", \"language\": \"Mohawk\", \"mother_tongue\": 985.0, \"most_at_home\": 255.0, \"most_at_work\": 30.0, \"lang_known\": 2415.0}, {\"category\": \"Non-Official & Non-Aboriginal languages\", \"language\": \"Mongolian\", \"mother_tongue\": 1575.0, \"most_at_home\": 905.0, \"most_at_work\": 10.0, \"lang_known\": 2095.0}, {\"category\": \"Aboriginal languages\", \"language\": \"Montagnais (Innu)\", \"mother_tongue\": 10235.0, \"most_at_home\": 8585.0, \"most_at_work\": 2055.0, \"lang_known\": 11445.0}, {\"category\": \"Aboriginal languages\", \"language\": \"Moose Cree\", \"mother_tongue\": 105.0, \"most_at_home\": 10.0, \"most_at_work\": 0.0, \"lang_known\": 195.0}, {\"category\": \"Aboriginal languages\", \"language\": \"Naskapi\", \"mother_tongue\": 1205.0, \"most_at_home\": 1195.0, \"most_at_work\": 370.0, \"lang_known\": 1465.0}, {\"category\": \"Non-Official & Non-Aboriginal languages\", \"language\": \"Nepali\", \"mother_tongue\": 18275.0, \"most_at_home\": 13375.0, \"most_at_work\": 195.0, \"lang_known\": 21385.0}, {\"category\": \"Non-Official & Non-Aboriginal languages\", \"language\": \"Niger-Congo languages, n.i.e.\", \"mother_tongue\": 19135.0, \"most_at_home\": 4010.0, \"most_at_work\": 30.0, \"lang_known\": 40760.0}, {\"category\": \"Non-Official & Non-Aboriginal languages\", \"language\": \"Nilo-Saharan languages, n.i.e.\", \"mother_tongue\": 3750.0, \"most_at_home\": 1520.0, \"most_at_work\": 0.0, \"lang_known\": 4550.0}, {\"category\": \"Aboriginal languages\", \"language\": \"Nisga'a\", \"mother_tongue\": 400.0, \"most_at_home\": 75.0, \"most_at_work\": 10.0, \"lang_known\": 1055.0}, {\"category\": \"Aboriginal languages\", \"language\": \"North Slavey (Hare)\", \"mother_tongue\": 765.0, \"most_at_home\": 340.0, \"most_at_work\": 95.0, \"lang_known\": 1005.0}, {\"category\": \"Aboriginal languages\", \"language\": \"Northern East Cree\", \"mother_tongue\": 315.0, \"most_at_home\": 110.0, \"most_at_work\": 35.0, \"lang_known\": 550.0}, {\"category\": \"Aboriginal languages\", \"language\": \"Northern Tutchone\", \"mother_tongue\": 220.0, \"most_at_home\": 30.0, \"most_at_work\": 0.0, \"lang_known\": 280.0}, {\"category\": \"Non-Official & Non-Aboriginal languages\", \"language\": \"Norwegian\", \"mother_tongue\": 4615.0, \"most_at_home\": 350.0, \"most_at_work\": 70.0, \"lang_known\": 8120.0}, {\"category\": \"Aboriginal languages\", \"language\": \"Nuu-chah-nulth (Nootka)\", \"mother_tongue\": 280.0, \"most_at_home\": 30.0, \"most_at_work\": 10.0, \"lang_known\": 560.0}, {\"category\": \"Aboriginal languages\", \"language\": \"Oji-Cree\", \"mother_tongue\": 12855.0, \"most_at_home\": 7905.0, \"most_at_work\": 1080.0, \"lang_known\": 15605.0}, {\"category\": \"Aboriginal languages\", \"language\": \"Ojibway\", \"mother_tongue\": 17885.0, \"most_at_home\": 6175.0, \"most_at_work\": 765.0, \"lang_known\": 28580.0}, {\"category\": \"Aboriginal languages\", \"language\": \"Okanagan\", \"mother_tongue\": 275.0, \"most_at_home\": 80.0, \"most_at_work\": 20.0, \"lang_known\": 820.0}, {\"category\": \"Aboriginal languages\", \"language\": \"Oneida\", \"mother_tongue\": 60.0, \"most_at_home\": 15.0, \"most_at_work\": 0.0, \"lang_known\": 185.0}, {\"category\": \"Non-Official & Non-Aboriginal languages\", \"language\": \"Oriya (Odia)\", \"mother_tongue\": 1055.0, \"most_at_home\": 475.0, \"most_at_work\": 0.0, \"lang_known\": 1530.0}, {\"category\": \"Non-Official & Non-Aboriginal languages\", \"language\": \"Oromo\", \"mother_tongue\": 4960.0, \"most_at_home\": 3410.0, \"most_at_work\": 45.0, \"lang_known\": 6245.0}, {\"category\": \"Non-Official & Non-Aboriginal languages\", \"language\": \"Other languages, n.i.e.\", \"mother_tongue\": 3685.0, \"most_at_home\": 1110.0, \"most_at_work\": 80.0, \"lang_known\": 9730.0}, {\"category\": \"Aboriginal languages\", \"language\": \"Ottawa (Odawa)\", \"mother_tongue\": 150.0, \"most_at_home\": 75.0, \"most_at_work\": 0.0, \"lang_known\": 205.0}, {\"category\": \"Non-Official & Non-Aboriginal languages\", \"language\": \"Pampangan (Kapampangan, Pampango)\", \"mother_tongue\": 4045.0, \"most_at_home\": 1200.0, \"most_at_work\": 10.0, \"lang_known\": 5425.0}, {\"category\": \"Non-Official & Non-Aboriginal languages\", \"language\": \"Pangasinan\", \"mother_tongue\": 1390.0, \"most_at_home\": 240.0, \"most_at_work\": 0.0, \"lang_known\": 1800.0}, {\"category\": \"Non-Official & Non-Aboriginal languages\", \"language\": \"Pashto\", \"mother_tongue\": 16905.0, \"most_at_home\": 10590.0, \"most_at_work\": 50.0, \"lang_known\": 23180.0}, {\"category\": \"Non-Official & Non-Aboriginal languages\", \"language\": \"Persian (Farsi)\", \"mother_tongue\": 214200.0, \"most_at_home\": 143025.0, \"most_at_work\": 4580.0, \"lang_known\": 252325.0}, {\"category\": \"Aboriginal languages\", \"language\": \"Plains Cree\", \"mother_tongue\": 3065.0, \"most_at_home\": 1345.0, \"most_at_work\": 95.0, \"lang_known\": 5905.0}, {\"category\": \"Non-Official & Non-Aboriginal languages\", \"language\": \"Polish\", \"mother_tongue\": 181710.0, \"most_at_home\": 74780.0, \"most_at_work\": 2495.0, \"lang_known\": 214965.0}, {\"category\": \"Non-Official & Non-Aboriginal languages\", \"language\": \"Portuguese\", \"mother_tongue\": 221535.0, \"most_at_home\": 98710.0, \"most_at_work\": 7485.0, \"lang_known\": 295955.0}, {\"category\": \"Non-Official & Non-Aboriginal languages\", \"language\": \"Punjabi (Panjabi)\", \"mother_tongue\": 501680.0, \"most_at_home\": 349140.0, \"most_at_work\": 27865.0, \"lang_known\": 668240.0}, {\"category\": \"Non-Official & Non-Aboriginal languages\", \"language\": \"Quebec Sign Language\", \"mother_tongue\": 695.0, \"most_at_home\": 730.0, \"most_at_work\": 130.0, \"lang_known\": 4665.0}, {\"category\": \"Non-Official & Non-Aboriginal languages\", \"language\": \"Romanian\", \"mother_tongue\": 96660.0, \"most_at_home\": 53325.0, \"most_at_work\": 745.0, \"lang_known\": 115050.0}, {\"category\": \"Non-Official & Non-Aboriginal languages\", \"language\": \"Rundi (Kirundi)\", \"mother_tongue\": 5850.0, \"most_at_home\": 2110.0, \"most_at_work\": 0.0, \"lang_known\": 8590.0}, {\"category\": \"Non-Official & Non-Aboriginal languages\", \"language\": \"Russian\", \"mother_tongue\": 188255.0, \"most_at_home\": 116595.0, \"most_at_work\": 4855.0, \"lang_known\": 269645.0}, {\"category\": \"Aboriginal languages\", \"language\": \"Salish languages, n.i.e.\", \"mother_tongue\": 260.0, \"most_at_home\": 25.0, \"most_at_work\": 0.0, \"lang_known\": 560.0}, {\"category\": \"Aboriginal languages\", \"language\": \"Sarsi (Sarcee)\", \"mother_tongue\": 80.0, \"most_at_home\": 10.0, \"most_at_work\": 0.0, \"lang_known\": 145.0}, {\"category\": \"Non-Official & Non-Aboriginal languages\", \"language\": \"Scottish Gaelic\", \"mother_tongue\": 1090.0, \"most_at_home\": 190.0, \"most_at_work\": 15.0, \"lang_known\": 3980.0}, {\"category\": \"Aboriginal languages\", \"language\": \"Sekani\", \"mother_tongue\": 85.0, \"most_at_home\": 15.0, \"most_at_work\": 0.0, \"lang_known\": 185.0}, {\"category\": \"Non-Official & Non-Aboriginal languages\", \"language\": \"Semitic languages, n.i.e.\", \"mother_tongue\": 2150.0, \"most_at_home\": 1205.0, \"most_at_work\": 65.0, \"lang_known\": 3220.0}, {\"category\": \"Non-Official & Non-Aboriginal languages\", \"language\": \"Serbian\", \"mother_tongue\": 57350.0, \"most_at_home\": 31750.0, \"most_at_work\": 530.0, \"lang_known\": 73780.0}, {\"category\": \"Non-Official & Non-Aboriginal languages\", \"language\": \"Serbo-Croatian\", \"mother_tongue\": 9550.0, \"most_at_home\": 3890.0, \"most_at_work\": 30.0, \"lang_known\": 11275.0}, {\"category\": \"Non-Official & Non-Aboriginal languages\", \"language\": \"Shona\", \"mother_tongue\": 3185.0, \"most_at_home\": 1035.0, \"most_at_work\": 0.0, \"lang_known\": 5430.0}, {\"category\": \"Aboriginal languages\", \"language\": \"Shuswap (Secwepemctsin)\", \"mother_tongue\": 445.0, \"most_at_home\": 50.0, \"most_at_work\": 35.0, \"lang_known\": 1305.0}, {\"category\": \"Non-Official & Non-Aboriginal languages\", \"language\": \"Sign languages, n.i.e\", \"mother_tongue\": 4125.0, \"most_at_home\": 6690.0, \"most_at_work\": 645.0, \"lang_known\": 22280.0}, {\"category\": \"Non-Official & Non-Aboriginal languages\", \"language\": \"Sindhi\", \"mother_tongue\": 11860.0, \"most_at_home\": 4975.0, \"most_at_work\": 35.0, \"lang_known\": 20260.0}, {\"category\": \"Non-Official & Non-Aboriginal languages\", \"language\": \"Sinhala (Sinhalese)\", \"mother_tongue\": 16335.0, \"most_at_home\": 7790.0, \"most_at_work\": 40.0, \"lang_known\": 27825.0}, {\"category\": \"Aboriginal languages\", \"language\": \"Siouan languages, n.i.e.\", \"mother_tongue\": 55.0, \"most_at_home\": 20.0, \"most_at_work\": 0.0, \"lang_known\": 140.0}, {\"category\": \"Aboriginal languages\", \"language\": \"Slavey, n.o.s.\", \"mother_tongue\": 280.0, \"most_at_home\": 105.0, \"most_at_work\": 10.0, \"lang_known\": 675.0}, {\"category\": \"Non-Official & Non-Aboriginal languages\", \"language\": \"Slavic languages, n.i.e.\", \"mother_tongue\": 2420.0, \"most_at_home\": 670.0, \"most_at_work\": 10.0, \"lang_known\": 2995.0}, {\"category\": \"Non-Official & Non-Aboriginal languages\", \"language\": \"Slovak\", \"mother_tongue\": 17580.0, \"most_at_home\": 5610.0, \"most_at_work\": 100.0, \"lang_known\": 21470.0}, {\"category\": \"Non-Official & Non-Aboriginal languages\", \"language\": \"Slovene (Slovenian)\", \"mother_tongue\": 9785.0, \"most_at_home\": 2055.0, \"most_at_work\": 15.0, \"lang_known\": 11490.0}, {\"category\": \"Non-Official & Non-Aboriginal languages\", \"language\": \"Somali\", \"mother_tongue\": 36755.0, \"most_at_home\": 22895.0, \"most_at_work\": 220.0, \"lang_known\": 49660.0}, {\"category\": \"Aboriginal languages\", \"language\": \"South Slavey\", \"mother_tongue\": 945.0, \"most_at_home\": 370.0, \"most_at_work\": 35.0, \"lang_known\": 1365.0}, {\"category\": \"Aboriginal languages\", \"language\": \"Southern East Cree\", \"mother_tongue\": 45.0, \"most_at_home\": 15.0, \"most_at_work\": 0.0, \"lang_known\": 40.0}, {\"category\": \"Aboriginal languages\", \"language\": \"Southern Tutchone\", \"mother_tongue\": 70.0, \"most_at_home\": 5.0, \"most_at_work\": 0.0, \"lang_known\": 145.0}, {\"category\": \"Non-Official & Non-Aboriginal languages\", \"language\": \"Spanish\", \"mother_tongue\": 458850.0, \"most_at_home\": 263505.0, \"most_at_work\": 13030.0, \"lang_known\": 995260.0}, {\"category\": \"Aboriginal languages\", \"language\": \"Squamish\", \"mother_tongue\": 40.0, \"most_at_home\": 5.0, \"most_at_work\": 10.0, \"lang_known\": 285.0}, {\"category\": \"Aboriginal languages\", \"language\": \"Stoney\", \"mother_tongue\": 3025.0, \"most_at_home\": 1950.0, \"most_at_work\": 240.0, \"lang_known\": 3675.0}, {\"category\": \"Aboriginal languages\", \"language\": \"Straits\", \"mother_tongue\": 80.0, \"most_at_home\": 25.0, \"most_at_work\": 15.0, \"lang_known\": 365.0}, {\"category\": \"Non-Official & Non-Aboriginal languages\", \"language\": \"Swahili\", \"mother_tongue\": 13370.0, \"most_at_home\": 5370.0, \"most_at_work\": 80.0, \"lang_known\": 38685.0}, {\"category\": \"Aboriginal languages\", \"language\": \"Swampy Cree\", \"mother_tongue\": 1440.0, \"most_at_home\": 330.0, \"most_at_work\": 10.0, \"lang_known\": 2350.0}, {\"category\": \"Non-Official & Non-Aboriginal languages\", \"language\": \"Swedish\", \"mother_tongue\": 6840.0, \"most_at_home\": 1050.0, \"most_at_work\": 125.0, \"lang_known\": 14140.0}, {\"category\": \"Non-Official & Non-Aboriginal languages\", \"language\": \"Tagalog (Pilipino, Filipino)\", \"mother_tongue\": 431385.0, \"most_at_home\": 213790.0, \"most_at_work\": 3450.0, \"lang_known\": 612735.0}, {\"category\": \"Aboriginal languages\", \"language\": \"Tahltan\", \"mother_tongue\": 95.0, \"most_at_home\": 5.0, \"most_at_work\": 0.0, \"lang_known\": 265.0}, {\"category\": \"Non-Official & Non-Aboriginal languages\", \"language\": \"Tai-Kadai languages, n.i.e\", \"mother_tongue\": 85.0, \"most_at_home\": 30.0, \"most_at_work\": 0.0, \"lang_known\": 115.0}, {\"category\": \"Non-Official & Non-Aboriginal languages\", \"language\": \"Tamil\", \"mother_tongue\": 140720.0, \"most_at_home\": 96955.0, \"most_at_work\": 2085.0, \"lang_known\": 189860.0}, {\"category\": \"Non-Official & Non-Aboriginal languages\", \"language\": \"Telugu\", \"mother_tongue\": 15660.0, \"most_at_home\": 8280.0, \"most_at_work\": 40.0, \"lang_known\": 23165.0}, {\"category\": \"Non-Official & Non-Aboriginal languages\", \"language\": \"Thai\", \"mother_tongue\": 9255.0, \"most_at_home\": 3365.0, \"most_at_work\": 525.0, \"lang_known\": 15395.0}, {\"category\": \"Aboriginal languages\", \"language\": \"Thompson (Ntlakapamux)\", \"mother_tongue\": 335.0, \"most_at_home\": 20.0, \"most_at_work\": 0.0, \"lang_known\": 450.0}, {\"category\": \"Non-Official & Non-Aboriginal languages\", \"language\": \"Tibetan\", \"mother_tongue\": 6160.0, \"most_at_home\": 4590.0, \"most_at_work\": 50.0, \"lang_known\": 7050.0}, {\"category\": \"Non-Official & Non-Aboriginal languages\", \"language\": \"Tibeto-Burman languages, n.i.e.\", \"mother_tongue\": 1405.0, \"most_at_home\": 655.0, \"most_at_work\": 15.0, \"lang_known\": 2380.0}, {\"category\": \"Non-Official & Non-Aboriginal languages\", \"language\": \"Tigrigna\", \"mother_tongue\": 16645.0, \"most_at_home\": 10205.0, \"most_at_work\": 130.0, \"lang_known\": 21340.0}, {\"category\": \"Aboriginal languages\", \"language\": \"Tsimshian\", \"mother_tongue\": 200.0, \"most_at_home\": 30.0, \"most_at_work\": 10.0, \"lang_known\": 410.0}, {\"category\": \"Non-Official & Non-Aboriginal languages\", \"language\": \"Turkic languages, n.i.e.\", \"mother_tongue\": 1315.0, \"most_at_home\": 455.0, \"most_at_work\": 10.0, \"lang_known\": 1875.0}, {\"category\": \"Non-Official & Non-Aboriginal languages\", \"language\": \"Turkish\", \"mother_tongue\": 32815.0, \"most_at_home\": 18955.0, \"most_at_work\": 690.0, \"lang_known\": 50770.0}, {\"category\": \"Non-Official & Non-Aboriginal languages\", \"language\": \"Ukrainian\", \"mother_tongue\": 102485.0, \"most_at_home\": 28250.0, \"most_at_work\": 1210.0, \"lang_known\": 132115.0}, {\"category\": \"Non-Official & Non-Aboriginal languages\", \"language\": \"Uralic languages, n.i.e.\", \"mother_tongue\": 10.0, \"most_at_home\": 5.0, \"most_at_work\": 0.0, \"lang_known\": 25.0}, {\"category\": \"Non-Official & Non-Aboriginal languages\", \"language\": \"Urdu\", \"mother_tongue\": 210815.0, \"most_at_home\": 128785.0, \"most_at_work\": 1495.0, \"lang_known\": 322220.0}, {\"category\": \"Non-Official & Non-Aboriginal languages\", \"language\": \"Uyghur\", \"mother_tongue\": 1035.0, \"most_at_home\": 610.0, \"most_at_work\": 20.0, \"lang_known\": 1390.0}, {\"category\": \"Non-Official & Non-Aboriginal languages\", \"language\": \"Uzbek\", \"mother_tongue\": 1720.0, \"most_at_home\": 995.0, \"most_at_work\": 15.0, \"lang_known\": 2465.0}, {\"category\": \"Non-Official & Non-Aboriginal languages\", \"language\": \"Vietnamese\", \"mother_tongue\": 156430.0, \"most_at_home\": 104245.0, \"most_at_work\": 8075.0, \"lang_known\": 198895.0}, {\"category\": \"Non-Official & Non-Aboriginal languages\", \"language\": \"Vlaams (Flemish)\", \"mother_tongue\": 3895.0, \"most_at_home\": 355.0, \"most_at_work\": 35.0, \"lang_known\": 4400.0}, {\"category\": \"Non-Official & Non-Aboriginal languages\", \"language\": \"Waray-Waray\", \"mother_tongue\": 1110.0, \"most_at_home\": 310.0, \"most_at_work\": 0.0, \"lang_known\": 1395.0}, {\"category\": \"Non-Official & Non-Aboriginal languages\", \"language\": \"Welsh\", \"mother_tongue\": 1075.0, \"most_at_home\": 95.0, \"most_at_work\": 0.0, \"lang_known\": 1695.0}, {\"category\": \"Non-Official & Non-Aboriginal languages\", \"language\": \"Wolof\", \"mother_tongue\": 3990.0, \"most_at_home\": 1385.0, \"most_at_work\": 10.0, \"lang_known\": 8240.0}, {\"category\": \"Aboriginal languages\", \"language\": \"Woods Cree\", \"mother_tongue\": 1840.0, \"most_at_home\": 800.0, \"most_at_work\": 75.0, \"lang_known\": 2665.0}, {\"category\": \"Non-Official & Non-Aboriginal languages\", \"language\": \"Wu (Shanghainese)\", \"mother_tongue\": 12915.0, \"most_at_home\": 7650.0, \"most_at_work\": 105.0, \"lang_known\": 16530.0}, {\"category\": \"Non-Official & Non-Aboriginal languages\", \"language\": \"Yiddish\", \"mother_tongue\": 13555.0, \"most_at_home\": 7085.0, \"most_at_work\": 895.0, \"lang_known\": 20985.0}, {\"category\": \"Non-Official & Non-Aboriginal languages\", \"language\": \"Yoruba\", \"mother_tongue\": 9080.0, \"most_at_home\": 2615.0, \"most_at_work\": 15.0, \"lang_known\": 22415.0}, {\"category\": \"Non-Official & Non-Aboriginal languages\", \"language\": \"Yoruba\", \"mother_tongue\": 9080.0, \"most_at_home\": 2615.0, \"most_at_work\": 15.0, \"lang_known\": 22415.0}]}}, {\"mode\": \"vega-lite\"});\n</script>",
      "application/papermill.record/text/plain": "alt.Chart(...)"
     },
     "metadata": {
      "scrapbook": {
       "mime_prefix": "application/papermill.record/",
       "name": "can_lang_plot_log"
      }
     },
     "output_type": "display_data"
    }
   ],
   "source": [
    "glue('can_lang_plot_log', can_lang_plot_log, display=False)"
   ]
  },
  {
   "cell_type": "markdown",
   "id": "0deacab7",
   "metadata": {},
   "source": [
    ":::{glue:figure} can_lang_plot_log\n",
    ":figwidth: 700px \n",
    ":name: can_lang_plot_log\n",
    "\n",
    "Scatter plot of number of Canadians reporting a language as their mother tongue vs the primary language at home with log adjusted x and y axes.\n",
    ":::"
   ]
  },
  {
   "cell_type": "code",
   "execution_count": 30,
   "id": "2d263035",
   "metadata": {
    "execution": {
     "iopub.execute_input": "2022-07-19T22:59:15.464700Z",
     "iopub.status.busy": "2022-07-19T22:59:15.464563Z",
     "iopub.status.idle": "2022-07-19T22:59:15.468966Z",
     "shell.execute_reply": "2022-07-19T22:59:15.468693Z"
    },
    "tags": [
     "remove-cell"
    ]
   },
   "outputs": [
    {
     "data": {
      "text/plain": [
       "19460850.0"
      ]
     },
     "metadata": {
      "scrapbook": {
       "mime_prefix": "",
       "name": "english_mother_tongue"
      }
     },
     "output_type": "display_data"
    },
    {
     "data": {
      "text/plain": [
       "35151728"
      ]
     },
     "metadata": {
      "scrapbook": {
       "mime_prefix": "",
       "name": "census_popn"
      }
     },
     "output_type": "display_data"
    },
    {
     "data": {
      "text/plain": [
       "55.36"
      ]
     },
     "metadata": {
      "scrapbook": {
       "mime_prefix": "",
       "name": "result"
      }
     },
     "output_type": "display_data"
    }
   ],
   "source": [
    "english_mother_tongue = can_lang.loc[can_lang['language']=='English'].mother_tongue.values[0]\n",
    "census_popn = int(35151728)\n",
    "result = round((english_mother_tongue/census_popn)*100,2)\n",
    "glue(\"english_mother_tongue\", english_mother_tongue)\n",
    "glue(\"census_popn\", census_popn)\n",
    "glue(\"result\", result)"
   ]
  },
  {
   "cell_type": "markdown",
   "id": "0a00cd53",
   "metadata": {},
   "source": [
    "Similar to some of the examples in Chapter \\@ref(wrangling), \n",
    "we can convert the counts to percentages to give them context \n",
    "and make them easier to understand.\n",
    "We can do this by dividing the number of people reporting a given language \n",
    "as their mother tongue or primary language at home \n",
    "by the number of people who live in Canada and multiplying by 100\\%. \n",
    "For example, \n",
    "the percentage of people who reported that their mother tongue was English \n",
    "in the 2016 Canadian census \n",
    "was {glue:}`english_mother_tongue` / {glue:}`census_popn` $\\times$ \n",
    "`100` \\% = {glue:}`result`\\%\n",
    "\n",
    "Below we use `assign` to calculate the percentage of people reporting a given\n",
    "language as their mother tongue and primary language at home for all the\n",
    "languages in the `can_lang` data set. Since the new columns are appended to the\n",
    "end of the data table, we selected the new columns after the transformation so\n",
    "you can clearly see the mutated output from the table.\n",
    "\\index{mutate}\\index{select}"
   ]
  },
  {
   "cell_type": "code",
   "execution_count": 31,
   "id": "166a2b2f",
   "metadata": {
    "execution": {
     "iopub.execute_input": "2022-07-19T22:59:15.470760Z",
     "iopub.status.busy": "2022-07-19T22:59:15.470627Z",
     "iopub.status.idle": "2022-07-19T22:59:15.476764Z",
     "shell.execute_reply": "2022-07-19T22:59:15.476472Z"
    }
   },
   "outputs": [
    {
     "data": {
      "text/html": [
       "<div>\n",
       "<style scoped>\n",
       "    .dataframe tbody tr th:only-of-type {\n",
       "        vertical-align: middle;\n",
       "    }\n",
       "\n",
       "    .dataframe tbody tr th {\n",
       "        vertical-align: top;\n",
       "    }\n",
       "\n",
       "    .dataframe thead th {\n",
       "        text-align: right;\n",
       "    }\n",
       "</style>\n",
       "<table border=\"1\" class=\"dataframe\">\n",
       "  <thead>\n",
       "    <tr style=\"text-align: right;\">\n",
       "      <th></th>\n",
       "      <th>mother_tongue_percent</th>\n",
       "      <th>most_at_home_percent</th>\n",
       "    </tr>\n",
       "  </thead>\n",
       "  <tbody>\n",
       "    <tr>\n",
       "      <th>0</th>\n",
       "      <td>0.001678</td>\n",
       "      <td>0.000669</td>\n",
       "    </tr>\n",
       "    <tr>\n",
       "      <th>1</th>\n",
       "      <td>0.029188</td>\n",
       "      <td>0.013612</td>\n",
       "    </tr>\n",
       "    <tr>\n",
       "      <th>2</th>\n",
       "      <td>0.003272</td>\n",
       "      <td>0.001266</td>\n",
       "    </tr>\n",
       "    <tr>\n",
       "      <th>3</th>\n",
       "      <td>0.038291</td>\n",
       "      <td>0.017026</td>\n",
       "    </tr>\n",
       "    <tr>\n",
       "      <th>4</th>\n",
       "      <td>0.076511</td>\n",
       "      <td>0.037367</td>\n",
       "    </tr>\n",
       "    <tr>\n",
       "      <th>...</th>\n",
       "      <td>...</td>\n",
       "      <td>...</td>\n",
       "    </tr>\n",
       "    <tr>\n",
       "      <th>210</th>\n",
       "      <td>0.005234</td>\n",
       "      <td>0.002276</td>\n",
       "    </tr>\n",
       "    <tr>\n",
       "      <th>211</th>\n",
       "      <td>0.036741</td>\n",
       "      <td>0.021763</td>\n",
       "    </tr>\n",
       "    <tr>\n",
       "      <th>212</th>\n",
       "      <td>0.038561</td>\n",
       "      <td>0.020155</td>\n",
       "    </tr>\n",
       "    <tr>\n",
       "      <th>214</th>\n",
       "      <td>0.025831</td>\n",
       "      <td>0.007439</td>\n",
       "    </tr>\n",
       "    <tr>\n",
       "      <th>216</th>\n",
       "      <td>0.025831</td>\n",
       "      <td>0.007439</td>\n",
       "    </tr>\n",
       "  </tbody>\n",
       "</table>\n",
       "<p>212 rows × 2 columns</p>\n",
       "</div>"
      ],
      "text/plain": [
       "     mother_tongue_percent  most_at_home_percent\n",
       "0                 0.001678              0.000669\n",
       "1                 0.029188              0.013612\n",
       "2                 0.003272              0.001266\n",
       "3                 0.038291              0.017026\n",
       "4                 0.076511              0.037367\n",
       "..                     ...                   ...\n",
       "210               0.005234              0.002276\n",
       "211               0.036741              0.021763\n",
       "212               0.038561              0.020155\n",
       "214               0.025831              0.007439\n",
       "216               0.025831              0.007439\n",
       "\n",
       "[212 rows x 2 columns]"
      ]
     },
     "execution_count": 31,
     "metadata": {},
     "output_type": "execute_result"
    }
   ],
   "source": [
    "can_lang = can_lang.assign(mother_tongue_percent = (can_lang['mother_tongue'] / 35151728) * 100,\n",
    "                          most_at_home_percent = (can_lang['most_at_home'] / 35151728) * 100)\n",
    "can_lang[['mother_tongue_percent', 'most_at_home_percent']]\n"
   ]
  },
  {
   "cell_type": "markdown",
   "id": "1fc129f3",
   "metadata": {},
   "source": [
    "Finally, we will edit the visualization to use the percentages we just computed\n",
    "(and change our axis labels to reflect this change in \n",
    "units). {numref}`can_lang_plot_percent` displays\n",
    "the final result."
   ]
  },
  {
   "cell_type": "code",
   "execution_count": 32,
   "id": "a4e826df",
   "metadata": {
    "execution": {
     "iopub.execute_input": "2022-07-19T22:59:15.478507Z",
     "iopub.status.busy": "2022-07-19T22:59:15.478367Z",
     "iopub.status.idle": "2022-07-19T22:59:15.482291Z",
     "shell.execute_reply": "2022-07-19T22:59:15.482000Z"
    }
   },
   "outputs": [],
   "source": [
    "can_lang_plot_percent = alt.Chart(can_lang).mark_circle(color='black').encode(\n",
    "    x = alt.X(\"most_at_home_percent\",title = [\"Language spoken most at home\", \"(number of Canadian residents)\"], scale=alt.Scale(type=\"log\"), axis=alt.Axis(tickCount=7)),\n",
    "    y = alt.Y(\"mother_tongue_percent\", title = [\"Mother tongue\", \"(number of Canadian residents)\"], scale=alt.Scale(type=\"log\"), axis=alt.Axis(tickCount=7))).configure_axis(\n",
    "    titleFontSize=12)\n"
   ]
  },
  {
   "cell_type": "code",
   "execution_count": 33,
   "id": "492f0b81",
   "metadata": {
    "execution": {
     "iopub.execute_input": "2022-07-19T22:59:15.484004Z",
     "iopub.status.busy": "2022-07-19T22:59:15.483886Z",
     "iopub.status.idle": "2022-07-19T22:59:15.494897Z",
     "shell.execute_reply": "2022-07-19T22:59:15.494618Z"
    },
    "tags": [
     "remove-cell"
    ]
   },
   "outputs": [
    {
     "data": {
      "application/papermill.record/text/html": "\n<div id=\"altair-viz-e8509e8f7af848758a2e45096fcbd80b\"></div>\n<script type=\"text/javascript\">\n  var VEGA_DEBUG = (typeof VEGA_DEBUG == \"undefined\") ? {} : VEGA_DEBUG;\n  (function(spec, embedOpt){\n    let outputDiv = document.currentScript.previousElementSibling;\n    if (outputDiv.id !== \"altair-viz-e8509e8f7af848758a2e45096fcbd80b\") {\n      outputDiv = document.getElementById(\"altair-viz-e8509e8f7af848758a2e45096fcbd80b\");\n    }\n    const paths = {\n      \"vega\": \"https://cdn.jsdelivr.net/npm//vega@5?noext\",\n      \"vega-lib\": \"https://cdn.jsdelivr.net/npm//vega-lib?noext\",\n      \"vega-lite\": \"https://cdn.jsdelivr.net/npm//vega-lite@4.17.0?noext\",\n      \"vega-embed\": \"https://cdn.jsdelivr.net/npm//vega-embed@6?noext\",\n    };\n\n    function maybeLoadScript(lib, version) {\n      var key = `${lib.replace(\"-\", \"\")}_version`;\n      return (VEGA_DEBUG[key] == version) ?\n        Promise.resolve(paths[lib]) :\n        new Promise(function(resolve, reject) {\n          var s = document.createElement('script');\n          document.getElementsByTagName(\"head\")[0].appendChild(s);\n          s.async = true;\n          s.onload = () => {\n            VEGA_DEBUG[key] = version;\n            return resolve(paths[lib]);\n          };\n          s.onerror = () => reject(`Error loading script: ${paths[lib]}`);\n          s.src = paths[lib];\n        });\n    }\n\n    function showError(err) {\n      outputDiv.innerHTML = `<div class=\"error\" style=\"color:red;\">${err}</div>`;\n      throw err;\n    }\n\n    function displayChart(vegaEmbed) {\n      vegaEmbed(outputDiv, spec, embedOpt)\n        .catch(err => showError(`Javascript Error: ${err.message}<br>This usually means there's a typo in your chart specification. See the javascript console for the full traceback.`));\n    }\n\n    if(typeof define === \"function\" && define.amd) {\n      requirejs.config({paths});\n      require([\"vega-embed\"], displayChart, err => showError(`Error loading script: ${err.message}`));\n    } else {\n      maybeLoadScript(\"vega\", \"5\")\n        .then(() => maybeLoadScript(\"vega-lite\", \"4.17.0\"))\n        .then(() => maybeLoadScript(\"vega-embed\", \"6\"))\n        .catch(showError)\n        .then(() => displayChart(vegaEmbed));\n    }\n  })({\"config\": {\"view\": {\"continuousWidth\": 400, \"continuousHeight\": 300}, \"axis\": {\"titleFontSize\": 12}}, \"data\": {\"name\": \"data-4425298868ef129701a2a71a12652c7e\"}, \"mark\": {\"type\": \"circle\", \"color\": \"black\"}, \"encoding\": {\"x\": {\"axis\": {\"tickCount\": 7}, \"field\": \"most_at_home_percent\", \"scale\": {\"type\": \"log\"}, \"title\": [\"Language spoken most at home\", \"(number of Canadian residents)\"], \"type\": \"quantitative\"}, \"y\": {\"axis\": {\"tickCount\": 7}, \"field\": \"mother_tongue_percent\", \"scale\": {\"type\": \"log\"}, \"title\": [\"Mother tongue\", \"(number of Canadian residents)\"], \"type\": \"quantitative\"}}, \"$schema\": \"https://vega.github.io/schema/vega-lite/v4.17.0.json\", \"datasets\": {\"data-4425298868ef129701a2a71a12652c7e\": [{\"category\": \"Aboriginal languages\", \"language\": \"Aboriginal languages, n.o.s.\", \"mother_tongue\": 590.0, \"most_at_home\": 235.0, \"most_at_work\": 30.0, \"lang_known\": 665.0, \"mother_tongue_percent\": 0.001678438112629911, \"most_at_home_percent\": 0.0006685304346915747}, {\"category\": \"Non-Official & Non-Aboriginal languages\", \"language\": \"Afrikaans\", \"mother_tongue\": 10260.0, \"most_at_home\": 4785.0, \"most_at_work\": 85.0, \"lang_known\": 23415.0, \"mother_tongue_percent\": 0.029187754297598113, \"most_at_home_percent\": 0.013612417574464618}, {\"category\": \"Non-Official & Non-Aboriginal languages\", \"language\": \"Afro-Asiatic languages, n.i.e.\", \"mother_tongue\": 1150.0, \"most_at_home\": 445.0, \"most_at_work\": 10.0, \"lang_known\": 2775.0, \"mother_tongue_percent\": 0.0032715319144481316, \"most_at_home_percent\": 0.0012659406103734075}, {\"category\": \"Non-Official & Non-Aboriginal languages\", \"language\": \"Akan (Twi)\", \"mother_tongue\": 13460.0, \"most_at_home\": 5985.0, \"most_at_work\": 25.0, \"lang_known\": 22150.0, \"mother_tongue_percent\": 0.038291147450845095, \"most_at_home_percent\": 0.017026190006932233}, {\"category\": \"Non-Official & Non-Aboriginal languages\", \"language\": \"Albanian\", \"mother_tongue\": 26895.0, \"most_at_home\": 13135.0, \"most_at_work\": 345.0, \"lang_known\": 31930.0, \"mother_tongue_percent\": 0.07651117464268044, \"most_at_home_percent\": 0.03736658408371844}, {\"category\": \"Aboriginal languages\", \"language\": \"Algonquian languages, n.i.e.\", \"mother_tongue\": 45.0, \"most_at_home\": 10.0, \"most_at_work\": 0.0, \"lang_known\": 120.0, \"mother_tongue_percent\": 0.00012801646621753558, \"most_at_home_percent\": 2.84481036038968e-05}, {\"category\": \"Aboriginal languages\", \"language\": \"Algonquin\", \"mother_tongue\": 1260.0, \"most_at_home\": 370.0, \"most_at_work\": 40.0, \"lang_known\": 2480.0, \"mother_tongue_percent\": 0.0035844610540909966, \"most_at_home_percent\": 0.0010525798333441815}, {\"category\": \"Non-Official & Non-Aboriginal languages\", \"language\": \"American Sign Language\", \"mother_tongue\": 2685.0, \"most_at_home\": 3020.0, \"most_at_work\": 1145.0, \"lang_known\": 21930.0, \"mother_tongue_percent\": 0.00763831581764629, \"most_at_home_percent\": 0.008591327288376834}, {\"category\": \"Non-Official & Non-Aboriginal languages\", \"language\": \"Amharic\", \"mother_tongue\": 22465.0, \"most_at_home\": 12785.0, \"most_at_work\": 200.0, \"lang_known\": 33670.0, \"mother_tongue_percent\": 0.06390866474615416, \"most_at_home_percent\": 0.03637090045758205}, {\"category\": \"Non-Official & Non-Aboriginal languages\", \"language\": \"Arabic\", \"mother_tongue\": 419890.0, \"most_at_home\": 223535.0, \"most_at_work\": 5585.0, \"lang_known\": 629055.0, \"mother_tongue_percent\": 1.1945074222240226, \"most_at_home_percent\": 0.6359146839097071}, {\"category\": \"Non-Official & Non-Aboriginal languages\", \"language\": \"Armenian\", \"mother_tongue\": 33460.0, \"most_at_home\": 21510.0, \"most_at_work\": 450.0, \"lang_known\": 41295.0, \"mother_tongue_percent\": 0.09518735465863869, \"most_at_home_percent\": 0.06119187085198201}, {\"category\": \"Non-Official & Non-Aboriginal languages\", \"language\": \"Assyrian Neo-Aramaic\", \"mother_tongue\": 16070.0, \"most_at_home\": 10510.0, \"most_at_work\": 205.0, \"lang_known\": 19740.0, \"mother_tongue_percent\": 0.04571610249146216, \"most_at_home_percent\": 0.029898956887695536}, {\"category\": \"Aboriginal languages\", \"language\": \"Athabaskan languages, n.i.e.\", \"mother_tongue\": 50.0, \"most_at_home\": 10.0, \"most_at_work\": 0.0, \"lang_known\": 85.0, \"mother_tongue_percent\": 0.000142240518019484, \"most_at_home_percent\": 2.84481036038968e-05}, {\"category\": \"Aboriginal languages\", \"language\": \"Atikamekw\", \"mother_tongue\": 6150.0, \"most_at_home\": 5465.0, \"most_at_work\": 1100.0, \"lang_known\": 6645.0, \"mother_tongue_percent\": 0.01749558371639653, \"most_at_home_percent\": 0.015546888619529601}, {\"category\": \"Non-Official & Non-Aboriginal languages\", \"language\": \"Austro-Asiatic languages, n.i.e\", \"mother_tongue\": 170.0, \"most_at_home\": 80.0, \"most_at_work\": 0.0, \"lang_known\": 190.0, \"mother_tongue_percent\": 0.0004836177612662456, \"most_at_home_percent\": 0.0002275848288311744}, {\"category\": \"Non-Official & Non-Aboriginal languages\", \"language\": \"Austronesian languages, n.i.e.\", \"mother_tongue\": 4195.0, \"most_at_home\": 1160.0, \"most_at_work\": 35.0, \"lang_known\": 5585.0, \"mother_tongue_percent\": 0.011933979461834707, \"most_at_home_percent\": 0.0032999800180520287}, {\"category\": \"Non-Official & Non-Aboriginal languages\", \"language\": \"Azerbaijani\", \"mother_tongue\": 3255.0, \"most_at_home\": 1245.0, \"most_at_work\": 25.0, \"lang_known\": 5455.0, \"mother_tongue_percent\": 0.009259857723068407, \"most_at_home_percent\": 0.0035417888986851516}, {\"category\": \"Aboriginal languages\", \"language\": \"Babine (Wetsuwet'en)\", \"mother_tongue\": 110.0, \"most_at_home\": 20.0, \"most_at_work\": 10.0, \"lang_known\": 210.0, \"mother_tongue_percent\": 0.0003129291396428648, \"most_at_home_percent\": 5.68962072077936e-05}, {\"category\": \"Non-Official & Non-Aboriginal languages\", \"language\": \"Bamanankan\", \"mother_tongue\": 1535.0, \"most_at_home\": 345.0, \"most_at_work\": 0.0, \"lang_known\": 3190.0, \"mother_tongue_percent\": 0.004366783903198159, \"most_at_home_percent\": 0.0009814595743344394}, {\"category\": \"Aboriginal languages\", \"language\": \"Beaver\", \"mother_tongue\": 190.0, \"most_at_home\": 50.0, \"most_at_work\": 0.0, \"lang_known\": 340.0, \"mother_tongue_percent\": 0.0005405139684740392, \"most_at_home_percent\": 0.000142240518019484}, {\"category\": \"Non-Official & Non-Aboriginal languages\", \"language\": \"Belarusan\", \"mother_tongue\": 810.0, \"most_at_home\": 225.0, \"most_at_work\": 0.0, \"lang_known\": 2265.0, \"mother_tongue_percent\": 0.002304296391915641, \"most_at_home_percent\": 0.0006400823310876779}, {\"category\": \"Non-Official & Non-Aboriginal languages\", \"language\": \"Bengali\", \"mother_tongue\": 73125.0, \"most_at_home\": 47350.0, \"most_at_work\": 525.0, \"lang_known\": 91220.0, \"mother_tongue_percent\": 0.20802675760349534, \"most_at_home_percent\": 0.13470177056445135}, {\"category\": \"Non-Official & Non-Aboriginal languages\", \"language\": \"Berber languages, n.i.e.\", \"mother_tongue\": 8985.0, \"most_at_home\": 2615.0, \"most_at_work\": 15.0, \"lang_known\": 12510.0, \"mother_tongue_percent\": 0.025560621088101275, \"most_at_home_percent\": 0.007439179092419013}, {\"category\": \"Non-Official & Non-Aboriginal languages\", \"language\": \"Bikol\", \"mother_tongue\": 1785.0, \"most_at_home\": 290.0, \"most_at_work\": 0.0, \"lang_known\": 2075.0, \"mother_tongue_percent\": 0.0050779864932955785, \"most_at_home_percent\": 0.0008249950045130072}, {\"category\": \"Non-Official & Non-Aboriginal languages\", \"language\": \"Bilen\", \"mother_tongue\": 805.0, \"most_at_home\": 615.0, \"most_at_work\": 15.0, \"lang_known\": 1085.0, \"mother_tongue_percent\": 0.002290072340113692, \"most_at_home_percent\": 0.0017495583716396533}, {\"category\": \"Aboriginal languages\", \"language\": \"Blackfoot\", \"mother_tongue\": 2815.0, \"most_at_home\": 1110.0, \"most_at_work\": 85.0, \"lang_known\": 5645.0, \"mother_tongue_percent\": 0.008008141164496949, \"most_at_home_percent\": 0.0031577395000325446}, {\"category\": \"Non-Official & Non-Aboriginal languages\", \"language\": \"Bosnian\", \"mother_tongue\": 12215.0, \"most_at_home\": 6045.0, \"most_at_work\": 155.0, \"lang_known\": 18265.0, \"mother_tongue_percent\": 0.03474935855215994, \"most_at_home_percent\": 0.017196878628555616}, {\"category\": \"Non-Official & Non-Aboriginal languages\", \"language\": \"Bulgarian\", \"mother_tongue\": 20020.0, \"most_at_home\": 11985.0, \"most_at_work\": 200.0, \"lang_known\": 22425.0, \"mother_tongue_percent\": 0.05695310341500139, \"most_at_home_percent\": 0.034095052169270314}, {\"category\": \"Non-Official & Non-Aboriginal languages\", \"language\": \"Burmese\", \"mother_tongue\": 3585.0, \"most_at_home\": 2245.0, \"most_at_work\": 75.0, \"lang_known\": 4995.0, \"mother_tongue_percent\": 0.010198645141997002, \"most_at_home_percent\": 0.006386599259074831}, {\"category\": \"Non-Official & Non-Aboriginal languages\", \"language\": \"Cantonese\", \"mother_tongue\": 565270.0, \"most_at_home\": 400220.0, \"most_at_work\": 58820.0, \"lang_known\": 699125.0, \"mother_tongue_percent\": 1.6080859524174744, \"most_at_home_percent\": 1.1385500024351576}, {\"category\": \"Aboriginal languages\", \"language\": \"Carrier\", \"mother_tongue\": 1025.0, \"most_at_home\": 250.0, \"most_at_work\": 15.0, \"lang_known\": 2100.0, \"mother_tongue_percent\": 0.0029159306193994217, \"most_at_home_percent\": 0.00071120259009742}, {\"category\": \"Non-Official & Non-Aboriginal languages\", \"language\": \"Catalan\", \"mother_tongue\": 870.0, \"most_at_home\": 350.0, \"most_at_work\": 30.0, \"lang_known\": 2035.0, \"mother_tongue_percent\": 0.0024749850135390213, \"most_at_home_percent\": 0.0009956836261363878}, {\"category\": \"Aboriginal languages\", \"language\": \"Cayuga\", \"mother_tongue\": 45.0, \"most_at_home\": 10.0, \"most_at_work\": 10.0, \"lang_known\": 125.0, \"mother_tongue_percent\": 0.00012801646621753558, \"most_at_home_percent\": 2.84481036038968e-05}, {\"category\": \"Non-Official & Non-Aboriginal languages\", \"language\": \"Cebuano\", \"mother_tongue\": 19890.0, \"most_at_home\": 7205.0, \"most_at_work\": 70.0, \"lang_known\": 27040.0, \"mother_tongue_percent\": 0.056583278068150736, \"most_at_home_percent\": 0.020496858646607642}, {\"category\": \"Non-Official & Non-Aboriginal languages\", \"language\": \"Celtic languages, n.i.e.\", \"mother_tongue\": 525.0, \"most_at_home\": 80.0, \"most_at_work\": 10.0, \"lang_known\": 3595.0, \"mother_tongue_percent\": 0.001493525439204582, \"most_at_home_percent\": 0.0002275848288311744}, {\"category\": \"Non-Official & Non-Aboriginal languages\", \"language\": \"Chaldean Neo-Aramaic\", \"mother_tongue\": 5545.0, \"most_at_home\": 3445.0, \"most_at_work\": 35.0, \"lang_known\": 7115.0, \"mother_tongue_percent\": 0.015774473448360776, \"most_at_home_percent\": 0.009800371691542447}, {\"category\": \"Aboriginal languages\", \"language\": \"Chilcotin\", \"mother_tongue\": 655.0, \"most_at_home\": 255.0, \"most_at_work\": 15.0, \"lang_known\": 1150.0, \"mother_tongue_percent\": 0.0018633507860552402, \"most_at_home_percent\": 0.0007254266418993683}, {\"category\": \"Non-Official & Non-Aboriginal languages\", \"language\": \"Chinese languages, n.i.e.\", \"mother_tongue\": 615.0, \"most_at_home\": 280.0, \"most_at_work\": 0.0, \"lang_known\": 590.0, \"mother_tongue_percent\": 0.0017495583716396533, \"most_at_home_percent\": 0.0007965469009091103}, {\"category\": \"Non-Official & Non-Aboriginal languages\", \"language\": \"Chinese, n.o.s.\", \"mother_tongue\": 38580.0, \"most_at_home\": 23940.0, \"most_at_work\": 2935.0, \"lang_known\": 41685.0, \"mother_tongue_percent\": 0.10975278370383384, \"most_at_home_percent\": 0.06810476002772893}, {\"category\": \"Aboriginal languages\", \"language\": \"Cree, n.o.s.\", \"mother_tongue\": 64050.0, \"most_at_home\": 37950.0, \"most_at_work\": 7800.0, \"lang_known\": 86115.0, \"mother_tongue_percent\": 0.182210103582959, \"most_at_home_percent\": 0.10796055317678836}, {\"category\": \"Non-Official & Non-Aboriginal languages\", \"language\": \"Creole languages, n.i.e.\", \"mother_tongue\": 4985.0, \"most_at_home\": 2005.0, \"most_at_work\": 15.0, \"lang_known\": 16635.0, \"mother_tongue_percent\": 0.014181379646542553, \"most_at_home_percent\": 0.005703844772581308}, {\"category\": \"Non-Official & Non-Aboriginal languages\", \"language\": \"Creole, n.o.s.\", \"mother_tongue\": 64110.0, \"most_at_home\": 24570.0, \"most_at_work\": 310.0, \"lang_known\": 133045.0, \"mother_tongue_percent\": 0.1823807922045824, \"most_at_home_percent\": 0.06989699055477444}, {\"category\": \"Non-Official & Non-Aboriginal languages\", \"language\": \"Croatian\", \"mother_tongue\": 48200.0, \"most_at_home\": 16775.0, \"most_at_work\": 220.0, \"lang_known\": 69835.0, \"mother_tongue_percent\": 0.13711985937078255, \"most_at_home_percent\": 0.04772169379553688}, {\"category\": \"Non-Official & Non-Aboriginal languages\", \"language\": \"Cushitic languages, n.i.e.\", \"mother_tongue\": 365.0, \"most_at_home\": 180.0, \"most_at_work\": 0.0, \"lang_known\": 480.0, \"mother_tongue_percent\": 0.0010383557815422332, \"most_at_home_percent\": 0.0005120658648701423}, {\"category\": \"Non-Official & Non-Aboriginal languages\", \"language\": \"Czech\", \"mother_tongue\": 22295.0, \"most_at_home\": 6235.0, \"most_at_work\": 70.0, \"lang_known\": 28725.0, \"mother_tongue_percent\": 0.06342504698488792, \"most_at_home_percent\": 0.017737392597029656}, {\"category\": \"Aboriginal languages\", \"language\": \"Dakota\", \"mother_tongue\": 1210.0, \"most_at_home\": 255.0, \"most_at_work\": 20.0, \"lang_known\": 1760.0, \"mother_tongue_percent\": 0.0034422205360715124, \"most_at_home_percent\": 0.0007254266418993683}, {\"category\": \"Non-Official & Non-Aboriginal languages\", \"language\": \"Danish\", \"mother_tongue\": 12630.0, \"most_at_home\": 855.0, \"most_at_work\": 85.0, \"lang_known\": 15750.0, \"mother_tongue_percent\": 0.03592995485172166, \"most_at_home_percent\": 0.0024323128581331763}, {\"category\": \"Aboriginal languages\", \"language\": \"Dene\", \"mother_tongue\": 10700.0, \"most_at_home\": 7710.0, \"most_at_work\": 770.0, \"lang_known\": 13060.0, \"mother_tongue_percent\": 0.030439470856169572, \"most_at_home_percent\": 0.021933487878604434}, {\"category\": \"Non-Official & Non-Aboriginal languages\", \"language\": \"Dinka\", \"mother_tongue\": 2120.0, \"most_at_home\": 1130.0, \"most_at_work\": 0.0, \"lang_known\": 2475.0, \"mother_tongue_percent\": 0.006030997964026122, \"most_at_home_percent\": 0.0032146357072403383}, {\"category\": \"Aboriginal languages\", \"language\": \"Dogrib (Tlicho)\", \"mother_tongue\": 1650.0, \"most_at_home\": 1020.0, \"most_at_work\": 165.0, \"lang_known\": 2375.0, \"mother_tongue_percent\": 0.004693937094642972, \"most_at_home_percent\": 0.0029017065675974734}, {\"category\": \"Non-Official & Non-Aboriginal languages\", \"language\": \"Dravidian languages, n.i.e.\", \"mother_tongue\": 490.0, \"most_at_home\": 190.0, \"most_at_work\": 0.0, \"lang_known\": 790.0, \"mother_tongue_percent\": 0.0013939570765909431, \"most_at_home_percent\": 0.0005405139684740392}, {\"category\": \"Non-Official & Non-Aboriginal languages\", \"language\": \"Dutch\", \"mother_tongue\": 99015.0, \"most_at_home\": 9565.0, \"most_at_work\": 1165.0, \"lang_known\": 120870.0, \"mother_tongue_percent\": 0.28167889783398414, \"most_at_home_percent\": 0.02721061109712729}, {\"category\": \"Non-Official & Non-Aboriginal languages\", \"language\": \"Edo\", \"mother_tongue\": 1670.0, \"most_at_home\": 410.0, \"most_at_work\": 0.0, \"lang_known\": 3220.0, \"mother_tongue_percent\": 0.004750833301850765, \"most_at_home_percent\": 0.0011663722477597688}, {\"category\": \"Official languages\", \"language\": \"English\", \"mother_tongue\": 19460850.0, \"most_at_home\": 22162865.0, \"most_at_work\": 15265335.0, \"lang_known\": 29748265.0, \"mother_tongue_percent\": 55.3624277019895, \"most_at_home_percent\": 63.04914796791782}, {\"category\": \"Non-Official & Non-Aboriginal languages\", \"language\": \"Estonian\", \"mother_tongue\": 5445.0, \"most_at_home\": 975.0, \"most_at_work\": 55.0, \"lang_known\": 6070.0, \"mother_tongue_percent\": 0.015489992412321806, \"most_at_home_percent\": 0.002773690101379938}, {\"category\": \"Non-Official & Non-Aboriginal languages\", \"language\": \"Ewe\", \"mother_tongue\": 1760.0, \"most_at_home\": 405.0, \"most_at_work\": 10.0, \"lang_known\": 3000.0, \"mother_tongue_percent\": 0.005006866234285837, \"most_at_home_percent\": 0.0011521481959578205}, {\"category\": \"Non-Official & Non-Aboriginal languages\", \"language\": \"Fijian\", \"mother_tongue\": 745.0, \"most_at_home\": 195.0, \"most_at_work\": 0.0, \"lang_known\": 1665.0, \"mother_tongue_percent\": 0.002119383718490312, \"most_at_home_percent\": 0.0005547380202759875}, {\"category\": \"Non-Official & Non-Aboriginal languages\", \"language\": \"Finnish\", \"mother_tongue\": 15295.0, \"most_at_home\": 2790.0, \"most_at_work\": 105.0, \"lang_known\": 17590.0, \"mother_tongue_percent\": 0.04351137446216015, \"most_at_home_percent\": 0.007937020905487207}, {\"category\": \"Official languages\", \"language\": \"French\", \"mother_tongue\": 7166700.0, \"most_at_home\": 6943800.0, \"most_at_work\": 3825215.0, \"lang_known\": 10242945.0, \"mother_tongue_percent\": 20.387902409804717, \"most_at_home_percent\": 19.753794180473857}, {\"category\": \"Non-Official & Non-Aboriginal languages\", \"language\": \"Frisian\", \"mother_tongue\": 2100.0, \"most_at_home\": 185.0, \"most_at_work\": 40.0, \"lang_known\": 2910.0, \"mother_tongue_percent\": 0.005974101756818328, \"most_at_home_percent\": 0.0005262899166720908}, {\"category\": \"Non-Official & Non-Aboriginal languages\", \"language\": \"Fulah (Pular, Pulaar, Fulfulde)\", \"mother_tongue\": 2825.0, \"most_at_home\": 825.0, \"most_at_work\": 0.0, \"lang_known\": 4725.0, \"mother_tongue_percent\": 0.008036589268100846, \"most_at_home_percent\": 0.002346968547321486}, {\"category\": \"Non-Official & Non-Aboriginal languages\", \"language\": \"Ga\", \"mother_tongue\": 920.0, \"most_at_home\": 250.0, \"most_at_work\": 0.0, \"lang_known\": 2250.0, \"mother_tongue_percent\": 0.0026172255315585055, \"most_at_home_percent\": 0.00071120259009742}, {\"category\": \"Non-Official & Non-Aboriginal languages\", \"language\": \"Ganda\", \"mother_tongue\": 1295.0, \"most_at_home\": 345.0, \"most_at_work\": 25.0, \"lang_known\": 2495.0, \"mother_tongue_percent\": 0.0036840294167046353, \"most_at_home_percent\": 0.0009814595743344394}, {\"category\": \"Non-Official & Non-Aboriginal languages\", \"language\": \"Georgian\", \"mother_tongue\": 1710.0, \"most_at_home\": 1040.0, \"most_at_work\": 25.0, \"lang_known\": 2150.0, \"mother_tongue_percent\": 0.004864625716266353, \"most_at_home_percent\": 0.002958602774805267}, {\"category\": \"Non-Official & Non-Aboriginal languages\", \"language\": \"German\", \"mother_tongue\": 384040.0, \"most_at_home\": 120335.0, \"most_at_work\": 10065.0, \"lang_known\": 502735.0, \"mother_tongue_percent\": 1.0925209708040526, \"most_at_home_percent\": 0.3423302547174921}, {\"category\": \"Non-Official & Non-Aboriginal languages\", \"language\": \"Germanic languages, n.i.e.\", \"mother_tongue\": 525.0, \"most_at_home\": 1630.0, \"most_at_work\": 725.0, \"lang_known\": 8705.0, \"mother_tongue_percent\": 0.001493525439204582, \"most_at_home_percent\": 0.004637040887435178}, {\"category\": \"Aboriginal languages\", \"language\": \"Gitxsan (Gitksan)\", \"mother_tongue\": 880.0, \"most_at_home\": 315.0, \"most_at_work\": 10.0, \"lang_known\": 1305.0, \"mother_tongue_percent\": 0.0025034331171429184, \"most_at_home_percent\": 0.0008961152635227491}, {\"category\": \"Non-Official & Non-Aboriginal languages\", \"language\": \"Greek\", \"mother_tongue\": 106525.0, \"most_at_home\": 44550.0, \"most_at_work\": 1020.0, \"lang_known\": 150965.0, \"mother_tongue_percent\": 0.3030434236405106, \"most_at_home_percent\": 0.12673630155536023}, {\"category\": \"Non-Official & Non-Aboriginal languages\", \"language\": \"Gujarati\", \"mother_tongue\": 108780.0, \"most_at_home\": 64150.0, \"most_at_work\": 885.0, \"lang_known\": 149045.0, \"mother_tongue_percent\": 0.30945847100318935, \"most_at_home_percent\": 0.18249458461899795}, {\"category\": \"Aboriginal languages\", \"language\": \"Gwich'in\", \"mother_tongue\": 255.0, \"most_at_home\": 50.0, \"most_at_work\": 10.0, \"lang_known\": 360.0, \"mother_tongue_percent\": 0.0007254266418993683, \"most_at_home_percent\": 0.000142240518019484}, {\"category\": \"Aboriginal languages\", \"language\": \"Haida\", \"mother_tongue\": 80.0, \"most_at_home\": 10.0, \"most_at_work\": 0.0, \"lang_known\": 465.0, \"mother_tongue_percent\": 0.0002275848288311744, \"most_at_home_percent\": 2.84481036038968e-05}, {\"category\": \"Aboriginal languages\", \"language\": \"Haisla\", \"mother_tongue\": 90.0, \"most_at_home\": 20.0, \"most_at_work\": 0.0, \"lang_known\": 175.0, \"mother_tongue_percent\": 0.00025603293243507116, \"most_at_home_percent\": 5.68962072077936e-05}, {\"category\": \"Non-Official & Non-Aboriginal languages\", \"language\": \"Haitian Creole\", \"mother_tongue\": 3030.0, \"most_at_home\": 1280.0, \"most_at_work\": 25.0, \"lang_known\": 6855.0, \"mother_tongue_percent\": 0.008619775391980729, \"most_at_home_percent\": 0.0036413572612987903}, {\"category\": \"Non-Official & Non-Aboriginal languages\", \"language\": \"Hakka\", \"mother_tongue\": 10910.0, \"most_at_home\": 4085.0, \"most_at_work\": 70.0, \"lang_known\": 12445.0, \"mother_tongue_percent\": 0.031036881031851406, \"most_at_home_percent\": 0.011621050322191843}, {\"category\": \"Aboriginal languages\", \"language\": \"Halkomelem\", \"mother_tongue\": 480.0, \"most_at_home\": 50.0, \"most_at_work\": 20.0, \"lang_known\": 1060.0, \"mother_tongue_percent\": 0.0013655089729870463, \"most_at_home_percent\": 0.000142240518019484}, {\"category\": \"Non-Official & Non-Aboriginal languages\", \"language\": \"Harari\", \"mother_tongue\": 1320.0, \"most_at_home\": 735.0, \"most_at_work\": 0.0, \"lang_known\": 1715.0, \"mother_tongue_percent\": 0.0037551496757143774, \"most_at_home_percent\": 0.0020909356148864147}, {\"category\": \"Non-Official & Non-Aboriginal languages\", \"language\": \"Hebrew\", \"mother_tongue\": 19530.0, \"most_at_home\": 8560.0, \"most_at_work\": 825.0, \"lang_known\": 75020.0, \"mother_tongue_percent\": 0.05555914633841044, \"most_at_home_percent\": 0.02435157668493566}, {\"category\": \"Aboriginal languages\", \"language\": \"Heiltsuk\", \"mother_tongue\": 100.0, \"most_at_home\": 5.0, \"most_at_work\": 10.0, \"lang_known\": 125.0, \"mother_tongue_percent\": 0.000284481036038968, \"most_at_home_percent\": 1.42240518019484e-05}, {\"category\": \"Non-Official & Non-Aboriginal languages\", \"language\": \"Hiligaynon\", \"mother_tongue\": 6880.0, \"most_at_home\": 2210.0, \"most_at_work\": 25.0, \"lang_known\": 7925.0, \"mother_tongue_percent\": 0.019572295279480997, \"most_at_home_percent\": 0.0062870308964611925}, {\"category\": \"Non-Official & Non-Aboriginal languages\", \"language\": \"Hindi\", \"mother_tongue\": 110645.0, \"most_at_home\": 55510.0, \"most_at_work\": 1405.0, \"lang_known\": 433365.0, \"mother_tongue_percent\": 0.31476404232531613, \"most_at_home_percent\": 0.15791542310523113}, {\"category\": \"Non-Official & Non-Aboriginal languages\", \"language\": \"Hmong-Mien languages\", \"mother_tongue\": 795.0, \"most_at_home\": 335.0, \"most_at_work\": 10.0, \"lang_known\": 870.0, \"mother_tongue_percent\": 0.0022616242365097955, \"most_at_home_percent\": 0.0009530114707305427}, {\"category\": \"Non-Official & Non-Aboriginal languages\", \"language\": \"Hungarian\", \"mother_tongue\": 61235.0, \"most_at_home\": 19480.0, \"most_at_work\": 440.0, \"lang_known\": 71285.0, \"mother_tongue_percent\": 0.17420196241846206, \"most_at_home_percent\": 0.055416905820390966}, {\"category\": \"Non-Official & Non-Aboriginal languages\", \"language\": \"Icelandic\", \"mother_tongue\": 1285.0, \"most_at_home\": 270.0, \"most_at_work\": 0.0, \"lang_known\": 1780.0, \"mother_tongue_percent\": 0.0036555813131007382, \"most_at_home_percent\": 0.0007680987973052135}, {\"category\": \"Non-Official & Non-Aboriginal languages\", \"language\": \"Igbo\", \"mother_tongue\": 4235.0, \"most_at_home\": 1000.0, \"most_at_work\": 10.0, \"lang_known\": 8855.0, \"mother_tongue_percent\": 0.012047771876250295, \"most_at_home_percent\": 0.00284481036038968}, {\"category\": \"Non-Official & Non-Aboriginal languages\", \"language\": \"Ilocano\", \"mother_tongue\": 26345.0, \"most_at_home\": 9125.0, \"most_at_work\": 110.0, \"lang_known\": 34530.0, \"mother_tongue_percent\": 0.07494652894446611, \"most_at_home_percent\": 0.025958894538555828}, {\"category\": \"Non-Official & Non-Aboriginal languages\", \"language\": \"Indo-Iranian languages, n.i.e.\", \"mother_tongue\": 5185.0, \"most_at_home\": 2380.0, \"most_at_work\": 20.0, \"lang_known\": 8870.0, \"mother_tongue_percent\": 0.014750341718620491, \"most_at_home_percent\": 0.006770648657727438}, {\"category\": \"Aboriginal languages\", \"language\": \"Inuinnaqtun (Inuvialuktun)\", \"mother_tongue\": 1020.0, \"most_at_home\": 165.0, \"most_at_work\": 30.0, \"lang_known\": 1975.0, \"mother_tongue_percent\": 0.0029017065675974734, \"most_at_home_percent\": 0.0004693937094642972}, {\"category\": \"Aboriginal languages\", \"language\": \"Inuit languages, n.i.e.\", \"mother_tongue\": 310.0, \"most_at_home\": 90.0, \"most_at_work\": 15.0, \"lang_known\": 470.0, \"mother_tongue_percent\": 0.0008818912117208007, \"most_at_home_percent\": 0.00025603293243507116}, {\"category\": \"Aboriginal languages\", \"language\": \"Inuktitut\", \"mother_tongue\": 35210.0, \"most_at_home\": 29230.0, \"most_at_work\": 8795.0, \"lang_known\": 40620.0, \"mother_tongue_percent\": 0.10016577278932062, \"most_at_home_percent\": 0.08315380683419035}, {\"category\": \"Aboriginal languages\", \"language\": \"Iroquoian languages, n.i.e.\", \"mother_tongue\": 35.0, \"most_at_home\": 5.0, \"most_at_work\": 0.0, \"lang_known\": 115.0, \"mother_tongue_percent\": 9.956836261363879e-05, \"most_at_home_percent\": 1.42240518019484e-05}, {\"category\": \"Non-Official & Non-Aboriginal languages\", \"language\": \"Italian\", \"mother_tongue\": 375635.0, \"most_at_home\": 115415.0, \"most_at_work\": 1705.0, \"lang_known\": 574725.0, \"mother_tongue_percent\": 1.0686103397249773, \"most_at_home_percent\": 0.3283337877443749}, {\"category\": \"Non-Official & Non-Aboriginal languages\", \"language\": \"Italic (Romance) languages, n.i.e.\", \"mother_tongue\": 720.0, \"most_at_home\": 175.0, \"most_at_work\": 25.0, \"lang_known\": 2680.0, \"mother_tongue_percent\": 0.0020482634594805693, \"most_at_home_percent\": 0.0004978418130681939}, {\"category\": \"Non-Official & Non-Aboriginal languages\", \"language\": \"Japanese\", \"mother_tongue\": 43640.0, \"most_at_home\": 19785.0, \"most_at_work\": 3255.0, \"lang_known\": 83095.0, \"mother_tongue_percent\": 0.12414752412740562, \"most_at_home_percent\": 0.05628457298030981}, {\"category\": \"Non-Official & Non-Aboriginal languages\", \"language\": \"Kabyle\", \"mother_tongue\": 13150.0, \"most_at_home\": 5490.0, \"most_at_work\": 15.0, \"lang_known\": 17120.0, \"mother_tongue_percent\": 0.03740925623912429, \"most_at_home_percent\": 0.015618008878539341}, {\"category\": \"Non-Official & Non-Aboriginal languages\", \"language\": \"Kannada\", \"mother_tongue\": 3970.0, \"most_at_home\": 1630.0, \"most_at_work\": 10.0, \"lang_known\": 8245.0, \"mother_tongue_percent\": 0.01129389713074703, \"most_at_home_percent\": 0.004637040887435178}, {\"category\": \"Non-Official & Non-Aboriginal languages\", \"language\": \"Karenic languages\", \"mother_tongue\": 4705.0, \"most_at_home\": 3860.0, \"most_at_work\": 135.0, \"lang_known\": 4895.0, \"mother_tongue_percent\": 0.013384832745633443, \"most_at_home_percent\": 0.010980967991104165}, {\"category\": \"Non-Official & Non-Aboriginal languages\", \"language\": \"Kashmiri\", \"mother_tongue\": 565.0, \"most_at_home\": 135.0, \"most_at_work\": 0.0, \"lang_known\": 905.0, \"mother_tongue_percent\": 0.0016073178536201692, \"most_at_home_percent\": 0.00038404939865260677}, {\"category\": \"Aboriginal languages\", \"language\": \"Kaska (Nahani)\", \"mother_tongue\": 180.0, \"most_at_home\": 20.0, \"most_at_work\": 10.0, \"lang_known\": 365.0, \"mother_tongue_percent\": 0.0005120658648701423, \"most_at_home_percent\": 5.68962072077936e-05}, {\"category\": \"Non-Official & Non-Aboriginal languages\", \"language\": \"Khmer (Cambodian)\", \"mother_tongue\": 20130.0, \"most_at_home\": 10885.0, \"most_at_work\": 475.0, \"lang_known\": 27035.0, \"mother_tongue_percent\": 0.057266032554644256, \"most_at_home_percent\": 0.030965760772841664}, {\"category\": \"Non-Official & Non-Aboriginal languages\", \"language\": \"Kinyarwanda (Rwanda)\", \"mother_tongue\": 5250.0, \"most_at_home\": 1530.0, \"most_at_work\": 25.0, \"lang_known\": 7860.0, \"mother_tongue_percent\": 0.014935254392045818, \"most_at_home_percent\": 0.00435255985139621}, {\"category\": \"Non-Official & Non-Aboriginal languages\", \"language\": \"Konkani\", \"mother_tongue\": 3330.0, \"most_at_home\": 720.0, \"most_at_work\": 10.0, \"lang_known\": 6790.0, \"mother_tongue_percent\": 0.009473218500097634, \"most_at_home_percent\": 0.0020482634594805693}, {\"category\": \"Non-Official & Non-Aboriginal languages\", \"language\": \"Korean\", \"mother_tongue\": 153425.0, \"most_at_home\": 109705.0, \"most_at_work\": 12150.0, \"lang_known\": 172750.0, \"mother_tongue_percent\": 0.43646502954278665, \"most_at_home_percent\": 0.31208992058654983}, {\"category\": \"Non-Official & Non-Aboriginal languages\", \"language\": \"Kurdish\", \"mother_tongue\": 11705.0, \"most_at_home\": 6580.0, \"most_at_work\": 185.0, \"lang_known\": 15290.0, \"mother_tongue_percent\": 0.0332985052683612, \"most_at_home_percent\": 0.018718852171364094}, {\"category\": \"Aboriginal languages\", \"language\": \"Kutenai\", \"mother_tongue\": 110.0, \"most_at_home\": 10.0, \"most_at_work\": 0.0, \"lang_known\": 170.0, \"mother_tongue_percent\": 0.0003129291396428648, \"most_at_home_percent\": 2.84481036038968e-05}, {\"category\": \"Aboriginal languages\", \"language\": \"Kwakiutl (Kwak'wala)\", \"mother_tongue\": 325.0, \"most_at_home\": 25.0, \"most_at_work\": 15.0, \"lang_known\": 605.0, \"mother_tongue_percent\": 0.0009245633671266459, \"most_at_home_percent\": 7.1120259009742e-05}, {\"category\": \"Non-Official & Non-Aboriginal languages\", \"language\": \"Lao\", \"mother_tongue\": 12670.0, \"most_at_home\": 6175.0, \"most_at_work\": 150.0, \"lang_known\": 17235.0, \"mother_tongue_percent\": 0.036043747266137245, \"most_at_home_percent\": 0.017566703975406273}, {\"category\": \"Non-Official & Non-Aboriginal languages\", \"language\": \"Latvian\", \"mother_tongue\": 5450.0, \"most_at_home\": 1255.0, \"most_at_work\": 35.0, \"lang_known\": 6500.0, \"mother_tongue_percent\": 0.015504216464123756, \"most_at_home_percent\": 0.003570237002289048}, {\"category\": \"Aboriginal languages\", \"language\": \"Lillooet\", \"mother_tongue\": 315.0, \"most_at_home\": 25.0, \"most_at_work\": 15.0, \"lang_known\": 790.0, \"mother_tongue_percent\": 0.0008961152635227491, \"most_at_home_percent\": 7.1120259009742e-05}, {\"category\": \"Non-Official & Non-Aboriginal languages\", \"language\": \"Lingala\", \"mother_tongue\": 3805.0, \"most_at_home\": 1045.0, \"most_at_work\": 10.0, \"lang_known\": 17010.0, \"mother_tongue_percent\": 0.010824503421282732, \"most_at_home_percent\": 0.0029728268266072154}, {\"category\": \"Non-Official & Non-Aboriginal languages\", \"language\": \"Lithuanian\", \"mother_tongue\": 7075.0, \"most_at_home\": 2015.0, \"most_at_work\": 60.0, \"lang_known\": 8185.0, \"mother_tongue_percent\": 0.020127033299756986, \"most_at_home_percent\": 0.005732292876185205}, {\"category\": \"Non-Official & Non-Aboriginal languages\", \"language\": \"Macedonian\", \"mother_tongue\": 16770.0, \"most_at_home\": 6830.0, \"most_at_work\": 95.0, \"lang_known\": 23075.0, \"mother_tongue_percent\": 0.04770746974373493, \"most_at_home_percent\": 0.019430054761461514}, {\"category\": \"Non-Official & Non-Aboriginal languages\", \"language\": \"Malagasy\", \"mother_tongue\": 1430.0, \"most_at_home\": 430.0, \"most_at_work\": 0.0, \"lang_known\": 2340.0, \"mother_tongue_percent\": 0.004068078815357242, \"most_at_home_percent\": 0.0012232684549675623}, {\"category\": \"Non-Official & Non-Aboriginal languages\", \"language\": \"Malay\", \"mother_tongue\": 12275.0, \"most_at_home\": 3625.0, \"most_at_work\": 140.0, \"lang_known\": 22470.0, \"mother_tongue_percent\": 0.03492004717378332, \"most_at_home_percent\": 0.01031243755641259}, {\"category\": \"Non-Official & Non-Aboriginal languages\", \"language\": \"Malayalam\", \"mother_tongue\": 28565.0, \"most_at_home\": 15440.0, \"most_at_work\": 95.0, \"lang_known\": 37810.0, \"mother_tongue_percent\": 0.08126200794453121, \"most_at_home_percent\": 0.04392387196441666}, {\"category\": \"Aboriginal languages\", \"language\": \"Malecite\", \"mother_tongue\": 300.0, \"most_at_home\": 55.0, \"most_at_work\": 10.0, \"lang_known\": 760.0, \"mother_tongue_percent\": 0.0008534431081169041, \"most_at_home_percent\": 0.0001564645698214324}, {\"category\": \"Non-Official & Non-Aboriginal languages\", \"language\": \"Maltese\", \"mother_tongue\": 5565.0, \"most_at_home\": 1125.0, \"most_at_work\": 25.0, \"lang_known\": 7625.0, \"mother_tongue_percent\": 0.015831369655568566, \"most_at_home_percent\": 0.0032004116554383896}, {\"category\": \"Non-Official & Non-Aboriginal languages\", \"language\": \"Mandarin\", \"mother_tongue\": 592040.0, \"most_at_home\": 462890.0, \"most_at_work\": 60090.0, \"lang_known\": 814450.0, \"mother_tongue_percent\": 1.684241525765106, \"most_at_home_percent\": 1.316834267720779}, {\"category\": \"Non-Official & Non-Aboriginal languages\", \"language\": \"Marathi\", \"mother_tongue\": 8295.0, \"most_at_home\": 3780.0, \"most_at_work\": 30.0, \"lang_known\": 15565.0, \"mother_tongue_percent\": 0.023597701939432395, \"most_at_home_percent\": 0.01075338316227299}, {\"category\": \"Aboriginal languages\", \"language\": \"Mi'kmaq\", \"mother_tongue\": 6690.0, \"most_at_home\": 3565.0, \"most_at_work\": 915.0, \"lang_known\": 9025.0, \"mother_tongue_percent\": 0.019031781311006957, \"most_at_home_percent\": 0.010141748934789209}, {\"category\": \"Aboriginal languages\", \"language\": \"Michif\", \"mother_tongue\": 465.0, \"most_at_home\": 80.0, \"most_at_work\": 10.0, \"lang_known\": 1210.0, \"mother_tongue_percent\": 0.001322836817581201, \"most_at_home_percent\": 0.0002275848288311744}, {\"category\": \"Non-Official & Non-Aboriginal languages\", \"language\": \"Min Dong\", \"mother_tongue\": 1230.0, \"most_at_home\": 345.0, \"most_at_work\": 30.0, \"lang_known\": 1045.0, \"mother_tongue_percent\": 0.0034991167432793066, \"most_at_home_percent\": 0.0009814595743344394}, {\"category\": \"Non-Official & Non-Aboriginal languages\", \"language\": \"Min Nan (Chaochow, Teochow, Fukien, Taiwanese)\", \"mother_tongue\": 31800.0, \"most_at_home\": 13965.0, \"most_at_work\": 565.0, \"lang_known\": 42840.0, \"mother_tongue_percent\": 0.09046496946039181, \"most_at_home_percent\": 0.03972777668284188}, {\"category\": \"Aboriginal languages\", \"language\": \"Mohawk\", \"mother_tongue\": 985.0, \"most_at_home\": 255.0, \"most_at_work\": 30.0, \"lang_known\": 2415.0, \"mother_tongue_percent\": 0.0028021382049838346, \"most_at_home_percent\": 0.0007254266418993683}, {\"category\": \"Non-Official & Non-Aboriginal languages\", \"language\": \"Mongolian\", \"mother_tongue\": 1575.0, \"most_at_home\": 905.0, \"most_at_work\": 10.0, \"lang_known\": 2095.0, \"mother_tongue_percent\": 0.004480576317613745, \"most_at_home_percent\": 0.0025745533761526605}, {\"category\": \"Aboriginal languages\", \"language\": \"Montagnais (Innu)\", \"mother_tongue\": 10235.0, \"most_at_home\": 8585.0, \"most_at_work\": 2055.0, \"lang_known\": 11445.0, \"mother_tongue_percent\": 0.029116634038588374, \"most_at_home_percent\": 0.0244226969439454}, {\"category\": \"Aboriginal languages\", \"language\": \"Moose Cree\", \"mother_tongue\": 105.0, \"most_at_home\": 10.0, \"most_at_work\": 0.0, \"lang_known\": 195.0, \"mother_tongue_percent\": 0.0002987050878409164, \"most_at_home_percent\": 2.84481036038968e-05}, {\"category\": \"Aboriginal languages\", \"language\": \"Naskapi\", \"mother_tongue\": 1205.0, \"most_at_home\": 1195.0, \"most_at_work\": 370.0, \"lang_known\": 1465.0, \"mother_tongue_percent\": 0.003427996484269564, \"most_at_home_percent\": 0.003399548380665667}, {\"category\": \"Non-Official & Non-Aboriginal languages\", \"language\": \"Nepali\", \"mother_tongue\": 18275.0, \"most_at_home\": 13375.0, \"most_at_work\": 195.0, \"lang_known\": 21385.0, \"mother_tongue_percent\": 0.0519889093361214, \"most_at_home_percent\": 0.03804933857021197}, {\"category\": \"Non-Official & Non-Aboriginal languages\", \"language\": \"Niger-Congo languages, n.i.e.\", \"mother_tongue\": 19135.0, \"most_at_home\": 4010.0, \"most_at_work\": 30.0, \"lang_known\": 40760.0, \"mother_tongue_percent\": 0.05443544624605652, \"most_at_home_percent\": 0.011407689545162617}, {\"category\": \"Non-Official & Non-Aboriginal languages\", \"language\": \"Nilo-Saharan languages, n.i.e.\", \"mother_tongue\": 3750.0, \"most_at_home\": 1520.0, \"most_at_work\": 0.0, \"lang_known\": 4550.0, \"mother_tongue_percent\": 0.010668038851461299, \"most_at_home_percent\": 0.004324111747792314}, {\"category\": \"Aboriginal languages\", \"language\": \"Nisga'a\", \"mother_tongue\": 400.0, \"most_at_home\": 75.0, \"most_at_work\": 10.0, \"lang_known\": 1055.0, \"mother_tongue_percent\": 0.001137924144155872, \"most_at_home_percent\": 0.00021336077702922601}, {\"category\": \"Aboriginal languages\", \"language\": \"North Slavey (Hare)\", \"mother_tongue\": 765.0, \"most_at_home\": 340.0, \"most_at_work\": 95.0, \"lang_known\": 1005.0, \"mother_tongue_percent\": 0.002176279925698105, \"most_at_home_percent\": 0.0009672355225324912}, {\"category\": \"Aboriginal languages\", \"language\": \"Northern East Cree\", \"mother_tongue\": 315.0, \"most_at_home\": 110.0, \"most_at_work\": 35.0, \"lang_known\": 550.0, \"mother_tongue_percent\": 0.0008961152635227491, \"most_at_home_percent\": 0.0003129291396428648}, {\"category\": \"Aboriginal languages\", \"language\": \"Northern Tutchone\", \"mother_tongue\": 220.0, \"most_at_home\": 30.0, \"most_at_work\": 0.0, \"lang_known\": 280.0, \"mother_tongue_percent\": 0.0006258582792857296, \"most_at_home_percent\": 8.534431081169039e-05}, {\"category\": \"Non-Official & Non-Aboriginal languages\", \"language\": \"Norwegian\", \"mother_tongue\": 4615.0, \"most_at_home\": 350.0, \"most_at_work\": 70.0, \"lang_known\": 8120.0, \"mother_tongue_percent\": 0.013128799813198373, \"most_at_home_percent\": 0.0009956836261363878}, {\"category\": \"Aboriginal languages\", \"language\": \"Nuu-chah-nulth (Nootka)\", \"mother_tongue\": 280.0, \"most_at_home\": 30.0, \"most_at_work\": 10.0, \"lang_known\": 560.0, \"mother_tongue_percent\": 0.0007965469009091103, \"most_at_home_percent\": 8.534431081169039e-05}, {\"category\": \"Aboriginal languages\", \"language\": \"Oji-Cree\", \"mother_tongue\": 12855.0, \"most_at_home\": 7905.0, \"most_at_work\": 1080.0, \"lang_known\": 15605.0, \"mother_tongue_percent\": 0.03657003718280933, \"most_at_home_percent\": 0.022488225898880422}, {\"category\": \"Aboriginal languages\", \"language\": \"Ojibway\", \"mother_tongue\": 17885.0, \"most_at_home\": 6175.0, \"most_at_work\": 765.0, \"lang_known\": 28580.0, \"mother_tongue_percent\": 0.05087943329556943, \"most_at_home_percent\": 0.017566703975406273}, {\"category\": \"Aboriginal languages\", \"language\": \"Okanagan\", \"mother_tongue\": 275.0, \"most_at_home\": 80.0, \"most_at_work\": 20.0, \"lang_known\": 820.0, \"mother_tongue_percent\": 0.000782322849107162, \"most_at_home_percent\": 0.0002275848288311744}, {\"category\": \"Aboriginal languages\", \"language\": \"Oneida\", \"mother_tongue\": 60.0, \"most_at_home\": 15.0, \"most_at_work\": 0.0, \"lang_known\": 185.0, \"mother_tongue_percent\": 0.00017068862162338078, \"most_at_home_percent\": 4.2672155405845196e-05}, {\"category\": \"Non-Official & Non-Aboriginal languages\", \"language\": \"Oriya (Odia)\", \"mother_tongue\": 1055.0, \"most_at_home\": 475.0, \"most_at_work\": 0.0, \"lang_known\": 1530.0, \"mother_tongue_percent\": 0.003001274930211112, \"most_at_home_percent\": 0.001351284921185098}, {\"category\": \"Non-Official & Non-Aboriginal languages\", \"language\": \"Oromo\", \"mother_tongue\": 4960.0, \"most_at_home\": 3410.0, \"most_at_work\": 45.0, \"lang_known\": 6245.0, \"mother_tongue_percent\": 0.014110259387532811, \"most_at_home_percent\": 0.009700803328928807}, {\"category\": \"Non-Official & Non-Aboriginal languages\", \"language\": \"Other languages, n.i.e.\", \"mother_tongue\": 3685.0, \"most_at_home\": 1110.0, \"most_at_work\": 80.0, \"lang_known\": 9730.0, \"mother_tongue_percent\": 0.01048312617803597, \"most_at_home_percent\": 0.0031577395000325446}, {\"category\": \"Aboriginal languages\", \"language\": \"Ottawa (Odawa)\", \"mother_tongue\": 150.0, \"most_at_home\": 75.0, \"most_at_work\": 0.0, \"lang_known\": 205.0, \"mother_tongue_percent\": 0.00042672155405845203, \"most_at_home_percent\": 0.00021336077702922601}, {\"category\": \"Non-Official & Non-Aboriginal languages\", \"language\": \"Pampangan (Kapampangan, Pampango)\", \"mother_tongue\": 4045.0, \"most_at_home\": 1200.0, \"most_at_work\": 10.0, \"lang_known\": 5425.0, \"mother_tongue_percent\": 0.011507257907776255, \"most_at_home_percent\": 0.0034137724324676162}, {\"category\": \"Non-Official & Non-Aboriginal languages\", \"language\": \"Pangasinan\", \"mother_tongue\": 1390.0, \"most_at_home\": 240.0, \"most_at_work\": 0.0, \"lang_known\": 1800.0, \"mother_tongue_percent\": 0.003954286400941655, \"most_at_home_percent\": 0.0006827544864935231}, {\"category\": \"Non-Official & Non-Aboriginal languages\", \"language\": \"Pashto\", \"mother_tongue\": 16905.0, \"most_at_home\": 10590.0, \"most_at_work\": 50.0, \"lang_known\": 23180.0, \"mother_tongue_percent\": 0.04809151914238754, \"most_at_home_percent\": 0.030126541716526713}, {\"category\": \"Non-Official & Non-Aboriginal languages\", \"language\": \"Persian (Farsi)\", \"mother_tongue\": 214200.0, \"most_at_home\": 143025.0, \"most_at_work\": 4580.0, \"lang_known\": 252325.0, \"mother_tongue_percent\": 0.6093583791954694, \"most_at_home_percent\": 0.40687900179473396}, {\"category\": \"Aboriginal languages\", \"language\": \"Plains Cree\", \"mother_tongue\": 3065.0, \"most_at_home\": 1345.0, \"most_at_work\": 95.0, \"lang_known\": 5905.0, \"mother_tongue_percent\": 0.008719343754594369, \"most_at_home_percent\": 0.0038262699347241195}, {\"category\": \"Non-Official & Non-Aboriginal languages\", \"language\": \"Polish\", \"mother_tongue\": 181710.0, \"most_at_home\": 74780.0, \"most_at_work\": 2495.0, \"lang_known\": 214965.0, \"mother_tongue_percent\": 0.5169304905864087, \"most_at_home_percent\": 0.21273491874994024}, {\"category\": \"Non-Official & Non-Aboriginal languages\", \"language\": \"Portuguese\", \"mother_tongue\": 221535.0, \"most_at_home\": 98710.0, \"most_at_work\": 7485.0, \"lang_known\": 295955.0, \"mother_tongue_percent\": 0.6302250631889278, \"most_at_home_percent\": 0.2808112306740653}, {\"category\": \"Non-Official & Non-Aboriginal languages\", \"language\": \"Punjabi (Panjabi)\", \"mother_tongue\": 501680.0, \"most_at_home\": 349140.0, \"most_at_work\": 27865.0, \"lang_known\": 668240.0, \"mother_tongue_percent\": 1.4271844616002944, \"most_at_home_percent\": 0.9932370892264529}, {\"category\": \"Non-Official & Non-Aboriginal languages\", \"language\": \"Quebec Sign Language\", \"mother_tongue\": 695.0, \"most_at_home\": 730.0, \"most_at_work\": 130.0, \"lang_known\": 4665.0, \"mother_tongue_percent\": 0.0019771432004708277, \"most_at_home_percent\": 0.0020767115630844664}, {\"category\": \"Non-Official & Non-Aboriginal languages\", \"language\": \"Romanian\", \"mother_tongue\": 96660.0, \"most_at_home\": 53325.0, \"most_at_work\": 745.0, \"lang_known\": 115050.0, \"mother_tongue_percent\": 0.27497936943526646, \"most_at_home_percent\": 0.15169951246777968}, {\"category\": \"Non-Official & Non-Aboriginal languages\", \"language\": \"Rundi (Kirundi)\", \"mother_tongue\": 5850.0, \"most_at_home\": 2110.0, \"most_at_work\": 0.0, \"lang_known\": 8590.0, \"mother_tongue_percent\": 0.016642140608279628, \"most_at_home_percent\": 0.006002549860422224}, {\"category\": \"Non-Official & Non-Aboriginal languages\", \"language\": \"Russian\", \"mother_tongue\": 188255.0, \"most_at_home\": 116595.0, \"most_at_work\": 4855.0, \"lang_known\": 269645.0, \"mother_tongue_percent\": 0.5355497743951592, \"most_at_home_percent\": 0.3316906639696347}, {\"category\": \"Aboriginal languages\", \"language\": \"Salish languages, n.i.e.\", \"mother_tongue\": 260.0, \"most_at_home\": 25.0, \"most_at_work\": 0.0, \"lang_known\": 560.0, \"mother_tongue_percent\": 0.0007396506937013168, \"most_at_home_percent\": 7.1120259009742e-05}, {\"category\": \"Aboriginal languages\", \"language\": \"Sarsi (Sarcee)\", \"mother_tongue\": 80.0, \"most_at_home\": 10.0, \"most_at_work\": 0.0, \"lang_known\": 145.0, \"mother_tongue_percent\": 0.0002275848288311744, \"most_at_home_percent\": 2.84481036038968e-05}, {\"category\": \"Non-Official & Non-Aboriginal languages\", \"language\": \"Scottish Gaelic\", \"mother_tongue\": 1090.0, \"most_at_home\": 190.0, \"most_at_work\": 15.0, \"lang_known\": 3980.0, \"mother_tongue_percent\": 0.003100843292824751, \"most_at_home_percent\": 0.0005405139684740392}, {\"category\": \"Aboriginal languages\", \"language\": \"Sekani\", \"mother_tongue\": 85.0, \"most_at_home\": 15.0, \"most_at_work\": 0.0, \"lang_known\": 185.0, \"mother_tongue_percent\": 0.0002418088806331228, \"most_at_home_percent\": 4.2672155405845196e-05}, {\"category\": \"Non-Official & Non-Aboriginal languages\", \"language\": \"Semitic languages, n.i.e.\", \"mother_tongue\": 2150.0, \"most_at_home\": 1205.0, \"most_at_work\": 65.0, \"lang_known\": 3220.0, \"mother_tongue_percent\": 0.006116342274837812, \"most_at_home_percent\": 0.003427996484269564}, {\"category\": \"Non-Official & Non-Aboriginal languages\", \"language\": \"Serbian\", \"mother_tongue\": 57350.0, \"most_at_home\": 31750.0, \"most_at_work\": 530.0, \"lang_known\": 73780.0, \"mother_tongue_percent\": 0.16314987416834814, \"most_at_home_percent\": 0.09032272894237234}, {\"category\": \"Non-Official & Non-Aboriginal languages\", \"language\": \"Serbo-Croatian\", \"mother_tongue\": 9550.0, \"most_at_home\": 3890.0, \"most_at_work\": 30.0, \"lang_known\": 11275.0, \"mother_tongue_percent\": 0.027167938941721443, \"most_at_home_percent\": 0.011066312301915855}, {\"category\": \"Non-Official & Non-Aboriginal languages\", \"language\": \"Shona\", \"mother_tongue\": 3185.0, \"most_at_home\": 1035.0, \"most_at_work\": 0.0, \"lang_known\": 5430.0, \"mother_tongue_percent\": 0.00906072099784113, \"most_at_home_percent\": 0.0029443787230033183}, {\"category\": \"Aboriginal languages\", \"language\": \"Shuswap (Secwepemctsin)\", \"mother_tongue\": 445.0, \"most_at_home\": 50.0, \"most_at_work\": 35.0, \"lang_known\": 1305.0, \"mother_tongue_percent\": 0.0012659406103734075, \"most_at_home_percent\": 0.000142240518019484}, {\"category\": \"Non-Official & Non-Aboriginal languages\", \"language\": \"Sign languages, n.i.e\", \"mother_tongue\": 4125.0, \"most_at_home\": 6690.0, \"most_at_work\": 645.0, \"lang_known\": 22280.0, \"mother_tongue_percent\": 0.01173484273660743, \"most_at_home_percent\": 0.019031781311006957}, {\"category\": \"Non-Official & Non-Aboriginal languages\", \"language\": \"Sindhi\", \"mother_tongue\": 11860.0, \"most_at_home\": 4975.0, \"most_at_work\": 35.0, \"lang_known\": 20260.0, \"mother_tongue_percent\": 0.0337394508742216, \"most_at_home_percent\": 0.014152931542938656}, {\"category\": \"Non-Official & Non-Aboriginal languages\", \"language\": \"Sinhala (Sinhalese)\", \"mother_tongue\": 16335.0, \"most_at_home\": 7790.0, \"most_at_work\": 40.0, \"lang_known\": 27825.0, \"mother_tongue_percent\": 0.046469977236965415, \"most_at_home_percent\": 0.022161072707435607}, {\"category\": \"Aboriginal languages\", \"language\": \"Siouan languages, n.i.e.\", \"mother_tongue\": 55.0, \"most_at_home\": 20.0, \"most_at_work\": 0.0, \"lang_known\": 140.0, \"mother_tongue_percent\": 0.0001564645698214324, \"most_at_home_percent\": 5.68962072077936e-05}, {\"category\": \"Aboriginal languages\", \"language\": \"Slavey, n.o.s.\", \"mother_tongue\": 280.0, \"most_at_home\": 105.0, \"most_at_work\": 10.0, \"lang_known\": 675.0, \"mother_tongue_percent\": 0.0007965469009091103, \"most_at_home_percent\": 0.0002987050878409164}, {\"category\": \"Non-Official & Non-Aboriginal languages\", \"language\": \"Slavic languages, n.i.e.\", \"mother_tongue\": 2420.0, \"most_at_home\": 670.0, \"most_at_work\": 10.0, \"lang_known\": 2995.0, \"mother_tongue_percent\": 0.006884441072143025, \"most_at_home_percent\": 0.0019060229414610854}, {\"category\": \"Non-Official & Non-Aboriginal languages\", \"language\": \"Slovak\", \"mother_tongue\": 17580.0, \"most_at_home\": 5610.0, \"most_at_work\": 100.0, \"lang_known\": 21470.0, \"mother_tongue_percent\": 0.05001176613565057, \"most_at_home_percent\": 0.015959386121786105}, {\"category\": \"Non-Official & Non-Aboriginal languages\", \"language\": \"Slovene (Slovenian)\", \"mother_tongue\": 9785.0, \"most_at_home\": 2055.0, \"most_at_work\": 15.0, \"lang_known\": 11490.0, \"mother_tongue_percent\": 0.027836469376413014, \"most_at_home_percent\": 0.005846085290600792}, {\"category\": \"Non-Official & Non-Aboriginal languages\", \"language\": \"Somali\", \"mother_tongue\": 36755.0, \"most_at_home\": 22895.0, \"most_at_work\": 220.0, \"lang_known\": 49660.0, \"mother_tongue_percent\": 0.10456100479612268, \"most_at_home_percent\": 0.06513193320112172}, {\"category\": \"Aboriginal languages\", \"language\": \"South Slavey\", \"mother_tongue\": 945.0, \"most_at_home\": 370.0, \"most_at_work\": 35.0, \"lang_known\": 1365.0, \"mother_tongue_percent\": 0.0026883457905682476, \"most_at_home_percent\": 0.0010525798333441815}, {\"category\": \"Aboriginal languages\", \"language\": \"Southern East Cree\", \"mother_tongue\": 45.0, \"most_at_home\": 15.0, \"most_at_work\": 0.0, \"lang_known\": 40.0, \"mother_tongue_percent\": 0.00012801646621753558, \"most_at_home_percent\": 4.2672155405845196e-05}, {\"category\": \"Aboriginal languages\", \"language\": \"Southern Tutchone\", \"mother_tongue\": 70.0, \"most_at_home\": 5.0, \"most_at_work\": 0.0, \"lang_known\": 145.0, \"mother_tongue_percent\": 0.00019913672522727758, \"most_at_home_percent\": 1.42240518019484e-05}, {\"category\": \"Non-Official & Non-Aboriginal languages\", \"language\": \"Spanish\", \"mother_tongue\": 458850.0, \"most_at_home\": 263505.0, \"most_at_work\": 13030.0, \"lang_known\": 995260.0, \"mother_tongue_percent\": 1.3053412338648045, \"most_at_home_percent\": 0.7496217540144826}, {\"category\": \"Aboriginal languages\", \"language\": \"Squamish\", \"mother_tongue\": 40.0, \"most_at_home\": 5.0, \"most_at_work\": 10.0, \"lang_known\": 285.0, \"mother_tongue_percent\": 0.0001137924144155872, \"most_at_home_percent\": 1.42240518019484e-05}, {\"category\": \"Aboriginal languages\", \"language\": \"Stoney\", \"mother_tongue\": 3025.0, \"most_at_home\": 1950.0, \"most_at_work\": 240.0, \"lang_known\": 3675.0, \"mother_tongue_percent\": 0.008605551340178782, \"most_at_home_percent\": 0.005547380202759876}, {\"category\": \"Aboriginal languages\", \"language\": \"Straits\", \"mother_tongue\": 80.0, \"most_at_home\": 25.0, \"most_at_work\": 15.0, \"lang_known\": 365.0, \"mother_tongue_percent\": 0.0002275848288311744, \"most_at_home_percent\": 7.1120259009742e-05}, {\"category\": \"Non-Official & Non-Aboriginal languages\", \"language\": \"Swahili\", \"mother_tongue\": 13370.0, \"most_at_home\": 5370.0, \"most_at_work\": 80.0, \"lang_known\": 38685.0, \"mother_tongue_percent\": 0.038035114518410025, \"most_at_home_percent\": 0.01527663163529258}, {\"category\": \"Aboriginal languages\", \"language\": \"Swampy Cree\", \"mother_tongue\": 1440.0, \"most_at_home\": 330.0, \"most_at_work\": 10.0, \"lang_known\": 2350.0, \"mother_tongue_percent\": 0.004096526918961139, \"most_at_home_percent\": 0.0009387874189285944}, {\"category\": \"Non-Official & Non-Aboriginal languages\", \"language\": \"Swedish\", \"mother_tongue\": 6840.0, \"most_at_home\": 1050.0, \"most_at_work\": 125.0, \"lang_known\": 14140.0, \"mother_tongue_percent\": 0.01945850286506541, \"most_at_home_percent\": 0.002987050878409164}, {\"category\": \"Non-Official & Non-Aboriginal languages\", \"language\": \"Tagalog (Pilipino, Filipino)\", \"mother_tongue\": 431385.0, \"most_at_home\": 213790.0, \"most_at_work\": 3450.0, \"lang_known\": 612735.0, \"mother_tongue_percent\": 1.227208517316702, \"most_at_home_percent\": 0.6081920069477096}, {\"category\": \"Aboriginal languages\", \"language\": \"Tahltan\", \"mother_tongue\": 95.0, \"most_at_home\": 5.0, \"most_at_work\": 0.0, \"lang_known\": 265.0, \"mother_tongue_percent\": 0.0002702569842370196, \"most_at_home_percent\": 1.42240518019484e-05}, {\"category\": \"Non-Official & Non-Aboriginal languages\", \"language\": \"Tai-Kadai languages, n.i.e\", \"mother_tongue\": 85.0, \"most_at_home\": 30.0, \"most_at_work\": 0.0, \"lang_known\": 115.0, \"mother_tongue_percent\": 0.0002418088806331228, \"most_at_home_percent\": 8.534431081169039e-05}, {\"category\": \"Non-Official & Non-Aboriginal languages\", \"language\": \"Tamil\", \"mother_tongue\": 140720.0, \"most_at_home\": 96955.0, \"most_at_work\": 2085.0, \"lang_known\": 189860.0, \"mother_tongue_percent\": 0.4003217139140357, \"most_at_home_percent\": 0.2758185884915814}, {\"category\": \"Non-Official & Non-Aboriginal languages\", \"language\": \"Telugu\", \"mother_tongue\": 15660.0, \"most_at_home\": 8280.0, \"most_at_work\": 40.0, \"lang_known\": 23165.0, \"mother_tongue_percent\": 0.04454973024370239, \"most_at_home_percent\": 0.023555029784026547}, {\"category\": \"Non-Official & Non-Aboriginal languages\", \"language\": \"Thai\", \"mother_tongue\": 9255.0, \"most_at_home\": 3365.0, \"most_at_work\": 525.0, \"lang_known\": 15395.0, \"mother_tongue_percent\": 0.026328719885406485, \"most_at_home_percent\": 0.009572786862711274}, {\"category\": \"Aboriginal languages\", \"language\": \"Thompson (Ntlakapamux)\", \"mother_tongue\": 335.0, \"most_at_home\": 20.0, \"most_at_work\": 0.0, \"lang_known\": 450.0, \"mother_tongue_percent\": 0.0009530114707305427, \"most_at_home_percent\": 5.68962072077936e-05}, {\"category\": \"Non-Official & Non-Aboriginal languages\", \"language\": \"Tibetan\", \"mother_tongue\": 6160.0, \"most_at_home\": 4590.0, \"most_at_work\": 50.0, \"lang_known\": 7050.0, \"mother_tongue_percent\": 0.017524031820000428, \"most_at_home_percent\": 0.01305767955418863}, {\"category\": \"Non-Official & Non-Aboriginal languages\", \"language\": \"Tibeto-Burman languages, n.i.e.\", \"mother_tongue\": 1405.0, \"most_at_home\": 655.0, \"most_at_work\": 15.0, \"lang_known\": 2380.0, \"mother_tongue_percent\": 0.0039969585563475, \"most_at_home_percent\": 0.0018633507860552402}, {\"category\": \"Non-Official & Non-Aboriginal languages\", \"language\": \"Tigrigna\", \"mother_tongue\": 16645.0, \"most_at_home\": 10205.0, \"most_at_work\": 130.0, \"lang_known\": 21340.0, \"mother_tongue_percent\": 0.04735186844868622, \"most_at_home_percent\": 0.02903128972777668}, {\"category\": \"Aboriginal languages\", \"language\": \"Tsimshian\", \"mother_tongue\": 200.0, \"most_at_home\": 30.0, \"most_at_work\": 10.0, \"lang_known\": 410.0, \"mother_tongue_percent\": 0.000568962072077936, \"most_at_home_percent\": 8.534431081169039e-05}, {\"category\": \"Non-Official & Non-Aboriginal languages\", \"language\": \"Turkic languages, n.i.e.\", \"mother_tongue\": 1315.0, \"most_at_home\": 455.0, \"most_at_work\": 10.0, \"lang_known\": 1875.0, \"mother_tongue_percent\": 0.0037409256239124295, \"most_at_home_percent\": 0.0012943887139773042}, {\"category\": \"Non-Official & Non-Aboriginal languages\", \"language\": \"Turkish\", \"mother_tongue\": 32815.0, \"most_at_home\": 18955.0, \"most_at_work\": 690.0, \"lang_known\": 50770.0, \"mother_tongue_percent\": 0.09335245197618734, \"most_at_home_percent\": 0.05392338038118638}, {\"category\": \"Non-Official & Non-Aboriginal languages\", \"language\": \"Ukrainian\", \"mother_tongue\": 102485.0, \"most_at_home\": 28250.0, \"most_at_work\": 1210.0, \"lang_known\": 132115.0, \"mother_tongue_percent\": 0.29155038978453635, \"most_at_home_percent\": 0.08036589268100845}, {\"category\": \"Non-Official & Non-Aboriginal languages\", \"language\": \"Uralic languages, n.i.e.\", \"mother_tongue\": 10.0, \"most_at_home\": 5.0, \"most_at_work\": 0.0, \"lang_known\": 25.0, \"mother_tongue_percent\": 2.84481036038968e-05, \"most_at_home_percent\": 1.42240518019484e-05}, {\"category\": \"Non-Official & Non-Aboriginal languages\", \"language\": \"Urdu\", \"mother_tongue\": 210815.0, \"most_at_home\": 128785.0, \"most_at_work\": 1495.0, \"lang_known\": 322220.0, \"mother_tongue_percent\": 0.5997286961255504, \"most_at_home_percent\": 0.3663689022627849}, {\"category\": \"Non-Official & Non-Aboriginal languages\", \"language\": \"Uyghur\", \"mother_tongue\": 1035.0, \"most_at_home\": 610.0, \"most_at_work\": 20.0, \"lang_known\": 1390.0, \"mother_tongue_percent\": 0.0029443787230033183, \"most_at_home_percent\": 0.0017353343198377048}, {\"category\": \"Non-Official & Non-Aboriginal languages\", \"language\": \"Uzbek\", \"mother_tongue\": 1720.0, \"most_at_home\": 995.0, \"most_at_work\": 15.0, \"lang_known\": 2465.0, \"mother_tongue_percent\": 0.004893073819870249, \"most_at_home_percent\": 0.0028305863085877313}, {\"category\": \"Non-Official & Non-Aboriginal languages\", \"language\": \"Vietnamese\", \"mother_tongue\": 156430.0, \"most_at_home\": 104245.0, \"most_at_work\": 8075.0, \"lang_known\": 198895.0, \"mother_tongue_percent\": 0.4450136846757576, \"most_at_home_percent\": 0.2965572560188222}, {\"category\": \"Non-Official & Non-Aboriginal languages\", \"language\": \"Vlaams (Flemish)\", \"mother_tongue\": 3895.0, \"most_at_home\": 355.0, \"most_at_work\": 35.0, \"lang_known\": 4400.0, \"mother_tongue_percent\": 0.011080536353717804, \"most_at_home_percent\": 0.0010099076779383363}, {\"category\": \"Non-Official & Non-Aboriginal languages\", \"language\": \"Waray-Waray\", \"mother_tongue\": 1110.0, \"most_at_home\": 310.0, \"most_at_work\": 0.0, \"lang_known\": 1395.0, \"mother_tongue_percent\": 0.0031577395000325446, \"most_at_home_percent\": 0.0008818912117208007}, {\"category\": \"Non-Official & Non-Aboriginal languages\", \"language\": \"Welsh\", \"mother_tongue\": 1075.0, \"most_at_home\": 95.0, \"most_at_work\": 0.0, \"lang_known\": 1695.0, \"mother_tongue_percent\": 0.003058171137418906, \"most_at_home_percent\": 0.0002702569842370196}, {\"category\": \"Non-Official & Non-Aboriginal languages\", \"language\": \"Wolof\", \"mother_tongue\": 3990.0, \"most_at_home\": 1385.0, \"most_at_work\": 10.0, \"lang_known\": 8240.0, \"mother_tongue_percent\": 0.011350793337954822, \"most_at_home_percent\": 0.003940062349139706}, {\"category\": \"Aboriginal languages\", \"language\": \"Woods Cree\", \"mother_tongue\": 1840.0, \"most_at_home\": 800.0, \"most_at_work\": 75.0, \"lang_known\": 2665.0, \"mother_tongue_percent\": 0.005234451063117011, \"most_at_home_percent\": 0.002275848288311744}, {\"category\": \"Non-Official & Non-Aboriginal languages\", \"language\": \"Wu (Shanghainese)\", \"mother_tongue\": 12915.0, \"most_at_home\": 7650.0, \"most_at_work\": 105.0, \"lang_known\": 16530.0, \"mother_tongue_percent\": 0.03674072580443272, \"most_at_home_percent\": 0.02176279925698105}, {\"category\": \"Non-Official & Non-Aboriginal languages\", \"language\": \"Yiddish\", \"mother_tongue\": 13555.0, \"most_at_home\": 7085.0, \"most_at_work\": 895.0, \"lang_known\": 20985.0, \"mother_tongue_percent\": 0.03856140443508211, \"most_at_home_percent\": 0.020155481403360882}, {\"category\": \"Non-Official & Non-Aboriginal languages\", \"language\": \"Yoruba\", \"mother_tongue\": 9080.0, \"most_at_home\": 2615.0, \"most_at_work\": 15.0, \"lang_known\": 22415.0, \"mother_tongue_percent\": 0.025830878072338293, \"most_at_home_percent\": 0.007439179092419013}, {\"category\": \"Non-Official & Non-Aboriginal languages\", \"language\": \"Yoruba\", \"mother_tongue\": 9080.0, \"most_at_home\": 2615.0, \"most_at_work\": 15.0, \"lang_known\": 22415.0, \"mother_tongue_percent\": 0.025830878072338293, \"most_at_home_percent\": 0.007439179092419013}]}}, {\"mode\": \"vega-lite\"});\n</script>",
      "application/papermill.record/text/plain": "alt.Chart(...)"
     },
     "metadata": {
      "scrapbook": {
       "mime_prefix": "application/papermill.record/",
       "name": "can_lang_plot_percent"
      }
     },
     "output_type": "display_data"
    }
   ],
   "source": [
    "glue('can_lang_plot_percent', can_lang_plot_percent, display=False)"
   ]
  },
  {
   "cell_type": "markdown",
   "id": "c755a1e2",
   "metadata": {},
   "source": [
    ":::{glue:figure} can_lang_plot_percent\n",
    ":figwidth: 700px \n",
    ":name: can_lang_plot_percent\n",
    "\n",
    "Scatter plot of percentage of Canadians reporting a language as their mother tongue vs the primary language at home.\n",
    ":::\n",
    "\n",
    "\n",
    "{numref}`can_lang_plot_percent` is the appropriate\n",
    "visualization to use to answer the first question in this section, i.e.,\n",
    "whether there is a relationship between the percentage of people who speak \n",
    "a language as their mother tongue and the percentage for whom that\n",
    "is the primary language spoken at home.\n",
    "To fully answer the question, we need to use\n",
    " {numref}`can_lang_plot_percent`\n",
    "to assess a few key characteristics of the data: \n",
    "\n",
    "- **Direction:** if the y variable tends to increase when the x variable increases, then y has a **positive** relationship with x. If \n",
    "  y tends to decrease when x increases, then y has a **negative** relationship with x. If y does not meaningfully increase or decrease \n",
    "  as x increases, then y has **little or no** relationship with x. \\index{relationship!positive, negative, none}\n",
    "- **Strength:** if the y variable *reliably* increases, decreases, or stays flat as x increases,\n",
    "  then the relationship is **strong**. Otherwise, the relationship is **weak**. Intuitively, \\index{relationship!strong, weak}\n",
    "  the relationship is strong when the scatter points are close together and look more like a \"line\" or \"curve\" than a \"cloud.\"\n",
    "- **Shape:** if you can draw a straight line roughly through the data points, the relationship is **linear**. Otherwise, it is **nonlinear**. \\index{relationship!linear, nonlinear}\n",
    "\n",
    "In {numref}`can_lang_plot_percent`, we see that \n",
    "as the percentage of people who have a language as their mother tongue increases, \n",
    "so does the percentage of people who speak that language at home. \n",
    "Therefore, there is a **positive** relationship between these two variables.\n",
    "Furthermore, because the points in {numref}`can_lang_plot_percent`\n",
    "are fairly close together, and the points look more like a \"line\" than a \"cloud\",\n",
    "we can say that this is a **strong** relationship. \n",
    "And finally, because drawing a straight line through these points in \n",
    "{numref}`can_lang_plot_percent`\n",
    "would fit the pattern we observe quite well, we say that the relationship is **linear**.\n",
    "\n",
    "Onto the second part of our exploratory data analysis question!\n",
    "Recall that we are interested in knowing whether the strength \n",
    "of the relationship we uncovered \n",
    "in {numref}`can_lang_plot_percent` depends\n",
    "on the higher-level language category (Official languages, Aboriginal languages,\n",
    "and non-official, non-Aboriginal languages).\n",
    "One common way to explore this\n",
    "is to color the data points on the scatter plot we have already created by\n",
    "group. For example, given that we have the higher-level language category for\n",
    "each language recorded in the 2016 Canadian census, we can color the points in\n",
    "our previous \n",
    "scatter plot to represent each language's higher-level language category.\n",
    "\n",
    "Here we want to distinguish the values according to the `category` group with\n",
    "which they belong.  We can add the argument `color` to the `encode` function, specifying\n",
    "that the `category` column should color the points. Adding this argument will\n",
    "color the points according to their group and add a legend at the side of the\n",
    "plot."
   ]
  },
  {
   "cell_type": "code",
   "execution_count": 34,
   "id": "0911aa0f",
   "metadata": {
    "execution": {
     "iopub.execute_input": "2022-07-19T22:59:15.496753Z",
     "iopub.status.busy": "2022-07-19T22:59:15.496610Z",
     "iopub.status.idle": "2022-07-19T22:59:15.502634Z",
     "shell.execute_reply": "2022-07-19T22:59:15.502336Z"
    }
   },
   "outputs": [],
   "source": [
    "can_lang_plot_category = alt.Chart(can_lang).mark_circle().encode(\n",
    "    x = alt.X(\"most_at_home_percent\", title = [\"Language spoken most at home\", \"(number of Canadian residents)\"], scale=alt.Scale(type=\"log\"), axis=alt.Axis(tickCount=7)),\n",
    "    y = alt.Y(\"mother_tongue_percent\", title = [\"Mother tongue\", \"(number of Canadian residents)\"], scale=alt.Scale(type=\"log\"), axis=alt.Axis(tickCount=7)),\n",
    "    color = \"category\").configure_axis(\n",
    "    titleFontSize=12)\n"
   ]
  },
  {
   "cell_type": "code",
   "execution_count": 35,
   "id": "dafe9c3c",
   "metadata": {
    "execution": {
     "iopub.execute_input": "2022-07-19T22:59:15.504256Z",
     "iopub.status.busy": "2022-07-19T22:59:15.504140Z",
     "iopub.status.idle": "2022-07-19T22:59:15.514806Z",
     "shell.execute_reply": "2022-07-19T22:59:15.514521Z"
    },
    "tags": [
     "remove-cell"
    ]
   },
   "outputs": [
    {
     "data": {
      "application/papermill.record/text/html": "\n<div id=\"altair-viz-219901ee5fd24eababaaabfd836176db\"></div>\n<script type=\"text/javascript\">\n  var VEGA_DEBUG = (typeof VEGA_DEBUG == \"undefined\") ? {} : VEGA_DEBUG;\n  (function(spec, embedOpt){\n    let outputDiv = document.currentScript.previousElementSibling;\n    if (outputDiv.id !== \"altair-viz-219901ee5fd24eababaaabfd836176db\") {\n      outputDiv = document.getElementById(\"altair-viz-219901ee5fd24eababaaabfd836176db\");\n    }\n    const paths = {\n      \"vega\": \"https://cdn.jsdelivr.net/npm//vega@5?noext\",\n      \"vega-lib\": \"https://cdn.jsdelivr.net/npm//vega-lib?noext\",\n      \"vega-lite\": \"https://cdn.jsdelivr.net/npm//vega-lite@4.17.0?noext\",\n      \"vega-embed\": \"https://cdn.jsdelivr.net/npm//vega-embed@6?noext\",\n    };\n\n    function maybeLoadScript(lib, version) {\n      var key = `${lib.replace(\"-\", \"\")}_version`;\n      return (VEGA_DEBUG[key] == version) ?\n        Promise.resolve(paths[lib]) :\n        new Promise(function(resolve, reject) {\n          var s = document.createElement('script');\n          document.getElementsByTagName(\"head\")[0].appendChild(s);\n          s.async = true;\n          s.onload = () => {\n            VEGA_DEBUG[key] = version;\n            return resolve(paths[lib]);\n          };\n          s.onerror = () => reject(`Error loading script: ${paths[lib]}`);\n          s.src = paths[lib];\n        });\n    }\n\n    function showError(err) {\n      outputDiv.innerHTML = `<div class=\"error\" style=\"color:red;\">${err}</div>`;\n      throw err;\n    }\n\n    function displayChart(vegaEmbed) {\n      vegaEmbed(outputDiv, spec, embedOpt)\n        .catch(err => showError(`Javascript Error: ${err.message}<br>This usually means there's a typo in your chart specification. See the javascript console for the full traceback.`));\n    }\n\n    if(typeof define === \"function\" && define.amd) {\n      requirejs.config({paths});\n      require([\"vega-embed\"], displayChart, err => showError(`Error loading script: ${err.message}`));\n    } else {\n      maybeLoadScript(\"vega\", \"5\")\n        .then(() => maybeLoadScript(\"vega-lite\", \"4.17.0\"))\n        .then(() => maybeLoadScript(\"vega-embed\", \"6\"))\n        .catch(showError)\n        .then(() => displayChart(vegaEmbed));\n    }\n  })({\"config\": {\"view\": {\"continuousWidth\": 400, \"continuousHeight\": 300}, \"axis\": {\"titleFontSize\": 12}}, \"data\": {\"name\": \"data-4425298868ef129701a2a71a12652c7e\"}, \"mark\": \"circle\", \"encoding\": {\"color\": {\"field\": \"category\", \"type\": \"nominal\"}, \"x\": {\"axis\": {\"tickCount\": 7}, \"field\": \"most_at_home_percent\", \"scale\": {\"type\": \"log\"}, \"title\": [\"Language spoken most at home\", \"(number of Canadian residents)\"], \"type\": \"quantitative\"}, \"y\": {\"axis\": {\"tickCount\": 7}, \"field\": \"mother_tongue_percent\", \"scale\": {\"type\": \"log\"}, \"title\": [\"Mother tongue\", \"(number of Canadian residents)\"], \"type\": \"quantitative\"}}, \"$schema\": \"https://vega.github.io/schema/vega-lite/v4.17.0.json\", \"datasets\": {\"data-4425298868ef129701a2a71a12652c7e\": [{\"category\": \"Aboriginal languages\", \"language\": \"Aboriginal languages, n.o.s.\", \"mother_tongue\": 590.0, \"most_at_home\": 235.0, \"most_at_work\": 30.0, \"lang_known\": 665.0, \"mother_tongue_percent\": 0.001678438112629911, \"most_at_home_percent\": 0.0006685304346915747}, {\"category\": \"Non-Official & Non-Aboriginal languages\", \"language\": \"Afrikaans\", \"mother_tongue\": 10260.0, \"most_at_home\": 4785.0, \"most_at_work\": 85.0, \"lang_known\": 23415.0, \"mother_tongue_percent\": 0.029187754297598113, \"most_at_home_percent\": 0.013612417574464618}, {\"category\": \"Non-Official & Non-Aboriginal languages\", \"language\": \"Afro-Asiatic languages, n.i.e.\", \"mother_tongue\": 1150.0, \"most_at_home\": 445.0, \"most_at_work\": 10.0, \"lang_known\": 2775.0, \"mother_tongue_percent\": 0.0032715319144481316, \"most_at_home_percent\": 0.0012659406103734075}, {\"category\": \"Non-Official & Non-Aboriginal languages\", \"language\": \"Akan (Twi)\", \"mother_tongue\": 13460.0, \"most_at_home\": 5985.0, \"most_at_work\": 25.0, \"lang_known\": 22150.0, \"mother_tongue_percent\": 0.038291147450845095, \"most_at_home_percent\": 0.017026190006932233}, {\"category\": \"Non-Official & Non-Aboriginal languages\", \"language\": \"Albanian\", \"mother_tongue\": 26895.0, \"most_at_home\": 13135.0, \"most_at_work\": 345.0, \"lang_known\": 31930.0, \"mother_tongue_percent\": 0.07651117464268044, \"most_at_home_percent\": 0.03736658408371844}, {\"category\": \"Aboriginal languages\", \"language\": \"Algonquian languages, n.i.e.\", \"mother_tongue\": 45.0, \"most_at_home\": 10.0, \"most_at_work\": 0.0, \"lang_known\": 120.0, \"mother_tongue_percent\": 0.00012801646621753558, \"most_at_home_percent\": 2.84481036038968e-05}, {\"category\": \"Aboriginal languages\", \"language\": \"Algonquin\", \"mother_tongue\": 1260.0, \"most_at_home\": 370.0, \"most_at_work\": 40.0, \"lang_known\": 2480.0, \"mother_tongue_percent\": 0.0035844610540909966, \"most_at_home_percent\": 0.0010525798333441815}, {\"category\": \"Non-Official & Non-Aboriginal languages\", \"language\": \"American Sign Language\", \"mother_tongue\": 2685.0, \"most_at_home\": 3020.0, \"most_at_work\": 1145.0, \"lang_known\": 21930.0, \"mother_tongue_percent\": 0.00763831581764629, \"most_at_home_percent\": 0.008591327288376834}, {\"category\": \"Non-Official & Non-Aboriginal languages\", \"language\": \"Amharic\", \"mother_tongue\": 22465.0, \"most_at_home\": 12785.0, \"most_at_work\": 200.0, \"lang_known\": 33670.0, \"mother_tongue_percent\": 0.06390866474615416, \"most_at_home_percent\": 0.03637090045758205}, {\"category\": \"Non-Official & Non-Aboriginal languages\", \"language\": \"Arabic\", \"mother_tongue\": 419890.0, \"most_at_home\": 223535.0, \"most_at_work\": 5585.0, \"lang_known\": 629055.0, \"mother_tongue_percent\": 1.1945074222240226, \"most_at_home_percent\": 0.6359146839097071}, {\"category\": \"Non-Official & Non-Aboriginal languages\", \"language\": \"Armenian\", \"mother_tongue\": 33460.0, \"most_at_home\": 21510.0, \"most_at_work\": 450.0, \"lang_known\": 41295.0, \"mother_tongue_percent\": 0.09518735465863869, \"most_at_home_percent\": 0.06119187085198201}, {\"category\": \"Non-Official & Non-Aboriginal languages\", \"language\": \"Assyrian Neo-Aramaic\", \"mother_tongue\": 16070.0, \"most_at_home\": 10510.0, \"most_at_work\": 205.0, \"lang_known\": 19740.0, \"mother_tongue_percent\": 0.04571610249146216, \"most_at_home_percent\": 0.029898956887695536}, {\"category\": \"Aboriginal languages\", \"language\": \"Athabaskan languages, n.i.e.\", \"mother_tongue\": 50.0, \"most_at_home\": 10.0, \"most_at_work\": 0.0, \"lang_known\": 85.0, \"mother_tongue_percent\": 0.000142240518019484, \"most_at_home_percent\": 2.84481036038968e-05}, {\"category\": \"Aboriginal languages\", \"language\": \"Atikamekw\", \"mother_tongue\": 6150.0, \"most_at_home\": 5465.0, \"most_at_work\": 1100.0, \"lang_known\": 6645.0, \"mother_tongue_percent\": 0.01749558371639653, \"most_at_home_percent\": 0.015546888619529601}, {\"category\": \"Non-Official & Non-Aboriginal languages\", \"language\": \"Austro-Asiatic languages, n.i.e\", \"mother_tongue\": 170.0, \"most_at_home\": 80.0, \"most_at_work\": 0.0, \"lang_known\": 190.0, \"mother_tongue_percent\": 0.0004836177612662456, \"most_at_home_percent\": 0.0002275848288311744}, {\"category\": \"Non-Official & Non-Aboriginal languages\", \"language\": \"Austronesian languages, n.i.e.\", \"mother_tongue\": 4195.0, \"most_at_home\": 1160.0, \"most_at_work\": 35.0, \"lang_known\": 5585.0, \"mother_tongue_percent\": 0.011933979461834707, \"most_at_home_percent\": 0.0032999800180520287}, {\"category\": \"Non-Official & Non-Aboriginal languages\", \"language\": \"Azerbaijani\", \"mother_tongue\": 3255.0, \"most_at_home\": 1245.0, \"most_at_work\": 25.0, \"lang_known\": 5455.0, \"mother_tongue_percent\": 0.009259857723068407, \"most_at_home_percent\": 0.0035417888986851516}, {\"category\": \"Aboriginal languages\", \"language\": \"Babine (Wetsuwet'en)\", \"mother_tongue\": 110.0, \"most_at_home\": 20.0, \"most_at_work\": 10.0, \"lang_known\": 210.0, \"mother_tongue_percent\": 0.0003129291396428648, \"most_at_home_percent\": 5.68962072077936e-05}, {\"category\": \"Non-Official & Non-Aboriginal languages\", \"language\": \"Bamanankan\", \"mother_tongue\": 1535.0, \"most_at_home\": 345.0, \"most_at_work\": 0.0, \"lang_known\": 3190.0, \"mother_tongue_percent\": 0.004366783903198159, \"most_at_home_percent\": 0.0009814595743344394}, {\"category\": \"Aboriginal languages\", \"language\": \"Beaver\", \"mother_tongue\": 190.0, \"most_at_home\": 50.0, \"most_at_work\": 0.0, \"lang_known\": 340.0, \"mother_tongue_percent\": 0.0005405139684740392, \"most_at_home_percent\": 0.000142240518019484}, {\"category\": \"Non-Official & Non-Aboriginal languages\", \"language\": \"Belarusan\", \"mother_tongue\": 810.0, \"most_at_home\": 225.0, \"most_at_work\": 0.0, \"lang_known\": 2265.0, \"mother_tongue_percent\": 0.002304296391915641, \"most_at_home_percent\": 0.0006400823310876779}, {\"category\": \"Non-Official & Non-Aboriginal languages\", \"language\": \"Bengali\", \"mother_tongue\": 73125.0, \"most_at_home\": 47350.0, \"most_at_work\": 525.0, \"lang_known\": 91220.0, \"mother_tongue_percent\": 0.20802675760349534, \"most_at_home_percent\": 0.13470177056445135}, {\"category\": \"Non-Official & Non-Aboriginal languages\", \"language\": \"Berber languages, n.i.e.\", \"mother_tongue\": 8985.0, \"most_at_home\": 2615.0, \"most_at_work\": 15.0, \"lang_known\": 12510.0, \"mother_tongue_percent\": 0.025560621088101275, \"most_at_home_percent\": 0.007439179092419013}, {\"category\": \"Non-Official & Non-Aboriginal languages\", \"language\": \"Bikol\", \"mother_tongue\": 1785.0, \"most_at_home\": 290.0, \"most_at_work\": 0.0, \"lang_known\": 2075.0, \"mother_tongue_percent\": 0.0050779864932955785, \"most_at_home_percent\": 0.0008249950045130072}, {\"category\": \"Non-Official & Non-Aboriginal languages\", \"language\": \"Bilen\", \"mother_tongue\": 805.0, \"most_at_home\": 615.0, \"most_at_work\": 15.0, \"lang_known\": 1085.0, \"mother_tongue_percent\": 0.002290072340113692, \"most_at_home_percent\": 0.0017495583716396533}, {\"category\": \"Aboriginal languages\", \"language\": \"Blackfoot\", \"mother_tongue\": 2815.0, \"most_at_home\": 1110.0, \"most_at_work\": 85.0, \"lang_known\": 5645.0, \"mother_tongue_percent\": 0.008008141164496949, \"most_at_home_percent\": 0.0031577395000325446}, {\"category\": \"Non-Official & Non-Aboriginal languages\", \"language\": \"Bosnian\", \"mother_tongue\": 12215.0, \"most_at_home\": 6045.0, \"most_at_work\": 155.0, \"lang_known\": 18265.0, \"mother_tongue_percent\": 0.03474935855215994, \"most_at_home_percent\": 0.017196878628555616}, {\"category\": \"Non-Official & Non-Aboriginal languages\", \"language\": \"Bulgarian\", \"mother_tongue\": 20020.0, \"most_at_home\": 11985.0, \"most_at_work\": 200.0, \"lang_known\": 22425.0, \"mother_tongue_percent\": 0.05695310341500139, \"most_at_home_percent\": 0.034095052169270314}, {\"category\": \"Non-Official & Non-Aboriginal languages\", \"language\": \"Burmese\", \"mother_tongue\": 3585.0, \"most_at_home\": 2245.0, \"most_at_work\": 75.0, \"lang_known\": 4995.0, \"mother_tongue_percent\": 0.010198645141997002, \"most_at_home_percent\": 0.006386599259074831}, {\"category\": \"Non-Official & Non-Aboriginal languages\", \"language\": \"Cantonese\", \"mother_tongue\": 565270.0, \"most_at_home\": 400220.0, \"most_at_work\": 58820.0, \"lang_known\": 699125.0, \"mother_tongue_percent\": 1.6080859524174744, \"most_at_home_percent\": 1.1385500024351576}, {\"category\": \"Aboriginal languages\", \"language\": \"Carrier\", \"mother_tongue\": 1025.0, \"most_at_home\": 250.0, \"most_at_work\": 15.0, \"lang_known\": 2100.0, \"mother_tongue_percent\": 0.0029159306193994217, \"most_at_home_percent\": 0.00071120259009742}, {\"category\": \"Non-Official & Non-Aboriginal languages\", \"language\": \"Catalan\", \"mother_tongue\": 870.0, \"most_at_home\": 350.0, \"most_at_work\": 30.0, \"lang_known\": 2035.0, \"mother_tongue_percent\": 0.0024749850135390213, \"most_at_home_percent\": 0.0009956836261363878}, {\"category\": \"Aboriginal languages\", \"language\": \"Cayuga\", \"mother_tongue\": 45.0, \"most_at_home\": 10.0, \"most_at_work\": 10.0, \"lang_known\": 125.0, \"mother_tongue_percent\": 0.00012801646621753558, \"most_at_home_percent\": 2.84481036038968e-05}, {\"category\": \"Non-Official & Non-Aboriginal languages\", \"language\": \"Cebuano\", \"mother_tongue\": 19890.0, \"most_at_home\": 7205.0, \"most_at_work\": 70.0, \"lang_known\": 27040.0, \"mother_tongue_percent\": 0.056583278068150736, \"most_at_home_percent\": 0.020496858646607642}, {\"category\": \"Non-Official & Non-Aboriginal languages\", \"language\": \"Celtic languages, n.i.e.\", \"mother_tongue\": 525.0, \"most_at_home\": 80.0, \"most_at_work\": 10.0, \"lang_known\": 3595.0, \"mother_tongue_percent\": 0.001493525439204582, \"most_at_home_percent\": 0.0002275848288311744}, {\"category\": \"Non-Official & Non-Aboriginal languages\", \"language\": \"Chaldean Neo-Aramaic\", \"mother_tongue\": 5545.0, \"most_at_home\": 3445.0, \"most_at_work\": 35.0, \"lang_known\": 7115.0, \"mother_tongue_percent\": 0.015774473448360776, \"most_at_home_percent\": 0.009800371691542447}, {\"category\": \"Aboriginal languages\", \"language\": \"Chilcotin\", \"mother_tongue\": 655.0, \"most_at_home\": 255.0, \"most_at_work\": 15.0, \"lang_known\": 1150.0, \"mother_tongue_percent\": 0.0018633507860552402, \"most_at_home_percent\": 0.0007254266418993683}, {\"category\": \"Non-Official & Non-Aboriginal languages\", \"language\": \"Chinese languages, n.i.e.\", \"mother_tongue\": 615.0, \"most_at_home\": 280.0, \"most_at_work\": 0.0, \"lang_known\": 590.0, \"mother_tongue_percent\": 0.0017495583716396533, \"most_at_home_percent\": 0.0007965469009091103}, {\"category\": \"Non-Official & Non-Aboriginal languages\", \"language\": \"Chinese, n.o.s.\", \"mother_tongue\": 38580.0, \"most_at_home\": 23940.0, \"most_at_work\": 2935.0, \"lang_known\": 41685.0, \"mother_tongue_percent\": 0.10975278370383384, \"most_at_home_percent\": 0.06810476002772893}, {\"category\": \"Aboriginal languages\", \"language\": \"Cree, n.o.s.\", \"mother_tongue\": 64050.0, \"most_at_home\": 37950.0, \"most_at_work\": 7800.0, \"lang_known\": 86115.0, \"mother_tongue_percent\": 0.182210103582959, \"most_at_home_percent\": 0.10796055317678836}, {\"category\": \"Non-Official & Non-Aboriginal languages\", \"language\": \"Creole languages, n.i.e.\", \"mother_tongue\": 4985.0, \"most_at_home\": 2005.0, \"most_at_work\": 15.0, \"lang_known\": 16635.0, \"mother_tongue_percent\": 0.014181379646542553, \"most_at_home_percent\": 0.005703844772581308}, {\"category\": \"Non-Official & Non-Aboriginal languages\", \"language\": \"Creole, n.o.s.\", \"mother_tongue\": 64110.0, \"most_at_home\": 24570.0, \"most_at_work\": 310.0, \"lang_known\": 133045.0, \"mother_tongue_percent\": 0.1823807922045824, \"most_at_home_percent\": 0.06989699055477444}, {\"category\": \"Non-Official & Non-Aboriginal languages\", \"language\": \"Croatian\", \"mother_tongue\": 48200.0, \"most_at_home\": 16775.0, \"most_at_work\": 220.0, \"lang_known\": 69835.0, \"mother_tongue_percent\": 0.13711985937078255, \"most_at_home_percent\": 0.04772169379553688}, {\"category\": \"Non-Official & Non-Aboriginal languages\", \"language\": \"Cushitic languages, n.i.e.\", \"mother_tongue\": 365.0, \"most_at_home\": 180.0, \"most_at_work\": 0.0, \"lang_known\": 480.0, \"mother_tongue_percent\": 0.0010383557815422332, \"most_at_home_percent\": 0.0005120658648701423}, {\"category\": \"Non-Official & Non-Aboriginal languages\", \"language\": \"Czech\", \"mother_tongue\": 22295.0, \"most_at_home\": 6235.0, \"most_at_work\": 70.0, \"lang_known\": 28725.0, \"mother_tongue_percent\": 0.06342504698488792, \"most_at_home_percent\": 0.017737392597029656}, {\"category\": \"Aboriginal languages\", \"language\": \"Dakota\", \"mother_tongue\": 1210.0, \"most_at_home\": 255.0, \"most_at_work\": 20.0, \"lang_known\": 1760.0, \"mother_tongue_percent\": 0.0034422205360715124, \"most_at_home_percent\": 0.0007254266418993683}, {\"category\": \"Non-Official & Non-Aboriginal languages\", \"language\": \"Danish\", \"mother_tongue\": 12630.0, \"most_at_home\": 855.0, \"most_at_work\": 85.0, \"lang_known\": 15750.0, \"mother_tongue_percent\": 0.03592995485172166, \"most_at_home_percent\": 0.0024323128581331763}, {\"category\": \"Aboriginal languages\", \"language\": \"Dene\", \"mother_tongue\": 10700.0, \"most_at_home\": 7710.0, \"most_at_work\": 770.0, \"lang_known\": 13060.0, \"mother_tongue_percent\": 0.030439470856169572, \"most_at_home_percent\": 0.021933487878604434}, {\"category\": \"Non-Official & Non-Aboriginal languages\", \"language\": \"Dinka\", \"mother_tongue\": 2120.0, \"most_at_home\": 1130.0, \"most_at_work\": 0.0, \"lang_known\": 2475.0, \"mother_tongue_percent\": 0.006030997964026122, \"most_at_home_percent\": 0.0032146357072403383}, {\"category\": \"Aboriginal languages\", \"language\": \"Dogrib (Tlicho)\", \"mother_tongue\": 1650.0, \"most_at_home\": 1020.0, \"most_at_work\": 165.0, \"lang_known\": 2375.0, \"mother_tongue_percent\": 0.004693937094642972, \"most_at_home_percent\": 0.0029017065675974734}, {\"category\": \"Non-Official & Non-Aboriginal languages\", \"language\": \"Dravidian languages, n.i.e.\", \"mother_tongue\": 490.0, \"most_at_home\": 190.0, \"most_at_work\": 0.0, \"lang_known\": 790.0, \"mother_tongue_percent\": 0.0013939570765909431, \"most_at_home_percent\": 0.0005405139684740392}, {\"category\": \"Non-Official & Non-Aboriginal languages\", \"language\": \"Dutch\", \"mother_tongue\": 99015.0, \"most_at_home\": 9565.0, \"most_at_work\": 1165.0, \"lang_known\": 120870.0, \"mother_tongue_percent\": 0.28167889783398414, \"most_at_home_percent\": 0.02721061109712729}, {\"category\": \"Non-Official & Non-Aboriginal languages\", \"language\": \"Edo\", \"mother_tongue\": 1670.0, \"most_at_home\": 410.0, \"most_at_work\": 0.0, \"lang_known\": 3220.0, \"mother_tongue_percent\": 0.004750833301850765, \"most_at_home_percent\": 0.0011663722477597688}, {\"category\": \"Official languages\", \"language\": \"English\", \"mother_tongue\": 19460850.0, \"most_at_home\": 22162865.0, \"most_at_work\": 15265335.0, \"lang_known\": 29748265.0, \"mother_tongue_percent\": 55.3624277019895, \"most_at_home_percent\": 63.04914796791782}, {\"category\": \"Non-Official & Non-Aboriginal languages\", \"language\": \"Estonian\", \"mother_tongue\": 5445.0, \"most_at_home\": 975.0, \"most_at_work\": 55.0, \"lang_known\": 6070.0, \"mother_tongue_percent\": 0.015489992412321806, \"most_at_home_percent\": 0.002773690101379938}, {\"category\": \"Non-Official & Non-Aboriginal languages\", \"language\": \"Ewe\", \"mother_tongue\": 1760.0, \"most_at_home\": 405.0, \"most_at_work\": 10.0, \"lang_known\": 3000.0, \"mother_tongue_percent\": 0.005006866234285837, \"most_at_home_percent\": 0.0011521481959578205}, {\"category\": \"Non-Official & Non-Aboriginal languages\", \"language\": \"Fijian\", \"mother_tongue\": 745.0, \"most_at_home\": 195.0, \"most_at_work\": 0.0, \"lang_known\": 1665.0, \"mother_tongue_percent\": 0.002119383718490312, \"most_at_home_percent\": 0.0005547380202759875}, {\"category\": \"Non-Official & Non-Aboriginal languages\", \"language\": \"Finnish\", \"mother_tongue\": 15295.0, \"most_at_home\": 2790.0, \"most_at_work\": 105.0, \"lang_known\": 17590.0, \"mother_tongue_percent\": 0.04351137446216015, \"most_at_home_percent\": 0.007937020905487207}, {\"category\": \"Official languages\", \"language\": \"French\", \"mother_tongue\": 7166700.0, \"most_at_home\": 6943800.0, \"most_at_work\": 3825215.0, \"lang_known\": 10242945.0, \"mother_tongue_percent\": 20.387902409804717, \"most_at_home_percent\": 19.753794180473857}, {\"category\": \"Non-Official & Non-Aboriginal languages\", \"language\": \"Frisian\", \"mother_tongue\": 2100.0, \"most_at_home\": 185.0, \"most_at_work\": 40.0, \"lang_known\": 2910.0, \"mother_tongue_percent\": 0.005974101756818328, \"most_at_home_percent\": 0.0005262899166720908}, {\"category\": \"Non-Official & Non-Aboriginal languages\", \"language\": \"Fulah (Pular, Pulaar, Fulfulde)\", \"mother_tongue\": 2825.0, \"most_at_home\": 825.0, \"most_at_work\": 0.0, \"lang_known\": 4725.0, \"mother_tongue_percent\": 0.008036589268100846, \"most_at_home_percent\": 0.002346968547321486}, {\"category\": \"Non-Official & Non-Aboriginal languages\", \"language\": \"Ga\", \"mother_tongue\": 920.0, \"most_at_home\": 250.0, \"most_at_work\": 0.0, \"lang_known\": 2250.0, \"mother_tongue_percent\": 0.0026172255315585055, \"most_at_home_percent\": 0.00071120259009742}, {\"category\": \"Non-Official & Non-Aboriginal languages\", \"language\": \"Ganda\", \"mother_tongue\": 1295.0, \"most_at_home\": 345.0, \"most_at_work\": 25.0, \"lang_known\": 2495.0, \"mother_tongue_percent\": 0.0036840294167046353, \"most_at_home_percent\": 0.0009814595743344394}, {\"category\": \"Non-Official & Non-Aboriginal languages\", \"language\": \"Georgian\", \"mother_tongue\": 1710.0, \"most_at_home\": 1040.0, \"most_at_work\": 25.0, \"lang_known\": 2150.0, \"mother_tongue_percent\": 0.004864625716266353, \"most_at_home_percent\": 0.002958602774805267}, {\"category\": \"Non-Official & Non-Aboriginal languages\", \"language\": \"German\", \"mother_tongue\": 384040.0, \"most_at_home\": 120335.0, \"most_at_work\": 10065.0, \"lang_known\": 502735.0, \"mother_tongue_percent\": 1.0925209708040526, \"most_at_home_percent\": 0.3423302547174921}, {\"category\": \"Non-Official & Non-Aboriginal languages\", \"language\": \"Germanic languages, n.i.e.\", \"mother_tongue\": 525.0, \"most_at_home\": 1630.0, \"most_at_work\": 725.0, \"lang_known\": 8705.0, \"mother_tongue_percent\": 0.001493525439204582, \"most_at_home_percent\": 0.004637040887435178}, {\"category\": \"Aboriginal languages\", \"language\": \"Gitxsan (Gitksan)\", \"mother_tongue\": 880.0, \"most_at_home\": 315.0, \"most_at_work\": 10.0, \"lang_known\": 1305.0, \"mother_tongue_percent\": 0.0025034331171429184, \"most_at_home_percent\": 0.0008961152635227491}, {\"category\": \"Non-Official & Non-Aboriginal languages\", \"language\": \"Greek\", \"mother_tongue\": 106525.0, \"most_at_home\": 44550.0, \"most_at_work\": 1020.0, \"lang_known\": 150965.0, \"mother_tongue_percent\": 0.3030434236405106, \"most_at_home_percent\": 0.12673630155536023}, {\"category\": \"Non-Official & Non-Aboriginal languages\", \"language\": \"Gujarati\", \"mother_tongue\": 108780.0, \"most_at_home\": 64150.0, \"most_at_work\": 885.0, \"lang_known\": 149045.0, \"mother_tongue_percent\": 0.30945847100318935, \"most_at_home_percent\": 0.18249458461899795}, {\"category\": \"Aboriginal languages\", \"language\": \"Gwich'in\", \"mother_tongue\": 255.0, \"most_at_home\": 50.0, \"most_at_work\": 10.0, \"lang_known\": 360.0, \"mother_tongue_percent\": 0.0007254266418993683, \"most_at_home_percent\": 0.000142240518019484}, {\"category\": \"Aboriginal languages\", \"language\": \"Haida\", \"mother_tongue\": 80.0, \"most_at_home\": 10.0, \"most_at_work\": 0.0, \"lang_known\": 465.0, \"mother_tongue_percent\": 0.0002275848288311744, \"most_at_home_percent\": 2.84481036038968e-05}, {\"category\": \"Aboriginal languages\", \"language\": \"Haisla\", \"mother_tongue\": 90.0, \"most_at_home\": 20.0, \"most_at_work\": 0.0, \"lang_known\": 175.0, \"mother_tongue_percent\": 0.00025603293243507116, \"most_at_home_percent\": 5.68962072077936e-05}, {\"category\": \"Non-Official & Non-Aboriginal languages\", \"language\": \"Haitian Creole\", \"mother_tongue\": 3030.0, \"most_at_home\": 1280.0, \"most_at_work\": 25.0, \"lang_known\": 6855.0, \"mother_tongue_percent\": 0.008619775391980729, \"most_at_home_percent\": 0.0036413572612987903}, {\"category\": \"Non-Official & Non-Aboriginal languages\", \"language\": \"Hakka\", \"mother_tongue\": 10910.0, \"most_at_home\": 4085.0, \"most_at_work\": 70.0, \"lang_known\": 12445.0, \"mother_tongue_percent\": 0.031036881031851406, \"most_at_home_percent\": 0.011621050322191843}, {\"category\": \"Aboriginal languages\", \"language\": \"Halkomelem\", \"mother_tongue\": 480.0, \"most_at_home\": 50.0, \"most_at_work\": 20.0, \"lang_known\": 1060.0, \"mother_tongue_percent\": 0.0013655089729870463, \"most_at_home_percent\": 0.000142240518019484}, {\"category\": \"Non-Official & Non-Aboriginal languages\", \"language\": \"Harari\", \"mother_tongue\": 1320.0, \"most_at_home\": 735.0, \"most_at_work\": 0.0, \"lang_known\": 1715.0, \"mother_tongue_percent\": 0.0037551496757143774, \"most_at_home_percent\": 0.0020909356148864147}, {\"category\": \"Non-Official & Non-Aboriginal languages\", \"language\": \"Hebrew\", \"mother_tongue\": 19530.0, \"most_at_home\": 8560.0, \"most_at_work\": 825.0, \"lang_known\": 75020.0, \"mother_tongue_percent\": 0.05555914633841044, \"most_at_home_percent\": 0.02435157668493566}, {\"category\": \"Aboriginal languages\", \"language\": \"Heiltsuk\", \"mother_tongue\": 100.0, \"most_at_home\": 5.0, \"most_at_work\": 10.0, \"lang_known\": 125.0, \"mother_tongue_percent\": 0.000284481036038968, \"most_at_home_percent\": 1.42240518019484e-05}, {\"category\": \"Non-Official & Non-Aboriginal languages\", \"language\": \"Hiligaynon\", \"mother_tongue\": 6880.0, \"most_at_home\": 2210.0, \"most_at_work\": 25.0, \"lang_known\": 7925.0, \"mother_tongue_percent\": 0.019572295279480997, \"most_at_home_percent\": 0.0062870308964611925}, {\"category\": \"Non-Official & Non-Aboriginal languages\", \"language\": \"Hindi\", \"mother_tongue\": 110645.0, \"most_at_home\": 55510.0, \"most_at_work\": 1405.0, \"lang_known\": 433365.0, \"mother_tongue_percent\": 0.31476404232531613, \"most_at_home_percent\": 0.15791542310523113}, {\"category\": \"Non-Official & Non-Aboriginal languages\", \"language\": \"Hmong-Mien languages\", \"mother_tongue\": 795.0, \"most_at_home\": 335.0, \"most_at_work\": 10.0, \"lang_known\": 870.0, \"mother_tongue_percent\": 0.0022616242365097955, \"most_at_home_percent\": 0.0009530114707305427}, {\"category\": \"Non-Official & Non-Aboriginal languages\", \"language\": \"Hungarian\", \"mother_tongue\": 61235.0, \"most_at_home\": 19480.0, \"most_at_work\": 440.0, \"lang_known\": 71285.0, \"mother_tongue_percent\": 0.17420196241846206, \"most_at_home_percent\": 0.055416905820390966}, {\"category\": \"Non-Official & Non-Aboriginal languages\", \"language\": \"Icelandic\", \"mother_tongue\": 1285.0, \"most_at_home\": 270.0, \"most_at_work\": 0.0, \"lang_known\": 1780.0, \"mother_tongue_percent\": 0.0036555813131007382, \"most_at_home_percent\": 0.0007680987973052135}, {\"category\": \"Non-Official & Non-Aboriginal languages\", \"language\": \"Igbo\", \"mother_tongue\": 4235.0, \"most_at_home\": 1000.0, \"most_at_work\": 10.0, \"lang_known\": 8855.0, \"mother_tongue_percent\": 0.012047771876250295, \"most_at_home_percent\": 0.00284481036038968}, {\"category\": \"Non-Official & Non-Aboriginal languages\", \"language\": \"Ilocano\", \"mother_tongue\": 26345.0, \"most_at_home\": 9125.0, \"most_at_work\": 110.0, \"lang_known\": 34530.0, \"mother_tongue_percent\": 0.07494652894446611, \"most_at_home_percent\": 0.025958894538555828}, {\"category\": \"Non-Official & Non-Aboriginal languages\", \"language\": \"Indo-Iranian languages, n.i.e.\", \"mother_tongue\": 5185.0, \"most_at_home\": 2380.0, \"most_at_work\": 20.0, \"lang_known\": 8870.0, \"mother_tongue_percent\": 0.014750341718620491, \"most_at_home_percent\": 0.006770648657727438}, {\"category\": \"Aboriginal languages\", \"language\": \"Inuinnaqtun (Inuvialuktun)\", \"mother_tongue\": 1020.0, \"most_at_home\": 165.0, \"most_at_work\": 30.0, \"lang_known\": 1975.0, \"mother_tongue_percent\": 0.0029017065675974734, \"most_at_home_percent\": 0.0004693937094642972}, {\"category\": \"Aboriginal languages\", \"language\": \"Inuit languages, n.i.e.\", \"mother_tongue\": 310.0, \"most_at_home\": 90.0, \"most_at_work\": 15.0, \"lang_known\": 470.0, \"mother_tongue_percent\": 0.0008818912117208007, \"most_at_home_percent\": 0.00025603293243507116}, {\"category\": \"Aboriginal languages\", \"language\": \"Inuktitut\", \"mother_tongue\": 35210.0, \"most_at_home\": 29230.0, \"most_at_work\": 8795.0, \"lang_known\": 40620.0, \"mother_tongue_percent\": 0.10016577278932062, \"most_at_home_percent\": 0.08315380683419035}, {\"category\": \"Aboriginal languages\", \"language\": \"Iroquoian languages, n.i.e.\", \"mother_tongue\": 35.0, \"most_at_home\": 5.0, \"most_at_work\": 0.0, \"lang_known\": 115.0, \"mother_tongue_percent\": 9.956836261363879e-05, \"most_at_home_percent\": 1.42240518019484e-05}, {\"category\": \"Non-Official & Non-Aboriginal languages\", \"language\": \"Italian\", \"mother_tongue\": 375635.0, \"most_at_home\": 115415.0, \"most_at_work\": 1705.0, \"lang_known\": 574725.0, \"mother_tongue_percent\": 1.0686103397249773, \"most_at_home_percent\": 0.3283337877443749}, {\"category\": \"Non-Official & Non-Aboriginal languages\", \"language\": \"Italic (Romance) languages, n.i.e.\", \"mother_tongue\": 720.0, \"most_at_home\": 175.0, \"most_at_work\": 25.0, \"lang_known\": 2680.0, \"mother_tongue_percent\": 0.0020482634594805693, \"most_at_home_percent\": 0.0004978418130681939}, {\"category\": \"Non-Official & Non-Aboriginal languages\", \"language\": \"Japanese\", \"mother_tongue\": 43640.0, \"most_at_home\": 19785.0, \"most_at_work\": 3255.0, \"lang_known\": 83095.0, \"mother_tongue_percent\": 0.12414752412740562, \"most_at_home_percent\": 0.05628457298030981}, {\"category\": \"Non-Official & Non-Aboriginal languages\", \"language\": \"Kabyle\", \"mother_tongue\": 13150.0, \"most_at_home\": 5490.0, \"most_at_work\": 15.0, \"lang_known\": 17120.0, \"mother_tongue_percent\": 0.03740925623912429, \"most_at_home_percent\": 0.015618008878539341}, {\"category\": \"Non-Official & Non-Aboriginal languages\", \"language\": \"Kannada\", \"mother_tongue\": 3970.0, \"most_at_home\": 1630.0, \"most_at_work\": 10.0, \"lang_known\": 8245.0, \"mother_tongue_percent\": 0.01129389713074703, \"most_at_home_percent\": 0.004637040887435178}, {\"category\": \"Non-Official & Non-Aboriginal languages\", \"language\": \"Karenic languages\", \"mother_tongue\": 4705.0, \"most_at_home\": 3860.0, \"most_at_work\": 135.0, \"lang_known\": 4895.0, \"mother_tongue_percent\": 0.013384832745633443, \"most_at_home_percent\": 0.010980967991104165}, {\"category\": \"Non-Official & Non-Aboriginal languages\", \"language\": \"Kashmiri\", \"mother_tongue\": 565.0, \"most_at_home\": 135.0, \"most_at_work\": 0.0, \"lang_known\": 905.0, \"mother_tongue_percent\": 0.0016073178536201692, \"most_at_home_percent\": 0.00038404939865260677}, {\"category\": \"Aboriginal languages\", \"language\": \"Kaska (Nahani)\", \"mother_tongue\": 180.0, \"most_at_home\": 20.0, \"most_at_work\": 10.0, \"lang_known\": 365.0, \"mother_tongue_percent\": 0.0005120658648701423, \"most_at_home_percent\": 5.68962072077936e-05}, {\"category\": \"Non-Official & Non-Aboriginal languages\", \"language\": \"Khmer (Cambodian)\", \"mother_tongue\": 20130.0, \"most_at_home\": 10885.0, \"most_at_work\": 475.0, \"lang_known\": 27035.0, \"mother_tongue_percent\": 0.057266032554644256, \"most_at_home_percent\": 0.030965760772841664}, {\"category\": \"Non-Official & Non-Aboriginal languages\", \"language\": \"Kinyarwanda (Rwanda)\", \"mother_tongue\": 5250.0, \"most_at_home\": 1530.0, \"most_at_work\": 25.0, \"lang_known\": 7860.0, \"mother_tongue_percent\": 0.014935254392045818, \"most_at_home_percent\": 0.00435255985139621}, {\"category\": \"Non-Official & Non-Aboriginal languages\", \"language\": \"Konkani\", \"mother_tongue\": 3330.0, \"most_at_home\": 720.0, \"most_at_work\": 10.0, \"lang_known\": 6790.0, \"mother_tongue_percent\": 0.009473218500097634, \"most_at_home_percent\": 0.0020482634594805693}, {\"category\": \"Non-Official & Non-Aboriginal languages\", \"language\": \"Korean\", \"mother_tongue\": 153425.0, \"most_at_home\": 109705.0, \"most_at_work\": 12150.0, \"lang_known\": 172750.0, \"mother_tongue_percent\": 0.43646502954278665, \"most_at_home_percent\": 0.31208992058654983}, {\"category\": \"Non-Official & Non-Aboriginal languages\", \"language\": \"Kurdish\", \"mother_tongue\": 11705.0, \"most_at_home\": 6580.0, \"most_at_work\": 185.0, \"lang_known\": 15290.0, \"mother_tongue_percent\": 0.0332985052683612, \"most_at_home_percent\": 0.018718852171364094}, {\"category\": \"Aboriginal languages\", \"language\": \"Kutenai\", \"mother_tongue\": 110.0, \"most_at_home\": 10.0, \"most_at_work\": 0.0, \"lang_known\": 170.0, \"mother_tongue_percent\": 0.0003129291396428648, \"most_at_home_percent\": 2.84481036038968e-05}, {\"category\": \"Aboriginal languages\", \"language\": \"Kwakiutl (Kwak'wala)\", \"mother_tongue\": 325.0, \"most_at_home\": 25.0, \"most_at_work\": 15.0, \"lang_known\": 605.0, \"mother_tongue_percent\": 0.0009245633671266459, \"most_at_home_percent\": 7.1120259009742e-05}, {\"category\": \"Non-Official & Non-Aboriginal languages\", \"language\": \"Lao\", \"mother_tongue\": 12670.0, \"most_at_home\": 6175.0, \"most_at_work\": 150.0, \"lang_known\": 17235.0, \"mother_tongue_percent\": 0.036043747266137245, \"most_at_home_percent\": 0.017566703975406273}, {\"category\": \"Non-Official & Non-Aboriginal languages\", \"language\": \"Latvian\", \"mother_tongue\": 5450.0, \"most_at_home\": 1255.0, \"most_at_work\": 35.0, \"lang_known\": 6500.0, \"mother_tongue_percent\": 0.015504216464123756, \"most_at_home_percent\": 0.003570237002289048}, {\"category\": \"Aboriginal languages\", \"language\": \"Lillooet\", \"mother_tongue\": 315.0, \"most_at_home\": 25.0, \"most_at_work\": 15.0, \"lang_known\": 790.0, \"mother_tongue_percent\": 0.0008961152635227491, \"most_at_home_percent\": 7.1120259009742e-05}, {\"category\": \"Non-Official & Non-Aboriginal languages\", \"language\": \"Lingala\", \"mother_tongue\": 3805.0, \"most_at_home\": 1045.0, \"most_at_work\": 10.0, \"lang_known\": 17010.0, \"mother_tongue_percent\": 0.010824503421282732, \"most_at_home_percent\": 0.0029728268266072154}, {\"category\": \"Non-Official & Non-Aboriginal languages\", \"language\": \"Lithuanian\", \"mother_tongue\": 7075.0, \"most_at_home\": 2015.0, \"most_at_work\": 60.0, \"lang_known\": 8185.0, \"mother_tongue_percent\": 0.020127033299756986, \"most_at_home_percent\": 0.005732292876185205}, {\"category\": \"Non-Official & Non-Aboriginal languages\", \"language\": \"Macedonian\", \"mother_tongue\": 16770.0, \"most_at_home\": 6830.0, \"most_at_work\": 95.0, \"lang_known\": 23075.0, \"mother_tongue_percent\": 0.04770746974373493, \"most_at_home_percent\": 0.019430054761461514}, {\"category\": \"Non-Official & Non-Aboriginal languages\", \"language\": \"Malagasy\", \"mother_tongue\": 1430.0, \"most_at_home\": 430.0, \"most_at_work\": 0.0, \"lang_known\": 2340.0, \"mother_tongue_percent\": 0.004068078815357242, \"most_at_home_percent\": 0.0012232684549675623}, {\"category\": \"Non-Official & Non-Aboriginal languages\", \"language\": \"Malay\", \"mother_tongue\": 12275.0, \"most_at_home\": 3625.0, \"most_at_work\": 140.0, \"lang_known\": 22470.0, \"mother_tongue_percent\": 0.03492004717378332, \"most_at_home_percent\": 0.01031243755641259}, {\"category\": \"Non-Official & Non-Aboriginal languages\", \"language\": \"Malayalam\", \"mother_tongue\": 28565.0, \"most_at_home\": 15440.0, \"most_at_work\": 95.0, \"lang_known\": 37810.0, \"mother_tongue_percent\": 0.08126200794453121, \"most_at_home_percent\": 0.04392387196441666}, {\"category\": \"Aboriginal languages\", \"language\": \"Malecite\", \"mother_tongue\": 300.0, \"most_at_home\": 55.0, \"most_at_work\": 10.0, \"lang_known\": 760.0, \"mother_tongue_percent\": 0.0008534431081169041, \"most_at_home_percent\": 0.0001564645698214324}, {\"category\": \"Non-Official & Non-Aboriginal languages\", \"language\": \"Maltese\", \"mother_tongue\": 5565.0, \"most_at_home\": 1125.0, \"most_at_work\": 25.0, \"lang_known\": 7625.0, \"mother_tongue_percent\": 0.015831369655568566, \"most_at_home_percent\": 0.0032004116554383896}, {\"category\": \"Non-Official & Non-Aboriginal languages\", \"language\": \"Mandarin\", \"mother_tongue\": 592040.0, \"most_at_home\": 462890.0, \"most_at_work\": 60090.0, \"lang_known\": 814450.0, \"mother_tongue_percent\": 1.684241525765106, \"most_at_home_percent\": 1.316834267720779}, {\"category\": \"Non-Official & Non-Aboriginal languages\", \"language\": \"Marathi\", \"mother_tongue\": 8295.0, \"most_at_home\": 3780.0, \"most_at_work\": 30.0, \"lang_known\": 15565.0, \"mother_tongue_percent\": 0.023597701939432395, \"most_at_home_percent\": 0.01075338316227299}, {\"category\": \"Aboriginal languages\", \"language\": \"Mi'kmaq\", \"mother_tongue\": 6690.0, \"most_at_home\": 3565.0, \"most_at_work\": 915.0, \"lang_known\": 9025.0, \"mother_tongue_percent\": 0.019031781311006957, \"most_at_home_percent\": 0.010141748934789209}, {\"category\": \"Aboriginal languages\", \"language\": \"Michif\", \"mother_tongue\": 465.0, \"most_at_home\": 80.0, \"most_at_work\": 10.0, \"lang_known\": 1210.0, \"mother_tongue_percent\": 0.001322836817581201, \"most_at_home_percent\": 0.0002275848288311744}, {\"category\": \"Non-Official & Non-Aboriginal languages\", \"language\": \"Min Dong\", \"mother_tongue\": 1230.0, \"most_at_home\": 345.0, \"most_at_work\": 30.0, \"lang_known\": 1045.0, \"mother_tongue_percent\": 0.0034991167432793066, \"most_at_home_percent\": 0.0009814595743344394}, {\"category\": \"Non-Official & Non-Aboriginal languages\", \"language\": \"Min Nan (Chaochow, Teochow, Fukien, Taiwanese)\", \"mother_tongue\": 31800.0, \"most_at_home\": 13965.0, \"most_at_work\": 565.0, \"lang_known\": 42840.0, \"mother_tongue_percent\": 0.09046496946039181, \"most_at_home_percent\": 0.03972777668284188}, {\"category\": \"Aboriginal languages\", \"language\": \"Mohawk\", \"mother_tongue\": 985.0, \"most_at_home\": 255.0, \"most_at_work\": 30.0, \"lang_known\": 2415.0, \"mother_tongue_percent\": 0.0028021382049838346, \"most_at_home_percent\": 0.0007254266418993683}, {\"category\": \"Non-Official & Non-Aboriginal languages\", \"language\": \"Mongolian\", \"mother_tongue\": 1575.0, \"most_at_home\": 905.0, \"most_at_work\": 10.0, \"lang_known\": 2095.0, \"mother_tongue_percent\": 0.004480576317613745, \"most_at_home_percent\": 0.0025745533761526605}, {\"category\": \"Aboriginal languages\", \"language\": \"Montagnais (Innu)\", \"mother_tongue\": 10235.0, \"most_at_home\": 8585.0, \"most_at_work\": 2055.0, \"lang_known\": 11445.0, \"mother_tongue_percent\": 0.029116634038588374, \"most_at_home_percent\": 0.0244226969439454}, {\"category\": \"Aboriginal languages\", \"language\": \"Moose Cree\", \"mother_tongue\": 105.0, \"most_at_home\": 10.0, \"most_at_work\": 0.0, \"lang_known\": 195.0, \"mother_tongue_percent\": 0.0002987050878409164, \"most_at_home_percent\": 2.84481036038968e-05}, {\"category\": \"Aboriginal languages\", \"language\": \"Naskapi\", \"mother_tongue\": 1205.0, \"most_at_home\": 1195.0, \"most_at_work\": 370.0, \"lang_known\": 1465.0, \"mother_tongue_percent\": 0.003427996484269564, \"most_at_home_percent\": 0.003399548380665667}, {\"category\": \"Non-Official & Non-Aboriginal languages\", \"language\": \"Nepali\", \"mother_tongue\": 18275.0, \"most_at_home\": 13375.0, \"most_at_work\": 195.0, \"lang_known\": 21385.0, \"mother_tongue_percent\": 0.0519889093361214, \"most_at_home_percent\": 0.03804933857021197}, {\"category\": \"Non-Official & Non-Aboriginal languages\", \"language\": \"Niger-Congo languages, n.i.e.\", \"mother_tongue\": 19135.0, \"most_at_home\": 4010.0, \"most_at_work\": 30.0, \"lang_known\": 40760.0, \"mother_tongue_percent\": 0.05443544624605652, \"most_at_home_percent\": 0.011407689545162617}, {\"category\": \"Non-Official & Non-Aboriginal languages\", \"language\": \"Nilo-Saharan languages, n.i.e.\", \"mother_tongue\": 3750.0, \"most_at_home\": 1520.0, \"most_at_work\": 0.0, \"lang_known\": 4550.0, \"mother_tongue_percent\": 0.010668038851461299, \"most_at_home_percent\": 0.004324111747792314}, {\"category\": \"Aboriginal languages\", \"language\": \"Nisga'a\", \"mother_tongue\": 400.0, \"most_at_home\": 75.0, \"most_at_work\": 10.0, \"lang_known\": 1055.0, \"mother_tongue_percent\": 0.001137924144155872, \"most_at_home_percent\": 0.00021336077702922601}, {\"category\": \"Aboriginal languages\", \"language\": \"North Slavey (Hare)\", \"mother_tongue\": 765.0, \"most_at_home\": 340.0, \"most_at_work\": 95.0, \"lang_known\": 1005.0, \"mother_tongue_percent\": 0.002176279925698105, \"most_at_home_percent\": 0.0009672355225324912}, {\"category\": \"Aboriginal languages\", \"language\": \"Northern East Cree\", \"mother_tongue\": 315.0, \"most_at_home\": 110.0, \"most_at_work\": 35.0, \"lang_known\": 550.0, \"mother_tongue_percent\": 0.0008961152635227491, \"most_at_home_percent\": 0.0003129291396428648}, {\"category\": \"Aboriginal languages\", \"language\": \"Northern Tutchone\", \"mother_tongue\": 220.0, \"most_at_home\": 30.0, \"most_at_work\": 0.0, \"lang_known\": 280.0, \"mother_tongue_percent\": 0.0006258582792857296, \"most_at_home_percent\": 8.534431081169039e-05}, {\"category\": \"Non-Official & Non-Aboriginal languages\", \"language\": \"Norwegian\", \"mother_tongue\": 4615.0, \"most_at_home\": 350.0, \"most_at_work\": 70.0, \"lang_known\": 8120.0, \"mother_tongue_percent\": 0.013128799813198373, \"most_at_home_percent\": 0.0009956836261363878}, {\"category\": \"Aboriginal languages\", \"language\": \"Nuu-chah-nulth (Nootka)\", \"mother_tongue\": 280.0, \"most_at_home\": 30.0, \"most_at_work\": 10.0, \"lang_known\": 560.0, \"mother_tongue_percent\": 0.0007965469009091103, \"most_at_home_percent\": 8.534431081169039e-05}, {\"category\": \"Aboriginal languages\", \"language\": \"Oji-Cree\", \"mother_tongue\": 12855.0, \"most_at_home\": 7905.0, \"most_at_work\": 1080.0, \"lang_known\": 15605.0, \"mother_tongue_percent\": 0.03657003718280933, \"most_at_home_percent\": 0.022488225898880422}, {\"category\": \"Aboriginal languages\", \"language\": \"Ojibway\", \"mother_tongue\": 17885.0, \"most_at_home\": 6175.0, \"most_at_work\": 765.0, \"lang_known\": 28580.0, \"mother_tongue_percent\": 0.05087943329556943, \"most_at_home_percent\": 0.017566703975406273}, {\"category\": \"Aboriginal languages\", \"language\": \"Okanagan\", \"mother_tongue\": 275.0, \"most_at_home\": 80.0, \"most_at_work\": 20.0, \"lang_known\": 820.0, \"mother_tongue_percent\": 0.000782322849107162, \"most_at_home_percent\": 0.0002275848288311744}, {\"category\": \"Aboriginal languages\", \"language\": \"Oneida\", \"mother_tongue\": 60.0, \"most_at_home\": 15.0, \"most_at_work\": 0.0, \"lang_known\": 185.0, \"mother_tongue_percent\": 0.00017068862162338078, \"most_at_home_percent\": 4.2672155405845196e-05}, {\"category\": \"Non-Official & Non-Aboriginal languages\", \"language\": \"Oriya (Odia)\", \"mother_tongue\": 1055.0, \"most_at_home\": 475.0, \"most_at_work\": 0.0, \"lang_known\": 1530.0, \"mother_tongue_percent\": 0.003001274930211112, \"most_at_home_percent\": 0.001351284921185098}, {\"category\": \"Non-Official & Non-Aboriginal languages\", \"language\": \"Oromo\", \"mother_tongue\": 4960.0, \"most_at_home\": 3410.0, \"most_at_work\": 45.0, \"lang_known\": 6245.0, \"mother_tongue_percent\": 0.014110259387532811, \"most_at_home_percent\": 0.009700803328928807}, {\"category\": \"Non-Official & Non-Aboriginal languages\", \"language\": \"Other languages, n.i.e.\", \"mother_tongue\": 3685.0, \"most_at_home\": 1110.0, \"most_at_work\": 80.0, \"lang_known\": 9730.0, \"mother_tongue_percent\": 0.01048312617803597, \"most_at_home_percent\": 0.0031577395000325446}, {\"category\": \"Aboriginal languages\", \"language\": \"Ottawa (Odawa)\", \"mother_tongue\": 150.0, \"most_at_home\": 75.0, \"most_at_work\": 0.0, \"lang_known\": 205.0, \"mother_tongue_percent\": 0.00042672155405845203, \"most_at_home_percent\": 0.00021336077702922601}, {\"category\": \"Non-Official & Non-Aboriginal languages\", \"language\": \"Pampangan (Kapampangan, Pampango)\", \"mother_tongue\": 4045.0, \"most_at_home\": 1200.0, \"most_at_work\": 10.0, \"lang_known\": 5425.0, \"mother_tongue_percent\": 0.011507257907776255, \"most_at_home_percent\": 0.0034137724324676162}, {\"category\": \"Non-Official & Non-Aboriginal languages\", \"language\": \"Pangasinan\", \"mother_tongue\": 1390.0, \"most_at_home\": 240.0, \"most_at_work\": 0.0, \"lang_known\": 1800.0, \"mother_tongue_percent\": 0.003954286400941655, \"most_at_home_percent\": 0.0006827544864935231}, {\"category\": \"Non-Official & Non-Aboriginal languages\", \"language\": \"Pashto\", \"mother_tongue\": 16905.0, \"most_at_home\": 10590.0, \"most_at_work\": 50.0, \"lang_known\": 23180.0, \"mother_tongue_percent\": 0.04809151914238754, \"most_at_home_percent\": 0.030126541716526713}, {\"category\": \"Non-Official & Non-Aboriginal languages\", \"language\": \"Persian (Farsi)\", \"mother_tongue\": 214200.0, \"most_at_home\": 143025.0, \"most_at_work\": 4580.0, \"lang_known\": 252325.0, \"mother_tongue_percent\": 0.6093583791954694, \"most_at_home_percent\": 0.40687900179473396}, {\"category\": \"Aboriginal languages\", \"language\": \"Plains Cree\", \"mother_tongue\": 3065.0, \"most_at_home\": 1345.0, \"most_at_work\": 95.0, \"lang_known\": 5905.0, \"mother_tongue_percent\": 0.008719343754594369, \"most_at_home_percent\": 0.0038262699347241195}, {\"category\": \"Non-Official & Non-Aboriginal languages\", \"language\": \"Polish\", \"mother_tongue\": 181710.0, \"most_at_home\": 74780.0, \"most_at_work\": 2495.0, \"lang_known\": 214965.0, \"mother_tongue_percent\": 0.5169304905864087, \"most_at_home_percent\": 0.21273491874994024}, {\"category\": \"Non-Official & Non-Aboriginal languages\", \"language\": \"Portuguese\", \"mother_tongue\": 221535.0, \"most_at_home\": 98710.0, \"most_at_work\": 7485.0, \"lang_known\": 295955.0, \"mother_tongue_percent\": 0.6302250631889278, \"most_at_home_percent\": 0.2808112306740653}, {\"category\": \"Non-Official & Non-Aboriginal languages\", \"language\": \"Punjabi (Panjabi)\", \"mother_tongue\": 501680.0, \"most_at_home\": 349140.0, \"most_at_work\": 27865.0, \"lang_known\": 668240.0, \"mother_tongue_percent\": 1.4271844616002944, \"most_at_home_percent\": 0.9932370892264529}, {\"category\": \"Non-Official & Non-Aboriginal languages\", \"language\": \"Quebec Sign Language\", \"mother_tongue\": 695.0, \"most_at_home\": 730.0, \"most_at_work\": 130.0, \"lang_known\": 4665.0, \"mother_tongue_percent\": 0.0019771432004708277, \"most_at_home_percent\": 0.0020767115630844664}, {\"category\": \"Non-Official & Non-Aboriginal languages\", \"language\": \"Romanian\", \"mother_tongue\": 96660.0, \"most_at_home\": 53325.0, \"most_at_work\": 745.0, \"lang_known\": 115050.0, \"mother_tongue_percent\": 0.27497936943526646, \"most_at_home_percent\": 0.15169951246777968}, {\"category\": \"Non-Official & Non-Aboriginal languages\", \"language\": \"Rundi (Kirundi)\", \"mother_tongue\": 5850.0, \"most_at_home\": 2110.0, \"most_at_work\": 0.0, \"lang_known\": 8590.0, \"mother_tongue_percent\": 0.016642140608279628, \"most_at_home_percent\": 0.006002549860422224}, {\"category\": \"Non-Official & Non-Aboriginal languages\", \"language\": \"Russian\", \"mother_tongue\": 188255.0, \"most_at_home\": 116595.0, \"most_at_work\": 4855.0, \"lang_known\": 269645.0, \"mother_tongue_percent\": 0.5355497743951592, \"most_at_home_percent\": 0.3316906639696347}, {\"category\": \"Aboriginal languages\", \"language\": \"Salish languages, n.i.e.\", \"mother_tongue\": 260.0, \"most_at_home\": 25.0, \"most_at_work\": 0.0, \"lang_known\": 560.0, \"mother_tongue_percent\": 0.0007396506937013168, \"most_at_home_percent\": 7.1120259009742e-05}, {\"category\": \"Aboriginal languages\", \"language\": \"Sarsi (Sarcee)\", \"mother_tongue\": 80.0, \"most_at_home\": 10.0, \"most_at_work\": 0.0, \"lang_known\": 145.0, \"mother_tongue_percent\": 0.0002275848288311744, \"most_at_home_percent\": 2.84481036038968e-05}, {\"category\": \"Non-Official & Non-Aboriginal languages\", \"language\": \"Scottish Gaelic\", \"mother_tongue\": 1090.0, \"most_at_home\": 190.0, \"most_at_work\": 15.0, \"lang_known\": 3980.0, \"mother_tongue_percent\": 0.003100843292824751, \"most_at_home_percent\": 0.0005405139684740392}, {\"category\": \"Aboriginal languages\", \"language\": \"Sekani\", \"mother_tongue\": 85.0, \"most_at_home\": 15.0, \"most_at_work\": 0.0, \"lang_known\": 185.0, \"mother_tongue_percent\": 0.0002418088806331228, \"most_at_home_percent\": 4.2672155405845196e-05}, {\"category\": \"Non-Official & Non-Aboriginal languages\", \"language\": \"Semitic languages, n.i.e.\", \"mother_tongue\": 2150.0, \"most_at_home\": 1205.0, \"most_at_work\": 65.0, \"lang_known\": 3220.0, \"mother_tongue_percent\": 0.006116342274837812, \"most_at_home_percent\": 0.003427996484269564}, {\"category\": \"Non-Official & Non-Aboriginal languages\", \"language\": \"Serbian\", \"mother_tongue\": 57350.0, \"most_at_home\": 31750.0, \"most_at_work\": 530.0, \"lang_known\": 73780.0, \"mother_tongue_percent\": 0.16314987416834814, \"most_at_home_percent\": 0.09032272894237234}, {\"category\": \"Non-Official & Non-Aboriginal languages\", \"language\": \"Serbo-Croatian\", \"mother_tongue\": 9550.0, \"most_at_home\": 3890.0, \"most_at_work\": 30.0, \"lang_known\": 11275.0, \"mother_tongue_percent\": 0.027167938941721443, \"most_at_home_percent\": 0.011066312301915855}, {\"category\": \"Non-Official & Non-Aboriginal languages\", \"language\": \"Shona\", \"mother_tongue\": 3185.0, \"most_at_home\": 1035.0, \"most_at_work\": 0.0, \"lang_known\": 5430.0, \"mother_tongue_percent\": 0.00906072099784113, \"most_at_home_percent\": 0.0029443787230033183}, {\"category\": \"Aboriginal languages\", \"language\": \"Shuswap (Secwepemctsin)\", \"mother_tongue\": 445.0, \"most_at_home\": 50.0, \"most_at_work\": 35.0, \"lang_known\": 1305.0, \"mother_tongue_percent\": 0.0012659406103734075, \"most_at_home_percent\": 0.000142240518019484}, {\"category\": \"Non-Official & Non-Aboriginal languages\", \"language\": \"Sign languages, n.i.e\", \"mother_tongue\": 4125.0, \"most_at_home\": 6690.0, \"most_at_work\": 645.0, \"lang_known\": 22280.0, \"mother_tongue_percent\": 0.01173484273660743, \"most_at_home_percent\": 0.019031781311006957}, {\"category\": \"Non-Official & Non-Aboriginal languages\", \"language\": \"Sindhi\", \"mother_tongue\": 11860.0, \"most_at_home\": 4975.0, \"most_at_work\": 35.0, \"lang_known\": 20260.0, \"mother_tongue_percent\": 0.0337394508742216, \"most_at_home_percent\": 0.014152931542938656}, {\"category\": \"Non-Official & Non-Aboriginal languages\", \"language\": \"Sinhala (Sinhalese)\", \"mother_tongue\": 16335.0, \"most_at_home\": 7790.0, \"most_at_work\": 40.0, \"lang_known\": 27825.0, \"mother_tongue_percent\": 0.046469977236965415, \"most_at_home_percent\": 0.022161072707435607}, {\"category\": \"Aboriginal languages\", \"language\": \"Siouan languages, n.i.e.\", \"mother_tongue\": 55.0, \"most_at_home\": 20.0, \"most_at_work\": 0.0, \"lang_known\": 140.0, \"mother_tongue_percent\": 0.0001564645698214324, \"most_at_home_percent\": 5.68962072077936e-05}, {\"category\": \"Aboriginal languages\", \"language\": \"Slavey, n.o.s.\", \"mother_tongue\": 280.0, \"most_at_home\": 105.0, \"most_at_work\": 10.0, \"lang_known\": 675.0, \"mother_tongue_percent\": 0.0007965469009091103, \"most_at_home_percent\": 0.0002987050878409164}, {\"category\": \"Non-Official & Non-Aboriginal languages\", \"language\": \"Slavic languages, n.i.e.\", \"mother_tongue\": 2420.0, \"most_at_home\": 670.0, \"most_at_work\": 10.0, \"lang_known\": 2995.0, \"mother_tongue_percent\": 0.006884441072143025, \"most_at_home_percent\": 0.0019060229414610854}, {\"category\": \"Non-Official & Non-Aboriginal languages\", \"language\": \"Slovak\", \"mother_tongue\": 17580.0, \"most_at_home\": 5610.0, \"most_at_work\": 100.0, \"lang_known\": 21470.0, \"mother_tongue_percent\": 0.05001176613565057, \"most_at_home_percent\": 0.015959386121786105}, {\"category\": \"Non-Official & Non-Aboriginal languages\", \"language\": \"Slovene (Slovenian)\", \"mother_tongue\": 9785.0, \"most_at_home\": 2055.0, \"most_at_work\": 15.0, \"lang_known\": 11490.0, \"mother_tongue_percent\": 0.027836469376413014, \"most_at_home_percent\": 0.005846085290600792}, {\"category\": \"Non-Official & Non-Aboriginal languages\", \"language\": \"Somali\", \"mother_tongue\": 36755.0, \"most_at_home\": 22895.0, \"most_at_work\": 220.0, \"lang_known\": 49660.0, \"mother_tongue_percent\": 0.10456100479612268, \"most_at_home_percent\": 0.06513193320112172}, {\"category\": \"Aboriginal languages\", \"language\": \"South Slavey\", \"mother_tongue\": 945.0, \"most_at_home\": 370.0, \"most_at_work\": 35.0, \"lang_known\": 1365.0, \"mother_tongue_percent\": 0.0026883457905682476, \"most_at_home_percent\": 0.0010525798333441815}, {\"category\": \"Aboriginal languages\", \"language\": \"Southern East Cree\", \"mother_tongue\": 45.0, \"most_at_home\": 15.0, \"most_at_work\": 0.0, \"lang_known\": 40.0, \"mother_tongue_percent\": 0.00012801646621753558, \"most_at_home_percent\": 4.2672155405845196e-05}, {\"category\": \"Aboriginal languages\", \"language\": \"Southern Tutchone\", \"mother_tongue\": 70.0, \"most_at_home\": 5.0, \"most_at_work\": 0.0, \"lang_known\": 145.0, \"mother_tongue_percent\": 0.00019913672522727758, \"most_at_home_percent\": 1.42240518019484e-05}, {\"category\": \"Non-Official & Non-Aboriginal languages\", \"language\": \"Spanish\", \"mother_tongue\": 458850.0, \"most_at_home\": 263505.0, \"most_at_work\": 13030.0, \"lang_known\": 995260.0, \"mother_tongue_percent\": 1.3053412338648045, \"most_at_home_percent\": 0.7496217540144826}, {\"category\": \"Aboriginal languages\", \"language\": \"Squamish\", \"mother_tongue\": 40.0, \"most_at_home\": 5.0, \"most_at_work\": 10.0, \"lang_known\": 285.0, \"mother_tongue_percent\": 0.0001137924144155872, \"most_at_home_percent\": 1.42240518019484e-05}, {\"category\": \"Aboriginal languages\", \"language\": \"Stoney\", \"mother_tongue\": 3025.0, \"most_at_home\": 1950.0, \"most_at_work\": 240.0, \"lang_known\": 3675.0, \"mother_tongue_percent\": 0.008605551340178782, \"most_at_home_percent\": 0.005547380202759876}, {\"category\": \"Aboriginal languages\", \"language\": \"Straits\", \"mother_tongue\": 80.0, \"most_at_home\": 25.0, \"most_at_work\": 15.0, \"lang_known\": 365.0, \"mother_tongue_percent\": 0.0002275848288311744, \"most_at_home_percent\": 7.1120259009742e-05}, {\"category\": \"Non-Official & Non-Aboriginal languages\", \"language\": \"Swahili\", \"mother_tongue\": 13370.0, \"most_at_home\": 5370.0, \"most_at_work\": 80.0, \"lang_known\": 38685.0, \"mother_tongue_percent\": 0.038035114518410025, \"most_at_home_percent\": 0.01527663163529258}, {\"category\": \"Aboriginal languages\", \"language\": \"Swampy Cree\", \"mother_tongue\": 1440.0, \"most_at_home\": 330.0, \"most_at_work\": 10.0, \"lang_known\": 2350.0, \"mother_tongue_percent\": 0.004096526918961139, \"most_at_home_percent\": 0.0009387874189285944}, {\"category\": \"Non-Official & Non-Aboriginal languages\", \"language\": \"Swedish\", \"mother_tongue\": 6840.0, \"most_at_home\": 1050.0, \"most_at_work\": 125.0, \"lang_known\": 14140.0, \"mother_tongue_percent\": 0.01945850286506541, \"most_at_home_percent\": 0.002987050878409164}, {\"category\": \"Non-Official & Non-Aboriginal languages\", \"language\": \"Tagalog (Pilipino, Filipino)\", \"mother_tongue\": 431385.0, \"most_at_home\": 213790.0, \"most_at_work\": 3450.0, \"lang_known\": 612735.0, \"mother_tongue_percent\": 1.227208517316702, \"most_at_home_percent\": 0.6081920069477096}, {\"category\": \"Aboriginal languages\", \"language\": \"Tahltan\", \"mother_tongue\": 95.0, \"most_at_home\": 5.0, \"most_at_work\": 0.0, \"lang_known\": 265.0, \"mother_tongue_percent\": 0.0002702569842370196, \"most_at_home_percent\": 1.42240518019484e-05}, {\"category\": \"Non-Official & Non-Aboriginal languages\", \"language\": \"Tai-Kadai languages, n.i.e\", \"mother_tongue\": 85.0, \"most_at_home\": 30.0, \"most_at_work\": 0.0, \"lang_known\": 115.0, \"mother_tongue_percent\": 0.0002418088806331228, \"most_at_home_percent\": 8.534431081169039e-05}, {\"category\": \"Non-Official & Non-Aboriginal languages\", \"language\": \"Tamil\", \"mother_tongue\": 140720.0, \"most_at_home\": 96955.0, \"most_at_work\": 2085.0, \"lang_known\": 189860.0, \"mother_tongue_percent\": 0.4003217139140357, \"most_at_home_percent\": 0.2758185884915814}, {\"category\": \"Non-Official & Non-Aboriginal languages\", \"language\": \"Telugu\", \"mother_tongue\": 15660.0, \"most_at_home\": 8280.0, \"most_at_work\": 40.0, \"lang_known\": 23165.0, \"mother_tongue_percent\": 0.04454973024370239, \"most_at_home_percent\": 0.023555029784026547}, {\"category\": \"Non-Official & Non-Aboriginal languages\", \"language\": \"Thai\", \"mother_tongue\": 9255.0, \"most_at_home\": 3365.0, \"most_at_work\": 525.0, \"lang_known\": 15395.0, \"mother_tongue_percent\": 0.026328719885406485, \"most_at_home_percent\": 0.009572786862711274}, {\"category\": \"Aboriginal languages\", \"language\": \"Thompson (Ntlakapamux)\", \"mother_tongue\": 335.0, \"most_at_home\": 20.0, \"most_at_work\": 0.0, \"lang_known\": 450.0, \"mother_tongue_percent\": 0.0009530114707305427, \"most_at_home_percent\": 5.68962072077936e-05}, {\"category\": \"Non-Official & Non-Aboriginal languages\", \"language\": \"Tibetan\", \"mother_tongue\": 6160.0, \"most_at_home\": 4590.0, \"most_at_work\": 50.0, \"lang_known\": 7050.0, \"mother_tongue_percent\": 0.017524031820000428, \"most_at_home_percent\": 0.01305767955418863}, {\"category\": \"Non-Official & Non-Aboriginal languages\", \"language\": \"Tibeto-Burman languages, n.i.e.\", \"mother_tongue\": 1405.0, \"most_at_home\": 655.0, \"most_at_work\": 15.0, \"lang_known\": 2380.0, \"mother_tongue_percent\": 0.0039969585563475, \"most_at_home_percent\": 0.0018633507860552402}, {\"category\": \"Non-Official & Non-Aboriginal languages\", \"language\": \"Tigrigna\", \"mother_tongue\": 16645.0, \"most_at_home\": 10205.0, \"most_at_work\": 130.0, \"lang_known\": 21340.0, \"mother_tongue_percent\": 0.04735186844868622, \"most_at_home_percent\": 0.02903128972777668}, {\"category\": \"Aboriginal languages\", \"language\": \"Tsimshian\", \"mother_tongue\": 200.0, \"most_at_home\": 30.0, \"most_at_work\": 10.0, \"lang_known\": 410.0, \"mother_tongue_percent\": 0.000568962072077936, \"most_at_home_percent\": 8.534431081169039e-05}, {\"category\": \"Non-Official & Non-Aboriginal languages\", \"language\": \"Turkic languages, n.i.e.\", \"mother_tongue\": 1315.0, \"most_at_home\": 455.0, \"most_at_work\": 10.0, \"lang_known\": 1875.0, \"mother_tongue_percent\": 0.0037409256239124295, \"most_at_home_percent\": 0.0012943887139773042}, {\"category\": \"Non-Official & Non-Aboriginal languages\", \"language\": \"Turkish\", \"mother_tongue\": 32815.0, \"most_at_home\": 18955.0, \"most_at_work\": 690.0, \"lang_known\": 50770.0, \"mother_tongue_percent\": 0.09335245197618734, \"most_at_home_percent\": 0.05392338038118638}, {\"category\": \"Non-Official & Non-Aboriginal languages\", \"language\": \"Ukrainian\", \"mother_tongue\": 102485.0, \"most_at_home\": 28250.0, \"most_at_work\": 1210.0, \"lang_known\": 132115.0, \"mother_tongue_percent\": 0.29155038978453635, \"most_at_home_percent\": 0.08036589268100845}, {\"category\": \"Non-Official & Non-Aboriginal languages\", \"language\": \"Uralic languages, n.i.e.\", \"mother_tongue\": 10.0, \"most_at_home\": 5.0, \"most_at_work\": 0.0, \"lang_known\": 25.0, \"mother_tongue_percent\": 2.84481036038968e-05, \"most_at_home_percent\": 1.42240518019484e-05}, {\"category\": \"Non-Official & Non-Aboriginal languages\", \"language\": \"Urdu\", \"mother_tongue\": 210815.0, \"most_at_home\": 128785.0, \"most_at_work\": 1495.0, \"lang_known\": 322220.0, \"mother_tongue_percent\": 0.5997286961255504, \"most_at_home_percent\": 0.3663689022627849}, {\"category\": \"Non-Official & Non-Aboriginal languages\", \"language\": \"Uyghur\", \"mother_tongue\": 1035.0, \"most_at_home\": 610.0, \"most_at_work\": 20.0, \"lang_known\": 1390.0, \"mother_tongue_percent\": 0.0029443787230033183, \"most_at_home_percent\": 0.0017353343198377048}, {\"category\": \"Non-Official & Non-Aboriginal languages\", \"language\": \"Uzbek\", \"mother_tongue\": 1720.0, \"most_at_home\": 995.0, \"most_at_work\": 15.0, \"lang_known\": 2465.0, \"mother_tongue_percent\": 0.004893073819870249, \"most_at_home_percent\": 0.0028305863085877313}, {\"category\": \"Non-Official & Non-Aboriginal languages\", \"language\": \"Vietnamese\", \"mother_tongue\": 156430.0, \"most_at_home\": 104245.0, \"most_at_work\": 8075.0, \"lang_known\": 198895.0, \"mother_tongue_percent\": 0.4450136846757576, \"most_at_home_percent\": 0.2965572560188222}, {\"category\": \"Non-Official & Non-Aboriginal languages\", \"language\": \"Vlaams (Flemish)\", \"mother_tongue\": 3895.0, \"most_at_home\": 355.0, \"most_at_work\": 35.0, \"lang_known\": 4400.0, \"mother_tongue_percent\": 0.011080536353717804, \"most_at_home_percent\": 0.0010099076779383363}, {\"category\": \"Non-Official & Non-Aboriginal languages\", \"language\": \"Waray-Waray\", \"mother_tongue\": 1110.0, \"most_at_home\": 310.0, \"most_at_work\": 0.0, \"lang_known\": 1395.0, \"mother_tongue_percent\": 0.0031577395000325446, \"most_at_home_percent\": 0.0008818912117208007}, {\"category\": \"Non-Official & Non-Aboriginal languages\", \"language\": \"Welsh\", \"mother_tongue\": 1075.0, \"most_at_home\": 95.0, \"most_at_work\": 0.0, \"lang_known\": 1695.0, \"mother_tongue_percent\": 0.003058171137418906, \"most_at_home_percent\": 0.0002702569842370196}, {\"category\": \"Non-Official & Non-Aboriginal languages\", \"language\": \"Wolof\", \"mother_tongue\": 3990.0, \"most_at_home\": 1385.0, \"most_at_work\": 10.0, \"lang_known\": 8240.0, \"mother_tongue_percent\": 0.011350793337954822, \"most_at_home_percent\": 0.003940062349139706}, {\"category\": \"Aboriginal languages\", \"language\": \"Woods Cree\", \"mother_tongue\": 1840.0, \"most_at_home\": 800.0, \"most_at_work\": 75.0, \"lang_known\": 2665.0, \"mother_tongue_percent\": 0.005234451063117011, \"most_at_home_percent\": 0.002275848288311744}, {\"category\": \"Non-Official & Non-Aboriginal languages\", \"language\": \"Wu (Shanghainese)\", \"mother_tongue\": 12915.0, \"most_at_home\": 7650.0, \"most_at_work\": 105.0, \"lang_known\": 16530.0, \"mother_tongue_percent\": 0.03674072580443272, \"most_at_home_percent\": 0.02176279925698105}, {\"category\": \"Non-Official & Non-Aboriginal languages\", \"language\": \"Yiddish\", \"mother_tongue\": 13555.0, \"most_at_home\": 7085.0, \"most_at_work\": 895.0, \"lang_known\": 20985.0, \"mother_tongue_percent\": 0.03856140443508211, \"most_at_home_percent\": 0.020155481403360882}, {\"category\": \"Non-Official & Non-Aboriginal languages\", \"language\": \"Yoruba\", \"mother_tongue\": 9080.0, \"most_at_home\": 2615.0, \"most_at_work\": 15.0, \"lang_known\": 22415.0, \"mother_tongue_percent\": 0.025830878072338293, \"most_at_home_percent\": 0.007439179092419013}, {\"category\": \"Non-Official & Non-Aboriginal languages\", \"language\": \"Yoruba\", \"mother_tongue\": 9080.0, \"most_at_home\": 2615.0, \"most_at_work\": 15.0, \"lang_known\": 22415.0, \"mother_tongue_percent\": 0.025830878072338293, \"most_at_home_percent\": 0.007439179092419013}]}}, {\"mode\": \"vega-lite\"});\n</script>",
      "application/papermill.record/text/plain": "alt.Chart(...)"
     },
     "metadata": {
      "scrapbook": {
       "mime_prefix": "application/papermill.record/",
       "name": "can_lang_plot_category"
      }
     },
     "output_type": "display_data"
    }
   ],
   "source": [
    "glue('can_lang_plot_category', can_lang_plot_category, display=False)"
   ]
  },
  {
   "cell_type": "markdown",
   "id": "33a158fd",
   "metadata": {},
   "source": [
    ":::{glue:figure} can_lang_plot_category\n",
    ":figwidth: 700px \n",
    ":name: can_lang_plot_category\n",
    "\n",
    "Scatter plot of percentage of Canadians reporting a language as their mother tongue vs the primary language at home colored by language category.\n",
    ":::\n",
    "\n",
    "\n",
    "The legend in {numref}`can_lang_plot_category`\n",
    "takes up valuable plot area. \n",
    "We can improve this by moving the legend title using the `alt.Legend` function\n",
    "with the arguments `legendX`, `legendY` and `direction`\n",
    "arguments of the `theme` function. \n",
    "Here we set the `direction` to `\"vertical\"` so that the legend items remain \n",
    "vertically stacked on top of each other. The default `direction` is horizontal, which won't work\n",
    "not work well for this particular visualization \n",
    "because the legend labels are quite long \n",
    "and would run off the page if displayed this way."
   ]
  },
  {
   "cell_type": "code",
   "execution_count": 36,
   "id": "df047f04",
   "metadata": {
    "execution": {
     "iopub.execute_input": "2022-07-19T22:59:15.516626Z",
     "iopub.status.busy": "2022-07-19T22:59:15.516491Z",
     "iopub.status.idle": "2022-07-19T22:59:15.520858Z",
     "shell.execute_reply": "2022-07-19T22:59:15.520569Z"
    }
   },
   "outputs": [],
   "source": [
    "can_lang_plot_legend = alt.Chart(can_lang).mark_circle().encode(\n",
    "    x = alt.X(\"most_at_home_percent\",title = [\"Language spoken most at home\", \"(number of Canadian residents)\"], scale=alt.Scale(type=\"log\"),axis=alt.Axis(tickCount=7)),\n",
    "    y = alt.Y(\"mother_tongue_percent\", title = [\"Mother tongue\", \"(number of Canadian residents)\"], scale=alt.Scale(type=\"log\"), axis=alt.Axis(tickCount=7)),\n",
    "    color = alt.Color(\"category\", legend=alt.Legend(\n",
    "                            orient='none',\n",
    "                            legendX=0, legendY=-90,\n",
    "                            direction='vertical'))).configure_axis(\n",
    "    titleFontSize=12)\n",
    "\n"
   ]
  },
  {
   "cell_type": "code",
   "execution_count": 37,
   "id": "cd583c3e",
   "metadata": {
    "execution": {
     "iopub.execute_input": "2022-07-19T22:59:15.522559Z",
     "iopub.status.busy": "2022-07-19T22:59:15.522439Z",
     "iopub.status.idle": "2022-07-19T22:59:15.533201Z",
     "shell.execute_reply": "2022-07-19T22:59:15.532910Z"
    },
    "tags": [
     "remove-cell"
    ]
   },
   "outputs": [
    {
     "data": {
      "application/papermill.record/text/html": "\n<div id=\"altair-viz-729237690e2b4b2c8ffb5966310a36a1\"></div>\n<script type=\"text/javascript\">\n  var VEGA_DEBUG = (typeof VEGA_DEBUG == \"undefined\") ? {} : VEGA_DEBUG;\n  (function(spec, embedOpt){\n    let outputDiv = document.currentScript.previousElementSibling;\n    if (outputDiv.id !== \"altair-viz-729237690e2b4b2c8ffb5966310a36a1\") {\n      outputDiv = document.getElementById(\"altair-viz-729237690e2b4b2c8ffb5966310a36a1\");\n    }\n    const paths = {\n      \"vega\": \"https://cdn.jsdelivr.net/npm//vega@5?noext\",\n      \"vega-lib\": \"https://cdn.jsdelivr.net/npm//vega-lib?noext\",\n      \"vega-lite\": \"https://cdn.jsdelivr.net/npm//vega-lite@4.17.0?noext\",\n      \"vega-embed\": \"https://cdn.jsdelivr.net/npm//vega-embed@6?noext\",\n    };\n\n    function maybeLoadScript(lib, version) {\n      var key = `${lib.replace(\"-\", \"\")}_version`;\n      return (VEGA_DEBUG[key] == version) ?\n        Promise.resolve(paths[lib]) :\n        new Promise(function(resolve, reject) {\n          var s = document.createElement('script');\n          document.getElementsByTagName(\"head\")[0].appendChild(s);\n          s.async = true;\n          s.onload = () => {\n            VEGA_DEBUG[key] = version;\n            return resolve(paths[lib]);\n          };\n          s.onerror = () => reject(`Error loading script: ${paths[lib]}`);\n          s.src = paths[lib];\n        });\n    }\n\n    function showError(err) {\n      outputDiv.innerHTML = `<div class=\"error\" style=\"color:red;\">${err}</div>`;\n      throw err;\n    }\n\n    function displayChart(vegaEmbed) {\n      vegaEmbed(outputDiv, spec, embedOpt)\n        .catch(err => showError(`Javascript Error: ${err.message}<br>This usually means there's a typo in your chart specification. See the javascript console for the full traceback.`));\n    }\n\n    if(typeof define === \"function\" && define.amd) {\n      requirejs.config({paths});\n      require([\"vega-embed\"], displayChart, err => showError(`Error loading script: ${err.message}`));\n    } else {\n      maybeLoadScript(\"vega\", \"5\")\n        .then(() => maybeLoadScript(\"vega-lite\", \"4.17.0\"))\n        .then(() => maybeLoadScript(\"vega-embed\", \"6\"))\n        .catch(showError)\n        .then(() => displayChart(vegaEmbed));\n    }\n  })({\"config\": {\"view\": {\"continuousWidth\": 400, \"continuousHeight\": 300}, \"axis\": {\"titleFontSize\": 12}}, \"data\": {\"name\": \"data-4425298868ef129701a2a71a12652c7e\"}, \"mark\": \"circle\", \"encoding\": {\"color\": {\"field\": \"category\", \"legend\": {\"direction\": \"vertical\", \"legendX\": 0, \"legendY\": -90, \"orient\": \"none\"}, \"type\": \"nominal\"}, \"x\": {\"axis\": {\"tickCount\": 7}, \"field\": \"most_at_home_percent\", \"scale\": {\"type\": \"log\"}, \"title\": [\"Language spoken most at home\", \"(number of Canadian residents)\"], \"type\": \"quantitative\"}, \"y\": {\"axis\": {\"tickCount\": 7}, \"field\": \"mother_tongue_percent\", \"scale\": {\"type\": \"log\"}, \"title\": [\"Mother tongue\", \"(number of Canadian residents)\"], \"type\": \"quantitative\"}}, \"$schema\": \"https://vega.github.io/schema/vega-lite/v4.17.0.json\", \"datasets\": {\"data-4425298868ef129701a2a71a12652c7e\": [{\"category\": \"Aboriginal languages\", \"language\": \"Aboriginal languages, n.o.s.\", \"mother_tongue\": 590.0, \"most_at_home\": 235.0, \"most_at_work\": 30.0, \"lang_known\": 665.0, \"mother_tongue_percent\": 0.001678438112629911, \"most_at_home_percent\": 0.0006685304346915747}, {\"category\": \"Non-Official & Non-Aboriginal languages\", \"language\": \"Afrikaans\", \"mother_tongue\": 10260.0, \"most_at_home\": 4785.0, \"most_at_work\": 85.0, \"lang_known\": 23415.0, \"mother_tongue_percent\": 0.029187754297598113, \"most_at_home_percent\": 0.013612417574464618}, {\"category\": \"Non-Official & Non-Aboriginal languages\", \"language\": \"Afro-Asiatic languages, n.i.e.\", \"mother_tongue\": 1150.0, \"most_at_home\": 445.0, \"most_at_work\": 10.0, \"lang_known\": 2775.0, \"mother_tongue_percent\": 0.0032715319144481316, \"most_at_home_percent\": 0.0012659406103734075}, {\"category\": \"Non-Official & Non-Aboriginal languages\", \"language\": \"Akan (Twi)\", \"mother_tongue\": 13460.0, \"most_at_home\": 5985.0, \"most_at_work\": 25.0, \"lang_known\": 22150.0, \"mother_tongue_percent\": 0.038291147450845095, \"most_at_home_percent\": 0.017026190006932233}, {\"category\": \"Non-Official & Non-Aboriginal languages\", \"language\": \"Albanian\", \"mother_tongue\": 26895.0, \"most_at_home\": 13135.0, \"most_at_work\": 345.0, \"lang_known\": 31930.0, \"mother_tongue_percent\": 0.07651117464268044, \"most_at_home_percent\": 0.03736658408371844}, {\"category\": \"Aboriginal languages\", \"language\": \"Algonquian languages, n.i.e.\", \"mother_tongue\": 45.0, \"most_at_home\": 10.0, \"most_at_work\": 0.0, \"lang_known\": 120.0, \"mother_tongue_percent\": 0.00012801646621753558, \"most_at_home_percent\": 2.84481036038968e-05}, {\"category\": \"Aboriginal languages\", \"language\": \"Algonquin\", \"mother_tongue\": 1260.0, \"most_at_home\": 370.0, \"most_at_work\": 40.0, \"lang_known\": 2480.0, \"mother_tongue_percent\": 0.0035844610540909966, \"most_at_home_percent\": 0.0010525798333441815}, {\"category\": \"Non-Official & Non-Aboriginal languages\", \"language\": \"American Sign Language\", \"mother_tongue\": 2685.0, \"most_at_home\": 3020.0, \"most_at_work\": 1145.0, \"lang_known\": 21930.0, \"mother_tongue_percent\": 0.00763831581764629, \"most_at_home_percent\": 0.008591327288376834}, {\"category\": \"Non-Official & Non-Aboriginal languages\", \"language\": \"Amharic\", \"mother_tongue\": 22465.0, \"most_at_home\": 12785.0, \"most_at_work\": 200.0, \"lang_known\": 33670.0, \"mother_tongue_percent\": 0.06390866474615416, \"most_at_home_percent\": 0.03637090045758205}, {\"category\": \"Non-Official & Non-Aboriginal languages\", \"language\": \"Arabic\", \"mother_tongue\": 419890.0, \"most_at_home\": 223535.0, \"most_at_work\": 5585.0, \"lang_known\": 629055.0, \"mother_tongue_percent\": 1.1945074222240226, \"most_at_home_percent\": 0.6359146839097071}, {\"category\": \"Non-Official & Non-Aboriginal languages\", \"language\": \"Armenian\", \"mother_tongue\": 33460.0, \"most_at_home\": 21510.0, \"most_at_work\": 450.0, \"lang_known\": 41295.0, \"mother_tongue_percent\": 0.09518735465863869, \"most_at_home_percent\": 0.06119187085198201}, {\"category\": \"Non-Official & Non-Aboriginal languages\", \"language\": \"Assyrian Neo-Aramaic\", \"mother_tongue\": 16070.0, \"most_at_home\": 10510.0, \"most_at_work\": 205.0, \"lang_known\": 19740.0, \"mother_tongue_percent\": 0.04571610249146216, \"most_at_home_percent\": 0.029898956887695536}, {\"category\": \"Aboriginal languages\", \"language\": \"Athabaskan languages, n.i.e.\", \"mother_tongue\": 50.0, \"most_at_home\": 10.0, \"most_at_work\": 0.0, \"lang_known\": 85.0, \"mother_tongue_percent\": 0.000142240518019484, \"most_at_home_percent\": 2.84481036038968e-05}, {\"category\": \"Aboriginal languages\", \"language\": \"Atikamekw\", \"mother_tongue\": 6150.0, \"most_at_home\": 5465.0, \"most_at_work\": 1100.0, \"lang_known\": 6645.0, \"mother_tongue_percent\": 0.01749558371639653, \"most_at_home_percent\": 0.015546888619529601}, {\"category\": \"Non-Official & Non-Aboriginal languages\", \"language\": \"Austro-Asiatic languages, n.i.e\", \"mother_tongue\": 170.0, \"most_at_home\": 80.0, \"most_at_work\": 0.0, \"lang_known\": 190.0, \"mother_tongue_percent\": 0.0004836177612662456, \"most_at_home_percent\": 0.0002275848288311744}, {\"category\": \"Non-Official & Non-Aboriginal languages\", \"language\": \"Austronesian languages, n.i.e.\", \"mother_tongue\": 4195.0, \"most_at_home\": 1160.0, \"most_at_work\": 35.0, \"lang_known\": 5585.0, \"mother_tongue_percent\": 0.011933979461834707, \"most_at_home_percent\": 0.0032999800180520287}, {\"category\": \"Non-Official & Non-Aboriginal languages\", \"language\": \"Azerbaijani\", \"mother_tongue\": 3255.0, \"most_at_home\": 1245.0, \"most_at_work\": 25.0, \"lang_known\": 5455.0, \"mother_tongue_percent\": 0.009259857723068407, \"most_at_home_percent\": 0.0035417888986851516}, {\"category\": \"Aboriginal languages\", \"language\": \"Babine (Wetsuwet'en)\", \"mother_tongue\": 110.0, \"most_at_home\": 20.0, \"most_at_work\": 10.0, \"lang_known\": 210.0, \"mother_tongue_percent\": 0.0003129291396428648, \"most_at_home_percent\": 5.68962072077936e-05}, {\"category\": \"Non-Official & Non-Aboriginal languages\", \"language\": \"Bamanankan\", \"mother_tongue\": 1535.0, \"most_at_home\": 345.0, \"most_at_work\": 0.0, \"lang_known\": 3190.0, \"mother_tongue_percent\": 0.004366783903198159, \"most_at_home_percent\": 0.0009814595743344394}, {\"category\": \"Aboriginal languages\", \"language\": \"Beaver\", \"mother_tongue\": 190.0, \"most_at_home\": 50.0, \"most_at_work\": 0.0, \"lang_known\": 340.0, \"mother_tongue_percent\": 0.0005405139684740392, \"most_at_home_percent\": 0.000142240518019484}, {\"category\": \"Non-Official & Non-Aboriginal languages\", \"language\": \"Belarusan\", \"mother_tongue\": 810.0, \"most_at_home\": 225.0, \"most_at_work\": 0.0, \"lang_known\": 2265.0, \"mother_tongue_percent\": 0.002304296391915641, \"most_at_home_percent\": 0.0006400823310876779}, {\"category\": \"Non-Official & Non-Aboriginal languages\", \"language\": \"Bengali\", \"mother_tongue\": 73125.0, \"most_at_home\": 47350.0, \"most_at_work\": 525.0, \"lang_known\": 91220.0, \"mother_tongue_percent\": 0.20802675760349534, \"most_at_home_percent\": 0.13470177056445135}, {\"category\": \"Non-Official & Non-Aboriginal languages\", \"language\": \"Berber languages, n.i.e.\", \"mother_tongue\": 8985.0, \"most_at_home\": 2615.0, \"most_at_work\": 15.0, \"lang_known\": 12510.0, \"mother_tongue_percent\": 0.025560621088101275, \"most_at_home_percent\": 0.007439179092419013}, {\"category\": \"Non-Official & Non-Aboriginal languages\", \"language\": \"Bikol\", \"mother_tongue\": 1785.0, \"most_at_home\": 290.0, \"most_at_work\": 0.0, \"lang_known\": 2075.0, \"mother_tongue_percent\": 0.0050779864932955785, \"most_at_home_percent\": 0.0008249950045130072}, {\"category\": \"Non-Official & Non-Aboriginal languages\", \"language\": \"Bilen\", \"mother_tongue\": 805.0, \"most_at_home\": 615.0, \"most_at_work\": 15.0, \"lang_known\": 1085.0, \"mother_tongue_percent\": 0.002290072340113692, \"most_at_home_percent\": 0.0017495583716396533}, {\"category\": \"Aboriginal languages\", \"language\": \"Blackfoot\", \"mother_tongue\": 2815.0, \"most_at_home\": 1110.0, \"most_at_work\": 85.0, \"lang_known\": 5645.0, \"mother_tongue_percent\": 0.008008141164496949, \"most_at_home_percent\": 0.0031577395000325446}, {\"category\": \"Non-Official & Non-Aboriginal languages\", \"language\": \"Bosnian\", \"mother_tongue\": 12215.0, \"most_at_home\": 6045.0, \"most_at_work\": 155.0, \"lang_known\": 18265.0, \"mother_tongue_percent\": 0.03474935855215994, \"most_at_home_percent\": 0.017196878628555616}, {\"category\": \"Non-Official & Non-Aboriginal languages\", \"language\": \"Bulgarian\", \"mother_tongue\": 20020.0, \"most_at_home\": 11985.0, \"most_at_work\": 200.0, \"lang_known\": 22425.0, \"mother_tongue_percent\": 0.05695310341500139, \"most_at_home_percent\": 0.034095052169270314}, {\"category\": \"Non-Official & Non-Aboriginal languages\", \"language\": \"Burmese\", \"mother_tongue\": 3585.0, \"most_at_home\": 2245.0, \"most_at_work\": 75.0, \"lang_known\": 4995.0, \"mother_tongue_percent\": 0.010198645141997002, \"most_at_home_percent\": 0.006386599259074831}, {\"category\": \"Non-Official & Non-Aboriginal languages\", \"language\": \"Cantonese\", \"mother_tongue\": 565270.0, \"most_at_home\": 400220.0, \"most_at_work\": 58820.0, \"lang_known\": 699125.0, \"mother_tongue_percent\": 1.6080859524174744, \"most_at_home_percent\": 1.1385500024351576}, {\"category\": \"Aboriginal languages\", \"language\": \"Carrier\", \"mother_tongue\": 1025.0, \"most_at_home\": 250.0, \"most_at_work\": 15.0, \"lang_known\": 2100.0, \"mother_tongue_percent\": 0.0029159306193994217, \"most_at_home_percent\": 0.00071120259009742}, {\"category\": \"Non-Official & Non-Aboriginal languages\", \"language\": \"Catalan\", \"mother_tongue\": 870.0, \"most_at_home\": 350.0, \"most_at_work\": 30.0, \"lang_known\": 2035.0, \"mother_tongue_percent\": 0.0024749850135390213, \"most_at_home_percent\": 0.0009956836261363878}, {\"category\": \"Aboriginal languages\", \"language\": \"Cayuga\", \"mother_tongue\": 45.0, \"most_at_home\": 10.0, \"most_at_work\": 10.0, \"lang_known\": 125.0, \"mother_tongue_percent\": 0.00012801646621753558, \"most_at_home_percent\": 2.84481036038968e-05}, {\"category\": \"Non-Official & Non-Aboriginal languages\", \"language\": \"Cebuano\", \"mother_tongue\": 19890.0, \"most_at_home\": 7205.0, \"most_at_work\": 70.0, \"lang_known\": 27040.0, \"mother_tongue_percent\": 0.056583278068150736, \"most_at_home_percent\": 0.020496858646607642}, {\"category\": \"Non-Official & Non-Aboriginal languages\", \"language\": \"Celtic languages, n.i.e.\", \"mother_tongue\": 525.0, \"most_at_home\": 80.0, \"most_at_work\": 10.0, \"lang_known\": 3595.0, \"mother_tongue_percent\": 0.001493525439204582, \"most_at_home_percent\": 0.0002275848288311744}, {\"category\": \"Non-Official & Non-Aboriginal languages\", \"language\": \"Chaldean Neo-Aramaic\", \"mother_tongue\": 5545.0, \"most_at_home\": 3445.0, \"most_at_work\": 35.0, \"lang_known\": 7115.0, \"mother_tongue_percent\": 0.015774473448360776, \"most_at_home_percent\": 0.009800371691542447}, {\"category\": \"Aboriginal languages\", \"language\": \"Chilcotin\", \"mother_tongue\": 655.0, \"most_at_home\": 255.0, \"most_at_work\": 15.0, \"lang_known\": 1150.0, \"mother_tongue_percent\": 0.0018633507860552402, \"most_at_home_percent\": 0.0007254266418993683}, {\"category\": \"Non-Official & Non-Aboriginal languages\", \"language\": \"Chinese languages, n.i.e.\", \"mother_tongue\": 615.0, \"most_at_home\": 280.0, \"most_at_work\": 0.0, \"lang_known\": 590.0, \"mother_tongue_percent\": 0.0017495583716396533, \"most_at_home_percent\": 0.0007965469009091103}, {\"category\": \"Non-Official & Non-Aboriginal languages\", \"language\": \"Chinese, n.o.s.\", \"mother_tongue\": 38580.0, \"most_at_home\": 23940.0, \"most_at_work\": 2935.0, \"lang_known\": 41685.0, \"mother_tongue_percent\": 0.10975278370383384, \"most_at_home_percent\": 0.06810476002772893}, {\"category\": \"Aboriginal languages\", \"language\": \"Cree, n.o.s.\", \"mother_tongue\": 64050.0, \"most_at_home\": 37950.0, \"most_at_work\": 7800.0, \"lang_known\": 86115.0, \"mother_tongue_percent\": 0.182210103582959, \"most_at_home_percent\": 0.10796055317678836}, {\"category\": \"Non-Official & Non-Aboriginal languages\", \"language\": \"Creole languages, n.i.e.\", \"mother_tongue\": 4985.0, \"most_at_home\": 2005.0, \"most_at_work\": 15.0, \"lang_known\": 16635.0, \"mother_tongue_percent\": 0.014181379646542553, \"most_at_home_percent\": 0.005703844772581308}, {\"category\": \"Non-Official & Non-Aboriginal languages\", \"language\": \"Creole, n.o.s.\", \"mother_tongue\": 64110.0, \"most_at_home\": 24570.0, \"most_at_work\": 310.0, \"lang_known\": 133045.0, \"mother_tongue_percent\": 0.1823807922045824, \"most_at_home_percent\": 0.06989699055477444}, {\"category\": \"Non-Official & Non-Aboriginal languages\", \"language\": \"Croatian\", \"mother_tongue\": 48200.0, \"most_at_home\": 16775.0, \"most_at_work\": 220.0, \"lang_known\": 69835.0, \"mother_tongue_percent\": 0.13711985937078255, \"most_at_home_percent\": 0.04772169379553688}, {\"category\": \"Non-Official & Non-Aboriginal languages\", \"language\": \"Cushitic languages, n.i.e.\", \"mother_tongue\": 365.0, \"most_at_home\": 180.0, \"most_at_work\": 0.0, \"lang_known\": 480.0, \"mother_tongue_percent\": 0.0010383557815422332, \"most_at_home_percent\": 0.0005120658648701423}, {\"category\": \"Non-Official & Non-Aboriginal languages\", \"language\": \"Czech\", \"mother_tongue\": 22295.0, \"most_at_home\": 6235.0, \"most_at_work\": 70.0, \"lang_known\": 28725.0, \"mother_tongue_percent\": 0.06342504698488792, \"most_at_home_percent\": 0.017737392597029656}, {\"category\": \"Aboriginal languages\", \"language\": \"Dakota\", \"mother_tongue\": 1210.0, \"most_at_home\": 255.0, \"most_at_work\": 20.0, \"lang_known\": 1760.0, \"mother_tongue_percent\": 0.0034422205360715124, \"most_at_home_percent\": 0.0007254266418993683}, {\"category\": \"Non-Official & Non-Aboriginal languages\", \"language\": \"Danish\", \"mother_tongue\": 12630.0, \"most_at_home\": 855.0, \"most_at_work\": 85.0, \"lang_known\": 15750.0, \"mother_tongue_percent\": 0.03592995485172166, \"most_at_home_percent\": 0.0024323128581331763}, {\"category\": \"Aboriginal languages\", \"language\": \"Dene\", \"mother_tongue\": 10700.0, \"most_at_home\": 7710.0, \"most_at_work\": 770.0, \"lang_known\": 13060.0, \"mother_tongue_percent\": 0.030439470856169572, \"most_at_home_percent\": 0.021933487878604434}, {\"category\": \"Non-Official & Non-Aboriginal languages\", \"language\": \"Dinka\", \"mother_tongue\": 2120.0, \"most_at_home\": 1130.0, \"most_at_work\": 0.0, \"lang_known\": 2475.0, \"mother_tongue_percent\": 0.006030997964026122, \"most_at_home_percent\": 0.0032146357072403383}, {\"category\": \"Aboriginal languages\", \"language\": \"Dogrib (Tlicho)\", \"mother_tongue\": 1650.0, \"most_at_home\": 1020.0, \"most_at_work\": 165.0, \"lang_known\": 2375.0, \"mother_tongue_percent\": 0.004693937094642972, \"most_at_home_percent\": 0.0029017065675974734}, {\"category\": \"Non-Official & Non-Aboriginal languages\", \"language\": \"Dravidian languages, n.i.e.\", \"mother_tongue\": 490.0, \"most_at_home\": 190.0, \"most_at_work\": 0.0, \"lang_known\": 790.0, \"mother_tongue_percent\": 0.0013939570765909431, \"most_at_home_percent\": 0.0005405139684740392}, {\"category\": \"Non-Official & Non-Aboriginal languages\", \"language\": \"Dutch\", \"mother_tongue\": 99015.0, \"most_at_home\": 9565.0, \"most_at_work\": 1165.0, \"lang_known\": 120870.0, \"mother_tongue_percent\": 0.28167889783398414, \"most_at_home_percent\": 0.02721061109712729}, {\"category\": \"Non-Official & Non-Aboriginal languages\", \"language\": \"Edo\", \"mother_tongue\": 1670.0, \"most_at_home\": 410.0, \"most_at_work\": 0.0, \"lang_known\": 3220.0, \"mother_tongue_percent\": 0.004750833301850765, \"most_at_home_percent\": 0.0011663722477597688}, {\"category\": \"Official languages\", \"language\": \"English\", \"mother_tongue\": 19460850.0, \"most_at_home\": 22162865.0, \"most_at_work\": 15265335.0, \"lang_known\": 29748265.0, \"mother_tongue_percent\": 55.3624277019895, \"most_at_home_percent\": 63.04914796791782}, {\"category\": \"Non-Official & Non-Aboriginal languages\", \"language\": \"Estonian\", \"mother_tongue\": 5445.0, \"most_at_home\": 975.0, \"most_at_work\": 55.0, \"lang_known\": 6070.0, \"mother_tongue_percent\": 0.015489992412321806, \"most_at_home_percent\": 0.002773690101379938}, {\"category\": \"Non-Official & Non-Aboriginal languages\", \"language\": \"Ewe\", \"mother_tongue\": 1760.0, \"most_at_home\": 405.0, \"most_at_work\": 10.0, \"lang_known\": 3000.0, \"mother_tongue_percent\": 0.005006866234285837, \"most_at_home_percent\": 0.0011521481959578205}, {\"category\": \"Non-Official & Non-Aboriginal languages\", \"language\": \"Fijian\", \"mother_tongue\": 745.0, \"most_at_home\": 195.0, \"most_at_work\": 0.0, \"lang_known\": 1665.0, \"mother_tongue_percent\": 0.002119383718490312, \"most_at_home_percent\": 0.0005547380202759875}, {\"category\": \"Non-Official & Non-Aboriginal languages\", \"language\": \"Finnish\", \"mother_tongue\": 15295.0, \"most_at_home\": 2790.0, \"most_at_work\": 105.0, \"lang_known\": 17590.0, \"mother_tongue_percent\": 0.04351137446216015, \"most_at_home_percent\": 0.007937020905487207}, {\"category\": \"Official languages\", \"language\": \"French\", \"mother_tongue\": 7166700.0, \"most_at_home\": 6943800.0, \"most_at_work\": 3825215.0, \"lang_known\": 10242945.0, \"mother_tongue_percent\": 20.387902409804717, \"most_at_home_percent\": 19.753794180473857}, {\"category\": \"Non-Official & Non-Aboriginal languages\", \"language\": \"Frisian\", \"mother_tongue\": 2100.0, \"most_at_home\": 185.0, \"most_at_work\": 40.0, \"lang_known\": 2910.0, \"mother_tongue_percent\": 0.005974101756818328, \"most_at_home_percent\": 0.0005262899166720908}, {\"category\": \"Non-Official & Non-Aboriginal languages\", \"language\": \"Fulah (Pular, Pulaar, Fulfulde)\", \"mother_tongue\": 2825.0, \"most_at_home\": 825.0, \"most_at_work\": 0.0, \"lang_known\": 4725.0, \"mother_tongue_percent\": 0.008036589268100846, \"most_at_home_percent\": 0.002346968547321486}, {\"category\": \"Non-Official & Non-Aboriginal languages\", \"language\": \"Ga\", \"mother_tongue\": 920.0, \"most_at_home\": 250.0, \"most_at_work\": 0.0, \"lang_known\": 2250.0, \"mother_tongue_percent\": 0.0026172255315585055, \"most_at_home_percent\": 0.00071120259009742}, {\"category\": \"Non-Official & Non-Aboriginal languages\", \"language\": \"Ganda\", \"mother_tongue\": 1295.0, \"most_at_home\": 345.0, \"most_at_work\": 25.0, \"lang_known\": 2495.0, \"mother_tongue_percent\": 0.0036840294167046353, \"most_at_home_percent\": 0.0009814595743344394}, {\"category\": \"Non-Official & Non-Aboriginal languages\", \"language\": \"Georgian\", \"mother_tongue\": 1710.0, \"most_at_home\": 1040.0, \"most_at_work\": 25.0, \"lang_known\": 2150.0, \"mother_tongue_percent\": 0.004864625716266353, \"most_at_home_percent\": 0.002958602774805267}, {\"category\": \"Non-Official & Non-Aboriginal languages\", \"language\": \"German\", \"mother_tongue\": 384040.0, \"most_at_home\": 120335.0, \"most_at_work\": 10065.0, \"lang_known\": 502735.0, \"mother_tongue_percent\": 1.0925209708040526, \"most_at_home_percent\": 0.3423302547174921}, {\"category\": \"Non-Official & Non-Aboriginal languages\", \"language\": \"Germanic languages, n.i.e.\", \"mother_tongue\": 525.0, \"most_at_home\": 1630.0, \"most_at_work\": 725.0, \"lang_known\": 8705.0, \"mother_tongue_percent\": 0.001493525439204582, \"most_at_home_percent\": 0.004637040887435178}, {\"category\": \"Aboriginal languages\", \"language\": \"Gitxsan (Gitksan)\", \"mother_tongue\": 880.0, \"most_at_home\": 315.0, \"most_at_work\": 10.0, \"lang_known\": 1305.0, \"mother_tongue_percent\": 0.0025034331171429184, \"most_at_home_percent\": 0.0008961152635227491}, {\"category\": \"Non-Official & Non-Aboriginal languages\", \"language\": \"Greek\", \"mother_tongue\": 106525.0, \"most_at_home\": 44550.0, \"most_at_work\": 1020.0, \"lang_known\": 150965.0, \"mother_tongue_percent\": 0.3030434236405106, \"most_at_home_percent\": 0.12673630155536023}, {\"category\": \"Non-Official & Non-Aboriginal languages\", \"language\": \"Gujarati\", \"mother_tongue\": 108780.0, \"most_at_home\": 64150.0, \"most_at_work\": 885.0, \"lang_known\": 149045.0, \"mother_tongue_percent\": 0.30945847100318935, \"most_at_home_percent\": 0.18249458461899795}, {\"category\": \"Aboriginal languages\", \"language\": \"Gwich'in\", \"mother_tongue\": 255.0, \"most_at_home\": 50.0, \"most_at_work\": 10.0, \"lang_known\": 360.0, \"mother_tongue_percent\": 0.0007254266418993683, \"most_at_home_percent\": 0.000142240518019484}, {\"category\": \"Aboriginal languages\", \"language\": \"Haida\", \"mother_tongue\": 80.0, \"most_at_home\": 10.0, \"most_at_work\": 0.0, \"lang_known\": 465.0, \"mother_tongue_percent\": 0.0002275848288311744, \"most_at_home_percent\": 2.84481036038968e-05}, {\"category\": \"Aboriginal languages\", \"language\": \"Haisla\", \"mother_tongue\": 90.0, \"most_at_home\": 20.0, \"most_at_work\": 0.0, \"lang_known\": 175.0, \"mother_tongue_percent\": 0.00025603293243507116, \"most_at_home_percent\": 5.68962072077936e-05}, {\"category\": \"Non-Official & Non-Aboriginal languages\", \"language\": \"Haitian Creole\", \"mother_tongue\": 3030.0, \"most_at_home\": 1280.0, \"most_at_work\": 25.0, \"lang_known\": 6855.0, \"mother_tongue_percent\": 0.008619775391980729, \"most_at_home_percent\": 0.0036413572612987903}, {\"category\": \"Non-Official & Non-Aboriginal languages\", \"language\": \"Hakka\", \"mother_tongue\": 10910.0, \"most_at_home\": 4085.0, \"most_at_work\": 70.0, \"lang_known\": 12445.0, \"mother_tongue_percent\": 0.031036881031851406, \"most_at_home_percent\": 0.011621050322191843}, {\"category\": \"Aboriginal languages\", \"language\": \"Halkomelem\", \"mother_tongue\": 480.0, \"most_at_home\": 50.0, \"most_at_work\": 20.0, \"lang_known\": 1060.0, \"mother_tongue_percent\": 0.0013655089729870463, \"most_at_home_percent\": 0.000142240518019484}, {\"category\": \"Non-Official & Non-Aboriginal languages\", \"language\": \"Harari\", \"mother_tongue\": 1320.0, \"most_at_home\": 735.0, \"most_at_work\": 0.0, \"lang_known\": 1715.0, \"mother_tongue_percent\": 0.0037551496757143774, \"most_at_home_percent\": 0.0020909356148864147}, {\"category\": \"Non-Official & Non-Aboriginal languages\", \"language\": \"Hebrew\", \"mother_tongue\": 19530.0, \"most_at_home\": 8560.0, \"most_at_work\": 825.0, \"lang_known\": 75020.0, \"mother_tongue_percent\": 0.05555914633841044, \"most_at_home_percent\": 0.02435157668493566}, {\"category\": \"Aboriginal languages\", \"language\": \"Heiltsuk\", \"mother_tongue\": 100.0, \"most_at_home\": 5.0, \"most_at_work\": 10.0, \"lang_known\": 125.0, \"mother_tongue_percent\": 0.000284481036038968, \"most_at_home_percent\": 1.42240518019484e-05}, {\"category\": \"Non-Official & Non-Aboriginal languages\", \"language\": \"Hiligaynon\", \"mother_tongue\": 6880.0, \"most_at_home\": 2210.0, \"most_at_work\": 25.0, \"lang_known\": 7925.0, \"mother_tongue_percent\": 0.019572295279480997, \"most_at_home_percent\": 0.0062870308964611925}, {\"category\": \"Non-Official & Non-Aboriginal languages\", \"language\": \"Hindi\", \"mother_tongue\": 110645.0, \"most_at_home\": 55510.0, \"most_at_work\": 1405.0, \"lang_known\": 433365.0, \"mother_tongue_percent\": 0.31476404232531613, \"most_at_home_percent\": 0.15791542310523113}, {\"category\": \"Non-Official & Non-Aboriginal languages\", \"language\": \"Hmong-Mien languages\", \"mother_tongue\": 795.0, \"most_at_home\": 335.0, \"most_at_work\": 10.0, \"lang_known\": 870.0, \"mother_tongue_percent\": 0.0022616242365097955, \"most_at_home_percent\": 0.0009530114707305427}, {\"category\": \"Non-Official & Non-Aboriginal languages\", \"language\": \"Hungarian\", \"mother_tongue\": 61235.0, \"most_at_home\": 19480.0, \"most_at_work\": 440.0, \"lang_known\": 71285.0, \"mother_tongue_percent\": 0.17420196241846206, \"most_at_home_percent\": 0.055416905820390966}, {\"category\": \"Non-Official & Non-Aboriginal languages\", \"language\": \"Icelandic\", \"mother_tongue\": 1285.0, \"most_at_home\": 270.0, \"most_at_work\": 0.0, \"lang_known\": 1780.0, \"mother_tongue_percent\": 0.0036555813131007382, \"most_at_home_percent\": 0.0007680987973052135}, {\"category\": \"Non-Official & Non-Aboriginal languages\", \"language\": \"Igbo\", \"mother_tongue\": 4235.0, \"most_at_home\": 1000.0, \"most_at_work\": 10.0, \"lang_known\": 8855.0, \"mother_tongue_percent\": 0.012047771876250295, \"most_at_home_percent\": 0.00284481036038968}, {\"category\": \"Non-Official & Non-Aboriginal languages\", \"language\": \"Ilocano\", \"mother_tongue\": 26345.0, \"most_at_home\": 9125.0, \"most_at_work\": 110.0, \"lang_known\": 34530.0, \"mother_tongue_percent\": 0.07494652894446611, \"most_at_home_percent\": 0.025958894538555828}, {\"category\": \"Non-Official & Non-Aboriginal languages\", \"language\": \"Indo-Iranian languages, n.i.e.\", \"mother_tongue\": 5185.0, \"most_at_home\": 2380.0, \"most_at_work\": 20.0, \"lang_known\": 8870.0, \"mother_tongue_percent\": 0.014750341718620491, \"most_at_home_percent\": 0.006770648657727438}, {\"category\": \"Aboriginal languages\", \"language\": \"Inuinnaqtun (Inuvialuktun)\", \"mother_tongue\": 1020.0, \"most_at_home\": 165.0, \"most_at_work\": 30.0, \"lang_known\": 1975.0, \"mother_tongue_percent\": 0.0029017065675974734, \"most_at_home_percent\": 0.0004693937094642972}, {\"category\": \"Aboriginal languages\", \"language\": \"Inuit languages, n.i.e.\", \"mother_tongue\": 310.0, \"most_at_home\": 90.0, \"most_at_work\": 15.0, \"lang_known\": 470.0, \"mother_tongue_percent\": 0.0008818912117208007, \"most_at_home_percent\": 0.00025603293243507116}, {\"category\": \"Aboriginal languages\", \"language\": \"Inuktitut\", \"mother_tongue\": 35210.0, \"most_at_home\": 29230.0, \"most_at_work\": 8795.0, \"lang_known\": 40620.0, \"mother_tongue_percent\": 0.10016577278932062, \"most_at_home_percent\": 0.08315380683419035}, {\"category\": \"Aboriginal languages\", \"language\": \"Iroquoian languages, n.i.e.\", \"mother_tongue\": 35.0, \"most_at_home\": 5.0, \"most_at_work\": 0.0, \"lang_known\": 115.0, \"mother_tongue_percent\": 9.956836261363879e-05, \"most_at_home_percent\": 1.42240518019484e-05}, {\"category\": \"Non-Official & Non-Aboriginal languages\", \"language\": \"Italian\", \"mother_tongue\": 375635.0, \"most_at_home\": 115415.0, \"most_at_work\": 1705.0, \"lang_known\": 574725.0, \"mother_tongue_percent\": 1.0686103397249773, \"most_at_home_percent\": 0.3283337877443749}, {\"category\": \"Non-Official & Non-Aboriginal languages\", \"language\": \"Italic (Romance) languages, n.i.e.\", \"mother_tongue\": 720.0, \"most_at_home\": 175.0, \"most_at_work\": 25.0, \"lang_known\": 2680.0, \"mother_tongue_percent\": 0.0020482634594805693, \"most_at_home_percent\": 0.0004978418130681939}, {\"category\": \"Non-Official & Non-Aboriginal languages\", \"language\": \"Japanese\", \"mother_tongue\": 43640.0, \"most_at_home\": 19785.0, \"most_at_work\": 3255.0, \"lang_known\": 83095.0, \"mother_tongue_percent\": 0.12414752412740562, \"most_at_home_percent\": 0.05628457298030981}, {\"category\": \"Non-Official & Non-Aboriginal languages\", \"language\": \"Kabyle\", \"mother_tongue\": 13150.0, \"most_at_home\": 5490.0, \"most_at_work\": 15.0, \"lang_known\": 17120.0, \"mother_tongue_percent\": 0.03740925623912429, \"most_at_home_percent\": 0.015618008878539341}, {\"category\": \"Non-Official & Non-Aboriginal languages\", \"language\": \"Kannada\", \"mother_tongue\": 3970.0, \"most_at_home\": 1630.0, \"most_at_work\": 10.0, \"lang_known\": 8245.0, \"mother_tongue_percent\": 0.01129389713074703, \"most_at_home_percent\": 0.004637040887435178}, {\"category\": \"Non-Official & Non-Aboriginal languages\", \"language\": \"Karenic languages\", \"mother_tongue\": 4705.0, \"most_at_home\": 3860.0, \"most_at_work\": 135.0, \"lang_known\": 4895.0, \"mother_tongue_percent\": 0.013384832745633443, \"most_at_home_percent\": 0.010980967991104165}, {\"category\": \"Non-Official & Non-Aboriginal languages\", \"language\": \"Kashmiri\", \"mother_tongue\": 565.0, \"most_at_home\": 135.0, \"most_at_work\": 0.0, \"lang_known\": 905.0, \"mother_tongue_percent\": 0.0016073178536201692, \"most_at_home_percent\": 0.00038404939865260677}, {\"category\": \"Aboriginal languages\", \"language\": \"Kaska (Nahani)\", \"mother_tongue\": 180.0, \"most_at_home\": 20.0, \"most_at_work\": 10.0, \"lang_known\": 365.0, \"mother_tongue_percent\": 0.0005120658648701423, \"most_at_home_percent\": 5.68962072077936e-05}, {\"category\": \"Non-Official & Non-Aboriginal languages\", \"language\": \"Khmer (Cambodian)\", \"mother_tongue\": 20130.0, \"most_at_home\": 10885.0, \"most_at_work\": 475.0, \"lang_known\": 27035.0, \"mother_tongue_percent\": 0.057266032554644256, \"most_at_home_percent\": 0.030965760772841664}, {\"category\": \"Non-Official & Non-Aboriginal languages\", \"language\": \"Kinyarwanda (Rwanda)\", \"mother_tongue\": 5250.0, \"most_at_home\": 1530.0, \"most_at_work\": 25.0, \"lang_known\": 7860.0, \"mother_tongue_percent\": 0.014935254392045818, \"most_at_home_percent\": 0.00435255985139621}, {\"category\": \"Non-Official & Non-Aboriginal languages\", \"language\": \"Konkani\", \"mother_tongue\": 3330.0, \"most_at_home\": 720.0, \"most_at_work\": 10.0, \"lang_known\": 6790.0, \"mother_tongue_percent\": 0.009473218500097634, \"most_at_home_percent\": 0.0020482634594805693}, {\"category\": \"Non-Official & Non-Aboriginal languages\", \"language\": \"Korean\", \"mother_tongue\": 153425.0, \"most_at_home\": 109705.0, \"most_at_work\": 12150.0, \"lang_known\": 172750.0, \"mother_tongue_percent\": 0.43646502954278665, \"most_at_home_percent\": 0.31208992058654983}, {\"category\": \"Non-Official & Non-Aboriginal languages\", \"language\": \"Kurdish\", \"mother_tongue\": 11705.0, \"most_at_home\": 6580.0, \"most_at_work\": 185.0, \"lang_known\": 15290.0, \"mother_tongue_percent\": 0.0332985052683612, \"most_at_home_percent\": 0.018718852171364094}, {\"category\": \"Aboriginal languages\", \"language\": \"Kutenai\", \"mother_tongue\": 110.0, \"most_at_home\": 10.0, \"most_at_work\": 0.0, \"lang_known\": 170.0, \"mother_tongue_percent\": 0.0003129291396428648, \"most_at_home_percent\": 2.84481036038968e-05}, {\"category\": \"Aboriginal languages\", \"language\": \"Kwakiutl (Kwak'wala)\", \"mother_tongue\": 325.0, \"most_at_home\": 25.0, \"most_at_work\": 15.0, \"lang_known\": 605.0, \"mother_tongue_percent\": 0.0009245633671266459, \"most_at_home_percent\": 7.1120259009742e-05}, {\"category\": \"Non-Official & Non-Aboriginal languages\", \"language\": \"Lao\", \"mother_tongue\": 12670.0, \"most_at_home\": 6175.0, \"most_at_work\": 150.0, \"lang_known\": 17235.0, \"mother_tongue_percent\": 0.036043747266137245, \"most_at_home_percent\": 0.017566703975406273}, {\"category\": \"Non-Official & Non-Aboriginal languages\", \"language\": \"Latvian\", \"mother_tongue\": 5450.0, \"most_at_home\": 1255.0, \"most_at_work\": 35.0, \"lang_known\": 6500.0, \"mother_tongue_percent\": 0.015504216464123756, \"most_at_home_percent\": 0.003570237002289048}, {\"category\": \"Aboriginal languages\", \"language\": \"Lillooet\", \"mother_tongue\": 315.0, \"most_at_home\": 25.0, \"most_at_work\": 15.0, \"lang_known\": 790.0, \"mother_tongue_percent\": 0.0008961152635227491, \"most_at_home_percent\": 7.1120259009742e-05}, {\"category\": \"Non-Official & Non-Aboriginal languages\", \"language\": \"Lingala\", \"mother_tongue\": 3805.0, \"most_at_home\": 1045.0, \"most_at_work\": 10.0, \"lang_known\": 17010.0, \"mother_tongue_percent\": 0.010824503421282732, \"most_at_home_percent\": 0.0029728268266072154}, {\"category\": \"Non-Official & Non-Aboriginal languages\", \"language\": \"Lithuanian\", \"mother_tongue\": 7075.0, \"most_at_home\": 2015.0, \"most_at_work\": 60.0, \"lang_known\": 8185.0, \"mother_tongue_percent\": 0.020127033299756986, \"most_at_home_percent\": 0.005732292876185205}, {\"category\": \"Non-Official & Non-Aboriginal languages\", \"language\": \"Macedonian\", \"mother_tongue\": 16770.0, \"most_at_home\": 6830.0, \"most_at_work\": 95.0, \"lang_known\": 23075.0, \"mother_tongue_percent\": 0.04770746974373493, \"most_at_home_percent\": 0.019430054761461514}, {\"category\": \"Non-Official & Non-Aboriginal languages\", \"language\": \"Malagasy\", \"mother_tongue\": 1430.0, \"most_at_home\": 430.0, \"most_at_work\": 0.0, \"lang_known\": 2340.0, \"mother_tongue_percent\": 0.004068078815357242, \"most_at_home_percent\": 0.0012232684549675623}, {\"category\": \"Non-Official & Non-Aboriginal languages\", \"language\": \"Malay\", \"mother_tongue\": 12275.0, \"most_at_home\": 3625.0, \"most_at_work\": 140.0, \"lang_known\": 22470.0, \"mother_tongue_percent\": 0.03492004717378332, \"most_at_home_percent\": 0.01031243755641259}, {\"category\": \"Non-Official & Non-Aboriginal languages\", \"language\": \"Malayalam\", \"mother_tongue\": 28565.0, \"most_at_home\": 15440.0, \"most_at_work\": 95.0, \"lang_known\": 37810.0, \"mother_tongue_percent\": 0.08126200794453121, \"most_at_home_percent\": 0.04392387196441666}, {\"category\": \"Aboriginal languages\", \"language\": \"Malecite\", \"mother_tongue\": 300.0, \"most_at_home\": 55.0, \"most_at_work\": 10.0, \"lang_known\": 760.0, \"mother_tongue_percent\": 0.0008534431081169041, \"most_at_home_percent\": 0.0001564645698214324}, {\"category\": \"Non-Official & Non-Aboriginal languages\", \"language\": \"Maltese\", \"mother_tongue\": 5565.0, \"most_at_home\": 1125.0, \"most_at_work\": 25.0, \"lang_known\": 7625.0, \"mother_tongue_percent\": 0.015831369655568566, \"most_at_home_percent\": 0.0032004116554383896}, {\"category\": \"Non-Official & Non-Aboriginal languages\", \"language\": \"Mandarin\", \"mother_tongue\": 592040.0, \"most_at_home\": 462890.0, \"most_at_work\": 60090.0, \"lang_known\": 814450.0, \"mother_tongue_percent\": 1.684241525765106, \"most_at_home_percent\": 1.316834267720779}, {\"category\": \"Non-Official & Non-Aboriginal languages\", \"language\": \"Marathi\", \"mother_tongue\": 8295.0, \"most_at_home\": 3780.0, \"most_at_work\": 30.0, \"lang_known\": 15565.0, \"mother_tongue_percent\": 0.023597701939432395, \"most_at_home_percent\": 0.01075338316227299}, {\"category\": \"Aboriginal languages\", \"language\": \"Mi'kmaq\", \"mother_tongue\": 6690.0, \"most_at_home\": 3565.0, \"most_at_work\": 915.0, \"lang_known\": 9025.0, \"mother_tongue_percent\": 0.019031781311006957, \"most_at_home_percent\": 0.010141748934789209}, {\"category\": \"Aboriginal languages\", \"language\": \"Michif\", \"mother_tongue\": 465.0, \"most_at_home\": 80.0, \"most_at_work\": 10.0, \"lang_known\": 1210.0, \"mother_tongue_percent\": 0.001322836817581201, \"most_at_home_percent\": 0.0002275848288311744}, {\"category\": \"Non-Official & Non-Aboriginal languages\", \"language\": \"Min Dong\", \"mother_tongue\": 1230.0, \"most_at_home\": 345.0, \"most_at_work\": 30.0, \"lang_known\": 1045.0, \"mother_tongue_percent\": 0.0034991167432793066, \"most_at_home_percent\": 0.0009814595743344394}, {\"category\": \"Non-Official & Non-Aboriginal languages\", \"language\": \"Min Nan (Chaochow, Teochow, Fukien, Taiwanese)\", \"mother_tongue\": 31800.0, \"most_at_home\": 13965.0, \"most_at_work\": 565.0, \"lang_known\": 42840.0, \"mother_tongue_percent\": 0.09046496946039181, \"most_at_home_percent\": 0.03972777668284188}, {\"category\": \"Aboriginal languages\", \"language\": \"Mohawk\", \"mother_tongue\": 985.0, \"most_at_home\": 255.0, \"most_at_work\": 30.0, \"lang_known\": 2415.0, \"mother_tongue_percent\": 0.0028021382049838346, \"most_at_home_percent\": 0.0007254266418993683}, {\"category\": \"Non-Official & Non-Aboriginal languages\", \"language\": \"Mongolian\", \"mother_tongue\": 1575.0, \"most_at_home\": 905.0, \"most_at_work\": 10.0, \"lang_known\": 2095.0, \"mother_tongue_percent\": 0.004480576317613745, \"most_at_home_percent\": 0.0025745533761526605}, {\"category\": \"Aboriginal languages\", \"language\": \"Montagnais (Innu)\", \"mother_tongue\": 10235.0, \"most_at_home\": 8585.0, \"most_at_work\": 2055.0, \"lang_known\": 11445.0, \"mother_tongue_percent\": 0.029116634038588374, \"most_at_home_percent\": 0.0244226969439454}, {\"category\": \"Aboriginal languages\", \"language\": \"Moose Cree\", \"mother_tongue\": 105.0, \"most_at_home\": 10.0, \"most_at_work\": 0.0, \"lang_known\": 195.0, \"mother_tongue_percent\": 0.0002987050878409164, \"most_at_home_percent\": 2.84481036038968e-05}, {\"category\": \"Aboriginal languages\", \"language\": \"Naskapi\", \"mother_tongue\": 1205.0, \"most_at_home\": 1195.0, \"most_at_work\": 370.0, \"lang_known\": 1465.0, \"mother_tongue_percent\": 0.003427996484269564, \"most_at_home_percent\": 0.003399548380665667}, {\"category\": \"Non-Official & Non-Aboriginal languages\", \"language\": \"Nepali\", \"mother_tongue\": 18275.0, \"most_at_home\": 13375.0, \"most_at_work\": 195.0, \"lang_known\": 21385.0, \"mother_tongue_percent\": 0.0519889093361214, \"most_at_home_percent\": 0.03804933857021197}, {\"category\": \"Non-Official & Non-Aboriginal languages\", \"language\": \"Niger-Congo languages, n.i.e.\", \"mother_tongue\": 19135.0, \"most_at_home\": 4010.0, \"most_at_work\": 30.0, \"lang_known\": 40760.0, \"mother_tongue_percent\": 0.05443544624605652, \"most_at_home_percent\": 0.011407689545162617}, {\"category\": \"Non-Official & Non-Aboriginal languages\", \"language\": \"Nilo-Saharan languages, n.i.e.\", \"mother_tongue\": 3750.0, \"most_at_home\": 1520.0, \"most_at_work\": 0.0, \"lang_known\": 4550.0, \"mother_tongue_percent\": 0.010668038851461299, \"most_at_home_percent\": 0.004324111747792314}, {\"category\": \"Aboriginal languages\", \"language\": \"Nisga'a\", \"mother_tongue\": 400.0, \"most_at_home\": 75.0, \"most_at_work\": 10.0, \"lang_known\": 1055.0, \"mother_tongue_percent\": 0.001137924144155872, \"most_at_home_percent\": 0.00021336077702922601}, {\"category\": \"Aboriginal languages\", \"language\": \"North Slavey (Hare)\", \"mother_tongue\": 765.0, \"most_at_home\": 340.0, \"most_at_work\": 95.0, \"lang_known\": 1005.0, \"mother_tongue_percent\": 0.002176279925698105, \"most_at_home_percent\": 0.0009672355225324912}, {\"category\": \"Aboriginal languages\", \"language\": \"Northern East Cree\", \"mother_tongue\": 315.0, \"most_at_home\": 110.0, \"most_at_work\": 35.0, \"lang_known\": 550.0, \"mother_tongue_percent\": 0.0008961152635227491, \"most_at_home_percent\": 0.0003129291396428648}, {\"category\": \"Aboriginal languages\", \"language\": \"Northern Tutchone\", \"mother_tongue\": 220.0, \"most_at_home\": 30.0, \"most_at_work\": 0.0, \"lang_known\": 280.0, \"mother_tongue_percent\": 0.0006258582792857296, \"most_at_home_percent\": 8.534431081169039e-05}, {\"category\": \"Non-Official & Non-Aboriginal languages\", \"language\": \"Norwegian\", \"mother_tongue\": 4615.0, \"most_at_home\": 350.0, \"most_at_work\": 70.0, \"lang_known\": 8120.0, \"mother_tongue_percent\": 0.013128799813198373, \"most_at_home_percent\": 0.0009956836261363878}, {\"category\": \"Aboriginal languages\", \"language\": \"Nuu-chah-nulth (Nootka)\", \"mother_tongue\": 280.0, \"most_at_home\": 30.0, \"most_at_work\": 10.0, \"lang_known\": 560.0, \"mother_tongue_percent\": 0.0007965469009091103, \"most_at_home_percent\": 8.534431081169039e-05}, {\"category\": \"Aboriginal languages\", \"language\": \"Oji-Cree\", \"mother_tongue\": 12855.0, \"most_at_home\": 7905.0, \"most_at_work\": 1080.0, \"lang_known\": 15605.0, \"mother_tongue_percent\": 0.03657003718280933, \"most_at_home_percent\": 0.022488225898880422}, {\"category\": \"Aboriginal languages\", \"language\": \"Ojibway\", \"mother_tongue\": 17885.0, \"most_at_home\": 6175.0, \"most_at_work\": 765.0, \"lang_known\": 28580.0, \"mother_tongue_percent\": 0.05087943329556943, \"most_at_home_percent\": 0.017566703975406273}, {\"category\": \"Aboriginal languages\", \"language\": \"Okanagan\", \"mother_tongue\": 275.0, \"most_at_home\": 80.0, \"most_at_work\": 20.0, \"lang_known\": 820.0, \"mother_tongue_percent\": 0.000782322849107162, \"most_at_home_percent\": 0.0002275848288311744}, {\"category\": \"Aboriginal languages\", \"language\": \"Oneida\", \"mother_tongue\": 60.0, \"most_at_home\": 15.0, \"most_at_work\": 0.0, \"lang_known\": 185.0, \"mother_tongue_percent\": 0.00017068862162338078, \"most_at_home_percent\": 4.2672155405845196e-05}, {\"category\": \"Non-Official & Non-Aboriginal languages\", \"language\": \"Oriya (Odia)\", \"mother_tongue\": 1055.0, \"most_at_home\": 475.0, \"most_at_work\": 0.0, \"lang_known\": 1530.0, \"mother_tongue_percent\": 0.003001274930211112, \"most_at_home_percent\": 0.001351284921185098}, {\"category\": \"Non-Official & Non-Aboriginal languages\", \"language\": \"Oromo\", \"mother_tongue\": 4960.0, \"most_at_home\": 3410.0, \"most_at_work\": 45.0, \"lang_known\": 6245.0, \"mother_tongue_percent\": 0.014110259387532811, \"most_at_home_percent\": 0.009700803328928807}, {\"category\": \"Non-Official & Non-Aboriginal languages\", \"language\": \"Other languages, n.i.e.\", \"mother_tongue\": 3685.0, \"most_at_home\": 1110.0, \"most_at_work\": 80.0, \"lang_known\": 9730.0, \"mother_tongue_percent\": 0.01048312617803597, \"most_at_home_percent\": 0.0031577395000325446}, {\"category\": \"Aboriginal languages\", \"language\": \"Ottawa (Odawa)\", \"mother_tongue\": 150.0, \"most_at_home\": 75.0, \"most_at_work\": 0.0, \"lang_known\": 205.0, \"mother_tongue_percent\": 0.00042672155405845203, \"most_at_home_percent\": 0.00021336077702922601}, {\"category\": \"Non-Official & Non-Aboriginal languages\", \"language\": \"Pampangan (Kapampangan, Pampango)\", \"mother_tongue\": 4045.0, \"most_at_home\": 1200.0, \"most_at_work\": 10.0, \"lang_known\": 5425.0, \"mother_tongue_percent\": 0.011507257907776255, \"most_at_home_percent\": 0.0034137724324676162}, {\"category\": \"Non-Official & Non-Aboriginal languages\", \"language\": \"Pangasinan\", \"mother_tongue\": 1390.0, \"most_at_home\": 240.0, \"most_at_work\": 0.0, \"lang_known\": 1800.0, \"mother_tongue_percent\": 0.003954286400941655, \"most_at_home_percent\": 0.0006827544864935231}, {\"category\": \"Non-Official & Non-Aboriginal languages\", \"language\": \"Pashto\", \"mother_tongue\": 16905.0, \"most_at_home\": 10590.0, \"most_at_work\": 50.0, \"lang_known\": 23180.0, \"mother_tongue_percent\": 0.04809151914238754, \"most_at_home_percent\": 0.030126541716526713}, {\"category\": \"Non-Official & Non-Aboriginal languages\", \"language\": \"Persian (Farsi)\", \"mother_tongue\": 214200.0, \"most_at_home\": 143025.0, \"most_at_work\": 4580.0, \"lang_known\": 252325.0, \"mother_tongue_percent\": 0.6093583791954694, \"most_at_home_percent\": 0.40687900179473396}, {\"category\": \"Aboriginal languages\", \"language\": \"Plains Cree\", \"mother_tongue\": 3065.0, \"most_at_home\": 1345.0, \"most_at_work\": 95.0, \"lang_known\": 5905.0, \"mother_tongue_percent\": 0.008719343754594369, \"most_at_home_percent\": 0.0038262699347241195}, {\"category\": \"Non-Official & Non-Aboriginal languages\", \"language\": \"Polish\", \"mother_tongue\": 181710.0, \"most_at_home\": 74780.0, \"most_at_work\": 2495.0, \"lang_known\": 214965.0, \"mother_tongue_percent\": 0.5169304905864087, \"most_at_home_percent\": 0.21273491874994024}, {\"category\": \"Non-Official & Non-Aboriginal languages\", \"language\": \"Portuguese\", \"mother_tongue\": 221535.0, \"most_at_home\": 98710.0, \"most_at_work\": 7485.0, \"lang_known\": 295955.0, \"mother_tongue_percent\": 0.6302250631889278, \"most_at_home_percent\": 0.2808112306740653}, {\"category\": \"Non-Official & Non-Aboriginal languages\", \"language\": \"Punjabi (Panjabi)\", \"mother_tongue\": 501680.0, \"most_at_home\": 349140.0, \"most_at_work\": 27865.0, \"lang_known\": 668240.0, \"mother_tongue_percent\": 1.4271844616002944, \"most_at_home_percent\": 0.9932370892264529}, {\"category\": \"Non-Official & Non-Aboriginal languages\", \"language\": \"Quebec Sign Language\", \"mother_tongue\": 695.0, \"most_at_home\": 730.0, \"most_at_work\": 130.0, \"lang_known\": 4665.0, \"mother_tongue_percent\": 0.0019771432004708277, \"most_at_home_percent\": 0.0020767115630844664}, {\"category\": \"Non-Official & Non-Aboriginal languages\", \"language\": \"Romanian\", \"mother_tongue\": 96660.0, \"most_at_home\": 53325.0, \"most_at_work\": 745.0, \"lang_known\": 115050.0, \"mother_tongue_percent\": 0.27497936943526646, \"most_at_home_percent\": 0.15169951246777968}, {\"category\": \"Non-Official & Non-Aboriginal languages\", \"language\": \"Rundi (Kirundi)\", \"mother_tongue\": 5850.0, \"most_at_home\": 2110.0, \"most_at_work\": 0.0, \"lang_known\": 8590.0, \"mother_tongue_percent\": 0.016642140608279628, \"most_at_home_percent\": 0.006002549860422224}, {\"category\": \"Non-Official & Non-Aboriginal languages\", \"language\": \"Russian\", \"mother_tongue\": 188255.0, \"most_at_home\": 116595.0, \"most_at_work\": 4855.0, \"lang_known\": 269645.0, \"mother_tongue_percent\": 0.5355497743951592, \"most_at_home_percent\": 0.3316906639696347}, {\"category\": \"Aboriginal languages\", \"language\": \"Salish languages, n.i.e.\", \"mother_tongue\": 260.0, \"most_at_home\": 25.0, \"most_at_work\": 0.0, \"lang_known\": 560.0, \"mother_tongue_percent\": 0.0007396506937013168, \"most_at_home_percent\": 7.1120259009742e-05}, {\"category\": \"Aboriginal languages\", \"language\": \"Sarsi (Sarcee)\", \"mother_tongue\": 80.0, \"most_at_home\": 10.0, \"most_at_work\": 0.0, \"lang_known\": 145.0, \"mother_tongue_percent\": 0.0002275848288311744, \"most_at_home_percent\": 2.84481036038968e-05}, {\"category\": \"Non-Official & Non-Aboriginal languages\", \"language\": \"Scottish Gaelic\", \"mother_tongue\": 1090.0, \"most_at_home\": 190.0, \"most_at_work\": 15.0, \"lang_known\": 3980.0, \"mother_tongue_percent\": 0.003100843292824751, \"most_at_home_percent\": 0.0005405139684740392}, {\"category\": \"Aboriginal languages\", \"language\": \"Sekani\", \"mother_tongue\": 85.0, \"most_at_home\": 15.0, \"most_at_work\": 0.0, \"lang_known\": 185.0, \"mother_tongue_percent\": 0.0002418088806331228, \"most_at_home_percent\": 4.2672155405845196e-05}, {\"category\": \"Non-Official & Non-Aboriginal languages\", \"language\": \"Semitic languages, n.i.e.\", \"mother_tongue\": 2150.0, \"most_at_home\": 1205.0, \"most_at_work\": 65.0, \"lang_known\": 3220.0, \"mother_tongue_percent\": 0.006116342274837812, \"most_at_home_percent\": 0.003427996484269564}, {\"category\": \"Non-Official & Non-Aboriginal languages\", \"language\": \"Serbian\", \"mother_tongue\": 57350.0, \"most_at_home\": 31750.0, \"most_at_work\": 530.0, \"lang_known\": 73780.0, \"mother_tongue_percent\": 0.16314987416834814, \"most_at_home_percent\": 0.09032272894237234}, {\"category\": \"Non-Official & Non-Aboriginal languages\", \"language\": \"Serbo-Croatian\", \"mother_tongue\": 9550.0, \"most_at_home\": 3890.0, \"most_at_work\": 30.0, \"lang_known\": 11275.0, \"mother_tongue_percent\": 0.027167938941721443, \"most_at_home_percent\": 0.011066312301915855}, {\"category\": \"Non-Official & Non-Aboriginal languages\", \"language\": \"Shona\", \"mother_tongue\": 3185.0, \"most_at_home\": 1035.0, \"most_at_work\": 0.0, \"lang_known\": 5430.0, \"mother_tongue_percent\": 0.00906072099784113, \"most_at_home_percent\": 0.0029443787230033183}, {\"category\": \"Aboriginal languages\", \"language\": \"Shuswap (Secwepemctsin)\", \"mother_tongue\": 445.0, \"most_at_home\": 50.0, \"most_at_work\": 35.0, \"lang_known\": 1305.0, \"mother_tongue_percent\": 0.0012659406103734075, \"most_at_home_percent\": 0.000142240518019484}, {\"category\": \"Non-Official & Non-Aboriginal languages\", \"language\": \"Sign languages, n.i.e\", \"mother_tongue\": 4125.0, \"most_at_home\": 6690.0, \"most_at_work\": 645.0, \"lang_known\": 22280.0, \"mother_tongue_percent\": 0.01173484273660743, \"most_at_home_percent\": 0.019031781311006957}, {\"category\": \"Non-Official & Non-Aboriginal languages\", \"language\": \"Sindhi\", \"mother_tongue\": 11860.0, \"most_at_home\": 4975.0, \"most_at_work\": 35.0, \"lang_known\": 20260.0, \"mother_tongue_percent\": 0.0337394508742216, \"most_at_home_percent\": 0.014152931542938656}, {\"category\": \"Non-Official & Non-Aboriginal languages\", \"language\": \"Sinhala (Sinhalese)\", \"mother_tongue\": 16335.0, \"most_at_home\": 7790.0, \"most_at_work\": 40.0, \"lang_known\": 27825.0, \"mother_tongue_percent\": 0.046469977236965415, \"most_at_home_percent\": 0.022161072707435607}, {\"category\": \"Aboriginal languages\", \"language\": \"Siouan languages, n.i.e.\", \"mother_tongue\": 55.0, \"most_at_home\": 20.0, \"most_at_work\": 0.0, \"lang_known\": 140.0, \"mother_tongue_percent\": 0.0001564645698214324, \"most_at_home_percent\": 5.68962072077936e-05}, {\"category\": \"Aboriginal languages\", \"language\": \"Slavey, n.o.s.\", \"mother_tongue\": 280.0, \"most_at_home\": 105.0, \"most_at_work\": 10.0, \"lang_known\": 675.0, \"mother_tongue_percent\": 0.0007965469009091103, \"most_at_home_percent\": 0.0002987050878409164}, {\"category\": \"Non-Official & Non-Aboriginal languages\", \"language\": \"Slavic languages, n.i.e.\", \"mother_tongue\": 2420.0, \"most_at_home\": 670.0, \"most_at_work\": 10.0, \"lang_known\": 2995.0, \"mother_tongue_percent\": 0.006884441072143025, \"most_at_home_percent\": 0.0019060229414610854}, {\"category\": \"Non-Official & Non-Aboriginal languages\", \"language\": \"Slovak\", \"mother_tongue\": 17580.0, \"most_at_home\": 5610.0, \"most_at_work\": 100.0, \"lang_known\": 21470.0, \"mother_tongue_percent\": 0.05001176613565057, \"most_at_home_percent\": 0.015959386121786105}, {\"category\": \"Non-Official & Non-Aboriginal languages\", \"language\": \"Slovene (Slovenian)\", \"mother_tongue\": 9785.0, \"most_at_home\": 2055.0, \"most_at_work\": 15.0, \"lang_known\": 11490.0, \"mother_tongue_percent\": 0.027836469376413014, \"most_at_home_percent\": 0.005846085290600792}, {\"category\": \"Non-Official & Non-Aboriginal languages\", \"language\": \"Somali\", \"mother_tongue\": 36755.0, \"most_at_home\": 22895.0, \"most_at_work\": 220.0, \"lang_known\": 49660.0, \"mother_tongue_percent\": 0.10456100479612268, \"most_at_home_percent\": 0.06513193320112172}, {\"category\": \"Aboriginal languages\", \"language\": \"South Slavey\", \"mother_tongue\": 945.0, \"most_at_home\": 370.0, \"most_at_work\": 35.0, \"lang_known\": 1365.0, \"mother_tongue_percent\": 0.0026883457905682476, \"most_at_home_percent\": 0.0010525798333441815}, {\"category\": \"Aboriginal languages\", \"language\": \"Southern East Cree\", \"mother_tongue\": 45.0, \"most_at_home\": 15.0, \"most_at_work\": 0.0, \"lang_known\": 40.0, \"mother_tongue_percent\": 0.00012801646621753558, \"most_at_home_percent\": 4.2672155405845196e-05}, {\"category\": \"Aboriginal languages\", \"language\": \"Southern Tutchone\", \"mother_tongue\": 70.0, \"most_at_home\": 5.0, \"most_at_work\": 0.0, \"lang_known\": 145.0, \"mother_tongue_percent\": 0.00019913672522727758, \"most_at_home_percent\": 1.42240518019484e-05}, {\"category\": \"Non-Official & Non-Aboriginal languages\", \"language\": \"Spanish\", \"mother_tongue\": 458850.0, \"most_at_home\": 263505.0, \"most_at_work\": 13030.0, \"lang_known\": 995260.0, \"mother_tongue_percent\": 1.3053412338648045, \"most_at_home_percent\": 0.7496217540144826}, {\"category\": \"Aboriginal languages\", \"language\": \"Squamish\", \"mother_tongue\": 40.0, \"most_at_home\": 5.0, \"most_at_work\": 10.0, \"lang_known\": 285.0, \"mother_tongue_percent\": 0.0001137924144155872, \"most_at_home_percent\": 1.42240518019484e-05}, {\"category\": \"Aboriginal languages\", \"language\": \"Stoney\", \"mother_tongue\": 3025.0, \"most_at_home\": 1950.0, \"most_at_work\": 240.0, \"lang_known\": 3675.0, \"mother_tongue_percent\": 0.008605551340178782, \"most_at_home_percent\": 0.005547380202759876}, {\"category\": \"Aboriginal languages\", \"language\": \"Straits\", \"mother_tongue\": 80.0, \"most_at_home\": 25.0, \"most_at_work\": 15.0, \"lang_known\": 365.0, \"mother_tongue_percent\": 0.0002275848288311744, \"most_at_home_percent\": 7.1120259009742e-05}, {\"category\": \"Non-Official & Non-Aboriginal languages\", \"language\": \"Swahili\", \"mother_tongue\": 13370.0, \"most_at_home\": 5370.0, \"most_at_work\": 80.0, \"lang_known\": 38685.0, \"mother_tongue_percent\": 0.038035114518410025, \"most_at_home_percent\": 0.01527663163529258}, {\"category\": \"Aboriginal languages\", \"language\": \"Swampy Cree\", \"mother_tongue\": 1440.0, \"most_at_home\": 330.0, \"most_at_work\": 10.0, \"lang_known\": 2350.0, \"mother_tongue_percent\": 0.004096526918961139, \"most_at_home_percent\": 0.0009387874189285944}, {\"category\": \"Non-Official & Non-Aboriginal languages\", \"language\": \"Swedish\", \"mother_tongue\": 6840.0, \"most_at_home\": 1050.0, \"most_at_work\": 125.0, \"lang_known\": 14140.0, \"mother_tongue_percent\": 0.01945850286506541, \"most_at_home_percent\": 0.002987050878409164}, {\"category\": \"Non-Official & Non-Aboriginal languages\", \"language\": \"Tagalog (Pilipino, Filipino)\", \"mother_tongue\": 431385.0, \"most_at_home\": 213790.0, \"most_at_work\": 3450.0, \"lang_known\": 612735.0, \"mother_tongue_percent\": 1.227208517316702, \"most_at_home_percent\": 0.6081920069477096}, {\"category\": \"Aboriginal languages\", \"language\": \"Tahltan\", \"mother_tongue\": 95.0, \"most_at_home\": 5.0, \"most_at_work\": 0.0, \"lang_known\": 265.0, \"mother_tongue_percent\": 0.0002702569842370196, \"most_at_home_percent\": 1.42240518019484e-05}, {\"category\": \"Non-Official & Non-Aboriginal languages\", \"language\": \"Tai-Kadai languages, n.i.e\", \"mother_tongue\": 85.0, \"most_at_home\": 30.0, \"most_at_work\": 0.0, \"lang_known\": 115.0, \"mother_tongue_percent\": 0.0002418088806331228, \"most_at_home_percent\": 8.534431081169039e-05}, {\"category\": \"Non-Official & Non-Aboriginal languages\", \"language\": \"Tamil\", \"mother_tongue\": 140720.0, \"most_at_home\": 96955.0, \"most_at_work\": 2085.0, \"lang_known\": 189860.0, \"mother_tongue_percent\": 0.4003217139140357, \"most_at_home_percent\": 0.2758185884915814}, {\"category\": \"Non-Official & Non-Aboriginal languages\", \"language\": \"Telugu\", \"mother_tongue\": 15660.0, \"most_at_home\": 8280.0, \"most_at_work\": 40.0, \"lang_known\": 23165.0, \"mother_tongue_percent\": 0.04454973024370239, \"most_at_home_percent\": 0.023555029784026547}, {\"category\": \"Non-Official & Non-Aboriginal languages\", \"language\": \"Thai\", \"mother_tongue\": 9255.0, \"most_at_home\": 3365.0, \"most_at_work\": 525.0, \"lang_known\": 15395.0, \"mother_tongue_percent\": 0.026328719885406485, \"most_at_home_percent\": 0.009572786862711274}, {\"category\": \"Aboriginal languages\", \"language\": \"Thompson (Ntlakapamux)\", \"mother_tongue\": 335.0, \"most_at_home\": 20.0, \"most_at_work\": 0.0, \"lang_known\": 450.0, \"mother_tongue_percent\": 0.0009530114707305427, \"most_at_home_percent\": 5.68962072077936e-05}, {\"category\": \"Non-Official & Non-Aboriginal languages\", \"language\": \"Tibetan\", \"mother_tongue\": 6160.0, \"most_at_home\": 4590.0, \"most_at_work\": 50.0, \"lang_known\": 7050.0, \"mother_tongue_percent\": 0.017524031820000428, \"most_at_home_percent\": 0.01305767955418863}, {\"category\": \"Non-Official & Non-Aboriginal languages\", \"language\": \"Tibeto-Burman languages, n.i.e.\", \"mother_tongue\": 1405.0, \"most_at_home\": 655.0, \"most_at_work\": 15.0, \"lang_known\": 2380.0, \"mother_tongue_percent\": 0.0039969585563475, \"most_at_home_percent\": 0.0018633507860552402}, {\"category\": \"Non-Official & Non-Aboriginal languages\", \"language\": \"Tigrigna\", \"mother_tongue\": 16645.0, \"most_at_home\": 10205.0, \"most_at_work\": 130.0, \"lang_known\": 21340.0, \"mother_tongue_percent\": 0.04735186844868622, \"most_at_home_percent\": 0.02903128972777668}, {\"category\": \"Aboriginal languages\", \"language\": \"Tsimshian\", \"mother_tongue\": 200.0, \"most_at_home\": 30.0, \"most_at_work\": 10.0, \"lang_known\": 410.0, \"mother_tongue_percent\": 0.000568962072077936, \"most_at_home_percent\": 8.534431081169039e-05}, {\"category\": \"Non-Official & Non-Aboriginal languages\", \"language\": \"Turkic languages, n.i.e.\", \"mother_tongue\": 1315.0, \"most_at_home\": 455.0, \"most_at_work\": 10.0, \"lang_known\": 1875.0, \"mother_tongue_percent\": 0.0037409256239124295, \"most_at_home_percent\": 0.0012943887139773042}, {\"category\": \"Non-Official & Non-Aboriginal languages\", \"language\": \"Turkish\", \"mother_tongue\": 32815.0, \"most_at_home\": 18955.0, \"most_at_work\": 690.0, \"lang_known\": 50770.0, \"mother_tongue_percent\": 0.09335245197618734, \"most_at_home_percent\": 0.05392338038118638}, {\"category\": \"Non-Official & Non-Aboriginal languages\", \"language\": \"Ukrainian\", \"mother_tongue\": 102485.0, \"most_at_home\": 28250.0, \"most_at_work\": 1210.0, \"lang_known\": 132115.0, \"mother_tongue_percent\": 0.29155038978453635, \"most_at_home_percent\": 0.08036589268100845}, {\"category\": \"Non-Official & Non-Aboriginal languages\", \"language\": \"Uralic languages, n.i.e.\", \"mother_tongue\": 10.0, \"most_at_home\": 5.0, \"most_at_work\": 0.0, \"lang_known\": 25.0, \"mother_tongue_percent\": 2.84481036038968e-05, \"most_at_home_percent\": 1.42240518019484e-05}, {\"category\": \"Non-Official & Non-Aboriginal languages\", \"language\": \"Urdu\", \"mother_tongue\": 210815.0, \"most_at_home\": 128785.0, \"most_at_work\": 1495.0, \"lang_known\": 322220.0, \"mother_tongue_percent\": 0.5997286961255504, \"most_at_home_percent\": 0.3663689022627849}, {\"category\": \"Non-Official & Non-Aboriginal languages\", \"language\": \"Uyghur\", \"mother_tongue\": 1035.0, \"most_at_home\": 610.0, \"most_at_work\": 20.0, \"lang_known\": 1390.0, \"mother_tongue_percent\": 0.0029443787230033183, \"most_at_home_percent\": 0.0017353343198377048}, {\"category\": \"Non-Official & Non-Aboriginal languages\", \"language\": \"Uzbek\", \"mother_tongue\": 1720.0, \"most_at_home\": 995.0, \"most_at_work\": 15.0, \"lang_known\": 2465.0, \"mother_tongue_percent\": 0.004893073819870249, \"most_at_home_percent\": 0.0028305863085877313}, {\"category\": \"Non-Official & Non-Aboriginal languages\", \"language\": \"Vietnamese\", \"mother_tongue\": 156430.0, \"most_at_home\": 104245.0, \"most_at_work\": 8075.0, \"lang_known\": 198895.0, \"mother_tongue_percent\": 0.4450136846757576, \"most_at_home_percent\": 0.2965572560188222}, {\"category\": \"Non-Official & Non-Aboriginal languages\", \"language\": \"Vlaams (Flemish)\", \"mother_tongue\": 3895.0, \"most_at_home\": 355.0, \"most_at_work\": 35.0, \"lang_known\": 4400.0, \"mother_tongue_percent\": 0.011080536353717804, \"most_at_home_percent\": 0.0010099076779383363}, {\"category\": \"Non-Official & Non-Aboriginal languages\", \"language\": \"Waray-Waray\", \"mother_tongue\": 1110.0, \"most_at_home\": 310.0, \"most_at_work\": 0.0, \"lang_known\": 1395.0, \"mother_tongue_percent\": 0.0031577395000325446, \"most_at_home_percent\": 0.0008818912117208007}, {\"category\": \"Non-Official & Non-Aboriginal languages\", \"language\": \"Welsh\", \"mother_tongue\": 1075.0, \"most_at_home\": 95.0, \"most_at_work\": 0.0, \"lang_known\": 1695.0, \"mother_tongue_percent\": 0.003058171137418906, \"most_at_home_percent\": 0.0002702569842370196}, {\"category\": \"Non-Official & Non-Aboriginal languages\", \"language\": \"Wolof\", \"mother_tongue\": 3990.0, \"most_at_home\": 1385.0, \"most_at_work\": 10.0, \"lang_known\": 8240.0, \"mother_tongue_percent\": 0.011350793337954822, \"most_at_home_percent\": 0.003940062349139706}, {\"category\": \"Aboriginal languages\", \"language\": \"Woods Cree\", \"mother_tongue\": 1840.0, \"most_at_home\": 800.0, \"most_at_work\": 75.0, \"lang_known\": 2665.0, \"mother_tongue_percent\": 0.005234451063117011, \"most_at_home_percent\": 0.002275848288311744}, {\"category\": \"Non-Official & Non-Aboriginal languages\", \"language\": \"Wu (Shanghainese)\", \"mother_tongue\": 12915.0, \"most_at_home\": 7650.0, \"most_at_work\": 105.0, \"lang_known\": 16530.0, \"mother_tongue_percent\": 0.03674072580443272, \"most_at_home_percent\": 0.02176279925698105}, {\"category\": \"Non-Official & Non-Aboriginal languages\", \"language\": \"Yiddish\", \"mother_tongue\": 13555.0, \"most_at_home\": 7085.0, \"most_at_work\": 895.0, \"lang_known\": 20985.0, \"mother_tongue_percent\": 0.03856140443508211, \"most_at_home_percent\": 0.020155481403360882}, {\"category\": \"Non-Official & Non-Aboriginal languages\", \"language\": \"Yoruba\", \"mother_tongue\": 9080.0, \"most_at_home\": 2615.0, \"most_at_work\": 15.0, \"lang_known\": 22415.0, \"mother_tongue_percent\": 0.025830878072338293, \"most_at_home_percent\": 0.007439179092419013}, {\"category\": \"Non-Official & Non-Aboriginal languages\", \"language\": \"Yoruba\", \"mother_tongue\": 9080.0, \"most_at_home\": 2615.0, \"most_at_work\": 15.0, \"lang_known\": 22415.0, \"mother_tongue_percent\": 0.025830878072338293, \"most_at_home_percent\": 0.007439179092419013}]}}, {\"mode\": \"vega-lite\"});\n</script>",
      "application/papermill.record/text/plain": "alt.Chart(...)"
     },
     "metadata": {
      "scrapbook": {
       "mime_prefix": "application/papermill.record/",
       "name": "can_lang_plot_legend"
      }
     },
     "output_type": "display_data"
    }
   ],
   "source": [
    "glue('can_lang_plot_legend', can_lang_plot_legend, display=False)"
   ]
  },
  {
   "cell_type": "markdown",
   "id": "246653c9",
   "metadata": {},
   "source": [
    ":::{glue:figure} can_lang_plot_legend\n",
    ":figwidth: 700px \n",
    ":name: can_lang_plot_legend\n",
    "\n",
    "Scatter plot of percentage of Canadians reporting a language as their mother tongue vs the primary language at home colored by language category with the legend edited.\n",
    ":::\n",
    "\n",
    "In {numref}`can_lang_plot_legend`, the points are colored with\n",
    "the default `altair` color palette. But what if you want to use different\n",
    "colors? In Altair, there are many themes available, which can be viewed [here](https://vega.github.io/vega/docs/schemes/)\n",
    "\n",
    "\n",
    "To change the color scheme, \n",
    "we add the `scheme` argument in the `scale` of the `color` argument in `altair` layer indicating the palette we want to use. \n",
    "You can use \n",
    "this [color blindness simulator](https://www.color-blindness.com/coblis-color-blindness-simulator/) to check \n",
    "if your visualizations \\index{color palette!color blindness simulator} \n",
    "are color-blind friendly.\n",
    "\n",
    "Below we pick the `\"dark2\"` theme, with the result shown\n",
    "in {numref}`can_lang_plot_theme`\n",
    "We also set the `shape` aesthetic mapping to the `category` variable as well;\n",
    "this makes the scatter point shapes different for each category. This kind of \n",
    "visual redundancy&mdash;i.e., conveying the same information with both scatter point color and shape&mdash;can\n",
    "further improve the clarity and accessibility of your visualization.\n",
    "\n",
    "> Note: We cannot use different shapes with `mark_circle`, it can only be used with `mark_point`"
   ]
  },
  {
   "cell_type": "code",
   "execution_count": 38,
   "id": "d4c3fc61",
   "metadata": {
    "execution": {
     "iopub.execute_input": "2022-07-19T22:59:15.534997Z",
     "iopub.status.busy": "2022-07-19T22:59:15.534856Z",
     "iopub.status.idle": "2022-07-19T22:59:15.541836Z",
     "shell.execute_reply": "2022-07-19T22:59:15.541508Z"
    }
   },
   "outputs": [],
   "source": [
    "can_lang_plot_theme = alt.Chart(can_lang).mark_point(filled=True).encode(\n",
    "    x = alt.X(\"most_at_home_percent\",title = [\"Language spoken most at home\", \"(number of Canadian residents)\"], scale=alt.Scale(type=\"log\"), axis=alt.Axis(tickCount=7)),\n",
    "    y = alt.Y(\"mother_tongue_percent\", title = \"Mother tongue(percentage of Canadian residents)\", scale=alt.Scale(type=\"log\"), axis=alt.Axis(tickCount=7)),\n",
    "    color = alt.Color(\"category\", legend=alt.Legend(\n",
    "                            orient='none',\n",
    "                            legendX=0, legendY=-90,\n",
    "                            direction='vertical'), \n",
    "                         scale=alt.Scale(scheme='dark2')),\n",
    "    shape = \"category\").configure_axis(\n",
    "    titleFontSize=12)\n"
   ]
  },
  {
   "cell_type": "code",
   "execution_count": 39,
   "id": "a15fcd6b",
   "metadata": {
    "execution": {
     "iopub.execute_input": "2022-07-19T22:59:15.543480Z",
     "iopub.status.busy": "2022-07-19T22:59:15.543367Z",
     "iopub.status.idle": "2022-07-19T22:59:15.554475Z",
     "shell.execute_reply": "2022-07-19T22:59:15.554164Z"
    },
    "tags": [
     "remove-cell"
    ]
   },
   "outputs": [
    {
     "data": {
      "application/papermill.record/text/html": "\n<div id=\"altair-viz-e6853f2e83b0463b9ba70a7ac4cd0dbc\"></div>\n<script type=\"text/javascript\">\n  var VEGA_DEBUG = (typeof VEGA_DEBUG == \"undefined\") ? {} : VEGA_DEBUG;\n  (function(spec, embedOpt){\n    let outputDiv = document.currentScript.previousElementSibling;\n    if (outputDiv.id !== \"altair-viz-e6853f2e83b0463b9ba70a7ac4cd0dbc\") {\n      outputDiv = document.getElementById(\"altair-viz-e6853f2e83b0463b9ba70a7ac4cd0dbc\");\n    }\n    const paths = {\n      \"vega\": \"https://cdn.jsdelivr.net/npm//vega@5?noext\",\n      \"vega-lib\": \"https://cdn.jsdelivr.net/npm//vega-lib?noext\",\n      \"vega-lite\": \"https://cdn.jsdelivr.net/npm//vega-lite@4.17.0?noext\",\n      \"vega-embed\": \"https://cdn.jsdelivr.net/npm//vega-embed@6?noext\",\n    };\n\n    function maybeLoadScript(lib, version) {\n      var key = `${lib.replace(\"-\", \"\")}_version`;\n      return (VEGA_DEBUG[key] == version) ?\n        Promise.resolve(paths[lib]) :\n        new Promise(function(resolve, reject) {\n          var s = document.createElement('script');\n          document.getElementsByTagName(\"head\")[0].appendChild(s);\n          s.async = true;\n          s.onload = () => {\n            VEGA_DEBUG[key] = version;\n            return resolve(paths[lib]);\n          };\n          s.onerror = () => reject(`Error loading script: ${paths[lib]}`);\n          s.src = paths[lib];\n        });\n    }\n\n    function showError(err) {\n      outputDiv.innerHTML = `<div class=\"error\" style=\"color:red;\">${err}</div>`;\n      throw err;\n    }\n\n    function displayChart(vegaEmbed) {\n      vegaEmbed(outputDiv, spec, embedOpt)\n        .catch(err => showError(`Javascript Error: ${err.message}<br>This usually means there's a typo in your chart specification. See the javascript console for the full traceback.`));\n    }\n\n    if(typeof define === \"function\" && define.amd) {\n      requirejs.config({paths});\n      require([\"vega-embed\"], displayChart, err => showError(`Error loading script: ${err.message}`));\n    } else {\n      maybeLoadScript(\"vega\", \"5\")\n        .then(() => maybeLoadScript(\"vega-lite\", \"4.17.0\"))\n        .then(() => maybeLoadScript(\"vega-embed\", \"6\"))\n        .catch(showError)\n        .then(() => displayChart(vegaEmbed));\n    }\n  })({\"config\": {\"view\": {\"continuousWidth\": 400, \"continuousHeight\": 300}, \"axis\": {\"titleFontSize\": 12}}, \"data\": {\"name\": \"data-4425298868ef129701a2a71a12652c7e\"}, \"mark\": {\"type\": \"point\", \"filled\": true}, \"encoding\": {\"color\": {\"field\": \"category\", \"legend\": {\"direction\": \"vertical\", \"legendX\": 0, \"legendY\": -90, \"orient\": \"none\"}, \"scale\": {\"scheme\": \"dark2\"}, \"type\": \"nominal\"}, \"shape\": {\"field\": \"category\", \"type\": \"nominal\"}, \"x\": {\"axis\": {\"tickCount\": 7}, \"field\": \"most_at_home_percent\", \"scale\": {\"type\": \"log\"}, \"title\": [\"Language spoken most at home\", \"(number of Canadian residents)\"], \"type\": \"quantitative\"}, \"y\": {\"axis\": {\"tickCount\": 7}, \"field\": \"mother_tongue_percent\", \"scale\": {\"type\": \"log\"}, \"title\": \"Mother tongue(percentage of Canadian residents)\", \"type\": \"quantitative\"}}, \"$schema\": \"https://vega.github.io/schema/vega-lite/v4.17.0.json\", \"datasets\": {\"data-4425298868ef129701a2a71a12652c7e\": [{\"category\": \"Aboriginal languages\", \"language\": \"Aboriginal languages, n.o.s.\", \"mother_tongue\": 590.0, \"most_at_home\": 235.0, \"most_at_work\": 30.0, \"lang_known\": 665.0, \"mother_tongue_percent\": 0.001678438112629911, \"most_at_home_percent\": 0.0006685304346915747}, {\"category\": \"Non-Official & Non-Aboriginal languages\", \"language\": \"Afrikaans\", \"mother_tongue\": 10260.0, \"most_at_home\": 4785.0, \"most_at_work\": 85.0, \"lang_known\": 23415.0, \"mother_tongue_percent\": 0.029187754297598113, \"most_at_home_percent\": 0.013612417574464618}, {\"category\": \"Non-Official & Non-Aboriginal languages\", \"language\": \"Afro-Asiatic languages, n.i.e.\", \"mother_tongue\": 1150.0, \"most_at_home\": 445.0, \"most_at_work\": 10.0, \"lang_known\": 2775.0, \"mother_tongue_percent\": 0.0032715319144481316, \"most_at_home_percent\": 0.0012659406103734075}, {\"category\": \"Non-Official & Non-Aboriginal languages\", \"language\": \"Akan (Twi)\", \"mother_tongue\": 13460.0, \"most_at_home\": 5985.0, \"most_at_work\": 25.0, \"lang_known\": 22150.0, \"mother_tongue_percent\": 0.038291147450845095, \"most_at_home_percent\": 0.017026190006932233}, {\"category\": \"Non-Official & Non-Aboriginal languages\", \"language\": \"Albanian\", \"mother_tongue\": 26895.0, \"most_at_home\": 13135.0, \"most_at_work\": 345.0, \"lang_known\": 31930.0, \"mother_tongue_percent\": 0.07651117464268044, \"most_at_home_percent\": 0.03736658408371844}, {\"category\": \"Aboriginal languages\", \"language\": \"Algonquian languages, n.i.e.\", \"mother_tongue\": 45.0, \"most_at_home\": 10.0, \"most_at_work\": 0.0, \"lang_known\": 120.0, \"mother_tongue_percent\": 0.00012801646621753558, \"most_at_home_percent\": 2.84481036038968e-05}, {\"category\": \"Aboriginal languages\", \"language\": \"Algonquin\", \"mother_tongue\": 1260.0, \"most_at_home\": 370.0, \"most_at_work\": 40.0, \"lang_known\": 2480.0, \"mother_tongue_percent\": 0.0035844610540909966, \"most_at_home_percent\": 0.0010525798333441815}, {\"category\": \"Non-Official & Non-Aboriginal languages\", \"language\": \"American Sign Language\", \"mother_tongue\": 2685.0, \"most_at_home\": 3020.0, \"most_at_work\": 1145.0, \"lang_known\": 21930.0, \"mother_tongue_percent\": 0.00763831581764629, \"most_at_home_percent\": 0.008591327288376834}, {\"category\": \"Non-Official & Non-Aboriginal languages\", \"language\": \"Amharic\", \"mother_tongue\": 22465.0, \"most_at_home\": 12785.0, \"most_at_work\": 200.0, \"lang_known\": 33670.0, \"mother_tongue_percent\": 0.06390866474615416, \"most_at_home_percent\": 0.03637090045758205}, {\"category\": \"Non-Official & Non-Aboriginal languages\", \"language\": \"Arabic\", \"mother_tongue\": 419890.0, \"most_at_home\": 223535.0, \"most_at_work\": 5585.0, \"lang_known\": 629055.0, \"mother_tongue_percent\": 1.1945074222240226, \"most_at_home_percent\": 0.6359146839097071}, {\"category\": \"Non-Official & Non-Aboriginal languages\", \"language\": \"Armenian\", \"mother_tongue\": 33460.0, \"most_at_home\": 21510.0, \"most_at_work\": 450.0, \"lang_known\": 41295.0, \"mother_tongue_percent\": 0.09518735465863869, \"most_at_home_percent\": 0.06119187085198201}, {\"category\": \"Non-Official & Non-Aboriginal languages\", \"language\": \"Assyrian Neo-Aramaic\", \"mother_tongue\": 16070.0, \"most_at_home\": 10510.0, \"most_at_work\": 205.0, \"lang_known\": 19740.0, \"mother_tongue_percent\": 0.04571610249146216, \"most_at_home_percent\": 0.029898956887695536}, {\"category\": \"Aboriginal languages\", \"language\": \"Athabaskan languages, n.i.e.\", \"mother_tongue\": 50.0, \"most_at_home\": 10.0, \"most_at_work\": 0.0, \"lang_known\": 85.0, \"mother_tongue_percent\": 0.000142240518019484, \"most_at_home_percent\": 2.84481036038968e-05}, {\"category\": \"Aboriginal languages\", \"language\": \"Atikamekw\", \"mother_tongue\": 6150.0, \"most_at_home\": 5465.0, \"most_at_work\": 1100.0, \"lang_known\": 6645.0, \"mother_tongue_percent\": 0.01749558371639653, \"most_at_home_percent\": 0.015546888619529601}, {\"category\": \"Non-Official & Non-Aboriginal languages\", \"language\": \"Austro-Asiatic languages, n.i.e\", \"mother_tongue\": 170.0, \"most_at_home\": 80.0, \"most_at_work\": 0.0, \"lang_known\": 190.0, \"mother_tongue_percent\": 0.0004836177612662456, \"most_at_home_percent\": 0.0002275848288311744}, {\"category\": \"Non-Official & Non-Aboriginal languages\", \"language\": \"Austronesian languages, n.i.e.\", \"mother_tongue\": 4195.0, \"most_at_home\": 1160.0, \"most_at_work\": 35.0, \"lang_known\": 5585.0, \"mother_tongue_percent\": 0.011933979461834707, \"most_at_home_percent\": 0.0032999800180520287}, {\"category\": \"Non-Official & Non-Aboriginal languages\", \"language\": \"Azerbaijani\", \"mother_tongue\": 3255.0, \"most_at_home\": 1245.0, \"most_at_work\": 25.0, \"lang_known\": 5455.0, \"mother_tongue_percent\": 0.009259857723068407, \"most_at_home_percent\": 0.0035417888986851516}, {\"category\": \"Aboriginal languages\", \"language\": \"Babine (Wetsuwet'en)\", \"mother_tongue\": 110.0, \"most_at_home\": 20.0, \"most_at_work\": 10.0, \"lang_known\": 210.0, \"mother_tongue_percent\": 0.0003129291396428648, \"most_at_home_percent\": 5.68962072077936e-05}, {\"category\": \"Non-Official & Non-Aboriginal languages\", \"language\": \"Bamanankan\", \"mother_tongue\": 1535.0, \"most_at_home\": 345.0, \"most_at_work\": 0.0, \"lang_known\": 3190.0, \"mother_tongue_percent\": 0.004366783903198159, \"most_at_home_percent\": 0.0009814595743344394}, {\"category\": \"Aboriginal languages\", \"language\": \"Beaver\", \"mother_tongue\": 190.0, \"most_at_home\": 50.0, \"most_at_work\": 0.0, \"lang_known\": 340.0, \"mother_tongue_percent\": 0.0005405139684740392, \"most_at_home_percent\": 0.000142240518019484}, {\"category\": \"Non-Official & Non-Aboriginal languages\", \"language\": \"Belarusan\", \"mother_tongue\": 810.0, \"most_at_home\": 225.0, \"most_at_work\": 0.0, \"lang_known\": 2265.0, \"mother_tongue_percent\": 0.002304296391915641, \"most_at_home_percent\": 0.0006400823310876779}, {\"category\": \"Non-Official & Non-Aboriginal languages\", \"language\": \"Bengali\", \"mother_tongue\": 73125.0, \"most_at_home\": 47350.0, \"most_at_work\": 525.0, \"lang_known\": 91220.0, \"mother_tongue_percent\": 0.20802675760349534, \"most_at_home_percent\": 0.13470177056445135}, {\"category\": \"Non-Official & Non-Aboriginal languages\", \"language\": \"Berber languages, n.i.e.\", \"mother_tongue\": 8985.0, \"most_at_home\": 2615.0, \"most_at_work\": 15.0, \"lang_known\": 12510.0, \"mother_tongue_percent\": 0.025560621088101275, \"most_at_home_percent\": 0.007439179092419013}, {\"category\": \"Non-Official & Non-Aboriginal languages\", \"language\": \"Bikol\", \"mother_tongue\": 1785.0, \"most_at_home\": 290.0, \"most_at_work\": 0.0, \"lang_known\": 2075.0, \"mother_tongue_percent\": 0.0050779864932955785, \"most_at_home_percent\": 0.0008249950045130072}, {\"category\": \"Non-Official & Non-Aboriginal languages\", \"language\": \"Bilen\", \"mother_tongue\": 805.0, \"most_at_home\": 615.0, \"most_at_work\": 15.0, \"lang_known\": 1085.0, \"mother_tongue_percent\": 0.002290072340113692, \"most_at_home_percent\": 0.0017495583716396533}, {\"category\": \"Aboriginal languages\", \"language\": \"Blackfoot\", \"mother_tongue\": 2815.0, \"most_at_home\": 1110.0, \"most_at_work\": 85.0, \"lang_known\": 5645.0, \"mother_tongue_percent\": 0.008008141164496949, \"most_at_home_percent\": 0.0031577395000325446}, {\"category\": \"Non-Official & Non-Aboriginal languages\", \"language\": \"Bosnian\", \"mother_tongue\": 12215.0, \"most_at_home\": 6045.0, \"most_at_work\": 155.0, \"lang_known\": 18265.0, \"mother_tongue_percent\": 0.03474935855215994, \"most_at_home_percent\": 0.017196878628555616}, {\"category\": \"Non-Official & Non-Aboriginal languages\", \"language\": \"Bulgarian\", \"mother_tongue\": 20020.0, \"most_at_home\": 11985.0, \"most_at_work\": 200.0, \"lang_known\": 22425.0, \"mother_tongue_percent\": 0.05695310341500139, \"most_at_home_percent\": 0.034095052169270314}, {\"category\": \"Non-Official & Non-Aboriginal languages\", \"language\": \"Burmese\", \"mother_tongue\": 3585.0, \"most_at_home\": 2245.0, \"most_at_work\": 75.0, \"lang_known\": 4995.0, \"mother_tongue_percent\": 0.010198645141997002, \"most_at_home_percent\": 0.006386599259074831}, {\"category\": \"Non-Official & Non-Aboriginal languages\", \"language\": \"Cantonese\", \"mother_tongue\": 565270.0, \"most_at_home\": 400220.0, \"most_at_work\": 58820.0, \"lang_known\": 699125.0, \"mother_tongue_percent\": 1.6080859524174744, \"most_at_home_percent\": 1.1385500024351576}, {\"category\": \"Aboriginal languages\", \"language\": \"Carrier\", \"mother_tongue\": 1025.0, \"most_at_home\": 250.0, \"most_at_work\": 15.0, \"lang_known\": 2100.0, \"mother_tongue_percent\": 0.0029159306193994217, \"most_at_home_percent\": 0.00071120259009742}, {\"category\": \"Non-Official & Non-Aboriginal languages\", \"language\": \"Catalan\", \"mother_tongue\": 870.0, \"most_at_home\": 350.0, \"most_at_work\": 30.0, \"lang_known\": 2035.0, \"mother_tongue_percent\": 0.0024749850135390213, \"most_at_home_percent\": 0.0009956836261363878}, {\"category\": \"Aboriginal languages\", \"language\": \"Cayuga\", \"mother_tongue\": 45.0, \"most_at_home\": 10.0, \"most_at_work\": 10.0, \"lang_known\": 125.0, \"mother_tongue_percent\": 0.00012801646621753558, \"most_at_home_percent\": 2.84481036038968e-05}, {\"category\": \"Non-Official & Non-Aboriginal languages\", \"language\": \"Cebuano\", \"mother_tongue\": 19890.0, \"most_at_home\": 7205.0, \"most_at_work\": 70.0, \"lang_known\": 27040.0, \"mother_tongue_percent\": 0.056583278068150736, \"most_at_home_percent\": 0.020496858646607642}, {\"category\": \"Non-Official & Non-Aboriginal languages\", \"language\": \"Celtic languages, n.i.e.\", \"mother_tongue\": 525.0, \"most_at_home\": 80.0, \"most_at_work\": 10.0, \"lang_known\": 3595.0, \"mother_tongue_percent\": 0.001493525439204582, \"most_at_home_percent\": 0.0002275848288311744}, {\"category\": \"Non-Official & Non-Aboriginal languages\", \"language\": \"Chaldean Neo-Aramaic\", \"mother_tongue\": 5545.0, \"most_at_home\": 3445.0, \"most_at_work\": 35.0, \"lang_known\": 7115.0, \"mother_tongue_percent\": 0.015774473448360776, \"most_at_home_percent\": 0.009800371691542447}, {\"category\": \"Aboriginal languages\", \"language\": \"Chilcotin\", \"mother_tongue\": 655.0, \"most_at_home\": 255.0, \"most_at_work\": 15.0, \"lang_known\": 1150.0, \"mother_tongue_percent\": 0.0018633507860552402, \"most_at_home_percent\": 0.0007254266418993683}, {\"category\": \"Non-Official & Non-Aboriginal languages\", \"language\": \"Chinese languages, n.i.e.\", \"mother_tongue\": 615.0, \"most_at_home\": 280.0, \"most_at_work\": 0.0, \"lang_known\": 590.0, \"mother_tongue_percent\": 0.0017495583716396533, \"most_at_home_percent\": 0.0007965469009091103}, {\"category\": \"Non-Official & Non-Aboriginal languages\", \"language\": \"Chinese, n.o.s.\", \"mother_tongue\": 38580.0, \"most_at_home\": 23940.0, \"most_at_work\": 2935.0, \"lang_known\": 41685.0, \"mother_tongue_percent\": 0.10975278370383384, \"most_at_home_percent\": 0.06810476002772893}, {\"category\": \"Aboriginal languages\", \"language\": \"Cree, n.o.s.\", \"mother_tongue\": 64050.0, \"most_at_home\": 37950.0, \"most_at_work\": 7800.0, \"lang_known\": 86115.0, \"mother_tongue_percent\": 0.182210103582959, \"most_at_home_percent\": 0.10796055317678836}, {\"category\": \"Non-Official & Non-Aboriginal languages\", \"language\": \"Creole languages, n.i.e.\", \"mother_tongue\": 4985.0, \"most_at_home\": 2005.0, \"most_at_work\": 15.0, \"lang_known\": 16635.0, \"mother_tongue_percent\": 0.014181379646542553, \"most_at_home_percent\": 0.005703844772581308}, {\"category\": \"Non-Official & Non-Aboriginal languages\", \"language\": \"Creole, n.o.s.\", \"mother_tongue\": 64110.0, \"most_at_home\": 24570.0, \"most_at_work\": 310.0, \"lang_known\": 133045.0, \"mother_tongue_percent\": 0.1823807922045824, \"most_at_home_percent\": 0.06989699055477444}, {\"category\": \"Non-Official & Non-Aboriginal languages\", \"language\": \"Croatian\", \"mother_tongue\": 48200.0, \"most_at_home\": 16775.0, \"most_at_work\": 220.0, \"lang_known\": 69835.0, \"mother_tongue_percent\": 0.13711985937078255, \"most_at_home_percent\": 0.04772169379553688}, {\"category\": \"Non-Official & Non-Aboriginal languages\", \"language\": \"Cushitic languages, n.i.e.\", \"mother_tongue\": 365.0, \"most_at_home\": 180.0, \"most_at_work\": 0.0, \"lang_known\": 480.0, \"mother_tongue_percent\": 0.0010383557815422332, \"most_at_home_percent\": 0.0005120658648701423}, {\"category\": \"Non-Official & Non-Aboriginal languages\", \"language\": \"Czech\", \"mother_tongue\": 22295.0, \"most_at_home\": 6235.0, \"most_at_work\": 70.0, \"lang_known\": 28725.0, \"mother_tongue_percent\": 0.06342504698488792, \"most_at_home_percent\": 0.017737392597029656}, {\"category\": \"Aboriginal languages\", \"language\": \"Dakota\", \"mother_tongue\": 1210.0, \"most_at_home\": 255.0, \"most_at_work\": 20.0, \"lang_known\": 1760.0, \"mother_tongue_percent\": 0.0034422205360715124, \"most_at_home_percent\": 0.0007254266418993683}, {\"category\": \"Non-Official & Non-Aboriginal languages\", \"language\": \"Danish\", \"mother_tongue\": 12630.0, \"most_at_home\": 855.0, \"most_at_work\": 85.0, \"lang_known\": 15750.0, \"mother_tongue_percent\": 0.03592995485172166, \"most_at_home_percent\": 0.0024323128581331763}, {\"category\": \"Aboriginal languages\", \"language\": \"Dene\", \"mother_tongue\": 10700.0, \"most_at_home\": 7710.0, \"most_at_work\": 770.0, \"lang_known\": 13060.0, \"mother_tongue_percent\": 0.030439470856169572, \"most_at_home_percent\": 0.021933487878604434}, {\"category\": \"Non-Official & Non-Aboriginal languages\", \"language\": \"Dinka\", \"mother_tongue\": 2120.0, \"most_at_home\": 1130.0, \"most_at_work\": 0.0, \"lang_known\": 2475.0, \"mother_tongue_percent\": 0.006030997964026122, \"most_at_home_percent\": 0.0032146357072403383}, {\"category\": \"Aboriginal languages\", \"language\": \"Dogrib (Tlicho)\", \"mother_tongue\": 1650.0, \"most_at_home\": 1020.0, \"most_at_work\": 165.0, \"lang_known\": 2375.0, \"mother_tongue_percent\": 0.004693937094642972, \"most_at_home_percent\": 0.0029017065675974734}, {\"category\": \"Non-Official & Non-Aboriginal languages\", \"language\": \"Dravidian languages, n.i.e.\", \"mother_tongue\": 490.0, \"most_at_home\": 190.0, \"most_at_work\": 0.0, \"lang_known\": 790.0, \"mother_tongue_percent\": 0.0013939570765909431, \"most_at_home_percent\": 0.0005405139684740392}, {\"category\": \"Non-Official & Non-Aboriginal languages\", \"language\": \"Dutch\", \"mother_tongue\": 99015.0, \"most_at_home\": 9565.0, \"most_at_work\": 1165.0, \"lang_known\": 120870.0, \"mother_tongue_percent\": 0.28167889783398414, \"most_at_home_percent\": 0.02721061109712729}, {\"category\": \"Non-Official & Non-Aboriginal languages\", \"language\": \"Edo\", \"mother_tongue\": 1670.0, \"most_at_home\": 410.0, \"most_at_work\": 0.0, \"lang_known\": 3220.0, \"mother_tongue_percent\": 0.004750833301850765, \"most_at_home_percent\": 0.0011663722477597688}, {\"category\": \"Official languages\", \"language\": \"English\", \"mother_tongue\": 19460850.0, \"most_at_home\": 22162865.0, \"most_at_work\": 15265335.0, \"lang_known\": 29748265.0, \"mother_tongue_percent\": 55.3624277019895, \"most_at_home_percent\": 63.04914796791782}, {\"category\": \"Non-Official & Non-Aboriginal languages\", \"language\": \"Estonian\", \"mother_tongue\": 5445.0, \"most_at_home\": 975.0, \"most_at_work\": 55.0, \"lang_known\": 6070.0, \"mother_tongue_percent\": 0.015489992412321806, \"most_at_home_percent\": 0.002773690101379938}, {\"category\": \"Non-Official & Non-Aboriginal languages\", \"language\": \"Ewe\", \"mother_tongue\": 1760.0, \"most_at_home\": 405.0, \"most_at_work\": 10.0, \"lang_known\": 3000.0, \"mother_tongue_percent\": 0.005006866234285837, \"most_at_home_percent\": 0.0011521481959578205}, {\"category\": \"Non-Official & Non-Aboriginal languages\", \"language\": \"Fijian\", \"mother_tongue\": 745.0, \"most_at_home\": 195.0, \"most_at_work\": 0.0, \"lang_known\": 1665.0, \"mother_tongue_percent\": 0.002119383718490312, \"most_at_home_percent\": 0.0005547380202759875}, {\"category\": \"Non-Official & Non-Aboriginal languages\", \"language\": \"Finnish\", \"mother_tongue\": 15295.0, \"most_at_home\": 2790.0, \"most_at_work\": 105.0, \"lang_known\": 17590.0, \"mother_tongue_percent\": 0.04351137446216015, \"most_at_home_percent\": 0.007937020905487207}, {\"category\": \"Official languages\", \"language\": \"French\", \"mother_tongue\": 7166700.0, \"most_at_home\": 6943800.0, \"most_at_work\": 3825215.0, \"lang_known\": 10242945.0, \"mother_tongue_percent\": 20.387902409804717, \"most_at_home_percent\": 19.753794180473857}, {\"category\": \"Non-Official & Non-Aboriginal languages\", \"language\": \"Frisian\", \"mother_tongue\": 2100.0, \"most_at_home\": 185.0, \"most_at_work\": 40.0, \"lang_known\": 2910.0, \"mother_tongue_percent\": 0.005974101756818328, \"most_at_home_percent\": 0.0005262899166720908}, {\"category\": \"Non-Official & Non-Aboriginal languages\", \"language\": \"Fulah (Pular, Pulaar, Fulfulde)\", \"mother_tongue\": 2825.0, \"most_at_home\": 825.0, \"most_at_work\": 0.0, \"lang_known\": 4725.0, \"mother_tongue_percent\": 0.008036589268100846, \"most_at_home_percent\": 0.002346968547321486}, {\"category\": \"Non-Official & Non-Aboriginal languages\", \"language\": \"Ga\", \"mother_tongue\": 920.0, \"most_at_home\": 250.0, \"most_at_work\": 0.0, \"lang_known\": 2250.0, \"mother_tongue_percent\": 0.0026172255315585055, \"most_at_home_percent\": 0.00071120259009742}, {\"category\": \"Non-Official & Non-Aboriginal languages\", \"language\": \"Ganda\", \"mother_tongue\": 1295.0, \"most_at_home\": 345.0, \"most_at_work\": 25.0, \"lang_known\": 2495.0, \"mother_tongue_percent\": 0.0036840294167046353, \"most_at_home_percent\": 0.0009814595743344394}, {\"category\": \"Non-Official & Non-Aboriginal languages\", \"language\": \"Georgian\", \"mother_tongue\": 1710.0, \"most_at_home\": 1040.0, \"most_at_work\": 25.0, \"lang_known\": 2150.0, \"mother_tongue_percent\": 0.004864625716266353, \"most_at_home_percent\": 0.002958602774805267}, {\"category\": \"Non-Official & Non-Aboriginal languages\", \"language\": \"German\", \"mother_tongue\": 384040.0, \"most_at_home\": 120335.0, \"most_at_work\": 10065.0, \"lang_known\": 502735.0, \"mother_tongue_percent\": 1.0925209708040526, \"most_at_home_percent\": 0.3423302547174921}, {\"category\": \"Non-Official & Non-Aboriginal languages\", \"language\": \"Germanic languages, n.i.e.\", \"mother_tongue\": 525.0, \"most_at_home\": 1630.0, \"most_at_work\": 725.0, \"lang_known\": 8705.0, \"mother_tongue_percent\": 0.001493525439204582, \"most_at_home_percent\": 0.004637040887435178}, {\"category\": \"Aboriginal languages\", \"language\": \"Gitxsan (Gitksan)\", \"mother_tongue\": 880.0, \"most_at_home\": 315.0, \"most_at_work\": 10.0, \"lang_known\": 1305.0, \"mother_tongue_percent\": 0.0025034331171429184, \"most_at_home_percent\": 0.0008961152635227491}, {\"category\": \"Non-Official & Non-Aboriginal languages\", \"language\": \"Greek\", \"mother_tongue\": 106525.0, \"most_at_home\": 44550.0, \"most_at_work\": 1020.0, \"lang_known\": 150965.0, \"mother_tongue_percent\": 0.3030434236405106, \"most_at_home_percent\": 0.12673630155536023}, {\"category\": \"Non-Official & Non-Aboriginal languages\", \"language\": \"Gujarati\", \"mother_tongue\": 108780.0, \"most_at_home\": 64150.0, \"most_at_work\": 885.0, \"lang_known\": 149045.0, \"mother_tongue_percent\": 0.30945847100318935, \"most_at_home_percent\": 0.18249458461899795}, {\"category\": \"Aboriginal languages\", \"language\": \"Gwich'in\", \"mother_tongue\": 255.0, \"most_at_home\": 50.0, \"most_at_work\": 10.0, \"lang_known\": 360.0, \"mother_tongue_percent\": 0.0007254266418993683, \"most_at_home_percent\": 0.000142240518019484}, {\"category\": \"Aboriginal languages\", \"language\": \"Haida\", \"mother_tongue\": 80.0, \"most_at_home\": 10.0, \"most_at_work\": 0.0, \"lang_known\": 465.0, \"mother_tongue_percent\": 0.0002275848288311744, \"most_at_home_percent\": 2.84481036038968e-05}, {\"category\": \"Aboriginal languages\", \"language\": \"Haisla\", \"mother_tongue\": 90.0, \"most_at_home\": 20.0, \"most_at_work\": 0.0, \"lang_known\": 175.0, \"mother_tongue_percent\": 0.00025603293243507116, \"most_at_home_percent\": 5.68962072077936e-05}, {\"category\": \"Non-Official & Non-Aboriginal languages\", \"language\": \"Haitian Creole\", \"mother_tongue\": 3030.0, \"most_at_home\": 1280.0, \"most_at_work\": 25.0, \"lang_known\": 6855.0, \"mother_tongue_percent\": 0.008619775391980729, \"most_at_home_percent\": 0.0036413572612987903}, {\"category\": \"Non-Official & Non-Aboriginal languages\", \"language\": \"Hakka\", \"mother_tongue\": 10910.0, \"most_at_home\": 4085.0, \"most_at_work\": 70.0, \"lang_known\": 12445.0, \"mother_tongue_percent\": 0.031036881031851406, \"most_at_home_percent\": 0.011621050322191843}, {\"category\": \"Aboriginal languages\", \"language\": \"Halkomelem\", \"mother_tongue\": 480.0, \"most_at_home\": 50.0, \"most_at_work\": 20.0, \"lang_known\": 1060.0, \"mother_tongue_percent\": 0.0013655089729870463, \"most_at_home_percent\": 0.000142240518019484}, {\"category\": \"Non-Official & Non-Aboriginal languages\", \"language\": \"Harari\", \"mother_tongue\": 1320.0, \"most_at_home\": 735.0, \"most_at_work\": 0.0, \"lang_known\": 1715.0, \"mother_tongue_percent\": 0.0037551496757143774, \"most_at_home_percent\": 0.0020909356148864147}, {\"category\": \"Non-Official & Non-Aboriginal languages\", \"language\": \"Hebrew\", \"mother_tongue\": 19530.0, \"most_at_home\": 8560.0, \"most_at_work\": 825.0, \"lang_known\": 75020.0, \"mother_tongue_percent\": 0.05555914633841044, \"most_at_home_percent\": 0.02435157668493566}, {\"category\": \"Aboriginal languages\", \"language\": \"Heiltsuk\", \"mother_tongue\": 100.0, \"most_at_home\": 5.0, \"most_at_work\": 10.0, \"lang_known\": 125.0, \"mother_tongue_percent\": 0.000284481036038968, \"most_at_home_percent\": 1.42240518019484e-05}, {\"category\": \"Non-Official & Non-Aboriginal languages\", \"language\": \"Hiligaynon\", \"mother_tongue\": 6880.0, \"most_at_home\": 2210.0, \"most_at_work\": 25.0, \"lang_known\": 7925.0, \"mother_tongue_percent\": 0.019572295279480997, \"most_at_home_percent\": 0.0062870308964611925}, {\"category\": \"Non-Official & Non-Aboriginal languages\", \"language\": \"Hindi\", \"mother_tongue\": 110645.0, \"most_at_home\": 55510.0, \"most_at_work\": 1405.0, \"lang_known\": 433365.0, \"mother_tongue_percent\": 0.31476404232531613, \"most_at_home_percent\": 0.15791542310523113}, {\"category\": \"Non-Official & Non-Aboriginal languages\", \"language\": \"Hmong-Mien languages\", \"mother_tongue\": 795.0, \"most_at_home\": 335.0, \"most_at_work\": 10.0, \"lang_known\": 870.0, \"mother_tongue_percent\": 0.0022616242365097955, \"most_at_home_percent\": 0.0009530114707305427}, {\"category\": \"Non-Official & Non-Aboriginal languages\", \"language\": \"Hungarian\", \"mother_tongue\": 61235.0, \"most_at_home\": 19480.0, \"most_at_work\": 440.0, \"lang_known\": 71285.0, \"mother_tongue_percent\": 0.17420196241846206, \"most_at_home_percent\": 0.055416905820390966}, {\"category\": \"Non-Official & Non-Aboriginal languages\", \"language\": \"Icelandic\", \"mother_tongue\": 1285.0, \"most_at_home\": 270.0, \"most_at_work\": 0.0, \"lang_known\": 1780.0, \"mother_tongue_percent\": 0.0036555813131007382, \"most_at_home_percent\": 0.0007680987973052135}, {\"category\": \"Non-Official & Non-Aboriginal languages\", \"language\": \"Igbo\", \"mother_tongue\": 4235.0, \"most_at_home\": 1000.0, \"most_at_work\": 10.0, \"lang_known\": 8855.0, \"mother_tongue_percent\": 0.012047771876250295, \"most_at_home_percent\": 0.00284481036038968}, {\"category\": \"Non-Official & Non-Aboriginal languages\", \"language\": \"Ilocano\", \"mother_tongue\": 26345.0, \"most_at_home\": 9125.0, \"most_at_work\": 110.0, \"lang_known\": 34530.0, \"mother_tongue_percent\": 0.07494652894446611, \"most_at_home_percent\": 0.025958894538555828}, {\"category\": \"Non-Official & Non-Aboriginal languages\", \"language\": \"Indo-Iranian languages, n.i.e.\", \"mother_tongue\": 5185.0, \"most_at_home\": 2380.0, \"most_at_work\": 20.0, \"lang_known\": 8870.0, \"mother_tongue_percent\": 0.014750341718620491, \"most_at_home_percent\": 0.006770648657727438}, {\"category\": \"Aboriginal languages\", \"language\": \"Inuinnaqtun (Inuvialuktun)\", \"mother_tongue\": 1020.0, \"most_at_home\": 165.0, \"most_at_work\": 30.0, \"lang_known\": 1975.0, \"mother_tongue_percent\": 0.0029017065675974734, \"most_at_home_percent\": 0.0004693937094642972}, {\"category\": \"Aboriginal languages\", \"language\": \"Inuit languages, n.i.e.\", \"mother_tongue\": 310.0, \"most_at_home\": 90.0, \"most_at_work\": 15.0, \"lang_known\": 470.0, \"mother_tongue_percent\": 0.0008818912117208007, \"most_at_home_percent\": 0.00025603293243507116}, {\"category\": \"Aboriginal languages\", \"language\": \"Inuktitut\", \"mother_tongue\": 35210.0, \"most_at_home\": 29230.0, \"most_at_work\": 8795.0, \"lang_known\": 40620.0, \"mother_tongue_percent\": 0.10016577278932062, \"most_at_home_percent\": 0.08315380683419035}, {\"category\": \"Aboriginal languages\", \"language\": \"Iroquoian languages, n.i.e.\", \"mother_tongue\": 35.0, \"most_at_home\": 5.0, \"most_at_work\": 0.0, \"lang_known\": 115.0, \"mother_tongue_percent\": 9.956836261363879e-05, \"most_at_home_percent\": 1.42240518019484e-05}, {\"category\": \"Non-Official & Non-Aboriginal languages\", \"language\": \"Italian\", \"mother_tongue\": 375635.0, \"most_at_home\": 115415.0, \"most_at_work\": 1705.0, \"lang_known\": 574725.0, \"mother_tongue_percent\": 1.0686103397249773, \"most_at_home_percent\": 0.3283337877443749}, {\"category\": \"Non-Official & Non-Aboriginal languages\", \"language\": \"Italic (Romance) languages, n.i.e.\", \"mother_tongue\": 720.0, \"most_at_home\": 175.0, \"most_at_work\": 25.0, \"lang_known\": 2680.0, \"mother_tongue_percent\": 0.0020482634594805693, \"most_at_home_percent\": 0.0004978418130681939}, {\"category\": \"Non-Official & Non-Aboriginal languages\", \"language\": \"Japanese\", \"mother_tongue\": 43640.0, \"most_at_home\": 19785.0, \"most_at_work\": 3255.0, \"lang_known\": 83095.0, \"mother_tongue_percent\": 0.12414752412740562, \"most_at_home_percent\": 0.05628457298030981}, {\"category\": \"Non-Official & Non-Aboriginal languages\", \"language\": \"Kabyle\", \"mother_tongue\": 13150.0, \"most_at_home\": 5490.0, \"most_at_work\": 15.0, \"lang_known\": 17120.0, \"mother_tongue_percent\": 0.03740925623912429, \"most_at_home_percent\": 0.015618008878539341}, {\"category\": \"Non-Official & Non-Aboriginal languages\", \"language\": \"Kannada\", \"mother_tongue\": 3970.0, \"most_at_home\": 1630.0, \"most_at_work\": 10.0, \"lang_known\": 8245.0, \"mother_tongue_percent\": 0.01129389713074703, \"most_at_home_percent\": 0.004637040887435178}, {\"category\": \"Non-Official & Non-Aboriginal languages\", \"language\": \"Karenic languages\", \"mother_tongue\": 4705.0, \"most_at_home\": 3860.0, \"most_at_work\": 135.0, \"lang_known\": 4895.0, \"mother_tongue_percent\": 0.013384832745633443, \"most_at_home_percent\": 0.010980967991104165}, {\"category\": \"Non-Official & Non-Aboriginal languages\", \"language\": \"Kashmiri\", \"mother_tongue\": 565.0, \"most_at_home\": 135.0, \"most_at_work\": 0.0, \"lang_known\": 905.0, \"mother_tongue_percent\": 0.0016073178536201692, \"most_at_home_percent\": 0.00038404939865260677}, {\"category\": \"Aboriginal languages\", \"language\": \"Kaska (Nahani)\", \"mother_tongue\": 180.0, \"most_at_home\": 20.0, \"most_at_work\": 10.0, \"lang_known\": 365.0, \"mother_tongue_percent\": 0.0005120658648701423, \"most_at_home_percent\": 5.68962072077936e-05}, {\"category\": \"Non-Official & Non-Aboriginal languages\", \"language\": \"Khmer (Cambodian)\", \"mother_tongue\": 20130.0, \"most_at_home\": 10885.0, \"most_at_work\": 475.0, \"lang_known\": 27035.0, \"mother_tongue_percent\": 0.057266032554644256, \"most_at_home_percent\": 0.030965760772841664}, {\"category\": \"Non-Official & Non-Aboriginal languages\", \"language\": \"Kinyarwanda (Rwanda)\", \"mother_tongue\": 5250.0, \"most_at_home\": 1530.0, \"most_at_work\": 25.0, \"lang_known\": 7860.0, \"mother_tongue_percent\": 0.014935254392045818, \"most_at_home_percent\": 0.00435255985139621}, {\"category\": \"Non-Official & Non-Aboriginal languages\", \"language\": \"Konkani\", \"mother_tongue\": 3330.0, \"most_at_home\": 720.0, \"most_at_work\": 10.0, \"lang_known\": 6790.0, \"mother_tongue_percent\": 0.009473218500097634, \"most_at_home_percent\": 0.0020482634594805693}, {\"category\": \"Non-Official & Non-Aboriginal languages\", \"language\": \"Korean\", \"mother_tongue\": 153425.0, \"most_at_home\": 109705.0, \"most_at_work\": 12150.0, \"lang_known\": 172750.0, \"mother_tongue_percent\": 0.43646502954278665, \"most_at_home_percent\": 0.31208992058654983}, {\"category\": \"Non-Official & Non-Aboriginal languages\", \"language\": \"Kurdish\", \"mother_tongue\": 11705.0, \"most_at_home\": 6580.0, \"most_at_work\": 185.0, \"lang_known\": 15290.0, \"mother_tongue_percent\": 0.0332985052683612, \"most_at_home_percent\": 0.018718852171364094}, {\"category\": \"Aboriginal languages\", \"language\": \"Kutenai\", \"mother_tongue\": 110.0, \"most_at_home\": 10.0, \"most_at_work\": 0.0, \"lang_known\": 170.0, \"mother_tongue_percent\": 0.0003129291396428648, \"most_at_home_percent\": 2.84481036038968e-05}, {\"category\": \"Aboriginal languages\", \"language\": \"Kwakiutl (Kwak'wala)\", \"mother_tongue\": 325.0, \"most_at_home\": 25.0, \"most_at_work\": 15.0, \"lang_known\": 605.0, \"mother_tongue_percent\": 0.0009245633671266459, \"most_at_home_percent\": 7.1120259009742e-05}, {\"category\": \"Non-Official & Non-Aboriginal languages\", \"language\": \"Lao\", \"mother_tongue\": 12670.0, \"most_at_home\": 6175.0, \"most_at_work\": 150.0, \"lang_known\": 17235.0, \"mother_tongue_percent\": 0.036043747266137245, \"most_at_home_percent\": 0.017566703975406273}, {\"category\": \"Non-Official & Non-Aboriginal languages\", \"language\": \"Latvian\", \"mother_tongue\": 5450.0, \"most_at_home\": 1255.0, \"most_at_work\": 35.0, \"lang_known\": 6500.0, \"mother_tongue_percent\": 0.015504216464123756, \"most_at_home_percent\": 0.003570237002289048}, {\"category\": \"Aboriginal languages\", \"language\": \"Lillooet\", \"mother_tongue\": 315.0, \"most_at_home\": 25.0, \"most_at_work\": 15.0, \"lang_known\": 790.0, \"mother_tongue_percent\": 0.0008961152635227491, \"most_at_home_percent\": 7.1120259009742e-05}, {\"category\": \"Non-Official & Non-Aboriginal languages\", \"language\": \"Lingala\", \"mother_tongue\": 3805.0, \"most_at_home\": 1045.0, \"most_at_work\": 10.0, \"lang_known\": 17010.0, \"mother_tongue_percent\": 0.010824503421282732, \"most_at_home_percent\": 0.0029728268266072154}, {\"category\": \"Non-Official & Non-Aboriginal languages\", \"language\": \"Lithuanian\", \"mother_tongue\": 7075.0, \"most_at_home\": 2015.0, \"most_at_work\": 60.0, \"lang_known\": 8185.0, \"mother_tongue_percent\": 0.020127033299756986, \"most_at_home_percent\": 0.005732292876185205}, {\"category\": \"Non-Official & Non-Aboriginal languages\", \"language\": \"Macedonian\", \"mother_tongue\": 16770.0, \"most_at_home\": 6830.0, \"most_at_work\": 95.0, \"lang_known\": 23075.0, \"mother_tongue_percent\": 0.04770746974373493, \"most_at_home_percent\": 0.019430054761461514}, {\"category\": \"Non-Official & Non-Aboriginal languages\", \"language\": \"Malagasy\", \"mother_tongue\": 1430.0, \"most_at_home\": 430.0, \"most_at_work\": 0.0, \"lang_known\": 2340.0, \"mother_tongue_percent\": 0.004068078815357242, \"most_at_home_percent\": 0.0012232684549675623}, {\"category\": \"Non-Official & Non-Aboriginal languages\", \"language\": \"Malay\", \"mother_tongue\": 12275.0, \"most_at_home\": 3625.0, \"most_at_work\": 140.0, \"lang_known\": 22470.0, \"mother_tongue_percent\": 0.03492004717378332, \"most_at_home_percent\": 0.01031243755641259}, {\"category\": \"Non-Official & Non-Aboriginal languages\", \"language\": \"Malayalam\", \"mother_tongue\": 28565.0, \"most_at_home\": 15440.0, \"most_at_work\": 95.0, \"lang_known\": 37810.0, \"mother_tongue_percent\": 0.08126200794453121, \"most_at_home_percent\": 0.04392387196441666}, {\"category\": \"Aboriginal languages\", \"language\": \"Malecite\", \"mother_tongue\": 300.0, \"most_at_home\": 55.0, \"most_at_work\": 10.0, \"lang_known\": 760.0, \"mother_tongue_percent\": 0.0008534431081169041, \"most_at_home_percent\": 0.0001564645698214324}, {\"category\": \"Non-Official & Non-Aboriginal languages\", \"language\": \"Maltese\", \"mother_tongue\": 5565.0, \"most_at_home\": 1125.0, \"most_at_work\": 25.0, \"lang_known\": 7625.0, \"mother_tongue_percent\": 0.015831369655568566, \"most_at_home_percent\": 0.0032004116554383896}, {\"category\": \"Non-Official & Non-Aboriginal languages\", \"language\": \"Mandarin\", \"mother_tongue\": 592040.0, \"most_at_home\": 462890.0, \"most_at_work\": 60090.0, \"lang_known\": 814450.0, \"mother_tongue_percent\": 1.684241525765106, \"most_at_home_percent\": 1.316834267720779}, {\"category\": \"Non-Official & Non-Aboriginal languages\", \"language\": \"Marathi\", \"mother_tongue\": 8295.0, \"most_at_home\": 3780.0, \"most_at_work\": 30.0, \"lang_known\": 15565.0, \"mother_tongue_percent\": 0.023597701939432395, \"most_at_home_percent\": 0.01075338316227299}, {\"category\": \"Aboriginal languages\", \"language\": \"Mi'kmaq\", \"mother_tongue\": 6690.0, \"most_at_home\": 3565.0, \"most_at_work\": 915.0, \"lang_known\": 9025.0, \"mother_tongue_percent\": 0.019031781311006957, \"most_at_home_percent\": 0.010141748934789209}, {\"category\": \"Aboriginal languages\", \"language\": \"Michif\", \"mother_tongue\": 465.0, \"most_at_home\": 80.0, \"most_at_work\": 10.0, \"lang_known\": 1210.0, \"mother_tongue_percent\": 0.001322836817581201, \"most_at_home_percent\": 0.0002275848288311744}, {\"category\": \"Non-Official & Non-Aboriginal languages\", \"language\": \"Min Dong\", \"mother_tongue\": 1230.0, \"most_at_home\": 345.0, \"most_at_work\": 30.0, \"lang_known\": 1045.0, \"mother_tongue_percent\": 0.0034991167432793066, \"most_at_home_percent\": 0.0009814595743344394}, {\"category\": \"Non-Official & Non-Aboriginal languages\", \"language\": \"Min Nan (Chaochow, Teochow, Fukien, Taiwanese)\", \"mother_tongue\": 31800.0, \"most_at_home\": 13965.0, \"most_at_work\": 565.0, \"lang_known\": 42840.0, \"mother_tongue_percent\": 0.09046496946039181, \"most_at_home_percent\": 0.03972777668284188}, {\"category\": \"Aboriginal languages\", \"language\": \"Mohawk\", \"mother_tongue\": 985.0, \"most_at_home\": 255.0, \"most_at_work\": 30.0, \"lang_known\": 2415.0, \"mother_tongue_percent\": 0.0028021382049838346, \"most_at_home_percent\": 0.0007254266418993683}, {\"category\": \"Non-Official & Non-Aboriginal languages\", \"language\": \"Mongolian\", \"mother_tongue\": 1575.0, \"most_at_home\": 905.0, \"most_at_work\": 10.0, \"lang_known\": 2095.0, \"mother_tongue_percent\": 0.004480576317613745, \"most_at_home_percent\": 0.0025745533761526605}, {\"category\": \"Aboriginal languages\", \"language\": \"Montagnais (Innu)\", \"mother_tongue\": 10235.0, \"most_at_home\": 8585.0, \"most_at_work\": 2055.0, \"lang_known\": 11445.0, \"mother_tongue_percent\": 0.029116634038588374, \"most_at_home_percent\": 0.0244226969439454}, {\"category\": \"Aboriginal languages\", \"language\": \"Moose Cree\", \"mother_tongue\": 105.0, \"most_at_home\": 10.0, \"most_at_work\": 0.0, \"lang_known\": 195.0, \"mother_tongue_percent\": 0.0002987050878409164, \"most_at_home_percent\": 2.84481036038968e-05}, {\"category\": \"Aboriginal languages\", \"language\": \"Naskapi\", \"mother_tongue\": 1205.0, \"most_at_home\": 1195.0, \"most_at_work\": 370.0, \"lang_known\": 1465.0, \"mother_tongue_percent\": 0.003427996484269564, \"most_at_home_percent\": 0.003399548380665667}, {\"category\": \"Non-Official & Non-Aboriginal languages\", \"language\": \"Nepali\", \"mother_tongue\": 18275.0, \"most_at_home\": 13375.0, \"most_at_work\": 195.0, \"lang_known\": 21385.0, \"mother_tongue_percent\": 0.0519889093361214, \"most_at_home_percent\": 0.03804933857021197}, {\"category\": \"Non-Official & Non-Aboriginal languages\", \"language\": \"Niger-Congo languages, n.i.e.\", \"mother_tongue\": 19135.0, \"most_at_home\": 4010.0, \"most_at_work\": 30.0, \"lang_known\": 40760.0, \"mother_tongue_percent\": 0.05443544624605652, \"most_at_home_percent\": 0.011407689545162617}, {\"category\": \"Non-Official & Non-Aboriginal languages\", \"language\": \"Nilo-Saharan languages, n.i.e.\", \"mother_tongue\": 3750.0, \"most_at_home\": 1520.0, \"most_at_work\": 0.0, \"lang_known\": 4550.0, \"mother_tongue_percent\": 0.010668038851461299, \"most_at_home_percent\": 0.004324111747792314}, {\"category\": \"Aboriginal languages\", \"language\": \"Nisga'a\", \"mother_tongue\": 400.0, \"most_at_home\": 75.0, \"most_at_work\": 10.0, \"lang_known\": 1055.0, \"mother_tongue_percent\": 0.001137924144155872, \"most_at_home_percent\": 0.00021336077702922601}, {\"category\": \"Aboriginal languages\", \"language\": \"North Slavey (Hare)\", \"mother_tongue\": 765.0, \"most_at_home\": 340.0, \"most_at_work\": 95.0, \"lang_known\": 1005.0, \"mother_tongue_percent\": 0.002176279925698105, \"most_at_home_percent\": 0.0009672355225324912}, {\"category\": \"Aboriginal languages\", \"language\": \"Northern East Cree\", \"mother_tongue\": 315.0, \"most_at_home\": 110.0, \"most_at_work\": 35.0, \"lang_known\": 550.0, \"mother_tongue_percent\": 0.0008961152635227491, \"most_at_home_percent\": 0.0003129291396428648}, {\"category\": \"Aboriginal languages\", \"language\": \"Northern Tutchone\", \"mother_tongue\": 220.0, \"most_at_home\": 30.0, \"most_at_work\": 0.0, \"lang_known\": 280.0, \"mother_tongue_percent\": 0.0006258582792857296, \"most_at_home_percent\": 8.534431081169039e-05}, {\"category\": \"Non-Official & Non-Aboriginal languages\", \"language\": \"Norwegian\", \"mother_tongue\": 4615.0, \"most_at_home\": 350.0, \"most_at_work\": 70.0, \"lang_known\": 8120.0, \"mother_tongue_percent\": 0.013128799813198373, \"most_at_home_percent\": 0.0009956836261363878}, {\"category\": \"Aboriginal languages\", \"language\": \"Nuu-chah-nulth (Nootka)\", \"mother_tongue\": 280.0, \"most_at_home\": 30.0, \"most_at_work\": 10.0, \"lang_known\": 560.0, \"mother_tongue_percent\": 0.0007965469009091103, \"most_at_home_percent\": 8.534431081169039e-05}, {\"category\": \"Aboriginal languages\", \"language\": \"Oji-Cree\", \"mother_tongue\": 12855.0, \"most_at_home\": 7905.0, \"most_at_work\": 1080.0, \"lang_known\": 15605.0, \"mother_tongue_percent\": 0.03657003718280933, \"most_at_home_percent\": 0.022488225898880422}, {\"category\": \"Aboriginal languages\", \"language\": \"Ojibway\", \"mother_tongue\": 17885.0, \"most_at_home\": 6175.0, \"most_at_work\": 765.0, \"lang_known\": 28580.0, \"mother_tongue_percent\": 0.05087943329556943, \"most_at_home_percent\": 0.017566703975406273}, {\"category\": \"Aboriginal languages\", \"language\": \"Okanagan\", \"mother_tongue\": 275.0, \"most_at_home\": 80.0, \"most_at_work\": 20.0, \"lang_known\": 820.0, \"mother_tongue_percent\": 0.000782322849107162, \"most_at_home_percent\": 0.0002275848288311744}, {\"category\": \"Aboriginal languages\", \"language\": \"Oneida\", \"mother_tongue\": 60.0, \"most_at_home\": 15.0, \"most_at_work\": 0.0, \"lang_known\": 185.0, \"mother_tongue_percent\": 0.00017068862162338078, \"most_at_home_percent\": 4.2672155405845196e-05}, {\"category\": \"Non-Official & Non-Aboriginal languages\", \"language\": \"Oriya (Odia)\", \"mother_tongue\": 1055.0, \"most_at_home\": 475.0, \"most_at_work\": 0.0, \"lang_known\": 1530.0, \"mother_tongue_percent\": 0.003001274930211112, \"most_at_home_percent\": 0.001351284921185098}, {\"category\": \"Non-Official & Non-Aboriginal languages\", \"language\": \"Oromo\", \"mother_tongue\": 4960.0, \"most_at_home\": 3410.0, \"most_at_work\": 45.0, \"lang_known\": 6245.0, \"mother_tongue_percent\": 0.014110259387532811, \"most_at_home_percent\": 0.009700803328928807}, {\"category\": \"Non-Official & Non-Aboriginal languages\", \"language\": \"Other languages, n.i.e.\", \"mother_tongue\": 3685.0, \"most_at_home\": 1110.0, \"most_at_work\": 80.0, \"lang_known\": 9730.0, \"mother_tongue_percent\": 0.01048312617803597, \"most_at_home_percent\": 0.0031577395000325446}, {\"category\": \"Aboriginal languages\", \"language\": \"Ottawa (Odawa)\", \"mother_tongue\": 150.0, \"most_at_home\": 75.0, \"most_at_work\": 0.0, \"lang_known\": 205.0, \"mother_tongue_percent\": 0.00042672155405845203, \"most_at_home_percent\": 0.00021336077702922601}, {\"category\": \"Non-Official & Non-Aboriginal languages\", \"language\": \"Pampangan (Kapampangan, Pampango)\", \"mother_tongue\": 4045.0, \"most_at_home\": 1200.0, \"most_at_work\": 10.0, \"lang_known\": 5425.0, \"mother_tongue_percent\": 0.011507257907776255, \"most_at_home_percent\": 0.0034137724324676162}, {\"category\": \"Non-Official & Non-Aboriginal languages\", \"language\": \"Pangasinan\", \"mother_tongue\": 1390.0, \"most_at_home\": 240.0, \"most_at_work\": 0.0, \"lang_known\": 1800.0, \"mother_tongue_percent\": 0.003954286400941655, \"most_at_home_percent\": 0.0006827544864935231}, {\"category\": \"Non-Official & Non-Aboriginal languages\", \"language\": \"Pashto\", \"mother_tongue\": 16905.0, \"most_at_home\": 10590.0, \"most_at_work\": 50.0, \"lang_known\": 23180.0, \"mother_tongue_percent\": 0.04809151914238754, \"most_at_home_percent\": 0.030126541716526713}, {\"category\": \"Non-Official & Non-Aboriginal languages\", \"language\": \"Persian (Farsi)\", \"mother_tongue\": 214200.0, \"most_at_home\": 143025.0, \"most_at_work\": 4580.0, \"lang_known\": 252325.0, \"mother_tongue_percent\": 0.6093583791954694, \"most_at_home_percent\": 0.40687900179473396}, {\"category\": \"Aboriginal languages\", \"language\": \"Plains Cree\", \"mother_tongue\": 3065.0, \"most_at_home\": 1345.0, \"most_at_work\": 95.0, \"lang_known\": 5905.0, \"mother_tongue_percent\": 0.008719343754594369, \"most_at_home_percent\": 0.0038262699347241195}, {\"category\": \"Non-Official & Non-Aboriginal languages\", \"language\": \"Polish\", \"mother_tongue\": 181710.0, \"most_at_home\": 74780.0, \"most_at_work\": 2495.0, \"lang_known\": 214965.0, \"mother_tongue_percent\": 0.5169304905864087, \"most_at_home_percent\": 0.21273491874994024}, {\"category\": \"Non-Official & Non-Aboriginal languages\", \"language\": \"Portuguese\", \"mother_tongue\": 221535.0, \"most_at_home\": 98710.0, \"most_at_work\": 7485.0, \"lang_known\": 295955.0, \"mother_tongue_percent\": 0.6302250631889278, \"most_at_home_percent\": 0.2808112306740653}, {\"category\": \"Non-Official & Non-Aboriginal languages\", \"language\": \"Punjabi (Panjabi)\", \"mother_tongue\": 501680.0, \"most_at_home\": 349140.0, \"most_at_work\": 27865.0, \"lang_known\": 668240.0, \"mother_tongue_percent\": 1.4271844616002944, \"most_at_home_percent\": 0.9932370892264529}, {\"category\": \"Non-Official & Non-Aboriginal languages\", \"language\": \"Quebec Sign Language\", \"mother_tongue\": 695.0, \"most_at_home\": 730.0, \"most_at_work\": 130.0, \"lang_known\": 4665.0, \"mother_tongue_percent\": 0.0019771432004708277, \"most_at_home_percent\": 0.0020767115630844664}, {\"category\": \"Non-Official & Non-Aboriginal languages\", \"language\": \"Romanian\", \"mother_tongue\": 96660.0, \"most_at_home\": 53325.0, \"most_at_work\": 745.0, \"lang_known\": 115050.0, \"mother_tongue_percent\": 0.27497936943526646, \"most_at_home_percent\": 0.15169951246777968}, {\"category\": \"Non-Official & Non-Aboriginal languages\", \"language\": \"Rundi (Kirundi)\", \"mother_tongue\": 5850.0, \"most_at_home\": 2110.0, \"most_at_work\": 0.0, \"lang_known\": 8590.0, \"mother_tongue_percent\": 0.016642140608279628, \"most_at_home_percent\": 0.006002549860422224}, {\"category\": \"Non-Official & Non-Aboriginal languages\", \"language\": \"Russian\", \"mother_tongue\": 188255.0, \"most_at_home\": 116595.0, \"most_at_work\": 4855.0, \"lang_known\": 269645.0, \"mother_tongue_percent\": 0.5355497743951592, \"most_at_home_percent\": 0.3316906639696347}, {\"category\": \"Aboriginal languages\", \"language\": \"Salish languages, n.i.e.\", \"mother_tongue\": 260.0, \"most_at_home\": 25.0, \"most_at_work\": 0.0, \"lang_known\": 560.0, \"mother_tongue_percent\": 0.0007396506937013168, \"most_at_home_percent\": 7.1120259009742e-05}, {\"category\": \"Aboriginal languages\", \"language\": \"Sarsi (Sarcee)\", \"mother_tongue\": 80.0, \"most_at_home\": 10.0, \"most_at_work\": 0.0, \"lang_known\": 145.0, \"mother_tongue_percent\": 0.0002275848288311744, \"most_at_home_percent\": 2.84481036038968e-05}, {\"category\": \"Non-Official & Non-Aboriginal languages\", \"language\": \"Scottish Gaelic\", \"mother_tongue\": 1090.0, \"most_at_home\": 190.0, \"most_at_work\": 15.0, \"lang_known\": 3980.0, \"mother_tongue_percent\": 0.003100843292824751, \"most_at_home_percent\": 0.0005405139684740392}, {\"category\": \"Aboriginal languages\", \"language\": \"Sekani\", \"mother_tongue\": 85.0, \"most_at_home\": 15.0, \"most_at_work\": 0.0, \"lang_known\": 185.0, \"mother_tongue_percent\": 0.0002418088806331228, \"most_at_home_percent\": 4.2672155405845196e-05}, {\"category\": \"Non-Official & Non-Aboriginal languages\", \"language\": \"Semitic languages, n.i.e.\", \"mother_tongue\": 2150.0, \"most_at_home\": 1205.0, \"most_at_work\": 65.0, \"lang_known\": 3220.0, \"mother_tongue_percent\": 0.006116342274837812, \"most_at_home_percent\": 0.003427996484269564}, {\"category\": \"Non-Official & Non-Aboriginal languages\", \"language\": \"Serbian\", \"mother_tongue\": 57350.0, \"most_at_home\": 31750.0, \"most_at_work\": 530.0, \"lang_known\": 73780.0, \"mother_tongue_percent\": 0.16314987416834814, \"most_at_home_percent\": 0.09032272894237234}, {\"category\": \"Non-Official & Non-Aboriginal languages\", \"language\": \"Serbo-Croatian\", \"mother_tongue\": 9550.0, \"most_at_home\": 3890.0, \"most_at_work\": 30.0, \"lang_known\": 11275.0, \"mother_tongue_percent\": 0.027167938941721443, \"most_at_home_percent\": 0.011066312301915855}, {\"category\": \"Non-Official & Non-Aboriginal languages\", \"language\": \"Shona\", \"mother_tongue\": 3185.0, \"most_at_home\": 1035.0, \"most_at_work\": 0.0, \"lang_known\": 5430.0, \"mother_tongue_percent\": 0.00906072099784113, \"most_at_home_percent\": 0.0029443787230033183}, {\"category\": \"Aboriginal languages\", \"language\": \"Shuswap (Secwepemctsin)\", \"mother_tongue\": 445.0, \"most_at_home\": 50.0, \"most_at_work\": 35.0, \"lang_known\": 1305.0, \"mother_tongue_percent\": 0.0012659406103734075, \"most_at_home_percent\": 0.000142240518019484}, {\"category\": \"Non-Official & Non-Aboriginal languages\", \"language\": \"Sign languages, n.i.e\", \"mother_tongue\": 4125.0, \"most_at_home\": 6690.0, \"most_at_work\": 645.0, \"lang_known\": 22280.0, \"mother_tongue_percent\": 0.01173484273660743, \"most_at_home_percent\": 0.019031781311006957}, {\"category\": \"Non-Official & Non-Aboriginal languages\", \"language\": \"Sindhi\", \"mother_tongue\": 11860.0, \"most_at_home\": 4975.0, \"most_at_work\": 35.0, \"lang_known\": 20260.0, \"mother_tongue_percent\": 0.0337394508742216, \"most_at_home_percent\": 0.014152931542938656}, {\"category\": \"Non-Official & Non-Aboriginal languages\", \"language\": \"Sinhala (Sinhalese)\", \"mother_tongue\": 16335.0, \"most_at_home\": 7790.0, \"most_at_work\": 40.0, \"lang_known\": 27825.0, \"mother_tongue_percent\": 0.046469977236965415, \"most_at_home_percent\": 0.022161072707435607}, {\"category\": \"Aboriginal languages\", \"language\": \"Siouan languages, n.i.e.\", \"mother_tongue\": 55.0, \"most_at_home\": 20.0, \"most_at_work\": 0.0, \"lang_known\": 140.0, \"mother_tongue_percent\": 0.0001564645698214324, \"most_at_home_percent\": 5.68962072077936e-05}, {\"category\": \"Aboriginal languages\", \"language\": \"Slavey, n.o.s.\", \"mother_tongue\": 280.0, \"most_at_home\": 105.0, \"most_at_work\": 10.0, \"lang_known\": 675.0, \"mother_tongue_percent\": 0.0007965469009091103, \"most_at_home_percent\": 0.0002987050878409164}, {\"category\": \"Non-Official & Non-Aboriginal languages\", \"language\": \"Slavic languages, n.i.e.\", \"mother_tongue\": 2420.0, \"most_at_home\": 670.0, \"most_at_work\": 10.0, \"lang_known\": 2995.0, \"mother_tongue_percent\": 0.006884441072143025, \"most_at_home_percent\": 0.0019060229414610854}, {\"category\": \"Non-Official & Non-Aboriginal languages\", \"language\": \"Slovak\", \"mother_tongue\": 17580.0, \"most_at_home\": 5610.0, \"most_at_work\": 100.0, \"lang_known\": 21470.0, \"mother_tongue_percent\": 0.05001176613565057, \"most_at_home_percent\": 0.015959386121786105}, {\"category\": \"Non-Official & Non-Aboriginal languages\", \"language\": \"Slovene (Slovenian)\", \"mother_tongue\": 9785.0, \"most_at_home\": 2055.0, \"most_at_work\": 15.0, \"lang_known\": 11490.0, \"mother_tongue_percent\": 0.027836469376413014, \"most_at_home_percent\": 0.005846085290600792}, {\"category\": \"Non-Official & Non-Aboriginal languages\", \"language\": \"Somali\", \"mother_tongue\": 36755.0, \"most_at_home\": 22895.0, \"most_at_work\": 220.0, \"lang_known\": 49660.0, \"mother_tongue_percent\": 0.10456100479612268, \"most_at_home_percent\": 0.06513193320112172}, {\"category\": \"Aboriginal languages\", \"language\": \"South Slavey\", \"mother_tongue\": 945.0, \"most_at_home\": 370.0, \"most_at_work\": 35.0, \"lang_known\": 1365.0, \"mother_tongue_percent\": 0.0026883457905682476, \"most_at_home_percent\": 0.0010525798333441815}, {\"category\": \"Aboriginal languages\", \"language\": \"Southern East Cree\", \"mother_tongue\": 45.0, \"most_at_home\": 15.0, \"most_at_work\": 0.0, \"lang_known\": 40.0, \"mother_tongue_percent\": 0.00012801646621753558, \"most_at_home_percent\": 4.2672155405845196e-05}, {\"category\": \"Aboriginal languages\", \"language\": \"Southern Tutchone\", \"mother_tongue\": 70.0, \"most_at_home\": 5.0, \"most_at_work\": 0.0, \"lang_known\": 145.0, \"mother_tongue_percent\": 0.00019913672522727758, \"most_at_home_percent\": 1.42240518019484e-05}, {\"category\": \"Non-Official & Non-Aboriginal languages\", \"language\": \"Spanish\", \"mother_tongue\": 458850.0, \"most_at_home\": 263505.0, \"most_at_work\": 13030.0, \"lang_known\": 995260.0, \"mother_tongue_percent\": 1.3053412338648045, \"most_at_home_percent\": 0.7496217540144826}, {\"category\": \"Aboriginal languages\", \"language\": \"Squamish\", \"mother_tongue\": 40.0, \"most_at_home\": 5.0, \"most_at_work\": 10.0, \"lang_known\": 285.0, \"mother_tongue_percent\": 0.0001137924144155872, \"most_at_home_percent\": 1.42240518019484e-05}, {\"category\": \"Aboriginal languages\", \"language\": \"Stoney\", \"mother_tongue\": 3025.0, \"most_at_home\": 1950.0, \"most_at_work\": 240.0, \"lang_known\": 3675.0, \"mother_tongue_percent\": 0.008605551340178782, \"most_at_home_percent\": 0.005547380202759876}, {\"category\": \"Aboriginal languages\", \"language\": \"Straits\", \"mother_tongue\": 80.0, \"most_at_home\": 25.0, \"most_at_work\": 15.0, \"lang_known\": 365.0, \"mother_tongue_percent\": 0.0002275848288311744, \"most_at_home_percent\": 7.1120259009742e-05}, {\"category\": \"Non-Official & Non-Aboriginal languages\", \"language\": \"Swahili\", \"mother_tongue\": 13370.0, \"most_at_home\": 5370.0, \"most_at_work\": 80.0, \"lang_known\": 38685.0, \"mother_tongue_percent\": 0.038035114518410025, \"most_at_home_percent\": 0.01527663163529258}, {\"category\": \"Aboriginal languages\", \"language\": \"Swampy Cree\", \"mother_tongue\": 1440.0, \"most_at_home\": 330.0, \"most_at_work\": 10.0, \"lang_known\": 2350.0, \"mother_tongue_percent\": 0.004096526918961139, \"most_at_home_percent\": 0.0009387874189285944}, {\"category\": \"Non-Official & Non-Aboriginal languages\", \"language\": \"Swedish\", \"mother_tongue\": 6840.0, \"most_at_home\": 1050.0, \"most_at_work\": 125.0, \"lang_known\": 14140.0, \"mother_tongue_percent\": 0.01945850286506541, \"most_at_home_percent\": 0.002987050878409164}, {\"category\": \"Non-Official & Non-Aboriginal languages\", \"language\": \"Tagalog (Pilipino, Filipino)\", \"mother_tongue\": 431385.0, \"most_at_home\": 213790.0, \"most_at_work\": 3450.0, \"lang_known\": 612735.0, \"mother_tongue_percent\": 1.227208517316702, \"most_at_home_percent\": 0.6081920069477096}, {\"category\": \"Aboriginal languages\", \"language\": \"Tahltan\", \"mother_tongue\": 95.0, \"most_at_home\": 5.0, \"most_at_work\": 0.0, \"lang_known\": 265.0, \"mother_tongue_percent\": 0.0002702569842370196, \"most_at_home_percent\": 1.42240518019484e-05}, {\"category\": \"Non-Official & Non-Aboriginal languages\", \"language\": \"Tai-Kadai languages, n.i.e\", \"mother_tongue\": 85.0, \"most_at_home\": 30.0, \"most_at_work\": 0.0, \"lang_known\": 115.0, \"mother_tongue_percent\": 0.0002418088806331228, \"most_at_home_percent\": 8.534431081169039e-05}, {\"category\": \"Non-Official & Non-Aboriginal languages\", \"language\": \"Tamil\", \"mother_tongue\": 140720.0, \"most_at_home\": 96955.0, \"most_at_work\": 2085.0, \"lang_known\": 189860.0, \"mother_tongue_percent\": 0.4003217139140357, \"most_at_home_percent\": 0.2758185884915814}, {\"category\": \"Non-Official & Non-Aboriginal languages\", \"language\": \"Telugu\", \"mother_tongue\": 15660.0, \"most_at_home\": 8280.0, \"most_at_work\": 40.0, \"lang_known\": 23165.0, \"mother_tongue_percent\": 0.04454973024370239, \"most_at_home_percent\": 0.023555029784026547}, {\"category\": \"Non-Official & Non-Aboriginal languages\", \"language\": \"Thai\", \"mother_tongue\": 9255.0, \"most_at_home\": 3365.0, \"most_at_work\": 525.0, \"lang_known\": 15395.0, \"mother_tongue_percent\": 0.026328719885406485, \"most_at_home_percent\": 0.009572786862711274}, {\"category\": \"Aboriginal languages\", \"language\": \"Thompson (Ntlakapamux)\", \"mother_tongue\": 335.0, \"most_at_home\": 20.0, \"most_at_work\": 0.0, \"lang_known\": 450.0, \"mother_tongue_percent\": 0.0009530114707305427, \"most_at_home_percent\": 5.68962072077936e-05}, {\"category\": \"Non-Official & Non-Aboriginal languages\", \"language\": \"Tibetan\", \"mother_tongue\": 6160.0, \"most_at_home\": 4590.0, \"most_at_work\": 50.0, \"lang_known\": 7050.0, \"mother_tongue_percent\": 0.017524031820000428, \"most_at_home_percent\": 0.01305767955418863}, {\"category\": \"Non-Official & Non-Aboriginal languages\", \"language\": \"Tibeto-Burman languages, n.i.e.\", \"mother_tongue\": 1405.0, \"most_at_home\": 655.0, \"most_at_work\": 15.0, \"lang_known\": 2380.0, \"mother_tongue_percent\": 0.0039969585563475, \"most_at_home_percent\": 0.0018633507860552402}, {\"category\": \"Non-Official & Non-Aboriginal languages\", \"language\": \"Tigrigna\", \"mother_tongue\": 16645.0, \"most_at_home\": 10205.0, \"most_at_work\": 130.0, \"lang_known\": 21340.0, \"mother_tongue_percent\": 0.04735186844868622, \"most_at_home_percent\": 0.02903128972777668}, {\"category\": \"Aboriginal languages\", \"language\": \"Tsimshian\", \"mother_tongue\": 200.0, \"most_at_home\": 30.0, \"most_at_work\": 10.0, \"lang_known\": 410.0, \"mother_tongue_percent\": 0.000568962072077936, \"most_at_home_percent\": 8.534431081169039e-05}, {\"category\": \"Non-Official & Non-Aboriginal languages\", \"language\": \"Turkic languages, n.i.e.\", \"mother_tongue\": 1315.0, \"most_at_home\": 455.0, \"most_at_work\": 10.0, \"lang_known\": 1875.0, \"mother_tongue_percent\": 0.0037409256239124295, \"most_at_home_percent\": 0.0012943887139773042}, {\"category\": \"Non-Official & Non-Aboriginal languages\", \"language\": \"Turkish\", \"mother_tongue\": 32815.0, \"most_at_home\": 18955.0, \"most_at_work\": 690.0, \"lang_known\": 50770.0, \"mother_tongue_percent\": 0.09335245197618734, \"most_at_home_percent\": 0.05392338038118638}, {\"category\": \"Non-Official & Non-Aboriginal languages\", \"language\": \"Ukrainian\", \"mother_tongue\": 102485.0, \"most_at_home\": 28250.0, \"most_at_work\": 1210.0, \"lang_known\": 132115.0, \"mother_tongue_percent\": 0.29155038978453635, \"most_at_home_percent\": 0.08036589268100845}, {\"category\": \"Non-Official & Non-Aboriginal languages\", \"language\": \"Uralic languages, n.i.e.\", \"mother_tongue\": 10.0, \"most_at_home\": 5.0, \"most_at_work\": 0.0, \"lang_known\": 25.0, \"mother_tongue_percent\": 2.84481036038968e-05, \"most_at_home_percent\": 1.42240518019484e-05}, {\"category\": \"Non-Official & Non-Aboriginal languages\", \"language\": \"Urdu\", \"mother_tongue\": 210815.0, \"most_at_home\": 128785.0, \"most_at_work\": 1495.0, \"lang_known\": 322220.0, \"mother_tongue_percent\": 0.5997286961255504, \"most_at_home_percent\": 0.3663689022627849}, {\"category\": \"Non-Official & Non-Aboriginal languages\", \"language\": \"Uyghur\", \"mother_tongue\": 1035.0, \"most_at_home\": 610.0, \"most_at_work\": 20.0, \"lang_known\": 1390.0, \"mother_tongue_percent\": 0.0029443787230033183, \"most_at_home_percent\": 0.0017353343198377048}, {\"category\": \"Non-Official & Non-Aboriginal languages\", \"language\": \"Uzbek\", \"mother_tongue\": 1720.0, \"most_at_home\": 995.0, \"most_at_work\": 15.0, \"lang_known\": 2465.0, \"mother_tongue_percent\": 0.004893073819870249, \"most_at_home_percent\": 0.0028305863085877313}, {\"category\": \"Non-Official & Non-Aboriginal languages\", \"language\": \"Vietnamese\", \"mother_tongue\": 156430.0, \"most_at_home\": 104245.0, \"most_at_work\": 8075.0, \"lang_known\": 198895.0, \"mother_tongue_percent\": 0.4450136846757576, \"most_at_home_percent\": 0.2965572560188222}, {\"category\": \"Non-Official & Non-Aboriginal languages\", \"language\": \"Vlaams (Flemish)\", \"mother_tongue\": 3895.0, \"most_at_home\": 355.0, \"most_at_work\": 35.0, \"lang_known\": 4400.0, \"mother_tongue_percent\": 0.011080536353717804, \"most_at_home_percent\": 0.0010099076779383363}, {\"category\": \"Non-Official & Non-Aboriginal languages\", \"language\": \"Waray-Waray\", \"mother_tongue\": 1110.0, \"most_at_home\": 310.0, \"most_at_work\": 0.0, \"lang_known\": 1395.0, \"mother_tongue_percent\": 0.0031577395000325446, \"most_at_home_percent\": 0.0008818912117208007}, {\"category\": \"Non-Official & Non-Aboriginal languages\", \"language\": \"Welsh\", \"mother_tongue\": 1075.0, \"most_at_home\": 95.0, \"most_at_work\": 0.0, \"lang_known\": 1695.0, \"mother_tongue_percent\": 0.003058171137418906, \"most_at_home_percent\": 0.0002702569842370196}, {\"category\": \"Non-Official & Non-Aboriginal languages\", \"language\": \"Wolof\", \"mother_tongue\": 3990.0, \"most_at_home\": 1385.0, \"most_at_work\": 10.0, \"lang_known\": 8240.0, \"mother_tongue_percent\": 0.011350793337954822, \"most_at_home_percent\": 0.003940062349139706}, {\"category\": \"Aboriginal languages\", \"language\": \"Woods Cree\", \"mother_tongue\": 1840.0, \"most_at_home\": 800.0, \"most_at_work\": 75.0, \"lang_known\": 2665.0, \"mother_tongue_percent\": 0.005234451063117011, \"most_at_home_percent\": 0.002275848288311744}, {\"category\": \"Non-Official & Non-Aboriginal languages\", \"language\": \"Wu (Shanghainese)\", \"mother_tongue\": 12915.0, \"most_at_home\": 7650.0, \"most_at_work\": 105.0, \"lang_known\": 16530.0, \"mother_tongue_percent\": 0.03674072580443272, \"most_at_home_percent\": 0.02176279925698105}, {\"category\": \"Non-Official & Non-Aboriginal languages\", \"language\": \"Yiddish\", \"mother_tongue\": 13555.0, \"most_at_home\": 7085.0, \"most_at_work\": 895.0, \"lang_known\": 20985.0, \"mother_tongue_percent\": 0.03856140443508211, \"most_at_home_percent\": 0.020155481403360882}, {\"category\": \"Non-Official & Non-Aboriginal languages\", \"language\": \"Yoruba\", \"mother_tongue\": 9080.0, \"most_at_home\": 2615.0, \"most_at_work\": 15.0, \"lang_known\": 22415.0, \"mother_tongue_percent\": 0.025830878072338293, \"most_at_home_percent\": 0.007439179092419013}, {\"category\": \"Non-Official & Non-Aboriginal languages\", \"language\": \"Yoruba\", \"mother_tongue\": 9080.0, \"most_at_home\": 2615.0, \"most_at_work\": 15.0, \"lang_known\": 22415.0, \"mother_tongue_percent\": 0.025830878072338293, \"most_at_home_percent\": 0.007439179092419013}]}}, {\"mode\": \"vega-lite\"});\n</script>",
      "application/papermill.record/text/plain": "alt.Chart(...)"
     },
     "metadata": {
      "scrapbook": {
       "mime_prefix": "application/papermill.record/",
       "name": "can_lang_plot_theme"
      }
     },
     "output_type": "display_data"
    }
   ],
   "source": [
    "glue('can_lang_plot_theme', can_lang_plot_theme, display=False)"
   ]
  },
  {
   "cell_type": "markdown",
   "id": "cb4d1cfc",
   "metadata": {},
   "source": [
    ":::{glue:figure} can_lang_plot_theme\n",
    ":figwidth: 700px \n",
    ":name: can_lang_plot_theme\n",
    "\n",
    "Scatter plot of percentage of Canadians reporting a language as their mother tongue vs the primary language at home colored by language category with color-blind friendly colors.\n",
    ":::\n",
    "\n",
    "\n",
    "\n",
    "From the visualization in {numref}`can_lang_plot_theme`, \n",
    "we can now clearly see that the vast majority of Canadians reported one of the official languages \n",
    "as their mother tongue and as the language they speak most often at home. \n",
    "What do we see when considering the second part of our exploratory question? \n",
    "Do we see a difference in the relationship\n",
    "between languages spoken as a mother tongue and as a primary language\n",
    "at home across the higher-level language categories? \n",
    "Based on {numref}`can_lang_plot_theme`, there does not\n",
    "appear to be much of a difference.\n",
    "For each higher-level language category, \n",
    "there appears to be a strong, positive, and linear relationship between \n",
    "the percentage of people who speak a language as their mother tongue \n",
    "and the percentage who speak it as their primary language at home. \n",
    "The relationship looks similar regardless of the category. \n",
    "\n",
    "Does this mean that this relationship is positive for all languages in the\n",
    "world? And further, can we use this data visualization on its own to predict how many people\n",
    "have a given language as their mother tongue if we know how many people speak\n",
    "it as their primary language at home? The answer to both these questions is\n",
    "\"no!\" However, with exploratory data analysis, we can create new hypotheses,\n",
    "ideas, and questions (like the ones at the beginning of this paragraph).\n",
    "Answering those questions often involves doing more complex analyses, and sometimes\n",
    "even gathering additional data. We will see more of such complex analyses later on in \n",
    "this book.  \n",
    "\n",
    "\n",
    "\n",
    "### Bar plots: the island landmass data set\n",
    "The `islands.csv` data set \\index{Island landmasses} contains a list of Earth's landmasses as well as their area (in thousands of square miles) [@islandsdata]. \n",
    "\n",
    "**Question:** \\index{question!visualization} Are the continents (North / South America, Africa, Europe, Asia, Australia, Antarctica) Earth's seven largest landmasses? If so, what are the next few largest landmasses after those?\n",
    "\n",
    "\n",
    "\n",
    "To get started, we will read and inspect the data:"
   ]
  },
  {
   "cell_type": "code",
   "execution_count": 40,
   "id": "b250fea7",
   "metadata": {
    "execution": {
     "iopub.execute_input": "2022-07-19T22:59:15.556248Z",
     "iopub.status.busy": "2022-07-19T22:59:15.556114Z",
     "iopub.status.idle": "2022-07-19T22:59:15.563375Z",
     "shell.execute_reply": "2022-07-19T22:59:15.563069Z"
    }
   },
   "outputs": [
    {
     "data": {
      "text/html": [
       "<div>\n",
       "<style scoped>\n",
       "    .dataframe tbody tr th:only-of-type {\n",
       "        vertical-align: middle;\n",
       "    }\n",
       "\n",
       "    .dataframe tbody tr th {\n",
       "        vertical-align: top;\n",
       "    }\n",
       "\n",
       "    .dataframe thead th {\n",
       "        text-align: right;\n",
       "    }\n",
       "</style>\n",
       "<table border=\"1\" class=\"dataframe\">\n",
       "  <thead>\n",
       "    <tr style=\"text-align: right;\">\n",
       "      <th></th>\n",
       "      <th>landmass</th>\n",
       "      <th>size</th>\n",
       "      <th>landmass_type</th>\n",
       "    </tr>\n",
       "  </thead>\n",
       "  <tbody>\n",
       "    <tr>\n",
       "      <th>0</th>\n",
       "      <td>Africa</td>\n",
       "      <td>11506</td>\n",
       "      <td>Continent</td>\n",
       "    </tr>\n",
       "    <tr>\n",
       "      <th>1</th>\n",
       "      <td>Antarctica</td>\n",
       "      <td>5500</td>\n",
       "      <td>Continent</td>\n",
       "    </tr>\n",
       "    <tr>\n",
       "      <th>2</th>\n",
       "      <td>Asia</td>\n",
       "      <td>16988</td>\n",
       "      <td>Continent</td>\n",
       "    </tr>\n",
       "    <tr>\n",
       "      <th>3</th>\n",
       "      <td>Australia</td>\n",
       "      <td>2968</td>\n",
       "      <td>Continent</td>\n",
       "    </tr>\n",
       "    <tr>\n",
       "      <th>4</th>\n",
       "      <td>Axel Heiberg</td>\n",
       "      <td>16</td>\n",
       "      <td>Other</td>\n",
       "    </tr>\n",
       "    <tr>\n",
       "      <th>5</th>\n",
       "      <td>Baffin</td>\n",
       "      <td>184</td>\n",
       "      <td>Other</td>\n",
       "    </tr>\n",
       "    <tr>\n",
       "      <th>6</th>\n",
       "      <td>Banks</td>\n",
       "      <td>23</td>\n",
       "      <td>Other</td>\n",
       "    </tr>\n",
       "    <tr>\n",
       "      <th>7</th>\n",
       "      <td>Borneo</td>\n",
       "      <td>280</td>\n",
       "      <td>Other</td>\n",
       "    </tr>\n",
       "    <tr>\n",
       "      <th>8</th>\n",
       "      <td>Britain</td>\n",
       "      <td>84</td>\n",
       "      <td>Other</td>\n",
       "    </tr>\n",
       "    <tr>\n",
       "      <th>9</th>\n",
       "      <td>Celebes</td>\n",
       "      <td>73</td>\n",
       "      <td>Other</td>\n",
       "    </tr>\n",
       "    <tr>\n",
       "      <th>10</th>\n",
       "      <td>Celon</td>\n",
       "      <td>25</td>\n",
       "      <td>Other</td>\n",
       "    </tr>\n",
       "    <tr>\n",
       "      <th>11</th>\n",
       "      <td>Cuba</td>\n",
       "      <td>43</td>\n",
       "      <td>Other</td>\n",
       "    </tr>\n",
       "    <tr>\n",
       "      <th>12</th>\n",
       "      <td>Devon</td>\n",
       "      <td>21</td>\n",
       "      <td>Other</td>\n",
       "    </tr>\n",
       "    <tr>\n",
       "      <th>13</th>\n",
       "      <td>Ellesmere</td>\n",
       "      <td>82</td>\n",
       "      <td>Other</td>\n",
       "    </tr>\n",
       "    <tr>\n",
       "      <th>14</th>\n",
       "      <td>Europe</td>\n",
       "      <td>3745</td>\n",
       "      <td>Continent</td>\n",
       "    </tr>\n",
       "    <tr>\n",
       "      <th>15</th>\n",
       "      <td>Greenland</td>\n",
       "      <td>840</td>\n",
       "      <td>Other</td>\n",
       "    </tr>\n",
       "    <tr>\n",
       "      <th>16</th>\n",
       "      <td>Hainan</td>\n",
       "      <td>13</td>\n",
       "      <td>Other</td>\n",
       "    </tr>\n",
       "    <tr>\n",
       "      <th>17</th>\n",
       "      <td>Hispaniola</td>\n",
       "      <td>30</td>\n",
       "      <td>Other</td>\n",
       "    </tr>\n",
       "    <tr>\n",
       "      <th>18</th>\n",
       "      <td>Hokkaido</td>\n",
       "      <td>30</td>\n",
       "      <td>Other</td>\n",
       "    </tr>\n",
       "    <tr>\n",
       "      <th>19</th>\n",
       "      <td>Honshu</td>\n",
       "      <td>89</td>\n",
       "      <td>Other</td>\n",
       "    </tr>\n",
       "    <tr>\n",
       "      <th>20</th>\n",
       "      <td>Iceland</td>\n",
       "      <td>40</td>\n",
       "      <td>Other</td>\n",
       "    </tr>\n",
       "    <tr>\n",
       "      <th>21</th>\n",
       "      <td>Ireland</td>\n",
       "      <td>33</td>\n",
       "      <td>Other</td>\n",
       "    </tr>\n",
       "    <tr>\n",
       "      <th>22</th>\n",
       "      <td>Java</td>\n",
       "      <td>49</td>\n",
       "      <td>Other</td>\n",
       "    </tr>\n",
       "    <tr>\n",
       "      <th>23</th>\n",
       "      <td>Kyushu</td>\n",
       "      <td>14</td>\n",
       "      <td>Other</td>\n",
       "    </tr>\n",
       "    <tr>\n",
       "      <th>24</th>\n",
       "      <td>Luzon</td>\n",
       "      <td>42</td>\n",
       "      <td>Other</td>\n",
       "    </tr>\n",
       "    <tr>\n",
       "      <th>25</th>\n",
       "      <td>Madagascar</td>\n",
       "      <td>227</td>\n",
       "      <td>Other</td>\n",
       "    </tr>\n",
       "    <tr>\n",
       "      <th>26</th>\n",
       "      <td>Melville</td>\n",
       "      <td>16</td>\n",
       "      <td>Other</td>\n",
       "    </tr>\n",
       "    <tr>\n",
       "      <th>27</th>\n",
       "      <td>Mindanao</td>\n",
       "      <td>36</td>\n",
       "      <td>Other</td>\n",
       "    </tr>\n",
       "    <tr>\n",
       "      <th>28</th>\n",
       "      <td>Moluccas</td>\n",
       "      <td>29</td>\n",
       "      <td>Other</td>\n",
       "    </tr>\n",
       "    <tr>\n",
       "      <th>29</th>\n",
       "      <td>New Britain</td>\n",
       "      <td>15</td>\n",
       "      <td>Other</td>\n",
       "    </tr>\n",
       "    <tr>\n",
       "      <th>30</th>\n",
       "      <td>New Guinea</td>\n",
       "      <td>306</td>\n",
       "      <td>Other</td>\n",
       "    </tr>\n",
       "    <tr>\n",
       "      <th>31</th>\n",
       "      <td>New Zealand (N)</td>\n",
       "      <td>44</td>\n",
       "      <td>Other</td>\n",
       "    </tr>\n",
       "    <tr>\n",
       "      <th>32</th>\n",
       "      <td>New Zealand (S)</td>\n",
       "      <td>58</td>\n",
       "      <td>Other</td>\n",
       "    </tr>\n",
       "    <tr>\n",
       "      <th>33</th>\n",
       "      <td>Newfoundland</td>\n",
       "      <td>43</td>\n",
       "      <td>Other</td>\n",
       "    </tr>\n",
       "    <tr>\n",
       "      <th>34</th>\n",
       "      <td>North America</td>\n",
       "      <td>9390</td>\n",
       "      <td>Continent</td>\n",
       "    </tr>\n",
       "    <tr>\n",
       "      <th>35</th>\n",
       "      <td>Novaya Zemlya</td>\n",
       "      <td>32</td>\n",
       "      <td>Other</td>\n",
       "    </tr>\n",
       "    <tr>\n",
       "      <th>36</th>\n",
       "      <td>Prince of Wales</td>\n",
       "      <td>13</td>\n",
       "      <td>Other</td>\n",
       "    </tr>\n",
       "    <tr>\n",
       "      <th>37</th>\n",
       "      <td>Sakhalin</td>\n",
       "      <td>29</td>\n",
       "      <td>Other</td>\n",
       "    </tr>\n",
       "    <tr>\n",
       "      <th>38</th>\n",
       "      <td>South America</td>\n",
       "      <td>6795</td>\n",
       "      <td>Continent</td>\n",
       "    </tr>\n",
       "    <tr>\n",
       "      <th>39</th>\n",
       "      <td>Southampton</td>\n",
       "      <td>16</td>\n",
       "      <td>Other</td>\n",
       "    </tr>\n",
       "    <tr>\n",
       "      <th>40</th>\n",
       "      <td>Spitsbergen</td>\n",
       "      <td>15</td>\n",
       "      <td>Other</td>\n",
       "    </tr>\n",
       "    <tr>\n",
       "      <th>41</th>\n",
       "      <td>Sumatra</td>\n",
       "      <td>183</td>\n",
       "      <td>Other</td>\n",
       "    </tr>\n",
       "    <tr>\n",
       "      <th>42</th>\n",
       "      <td>Taiwan</td>\n",
       "      <td>14</td>\n",
       "      <td>Other</td>\n",
       "    </tr>\n",
       "    <tr>\n",
       "      <th>43</th>\n",
       "      <td>Tasmania</td>\n",
       "      <td>26</td>\n",
       "      <td>Other</td>\n",
       "    </tr>\n",
       "    <tr>\n",
       "      <th>44</th>\n",
       "      <td>Tierra del Fuego</td>\n",
       "      <td>19</td>\n",
       "      <td>Other</td>\n",
       "    </tr>\n",
       "    <tr>\n",
       "      <th>45</th>\n",
       "      <td>Timor</td>\n",
       "      <td>13</td>\n",
       "      <td>Other</td>\n",
       "    </tr>\n",
       "    <tr>\n",
       "      <th>46</th>\n",
       "      <td>Vancouver</td>\n",
       "      <td>12</td>\n",
       "      <td>Other</td>\n",
       "    </tr>\n",
       "    <tr>\n",
       "      <th>47</th>\n",
       "      <td>Victoria</td>\n",
       "      <td>82</td>\n",
       "      <td>Other</td>\n",
       "    </tr>\n",
       "  </tbody>\n",
       "</table>\n",
       "</div>"
      ],
      "text/plain": [
       "            landmass   size landmass_type\n",
       "0             Africa  11506     Continent\n",
       "1         Antarctica   5500     Continent\n",
       "2               Asia  16988     Continent\n",
       "3          Australia   2968     Continent\n",
       "4       Axel Heiberg     16         Other\n",
       "5             Baffin    184         Other\n",
       "6              Banks     23         Other\n",
       "7             Borneo    280         Other\n",
       "8            Britain     84         Other\n",
       "9            Celebes     73         Other\n",
       "10             Celon     25         Other\n",
       "11              Cuba     43         Other\n",
       "12             Devon     21         Other\n",
       "13         Ellesmere     82         Other\n",
       "14            Europe   3745     Continent\n",
       "15         Greenland    840         Other\n",
       "16            Hainan     13         Other\n",
       "17        Hispaniola     30         Other\n",
       "18          Hokkaido     30         Other\n",
       "19            Honshu     89         Other\n",
       "20           Iceland     40         Other\n",
       "21           Ireland     33         Other\n",
       "22              Java     49         Other\n",
       "23            Kyushu     14         Other\n",
       "24             Luzon     42         Other\n",
       "25        Madagascar    227         Other\n",
       "26          Melville     16         Other\n",
       "27          Mindanao     36         Other\n",
       "28          Moluccas     29         Other\n",
       "29       New Britain     15         Other\n",
       "30        New Guinea    306         Other\n",
       "31   New Zealand (N)     44         Other\n",
       "32   New Zealand (S)     58         Other\n",
       "33      Newfoundland     43         Other\n",
       "34     North America   9390     Continent\n",
       "35     Novaya Zemlya     32         Other\n",
       "36   Prince of Wales     13         Other\n",
       "37          Sakhalin     29         Other\n",
       "38     South America   6795     Continent\n",
       "39       Southampton     16         Other\n",
       "40       Spitsbergen     15         Other\n",
       "41           Sumatra    183         Other\n",
       "42            Taiwan     14         Other\n",
       "43          Tasmania     26         Other\n",
       "44  Tierra del Fuego     19         Other\n",
       "45             Timor     13         Other\n",
       "46         Vancouver     12         Other\n",
       "47          Victoria     82         Other"
      ]
     },
     "execution_count": 40,
     "metadata": {},
     "output_type": "execute_result"
    }
   ],
   "source": [
    "islands_df = pd.read_csv(\"data/islands.csv\")\n",
    "islands_df"
   ]
  },
  {
   "cell_type": "markdown",
   "id": "377aca53",
   "metadata": {},
   "source": [
    "Here, we have a data frame of Earth's landmasses, \n",
    "and are trying to compare their sizes. \n",
    "The right type of visualization to answer this question is a bar plot. \n",
    "In a bar plot, the height of the bar represents the value of a summary statistic \n",
    "(usually a size, count, proportion or percentage).\n",
    "They are particularly useful for comparing summary statistics between different\n",
    "groups of a categorical variable.\n",
    "\n",
    "We specify that we would like to use a bar plot\n",
    "via the `mark_bar` function in `altair`. \n",
    "The result is shown in {numref}`islands_bar`\n",
    "\\index{ggplot!geom\\_bar}"
   ]
  },
  {
   "cell_type": "code",
   "execution_count": 41,
   "id": "f1b7f79a",
   "metadata": {
    "execution": {
     "iopub.execute_input": "2022-07-19T22:59:15.565190Z",
     "iopub.status.busy": "2022-07-19T22:59:15.565045Z",
     "iopub.status.idle": "2022-07-19T22:59:15.571548Z",
     "shell.execute_reply": "2022-07-19T22:59:15.571256Z"
    }
   },
   "outputs": [],
   "source": [
    "islands_bar = alt.Chart(islands_df).mark_bar().encode(\n",
    "    x = \"landmass\", y = \"size\")\n"
   ]
  },
  {
   "cell_type": "code",
   "execution_count": 42,
   "id": "5adfe603",
   "metadata": {
    "execution": {
     "iopub.execute_input": "2022-07-19T22:59:15.573205Z",
     "iopub.status.busy": "2022-07-19T22:59:15.573092Z",
     "iopub.status.idle": "2022-07-19T22:59:15.578148Z",
     "shell.execute_reply": "2022-07-19T22:59:15.577860Z"
    },
    "tags": [
     "remove-cell"
    ]
   },
   "outputs": [
    {
     "data": {
      "application/papermill.record/text/html": "\n<div id=\"altair-viz-ba27a9c864354b60b26966ca975f36d7\"></div>\n<script type=\"text/javascript\">\n  var VEGA_DEBUG = (typeof VEGA_DEBUG == \"undefined\") ? {} : VEGA_DEBUG;\n  (function(spec, embedOpt){\n    let outputDiv = document.currentScript.previousElementSibling;\n    if (outputDiv.id !== \"altair-viz-ba27a9c864354b60b26966ca975f36d7\") {\n      outputDiv = document.getElementById(\"altair-viz-ba27a9c864354b60b26966ca975f36d7\");\n    }\n    const paths = {\n      \"vega\": \"https://cdn.jsdelivr.net/npm//vega@5?noext\",\n      \"vega-lib\": \"https://cdn.jsdelivr.net/npm//vega-lib?noext\",\n      \"vega-lite\": \"https://cdn.jsdelivr.net/npm//vega-lite@4.17.0?noext\",\n      \"vega-embed\": \"https://cdn.jsdelivr.net/npm//vega-embed@6?noext\",\n    };\n\n    function maybeLoadScript(lib, version) {\n      var key = `${lib.replace(\"-\", \"\")}_version`;\n      return (VEGA_DEBUG[key] == version) ?\n        Promise.resolve(paths[lib]) :\n        new Promise(function(resolve, reject) {\n          var s = document.createElement('script');\n          document.getElementsByTagName(\"head\")[0].appendChild(s);\n          s.async = true;\n          s.onload = () => {\n            VEGA_DEBUG[key] = version;\n            return resolve(paths[lib]);\n          };\n          s.onerror = () => reject(`Error loading script: ${paths[lib]}`);\n          s.src = paths[lib];\n        });\n    }\n\n    function showError(err) {\n      outputDiv.innerHTML = `<div class=\"error\" style=\"color:red;\">${err}</div>`;\n      throw err;\n    }\n\n    function displayChart(vegaEmbed) {\n      vegaEmbed(outputDiv, spec, embedOpt)\n        .catch(err => showError(`Javascript Error: ${err.message}<br>This usually means there's a typo in your chart specification. See the javascript console for the full traceback.`));\n    }\n\n    if(typeof define === \"function\" && define.amd) {\n      requirejs.config({paths});\n      require([\"vega-embed\"], displayChart, err => showError(`Error loading script: ${err.message}`));\n    } else {\n      maybeLoadScript(\"vega\", \"5\")\n        .then(() => maybeLoadScript(\"vega-lite\", \"4.17.0\"))\n        .then(() => maybeLoadScript(\"vega-embed\", \"6\"))\n        .catch(showError)\n        .then(() => displayChart(vegaEmbed));\n    }\n  })({\"config\": {\"view\": {\"continuousWidth\": 400, \"continuousHeight\": 300}}, \"data\": {\"name\": \"data-10b25339475a145d1ddecffe37b058c0\"}, \"mark\": \"bar\", \"encoding\": {\"x\": {\"field\": \"landmass\", \"type\": \"nominal\"}, \"y\": {\"field\": \"size\", \"type\": \"quantitative\"}}, \"$schema\": \"https://vega.github.io/schema/vega-lite/v4.17.0.json\", \"datasets\": {\"data-10b25339475a145d1ddecffe37b058c0\": [{\"landmass\": \"Africa\", \"size\": 11506, \"landmass_type\": \"Continent\"}, {\"landmass\": \"Antarctica\", \"size\": 5500, \"landmass_type\": \"Continent\"}, {\"landmass\": \"Asia\", \"size\": 16988, \"landmass_type\": \"Continent\"}, {\"landmass\": \"Australia\", \"size\": 2968, \"landmass_type\": \"Continent\"}, {\"landmass\": \"Axel Heiberg\", \"size\": 16, \"landmass_type\": \"Other\"}, {\"landmass\": \"Baffin\", \"size\": 184, \"landmass_type\": \"Other\"}, {\"landmass\": \"Banks\", \"size\": 23, \"landmass_type\": \"Other\"}, {\"landmass\": \"Borneo\", \"size\": 280, \"landmass_type\": \"Other\"}, {\"landmass\": \"Britain\", \"size\": 84, \"landmass_type\": \"Other\"}, {\"landmass\": \"Celebes\", \"size\": 73, \"landmass_type\": \"Other\"}, {\"landmass\": \"Celon\", \"size\": 25, \"landmass_type\": \"Other\"}, {\"landmass\": \"Cuba\", \"size\": 43, \"landmass_type\": \"Other\"}, {\"landmass\": \"Devon\", \"size\": 21, \"landmass_type\": \"Other\"}, {\"landmass\": \"Ellesmere\", \"size\": 82, \"landmass_type\": \"Other\"}, {\"landmass\": \"Europe\", \"size\": 3745, \"landmass_type\": \"Continent\"}, {\"landmass\": \"Greenland\", \"size\": 840, \"landmass_type\": \"Other\"}, {\"landmass\": \"Hainan\", \"size\": 13, \"landmass_type\": \"Other\"}, {\"landmass\": \"Hispaniola\", \"size\": 30, \"landmass_type\": \"Other\"}, {\"landmass\": \"Hokkaido\", \"size\": 30, \"landmass_type\": \"Other\"}, {\"landmass\": \"Honshu\", \"size\": 89, \"landmass_type\": \"Other\"}, {\"landmass\": \"Iceland\", \"size\": 40, \"landmass_type\": \"Other\"}, {\"landmass\": \"Ireland\", \"size\": 33, \"landmass_type\": \"Other\"}, {\"landmass\": \"Java\", \"size\": 49, \"landmass_type\": \"Other\"}, {\"landmass\": \"Kyushu\", \"size\": 14, \"landmass_type\": \"Other\"}, {\"landmass\": \"Luzon\", \"size\": 42, \"landmass_type\": \"Other\"}, {\"landmass\": \"Madagascar\", \"size\": 227, \"landmass_type\": \"Other\"}, {\"landmass\": \"Melville\", \"size\": 16, \"landmass_type\": \"Other\"}, {\"landmass\": \"Mindanao\", \"size\": 36, \"landmass_type\": \"Other\"}, {\"landmass\": \"Moluccas\", \"size\": 29, \"landmass_type\": \"Other\"}, {\"landmass\": \"New Britain\", \"size\": 15, \"landmass_type\": \"Other\"}, {\"landmass\": \"New Guinea\", \"size\": 306, \"landmass_type\": \"Other\"}, {\"landmass\": \"New Zealand (N)\", \"size\": 44, \"landmass_type\": \"Other\"}, {\"landmass\": \"New Zealand (S)\", \"size\": 58, \"landmass_type\": \"Other\"}, {\"landmass\": \"Newfoundland\", \"size\": 43, \"landmass_type\": \"Other\"}, {\"landmass\": \"North America\", \"size\": 9390, \"landmass_type\": \"Continent\"}, {\"landmass\": \"Novaya Zemlya\", \"size\": 32, \"landmass_type\": \"Other\"}, {\"landmass\": \"Prince of Wales\", \"size\": 13, \"landmass_type\": \"Other\"}, {\"landmass\": \"Sakhalin\", \"size\": 29, \"landmass_type\": \"Other\"}, {\"landmass\": \"South America\", \"size\": 6795, \"landmass_type\": \"Continent\"}, {\"landmass\": \"Southampton\", \"size\": 16, \"landmass_type\": \"Other\"}, {\"landmass\": \"Spitsbergen\", \"size\": 15, \"landmass_type\": \"Other\"}, {\"landmass\": \"Sumatra\", \"size\": 183, \"landmass_type\": \"Other\"}, {\"landmass\": \"Taiwan\", \"size\": 14, \"landmass_type\": \"Other\"}, {\"landmass\": \"Tasmania\", \"size\": 26, \"landmass_type\": \"Other\"}, {\"landmass\": \"Tierra del Fuego\", \"size\": 19, \"landmass_type\": \"Other\"}, {\"landmass\": \"Timor\", \"size\": 13, \"landmass_type\": \"Other\"}, {\"landmass\": \"Vancouver\", \"size\": 12, \"landmass_type\": \"Other\"}, {\"landmass\": \"Victoria\", \"size\": 82, \"landmass_type\": \"Other\"}]}}, {\"mode\": \"vega-lite\"});\n</script>",
      "application/papermill.record/text/plain": "alt.Chart(...)"
     },
     "metadata": {
      "scrapbook": {
       "mime_prefix": "application/papermill.record/",
       "name": "islands_bar"
      }
     },
     "output_type": "display_data"
    }
   ],
   "source": [
    "glue('islands_bar', islands_bar, display=False)"
   ]
  },
  {
   "cell_type": "markdown",
   "id": "c7bdea84",
   "metadata": {},
   "source": [
    ":::{glue:figure} islands_bar\n",
    ":figwidth: 700px \n",
    ":name: islands_bar\n",
    "\n",
    "Bar plot of all Earth's landmasses' size with squished labels.\n",
    ":::\n",
    "\n",
    "Alright, not bad! The plot in {numref}`islands_bar` is\n",
    "definitely the right kind of visualization, as we can clearly see and compare\n",
    "sizes of landmasses. The major issues are that the smaller landmasses' sizes\n",
    "are hard to distinguish, and the names of the landmasses are tilted by default to fit in the labels. But remember that the\n",
    "question we asked was only about the largest landmasses; let's make the plot a\n",
    "little bit clearer by keeping only the largest 12 landmasses. We do this using\n",
    "the `sort_values` function followed by the `iloc` property.  Then to help us make sure the labels have enough\n",
    "space, we'll use horizontal bars instead of vertical ones. We do this by\n",
    "swapping the `x` and `y` variables:\n",
    "\\index{slice\\_max}"
   ]
  },
  {
   "cell_type": "code",
   "execution_count": 43,
   "id": "fe55972c",
   "metadata": {
    "execution": {
     "iopub.execute_input": "2022-07-19T22:59:15.579896Z",
     "iopub.status.busy": "2022-07-19T22:59:15.579759Z",
     "iopub.status.idle": "2022-07-19T22:59:15.586607Z",
     "shell.execute_reply": "2022-07-19T22:59:15.586298Z"
    }
   },
   "outputs": [],
   "source": [
    "islands_top12 = islands_df.sort_values(by = \"size\", ascending=False).iloc[:12] \n",
    "\n",
    "islands_bar_sorted = alt.Chart(islands_top12).mark_bar().encode(\n",
    "    x = \"size\", y = \"landmass\")\n",
    "\n",
    "\n"
   ]
  },
  {
   "cell_type": "code",
   "execution_count": 44,
   "id": "583c7884",
   "metadata": {
    "execution": {
     "iopub.execute_input": "2022-07-19T22:59:15.588442Z",
     "iopub.status.busy": "2022-07-19T22:59:15.588322Z",
     "iopub.status.idle": "2022-07-19T22:59:15.593251Z",
     "shell.execute_reply": "2022-07-19T22:59:15.592968Z"
    },
    "tags": [
     "remove-cell"
    ]
   },
   "outputs": [
    {
     "data": {
      "text/html": [
       "\n",
       "<div id=\"altair-viz-e902251c2ecd49fbb74a0f9b1e20c15b\"></div>\n",
       "<script type=\"text/javascript\">\n",
       "  var VEGA_DEBUG = (typeof VEGA_DEBUG == \"undefined\") ? {} : VEGA_DEBUG;\n",
       "  (function(spec, embedOpt){\n",
       "    let outputDiv = document.currentScript.previousElementSibling;\n",
       "    if (outputDiv.id !== \"altair-viz-e902251c2ecd49fbb74a0f9b1e20c15b\") {\n",
       "      outputDiv = document.getElementById(\"altair-viz-e902251c2ecd49fbb74a0f9b1e20c15b\");\n",
       "    }\n",
       "    const paths = {\n",
       "      \"vega\": \"https://cdn.jsdelivr.net/npm//vega@5?noext\",\n",
       "      \"vega-lib\": \"https://cdn.jsdelivr.net/npm//vega-lib?noext\",\n",
       "      \"vega-lite\": \"https://cdn.jsdelivr.net/npm//vega-lite@4.17.0?noext\",\n",
       "      \"vega-embed\": \"https://cdn.jsdelivr.net/npm//vega-embed@6?noext\",\n",
       "    };\n",
       "\n",
       "    function maybeLoadScript(lib, version) {\n",
       "      var key = `${lib.replace(\"-\", \"\")}_version`;\n",
       "      return (VEGA_DEBUG[key] == version) ?\n",
       "        Promise.resolve(paths[lib]) :\n",
       "        new Promise(function(resolve, reject) {\n",
       "          var s = document.createElement('script');\n",
       "          document.getElementsByTagName(\"head\")[0].appendChild(s);\n",
       "          s.async = true;\n",
       "          s.onload = () => {\n",
       "            VEGA_DEBUG[key] = version;\n",
       "            return resolve(paths[lib]);\n",
       "          };\n",
       "          s.onerror = () => reject(`Error loading script: ${paths[lib]}`);\n",
       "          s.src = paths[lib];\n",
       "        });\n",
       "    }\n",
       "\n",
       "    function showError(err) {\n",
       "      outputDiv.innerHTML = `<div class=\"error\" style=\"color:red;\">${err}</div>`;\n",
       "      throw err;\n",
       "    }\n",
       "\n",
       "    function displayChart(vegaEmbed) {\n",
       "      vegaEmbed(outputDiv, spec, embedOpt)\n",
       "        .catch(err => showError(`Javascript Error: ${err.message}<br>This usually means there's a typo in your chart specification. See the javascript console for the full traceback.`));\n",
       "    }\n",
       "\n",
       "    if(typeof define === \"function\" && define.amd) {\n",
       "      requirejs.config({paths});\n",
       "      require([\"vega-embed\"], displayChart, err => showError(`Error loading script: ${err.message}`));\n",
       "    } else {\n",
       "      maybeLoadScript(\"vega\", \"5\")\n",
       "        .then(() => maybeLoadScript(\"vega-lite\", \"4.17.0\"))\n",
       "        .then(() => maybeLoadScript(\"vega-embed\", \"6\"))\n",
       "        .catch(showError)\n",
       "        .then(() => displayChart(vegaEmbed));\n",
       "    }\n",
       "  })({\"config\": {\"view\": {\"continuousWidth\": 400, \"continuousHeight\": 300}}, \"data\": {\"name\": \"data-fc42ac9d8b1aea32d6771c4751ec3ae8\"}, \"mark\": \"bar\", \"encoding\": {\"x\": {\"field\": \"size\", \"type\": \"quantitative\"}, \"y\": {\"field\": \"landmass\", \"type\": \"nominal\"}}, \"$schema\": \"https://vega.github.io/schema/vega-lite/v4.17.0.json\", \"datasets\": {\"data-fc42ac9d8b1aea32d6771c4751ec3ae8\": [{\"landmass\": \"Asia\", \"size\": 16988, \"landmass_type\": \"Continent\"}, {\"landmass\": \"Africa\", \"size\": 11506, \"landmass_type\": \"Continent\"}, {\"landmass\": \"North America\", \"size\": 9390, \"landmass_type\": \"Continent\"}, {\"landmass\": \"South America\", \"size\": 6795, \"landmass_type\": \"Continent\"}, {\"landmass\": \"Antarctica\", \"size\": 5500, \"landmass_type\": \"Continent\"}, {\"landmass\": \"Europe\", \"size\": 3745, \"landmass_type\": \"Continent\"}, {\"landmass\": \"Australia\", \"size\": 2968, \"landmass_type\": \"Continent\"}, {\"landmass\": \"Greenland\", \"size\": 840, \"landmass_type\": \"Other\"}, {\"landmass\": \"New Guinea\", \"size\": 306, \"landmass_type\": \"Other\"}, {\"landmass\": \"Borneo\", \"size\": 280, \"landmass_type\": \"Other\"}, {\"landmass\": \"Madagascar\", \"size\": 227, \"landmass_type\": \"Other\"}, {\"landmass\": \"Baffin\", \"size\": 184, \"landmass_type\": \"Other\"}]}}, {\"mode\": \"vega-lite\"});\n",
       "</script>"
      ],
      "text/plain": [
       "alt.Chart(...)"
      ]
     },
     "metadata": {
      "scrapbook": {
       "mime_prefix": "",
       "name": "islands_bar_sorted"
      }
     },
     "output_type": "display_data"
    }
   ],
   "source": [
    "glue('islands_bar_sorted', islands_bar_sorted, display=True)"
   ]
  },
  {
   "cell_type": "markdown",
   "id": "b1b9bf7f",
   "metadata": {},
   "source": [
    ":::{glue:figure} islands_bar_sorted\n",
    ":figwidth: 700px \n",
    ":name: islands_bar_sorted\n",
    "\n",
    "Bar plot of size for Earth's largest 12 landmasses.\n",
    ":::\n",
    "\n",
    "\n",
    "\n",
    "\n",
    "The plot in {numref}`islands_bar_sorted` is definitely clearer now, \n",
    "and allows us to answer our question \n",
    "(\"are the top 7 largest landmasses continents?\") in the affirmative. \n",
    "But the question could be made clearer from the plot \n",
    "by organizing the bars not by alphabetical order\n",
    "but by size, and to color them based on whether they are a continent. \n",
    "The data for this is stored in the `landmass_type` column. \n",
    "To use this to color the bars, \n",
    "we use the `color` argument to color the bars according to the `landmass_type`\n",
    "\n",
    "To organize the landmasses by their `size` variable, \n",
    "we will use the `altair` `sort` function\n",
    "in encoding for `y` axis to organize the landmasses by their `size` variable, which is encoded on the x-axis.\n",
    "To sort the landmasses by their size(denoted on `x` axis), we use `sort='x'`. This plots the values on `y` axis\n",
    "in the ascending order of `x` axis values. \n",
    "\n",
    "We do this here so that the largest bar will be closest to the axis line,\n",
    "which is more visually appealing.\n",
    "\n",
    "> **Note:** If we want to sort the values on `y-axis` in descending order of `x-axis`,\n",
    "> we need to specify `sort='-x'`.\n",
    "\n",
    "To label the x and y axes, we will use the `alt.X` and `alt.Y` function\n",
    "The default label is the name of the column being mapped to `color`. Here that\n",
    "would be `landmass_type`;\n",
    "however `landmass_type` is not proper English (and so is less readable).\n",
    "Thus we use the `title` argument inside `alt.Color` to change that to \"Type\"\n",
    "Finally, we again \\index{ggplot!reorder} use the `configure_axis` function \n",
    "to change the font size."
   ]
  },
  {
   "cell_type": "code",
   "execution_count": 45,
   "id": "7df91428",
   "metadata": {
    "execution": {
     "iopub.execute_input": "2022-07-19T22:59:15.595067Z",
     "iopub.status.busy": "2022-07-19T22:59:15.594937Z",
     "iopub.status.idle": "2022-07-19T22:59:15.597927Z",
     "shell.execute_reply": "2022-07-19T22:59:15.597642Z"
    }
   },
   "outputs": [],
   "source": [
    "islands_plot_sorted = alt.Chart(islands_top12).mark_bar(color='black').encode(\n",
    "    x = alt.X(\"size\",title = \"Size (1000 square mi)\"),\n",
    "    y = alt.Y(\"landmass\", title = \"Landmass\", sort='x'),\n",
    "    color = alt.Color(\"landmass_type\", title = \"Type\")).configure_axis(\n",
    "    titleFontSize=12)\n"
   ]
  },
  {
   "cell_type": "code",
   "execution_count": 46,
   "id": "92dec9bc",
   "metadata": {
    "execution": {
     "iopub.execute_input": "2022-07-19T22:59:15.599606Z",
     "iopub.status.busy": "2022-07-19T22:59:15.599475Z",
     "iopub.status.idle": "2022-07-19T22:59:15.605229Z",
     "shell.execute_reply": "2022-07-19T22:59:15.604941Z"
    },
    "tags": [
     "remove-cell"
    ]
   },
   "outputs": [
    {
     "data": {
      "text/html": [
       "\n",
       "<div id=\"altair-viz-4153367cf43a42f6a4c9fd118d8a9052\"></div>\n",
       "<script type=\"text/javascript\">\n",
       "  var VEGA_DEBUG = (typeof VEGA_DEBUG == \"undefined\") ? {} : VEGA_DEBUG;\n",
       "  (function(spec, embedOpt){\n",
       "    let outputDiv = document.currentScript.previousElementSibling;\n",
       "    if (outputDiv.id !== \"altair-viz-4153367cf43a42f6a4c9fd118d8a9052\") {\n",
       "      outputDiv = document.getElementById(\"altair-viz-4153367cf43a42f6a4c9fd118d8a9052\");\n",
       "    }\n",
       "    const paths = {\n",
       "      \"vega\": \"https://cdn.jsdelivr.net/npm//vega@5?noext\",\n",
       "      \"vega-lib\": \"https://cdn.jsdelivr.net/npm//vega-lib?noext\",\n",
       "      \"vega-lite\": \"https://cdn.jsdelivr.net/npm//vega-lite@4.17.0?noext\",\n",
       "      \"vega-embed\": \"https://cdn.jsdelivr.net/npm//vega-embed@6?noext\",\n",
       "    };\n",
       "\n",
       "    function maybeLoadScript(lib, version) {\n",
       "      var key = `${lib.replace(\"-\", \"\")}_version`;\n",
       "      return (VEGA_DEBUG[key] == version) ?\n",
       "        Promise.resolve(paths[lib]) :\n",
       "        new Promise(function(resolve, reject) {\n",
       "          var s = document.createElement('script');\n",
       "          document.getElementsByTagName(\"head\")[0].appendChild(s);\n",
       "          s.async = true;\n",
       "          s.onload = () => {\n",
       "            VEGA_DEBUG[key] = version;\n",
       "            return resolve(paths[lib]);\n",
       "          };\n",
       "          s.onerror = () => reject(`Error loading script: ${paths[lib]}`);\n",
       "          s.src = paths[lib];\n",
       "        });\n",
       "    }\n",
       "\n",
       "    function showError(err) {\n",
       "      outputDiv.innerHTML = `<div class=\"error\" style=\"color:red;\">${err}</div>`;\n",
       "      throw err;\n",
       "    }\n",
       "\n",
       "    function displayChart(vegaEmbed) {\n",
       "      vegaEmbed(outputDiv, spec, embedOpt)\n",
       "        .catch(err => showError(`Javascript Error: ${err.message}<br>This usually means there's a typo in your chart specification. See the javascript console for the full traceback.`));\n",
       "    }\n",
       "\n",
       "    if(typeof define === \"function\" && define.amd) {\n",
       "      requirejs.config({paths});\n",
       "      require([\"vega-embed\"], displayChart, err => showError(`Error loading script: ${err.message}`));\n",
       "    } else {\n",
       "      maybeLoadScript(\"vega\", \"5\")\n",
       "        .then(() => maybeLoadScript(\"vega-lite\", \"4.17.0\"))\n",
       "        .then(() => maybeLoadScript(\"vega-embed\", \"6\"))\n",
       "        .catch(showError)\n",
       "        .then(() => displayChart(vegaEmbed));\n",
       "    }\n",
       "  })({\"config\": {\"view\": {\"continuousWidth\": 400, \"continuousHeight\": 300}, \"axis\": {\"titleFontSize\": 12}}, \"data\": {\"name\": \"data-fc42ac9d8b1aea32d6771c4751ec3ae8\"}, \"mark\": {\"type\": \"bar\", \"color\": \"black\"}, \"encoding\": {\"color\": {\"field\": \"landmass_type\", \"title\": \"Type\", \"type\": \"nominal\"}, \"x\": {\"field\": \"size\", \"title\": \"Size (1000 square mi)\", \"type\": \"quantitative\"}, \"y\": {\"field\": \"landmass\", \"sort\": \"x\", \"title\": \"Landmass\", \"type\": \"nominal\"}}, \"$schema\": \"https://vega.github.io/schema/vega-lite/v4.17.0.json\", \"datasets\": {\"data-fc42ac9d8b1aea32d6771c4751ec3ae8\": [{\"landmass\": \"Asia\", \"size\": 16988, \"landmass_type\": \"Continent\"}, {\"landmass\": \"Africa\", \"size\": 11506, \"landmass_type\": \"Continent\"}, {\"landmass\": \"North America\", \"size\": 9390, \"landmass_type\": \"Continent\"}, {\"landmass\": \"South America\", \"size\": 6795, \"landmass_type\": \"Continent\"}, {\"landmass\": \"Antarctica\", \"size\": 5500, \"landmass_type\": \"Continent\"}, {\"landmass\": \"Europe\", \"size\": 3745, \"landmass_type\": \"Continent\"}, {\"landmass\": \"Australia\", \"size\": 2968, \"landmass_type\": \"Continent\"}, {\"landmass\": \"Greenland\", \"size\": 840, \"landmass_type\": \"Other\"}, {\"landmass\": \"New Guinea\", \"size\": 306, \"landmass_type\": \"Other\"}, {\"landmass\": \"Borneo\", \"size\": 280, \"landmass_type\": \"Other\"}, {\"landmass\": \"Madagascar\", \"size\": 227, \"landmass_type\": \"Other\"}, {\"landmass\": \"Baffin\", \"size\": 184, \"landmass_type\": \"Other\"}]}}, {\"mode\": \"vega-lite\"});\n",
       "</script>"
      ],
      "text/plain": [
       "alt.Chart(...)"
      ]
     },
     "metadata": {
      "scrapbook": {
       "mime_prefix": "",
       "name": "islands_plot_sorted"
      }
     },
     "output_type": "display_data"
    }
   ],
   "source": [
    "glue('islands_plot_sorted', islands_plot_sorted, display=True)"
   ]
  },
  {
   "cell_type": "markdown",
   "id": "e7869fed",
   "metadata": {},
   "source": [
    ":::{glue:figure} islands_plot_sorted\n",
    ":figwidth: 700px \n",
    ":name: islands_plot_sorted\n",
    "\n",
    "Bar plot of size for Earth's largest 12 landmasses colored by whether its a continent with clearer axes and labels.\n",
    ":::\n",
    "\n",
    "\n",
    "The plot in {numref}`islands_plot_sorted` is now a very effective\n",
    "visualization for answering our original questions. Landmasses are organized by\n",
    "their size, and continents are colored differently than other landmasses,\n",
    "making it quite clear that continents are the largest seven landmasses.\n",
    "\n",
    "### Histograms: the Michelson speed of light data set\n",
    "The `morley` data set \\index{Michelson speed of light} \n",
    "contains measurements of the speed of light \n",
    "collected in experiments performed in 1879.\n",
    "Five experiments were performed, \n",
    "and in each experiment, 20 runs were performed&mdash;meaning that \n",
    "20 measurements of the speed of light were collected \n",
    "in each experiment [@lightdata].\n",
    "\n",
    "Because the speed of light is a very large number \n",
    "(the true value is 299,792.458 km/sec), the data is coded\n",
    "to be the measured speed of light minus 299,000.\n",
    "This coding allows us to focus on the variations in the measurements, which are generally\n",
    "much smaller than 299,000.\n",
    "If we used the full large speed measurements, the variations in the measurements\n",
    "would not be noticeable, making it difficult to study the differences between the experiments.\n",
    "Note that we convert the `morley` data to a tibble to take advantage of the nicer print output \n",
    "these specialized data frames provide.\n",
    "\n",
    "**Question:** \\index{question!visualization} Given what we know now about the speed of \n",
    "light (299,792.458 kilometres per second), how accurate were each of the experiments?\n",
    "\n",
    "First, we read in the data."
   ]
  },
  {
   "cell_type": "code",
   "execution_count": 47,
   "id": "12d81f0d",
   "metadata": {
    "execution": {
     "iopub.execute_input": "2022-07-19T22:59:15.607078Z",
     "iopub.status.busy": "2022-07-19T22:59:15.606931Z",
     "iopub.status.idle": "2022-07-19T22:59:15.609921Z",
     "shell.execute_reply": "2022-07-19T22:59:15.609631Z"
    }
   },
   "outputs": [],
   "source": [
    "morley_df = pd.read_csv(\"data/morley.csv\")"
   ]
  },
  {
   "cell_type": "markdown",
   "id": "98ca47a4",
   "metadata": {},
   "source": [
    "In this experimental data, \n",
    "Michelson was trying to measure just a single quantitative number \n",
    "(the speed of light). \n",
    "The data set contains many measurements of this single quantity. \n",
    "\\index{distribution} \n",
    "To tell how accurate the experiments were, \n",
    "we need to visualize the distribution of the measurements \n",
    "(i.e., all their possible values and how often each occurs). \n",
    "We can do this using a *histogram*. \n",
    "A histogram \\index{ggplot!histogram} \n",
    "helps us visualize how a particular variable is distributed in a data set \n",
    "by separating the data into bins, \n",
    "and then using vertical bars to show how many data points fell in each bin. \n",
    "\n",
    "To create a histogram in `altair` we will use the `mark_bar` geometric\n",
    "object, setting the `x` axis to the `Speed` measurement variable and `y` axis to `count()`. As usual, \n",
    "let's use the default arguments just to see how things look."
   ]
  },
  {
   "cell_type": "code",
   "execution_count": 48,
   "id": "56def03c",
   "metadata": {
    "execution": {
     "iopub.execute_input": "2022-07-19T22:59:15.611693Z",
     "iopub.status.busy": "2022-07-19T22:59:15.611461Z",
     "iopub.status.idle": "2022-07-19T22:59:15.615945Z",
     "shell.execute_reply": "2022-07-19T22:59:15.615666Z"
    }
   },
   "outputs": [],
   "source": [
    "morley_hist = alt.Chart(morley_df).mark_bar().encode(\n",
    "    x = alt.X(\"Speed\"),  \n",
    "    y='count()')\n"
   ]
  },
  {
   "cell_type": "code",
   "execution_count": 49,
   "id": "4ab4f766",
   "metadata": {
    "execution": {
     "iopub.execute_input": "2022-07-19T22:59:15.617584Z",
     "iopub.status.busy": "2022-07-19T22:59:15.617472Z",
     "iopub.status.idle": "2022-07-19T22:59:15.622514Z",
     "shell.execute_reply": "2022-07-19T22:59:15.622238Z"
    },
    "tags": [
     "remove-cell"
    ]
   },
   "outputs": [
    {
     "data": {
      "application/papermill.record/text/html": "\n<div id=\"altair-viz-839658ec9c6d4a198d1a189bfe017c36\"></div>\n<script type=\"text/javascript\">\n  var VEGA_DEBUG = (typeof VEGA_DEBUG == \"undefined\") ? {} : VEGA_DEBUG;\n  (function(spec, embedOpt){\n    let outputDiv = document.currentScript.previousElementSibling;\n    if (outputDiv.id !== \"altair-viz-839658ec9c6d4a198d1a189bfe017c36\") {\n      outputDiv = document.getElementById(\"altair-viz-839658ec9c6d4a198d1a189bfe017c36\");\n    }\n    const paths = {\n      \"vega\": \"https://cdn.jsdelivr.net/npm//vega@5?noext\",\n      \"vega-lib\": \"https://cdn.jsdelivr.net/npm//vega-lib?noext\",\n      \"vega-lite\": \"https://cdn.jsdelivr.net/npm//vega-lite@4.17.0?noext\",\n      \"vega-embed\": \"https://cdn.jsdelivr.net/npm//vega-embed@6?noext\",\n    };\n\n    function maybeLoadScript(lib, version) {\n      var key = `${lib.replace(\"-\", \"\")}_version`;\n      return (VEGA_DEBUG[key] == version) ?\n        Promise.resolve(paths[lib]) :\n        new Promise(function(resolve, reject) {\n          var s = document.createElement('script');\n          document.getElementsByTagName(\"head\")[0].appendChild(s);\n          s.async = true;\n          s.onload = () => {\n            VEGA_DEBUG[key] = version;\n            return resolve(paths[lib]);\n          };\n          s.onerror = () => reject(`Error loading script: ${paths[lib]}`);\n          s.src = paths[lib];\n        });\n    }\n\n    function showError(err) {\n      outputDiv.innerHTML = `<div class=\"error\" style=\"color:red;\">${err}</div>`;\n      throw err;\n    }\n\n    function displayChart(vegaEmbed) {\n      vegaEmbed(outputDiv, spec, embedOpt)\n        .catch(err => showError(`Javascript Error: ${err.message}<br>This usually means there's a typo in your chart specification. See the javascript console for the full traceback.`));\n    }\n\n    if(typeof define === \"function\" && define.amd) {\n      requirejs.config({paths});\n      require([\"vega-embed\"], displayChart, err => showError(`Error loading script: ${err.message}`));\n    } else {\n      maybeLoadScript(\"vega\", \"5\")\n        .then(() => maybeLoadScript(\"vega-lite\", \"4.17.0\"))\n        .then(() => maybeLoadScript(\"vega-embed\", \"6\"))\n        .catch(showError)\n        .then(() => displayChart(vegaEmbed));\n    }\n  })({\"config\": {\"view\": {\"continuousWidth\": 400, \"continuousHeight\": 300}}, \"data\": {\"name\": \"data-9505d6e8ffc0fbd66f1f70f18ab69d65\"}, \"mark\": \"bar\", \"encoding\": {\"x\": {\"field\": \"Speed\", \"type\": \"quantitative\"}, \"y\": {\"aggregate\": \"count\", \"type\": \"quantitative\"}}, \"$schema\": \"https://vega.github.io/schema/vega-lite/v4.17.0.json\", \"datasets\": {\"data-9505d6e8ffc0fbd66f1f70f18ab69d65\": [{\"Expt\": 1, \"Run\": 1, \"Speed\": 850}, {\"Expt\": 1, \"Run\": 2, \"Speed\": 740}, {\"Expt\": 1, \"Run\": 3, \"Speed\": 900}, {\"Expt\": 1, \"Run\": 4, \"Speed\": 1070}, {\"Expt\": 1, \"Run\": 5, \"Speed\": 930}, {\"Expt\": 1, \"Run\": 6, \"Speed\": 850}, {\"Expt\": 1, \"Run\": 7, \"Speed\": 950}, {\"Expt\": 1, \"Run\": 8, \"Speed\": 980}, {\"Expt\": 1, \"Run\": 9, \"Speed\": 980}, {\"Expt\": 1, \"Run\": 10, \"Speed\": 880}, {\"Expt\": 1, \"Run\": 11, \"Speed\": 1000}, {\"Expt\": 1, \"Run\": 12, \"Speed\": 980}, {\"Expt\": 1, \"Run\": 13, \"Speed\": 930}, {\"Expt\": 1, \"Run\": 14, \"Speed\": 650}, {\"Expt\": 1, \"Run\": 15, \"Speed\": 760}, {\"Expt\": 1, \"Run\": 16, \"Speed\": 810}, {\"Expt\": 1, \"Run\": 17, \"Speed\": 1000}, {\"Expt\": 1, \"Run\": 18, \"Speed\": 1000}, {\"Expt\": 1, \"Run\": 19, \"Speed\": 960}, {\"Expt\": 1, \"Run\": 20, \"Speed\": 960}, {\"Expt\": 2, \"Run\": 1, \"Speed\": 960}, {\"Expt\": 2, \"Run\": 2, \"Speed\": 940}, {\"Expt\": 2, \"Run\": 3, \"Speed\": 960}, {\"Expt\": 2, \"Run\": 4, \"Speed\": 940}, {\"Expt\": 2, \"Run\": 5, \"Speed\": 880}, {\"Expt\": 2, \"Run\": 6, \"Speed\": 800}, {\"Expt\": 2, \"Run\": 7, \"Speed\": 850}, {\"Expt\": 2, \"Run\": 8, \"Speed\": 880}, {\"Expt\": 2, \"Run\": 9, \"Speed\": 900}, {\"Expt\": 2, \"Run\": 10, \"Speed\": 840}, {\"Expt\": 2, \"Run\": 11, \"Speed\": 830}, {\"Expt\": 2, \"Run\": 12, \"Speed\": 790}, {\"Expt\": 2, \"Run\": 13, \"Speed\": 810}, {\"Expt\": 2, \"Run\": 14, \"Speed\": 880}, {\"Expt\": 2, \"Run\": 15, \"Speed\": 880}, {\"Expt\": 2, \"Run\": 16, \"Speed\": 830}, {\"Expt\": 2, \"Run\": 17, \"Speed\": 800}, {\"Expt\": 2, \"Run\": 18, \"Speed\": 790}, {\"Expt\": 2, \"Run\": 19, \"Speed\": 760}, {\"Expt\": 2, \"Run\": 20, \"Speed\": 800}, {\"Expt\": 3, \"Run\": 1, \"Speed\": 880}, {\"Expt\": 3, \"Run\": 2, \"Speed\": 880}, {\"Expt\": 3, \"Run\": 3, \"Speed\": 880}, {\"Expt\": 3, \"Run\": 4, \"Speed\": 860}, {\"Expt\": 3, \"Run\": 5, \"Speed\": 720}, {\"Expt\": 3, \"Run\": 6, \"Speed\": 720}, {\"Expt\": 3, \"Run\": 7, \"Speed\": 620}, {\"Expt\": 3, \"Run\": 8, \"Speed\": 860}, {\"Expt\": 3, \"Run\": 9, \"Speed\": 970}, {\"Expt\": 3, \"Run\": 10, \"Speed\": 950}, {\"Expt\": 3, \"Run\": 11, \"Speed\": 880}, {\"Expt\": 3, \"Run\": 12, \"Speed\": 910}, {\"Expt\": 3, \"Run\": 13, \"Speed\": 850}, {\"Expt\": 3, \"Run\": 14, \"Speed\": 870}, {\"Expt\": 3, \"Run\": 15, \"Speed\": 840}, {\"Expt\": 3, \"Run\": 16, \"Speed\": 840}, {\"Expt\": 3, \"Run\": 17, \"Speed\": 850}, {\"Expt\": 3, \"Run\": 18, \"Speed\": 840}, {\"Expt\": 3, \"Run\": 19, \"Speed\": 840}, {\"Expt\": 3, \"Run\": 20, \"Speed\": 840}, {\"Expt\": 4, \"Run\": 1, \"Speed\": 890}, {\"Expt\": 4, \"Run\": 2, \"Speed\": 810}, {\"Expt\": 4, \"Run\": 3, \"Speed\": 810}, {\"Expt\": 4, \"Run\": 4, \"Speed\": 820}, {\"Expt\": 4, \"Run\": 5, \"Speed\": 800}, {\"Expt\": 4, \"Run\": 6, \"Speed\": 770}, {\"Expt\": 4, \"Run\": 7, \"Speed\": 760}, {\"Expt\": 4, \"Run\": 8, \"Speed\": 740}, {\"Expt\": 4, \"Run\": 9, \"Speed\": 750}, {\"Expt\": 4, \"Run\": 10, \"Speed\": 760}, {\"Expt\": 4, \"Run\": 11, \"Speed\": 910}, {\"Expt\": 4, \"Run\": 12, \"Speed\": 920}, {\"Expt\": 4, \"Run\": 13, \"Speed\": 890}, {\"Expt\": 4, \"Run\": 14, \"Speed\": 860}, {\"Expt\": 4, \"Run\": 15, \"Speed\": 880}, {\"Expt\": 4, \"Run\": 16, \"Speed\": 720}, {\"Expt\": 4, \"Run\": 17, \"Speed\": 840}, {\"Expt\": 4, \"Run\": 18, \"Speed\": 850}, {\"Expt\": 4, \"Run\": 19, \"Speed\": 850}, {\"Expt\": 4, \"Run\": 20, \"Speed\": 780}, {\"Expt\": 5, \"Run\": 1, \"Speed\": 890}, {\"Expt\": 5, \"Run\": 2, \"Speed\": 840}, {\"Expt\": 5, \"Run\": 3, \"Speed\": 780}, {\"Expt\": 5, \"Run\": 4, \"Speed\": 810}, {\"Expt\": 5, \"Run\": 5, \"Speed\": 760}, {\"Expt\": 5, \"Run\": 6, \"Speed\": 810}, {\"Expt\": 5, \"Run\": 7, \"Speed\": 790}, {\"Expt\": 5, \"Run\": 8, \"Speed\": 810}, {\"Expt\": 5, \"Run\": 9, \"Speed\": 820}, {\"Expt\": 5, \"Run\": 10, \"Speed\": 850}, {\"Expt\": 5, \"Run\": 11, \"Speed\": 870}, {\"Expt\": 5, \"Run\": 12, \"Speed\": 870}, {\"Expt\": 5, \"Run\": 13, \"Speed\": 810}, {\"Expt\": 5, \"Run\": 14, \"Speed\": 740}, {\"Expt\": 5, \"Run\": 15, \"Speed\": 810}, {\"Expt\": 5, \"Run\": 16, \"Speed\": 940}, {\"Expt\": 5, \"Run\": 17, \"Speed\": 950}, {\"Expt\": 5, \"Run\": 18, \"Speed\": 800}, {\"Expt\": 5, \"Run\": 19, \"Speed\": 810}, {\"Expt\": 5, \"Run\": 20, \"Speed\": 870}]}}, {\"mode\": \"vega-lite\"});\n</script>",
      "application/papermill.record/text/plain": "alt.Chart(...)"
     },
     "metadata": {
      "scrapbook": {
       "mime_prefix": "application/papermill.record/",
       "name": "morley_hist"
      }
     },
     "output_type": "display_data"
    }
   ],
   "source": [
    "glue('morley_hist', morley_hist, display=False)"
   ]
  },
  {
   "cell_type": "markdown",
   "id": "c5c6ed6c",
   "metadata": {},
   "source": [
    ":::{glue:figure} morley_hist\n",
    ":figwidth: 700px \n",
    ":name: morley_hist\n",
    "\n",
    "Histogram of Michelson's speed of light data.\n",
    ":::\n",
    "\n",
    "\n",
    "\n",
    "{numref}`morley_hist` is a great start. \n",
    "However, \n",
    "we cannot tell how accurate the measurements are using this visualization \n",
    "unless we can see the true value.\n",
    "In order to visualize the true speed of light, \n",
    "we will add a vertical line with the `mark_rule` function.\n",
    "To draw a vertical line with `mark_rule`,  \\index{ggplot!geom\\_vline}\n",
    "we need to specify where on the x-axis the line should be drawn. \n",
    "We can do this by creating a dataframe with just one column with value `792.458`, which is the true value of light speed \n",
    "minus 299,000 and encoding it in the `x` axis; this ensures it is coded the same way as the \n",
    "measurements in the `morley` data frame.\n",
    "We would also like to fine tune this vertical line, \n",
    "styling it so that it is dashed and 1 point in thickness.\n",
    "A point is a measurement unit commonly used with fonts, \n",
    "and 1 point is about 0.353 mm. \n",
    "We do this by setting `strokeDash=[3,3]` and `size = 1`, respectively. \n",
    "\n",
    "Similarly, a horizontal line can be plotted using the `y` axis encoding and the dataframe with one value, which would act as the be the y-intercept\n",
    "\n",
    "Note that \n",
    "*vertical lines* are used to denote quantities on the *horizontal axis*, \n",
    "while *horizontal lines* are used to denote quantities on the *vertical axis*. \n",
    "\n",
    "To add the dashed line on top of the histogram, we will use the `+` operator. This concept is also known as layering in altair.(This is covered in the later sections of the chapter). Here, we add the `mark_rule` chart on the `morley_hist` chart of the form `mark_bar`"
   ]
  },
  {
   "cell_type": "code",
   "execution_count": 50,
   "id": "524e59d5",
   "metadata": {
    "execution": {
     "iopub.execute_input": "2022-07-19T22:59:15.624305Z",
     "iopub.status.busy": "2022-07-19T22:59:15.624169Z",
     "iopub.status.idle": "2022-07-19T22:59:15.629303Z",
     "shell.execute_reply": "2022-07-19T22:59:15.629017Z"
    }
   },
   "outputs": [],
   "source": [
    "v_line = alt.Chart(pd.DataFrame({'x': [792.458]})).mark_rule(\n",
    "    strokeDash=[3,3], size=1).encode(\n",
    "    x='x')\n",
    "\n",
    "\n",
    "final_plot = morley_hist + v_line\n"
   ]
  },
  {
   "cell_type": "code",
   "execution_count": 51,
   "id": "5215a664",
   "metadata": {
    "execution": {
     "iopub.execute_input": "2022-07-19T22:59:15.630960Z",
     "iopub.status.busy": "2022-07-19T22:59:15.630848Z",
     "iopub.status.idle": "2022-07-19T22:59:15.637057Z",
     "shell.execute_reply": "2022-07-19T22:59:15.636750Z"
    },
    "tags": [
     "remove-cell"
    ]
   },
   "outputs": [
    {
     "data": {
      "application/papermill.record/text/html": "\n<div id=\"altair-viz-3942573b82e2469c91a8d95f736e12dc\"></div>\n<script type=\"text/javascript\">\n  var VEGA_DEBUG = (typeof VEGA_DEBUG == \"undefined\") ? {} : VEGA_DEBUG;\n  (function(spec, embedOpt){\n    let outputDiv = document.currentScript.previousElementSibling;\n    if (outputDiv.id !== \"altair-viz-3942573b82e2469c91a8d95f736e12dc\") {\n      outputDiv = document.getElementById(\"altair-viz-3942573b82e2469c91a8d95f736e12dc\");\n    }\n    const paths = {\n      \"vega\": \"https://cdn.jsdelivr.net/npm//vega@5?noext\",\n      \"vega-lib\": \"https://cdn.jsdelivr.net/npm//vega-lib?noext\",\n      \"vega-lite\": \"https://cdn.jsdelivr.net/npm//vega-lite@4.17.0?noext\",\n      \"vega-embed\": \"https://cdn.jsdelivr.net/npm//vega-embed@6?noext\",\n    };\n\n    function maybeLoadScript(lib, version) {\n      var key = `${lib.replace(\"-\", \"\")}_version`;\n      return (VEGA_DEBUG[key] == version) ?\n        Promise.resolve(paths[lib]) :\n        new Promise(function(resolve, reject) {\n          var s = document.createElement('script');\n          document.getElementsByTagName(\"head\")[0].appendChild(s);\n          s.async = true;\n          s.onload = () => {\n            VEGA_DEBUG[key] = version;\n            return resolve(paths[lib]);\n          };\n          s.onerror = () => reject(`Error loading script: ${paths[lib]}`);\n          s.src = paths[lib];\n        });\n    }\n\n    function showError(err) {\n      outputDiv.innerHTML = `<div class=\"error\" style=\"color:red;\">${err}</div>`;\n      throw err;\n    }\n\n    function displayChart(vegaEmbed) {\n      vegaEmbed(outputDiv, spec, embedOpt)\n        .catch(err => showError(`Javascript Error: ${err.message}<br>This usually means there's a typo in your chart specification. See the javascript console for the full traceback.`));\n    }\n\n    if(typeof define === \"function\" && define.amd) {\n      requirejs.config({paths});\n      require([\"vega-embed\"], displayChart, err => showError(`Error loading script: ${err.message}`));\n    } else {\n      maybeLoadScript(\"vega\", \"5\")\n        .then(() => maybeLoadScript(\"vega-lite\", \"4.17.0\"))\n        .then(() => maybeLoadScript(\"vega-embed\", \"6\"))\n        .catch(showError)\n        .then(() => displayChart(vegaEmbed));\n    }\n  })({\"config\": {\"view\": {\"continuousWidth\": 400, \"continuousHeight\": 300}}, \"layer\": [{\"data\": {\"name\": \"data-9505d6e8ffc0fbd66f1f70f18ab69d65\"}, \"mark\": \"bar\", \"encoding\": {\"x\": {\"field\": \"Speed\", \"type\": \"quantitative\"}, \"y\": {\"aggregate\": \"count\", \"type\": \"quantitative\"}}}, {\"data\": {\"name\": \"data-623ad424afb61a0fae69b38cf4c35612\"}, \"mark\": {\"type\": \"rule\", \"size\": 1, \"strokeDash\": [3, 3]}, \"encoding\": {\"x\": {\"field\": \"x\", \"type\": \"quantitative\"}}}], \"$schema\": \"https://vega.github.io/schema/vega-lite/v4.17.0.json\", \"datasets\": {\"data-9505d6e8ffc0fbd66f1f70f18ab69d65\": [{\"Expt\": 1, \"Run\": 1, \"Speed\": 850}, {\"Expt\": 1, \"Run\": 2, \"Speed\": 740}, {\"Expt\": 1, \"Run\": 3, \"Speed\": 900}, {\"Expt\": 1, \"Run\": 4, \"Speed\": 1070}, {\"Expt\": 1, \"Run\": 5, \"Speed\": 930}, {\"Expt\": 1, \"Run\": 6, \"Speed\": 850}, {\"Expt\": 1, \"Run\": 7, \"Speed\": 950}, {\"Expt\": 1, \"Run\": 8, \"Speed\": 980}, {\"Expt\": 1, \"Run\": 9, \"Speed\": 980}, {\"Expt\": 1, \"Run\": 10, \"Speed\": 880}, {\"Expt\": 1, \"Run\": 11, \"Speed\": 1000}, {\"Expt\": 1, \"Run\": 12, \"Speed\": 980}, {\"Expt\": 1, \"Run\": 13, \"Speed\": 930}, {\"Expt\": 1, \"Run\": 14, \"Speed\": 650}, {\"Expt\": 1, \"Run\": 15, \"Speed\": 760}, {\"Expt\": 1, \"Run\": 16, \"Speed\": 810}, {\"Expt\": 1, \"Run\": 17, \"Speed\": 1000}, {\"Expt\": 1, \"Run\": 18, \"Speed\": 1000}, {\"Expt\": 1, \"Run\": 19, \"Speed\": 960}, {\"Expt\": 1, \"Run\": 20, \"Speed\": 960}, {\"Expt\": 2, \"Run\": 1, \"Speed\": 960}, {\"Expt\": 2, \"Run\": 2, \"Speed\": 940}, {\"Expt\": 2, \"Run\": 3, \"Speed\": 960}, {\"Expt\": 2, \"Run\": 4, \"Speed\": 940}, {\"Expt\": 2, \"Run\": 5, \"Speed\": 880}, {\"Expt\": 2, \"Run\": 6, \"Speed\": 800}, {\"Expt\": 2, \"Run\": 7, \"Speed\": 850}, {\"Expt\": 2, \"Run\": 8, \"Speed\": 880}, {\"Expt\": 2, \"Run\": 9, \"Speed\": 900}, {\"Expt\": 2, \"Run\": 10, \"Speed\": 840}, {\"Expt\": 2, \"Run\": 11, \"Speed\": 830}, {\"Expt\": 2, \"Run\": 12, \"Speed\": 790}, {\"Expt\": 2, \"Run\": 13, \"Speed\": 810}, {\"Expt\": 2, \"Run\": 14, \"Speed\": 880}, {\"Expt\": 2, \"Run\": 15, \"Speed\": 880}, {\"Expt\": 2, \"Run\": 16, \"Speed\": 830}, {\"Expt\": 2, \"Run\": 17, \"Speed\": 800}, {\"Expt\": 2, \"Run\": 18, \"Speed\": 790}, {\"Expt\": 2, \"Run\": 19, \"Speed\": 760}, {\"Expt\": 2, \"Run\": 20, \"Speed\": 800}, {\"Expt\": 3, \"Run\": 1, \"Speed\": 880}, {\"Expt\": 3, \"Run\": 2, \"Speed\": 880}, {\"Expt\": 3, \"Run\": 3, \"Speed\": 880}, {\"Expt\": 3, \"Run\": 4, \"Speed\": 860}, {\"Expt\": 3, \"Run\": 5, \"Speed\": 720}, {\"Expt\": 3, \"Run\": 6, \"Speed\": 720}, {\"Expt\": 3, \"Run\": 7, \"Speed\": 620}, {\"Expt\": 3, \"Run\": 8, \"Speed\": 860}, {\"Expt\": 3, \"Run\": 9, \"Speed\": 970}, {\"Expt\": 3, \"Run\": 10, \"Speed\": 950}, {\"Expt\": 3, \"Run\": 11, \"Speed\": 880}, {\"Expt\": 3, \"Run\": 12, \"Speed\": 910}, {\"Expt\": 3, \"Run\": 13, \"Speed\": 850}, {\"Expt\": 3, \"Run\": 14, \"Speed\": 870}, {\"Expt\": 3, \"Run\": 15, \"Speed\": 840}, {\"Expt\": 3, \"Run\": 16, \"Speed\": 840}, {\"Expt\": 3, \"Run\": 17, \"Speed\": 850}, {\"Expt\": 3, \"Run\": 18, \"Speed\": 840}, {\"Expt\": 3, \"Run\": 19, \"Speed\": 840}, {\"Expt\": 3, \"Run\": 20, \"Speed\": 840}, {\"Expt\": 4, \"Run\": 1, \"Speed\": 890}, {\"Expt\": 4, \"Run\": 2, \"Speed\": 810}, {\"Expt\": 4, \"Run\": 3, \"Speed\": 810}, {\"Expt\": 4, \"Run\": 4, \"Speed\": 820}, {\"Expt\": 4, \"Run\": 5, \"Speed\": 800}, {\"Expt\": 4, \"Run\": 6, \"Speed\": 770}, {\"Expt\": 4, \"Run\": 7, \"Speed\": 760}, {\"Expt\": 4, \"Run\": 8, \"Speed\": 740}, {\"Expt\": 4, \"Run\": 9, \"Speed\": 750}, {\"Expt\": 4, \"Run\": 10, \"Speed\": 760}, {\"Expt\": 4, \"Run\": 11, \"Speed\": 910}, {\"Expt\": 4, \"Run\": 12, \"Speed\": 920}, {\"Expt\": 4, \"Run\": 13, \"Speed\": 890}, {\"Expt\": 4, \"Run\": 14, \"Speed\": 860}, {\"Expt\": 4, \"Run\": 15, \"Speed\": 880}, {\"Expt\": 4, \"Run\": 16, \"Speed\": 720}, {\"Expt\": 4, \"Run\": 17, \"Speed\": 840}, {\"Expt\": 4, \"Run\": 18, \"Speed\": 850}, {\"Expt\": 4, \"Run\": 19, \"Speed\": 850}, {\"Expt\": 4, \"Run\": 20, \"Speed\": 780}, {\"Expt\": 5, \"Run\": 1, \"Speed\": 890}, {\"Expt\": 5, \"Run\": 2, \"Speed\": 840}, {\"Expt\": 5, \"Run\": 3, \"Speed\": 780}, {\"Expt\": 5, \"Run\": 4, \"Speed\": 810}, {\"Expt\": 5, \"Run\": 5, \"Speed\": 760}, {\"Expt\": 5, \"Run\": 6, \"Speed\": 810}, {\"Expt\": 5, \"Run\": 7, \"Speed\": 790}, {\"Expt\": 5, \"Run\": 8, \"Speed\": 810}, {\"Expt\": 5, \"Run\": 9, \"Speed\": 820}, {\"Expt\": 5, \"Run\": 10, \"Speed\": 850}, {\"Expt\": 5, \"Run\": 11, \"Speed\": 870}, {\"Expt\": 5, \"Run\": 12, \"Speed\": 870}, {\"Expt\": 5, \"Run\": 13, \"Speed\": 810}, {\"Expt\": 5, \"Run\": 14, \"Speed\": 740}, {\"Expt\": 5, \"Run\": 15, \"Speed\": 810}, {\"Expt\": 5, \"Run\": 16, \"Speed\": 940}, {\"Expt\": 5, \"Run\": 17, \"Speed\": 950}, {\"Expt\": 5, \"Run\": 18, \"Speed\": 800}, {\"Expt\": 5, \"Run\": 19, \"Speed\": 810}, {\"Expt\": 5, \"Run\": 20, \"Speed\": 870}], \"data-623ad424afb61a0fae69b38cf4c35612\": [{\"x\": 792.458}]}}, {\"mode\": \"vega-lite\"});\n</script>",
      "application/papermill.record/text/plain": "alt.LayerChart(...)"
     },
     "metadata": {
      "scrapbook": {
       "mime_prefix": "application/papermill.record/",
       "name": "final_plot"
      }
     },
     "output_type": "display_data"
    }
   ],
   "source": [
    "glue('final_plot', final_plot, display=False)"
   ]
  },
  {
   "cell_type": "markdown",
   "id": "25ea7a5f",
   "metadata": {},
   "source": [
    ":::{glue:figure} final_plot\n",
    ":figwidth: 700px \n",
    ":name: final_plot\n",
    "\n",
    "Histogram of Michelson's speed of light data with vertical line indicating true speed of light.\n",
    ":::\n",
    "\n",
    "In {numref}`final_plot`, \n",
    "we still cannot tell which experiments (denoted in the `Expt` column) \n",
    "led to which measurements; \n",
    "perhaps some experiments were more accurate than others. \n",
    "To fully answer our question, \n",
    "we need to separate the measurements from each other visually. \n",
    "We can try to do this using a *colored* histogram, \n",
    "where counts from different experiments are stacked on top of each other \n",
    "in different colors. \n",
    "We can create a histogram colored by the `Expt` variable \n",
    "by adding it to the `color` argument. \n",
    "We make sure the different colors can be seen \n",
    "(despite them all sitting on top of each other) \n",
    "by setting the `opacity` argument in `mark_bar` to `0.5` \n",
    "to make the bars slightly translucent."
   ]
  },
  {
   "cell_type": "code",
   "execution_count": 52,
   "id": "e8a9501e",
   "metadata": {
    "execution": {
     "iopub.execute_input": "2022-07-19T22:59:15.638813Z",
     "iopub.status.busy": "2022-07-19T22:59:15.638679Z",
     "iopub.status.idle": "2022-07-19T22:59:15.643640Z",
     "shell.execute_reply": "2022-07-19T22:59:15.643359Z"
    }
   },
   "outputs": [],
   "source": [
    "morley_hist_colored = alt.Chart(morley_df).mark_bar(opacity=0.5).encode(\n",
    "    x = alt.X(\"Speed\"), \n",
    "    y=alt.Y('count()'),\n",
    "    color = \"Expt\")\n",
    "\n",
    "final_plot_colored = morley_hist_colored + v_line\n"
   ]
  },
  {
   "cell_type": "code",
   "execution_count": 53,
   "id": "28590575",
   "metadata": {
    "execution": {
     "iopub.execute_input": "2022-07-19T22:59:15.645290Z",
     "iopub.status.busy": "2022-07-19T22:59:15.645170Z",
     "iopub.status.idle": "2022-07-19T22:59:15.651739Z",
     "shell.execute_reply": "2022-07-19T22:59:15.651441Z"
    },
    "tags": [
     "remove-cell"
    ]
   },
   "outputs": [
    {
     "data": {
      "text/html": [
       "\n",
       "<div id=\"altair-viz-c876d2e5b8d242e8bcb015569a1eec94\"></div>\n",
       "<script type=\"text/javascript\">\n",
       "  var VEGA_DEBUG = (typeof VEGA_DEBUG == \"undefined\") ? {} : VEGA_DEBUG;\n",
       "  (function(spec, embedOpt){\n",
       "    let outputDiv = document.currentScript.previousElementSibling;\n",
       "    if (outputDiv.id !== \"altair-viz-c876d2e5b8d242e8bcb015569a1eec94\") {\n",
       "      outputDiv = document.getElementById(\"altair-viz-c876d2e5b8d242e8bcb015569a1eec94\");\n",
       "    }\n",
       "    const paths = {\n",
       "      \"vega\": \"https://cdn.jsdelivr.net/npm//vega@5?noext\",\n",
       "      \"vega-lib\": \"https://cdn.jsdelivr.net/npm//vega-lib?noext\",\n",
       "      \"vega-lite\": \"https://cdn.jsdelivr.net/npm//vega-lite@4.17.0?noext\",\n",
       "      \"vega-embed\": \"https://cdn.jsdelivr.net/npm//vega-embed@6?noext\",\n",
       "    };\n",
       "\n",
       "    function maybeLoadScript(lib, version) {\n",
       "      var key = `${lib.replace(\"-\", \"\")}_version`;\n",
       "      return (VEGA_DEBUG[key] == version) ?\n",
       "        Promise.resolve(paths[lib]) :\n",
       "        new Promise(function(resolve, reject) {\n",
       "          var s = document.createElement('script');\n",
       "          document.getElementsByTagName(\"head\")[0].appendChild(s);\n",
       "          s.async = true;\n",
       "          s.onload = () => {\n",
       "            VEGA_DEBUG[key] = version;\n",
       "            return resolve(paths[lib]);\n",
       "          };\n",
       "          s.onerror = () => reject(`Error loading script: ${paths[lib]}`);\n",
       "          s.src = paths[lib];\n",
       "        });\n",
       "    }\n",
       "\n",
       "    function showError(err) {\n",
       "      outputDiv.innerHTML = `<div class=\"error\" style=\"color:red;\">${err}</div>`;\n",
       "      throw err;\n",
       "    }\n",
       "\n",
       "    function displayChart(vegaEmbed) {\n",
       "      vegaEmbed(outputDiv, spec, embedOpt)\n",
       "        .catch(err => showError(`Javascript Error: ${err.message}<br>This usually means there's a typo in your chart specification. See the javascript console for the full traceback.`));\n",
       "    }\n",
       "\n",
       "    if(typeof define === \"function\" && define.amd) {\n",
       "      requirejs.config({paths});\n",
       "      require([\"vega-embed\"], displayChart, err => showError(`Error loading script: ${err.message}`));\n",
       "    } else {\n",
       "      maybeLoadScript(\"vega\", \"5\")\n",
       "        .then(() => maybeLoadScript(\"vega-lite\", \"4.17.0\"))\n",
       "        .then(() => maybeLoadScript(\"vega-embed\", \"6\"))\n",
       "        .catch(showError)\n",
       "        .then(() => displayChart(vegaEmbed));\n",
       "    }\n",
       "  })({\"config\": {\"view\": {\"continuousWidth\": 400, \"continuousHeight\": 300}}, \"layer\": [{\"data\": {\"name\": \"data-9505d6e8ffc0fbd66f1f70f18ab69d65\"}, \"mark\": {\"type\": \"bar\", \"opacity\": 0.5}, \"encoding\": {\"color\": {\"field\": \"Expt\", \"type\": \"quantitative\"}, \"x\": {\"field\": \"Speed\", \"type\": \"quantitative\"}, \"y\": {\"aggregate\": \"count\", \"type\": \"quantitative\"}}}, {\"data\": {\"name\": \"data-623ad424afb61a0fae69b38cf4c35612\"}, \"mark\": {\"type\": \"rule\", \"size\": 1, \"strokeDash\": [3, 3]}, \"encoding\": {\"x\": {\"field\": \"x\", \"type\": \"quantitative\"}}}], \"$schema\": \"https://vega.github.io/schema/vega-lite/v4.17.0.json\", \"datasets\": {\"data-9505d6e8ffc0fbd66f1f70f18ab69d65\": [{\"Expt\": 1, \"Run\": 1, \"Speed\": 850}, {\"Expt\": 1, \"Run\": 2, \"Speed\": 740}, {\"Expt\": 1, \"Run\": 3, \"Speed\": 900}, {\"Expt\": 1, \"Run\": 4, \"Speed\": 1070}, {\"Expt\": 1, \"Run\": 5, \"Speed\": 930}, {\"Expt\": 1, \"Run\": 6, \"Speed\": 850}, {\"Expt\": 1, \"Run\": 7, \"Speed\": 950}, {\"Expt\": 1, \"Run\": 8, \"Speed\": 980}, {\"Expt\": 1, \"Run\": 9, \"Speed\": 980}, {\"Expt\": 1, \"Run\": 10, \"Speed\": 880}, {\"Expt\": 1, \"Run\": 11, \"Speed\": 1000}, {\"Expt\": 1, \"Run\": 12, \"Speed\": 980}, {\"Expt\": 1, \"Run\": 13, \"Speed\": 930}, {\"Expt\": 1, \"Run\": 14, \"Speed\": 650}, {\"Expt\": 1, \"Run\": 15, \"Speed\": 760}, {\"Expt\": 1, \"Run\": 16, \"Speed\": 810}, {\"Expt\": 1, \"Run\": 17, \"Speed\": 1000}, {\"Expt\": 1, \"Run\": 18, \"Speed\": 1000}, {\"Expt\": 1, \"Run\": 19, \"Speed\": 960}, {\"Expt\": 1, \"Run\": 20, \"Speed\": 960}, {\"Expt\": 2, \"Run\": 1, \"Speed\": 960}, {\"Expt\": 2, \"Run\": 2, \"Speed\": 940}, {\"Expt\": 2, \"Run\": 3, \"Speed\": 960}, {\"Expt\": 2, \"Run\": 4, \"Speed\": 940}, {\"Expt\": 2, \"Run\": 5, \"Speed\": 880}, {\"Expt\": 2, \"Run\": 6, \"Speed\": 800}, {\"Expt\": 2, \"Run\": 7, \"Speed\": 850}, {\"Expt\": 2, \"Run\": 8, \"Speed\": 880}, {\"Expt\": 2, \"Run\": 9, \"Speed\": 900}, {\"Expt\": 2, \"Run\": 10, \"Speed\": 840}, {\"Expt\": 2, \"Run\": 11, \"Speed\": 830}, {\"Expt\": 2, \"Run\": 12, \"Speed\": 790}, {\"Expt\": 2, \"Run\": 13, \"Speed\": 810}, {\"Expt\": 2, \"Run\": 14, \"Speed\": 880}, {\"Expt\": 2, \"Run\": 15, \"Speed\": 880}, {\"Expt\": 2, \"Run\": 16, \"Speed\": 830}, {\"Expt\": 2, \"Run\": 17, \"Speed\": 800}, {\"Expt\": 2, \"Run\": 18, \"Speed\": 790}, {\"Expt\": 2, \"Run\": 19, \"Speed\": 760}, {\"Expt\": 2, \"Run\": 20, \"Speed\": 800}, {\"Expt\": 3, \"Run\": 1, \"Speed\": 880}, {\"Expt\": 3, \"Run\": 2, \"Speed\": 880}, {\"Expt\": 3, \"Run\": 3, \"Speed\": 880}, {\"Expt\": 3, \"Run\": 4, \"Speed\": 860}, {\"Expt\": 3, \"Run\": 5, \"Speed\": 720}, {\"Expt\": 3, \"Run\": 6, \"Speed\": 720}, {\"Expt\": 3, \"Run\": 7, \"Speed\": 620}, {\"Expt\": 3, \"Run\": 8, \"Speed\": 860}, {\"Expt\": 3, \"Run\": 9, \"Speed\": 970}, {\"Expt\": 3, \"Run\": 10, \"Speed\": 950}, {\"Expt\": 3, \"Run\": 11, \"Speed\": 880}, {\"Expt\": 3, \"Run\": 12, \"Speed\": 910}, {\"Expt\": 3, \"Run\": 13, \"Speed\": 850}, {\"Expt\": 3, \"Run\": 14, \"Speed\": 870}, {\"Expt\": 3, \"Run\": 15, \"Speed\": 840}, {\"Expt\": 3, \"Run\": 16, \"Speed\": 840}, {\"Expt\": 3, \"Run\": 17, \"Speed\": 850}, {\"Expt\": 3, \"Run\": 18, \"Speed\": 840}, {\"Expt\": 3, \"Run\": 19, \"Speed\": 840}, {\"Expt\": 3, \"Run\": 20, \"Speed\": 840}, {\"Expt\": 4, \"Run\": 1, \"Speed\": 890}, {\"Expt\": 4, \"Run\": 2, \"Speed\": 810}, {\"Expt\": 4, \"Run\": 3, \"Speed\": 810}, {\"Expt\": 4, \"Run\": 4, \"Speed\": 820}, {\"Expt\": 4, \"Run\": 5, \"Speed\": 800}, {\"Expt\": 4, \"Run\": 6, \"Speed\": 770}, {\"Expt\": 4, \"Run\": 7, \"Speed\": 760}, {\"Expt\": 4, \"Run\": 8, \"Speed\": 740}, {\"Expt\": 4, \"Run\": 9, \"Speed\": 750}, {\"Expt\": 4, \"Run\": 10, \"Speed\": 760}, {\"Expt\": 4, \"Run\": 11, \"Speed\": 910}, {\"Expt\": 4, \"Run\": 12, \"Speed\": 920}, {\"Expt\": 4, \"Run\": 13, \"Speed\": 890}, {\"Expt\": 4, \"Run\": 14, \"Speed\": 860}, {\"Expt\": 4, \"Run\": 15, \"Speed\": 880}, {\"Expt\": 4, \"Run\": 16, \"Speed\": 720}, {\"Expt\": 4, \"Run\": 17, \"Speed\": 840}, {\"Expt\": 4, \"Run\": 18, \"Speed\": 850}, {\"Expt\": 4, \"Run\": 19, \"Speed\": 850}, {\"Expt\": 4, \"Run\": 20, \"Speed\": 780}, {\"Expt\": 5, \"Run\": 1, \"Speed\": 890}, {\"Expt\": 5, \"Run\": 2, \"Speed\": 840}, {\"Expt\": 5, \"Run\": 3, \"Speed\": 780}, {\"Expt\": 5, \"Run\": 4, \"Speed\": 810}, {\"Expt\": 5, \"Run\": 5, \"Speed\": 760}, {\"Expt\": 5, \"Run\": 6, \"Speed\": 810}, {\"Expt\": 5, \"Run\": 7, \"Speed\": 790}, {\"Expt\": 5, \"Run\": 8, \"Speed\": 810}, {\"Expt\": 5, \"Run\": 9, \"Speed\": 820}, {\"Expt\": 5, \"Run\": 10, \"Speed\": 850}, {\"Expt\": 5, \"Run\": 11, \"Speed\": 870}, {\"Expt\": 5, \"Run\": 12, \"Speed\": 870}, {\"Expt\": 5, \"Run\": 13, \"Speed\": 810}, {\"Expt\": 5, \"Run\": 14, \"Speed\": 740}, {\"Expt\": 5, \"Run\": 15, \"Speed\": 810}, {\"Expt\": 5, \"Run\": 16, \"Speed\": 940}, {\"Expt\": 5, \"Run\": 17, \"Speed\": 950}, {\"Expt\": 5, \"Run\": 18, \"Speed\": 800}, {\"Expt\": 5, \"Run\": 19, \"Speed\": 810}, {\"Expt\": 5, \"Run\": 20, \"Speed\": 870}], \"data-623ad424afb61a0fae69b38cf4c35612\": [{\"x\": 792.458}]}}, {\"mode\": \"vega-lite\"});\n",
       "</script>"
      ],
      "text/plain": [
       "alt.LayerChart(...)"
      ]
     },
     "metadata": {
      "scrapbook": {
       "mime_prefix": "",
       "name": "final_plot_colored"
      }
     },
     "output_type": "display_data"
    }
   ],
   "source": [
    "glue('final_plot_colored', final_plot_colored, display=True)"
   ]
  },
  {
   "cell_type": "markdown",
   "id": "226cb533",
   "metadata": {},
   "source": [
    ":::{glue:figure} final_plot_colored\n",
    ":figwidth: 700px \n",
    ":name: final_plot_colored\n",
    "\n",
    "Histogram of Michelson's speed of light data colored by experiment.\n",
    ":::\n",
    "\n",
    "Alright great, {numref}`final_plot_colored` looks...wait a second! We are not able to distinguish \n",
    "between different Experiments in the histogram! What is going on here? Well, if you \n",
    "recall from Chapter \\@ref(wrangling), the *data type* you use for each variable\n",
    "can influence how Python and `altair` treats it. Here, we indeed have an issue\n",
    "with the data types in the `morley` data frame. In particular, the `Expt` column\n",
    "is currently an *integer*. But we want to treat it as a\n",
    "*category*, i.e., there should be one category per type of experiment.  \n",
    "\n",
    "To fix this issue we can convert the `Expt` variable into a `nominal`(categorical) type \n",
    "variable by adding a suffix `:N`(where `N` stands for nominal type variable) with the `Expt` variable.\n",
    "By doing this, we are ensuring that `altair` will treat this variable as a categorical variable,\n",
    "and the color will be mapped discretely. Here, we also mention `stack=False`, so that the bars are not stacked on top of each other.\n",
    "\\index{factor!usage in ggplot}"
   ]
  },
  {
   "cell_type": "code",
   "execution_count": 54,
   "id": "18ddee1e",
   "metadata": {
    "execution": {
     "iopub.execute_input": "2022-07-19T22:59:15.653424Z",
     "iopub.status.busy": "2022-07-19T22:59:15.653291Z",
     "iopub.status.idle": "2022-07-19T22:59:15.658441Z",
     "shell.execute_reply": "2022-07-19T22:59:15.658154Z"
    }
   },
   "outputs": [],
   "source": [
    "morley_hist_categorical = alt.Chart(morley_df).mark_bar(opacity=0.5).encode(\n",
    "    x = alt.X(\"Speed\", bin=alt.Bin(maxbins=50)),  \n",
    "    y=alt.Y('count()', stack=False),\n",
    "    color = \"Expt:N\")\n",
    "\n",
    "final_plot_categorical = morley_hist_categorical + v_line\n"
   ]
  },
  {
   "cell_type": "code",
   "execution_count": 55,
   "id": "2c2e2f31",
   "metadata": {
    "execution": {
     "iopub.execute_input": "2022-07-19T22:59:15.660272Z",
     "iopub.status.busy": "2022-07-19T22:59:15.660141Z",
     "iopub.status.idle": "2022-07-19T22:59:15.666752Z",
     "shell.execute_reply": "2022-07-19T22:59:15.666452Z"
    },
    "tags": [
     "remove-cell"
    ]
   },
   "outputs": [
    {
     "data": {
      "text/html": [
       "\n",
       "<div id=\"altair-viz-abf579fb02fd4a739c40ca50cd743bc9\"></div>\n",
       "<script type=\"text/javascript\">\n",
       "  var VEGA_DEBUG = (typeof VEGA_DEBUG == \"undefined\") ? {} : VEGA_DEBUG;\n",
       "  (function(spec, embedOpt){\n",
       "    let outputDiv = document.currentScript.previousElementSibling;\n",
       "    if (outputDiv.id !== \"altair-viz-abf579fb02fd4a739c40ca50cd743bc9\") {\n",
       "      outputDiv = document.getElementById(\"altair-viz-abf579fb02fd4a739c40ca50cd743bc9\");\n",
       "    }\n",
       "    const paths = {\n",
       "      \"vega\": \"https://cdn.jsdelivr.net/npm//vega@5?noext\",\n",
       "      \"vega-lib\": \"https://cdn.jsdelivr.net/npm//vega-lib?noext\",\n",
       "      \"vega-lite\": \"https://cdn.jsdelivr.net/npm//vega-lite@4.17.0?noext\",\n",
       "      \"vega-embed\": \"https://cdn.jsdelivr.net/npm//vega-embed@6?noext\",\n",
       "    };\n",
       "\n",
       "    function maybeLoadScript(lib, version) {\n",
       "      var key = `${lib.replace(\"-\", \"\")}_version`;\n",
       "      return (VEGA_DEBUG[key] == version) ?\n",
       "        Promise.resolve(paths[lib]) :\n",
       "        new Promise(function(resolve, reject) {\n",
       "          var s = document.createElement('script');\n",
       "          document.getElementsByTagName(\"head\")[0].appendChild(s);\n",
       "          s.async = true;\n",
       "          s.onload = () => {\n",
       "            VEGA_DEBUG[key] = version;\n",
       "            return resolve(paths[lib]);\n",
       "          };\n",
       "          s.onerror = () => reject(`Error loading script: ${paths[lib]}`);\n",
       "          s.src = paths[lib];\n",
       "        });\n",
       "    }\n",
       "\n",
       "    function showError(err) {\n",
       "      outputDiv.innerHTML = `<div class=\"error\" style=\"color:red;\">${err}</div>`;\n",
       "      throw err;\n",
       "    }\n",
       "\n",
       "    function displayChart(vegaEmbed) {\n",
       "      vegaEmbed(outputDiv, spec, embedOpt)\n",
       "        .catch(err => showError(`Javascript Error: ${err.message}<br>This usually means there's a typo in your chart specification. See the javascript console for the full traceback.`));\n",
       "    }\n",
       "\n",
       "    if(typeof define === \"function\" && define.amd) {\n",
       "      requirejs.config({paths});\n",
       "      require([\"vega-embed\"], displayChart, err => showError(`Error loading script: ${err.message}`));\n",
       "    } else {\n",
       "      maybeLoadScript(\"vega\", \"5\")\n",
       "        .then(() => maybeLoadScript(\"vega-lite\", \"4.17.0\"))\n",
       "        .then(() => maybeLoadScript(\"vega-embed\", \"6\"))\n",
       "        .catch(showError)\n",
       "        .then(() => displayChart(vegaEmbed));\n",
       "    }\n",
       "  })({\"config\": {\"view\": {\"continuousWidth\": 400, \"continuousHeight\": 300}}, \"layer\": [{\"data\": {\"name\": \"data-9505d6e8ffc0fbd66f1f70f18ab69d65\"}, \"mark\": {\"type\": \"bar\", \"opacity\": 0.5}, \"encoding\": {\"color\": {\"field\": \"Expt\", \"type\": \"nominal\"}, \"x\": {\"bin\": {\"maxbins\": 50}, \"field\": \"Speed\", \"type\": \"quantitative\"}, \"y\": {\"aggregate\": \"count\", \"stack\": false, \"type\": \"quantitative\"}}}, {\"data\": {\"name\": \"data-623ad424afb61a0fae69b38cf4c35612\"}, \"mark\": {\"type\": \"rule\", \"size\": 1, \"strokeDash\": [3, 3]}, \"encoding\": {\"x\": {\"field\": \"x\", \"type\": \"quantitative\"}}}], \"$schema\": \"https://vega.github.io/schema/vega-lite/v4.17.0.json\", \"datasets\": {\"data-9505d6e8ffc0fbd66f1f70f18ab69d65\": [{\"Expt\": 1, \"Run\": 1, \"Speed\": 850}, {\"Expt\": 1, \"Run\": 2, \"Speed\": 740}, {\"Expt\": 1, \"Run\": 3, \"Speed\": 900}, {\"Expt\": 1, \"Run\": 4, \"Speed\": 1070}, {\"Expt\": 1, \"Run\": 5, \"Speed\": 930}, {\"Expt\": 1, \"Run\": 6, \"Speed\": 850}, {\"Expt\": 1, \"Run\": 7, \"Speed\": 950}, {\"Expt\": 1, \"Run\": 8, \"Speed\": 980}, {\"Expt\": 1, \"Run\": 9, \"Speed\": 980}, {\"Expt\": 1, \"Run\": 10, \"Speed\": 880}, {\"Expt\": 1, \"Run\": 11, \"Speed\": 1000}, {\"Expt\": 1, \"Run\": 12, \"Speed\": 980}, {\"Expt\": 1, \"Run\": 13, \"Speed\": 930}, {\"Expt\": 1, \"Run\": 14, \"Speed\": 650}, {\"Expt\": 1, \"Run\": 15, \"Speed\": 760}, {\"Expt\": 1, \"Run\": 16, \"Speed\": 810}, {\"Expt\": 1, \"Run\": 17, \"Speed\": 1000}, {\"Expt\": 1, \"Run\": 18, \"Speed\": 1000}, {\"Expt\": 1, \"Run\": 19, \"Speed\": 960}, {\"Expt\": 1, \"Run\": 20, \"Speed\": 960}, {\"Expt\": 2, \"Run\": 1, \"Speed\": 960}, {\"Expt\": 2, \"Run\": 2, \"Speed\": 940}, {\"Expt\": 2, \"Run\": 3, \"Speed\": 960}, {\"Expt\": 2, \"Run\": 4, \"Speed\": 940}, {\"Expt\": 2, \"Run\": 5, \"Speed\": 880}, {\"Expt\": 2, \"Run\": 6, \"Speed\": 800}, {\"Expt\": 2, \"Run\": 7, \"Speed\": 850}, {\"Expt\": 2, \"Run\": 8, \"Speed\": 880}, {\"Expt\": 2, \"Run\": 9, \"Speed\": 900}, {\"Expt\": 2, \"Run\": 10, \"Speed\": 840}, {\"Expt\": 2, \"Run\": 11, \"Speed\": 830}, {\"Expt\": 2, \"Run\": 12, \"Speed\": 790}, {\"Expt\": 2, \"Run\": 13, \"Speed\": 810}, {\"Expt\": 2, \"Run\": 14, \"Speed\": 880}, {\"Expt\": 2, \"Run\": 15, \"Speed\": 880}, {\"Expt\": 2, \"Run\": 16, \"Speed\": 830}, {\"Expt\": 2, \"Run\": 17, \"Speed\": 800}, {\"Expt\": 2, \"Run\": 18, \"Speed\": 790}, {\"Expt\": 2, \"Run\": 19, \"Speed\": 760}, {\"Expt\": 2, \"Run\": 20, \"Speed\": 800}, {\"Expt\": 3, \"Run\": 1, \"Speed\": 880}, {\"Expt\": 3, \"Run\": 2, \"Speed\": 880}, {\"Expt\": 3, \"Run\": 3, \"Speed\": 880}, {\"Expt\": 3, \"Run\": 4, \"Speed\": 860}, {\"Expt\": 3, \"Run\": 5, \"Speed\": 720}, {\"Expt\": 3, \"Run\": 6, \"Speed\": 720}, {\"Expt\": 3, \"Run\": 7, \"Speed\": 620}, {\"Expt\": 3, \"Run\": 8, \"Speed\": 860}, {\"Expt\": 3, \"Run\": 9, \"Speed\": 970}, {\"Expt\": 3, \"Run\": 10, \"Speed\": 950}, {\"Expt\": 3, \"Run\": 11, \"Speed\": 880}, {\"Expt\": 3, \"Run\": 12, \"Speed\": 910}, {\"Expt\": 3, \"Run\": 13, \"Speed\": 850}, {\"Expt\": 3, \"Run\": 14, \"Speed\": 870}, {\"Expt\": 3, \"Run\": 15, \"Speed\": 840}, {\"Expt\": 3, \"Run\": 16, \"Speed\": 840}, {\"Expt\": 3, \"Run\": 17, \"Speed\": 850}, {\"Expt\": 3, \"Run\": 18, \"Speed\": 840}, {\"Expt\": 3, \"Run\": 19, \"Speed\": 840}, {\"Expt\": 3, \"Run\": 20, \"Speed\": 840}, {\"Expt\": 4, \"Run\": 1, \"Speed\": 890}, {\"Expt\": 4, \"Run\": 2, \"Speed\": 810}, {\"Expt\": 4, \"Run\": 3, \"Speed\": 810}, {\"Expt\": 4, \"Run\": 4, \"Speed\": 820}, {\"Expt\": 4, \"Run\": 5, \"Speed\": 800}, {\"Expt\": 4, \"Run\": 6, \"Speed\": 770}, {\"Expt\": 4, \"Run\": 7, \"Speed\": 760}, {\"Expt\": 4, \"Run\": 8, \"Speed\": 740}, {\"Expt\": 4, \"Run\": 9, \"Speed\": 750}, {\"Expt\": 4, \"Run\": 10, \"Speed\": 760}, {\"Expt\": 4, \"Run\": 11, \"Speed\": 910}, {\"Expt\": 4, \"Run\": 12, \"Speed\": 920}, {\"Expt\": 4, \"Run\": 13, \"Speed\": 890}, {\"Expt\": 4, \"Run\": 14, \"Speed\": 860}, {\"Expt\": 4, \"Run\": 15, \"Speed\": 880}, {\"Expt\": 4, \"Run\": 16, \"Speed\": 720}, {\"Expt\": 4, \"Run\": 17, \"Speed\": 840}, {\"Expt\": 4, \"Run\": 18, \"Speed\": 850}, {\"Expt\": 4, \"Run\": 19, \"Speed\": 850}, {\"Expt\": 4, \"Run\": 20, \"Speed\": 780}, {\"Expt\": 5, \"Run\": 1, \"Speed\": 890}, {\"Expt\": 5, \"Run\": 2, \"Speed\": 840}, {\"Expt\": 5, \"Run\": 3, \"Speed\": 780}, {\"Expt\": 5, \"Run\": 4, \"Speed\": 810}, {\"Expt\": 5, \"Run\": 5, \"Speed\": 760}, {\"Expt\": 5, \"Run\": 6, \"Speed\": 810}, {\"Expt\": 5, \"Run\": 7, \"Speed\": 790}, {\"Expt\": 5, \"Run\": 8, \"Speed\": 810}, {\"Expt\": 5, \"Run\": 9, \"Speed\": 820}, {\"Expt\": 5, \"Run\": 10, \"Speed\": 850}, {\"Expt\": 5, \"Run\": 11, \"Speed\": 870}, {\"Expt\": 5, \"Run\": 12, \"Speed\": 870}, {\"Expt\": 5, \"Run\": 13, \"Speed\": 810}, {\"Expt\": 5, \"Run\": 14, \"Speed\": 740}, {\"Expt\": 5, \"Run\": 15, \"Speed\": 810}, {\"Expt\": 5, \"Run\": 16, \"Speed\": 940}, {\"Expt\": 5, \"Run\": 17, \"Speed\": 950}, {\"Expt\": 5, \"Run\": 18, \"Speed\": 800}, {\"Expt\": 5, \"Run\": 19, \"Speed\": 810}, {\"Expt\": 5, \"Run\": 20, \"Speed\": 870}], \"data-623ad424afb61a0fae69b38cf4c35612\": [{\"x\": 792.458}]}}, {\"mode\": \"vega-lite\"});\n",
       "</script>"
      ],
      "text/plain": [
       "alt.LayerChart(...)"
      ]
     },
     "metadata": {
      "scrapbook": {
       "mime_prefix": "",
       "name": "final_plot_categorical"
      }
     },
     "output_type": "display_data"
    }
   ],
   "source": [
    "glue('final_plot_categorical', final_plot_categorical, display=True)"
   ]
  },
  {
   "cell_type": "markdown",
   "id": "02af4675",
   "metadata": {},
   "source": [
    ":::{glue:figure} final_plot_categorical\n",
    ":figwidth: 700px \n",
    ":name: final_plot_categorical\n",
    "\n",
    "Histogram of Michelson's speed of light data colored by experiment as a categorical variable.\n",
    ":::\n",
    "\n",
    "\n",
    " \n",
    "Unfortunately, the attempt to separate out the experiment number visually has\n",
    "created a bit of a mess. All of the colors in {numref}`final_plot_categorical` are blending together, and although it is\n",
    "possible to derive *some* insight from this (e.g., experiments 1 and 3 had some\n",
    "of the most incorrect measurements), it isn't the clearest way to convey our\n",
    "message and answer the question. Let's try a different strategy of creating\n",
    "grid of separate histogram plots."
   ]
  },
  {
   "cell_type": "markdown",
   "id": "e1f8067a",
   "metadata": {},
   "source": [
    "We use the `facet` function to create a plot \n",
    "that has multiple subplots arranged in a grid.\n",
    "The argument to `facet` specifies the variable(s) used to split the plot \n",
    "into subplots, and how to split them (i.e., into rows or columns).\n",
    "If the plot is to be split horizontally, into rows, \n",
    "then the `rows` argument is used.\n",
    "If the plot is to be split vertically, into columns, \n",
    "then the `columns` argument is used.\n",
    "Both the `rows` and `columns` arguments take the column names on which to split the data when creating the subplots. \n",
    "\n",
    "\\index{ggplot!facet\\_grid}"
   ]
  },
  {
   "cell_type": "code",
   "execution_count": 56,
   "id": "f2263e84",
   "metadata": {
    "execution": {
     "iopub.execute_input": "2022-07-19T22:59:15.668610Z",
     "iopub.status.busy": "2022-07-19T22:59:15.668473Z",
     "iopub.status.idle": "2022-07-19T22:59:15.674439Z",
     "shell.execute_reply": "2022-07-19T22:59:15.674146Z"
    }
   },
   "outputs": [],
   "source": [
    "morley_hist = alt.Chart(morley_df).mark_bar(opacity = 0.5).encode(\n",
    "    x = alt.X(\"Speed\", bin=alt.Bin(maxbins=50)),  \n",
    "    y=alt.Y('count()', stack=False),\n",
    "    color = \"Expt:N\").properties(height=100, width=300)\n",
    "\n",
    "final_plot_facet = (morley_hist + v_line).facet(row = 'Expt:N', data = morley_df)\n"
   ]
  },
  {
   "cell_type": "code",
   "execution_count": 57,
   "id": "d9dd7905",
   "metadata": {
    "execution": {
     "iopub.execute_input": "2022-07-19T22:59:15.676080Z",
     "iopub.status.busy": "2022-07-19T22:59:15.675962Z",
     "iopub.status.idle": "2022-07-19T22:59:15.684251Z",
     "shell.execute_reply": "2022-07-19T22:59:15.683947Z"
    },
    "tags": [
     "remove-cell"
    ]
   },
   "outputs": [
    {
     "data": {
      "text/html": [
       "\n",
       "<div id=\"altair-viz-3a5b4bd3d373467e84a01abe6fb39e0f\"></div>\n",
       "<script type=\"text/javascript\">\n",
       "  var VEGA_DEBUG = (typeof VEGA_DEBUG == \"undefined\") ? {} : VEGA_DEBUG;\n",
       "  (function(spec, embedOpt){\n",
       "    let outputDiv = document.currentScript.previousElementSibling;\n",
       "    if (outputDiv.id !== \"altair-viz-3a5b4bd3d373467e84a01abe6fb39e0f\") {\n",
       "      outputDiv = document.getElementById(\"altair-viz-3a5b4bd3d373467e84a01abe6fb39e0f\");\n",
       "    }\n",
       "    const paths = {\n",
       "      \"vega\": \"https://cdn.jsdelivr.net/npm//vega@5?noext\",\n",
       "      \"vega-lib\": \"https://cdn.jsdelivr.net/npm//vega-lib?noext\",\n",
       "      \"vega-lite\": \"https://cdn.jsdelivr.net/npm//vega-lite@4.17.0?noext\",\n",
       "      \"vega-embed\": \"https://cdn.jsdelivr.net/npm//vega-embed@6?noext\",\n",
       "    };\n",
       "\n",
       "    function maybeLoadScript(lib, version) {\n",
       "      var key = `${lib.replace(\"-\", \"\")}_version`;\n",
       "      return (VEGA_DEBUG[key] == version) ?\n",
       "        Promise.resolve(paths[lib]) :\n",
       "        new Promise(function(resolve, reject) {\n",
       "          var s = document.createElement('script');\n",
       "          document.getElementsByTagName(\"head\")[0].appendChild(s);\n",
       "          s.async = true;\n",
       "          s.onload = () => {\n",
       "            VEGA_DEBUG[key] = version;\n",
       "            return resolve(paths[lib]);\n",
       "          };\n",
       "          s.onerror = () => reject(`Error loading script: ${paths[lib]}`);\n",
       "          s.src = paths[lib];\n",
       "        });\n",
       "    }\n",
       "\n",
       "    function showError(err) {\n",
       "      outputDiv.innerHTML = `<div class=\"error\" style=\"color:red;\">${err}</div>`;\n",
       "      throw err;\n",
       "    }\n",
       "\n",
       "    function displayChart(vegaEmbed) {\n",
       "      vegaEmbed(outputDiv, spec, embedOpt)\n",
       "        .catch(err => showError(`Javascript Error: ${err.message}<br>This usually means there's a typo in your chart specification. See the javascript console for the full traceback.`));\n",
       "    }\n",
       "\n",
       "    if(typeof define === \"function\" && define.amd) {\n",
       "      requirejs.config({paths});\n",
       "      require([\"vega-embed\"], displayChart, err => showError(`Error loading script: ${err.message}`));\n",
       "    } else {\n",
       "      maybeLoadScript(\"vega\", \"5\")\n",
       "        .then(() => maybeLoadScript(\"vega-lite\", \"4.17.0\"))\n",
       "        .then(() => maybeLoadScript(\"vega-embed\", \"6\"))\n",
       "        .catch(showError)\n",
       "        .then(() => displayChart(vegaEmbed));\n",
       "    }\n",
       "  })({\"config\": {\"view\": {\"continuousWidth\": 400, \"continuousHeight\": 300}}, \"data\": {\"name\": \"data-9505d6e8ffc0fbd66f1f70f18ab69d65\"}, \"facet\": {\"row\": {\"field\": \"Expt\", \"type\": \"nominal\"}}, \"spec\": {\"layer\": [{\"data\": {\"name\": \"data-9505d6e8ffc0fbd66f1f70f18ab69d65\"}, \"mark\": {\"type\": \"bar\", \"opacity\": 0.5}, \"encoding\": {\"color\": {\"field\": \"Expt\", \"type\": \"nominal\"}, \"x\": {\"bin\": {\"maxbins\": 50}, \"field\": \"Speed\", \"type\": \"quantitative\"}, \"y\": {\"aggregate\": \"count\", \"stack\": false, \"type\": \"quantitative\"}}, \"height\": 100, \"width\": 300}, {\"data\": {\"name\": \"data-623ad424afb61a0fae69b38cf4c35612\"}, \"mark\": {\"type\": \"rule\", \"size\": 1, \"strokeDash\": [3, 3]}, \"encoding\": {\"x\": {\"field\": \"x\", \"type\": \"quantitative\"}}}]}, \"$schema\": \"https://vega.github.io/schema/vega-lite/v4.17.0.json\", \"datasets\": {\"data-9505d6e8ffc0fbd66f1f70f18ab69d65\": [{\"Expt\": 1, \"Run\": 1, \"Speed\": 850}, {\"Expt\": 1, \"Run\": 2, \"Speed\": 740}, {\"Expt\": 1, \"Run\": 3, \"Speed\": 900}, {\"Expt\": 1, \"Run\": 4, \"Speed\": 1070}, {\"Expt\": 1, \"Run\": 5, \"Speed\": 930}, {\"Expt\": 1, \"Run\": 6, \"Speed\": 850}, {\"Expt\": 1, \"Run\": 7, \"Speed\": 950}, {\"Expt\": 1, \"Run\": 8, \"Speed\": 980}, {\"Expt\": 1, \"Run\": 9, \"Speed\": 980}, {\"Expt\": 1, \"Run\": 10, \"Speed\": 880}, {\"Expt\": 1, \"Run\": 11, \"Speed\": 1000}, {\"Expt\": 1, \"Run\": 12, \"Speed\": 980}, {\"Expt\": 1, \"Run\": 13, \"Speed\": 930}, {\"Expt\": 1, \"Run\": 14, \"Speed\": 650}, {\"Expt\": 1, \"Run\": 15, \"Speed\": 760}, {\"Expt\": 1, \"Run\": 16, \"Speed\": 810}, {\"Expt\": 1, \"Run\": 17, \"Speed\": 1000}, {\"Expt\": 1, \"Run\": 18, \"Speed\": 1000}, {\"Expt\": 1, \"Run\": 19, \"Speed\": 960}, {\"Expt\": 1, \"Run\": 20, \"Speed\": 960}, {\"Expt\": 2, \"Run\": 1, \"Speed\": 960}, {\"Expt\": 2, \"Run\": 2, \"Speed\": 940}, {\"Expt\": 2, \"Run\": 3, \"Speed\": 960}, {\"Expt\": 2, \"Run\": 4, \"Speed\": 940}, {\"Expt\": 2, \"Run\": 5, \"Speed\": 880}, {\"Expt\": 2, \"Run\": 6, \"Speed\": 800}, {\"Expt\": 2, \"Run\": 7, \"Speed\": 850}, {\"Expt\": 2, \"Run\": 8, \"Speed\": 880}, {\"Expt\": 2, \"Run\": 9, \"Speed\": 900}, {\"Expt\": 2, \"Run\": 10, \"Speed\": 840}, {\"Expt\": 2, \"Run\": 11, \"Speed\": 830}, {\"Expt\": 2, \"Run\": 12, \"Speed\": 790}, {\"Expt\": 2, \"Run\": 13, \"Speed\": 810}, {\"Expt\": 2, \"Run\": 14, \"Speed\": 880}, {\"Expt\": 2, \"Run\": 15, \"Speed\": 880}, {\"Expt\": 2, \"Run\": 16, \"Speed\": 830}, {\"Expt\": 2, \"Run\": 17, \"Speed\": 800}, {\"Expt\": 2, \"Run\": 18, \"Speed\": 790}, {\"Expt\": 2, \"Run\": 19, \"Speed\": 760}, {\"Expt\": 2, \"Run\": 20, \"Speed\": 800}, {\"Expt\": 3, \"Run\": 1, \"Speed\": 880}, {\"Expt\": 3, \"Run\": 2, \"Speed\": 880}, {\"Expt\": 3, \"Run\": 3, \"Speed\": 880}, {\"Expt\": 3, \"Run\": 4, \"Speed\": 860}, {\"Expt\": 3, \"Run\": 5, \"Speed\": 720}, {\"Expt\": 3, \"Run\": 6, \"Speed\": 720}, {\"Expt\": 3, \"Run\": 7, \"Speed\": 620}, {\"Expt\": 3, \"Run\": 8, \"Speed\": 860}, {\"Expt\": 3, \"Run\": 9, \"Speed\": 970}, {\"Expt\": 3, \"Run\": 10, \"Speed\": 950}, {\"Expt\": 3, \"Run\": 11, \"Speed\": 880}, {\"Expt\": 3, \"Run\": 12, \"Speed\": 910}, {\"Expt\": 3, \"Run\": 13, \"Speed\": 850}, {\"Expt\": 3, \"Run\": 14, \"Speed\": 870}, {\"Expt\": 3, \"Run\": 15, \"Speed\": 840}, {\"Expt\": 3, \"Run\": 16, \"Speed\": 840}, {\"Expt\": 3, \"Run\": 17, \"Speed\": 850}, {\"Expt\": 3, \"Run\": 18, \"Speed\": 840}, {\"Expt\": 3, \"Run\": 19, \"Speed\": 840}, {\"Expt\": 3, \"Run\": 20, \"Speed\": 840}, {\"Expt\": 4, \"Run\": 1, \"Speed\": 890}, {\"Expt\": 4, \"Run\": 2, \"Speed\": 810}, {\"Expt\": 4, \"Run\": 3, \"Speed\": 810}, {\"Expt\": 4, \"Run\": 4, \"Speed\": 820}, {\"Expt\": 4, \"Run\": 5, \"Speed\": 800}, {\"Expt\": 4, \"Run\": 6, \"Speed\": 770}, {\"Expt\": 4, \"Run\": 7, \"Speed\": 760}, {\"Expt\": 4, \"Run\": 8, \"Speed\": 740}, {\"Expt\": 4, \"Run\": 9, \"Speed\": 750}, {\"Expt\": 4, \"Run\": 10, \"Speed\": 760}, {\"Expt\": 4, \"Run\": 11, \"Speed\": 910}, {\"Expt\": 4, \"Run\": 12, \"Speed\": 920}, {\"Expt\": 4, \"Run\": 13, \"Speed\": 890}, {\"Expt\": 4, \"Run\": 14, \"Speed\": 860}, {\"Expt\": 4, \"Run\": 15, \"Speed\": 880}, {\"Expt\": 4, \"Run\": 16, \"Speed\": 720}, {\"Expt\": 4, \"Run\": 17, \"Speed\": 840}, {\"Expt\": 4, \"Run\": 18, \"Speed\": 850}, {\"Expt\": 4, \"Run\": 19, \"Speed\": 850}, {\"Expt\": 4, \"Run\": 20, \"Speed\": 780}, {\"Expt\": 5, \"Run\": 1, \"Speed\": 890}, {\"Expt\": 5, \"Run\": 2, \"Speed\": 840}, {\"Expt\": 5, \"Run\": 3, \"Speed\": 780}, {\"Expt\": 5, \"Run\": 4, \"Speed\": 810}, {\"Expt\": 5, \"Run\": 5, \"Speed\": 760}, {\"Expt\": 5, \"Run\": 6, \"Speed\": 810}, {\"Expt\": 5, \"Run\": 7, \"Speed\": 790}, {\"Expt\": 5, \"Run\": 8, \"Speed\": 810}, {\"Expt\": 5, \"Run\": 9, \"Speed\": 820}, {\"Expt\": 5, \"Run\": 10, \"Speed\": 850}, {\"Expt\": 5, \"Run\": 11, \"Speed\": 870}, {\"Expt\": 5, \"Run\": 12, \"Speed\": 870}, {\"Expt\": 5, \"Run\": 13, \"Speed\": 810}, {\"Expt\": 5, \"Run\": 14, \"Speed\": 740}, {\"Expt\": 5, \"Run\": 15, \"Speed\": 810}, {\"Expt\": 5, \"Run\": 16, \"Speed\": 940}, {\"Expt\": 5, \"Run\": 17, \"Speed\": 950}, {\"Expt\": 5, \"Run\": 18, \"Speed\": 800}, {\"Expt\": 5, \"Run\": 19, \"Speed\": 810}, {\"Expt\": 5, \"Run\": 20, \"Speed\": 870}], \"data-623ad424afb61a0fae69b38cf4c35612\": [{\"x\": 792.458}]}}, {\"mode\": \"vega-lite\"});\n",
       "</script>"
      ],
      "text/plain": [
       "alt.FacetChart(...)"
      ]
     },
     "metadata": {
      "scrapbook": {
       "mime_prefix": "",
       "name": "final_plot_facet"
      }
     },
     "output_type": "display_data"
    }
   ],
   "source": [
    "glue('final_plot_facet', final_plot_facet, display=True)"
   ]
  },
  {
   "cell_type": "markdown",
   "id": "1664e1e5",
   "metadata": {},
   "source": [
    ":::{glue:figure} final_plot_facet\n",
    ":figwidth: 700px \n",
    ":name: final_plot_facet\n",
    "\n",
    "Histogram of Michelson's speed of light data split vertically by experiment.\n",
    ":::\n",
    "\n",
    "The visualization in {numref}`final_plot_facet`\n",
    "now makes it quite clear how accurate the different experiments were \n",
    "with respect to one another. \n",
    "The most variable measurements came from Experiment 1. \n",
    "There the measurements ranged from about 650&ndash;1050 km/sec.\n",
    "The least variable measurements came from Experiment 2.\n",
    "There, the measurements ranged from about 750&ndash;950 km/sec.\n",
    "The most different experiments still obtained quite similar results!\n",
    "\n",
    "There are two finishing touches to make this visualization even clearer. First and foremost, we need to add informative axis labels\n",
    "using the `alt.X` and `alt.Y` function, and increase the font size to make it readable using the `configure_axis` function. Second, and perhaps more subtly, even though it \n",
    "is easy to compare the experiments on this plot to one another, it is hard to get a sense \n",
    "of just how accurate all the experiments were overall. For example, how accurate is the value 800 on the plot, relative to the true speed of light?\n",
    "To answer this question, we'll use the assign function to transform our data into a relative measure of accuracy rather than absolute measurements:\n",
    "\\index{ggplot!labs}\\index{ggplot!theme}"
   ]
  },
  {
   "cell_type": "code",
   "execution_count": 58,
   "id": "ce49f2cd",
   "metadata": {
    "execution": {
     "iopub.execute_input": "2022-07-19T22:59:15.685996Z",
     "iopub.status.busy": "2022-07-19T22:59:15.685855Z",
     "iopub.status.idle": "2022-07-19T22:59:15.691572Z",
     "shell.execute_reply": "2022-07-19T22:59:15.691257Z"
    }
   },
   "outputs": [
    {
     "data": {
      "text/html": [
       "<div>\n",
       "<style scoped>\n",
       "    .dataframe tbody tr th:only-of-type {\n",
       "        vertical-align: middle;\n",
       "    }\n",
       "\n",
       "    .dataframe tbody tr th {\n",
       "        vertical-align: top;\n",
       "    }\n",
       "\n",
       "    .dataframe thead th {\n",
       "        text-align: right;\n",
       "    }\n",
       "</style>\n",
       "<table border=\"1\" class=\"dataframe\">\n",
       "  <thead>\n",
       "    <tr style=\"text-align: right;\">\n",
       "      <th></th>\n",
       "      <th>Expt</th>\n",
       "      <th>Run</th>\n",
       "      <th>Speed</th>\n",
       "      <th>relative_accuracy</th>\n",
       "    </tr>\n",
       "  </thead>\n",
       "  <tbody>\n",
       "    <tr>\n",
       "      <th>0</th>\n",
       "      <td>1</td>\n",
       "      <td>1</td>\n",
       "      <td>850</td>\n",
       "      <td>0.019194</td>\n",
       "    </tr>\n",
       "    <tr>\n",
       "      <th>1</th>\n",
       "      <td>1</td>\n",
       "      <td>2</td>\n",
       "      <td>740</td>\n",
       "      <td>-0.017498</td>\n",
       "    </tr>\n",
       "    <tr>\n",
       "      <th>2</th>\n",
       "      <td>1</td>\n",
       "      <td>3</td>\n",
       "      <td>900</td>\n",
       "      <td>0.035872</td>\n",
       "    </tr>\n",
       "    <tr>\n",
       "      <th>3</th>\n",
       "      <td>1</td>\n",
       "      <td>4</td>\n",
       "      <td>1070</td>\n",
       "      <td>0.092578</td>\n",
       "    </tr>\n",
       "    <tr>\n",
       "      <th>4</th>\n",
       "      <td>1</td>\n",
       "      <td>5</td>\n",
       "      <td>930</td>\n",
       "      <td>0.045879</td>\n",
       "    </tr>\n",
       "    <tr>\n",
       "      <th>...</th>\n",
       "      <td>...</td>\n",
       "      <td>...</td>\n",
       "      <td>...</td>\n",
       "      <td>...</td>\n",
       "    </tr>\n",
       "    <tr>\n",
       "      <th>95</th>\n",
       "      <td>5</td>\n",
       "      <td>16</td>\n",
       "      <td>940</td>\n",
       "      <td>0.049215</td>\n",
       "    </tr>\n",
       "    <tr>\n",
       "      <th>96</th>\n",
       "      <td>5</td>\n",
       "      <td>17</td>\n",
       "      <td>950</td>\n",
       "      <td>0.052550</td>\n",
       "    </tr>\n",
       "    <tr>\n",
       "      <th>97</th>\n",
       "      <td>5</td>\n",
       "      <td>18</td>\n",
       "      <td>800</td>\n",
       "      <td>0.002516</td>\n",
       "    </tr>\n",
       "    <tr>\n",
       "      <th>98</th>\n",
       "      <td>5</td>\n",
       "      <td>19</td>\n",
       "      <td>810</td>\n",
       "      <td>0.005851</td>\n",
       "    </tr>\n",
       "    <tr>\n",
       "      <th>99</th>\n",
       "      <td>5</td>\n",
       "      <td>20</td>\n",
       "      <td>870</td>\n",
       "      <td>0.025865</td>\n",
       "    </tr>\n",
       "  </tbody>\n",
       "</table>\n",
       "<p>100 rows × 4 columns</p>\n",
       "</div>"
      ],
      "text/plain": [
       "    Expt  Run  Speed  relative_accuracy\n",
       "0      1    1    850           0.019194\n",
       "1      1    2    740          -0.017498\n",
       "2      1    3    900           0.035872\n",
       "3      1    4   1070           0.092578\n",
       "4      1    5    930           0.045879\n",
       "..   ...  ...    ...                ...\n",
       "95     5   16    940           0.049215\n",
       "96     5   17    950           0.052550\n",
       "97     5   18    800           0.002516\n",
       "98     5   19    810           0.005851\n",
       "99     5   20    870           0.025865\n",
       "\n",
       "[100 rows x 4 columns]"
      ]
     },
     "execution_count": 58,
     "metadata": {},
     "output_type": "execute_result"
    }
   ],
   "source": [
    "morley_rel = morley_df\n",
    "morley_rel = morley_rel.assign(relative_accuracy = 100 * \n",
    "                       ((299000 + morley_df['Speed']) - 299792.458) / (299792.458) )\n",
    "\n",
    "morley_rel"
   ]
  },
  {
   "cell_type": "code",
   "execution_count": 59,
   "id": "34170dda",
   "metadata": {
    "execution": {
     "iopub.execute_input": "2022-07-19T22:59:15.693283Z",
     "iopub.status.busy": "2022-07-19T22:59:15.693146Z",
     "iopub.status.idle": "2022-07-19T22:59:15.700112Z",
     "shell.execute_reply": "2022-07-19T22:59:15.699831Z"
    }
   },
   "outputs": [],
   "source": [
    "v_line = alt.Chart(pd.DataFrame({'x': [0]})).mark_rule(\n",
    "    strokeDash=[3,3], size=2).encode(\n",
    "    x='x')\n",
    "morley_hist = alt.Chart().mark_bar(opacity=0.6).encode(\n",
    "    x = alt.X(\"relative_accuracy\", bin=alt.Bin(maxbins=120), title = \"Relative Accuracy (%)\"), \n",
    "    y=alt.Y('count()', stack=False, title = \"# Measurements\"),\n",
    "    color = alt.Color(\"Expt:N\",  title = \"Experiment ID\")).properties(height=100, width= 400)\n",
    "\n",
    "final_plot_relative = (morley_hist + v_line).facet(row='Expt:N', data=morley_rel)\n"
   ]
  },
  {
   "cell_type": "code",
   "execution_count": 60,
   "id": "989308c7",
   "metadata": {
    "execution": {
     "iopub.execute_input": "2022-07-19T22:59:15.701774Z",
     "iopub.status.busy": "2022-07-19T22:59:15.701659Z",
     "iopub.status.idle": "2022-07-19T22:59:15.709517Z",
     "shell.execute_reply": "2022-07-19T22:59:15.709209Z"
    },
    "tags": [
     "remove-cell"
    ]
   },
   "outputs": [
    {
     "data": {
      "text/html": [
       "\n",
       "<div id=\"altair-viz-40645cbdde0b47e894ea1f9ae057cb6a\"></div>\n",
       "<script type=\"text/javascript\">\n",
       "  var VEGA_DEBUG = (typeof VEGA_DEBUG == \"undefined\") ? {} : VEGA_DEBUG;\n",
       "  (function(spec, embedOpt){\n",
       "    let outputDiv = document.currentScript.previousElementSibling;\n",
       "    if (outputDiv.id !== \"altair-viz-40645cbdde0b47e894ea1f9ae057cb6a\") {\n",
       "      outputDiv = document.getElementById(\"altair-viz-40645cbdde0b47e894ea1f9ae057cb6a\");\n",
       "    }\n",
       "    const paths = {\n",
       "      \"vega\": \"https://cdn.jsdelivr.net/npm//vega@5?noext\",\n",
       "      \"vega-lib\": \"https://cdn.jsdelivr.net/npm//vega-lib?noext\",\n",
       "      \"vega-lite\": \"https://cdn.jsdelivr.net/npm//vega-lite@4.17.0?noext\",\n",
       "      \"vega-embed\": \"https://cdn.jsdelivr.net/npm//vega-embed@6?noext\",\n",
       "    };\n",
       "\n",
       "    function maybeLoadScript(lib, version) {\n",
       "      var key = `${lib.replace(\"-\", \"\")}_version`;\n",
       "      return (VEGA_DEBUG[key] == version) ?\n",
       "        Promise.resolve(paths[lib]) :\n",
       "        new Promise(function(resolve, reject) {\n",
       "          var s = document.createElement('script');\n",
       "          document.getElementsByTagName(\"head\")[0].appendChild(s);\n",
       "          s.async = true;\n",
       "          s.onload = () => {\n",
       "            VEGA_DEBUG[key] = version;\n",
       "            return resolve(paths[lib]);\n",
       "          };\n",
       "          s.onerror = () => reject(`Error loading script: ${paths[lib]}`);\n",
       "          s.src = paths[lib];\n",
       "        });\n",
       "    }\n",
       "\n",
       "    function showError(err) {\n",
       "      outputDiv.innerHTML = `<div class=\"error\" style=\"color:red;\">${err}</div>`;\n",
       "      throw err;\n",
       "    }\n",
       "\n",
       "    function displayChart(vegaEmbed) {\n",
       "      vegaEmbed(outputDiv, spec, embedOpt)\n",
       "        .catch(err => showError(`Javascript Error: ${err.message}<br>This usually means there's a typo in your chart specification. See the javascript console for the full traceback.`));\n",
       "    }\n",
       "\n",
       "    if(typeof define === \"function\" && define.amd) {\n",
       "      requirejs.config({paths});\n",
       "      require([\"vega-embed\"], displayChart, err => showError(`Error loading script: ${err.message}`));\n",
       "    } else {\n",
       "      maybeLoadScript(\"vega\", \"5\")\n",
       "        .then(() => maybeLoadScript(\"vega-lite\", \"4.17.0\"))\n",
       "        .then(() => maybeLoadScript(\"vega-embed\", \"6\"))\n",
       "        .catch(showError)\n",
       "        .then(() => displayChart(vegaEmbed));\n",
       "    }\n",
       "  })({\"config\": {\"view\": {\"continuousWidth\": 400, \"continuousHeight\": 300}}, \"data\": {\"name\": \"data-1e61acf23f6299bc481d4a56ec8b6596\"}, \"facet\": {\"row\": {\"field\": \"Expt\", \"type\": \"nominal\"}}, \"spec\": {\"layer\": [{\"mark\": {\"type\": \"bar\", \"opacity\": 0.6}, \"encoding\": {\"color\": {\"field\": \"Expt\", \"title\": \"Experiment ID\", \"type\": \"nominal\"}, \"x\": {\"bin\": {\"maxbins\": 120}, \"field\": \"relative_accuracy\", \"title\": \"Relative Accuracy (%)\", \"type\": \"quantitative\"}, \"y\": {\"aggregate\": \"count\", \"stack\": false, \"title\": \"# Measurements\", \"type\": \"quantitative\"}}, \"height\": 100, \"width\": 400}, {\"data\": {\"name\": \"data-9c00aa9dc2b1c1a0b4bf9b34ead12925\"}, \"mark\": {\"type\": \"rule\", \"size\": 2, \"strokeDash\": [3, 3]}, \"encoding\": {\"x\": {\"field\": \"x\", \"type\": \"quantitative\"}}}]}, \"$schema\": \"https://vega.github.io/schema/vega-lite/v4.17.0.json\", \"datasets\": {\"data-1e61acf23f6299bc481d4a56ec8b6596\": [{\"Expt\": 1, \"Run\": 1, \"Speed\": 850, \"relative_accuracy\": 0.01919394516589735}, {\"Expt\": 1, \"Run\": 2, \"Speed\": 740, \"relative_accuracy\": -0.01749810530589938}, {\"Expt\": 1, \"Run\": 3, \"Speed\": 900, \"relative_accuracy\": 0.03587214992580495}, {\"Expt\": 1, \"Run\": 4, \"Speed\": 1070, \"relative_accuracy\": 0.0925780461094908}, {\"Expt\": 1, \"Run\": 5, \"Speed\": 930, \"relative_accuracy\": 0.04587907278174951}, {\"Expt\": 1, \"Run\": 6, \"Speed\": 850, \"relative_accuracy\": 0.01919394516589735}, {\"Expt\": 1, \"Run\": 7, \"Speed\": 950, \"relative_accuracy\": 0.05255035468571256}, {\"Expt\": 1, \"Run\": 8, \"Speed\": 980, \"relative_accuracy\": 0.06255727754165712}, {\"Expt\": 1, \"Run\": 9, \"Speed\": 980, \"relative_accuracy\": 0.06255727754165712}, {\"Expt\": 1, \"Run\": 10, \"Speed\": 880, \"relative_accuracy\": 0.029200868021841908}, {\"Expt\": 1, \"Run\": 11, \"Speed\": 1000, \"relative_accuracy\": 0.06922855944562016}, {\"Expt\": 1, \"Run\": 12, \"Speed\": 980, \"relative_accuracy\": 0.06255727754165712}, {\"Expt\": 1, \"Run\": 13, \"Speed\": 930, \"relative_accuracy\": 0.04587907278174951}, {\"Expt\": 1, \"Run\": 14, \"Speed\": 650, \"relative_accuracy\": -0.04751887387373307}, {\"Expt\": 1, \"Run\": 15, \"Speed\": 760, \"relative_accuracy\": -0.01082682340193634}, {\"Expt\": 1, \"Run\": 16, \"Speed\": 810, \"relative_accuracy\": 0.005851381357971265}, {\"Expt\": 1, \"Run\": 17, \"Speed\": 1000, \"relative_accuracy\": 0.06922855944562016}, {\"Expt\": 1, \"Run\": 18, \"Speed\": 1000, \"relative_accuracy\": 0.06922855944562016}, {\"Expt\": 1, \"Run\": 19, \"Speed\": 960, \"relative_accuracy\": 0.05588599563769407}, {\"Expt\": 1, \"Run\": 20, \"Speed\": 960, \"relative_accuracy\": 0.05588599563769407}, {\"Expt\": 2, \"Run\": 1, \"Speed\": 960, \"relative_accuracy\": 0.05588599563769407}, {\"Expt\": 2, \"Run\": 2, \"Speed\": 940, \"relative_accuracy\": 0.049214713733731034}, {\"Expt\": 2, \"Run\": 3, \"Speed\": 960, \"relative_accuracy\": 0.05588599563769407}, {\"Expt\": 2, \"Run\": 4, \"Speed\": 940, \"relative_accuracy\": 0.049214713733731034}, {\"Expt\": 2, \"Run\": 5, \"Speed\": 880, \"relative_accuracy\": 0.029200868021841908}, {\"Expt\": 2, \"Run\": 6, \"Speed\": 800, \"relative_accuracy\": 0.0025157404059897442}, {\"Expt\": 2, \"Run\": 7, \"Speed\": 850, \"relative_accuracy\": 0.01919394516589735}, {\"Expt\": 2, \"Run\": 8, \"Speed\": 880, \"relative_accuracy\": 0.029200868021841908}, {\"Expt\": 2, \"Run\": 9, \"Speed\": 900, \"relative_accuracy\": 0.03587214992580495}, {\"Expt\": 2, \"Run\": 10, \"Speed\": 840, \"relative_accuracy\": 0.015858304213915826}, {\"Expt\": 2, \"Run\": 11, \"Speed\": 830, \"relative_accuracy\": 0.012522663261934306}, {\"Expt\": 2, \"Run\": 12, \"Speed\": 790, \"relative_accuracy\": -0.0008199005459917767}, {\"Expt\": 2, \"Run\": 13, \"Speed\": 810, \"relative_accuracy\": 0.005851381357971265}, {\"Expt\": 2, \"Run\": 14, \"Speed\": 880, \"relative_accuracy\": 0.029200868021841908}, {\"Expt\": 2, \"Run\": 15, \"Speed\": 880, \"relative_accuracy\": 0.029200868021841908}, {\"Expt\": 2, \"Run\": 16, \"Speed\": 830, \"relative_accuracy\": 0.012522663261934306}, {\"Expt\": 2, \"Run\": 17, \"Speed\": 800, \"relative_accuracy\": 0.0025157404059897442}, {\"Expt\": 2, \"Run\": 18, \"Speed\": 790, \"relative_accuracy\": -0.0008199005459917767}, {\"Expt\": 2, \"Run\": 19, \"Speed\": 760, \"relative_accuracy\": -0.01082682340193634}, {\"Expt\": 2, \"Run\": 20, \"Speed\": 800, \"relative_accuracy\": 0.0025157404059897442}, {\"Expt\": 3, \"Run\": 1, \"Speed\": 880, \"relative_accuracy\": 0.029200868021841908}, {\"Expt\": 3, \"Run\": 2, \"Speed\": 880, \"relative_accuracy\": 0.029200868021841908}, {\"Expt\": 3, \"Run\": 3, \"Speed\": 880, \"relative_accuracy\": 0.029200868021841908}, {\"Expt\": 3, \"Run\": 4, \"Speed\": 860, \"relative_accuracy\": 0.022529586117878867}, {\"Expt\": 3, \"Run\": 5, \"Speed\": 720, \"relative_accuracy\": -0.02416938720986242}, {\"Expt\": 3, \"Run\": 6, \"Speed\": 720, \"relative_accuracy\": -0.02416938720986242}, {\"Expt\": 3, \"Run\": 7, \"Speed\": 620, \"relative_accuracy\": -0.05752579672967763}, {\"Expt\": 3, \"Run\": 8, \"Speed\": 860, \"relative_accuracy\": 0.022529586117878867}, {\"Expt\": 3, \"Run\": 9, \"Speed\": 970, \"relative_accuracy\": 0.059221636589675594}, {\"Expt\": 3, \"Run\": 10, \"Speed\": 950, \"relative_accuracy\": 0.05255035468571256}, {\"Expt\": 3, \"Run\": 11, \"Speed\": 880, \"relative_accuracy\": 0.029200868021841908}, {\"Expt\": 3, \"Run\": 12, \"Speed\": 910, \"relative_accuracy\": 0.039207790877786475}, {\"Expt\": 3, \"Run\": 13, \"Speed\": 850, \"relative_accuracy\": 0.01919394516589735}, {\"Expt\": 3, \"Run\": 14, \"Speed\": 870, \"relative_accuracy\": 0.02586522706986039}, {\"Expt\": 3, \"Run\": 15, \"Speed\": 840, \"relative_accuracy\": 0.015858304213915826}, {\"Expt\": 3, \"Run\": 16, \"Speed\": 840, \"relative_accuracy\": 0.015858304213915826}, {\"Expt\": 3, \"Run\": 17, \"Speed\": 850, \"relative_accuracy\": 0.01919394516589735}, {\"Expt\": 3, \"Run\": 18, \"Speed\": 840, \"relative_accuracy\": 0.015858304213915826}, {\"Expt\": 3, \"Run\": 19, \"Speed\": 840, \"relative_accuracy\": 0.015858304213915826}, {\"Expt\": 3, \"Run\": 20, \"Speed\": 840, \"relative_accuracy\": 0.015858304213915826}, {\"Expt\": 4, \"Run\": 1, \"Speed\": 890, \"relative_accuracy\": 0.03253650897382343}, {\"Expt\": 4, \"Run\": 2, \"Speed\": 810, \"relative_accuracy\": 0.005851381357971265}, {\"Expt\": 4, \"Run\": 3, \"Speed\": 810, \"relative_accuracy\": 0.005851381357971265}, {\"Expt\": 4, \"Run\": 4, \"Speed\": 820, \"relative_accuracy\": 0.009187022309952785}, {\"Expt\": 4, \"Run\": 5, \"Speed\": 800, \"relative_accuracy\": 0.0025157404059897442}, {\"Expt\": 4, \"Run\": 6, \"Speed\": 770, \"relative_accuracy\": -0.007491182449954818}, {\"Expt\": 4, \"Run\": 7, \"Speed\": 760, \"relative_accuracy\": -0.01082682340193634}, {\"Expt\": 4, \"Run\": 8, \"Speed\": 740, \"relative_accuracy\": -0.01749810530589938}, {\"Expt\": 4, \"Run\": 9, \"Speed\": 750, \"relative_accuracy\": -0.01416246435391786}, {\"Expt\": 4, \"Run\": 10, \"Speed\": 760, \"relative_accuracy\": -0.01082682340193634}, {\"Expt\": 4, \"Run\": 11, \"Speed\": 910, \"relative_accuracy\": 0.039207790877786475}, {\"Expt\": 4, \"Run\": 12, \"Speed\": 920, \"relative_accuracy\": 0.04254343182976799}, {\"Expt\": 4, \"Run\": 13, \"Speed\": 890, \"relative_accuracy\": 0.03253650897382343}, {\"Expt\": 4, \"Run\": 14, \"Speed\": 860, \"relative_accuracy\": 0.022529586117878867}, {\"Expt\": 4, \"Run\": 15, \"Speed\": 880, \"relative_accuracy\": 0.029200868021841908}, {\"Expt\": 4, \"Run\": 16, \"Speed\": 720, \"relative_accuracy\": -0.02416938720986242}, {\"Expt\": 4, \"Run\": 17, \"Speed\": 840, \"relative_accuracy\": 0.015858304213915826}, {\"Expt\": 4, \"Run\": 18, \"Speed\": 850, \"relative_accuracy\": 0.01919394516589735}, {\"Expt\": 4, \"Run\": 19, \"Speed\": 850, \"relative_accuracy\": 0.01919394516589735}, {\"Expt\": 4, \"Run\": 20, \"Speed\": 780, \"relative_accuracy\": -0.004155541497973298}, {\"Expt\": 5, \"Run\": 1, \"Speed\": 890, \"relative_accuracy\": 0.03253650897382343}, {\"Expt\": 5, \"Run\": 2, \"Speed\": 840, \"relative_accuracy\": 0.015858304213915826}, {\"Expt\": 5, \"Run\": 3, \"Speed\": 780, \"relative_accuracy\": -0.004155541497973298}, {\"Expt\": 5, \"Run\": 4, \"Speed\": 810, \"relative_accuracy\": 0.005851381357971265}, {\"Expt\": 5, \"Run\": 5, \"Speed\": 760, \"relative_accuracy\": -0.01082682340193634}, {\"Expt\": 5, \"Run\": 6, \"Speed\": 810, \"relative_accuracy\": 0.005851381357971265}, {\"Expt\": 5, \"Run\": 7, \"Speed\": 790, \"relative_accuracy\": -0.0008199005459917767}, {\"Expt\": 5, \"Run\": 8, \"Speed\": 810, \"relative_accuracy\": 0.005851381357971265}, {\"Expt\": 5, \"Run\": 9, \"Speed\": 820, \"relative_accuracy\": 0.009187022309952785}, {\"Expt\": 5, \"Run\": 10, \"Speed\": 850, \"relative_accuracy\": 0.01919394516589735}, {\"Expt\": 5, \"Run\": 11, \"Speed\": 870, \"relative_accuracy\": 0.02586522706986039}, {\"Expt\": 5, \"Run\": 12, \"Speed\": 870, \"relative_accuracy\": 0.02586522706986039}, {\"Expt\": 5, \"Run\": 13, \"Speed\": 810, \"relative_accuracy\": 0.005851381357971265}, {\"Expt\": 5, \"Run\": 14, \"Speed\": 740, \"relative_accuracy\": -0.01749810530589938}, {\"Expt\": 5, \"Run\": 15, \"Speed\": 810, \"relative_accuracy\": 0.005851381357971265}, {\"Expt\": 5, \"Run\": 16, \"Speed\": 940, \"relative_accuracy\": 0.049214713733731034}, {\"Expt\": 5, \"Run\": 17, \"Speed\": 950, \"relative_accuracy\": 0.05255035468571256}, {\"Expt\": 5, \"Run\": 18, \"Speed\": 800, \"relative_accuracy\": 0.0025157404059897442}, {\"Expt\": 5, \"Run\": 19, \"Speed\": 810, \"relative_accuracy\": 0.005851381357971265}, {\"Expt\": 5, \"Run\": 20, \"Speed\": 870, \"relative_accuracy\": 0.02586522706986039}], \"data-9c00aa9dc2b1c1a0b4bf9b34ead12925\": [{\"x\": 0}]}}, {\"mode\": \"vega-lite\"});\n",
       "</script>"
      ],
      "text/plain": [
       "alt.FacetChart(...)"
      ]
     },
     "metadata": {
      "scrapbook": {
       "mime_prefix": "",
       "name": "final_plot_relative"
      }
     },
     "output_type": "display_data"
    }
   ],
   "source": [
    "glue('final_plot_relative', final_plot_relative, display=True)"
   ]
  },
  {
   "cell_type": "markdown",
   "id": "50de1cbe",
   "metadata": {},
   "source": [
    ":::{glue:figure} final_plot_relative\n",
    ":figwidth: 700px \n",
    ":name: final_plot_relative\n",
    "\n",
    "Histogram of relative accuracy split vertically by experiment with clearer axes and labels\n",
    ":::\n",
    "\n",
    "Wow, impressive! These measurements of the speed of light from 1879 had errors around *0.05%* of the true speed. Figure \\@ref(fig:03-data-morley-hist-5) shows you that even though experiments 2 and 5 were perhaps the most accurate, all of the experiments did quite an \n",
    "admirable job given the technology available at the time.\n",
    "\n",
    "\\newpage\n",
    "\n",
    "#### Choosing a binwidth for histograms {-}\n",
    "\n",
    "When you create a histogram in `altair`, the default number of bins used is 30.\n",
    "Naturally, this is not always the right number to use.\n",
    "You can set the number of bins yourself by using\n",
    "the `maxbins` argument in the `mark_bar` geometric object.\n",
    "\n",
    "But what number of bins is the right one to use? \n",
    "\n",
    "Unfortunately there is no hard rule for what the right bin number\n",
    "or width is. It depends entirely on your problem; the *right* number of bins \n",
    "or bin width is \n",
    "the one that *helps you answer the question* you asked. \n",
    "Choosing the correct setting for your problem \n",
    "is something that commonly takes iteration.\n",
    "\n",
    "It's usually a good idea to try out several `maxbins` to see which one\n",
    "most clearly captures your data in the context of the question\n",
    "you want to answer.\n",
    "\n",
    "To get a sense for how different bin affect visualizations, \n",
    "let's experiment with the histogram that we have been working on in this section.\n",
    "In {numref}`final_plot_max_bins`,\n",
    "we compare the default setting with three other histograms where we set the \n",
    "`maxbins` to 200, 70 and 5.\n",
    "In this case, we can see that both the default number of bins \n",
    "and the `maxbins=70` of  are effective for helping answer our question.\n",
    "On the other hand, the `maxbins=200` and `maxbins=5` are too small and too big, respectively."
   ]
  },
  {
   "cell_type": "code",
   "execution_count": 61,
   "id": "c8fd423a",
   "metadata": {
    "execution": {
     "iopub.execute_input": "2022-07-19T22:59:15.711299Z",
     "iopub.status.busy": "2022-07-19T22:59:15.711164Z",
     "iopub.status.idle": "2022-07-19T22:59:15.723179Z",
     "shell.execute_reply": "2022-07-19T22:59:15.722900Z"
    },
    "tags": [
     "remove-cell"
    ]
   },
   "outputs": [],
   "source": [
    "morley_hist_default = alt.Chart(morley_rel).mark_bar(opacity=0.6).encode(\n",
    "    x = alt.X(\"relative_accuracy\", title = \"Relative Accuracy (%)\"), \n",
    "    y=alt.Y('count()', stack=False, title = \"# Measurements\"),\n",
    "    color = alt.Color(\"Expt:N\",  title = \"Experiment ID\")).properties(height=100, width=400)\n",
    "\n",
    "morley_hist_200 = alt.Chart(morley_rel).mark_bar(opacity=0.6).encode(\n",
    "    x = alt.X(\"relative_accuracy\", bin=alt.Bin(maxbins=200), title = \"Relative Accuracy (%)\"), \n",
    "    y=alt.Y('count()', stack=False, title = \"# Measurements\"),\n",
    "    color = alt.Color(\"Expt:N\",  title = \"Experiment ID\")).properties(height=100, width=400)\n",
    "morley_hist_70 = alt.Chart(morley_rel).mark_bar(opacity=0.6).encode(\n",
    "    x = alt.X(\"relative_accuracy\", bin=alt.Bin(maxbins=70), title = \"Relative Accuracy (%)\"), \n",
    "    y=alt.Y('count()', stack=False, title = \"# Measurements\"),\n",
    "    color = alt.Color(\"Expt:N\",  title = \"Experiment ID\")).properties(height=100, width=400)\n",
    "\n",
    "morley_hist_5 = alt.Chart(morley_rel).mark_bar(opacity=0.6).encode(\n",
    "    x = alt.X(\"relative_accuracy\", bin=alt.Bin(maxbins=5), title = \"Relative Accuracy (%)\"), \n",
    "    y=alt.Y('count()', stack=False, title = \"# Measurements\"),\n",
    "    color = alt.Color(\"Expt:N\",  title = \"Experiment ID\")).properties(height=100, width=300)\n",
    "\n",
    "\n",
    "\n",
    "\n",
    "\n",
    "final_plot_max_bins = ((morley_hist_default + v_line).facet(row='Expt:N', data=morley_rel, title = \"default maxbins\") | (morley_hist_200 + v_line).facet(row='Expt:N', data=morley_rel, title = \"maxBins=200\")) & ((morley_hist_70 + v_line).facet(row='Expt:N', data=morley_rel, title = \"maxBins=70\") | (morley_hist_5 + v_line).facet(row='Expt:N', data=morley_rel, title = \"maxBins=5\"))\n",
    "\n"
   ]
  },
  {
   "cell_type": "code",
   "execution_count": 62,
   "id": "cce79e92",
   "metadata": {
    "execution": {
     "iopub.execute_input": "2022-07-19T22:59:15.724891Z",
     "iopub.status.busy": "2022-07-19T22:59:15.724778Z",
     "iopub.status.idle": "2022-07-19T22:59:15.756485Z",
     "shell.execute_reply": "2022-07-19T22:59:15.756181Z"
    },
    "tags": [
     "remove-cell"
    ]
   },
   "outputs": [
    {
     "data": {
      "text/html": [
       "\n",
       "<div id=\"altair-viz-402dfee9e046481b8360ab83d7fede00\"></div>\n",
       "<script type=\"text/javascript\">\n",
       "  var VEGA_DEBUG = (typeof VEGA_DEBUG == \"undefined\") ? {} : VEGA_DEBUG;\n",
       "  (function(spec, embedOpt){\n",
       "    let outputDiv = document.currentScript.previousElementSibling;\n",
       "    if (outputDiv.id !== \"altair-viz-402dfee9e046481b8360ab83d7fede00\") {\n",
       "      outputDiv = document.getElementById(\"altair-viz-402dfee9e046481b8360ab83d7fede00\");\n",
       "    }\n",
       "    const paths = {\n",
       "      \"vega\": \"https://cdn.jsdelivr.net/npm//vega@5?noext\",\n",
       "      \"vega-lib\": \"https://cdn.jsdelivr.net/npm//vega-lib?noext\",\n",
       "      \"vega-lite\": \"https://cdn.jsdelivr.net/npm//vega-lite@4.17.0?noext\",\n",
       "      \"vega-embed\": \"https://cdn.jsdelivr.net/npm//vega-embed@6?noext\",\n",
       "    };\n",
       "\n",
       "    function maybeLoadScript(lib, version) {\n",
       "      var key = `${lib.replace(\"-\", \"\")}_version`;\n",
       "      return (VEGA_DEBUG[key] == version) ?\n",
       "        Promise.resolve(paths[lib]) :\n",
       "        new Promise(function(resolve, reject) {\n",
       "          var s = document.createElement('script');\n",
       "          document.getElementsByTagName(\"head\")[0].appendChild(s);\n",
       "          s.async = true;\n",
       "          s.onload = () => {\n",
       "            VEGA_DEBUG[key] = version;\n",
       "            return resolve(paths[lib]);\n",
       "          };\n",
       "          s.onerror = () => reject(`Error loading script: ${paths[lib]}`);\n",
       "          s.src = paths[lib];\n",
       "        });\n",
       "    }\n",
       "\n",
       "    function showError(err) {\n",
       "      outputDiv.innerHTML = `<div class=\"error\" style=\"color:red;\">${err}</div>`;\n",
       "      throw err;\n",
       "    }\n",
       "\n",
       "    function displayChart(vegaEmbed) {\n",
       "      vegaEmbed(outputDiv, spec, embedOpt)\n",
       "        .catch(err => showError(`Javascript Error: ${err.message}<br>This usually means there's a typo in your chart specification. See the javascript console for the full traceback.`));\n",
       "    }\n",
       "\n",
       "    if(typeof define === \"function\" && define.amd) {\n",
       "      requirejs.config({paths});\n",
       "      require([\"vega-embed\"], displayChart, err => showError(`Error loading script: ${err.message}`));\n",
       "    } else {\n",
       "      maybeLoadScript(\"vega\", \"5\")\n",
       "        .then(() => maybeLoadScript(\"vega-lite\", \"4.17.0\"))\n",
       "        .then(() => maybeLoadScript(\"vega-embed\", \"6\"))\n",
       "        .catch(showError)\n",
       "        .then(() => displayChart(vegaEmbed));\n",
       "    }\n",
       "  })({\"config\": {\"view\": {\"continuousWidth\": 400, \"continuousHeight\": 300}}, \"vconcat\": [{\"hconcat\": [{\"facet\": {\"row\": {\"field\": \"Expt\", \"type\": \"nominal\"}}, \"spec\": {\"layer\": [{\"data\": {\"name\": \"data-1e61acf23f6299bc481d4a56ec8b6596\"}, \"mark\": {\"type\": \"bar\", \"opacity\": 0.6}, \"encoding\": {\"color\": {\"field\": \"Expt\", \"title\": \"Experiment ID\", \"type\": \"nominal\"}, \"x\": {\"field\": \"relative_accuracy\", \"title\": \"Relative Accuracy (%)\", \"type\": \"quantitative\"}, \"y\": {\"aggregate\": \"count\", \"stack\": false, \"title\": \"# Measurements\", \"type\": \"quantitative\"}}, \"height\": 100, \"width\": 400}, {\"data\": {\"name\": \"data-9c00aa9dc2b1c1a0b4bf9b34ead12925\"}, \"mark\": {\"type\": \"rule\", \"size\": 2, \"strokeDash\": [3, 3]}, \"encoding\": {\"x\": {\"field\": \"x\", \"type\": \"quantitative\"}}}]}, \"title\": \"default maxbins\"}, {\"facet\": {\"row\": {\"field\": \"Expt\", \"type\": \"nominal\"}}, \"spec\": {\"layer\": [{\"data\": {\"name\": \"data-1e61acf23f6299bc481d4a56ec8b6596\"}, \"mark\": {\"type\": \"bar\", \"opacity\": 0.6}, \"encoding\": {\"color\": {\"field\": \"Expt\", \"title\": \"Experiment ID\", \"type\": \"nominal\"}, \"x\": {\"bin\": {\"maxbins\": 200}, \"field\": \"relative_accuracy\", \"title\": \"Relative Accuracy (%)\", \"type\": \"quantitative\"}, \"y\": {\"aggregate\": \"count\", \"stack\": false, \"title\": \"# Measurements\", \"type\": \"quantitative\"}}, \"height\": 100, \"width\": 400}, {\"data\": {\"name\": \"data-9c00aa9dc2b1c1a0b4bf9b34ead12925\"}, \"mark\": {\"type\": \"rule\", \"size\": 2, \"strokeDash\": [3, 3]}, \"encoding\": {\"x\": {\"field\": \"x\", \"type\": \"quantitative\"}}}]}, \"title\": \"maxBins=200\"}]}, {\"hconcat\": [{\"facet\": {\"row\": {\"field\": \"Expt\", \"type\": \"nominal\"}}, \"spec\": {\"layer\": [{\"data\": {\"name\": \"data-1e61acf23f6299bc481d4a56ec8b6596\"}, \"mark\": {\"type\": \"bar\", \"opacity\": 0.6}, \"encoding\": {\"color\": {\"field\": \"Expt\", \"title\": \"Experiment ID\", \"type\": \"nominal\"}, \"x\": {\"bin\": {\"maxbins\": 70}, \"field\": \"relative_accuracy\", \"title\": \"Relative Accuracy (%)\", \"type\": \"quantitative\"}, \"y\": {\"aggregate\": \"count\", \"stack\": false, \"title\": \"# Measurements\", \"type\": \"quantitative\"}}, \"height\": 100, \"width\": 400}, {\"data\": {\"name\": \"data-9c00aa9dc2b1c1a0b4bf9b34ead12925\"}, \"mark\": {\"type\": \"rule\", \"size\": 2, \"strokeDash\": [3, 3]}, \"encoding\": {\"x\": {\"field\": \"x\", \"type\": \"quantitative\"}}}]}, \"title\": \"maxBins=70\"}, {\"facet\": {\"row\": {\"field\": \"Expt\", \"type\": \"nominal\"}}, \"spec\": {\"layer\": [{\"data\": {\"name\": \"data-1e61acf23f6299bc481d4a56ec8b6596\"}, \"mark\": {\"type\": \"bar\", \"opacity\": 0.6}, \"encoding\": {\"color\": {\"field\": \"Expt\", \"title\": \"Experiment ID\", \"type\": \"nominal\"}, \"x\": {\"bin\": {\"maxbins\": 5}, \"field\": \"relative_accuracy\", \"title\": \"Relative Accuracy (%)\", \"type\": \"quantitative\"}, \"y\": {\"aggregate\": \"count\", \"stack\": false, \"title\": \"# Measurements\", \"type\": \"quantitative\"}}, \"height\": 100, \"width\": 300}, {\"data\": {\"name\": \"data-9c00aa9dc2b1c1a0b4bf9b34ead12925\"}, \"mark\": {\"type\": \"rule\", \"size\": 2, \"strokeDash\": [3, 3]}, \"encoding\": {\"x\": {\"field\": \"x\", \"type\": \"quantitative\"}}}]}, \"title\": \"maxBins=5\"}]}], \"data\": {\"name\": \"data-1e61acf23f6299bc481d4a56ec8b6596\"}, \"$schema\": \"https://vega.github.io/schema/vega-lite/v4.17.0.json\", \"datasets\": {\"data-1e61acf23f6299bc481d4a56ec8b6596\": [{\"Expt\": 1, \"Run\": 1, \"Speed\": 850, \"relative_accuracy\": 0.01919394516589735}, {\"Expt\": 1, \"Run\": 2, \"Speed\": 740, \"relative_accuracy\": -0.01749810530589938}, {\"Expt\": 1, \"Run\": 3, \"Speed\": 900, \"relative_accuracy\": 0.03587214992580495}, {\"Expt\": 1, \"Run\": 4, \"Speed\": 1070, \"relative_accuracy\": 0.0925780461094908}, {\"Expt\": 1, \"Run\": 5, \"Speed\": 930, \"relative_accuracy\": 0.04587907278174951}, {\"Expt\": 1, \"Run\": 6, \"Speed\": 850, \"relative_accuracy\": 0.01919394516589735}, {\"Expt\": 1, \"Run\": 7, \"Speed\": 950, \"relative_accuracy\": 0.05255035468571256}, {\"Expt\": 1, \"Run\": 8, \"Speed\": 980, \"relative_accuracy\": 0.06255727754165712}, {\"Expt\": 1, \"Run\": 9, \"Speed\": 980, \"relative_accuracy\": 0.06255727754165712}, {\"Expt\": 1, \"Run\": 10, \"Speed\": 880, \"relative_accuracy\": 0.029200868021841908}, {\"Expt\": 1, \"Run\": 11, \"Speed\": 1000, \"relative_accuracy\": 0.06922855944562016}, {\"Expt\": 1, \"Run\": 12, \"Speed\": 980, \"relative_accuracy\": 0.06255727754165712}, {\"Expt\": 1, \"Run\": 13, \"Speed\": 930, \"relative_accuracy\": 0.04587907278174951}, {\"Expt\": 1, \"Run\": 14, \"Speed\": 650, \"relative_accuracy\": -0.04751887387373307}, {\"Expt\": 1, \"Run\": 15, \"Speed\": 760, \"relative_accuracy\": -0.01082682340193634}, {\"Expt\": 1, \"Run\": 16, \"Speed\": 810, \"relative_accuracy\": 0.005851381357971265}, {\"Expt\": 1, \"Run\": 17, \"Speed\": 1000, \"relative_accuracy\": 0.06922855944562016}, {\"Expt\": 1, \"Run\": 18, \"Speed\": 1000, \"relative_accuracy\": 0.06922855944562016}, {\"Expt\": 1, \"Run\": 19, \"Speed\": 960, \"relative_accuracy\": 0.05588599563769407}, {\"Expt\": 1, \"Run\": 20, \"Speed\": 960, \"relative_accuracy\": 0.05588599563769407}, {\"Expt\": 2, \"Run\": 1, \"Speed\": 960, \"relative_accuracy\": 0.05588599563769407}, {\"Expt\": 2, \"Run\": 2, \"Speed\": 940, \"relative_accuracy\": 0.049214713733731034}, {\"Expt\": 2, \"Run\": 3, \"Speed\": 960, \"relative_accuracy\": 0.05588599563769407}, {\"Expt\": 2, \"Run\": 4, \"Speed\": 940, \"relative_accuracy\": 0.049214713733731034}, {\"Expt\": 2, \"Run\": 5, \"Speed\": 880, \"relative_accuracy\": 0.029200868021841908}, {\"Expt\": 2, \"Run\": 6, \"Speed\": 800, \"relative_accuracy\": 0.0025157404059897442}, {\"Expt\": 2, \"Run\": 7, \"Speed\": 850, \"relative_accuracy\": 0.01919394516589735}, {\"Expt\": 2, \"Run\": 8, \"Speed\": 880, \"relative_accuracy\": 0.029200868021841908}, {\"Expt\": 2, \"Run\": 9, \"Speed\": 900, \"relative_accuracy\": 0.03587214992580495}, {\"Expt\": 2, \"Run\": 10, \"Speed\": 840, \"relative_accuracy\": 0.015858304213915826}, {\"Expt\": 2, \"Run\": 11, \"Speed\": 830, \"relative_accuracy\": 0.012522663261934306}, {\"Expt\": 2, \"Run\": 12, \"Speed\": 790, \"relative_accuracy\": -0.0008199005459917767}, {\"Expt\": 2, \"Run\": 13, \"Speed\": 810, \"relative_accuracy\": 0.005851381357971265}, {\"Expt\": 2, \"Run\": 14, \"Speed\": 880, \"relative_accuracy\": 0.029200868021841908}, {\"Expt\": 2, \"Run\": 15, \"Speed\": 880, \"relative_accuracy\": 0.029200868021841908}, {\"Expt\": 2, \"Run\": 16, \"Speed\": 830, \"relative_accuracy\": 0.012522663261934306}, {\"Expt\": 2, \"Run\": 17, \"Speed\": 800, \"relative_accuracy\": 0.0025157404059897442}, {\"Expt\": 2, \"Run\": 18, \"Speed\": 790, \"relative_accuracy\": -0.0008199005459917767}, {\"Expt\": 2, \"Run\": 19, \"Speed\": 760, \"relative_accuracy\": -0.01082682340193634}, {\"Expt\": 2, \"Run\": 20, \"Speed\": 800, \"relative_accuracy\": 0.0025157404059897442}, {\"Expt\": 3, \"Run\": 1, \"Speed\": 880, \"relative_accuracy\": 0.029200868021841908}, {\"Expt\": 3, \"Run\": 2, \"Speed\": 880, \"relative_accuracy\": 0.029200868021841908}, {\"Expt\": 3, \"Run\": 3, \"Speed\": 880, \"relative_accuracy\": 0.029200868021841908}, {\"Expt\": 3, \"Run\": 4, \"Speed\": 860, \"relative_accuracy\": 0.022529586117878867}, {\"Expt\": 3, \"Run\": 5, \"Speed\": 720, \"relative_accuracy\": -0.02416938720986242}, {\"Expt\": 3, \"Run\": 6, \"Speed\": 720, \"relative_accuracy\": -0.02416938720986242}, {\"Expt\": 3, \"Run\": 7, \"Speed\": 620, \"relative_accuracy\": -0.05752579672967763}, {\"Expt\": 3, \"Run\": 8, \"Speed\": 860, \"relative_accuracy\": 0.022529586117878867}, {\"Expt\": 3, \"Run\": 9, \"Speed\": 970, \"relative_accuracy\": 0.059221636589675594}, {\"Expt\": 3, \"Run\": 10, \"Speed\": 950, \"relative_accuracy\": 0.05255035468571256}, {\"Expt\": 3, \"Run\": 11, \"Speed\": 880, \"relative_accuracy\": 0.029200868021841908}, {\"Expt\": 3, \"Run\": 12, \"Speed\": 910, \"relative_accuracy\": 0.039207790877786475}, {\"Expt\": 3, \"Run\": 13, \"Speed\": 850, \"relative_accuracy\": 0.01919394516589735}, {\"Expt\": 3, \"Run\": 14, \"Speed\": 870, \"relative_accuracy\": 0.02586522706986039}, {\"Expt\": 3, \"Run\": 15, \"Speed\": 840, \"relative_accuracy\": 0.015858304213915826}, {\"Expt\": 3, \"Run\": 16, \"Speed\": 840, \"relative_accuracy\": 0.015858304213915826}, {\"Expt\": 3, \"Run\": 17, \"Speed\": 850, \"relative_accuracy\": 0.01919394516589735}, {\"Expt\": 3, \"Run\": 18, \"Speed\": 840, \"relative_accuracy\": 0.015858304213915826}, {\"Expt\": 3, \"Run\": 19, \"Speed\": 840, \"relative_accuracy\": 0.015858304213915826}, {\"Expt\": 3, \"Run\": 20, \"Speed\": 840, \"relative_accuracy\": 0.015858304213915826}, {\"Expt\": 4, \"Run\": 1, \"Speed\": 890, \"relative_accuracy\": 0.03253650897382343}, {\"Expt\": 4, \"Run\": 2, \"Speed\": 810, \"relative_accuracy\": 0.005851381357971265}, {\"Expt\": 4, \"Run\": 3, \"Speed\": 810, \"relative_accuracy\": 0.005851381357971265}, {\"Expt\": 4, \"Run\": 4, \"Speed\": 820, \"relative_accuracy\": 0.009187022309952785}, {\"Expt\": 4, \"Run\": 5, \"Speed\": 800, \"relative_accuracy\": 0.0025157404059897442}, {\"Expt\": 4, \"Run\": 6, \"Speed\": 770, \"relative_accuracy\": -0.007491182449954818}, {\"Expt\": 4, \"Run\": 7, \"Speed\": 760, \"relative_accuracy\": -0.01082682340193634}, {\"Expt\": 4, \"Run\": 8, \"Speed\": 740, \"relative_accuracy\": -0.01749810530589938}, {\"Expt\": 4, \"Run\": 9, \"Speed\": 750, \"relative_accuracy\": -0.01416246435391786}, {\"Expt\": 4, \"Run\": 10, \"Speed\": 760, \"relative_accuracy\": -0.01082682340193634}, {\"Expt\": 4, \"Run\": 11, \"Speed\": 910, \"relative_accuracy\": 0.039207790877786475}, {\"Expt\": 4, \"Run\": 12, \"Speed\": 920, \"relative_accuracy\": 0.04254343182976799}, {\"Expt\": 4, \"Run\": 13, \"Speed\": 890, \"relative_accuracy\": 0.03253650897382343}, {\"Expt\": 4, \"Run\": 14, \"Speed\": 860, \"relative_accuracy\": 0.022529586117878867}, {\"Expt\": 4, \"Run\": 15, \"Speed\": 880, \"relative_accuracy\": 0.029200868021841908}, {\"Expt\": 4, \"Run\": 16, \"Speed\": 720, \"relative_accuracy\": -0.02416938720986242}, {\"Expt\": 4, \"Run\": 17, \"Speed\": 840, \"relative_accuracy\": 0.015858304213915826}, {\"Expt\": 4, \"Run\": 18, \"Speed\": 850, \"relative_accuracy\": 0.01919394516589735}, {\"Expt\": 4, \"Run\": 19, \"Speed\": 850, \"relative_accuracy\": 0.01919394516589735}, {\"Expt\": 4, \"Run\": 20, \"Speed\": 780, \"relative_accuracy\": -0.004155541497973298}, {\"Expt\": 5, \"Run\": 1, \"Speed\": 890, \"relative_accuracy\": 0.03253650897382343}, {\"Expt\": 5, \"Run\": 2, \"Speed\": 840, \"relative_accuracy\": 0.015858304213915826}, {\"Expt\": 5, \"Run\": 3, \"Speed\": 780, \"relative_accuracy\": -0.004155541497973298}, {\"Expt\": 5, \"Run\": 4, \"Speed\": 810, \"relative_accuracy\": 0.005851381357971265}, {\"Expt\": 5, \"Run\": 5, \"Speed\": 760, \"relative_accuracy\": -0.01082682340193634}, {\"Expt\": 5, \"Run\": 6, \"Speed\": 810, \"relative_accuracy\": 0.005851381357971265}, {\"Expt\": 5, \"Run\": 7, \"Speed\": 790, \"relative_accuracy\": -0.0008199005459917767}, {\"Expt\": 5, \"Run\": 8, \"Speed\": 810, \"relative_accuracy\": 0.005851381357971265}, {\"Expt\": 5, \"Run\": 9, \"Speed\": 820, \"relative_accuracy\": 0.009187022309952785}, {\"Expt\": 5, \"Run\": 10, \"Speed\": 850, \"relative_accuracy\": 0.01919394516589735}, {\"Expt\": 5, \"Run\": 11, \"Speed\": 870, \"relative_accuracy\": 0.02586522706986039}, {\"Expt\": 5, \"Run\": 12, \"Speed\": 870, \"relative_accuracy\": 0.02586522706986039}, {\"Expt\": 5, \"Run\": 13, \"Speed\": 810, \"relative_accuracy\": 0.005851381357971265}, {\"Expt\": 5, \"Run\": 14, \"Speed\": 740, \"relative_accuracy\": -0.01749810530589938}, {\"Expt\": 5, \"Run\": 15, \"Speed\": 810, \"relative_accuracy\": 0.005851381357971265}, {\"Expt\": 5, \"Run\": 16, \"Speed\": 940, \"relative_accuracy\": 0.049214713733731034}, {\"Expt\": 5, \"Run\": 17, \"Speed\": 950, \"relative_accuracy\": 0.05255035468571256}, {\"Expt\": 5, \"Run\": 18, \"Speed\": 800, \"relative_accuracy\": 0.0025157404059897442}, {\"Expt\": 5, \"Run\": 19, \"Speed\": 810, \"relative_accuracy\": 0.005851381357971265}, {\"Expt\": 5, \"Run\": 20, \"Speed\": 870, \"relative_accuracy\": 0.02586522706986039}], \"data-9c00aa9dc2b1c1a0b4bf9b34ead12925\": [{\"x\": 0}]}}, {\"mode\": \"vega-lite\"});\n",
       "</script>"
      ],
      "text/plain": [
       "alt.VConcatChart(...)"
      ]
     },
     "metadata": {
      "scrapbook": {
       "mime_prefix": "",
       "name": "final_plot_max_bins"
      }
     },
     "output_type": "display_data"
    }
   ],
   "source": [
    "glue('final_plot_max_bins', final_plot_max_bins, display=True)"
   ]
  },
  {
   "cell_type": "markdown",
   "id": "ebb27832",
   "metadata": {},
   "source": [
    ":::{glue:figure} final_plot_max_bins\n",
    ":figwidth: 700px \n",
    ":name: final_plot_max_bins\n",
    "\n",
    "Effect of varying number of max bins on histograms.\n",
    ":::\n",
    "\n",
    "#### Adding layers to a `altair` plot object {-}\n",
    "\n",
    "One of the powerful features of `altair` is that you \n",
    "can continue to iterate on a single plot object, adding and refining\n",
    "one layer \\index{ggplot!add layer} at a time. If you stored your plot as a named object\n",
    "using the assignment symbol (`=`), you can \n",
    "add to it using the `+` operator.\n",
    "For example, if we wanted to add a vertical line to the last plot we created (`morley_hist`), \n",
    "we can use the `+` operator to add a vertical line chart layer with the `mark_rule` function.\n",
    "The result is shown in {numref}`morley_hist_layer`."
   ]
  },
  {
   "cell_type": "code",
   "execution_count": 63,
   "id": "2873b393",
   "metadata": {
    "execution": {
     "iopub.execute_input": "2022-07-19T22:59:15.758224Z",
     "iopub.status.busy": "2022-07-19T22:59:15.758085Z",
     "iopub.status.idle": "2022-07-19T22:59:15.765994Z",
     "shell.execute_reply": "2022-07-19T22:59:15.765699Z"
    }
   },
   "outputs": [],
   "source": [
    "morley_hist_colored = alt.Chart(morley_df).mark_bar(opacity=0.5).encode(\n",
    "    x = alt.X(\"Speed\"), \n",
    "    y=alt.Y('count()'),\n",
    "    color = \"Expt:N\")\n",
    "    \n",
    "v_line = alt.Chart(pd.DataFrame({'x': [792.458]})).mark_rule(\n",
    "    strokeDash=[3,3], size=1).encode(\n",
    "    x='x')\n",
    "morley_hist_layer = morley_hist_colored + v_line   \n",
    "    "
   ]
  },
  {
   "cell_type": "code",
   "execution_count": 64,
   "id": "cdf9a7f2",
   "metadata": {
    "execution": {
     "iopub.execute_input": "2022-07-19T22:59:15.767766Z",
     "iopub.status.busy": "2022-07-19T22:59:15.767648Z",
     "iopub.status.idle": "2022-07-19T22:59:15.774292Z",
     "shell.execute_reply": "2022-07-19T22:59:15.774014Z"
    },
    "tags": [
     "remove-cell"
    ]
   },
   "outputs": [
    {
     "data": {
      "text/html": [
       "\n",
       "<div id=\"altair-viz-1b0af324c87a4b2d93dc00b71896ebc9\"></div>\n",
       "<script type=\"text/javascript\">\n",
       "  var VEGA_DEBUG = (typeof VEGA_DEBUG == \"undefined\") ? {} : VEGA_DEBUG;\n",
       "  (function(spec, embedOpt){\n",
       "    let outputDiv = document.currentScript.previousElementSibling;\n",
       "    if (outputDiv.id !== \"altair-viz-1b0af324c87a4b2d93dc00b71896ebc9\") {\n",
       "      outputDiv = document.getElementById(\"altair-viz-1b0af324c87a4b2d93dc00b71896ebc9\");\n",
       "    }\n",
       "    const paths = {\n",
       "      \"vega\": \"https://cdn.jsdelivr.net/npm//vega@5?noext\",\n",
       "      \"vega-lib\": \"https://cdn.jsdelivr.net/npm//vega-lib?noext\",\n",
       "      \"vega-lite\": \"https://cdn.jsdelivr.net/npm//vega-lite@4.17.0?noext\",\n",
       "      \"vega-embed\": \"https://cdn.jsdelivr.net/npm//vega-embed@6?noext\",\n",
       "    };\n",
       "\n",
       "    function maybeLoadScript(lib, version) {\n",
       "      var key = `${lib.replace(\"-\", \"\")}_version`;\n",
       "      return (VEGA_DEBUG[key] == version) ?\n",
       "        Promise.resolve(paths[lib]) :\n",
       "        new Promise(function(resolve, reject) {\n",
       "          var s = document.createElement('script');\n",
       "          document.getElementsByTagName(\"head\")[0].appendChild(s);\n",
       "          s.async = true;\n",
       "          s.onload = () => {\n",
       "            VEGA_DEBUG[key] = version;\n",
       "            return resolve(paths[lib]);\n",
       "          };\n",
       "          s.onerror = () => reject(`Error loading script: ${paths[lib]}`);\n",
       "          s.src = paths[lib];\n",
       "        });\n",
       "    }\n",
       "\n",
       "    function showError(err) {\n",
       "      outputDiv.innerHTML = `<div class=\"error\" style=\"color:red;\">${err}</div>`;\n",
       "      throw err;\n",
       "    }\n",
       "\n",
       "    function displayChart(vegaEmbed) {\n",
       "      vegaEmbed(outputDiv, spec, embedOpt)\n",
       "        .catch(err => showError(`Javascript Error: ${err.message}<br>This usually means there's a typo in your chart specification. See the javascript console for the full traceback.`));\n",
       "    }\n",
       "\n",
       "    if(typeof define === \"function\" && define.amd) {\n",
       "      requirejs.config({paths});\n",
       "      require([\"vega-embed\"], displayChart, err => showError(`Error loading script: ${err.message}`));\n",
       "    } else {\n",
       "      maybeLoadScript(\"vega\", \"5\")\n",
       "        .then(() => maybeLoadScript(\"vega-lite\", \"4.17.0\"))\n",
       "        .then(() => maybeLoadScript(\"vega-embed\", \"6\"))\n",
       "        .catch(showError)\n",
       "        .then(() => displayChart(vegaEmbed));\n",
       "    }\n",
       "  })({\"config\": {\"view\": {\"continuousWidth\": 400, \"continuousHeight\": 300}}, \"layer\": [{\"data\": {\"name\": \"data-9505d6e8ffc0fbd66f1f70f18ab69d65\"}, \"mark\": {\"type\": \"bar\", \"opacity\": 0.5}, \"encoding\": {\"color\": {\"field\": \"Expt\", \"type\": \"nominal\"}, \"x\": {\"field\": \"Speed\", \"type\": \"quantitative\"}, \"y\": {\"aggregate\": \"count\", \"type\": \"quantitative\"}}}, {\"data\": {\"name\": \"data-623ad424afb61a0fae69b38cf4c35612\"}, \"mark\": {\"type\": \"rule\", \"size\": 1, \"strokeDash\": [3, 3]}, \"encoding\": {\"x\": {\"field\": \"x\", \"type\": \"quantitative\"}}}], \"$schema\": \"https://vega.github.io/schema/vega-lite/v4.17.0.json\", \"datasets\": {\"data-9505d6e8ffc0fbd66f1f70f18ab69d65\": [{\"Expt\": 1, \"Run\": 1, \"Speed\": 850}, {\"Expt\": 1, \"Run\": 2, \"Speed\": 740}, {\"Expt\": 1, \"Run\": 3, \"Speed\": 900}, {\"Expt\": 1, \"Run\": 4, \"Speed\": 1070}, {\"Expt\": 1, \"Run\": 5, \"Speed\": 930}, {\"Expt\": 1, \"Run\": 6, \"Speed\": 850}, {\"Expt\": 1, \"Run\": 7, \"Speed\": 950}, {\"Expt\": 1, \"Run\": 8, \"Speed\": 980}, {\"Expt\": 1, \"Run\": 9, \"Speed\": 980}, {\"Expt\": 1, \"Run\": 10, \"Speed\": 880}, {\"Expt\": 1, \"Run\": 11, \"Speed\": 1000}, {\"Expt\": 1, \"Run\": 12, \"Speed\": 980}, {\"Expt\": 1, \"Run\": 13, \"Speed\": 930}, {\"Expt\": 1, \"Run\": 14, \"Speed\": 650}, {\"Expt\": 1, \"Run\": 15, \"Speed\": 760}, {\"Expt\": 1, \"Run\": 16, \"Speed\": 810}, {\"Expt\": 1, \"Run\": 17, \"Speed\": 1000}, {\"Expt\": 1, \"Run\": 18, \"Speed\": 1000}, {\"Expt\": 1, \"Run\": 19, \"Speed\": 960}, {\"Expt\": 1, \"Run\": 20, \"Speed\": 960}, {\"Expt\": 2, \"Run\": 1, \"Speed\": 960}, {\"Expt\": 2, \"Run\": 2, \"Speed\": 940}, {\"Expt\": 2, \"Run\": 3, \"Speed\": 960}, {\"Expt\": 2, \"Run\": 4, \"Speed\": 940}, {\"Expt\": 2, \"Run\": 5, \"Speed\": 880}, {\"Expt\": 2, \"Run\": 6, \"Speed\": 800}, {\"Expt\": 2, \"Run\": 7, \"Speed\": 850}, {\"Expt\": 2, \"Run\": 8, \"Speed\": 880}, {\"Expt\": 2, \"Run\": 9, \"Speed\": 900}, {\"Expt\": 2, \"Run\": 10, \"Speed\": 840}, {\"Expt\": 2, \"Run\": 11, \"Speed\": 830}, {\"Expt\": 2, \"Run\": 12, \"Speed\": 790}, {\"Expt\": 2, \"Run\": 13, \"Speed\": 810}, {\"Expt\": 2, \"Run\": 14, \"Speed\": 880}, {\"Expt\": 2, \"Run\": 15, \"Speed\": 880}, {\"Expt\": 2, \"Run\": 16, \"Speed\": 830}, {\"Expt\": 2, \"Run\": 17, \"Speed\": 800}, {\"Expt\": 2, \"Run\": 18, \"Speed\": 790}, {\"Expt\": 2, \"Run\": 19, \"Speed\": 760}, {\"Expt\": 2, \"Run\": 20, \"Speed\": 800}, {\"Expt\": 3, \"Run\": 1, \"Speed\": 880}, {\"Expt\": 3, \"Run\": 2, \"Speed\": 880}, {\"Expt\": 3, \"Run\": 3, \"Speed\": 880}, {\"Expt\": 3, \"Run\": 4, \"Speed\": 860}, {\"Expt\": 3, \"Run\": 5, \"Speed\": 720}, {\"Expt\": 3, \"Run\": 6, \"Speed\": 720}, {\"Expt\": 3, \"Run\": 7, \"Speed\": 620}, {\"Expt\": 3, \"Run\": 8, \"Speed\": 860}, {\"Expt\": 3, \"Run\": 9, \"Speed\": 970}, {\"Expt\": 3, \"Run\": 10, \"Speed\": 950}, {\"Expt\": 3, \"Run\": 11, \"Speed\": 880}, {\"Expt\": 3, \"Run\": 12, \"Speed\": 910}, {\"Expt\": 3, \"Run\": 13, \"Speed\": 850}, {\"Expt\": 3, \"Run\": 14, \"Speed\": 870}, {\"Expt\": 3, \"Run\": 15, \"Speed\": 840}, {\"Expt\": 3, \"Run\": 16, \"Speed\": 840}, {\"Expt\": 3, \"Run\": 17, \"Speed\": 850}, {\"Expt\": 3, \"Run\": 18, \"Speed\": 840}, {\"Expt\": 3, \"Run\": 19, \"Speed\": 840}, {\"Expt\": 3, \"Run\": 20, \"Speed\": 840}, {\"Expt\": 4, \"Run\": 1, \"Speed\": 890}, {\"Expt\": 4, \"Run\": 2, \"Speed\": 810}, {\"Expt\": 4, \"Run\": 3, \"Speed\": 810}, {\"Expt\": 4, \"Run\": 4, \"Speed\": 820}, {\"Expt\": 4, \"Run\": 5, \"Speed\": 800}, {\"Expt\": 4, \"Run\": 6, \"Speed\": 770}, {\"Expt\": 4, \"Run\": 7, \"Speed\": 760}, {\"Expt\": 4, \"Run\": 8, \"Speed\": 740}, {\"Expt\": 4, \"Run\": 9, \"Speed\": 750}, {\"Expt\": 4, \"Run\": 10, \"Speed\": 760}, {\"Expt\": 4, \"Run\": 11, \"Speed\": 910}, {\"Expt\": 4, \"Run\": 12, \"Speed\": 920}, {\"Expt\": 4, \"Run\": 13, \"Speed\": 890}, {\"Expt\": 4, \"Run\": 14, \"Speed\": 860}, {\"Expt\": 4, \"Run\": 15, \"Speed\": 880}, {\"Expt\": 4, \"Run\": 16, \"Speed\": 720}, {\"Expt\": 4, \"Run\": 17, \"Speed\": 840}, {\"Expt\": 4, \"Run\": 18, \"Speed\": 850}, {\"Expt\": 4, \"Run\": 19, \"Speed\": 850}, {\"Expt\": 4, \"Run\": 20, \"Speed\": 780}, {\"Expt\": 5, \"Run\": 1, \"Speed\": 890}, {\"Expt\": 5, \"Run\": 2, \"Speed\": 840}, {\"Expt\": 5, \"Run\": 3, \"Speed\": 780}, {\"Expt\": 5, \"Run\": 4, \"Speed\": 810}, {\"Expt\": 5, \"Run\": 5, \"Speed\": 760}, {\"Expt\": 5, \"Run\": 6, \"Speed\": 810}, {\"Expt\": 5, \"Run\": 7, \"Speed\": 790}, {\"Expt\": 5, \"Run\": 8, \"Speed\": 810}, {\"Expt\": 5, \"Run\": 9, \"Speed\": 820}, {\"Expt\": 5, \"Run\": 10, \"Speed\": 850}, {\"Expt\": 5, \"Run\": 11, \"Speed\": 870}, {\"Expt\": 5, \"Run\": 12, \"Speed\": 870}, {\"Expt\": 5, \"Run\": 13, \"Speed\": 810}, {\"Expt\": 5, \"Run\": 14, \"Speed\": 740}, {\"Expt\": 5, \"Run\": 15, \"Speed\": 810}, {\"Expt\": 5, \"Run\": 16, \"Speed\": 940}, {\"Expt\": 5, \"Run\": 17, \"Speed\": 950}, {\"Expt\": 5, \"Run\": 18, \"Speed\": 800}, {\"Expt\": 5, \"Run\": 19, \"Speed\": 810}, {\"Expt\": 5, \"Run\": 20, \"Speed\": 870}], \"data-623ad424afb61a0fae69b38cf4c35612\": [{\"x\": 792.458}]}}, {\"mode\": \"vega-lite\"});\n",
       "</script>"
      ],
      "text/plain": [
       "alt.LayerChart(...)"
      ]
     },
     "metadata": {
      "scrapbook": {
       "mime_prefix": "",
       "name": "morley_hist_layer"
      }
     },
     "output_type": "display_data"
    }
   ],
   "source": [
    "glue('morley_hist_layer', morley_hist_layer, display=True)"
   ]
  },
  {
   "cell_type": "markdown",
   "id": "3860a6ca",
   "metadata": {},
   "source": [
    ":::{glue:figure} morley_hist_layer\n",
    ":figwidth: 700px \n",
    ":name: morley_hist_layer\n",
    "\n",
    "Histogram of Michelson's speed of light data colored by experiment with layered vertical line.\n",
    ":::\n",
    "\n",
    "\n",
    "We can also add a title to the chart by specifying `title` argument in the `alt.Chart` function"
   ]
  },
  {
   "cell_type": "code",
   "execution_count": 65,
   "id": "cef6b380",
   "metadata": {
    "execution": {
     "iopub.execute_input": "2022-07-19T22:59:15.776061Z",
     "iopub.status.busy": "2022-07-19T22:59:15.775925Z",
     "iopub.status.idle": "2022-07-19T22:59:15.780810Z",
     "shell.execute_reply": "2022-07-19T22:59:15.780527Z"
    }
   },
   "outputs": [],
   "source": [
    "morley_hist_title = alt.Chart(morley_df, title = \"Histogram of Michelson's speed of light data colored by experiment\").mark_bar(opacity=0.5).encode(\n",
    "    x = alt.X(\"Speed\"), \n",
    "    y=alt.Y('count()'),\n",
    "    color = \"Expt:N\")\n",
    "\n"
   ]
  },
  {
   "cell_type": "code",
   "execution_count": 66,
   "id": "396360ca",
   "metadata": {
    "execution": {
     "iopub.execute_input": "2022-07-19T22:59:15.782577Z",
     "iopub.status.busy": "2022-07-19T22:59:15.782467Z",
     "iopub.status.idle": "2022-07-19T22:59:15.787567Z",
     "shell.execute_reply": "2022-07-19T22:59:15.787261Z"
    },
    "tags": [
     "remove-cell"
    ]
   },
   "outputs": [
    {
     "data": {
      "text/html": [
       "\n",
       "<div id=\"altair-viz-b67fe67e6cce48ed8ee9e062d67367c4\"></div>\n",
       "<script type=\"text/javascript\">\n",
       "  var VEGA_DEBUG = (typeof VEGA_DEBUG == \"undefined\") ? {} : VEGA_DEBUG;\n",
       "  (function(spec, embedOpt){\n",
       "    let outputDiv = document.currentScript.previousElementSibling;\n",
       "    if (outputDiv.id !== \"altair-viz-b67fe67e6cce48ed8ee9e062d67367c4\") {\n",
       "      outputDiv = document.getElementById(\"altair-viz-b67fe67e6cce48ed8ee9e062d67367c4\");\n",
       "    }\n",
       "    const paths = {\n",
       "      \"vega\": \"https://cdn.jsdelivr.net/npm//vega@5?noext\",\n",
       "      \"vega-lib\": \"https://cdn.jsdelivr.net/npm//vega-lib?noext\",\n",
       "      \"vega-lite\": \"https://cdn.jsdelivr.net/npm//vega-lite@4.17.0?noext\",\n",
       "      \"vega-embed\": \"https://cdn.jsdelivr.net/npm//vega-embed@6?noext\",\n",
       "    };\n",
       "\n",
       "    function maybeLoadScript(lib, version) {\n",
       "      var key = `${lib.replace(\"-\", \"\")}_version`;\n",
       "      return (VEGA_DEBUG[key] == version) ?\n",
       "        Promise.resolve(paths[lib]) :\n",
       "        new Promise(function(resolve, reject) {\n",
       "          var s = document.createElement('script');\n",
       "          document.getElementsByTagName(\"head\")[0].appendChild(s);\n",
       "          s.async = true;\n",
       "          s.onload = () => {\n",
       "            VEGA_DEBUG[key] = version;\n",
       "            return resolve(paths[lib]);\n",
       "          };\n",
       "          s.onerror = () => reject(`Error loading script: ${paths[lib]}`);\n",
       "          s.src = paths[lib];\n",
       "        });\n",
       "    }\n",
       "\n",
       "    function showError(err) {\n",
       "      outputDiv.innerHTML = `<div class=\"error\" style=\"color:red;\">${err}</div>`;\n",
       "      throw err;\n",
       "    }\n",
       "\n",
       "    function displayChart(vegaEmbed) {\n",
       "      vegaEmbed(outputDiv, spec, embedOpt)\n",
       "        .catch(err => showError(`Javascript Error: ${err.message}<br>This usually means there's a typo in your chart specification. See the javascript console for the full traceback.`));\n",
       "    }\n",
       "\n",
       "    if(typeof define === \"function\" && define.amd) {\n",
       "      requirejs.config({paths});\n",
       "      require([\"vega-embed\"], displayChart, err => showError(`Error loading script: ${err.message}`));\n",
       "    } else {\n",
       "      maybeLoadScript(\"vega\", \"5\")\n",
       "        .then(() => maybeLoadScript(\"vega-lite\", \"4.17.0\"))\n",
       "        .then(() => maybeLoadScript(\"vega-embed\", \"6\"))\n",
       "        .catch(showError)\n",
       "        .then(() => displayChart(vegaEmbed));\n",
       "    }\n",
       "  })({\"config\": {\"view\": {\"continuousWidth\": 400, \"continuousHeight\": 300}}, \"data\": {\"name\": \"data-9505d6e8ffc0fbd66f1f70f18ab69d65\"}, \"mark\": {\"type\": \"bar\", \"opacity\": 0.5}, \"encoding\": {\"color\": {\"field\": \"Expt\", \"type\": \"nominal\"}, \"x\": {\"field\": \"Speed\", \"type\": \"quantitative\"}, \"y\": {\"aggregate\": \"count\", \"type\": \"quantitative\"}}, \"title\": \"Histogram of Michelson's speed of light data colored by experiment\", \"$schema\": \"https://vega.github.io/schema/vega-lite/v4.17.0.json\", \"datasets\": {\"data-9505d6e8ffc0fbd66f1f70f18ab69d65\": [{\"Expt\": 1, \"Run\": 1, \"Speed\": 850}, {\"Expt\": 1, \"Run\": 2, \"Speed\": 740}, {\"Expt\": 1, \"Run\": 3, \"Speed\": 900}, {\"Expt\": 1, \"Run\": 4, \"Speed\": 1070}, {\"Expt\": 1, \"Run\": 5, \"Speed\": 930}, {\"Expt\": 1, \"Run\": 6, \"Speed\": 850}, {\"Expt\": 1, \"Run\": 7, \"Speed\": 950}, {\"Expt\": 1, \"Run\": 8, \"Speed\": 980}, {\"Expt\": 1, \"Run\": 9, \"Speed\": 980}, {\"Expt\": 1, \"Run\": 10, \"Speed\": 880}, {\"Expt\": 1, \"Run\": 11, \"Speed\": 1000}, {\"Expt\": 1, \"Run\": 12, \"Speed\": 980}, {\"Expt\": 1, \"Run\": 13, \"Speed\": 930}, {\"Expt\": 1, \"Run\": 14, \"Speed\": 650}, {\"Expt\": 1, \"Run\": 15, \"Speed\": 760}, {\"Expt\": 1, \"Run\": 16, \"Speed\": 810}, {\"Expt\": 1, \"Run\": 17, \"Speed\": 1000}, {\"Expt\": 1, \"Run\": 18, \"Speed\": 1000}, {\"Expt\": 1, \"Run\": 19, \"Speed\": 960}, {\"Expt\": 1, \"Run\": 20, \"Speed\": 960}, {\"Expt\": 2, \"Run\": 1, \"Speed\": 960}, {\"Expt\": 2, \"Run\": 2, \"Speed\": 940}, {\"Expt\": 2, \"Run\": 3, \"Speed\": 960}, {\"Expt\": 2, \"Run\": 4, \"Speed\": 940}, {\"Expt\": 2, \"Run\": 5, \"Speed\": 880}, {\"Expt\": 2, \"Run\": 6, \"Speed\": 800}, {\"Expt\": 2, \"Run\": 7, \"Speed\": 850}, {\"Expt\": 2, \"Run\": 8, \"Speed\": 880}, {\"Expt\": 2, \"Run\": 9, \"Speed\": 900}, {\"Expt\": 2, \"Run\": 10, \"Speed\": 840}, {\"Expt\": 2, \"Run\": 11, \"Speed\": 830}, {\"Expt\": 2, \"Run\": 12, \"Speed\": 790}, {\"Expt\": 2, \"Run\": 13, \"Speed\": 810}, {\"Expt\": 2, \"Run\": 14, \"Speed\": 880}, {\"Expt\": 2, \"Run\": 15, \"Speed\": 880}, {\"Expt\": 2, \"Run\": 16, \"Speed\": 830}, {\"Expt\": 2, \"Run\": 17, \"Speed\": 800}, {\"Expt\": 2, \"Run\": 18, \"Speed\": 790}, {\"Expt\": 2, \"Run\": 19, \"Speed\": 760}, {\"Expt\": 2, \"Run\": 20, \"Speed\": 800}, {\"Expt\": 3, \"Run\": 1, \"Speed\": 880}, {\"Expt\": 3, \"Run\": 2, \"Speed\": 880}, {\"Expt\": 3, \"Run\": 3, \"Speed\": 880}, {\"Expt\": 3, \"Run\": 4, \"Speed\": 860}, {\"Expt\": 3, \"Run\": 5, \"Speed\": 720}, {\"Expt\": 3, \"Run\": 6, \"Speed\": 720}, {\"Expt\": 3, \"Run\": 7, \"Speed\": 620}, {\"Expt\": 3, \"Run\": 8, \"Speed\": 860}, {\"Expt\": 3, \"Run\": 9, \"Speed\": 970}, {\"Expt\": 3, \"Run\": 10, \"Speed\": 950}, {\"Expt\": 3, \"Run\": 11, \"Speed\": 880}, {\"Expt\": 3, \"Run\": 12, \"Speed\": 910}, {\"Expt\": 3, \"Run\": 13, \"Speed\": 850}, {\"Expt\": 3, \"Run\": 14, \"Speed\": 870}, {\"Expt\": 3, \"Run\": 15, \"Speed\": 840}, {\"Expt\": 3, \"Run\": 16, \"Speed\": 840}, {\"Expt\": 3, \"Run\": 17, \"Speed\": 850}, {\"Expt\": 3, \"Run\": 18, \"Speed\": 840}, {\"Expt\": 3, \"Run\": 19, \"Speed\": 840}, {\"Expt\": 3, \"Run\": 20, \"Speed\": 840}, {\"Expt\": 4, \"Run\": 1, \"Speed\": 890}, {\"Expt\": 4, \"Run\": 2, \"Speed\": 810}, {\"Expt\": 4, \"Run\": 3, \"Speed\": 810}, {\"Expt\": 4, \"Run\": 4, \"Speed\": 820}, {\"Expt\": 4, \"Run\": 5, \"Speed\": 800}, {\"Expt\": 4, \"Run\": 6, \"Speed\": 770}, {\"Expt\": 4, \"Run\": 7, \"Speed\": 760}, {\"Expt\": 4, \"Run\": 8, \"Speed\": 740}, {\"Expt\": 4, \"Run\": 9, \"Speed\": 750}, {\"Expt\": 4, \"Run\": 10, \"Speed\": 760}, {\"Expt\": 4, \"Run\": 11, \"Speed\": 910}, {\"Expt\": 4, \"Run\": 12, \"Speed\": 920}, {\"Expt\": 4, \"Run\": 13, \"Speed\": 890}, {\"Expt\": 4, \"Run\": 14, \"Speed\": 860}, {\"Expt\": 4, \"Run\": 15, \"Speed\": 880}, {\"Expt\": 4, \"Run\": 16, \"Speed\": 720}, {\"Expt\": 4, \"Run\": 17, \"Speed\": 840}, {\"Expt\": 4, \"Run\": 18, \"Speed\": 850}, {\"Expt\": 4, \"Run\": 19, \"Speed\": 850}, {\"Expt\": 4, \"Run\": 20, \"Speed\": 780}, {\"Expt\": 5, \"Run\": 1, \"Speed\": 890}, {\"Expt\": 5, \"Run\": 2, \"Speed\": 840}, {\"Expt\": 5, \"Run\": 3, \"Speed\": 780}, {\"Expt\": 5, \"Run\": 4, \"Speed\": 810}, {\"Expt\": 5, \"Run\": 5, \"Speed\": 760}, {\"Expt\": 5, \"Run\": 6, \"Speed\": 810}, {\"Expt\": 5, \"Run\": 7, \"Speed\": 790}, {\"Expt\": 5, \"Run\": 8, \"Speed\": 810}, {\"Expt\": 5, \"Run\": 9, \"Speed\": 820}, {\"Expt\": 5, \"Run\": 10, \"Speed\": 850}, {\"Expt\": 5, \"Run\": 11, \"Speed\": 870}, {\"Expt\": 5, \"Run\": 12, \"Speed\": 870}, {\"Expt\": 5, \"Run\": 13, \"Speed\": 810}, {\"Expt\": 5, \"Run\": 14, \"Speed\": 740}, {\"Expt\": 5, \"Run\": 15, \"Speed\": 810}, {\"Expt\": 5, \"Run\": 16, \"Speed\": 940}, {\"Expt\": 5, \"Run\": 17, \"Speed\": 950}, {\"Expt\": 5, \"Run\": 18, \"Speed\": 800}, {\"Expt\": 5, \"Run\": 19, \"Speed\": 810}, {\"Expt\": 5, \"Run\": 20, \"Speed\": 870}]}}, {\"mode\": \"vega-lite\"});\n",
       "</script>"
      ],
      "text/plain": [
       "alt.Chart(...)"
      ]
     },
     "metadata": {
      "scrapbook": {
       "mime_prefix": "",
       "name": "morley_hist_title"
      }
     },
     "output_type": "display_data"
    }
   ],
   "source": [
    "glue('morley_hist_title', morley_hist_title, display=True)"
   ]
  },
  {
   "cell_type": "markdown",
   "id": "4f034d43",
   "metadata": {},
   "source": [
    ":::{glue:figure} morley_hist_title\n",
    ":figwidth: 700px \n",
    ":name: morley_hist_title\n",
    "\n",
    "Histogram of Michelson's speed of light data colored with title\n",
    ":::\n",
    "\n",
    "\n",
    "> **Note:** Good visualization titles clearly communicate \n",
    "> the take home message to the audience. Typically, \n",
    "> that is the answer to the question you posed before making the visualization.\n",
    "\n",
    "## Explaining the visualization\n",
    "#### *Tell a story* {-}\n",
    "\n",
    "Typically, your visualization will not be shown entirely on its own, but rather\n",
    "it will be part of a larger presentation.  Further, visualizations can provide\n",
    "supporting information for any aspect of a presentation, from opening to\n",
    "conclusion.  For example, you could use an exploratory visualization in the\n",
    "opening of the presentation to motivate your choice of a more detailed data\n",
    "analysis / model, a visualization of the results of your analysis to show what\n",
    "your analysis has uncovered, or even one at the end of a presentation to help\n",
    "suggest directions for future work. \n",
    "\n",
    "Regardless of where it appears, a good way to discuss your visualization \\index{visualization!explanation} is as\n",
    "a story: \n",
    "\n",
    "1) Establish the setting and scope, and describe why you did what you did. \n",
    "2) Pose the question that your visualization answers. Justify why the question is important to answer.\n",
    "3) Answer the question using your visualization. Make sure you describe *all* aspects of the visualization (including describing the axes). But you \n",
    "   can emphasize different aspects based on what is important to answer your question:\n",
    "    - **trends (lines):** Does a line describe the trend well? If so, the trend is *linear*, and if not, the trend is *nonlinear*. Is the trend increasing, decreasing, or neither?\n",
    "                        Is there a periodic oscillation (wiggle) in the trend? Is the trend noisy (does the line \"jump around\" a lot) or smooth?\n",
    "    - **distributions (scatters, histograms):** How spread out are the data? Where are they centered, roughly? Are there any obvious \"clusters\" or \"subgroups\", which would be visible as multiple bumps in the histogram?\n",
    "    - **distributions of two variables (scatters):** Is there a clear / strong relationship between the variables (points fall in a distinct pattern), a weak one (points fall in a pattern but there is some noise), or no discernible\n",
    "      relationship (the data are too noisy to make any conclusion)?\n",
    "    - **amounts (bars):** How large are the bars relative to one another? Are there patterns in different groups of bars? \n",
    "4) Summarize your findings, and use them to motivate whatever you will discuss next.\n",
    "\n",
    "Below are two examples of how one might take these four steps in describing the example visualizations that appeared earlier in this chapter.\n",
    "Each of the steps is denoted by its numeral in parentheses, e.g. (3).\n",
    "\n",
    "**Mauna Loa Atmospheric CO$_{\\text{2}}$ Measurements:** (1) \\index{Mauna Loa} Many \n",
    "current forms of energy generation and conversion&mdash;from automotive\n",
    "engines to natural gas power plants&mdash;rely on burning fossil fuels and produce\n",
    "greenhouse gases, typically primarily carbon dioxide (CO$_{\\text{2}}$), as a\n",
    "byproduct. Too much of these gases in the Earth's atmosphere will cause it to\n",
    "trap more heat from the sun, leading to global warming. (2) In order to assess\n",
    "how quickly the atmospheric concentration of CO$_{\\text{2}}$ is increasing over\n",
    "time, we (3) used a data set from the Mauna Loa observatory in Hawaii,\n",
    "consisting of CO$_{\\text{2}}$ measurements from 1980 to 2020. We plotted the\n",
    "measured concentration of CO$_{\\text{2}}$ (on the vertical axis) over time (on\n",
    "the horizontal axis). From this plot, you can see a clear, increasing, and\n",
    "generally linear trend over time. There is also a periodic oscillation that\n",
    "occurs once per year and aligns with Hawaii's seasons, with an amplitude that\n",
    "is small relative to the growth in the overall trend. This shows that\n",
    "atmospheric CO$_{\\text{2}}$ is clearly increasing over time, and (4) it is\n",
    "perhaps worth investigating more into the causes.\n",
    "\n",
    "**Michelson Light Speed Experiments:** (1) \\index{Michelson speed of light} Our\n",
    "modern understanding of the physics of light has advanced significantly from\n",
    "the late 1800s when Michelson and Morley's experiments first demonstrated that\n",
    "it had a finite speed. We now know, based on modern experiments, that it moves at\n",
    "roughly 299,792.458 kilometers per second. (2) But how accurately were we first\n",
    "able to measure this fundamental physical constant, and did certain experiments\n",
    "produce more accurate results than others?  (3) To better understand this, we\n",
    "plotted data from 5 experiments by Michelson in 1879, each with 20 trials, as\n",
    "histograms stacked on top of one another.  The horizontal axis shows the\n",
    "accuracy of the measurements relative to the true speed of light as we know it\n",
    "today, expressed as a percentage.  From this visualization, you can see that\n",
    "most results had relative errors of at most 0.05%. You can also see that\n",
    "experiments 1 and 3 had measurements that were the farthest from the true\n",
    "value, and experiment 5 tended to provide the most consistently accurate\n",
    "result. (4) It would be worth further investigating the differences between\n",
    "these experiments to see why they produced different results.\n",
    "\n",
    "## Saving the visualization\n",
    "#### *Choose the right output format for your needs* {-}\n",
    "\n",
    "Just as there are many ways to store data sets, there are many ways to store\n",
    "visualizations and images.  Which one you choose can depend on several factors,\n",
    "such as file size/type limitations (e.g., if you are submitting your\n",
    "visualization as part of a conference paper or to a poster printing shop) and\n",
    "where it will be displayed (e.g., online, in a paper, on a poster, on a\n",
    "billboard, in talk slides).  Generally speaking, images come in two flavors:\n",
    "*raster* \\index{bitmap|see{raster graphics}}\\index{raster graphics} formats \n",
    "and *vector* \\index{vector graphics} formats.\n",
    "\n",
    "**Raster** images are represented as a 2-D grid of square pixels, each\n",
    "with its own color. Raster images are often *compressed* before storing so they\n",
    "take up less space. A compressed format is *lossy* if the image cannot be\n",
    "perfectly re-created when loading and displaying, with the hope that the change\n",
    "is not noticeable. *Lossless* formats, on the other hand, allow a perfect\n",
    "display of the original image.\n",
    "\\index{raster graphics!file types}\n",
    "\n",
    "- *Common file types:* \n",
    "   \n",
    "    - [PNG](https://en.wikipedia.org/wiki/Portable_Network_Graphics) (`.png`): lossless, usually used for plots / line drawings\n",
    "   \n",
    "- *Open-source software:* [GIMP](https://www.gimp.org/)\n",
    "\n",
    "**Vector** images are represented as a collection of mathematical \n",
    "objects (lines, surfaces, shapes, curves). When the computer displays the image, it \n",
    "redraws all of the elements using their mathematical formulas.\n",
    "\\index{vector graphics!file types}\n",
    "\n",
    "- *Common file types:* \n",
    "    - [SVG](https://en.wikipedia.org/wiki/Scalable_Vector_Graphics) (`.svg`): general-purpose use \n",
    "    \n",
    "- *Open-source software:* [Inkscape](https://inkscape.org/)\n",
    "\n",
    "Raster and vector images have opposing advantages and disadvantages. A raster\n",
    "image of a fixed width / height takes the same amount of space and time to load\n",
    "regardless of what the image shows (the one caveat is that the compression algorithms may\n",
    "shrink the image more or run faster for certain images). A vector image takes\n",
    "space and time to load corresponding to how complex the image is, since the\n",
    "computer has to draw all the elements each time it is displayed. For example,\n",
    "if you have a scatter plot with 1 million points stored as an SVG file, it may\n",
    "take your computer some time to open the image. On the other hand, you can zoom\n",
    "into / scale up vector graphics as much as you like without the image looking\n",
    "bad, while raster images eventually start to look \"pixelated.\" \n",
    "\n",
    "> **Note:** The portable document format [PDF](https://en.wikipedia.org/wiki/PDF) (`.pdf`) is commonly used to\n",
    "> store *both* raster and vector formats. If you try to open a PDF and it's taking a long time\n",
    "> to load, it may be because there is a complicated vector graphics image that your computer is rendering. \n",
    "\\index{PDF}\n",
    "\\index{portable document format|see{PDF}}\n",
    "\n",
    "Let's learn how to save plot images to these different file formats using a \n",
    "scatter plot of \n",
    "the [Old Faithful data set](https://www.stat.cmu.edu/~larry/all-of-statistics/=data/faithful.dat) [@faithfuldata],\n",
    "shown in {numref}`faithful_scatter_labels`\n",
    "\n",
    "\n",
    "\n",
    ":::{glue:figure} faithful_scatter_labels\n",
    ":figwidth: 700px \n",
    ":name: faithful_scatter_labels\n",
    "\n",
    "Scatter plot of waiting time and eruption time.\n",
    ":::\n",
    "\n",
    "Now that we have a named `altair` plot object, we can use the `chart.save` function\n",
    "to save a file containing this image. \n",
    "`chart.save` works by taking the path to the directory where you would like to save the file \n",
    "(e.g., `img/filename.png` to save a file named `filename` to the `img` directory),\n",
    "The kind of image to save is specified by the file extension.\n",
    "For example, \n",
    "to create a PNG image file, we specify that the file extension is `.png`.\n",
    "Below we demonstrate how to save PNG and SVG file types \n",
    "for the `faithful_scater_labels` plot:"
   ]
  },
  {
   "cell_type": "code",
   "execution_count": 67,
   "id": "545cef71",
   "metadata": {
    "execution": {
     "iopub.execute_input": "2022-07-19T22:59:15.789243Z",
     "iopub.status.busy": "2022-07-19T22:59:15.789109Z",
     "iopub.status.idle": "2022-07-19T22:59:17.168415Z",
     "shell.execute_reply": "2022-07-19T22:59:17.167330Z"
    },
    "tags": [
     "remove-cell"
    ]
   },
   "outputs": [
    {
     "name": "stdout",
     "output_type": "stream",
     "text": [
      "Requirement already satisfied: altair_saver in /Users/navyadahiya/opt/miniconda3/envs/dsci/lib/python3.9/site-packages (0.5.0)\r\n",
      "Requirement already satisfied: altair in /Users/navyadahiya/opt/miniconda3/envs/dsci/lib/python3.9/site-packages (from altair_saver) (4.2.0)\r\n",
      "Requirement already satisfied: altair-data-server>=0.4.0 in /Users/navyadahiya/opt/miniconda3/envs/dsci/lib/python3.9/site-packages (from altair_saver) (0.4.1)\r\n",
      "Requirement already satisfied: selenium in /Users/navyadahiya/opt/miniconda3/envs/dsci/lib/python3.9/site-packages (from altair_saver) (4.3.0)\r\n",
      "Requirement already satisfied: altair-viewer in /Users/navyadahiya/opt/miniconda3/envs/dsci/lib/python3.9/site-packages (from altair_saver) (0.4.0)\r\n",
      "Requirement already satisfied: portpicker in /Users/navyadahiya/opt/miniconda3/envs/dsci/lib/python3.9/site-packages (from altair-data-server>=0.4.0->altair_saver) (1.5.0)\r\n",
      "Requirement already satisfied: tornado in /Users/navyadahiya/opt/miniconda3/envs/dsci/lib/python3.9/site-packages (from altair-data-server>=0.4.0->altair_saver) (6.1)\r\n",
      "Requirement already satisfied: pandas>=0.18 in /Users/navyadahiya/opt/miniconda3/envs/dsci/lib/python3.9/site-packages (from altair->altair_saver) (1.4.2)\r\n",
      "Requirement already satisfied: numpy in /Users/navyadahiya/opt/miniconda3/envs/dsci/lib/python3.9/site-packages (from altair->altair_saver) (1.22.3)\r\n",
      "Requirement already satisfied: jsonschema>=3.0 in /Users/navyadahiya/opt/miniconda3/envs/dsci/lib/python3.9/site-packages (from altair->altair_saver) (3.2.0)\r\n",
      "Requirement already satisfied: toolz in /Users/navyadahiya/opt/miniconda3/envs/dsci/lib/python3.9/site-packages (from altair->altair_saver) (0.11.2)\r\n",
      "Requirement already satisfied: jinja2 in /Users/navyadahiya/opt/miniconda3/envs/dsci/lib/python3.9/site-packages (from altair->altair_saver) (3.0.3)\r\n",
      "Requirement already satisfied: entrypoints in /Users/navyadahiya/opt/miniconda3/envs/dsci/lib/python3.9/site-packages (from altair->altair_saver) (0.4)\r\n",
      "Requirement already satisfied: urllib3[secure,socks]~=1.26 in /Users/navyadahiya/opt/miniconda3/envs/dsci/lib/python3.9/site-packages (from selenium->altair_saver) (1.26.9)\r\n",
      "Requirement already satisfied: trio-websocket~=0.9 in /Users/navyadahiya/opt/miniconda3/envs/dsci/lib/python3.9/site-packages (from selenium->altair_saver) (0.9.2)\r\n"
     ]
    },
    {
     "name": "stdout",
     "output_type": "stream",
     "text": [
      "Requirement already satisfied: trio~=0.17 in /Users/navyadahiya/opt/miniconda3/envs/dsci/lib/python3.9/site-packages (from selenium->altair_saver) (0.21.0)\r\n",
      "Requirement already satisfied: six>=1.11.0 in /Users/navyadahiya/opt/miniconda3/envs/dsci/lib/python3.9/site-packages (from jsonschema>=3.0->altair->altair_saver) (1.16.0)\r\n",
      "Requirement already satisfied: setuptools in /Users/navyadahiya/opt/miniconda3/envs/dsci/lib/python3.9/site-packages (from jsonschema>=3.0->altair->altair_saver) (62.3.1)\r\n",
      "Requirement already satisfied: attrs>=17.4.0 in /Users/navyadahiya/opt/miniconda3/envs/dsci/lib/python3.9/site-packages (from jsonschema>=3.0->altair->altair_saver) (21.4.0)\r\n",
      "Requirement already satisfied: pyrsistent>=0.14.0 in /Users/navyadahiya/opt/miniconda3/envs/dsci/lib/python3.9/site-packages (from jsonschema>=3.0->altair->altair_saver) (0.18.1)\r\n",
      "Requirement already satisfied: python-dateutil>=2.8.1 in /Users/navyadahiya/opt/miniconda3/envs/dsci/lib/python3.9/site-packages (from pandas>=0.18->altair->altair_saver) (2.8.2)\r\n",
      "Requirement already satisfied: pytz>=2020.1 in /Users/navyadahiya/opt/miniconda3/envs/dsci/lib/python3.9/site-packages (from pandas>=0.18->altair->altair_saver) (2022.1)\r\n",
      "Requirement already satisfied: idna in /Users/navyadahiya/opt/miniconda3/envs/dsci/lib/python3.9/site-packages (from trio~=0.17->selenium->altair_saver) (3.3)\r\n",
      "Requirement already satisfied: sortedcontainers in /Users/navyadahiya/opt/miniconda3/envs/dsci/lib/python3.9/site-packages (from trio~=0.17->selenium->altair_saver) (2.4.0)\r\n",
      "Requirement already satisfied: outcome in /Users/navyadahiya/opt/miniconda3/envs/dsci/lib/python3.9/site-packages (from trio~=0.17->selenium->altair_saver) (1.2.0)\r\n",
      "Requirement already satisfied: sniffio in /Users/navyadahiya/opt/miniconda3/envs/dsci/lib/python3.9/site-packages (from trio~=0.17->selenium->altair_saver) (1.2.0)\r\n",
      "Requirement already satisfied: async-generator>=1.9 in /Users/navyadahiya/opt/miniconda3/envs/dsci/lib/python3.9/site-packages (from trio~=0.17->selenium->altair_saver) (1.10)\r\n",
      "Requirement already satisfied: wsproto>=0.14 in /Users/navyadahiya/opt/miniconda3/envs/dsci/lib/python3.9/site-packages (from trio-websocket~=0.9->selenium->altair_saver) (1.1.0)\r\n",
      "Requirement already satisfied: cryptography>=1.3.4 in /Users/navyadahiya/opt/miniconda3/envs/dsci/lib/python3.9/site-packages (from urllib3[secure,socks]~=1.26->selenium->altair_saver) (36.0.2)\r\n",
      "Requirement already satisfied: certifi in /Users/navyadahiya/opt/miniconda3/envs/dsci/lib/python3.9/site-packages (from urllib3[secure,socks]~=1.26->selenium->altair_saver) (2022.6.15)\r\n",
      "Requirement already satisfied: pyOpenSSL>=0.14 in /Users/navyadahiya/opt/miniconda3/envs/dsci/lib/python3.9/site-packages (from urllib3[secure,socks]~=1.26->selenium->altair_saver) (22.0.0)\r\n",
      "Requirement already satisfied: PySocks!=1.5.7,<2.0,>=1.5.6 in /Users/navyadahiya/opt/miniconda3/envs/dsci/lib/python3.9/site-packages (from urllib3[secure,socks]~=1.26->selenium->altair_saver) (1.7.1)\r\n",
      "Requirement already satisfied: MarkupSafe>=2.0 in /Users/navyadahiya/opt/miniconda3/envs/dsci/lib/python3.9/site-packages (from jinja2->altair->altair_saver) (2.1.1)\r\n",
      "Requirement already satisfied: psutil in /Users/navyadahiya/opt/miniconda3/envs/dsci/lib/python3.9/site-packages (from portpicker->altair-data-server>=0.4.0->altair_saver) (5.9.0)\r\n"
     ]
    },
    {
     "name": "stdout",
     "output_type": "stream",
     "text": [
      "Requirement already satisfied: cffi>=1.12 in /Users/navyadahiya/opt/miniconda3/envs/dsci/lib/python3.9/site-packages (from cryptography>=1.3.4->urllib3[secure,socks]~=1.26->selenium->altair_saver) (1.15.0)\r\n",
      "Requirement already satisfied: h11<1,>=0.9.0 in /Users/navyadahiya/opt/miniconda3/envs/dsci/lib/python3.9/site-packages (from wsproto>=0.14->trio-websocket~=0.9->selenium->altair_saver) (0.13.0)\r\n"
     ]
    },
    {
     "name": "stdout",
     "output_type": "stream",
     "text": [
      "Requirement already satisfied: pycparser in /Users/navyadahiya/opt/miniconda3/envs/dsci/lib/python3.9/site-packages (from cffi>=1.12->cryptography>=1.3.4->urllib3[secure,socks]~=1.26->selenium->altair_saver) (2.21)\r\n"
     ]
    }
   ],
   "source": [
    "!pip install altair_saver"
   ]
  },
  {
   "cell_type": "code",
   "execution_count": 68,
   "id": "e459373e",
   "metadata": {
    "execution": {
     "iopub.execute_input": "2022-07-19T22:59:17.172544Z",
     "iopub.status.busy": "2022-07-19T22:59:17.172249Z",
     "iopub.status.idle": "2022-07-19T22:59:20.547634Z",
     "shell.execute_reply": "2022-07-19T22:59:20.546909Z"
    }
   },
   "outputs": [],
   "source": [
    "#!pip install altair_saver  #uncomment and run in jupyter notebook to install altair_saver, if not already installed\n",
    "from altair_saver import save\n",
    "\n",
    "faithful_scatter_labels.save(\"faithful_plot.png\")\n",
    "faithful_scatter_labels.save(\"faithful_plot.svg\")\n"
   ]
  },
  {
   "cell_type": "code",
   "execution_count": 69,
   "id": "576f7bb9",
   "metadata": {
    "execution": {
     "iopub.execute_input": "2022-07-19T22:59:20.550273Z",
     "iopub.status.busy": "2022-07-19T22:59:20.550091Z",
     "iopub.status.idle": "2022-07-19T22:59:20.554329Z",
     "shell.execute_reply": "2022-07-19T22:59:20.554051Z"
    },
    "tags": [
     "remove-cell"
    ]
   },
   "outputs": [
    {
     "data": {
      "text/plain": [
       "0.032595"
      ]
     },
     "metadata": {
      "scrapbook": {
       "mime_prefix": "",
       "name": "png_size"
      }
     },
     "output_type": "display_data"
    },
    {
     "data": {
      "text/plain": [
       "0.118558"
      ]
     },
     "metadata": {
      "scrapbook": {
       "mime_prefix": "",
       "name": "svg_size"
      }
     },
     "output_type": "display_data"
    }
   ],
   "source": [
    "import os\n",
    "png_size = os.path.getsize(\"data/faithful_plot.png\")/1000000\n",
    "svg_size = os.path.getsize(\"data/faithful_plot.svg\")/1000000\n",
    "\n",
    "glue(\"png_size\", png_size)\n",
    "glue(\"svg_size\", svg_size)"
   ]
  },
  {
   "cell_type": "markdown",
   "id": "3310bbf5",
   "metadata": {},
   "source": [
    "```{list-table} File sizes of the scatter plot of the Old Faithful data set when saved as different file formats.\n",
    ":header-rows: 1\n",
    ":name: png-vs-svg-table\n",
    "\n",
    "* - Image type\n",
    "  - File type\n",
    "  - Image size\n",
    "* - Raster\n",
    "  - PNG\n",
    "  - {glue:}`png_size`\n",
    "* - Vector\n",
    "  - SVG\n",
    "  - {glue:}`svg_size`\n",
    "```\n",
    "\n",
    "\n",
    "\n",
    "Take a look at the file sizes in {numref}`png-vs-svg-table`\n",
    "Wow, that's quite a difference! Notice that for such a simple plot with few\n",
    "graphical elements (points), the vector graphics format (SVG) is over 100 times\n",
    "smaller than the uncompressed raster images. \n",
    "\n",
    "In {numref}`png-vs-svg`, we also show what\n",
    "the images look like when we zoom in to a rectangle with only 3 data points.\n",
    "You can see why vector graphics formats are so useful: because they're just\n",
    "based on mathematical formulas, vector graphics can be scaled up to arbitrary\n",
    "sizes.  This makes them great for presentation media of all sizes, from papers\n",
    "to posters to billboards.\n",
    "\n",
    "\n",
    "\n",
    "\n",
    "\n",
    "```{figure} img/png-vs-svg.png\n",
    "---\n",
    "height: 400px\n",
    "name: png-vs-svg\n",
    "---\n",
    "Zoomed in `faithful`, raster (PNG, left) and vector (SVG, right) formats.\n",
    "```\n",
    "\n",
    "## Exercises\n",
    "\n",
    "Practice exercises for the material covered in this chapter \n",
    "can be found in the accompanying \n",
    "[worksheets repository](https://github.com/UBC-DSCI/data-science-a-first-intro-worksheets#readme)\n",
    "in the \"Effective data visualization\" row.\n",
    "You can launch an interactive version of the worksheet in your browser by clicking the \"launch binder\" button.\n",
    "You can also preview a non-interactive version of the worksheet by clicking \"view worksheet.\"\n",
    "If you instead decide to download the worksheet and run it on your own machine,\n",
    "make sure to follow the instructions for computer setup\n",
    "found in Chapter \\@ref(move-to-your-own-machine). This will ensure that the automated feedback\n",
    "and guidance that the worksheets provide will function as intended.\n",
    "\n",
    "## Additional resources\n",
    "- The [altair documentation](https://altair-viz.github.io/) [@ggplot] is\n",
    "  where you should look if you want to learn more about the functions in this\n",
    "  chapter, the full set of arguments you can use, and other related functions.\n",
    "  The site also provides a very nice cheat sheet that summarizes many of the data\n",
    "  wrangling functions from this chapter.\n",
    "- The *Fundamentals of Data Visualization* [@wilkeviz] has\n",
    "  a wealth of information on designing effective visualizations. It is not\n",
    "  specific to any particular programming language or library. If you want to\n",
    "  improve your visualization skills, this is the next place to look.\n",
    "- *R for Data Science* [@wickham2016r] has a [chapter on creating visualizations using\n",
    "  `ggplot2`](https://r4ds.had.co.nz/data-visualisation.html). This reference is\n",
    "  specific to R and `ggplot2`, but provides a much more detailed introduction to\n",
    "  the full set of tools that `ggplot2` provides. This chapter is where you should\n",
    "  look if you want to learn how to make more intricate visualizations in\n",
    "  `ggplot2` than what is included in this chapter.\n",
    "- [dates and\n",
    "  times](https://wesmckinney.com/book/time-series.html).  This chapter is where\n",
    "  you should look if you want to learn about `date` and `time`, including how to\n",
    "  create them, and how to use them to effectively handle durations, etc"
   ]
  }
 ],
 "metadata": {
  "jupytext": {
   "formats": "py:percent,md:myst,ipynb"
  },
  "kernelspec": {
   "display_name": "Python 3 (ipykernel)",
   "language": "python",
   "name": "python3"
  },
  "language_info": {
   "codemirror_mode": {
    "name": "ipython",
    "version": 3
   },
   "file_extension": ".py",
   "mimetype": "text/x-python",
   "name": "python",
   "nbconvert_exporter": "python",
   "pygments_lexer": "ipython3",
   "version": "3.9.12"
  }
 },
 "nbformat": 4,
 "nbformat_minor": 5
}
