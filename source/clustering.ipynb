{
 "cells": [
  {
   "cell_type": "markdown",
   "id": "e116f696",
   "metadata": {},
   "source": [
    "# Clustering {#clustering}"
   ]
  },
  {
   "cell_type": "code",
   "execution_count": 1,
   "id": "6d1f72b0",
   "metadata": {
    "execution": {
     "iopub.execute_input": "2022-06-27T06:01:04.608184Z",
     "iopub.status.busy": "2022-06-27T06:01:04.607597Z",
     "iopub.status.idle": "2022-06-27T06:01:05.447997Z",
     "shell.execute_reply": "2022-06-27T06:01:05.447655Z"
    }
   },
   "outputs": [
    {
     "data": {
      "text/plain": [
       "RendererRegistry.enable('mimetype')"
      ]
     },
     "execution_count": 1,
     "metadata": {},
     "output_type": "execute_result"
    }
   ],
   "source": [
    "import warnings\n",
    "warnings.filterwarnings(\"ignore\")\n",
    "\n",
    "import pandas as pd\n",
    "import numpy as np\n",
    "import random\n",
    "from sklearn.preprocessing import StandardScaler\n",
    "from sklearn.compose import make_column_transformer\n",
    "\n",
    "import altair as alt\n",
    "# Save a vega-lite spec and a PNG blob for each plot in the notebook\n",
    "alt.renderers.enable('mimetype')\n",
    "\n",
    "\n",
    "\n"
   ]
  },
  {
   "cell_type": "markdown",
   "id": "412897b7",
   "metadata": {},
   "source": [
    "## Overview \n",
    "As part of exploratory data analysis, it is often helpful to see if there are\n",
    "meaningful subgroups (or *clusters*) in the data. \n",
    "This grouping can be used for many purposes, \n",
    "such as generating new questions or improving predictive analyses. \n",
    "This chapter provides an introduction to clustering \n",
    "using the K-means algorithm,\n",
    "including techniques to choose the number of clusters.\n",
    "\n",
    "## Chapter learning objectives \n",
    "By the end of the chapter, readers will be able to do the following:\n",
    "\n",
    "* Describe a case where clustering is appropriate, \n",
    "and what insight it might extract from the data.\n",
    "* Explain the K-means clustering algorithm.\n",
    "* Interpret the output of a K-means analysis.\n",
    "* Differentiate between clustering and classification.\n",
    "* Identify when it is necessary to scale variables before clustering and do this using Python\n",
    "* Perform k-means clustering in Python using `scikit-learn`\n",
    "* Use the elbow method to choose the number of clusters for K-means.\n",
    "* Visualize the output of k-means clustering in Python using a coloured scatter plot\n",
    "* Describe advantages, limitations and assumptions of the kmeans clustering algorithm.\n",
    "\n",
    "## Clustering\n",
    "Clustering \\index{clustering} is a data analysis task \n",
    "involving separating a data set into subgroups of related data. \n",
    "For example, we might use clustering to separate a\n",
    "data set of documents into groups that correspond to topics, a data set of\n",
    "human genetic information into groups that correspond to ancestral\n",
    "subpopulations, or a data set of online customers into groups that correspond\n",
    "to purchasing behaviors.  Once the data are separated, we can, for example,\n",
    "use the subgroups to generate new questions about the data and follow up with a\n",
    "predictive modeling exercise. In this course, clustering will be used only for\n",
    "exploratory analysis, i.e., uncovering patterns in the data.  \n",
    "\n",
    "Note that clustering is a fundamentally different kind of task \n",
    "than classification or regression. \n",
    "In particular, both classification and regression are *supervised tasks* \n",
    "\\index{classification}\\index{regression}\\index{supervised} \n",
    "where there is a *response variable* (a category label or value), \n",
    "and we have examples of past data with labels/values \n",
    "that help us predict those of future data. \n",
    "By contrast, clustering is an *unsupervised task*, \n",
    "\\index{unsupervised} as we are trying to understand \n",
    "and examine the structure of data without any response variable labels \n",
    "or values to help us. \n",
    "This approach has both advantages and disadvantages. \n",
    "Clustering requires no additional annotation or input on the data. \n",
    "For example, it would be nearly impossible to annotate \n",
    "all the articles on Wikipedia with human-made topic labels. \n",
    "However, we can still cluster the articles without this information \n",
    "to find groupings corresponding to topics automatically. \n",
    "\n",
    "Given that there is no response variable, it is not as easy to evaluate\n",
    "the \"quality\" of a clustering.  With classification, we can use a test data set\n",
    "to assess prediction performance. In clustering, there is not a single good\n",
    "choice for evaluation. In this book, we will use visualization to ascertain the\n",
    "quality of a clustering, and leave rigorous evaluation for more advanced\n",
    "courses.  \n",
    "\n",
    "As in the case of classification, \n",
    "there are many possible methods that we could use to cluster our observations \n",
    "to look for subgroups. \n",
    "In this book, we will focus on the widely used K-means \\index{K-means} algorithm [@kmeans]. \n",
    "In your future studies, you might encounter hierarchical clustering,\n",
    "principal component analysis, multidimensional scaling, and more; \n",
    "see the additional resources section at the end of this chapter \n",
    "for where to begin learning more about these other methods.\n",
    "\n",
    "\\newpage\n",
    "\n",
    "> **Note:** There are also so-called *semisupervised* tasks, \\index{semisupervised} \n",
    "> where only some of the data come with response variable labels/values, \n",
    "> but the vast majority don't. \n",
    "> The goal is to try to uncover underlying structure in the data \n",
    "> that allows one to guess the missing labels. \n",
    "> This sort of task is beneficial, for example, \n",
    "> when one has an unlabeled data set that is too large to manually label, \n",
    "> but one is willing to provide a few informative example labels as a \"seed\" \n",
    "> to guess the labels for all the data.\n",
    "\n",
    "**An illustrative example** \n",
    "\n",
    "Here we will present an illustrative example using a data set \\index{Palmer penguins} from\n",
    "[the `palmerpenguins` R package](https://allisonhorst.github.io/palmerpenguins/) [@palmerpenguins]. This \n",
    "data set was collected by Dr. Kristen Gorman and\n",
    "the Palmer Station, Antarctica Long Term Ecological Research Site, and includes\n",
    "measurements for adult penguins found near there [@penguinpaper]. We have\n",
    "modified the data set for use in this chapter. Here we will focus on using two\n",
    "variables&mdash;penguin bill and flipper length, both in millimeters&mdash;to determine whether \n",
    "there are distinct types of penguins in our data.\n",
    "Understanding this might help us with species discovery and classification in a data-driven\n",
    "way.\n",
    "\n",
    "\n",
    "\n",
    "```{figure} img/gentoo.jpg\n",
    "---\n",
    "height: 400px\n",
    "name: 09-penguins\n",
    "---\n",
    "Gentoo penguin.\n",
    "```\n",
    "\n",
    "To learn about K-means clustering \n",
    "we will work with `penguin_data` in this chapter.\n",
    "`penguin_data` is a subset of 18 observations of the original data, \n",
    "which has already been standardized \n",
    "(remember from Chapter \\@ref(classification) \n",
    "that scaling is part of the standardization process). \n",
    "We will discuss scaling for K-means in more detail later in this chapter. \n",
    "\\index{mutate}\\index{read function!read\\_csv} \n",
    "\n",
    "Before we get started, we will set a random seed.\n",
    "This will ensure that our analysis will be reproducible.\n",
    "As we will learn in more detail later in the chapter, \n",
    "setting the seed here is important \n",
    "because the K-means clustering algorithm uses random numbers.\n",
    "\n",
    "\n",
    "\n",
    "\\index{seed!set.seed}"
   ]
  },
  {
   "cell_type": "code",
   "execution_count": 2,
   "id": "b3713397",
   "metadata": {
    "execution": {
     "iopub.execute_input": "2022-06-27T06:01:05.450235Z",
     "iopub.status.busy": "2022-06-27T06:01:05.450041Z",
     "iopub.status.idle": "2022-06-27T06:01:05.452236Z",
     "shell.execute_reply": "2022-06-27T06:01:05.451912Z"
    }
   },
   "outputs": [],
   "source": [
    "np.random.seed(1)"
   ]
  },
  {
   "cell_type": "markdown",
   "id": "23d4d646",
   "metadata": {},
   "source": [
    "Now we can load and preview the data."
   ]
  },
  {
   "cell_type": "code",
   "execution_count": 3,
   "id": "6b321f39",
   "metadata": {
    "execution": {
     "iopub.execute_input": "2022-06-27T06:01:05.454000Z",
     "iopub.status.busy": "2022-06-27T06:01:05.453857Z",
     "iopub.status.idle": "2022-06-27T06:01:05.465984Z",
     "shell.execute_reply": "2022-06-27T06:01:05.465668Z"
    },
    "tags": [
     "remove-cell"
    ]
   },
   "outputs": [
    {
     "data": {
      "text/html": [
       "<div>\n",
       "<style scoped>\n",
       "    .dataframe tbody tr th:only-of-type {\n",
       "        vertical-align: middle;\n",
       "    }\n",
       "\n",
       "    .dataframe tbody tr th {\n",
       "        vertical-align: top;\n",
       "    }\n",
       "\n",
       "    .dataframe thead th {\n",
       "        text-align: right;\n",
       "    }\n",
       "</style>\n",
       "<table border=\"1\" class=\"dataframe\">\n",
       "  <thead>\n",
       "    <tr style=\"text-align: right;\">\n",
       "      <th></th>\n",
       "      <th>island</th>\n",
       "      <th>bill_length_mm</th>\n",
       "      <th>bill_depth_mm</th>\n",
       "      <th>flipper_length_mm</th>\n",
       "      <th>body_mass_g</th>\n",
       "      <th>sex</th>\n",
       "      <th>year</th>\n",
       "      <th>cluster</th>\n",
       "      <th>bill_length_standardized</th>\n",
       "      <th>flipper_length_standardized</th>\n",
       "    </tr>\n",
       "  </thead>\n",
       "  <tbody>\n",
       "    <tr>\n",
       "      <th>0</th>\n",
       "      <td>Dream</td>\n",
       "      <td>39.2</td>\n",
       "      <td>21.1</td>\n",
       "      <td>196</td>\n",
       "      <td>4150</td>\n",
       "      <td>male</td>\n",
       "      <td>2007</td>\n",
       "      <td>1</td>\n",
       "      <td>-0.641361</td>\n",
       "      <td>-0.189773</td>\n",
       "    </tr>\n",
       "    <tr>\n",
       "      <th>1</th>\n",
       "      <td>Dream</td>\n",
       "      <td>36.5</td>\n",
       "      <td>18.0</td>\n",
       "      <td>182</td>\n",
       "      <td>3150</td>\n",
       "      <td>female</td>\n",
       "      <td>2007</td>\n",
       "      <td>1</td>\n",
       "      <td>-1.144917</td>\n",
       "      <td>-1.328412</td>\n",
       "    </tr>\n",
       "    <tr>\n",
       "      <th>2</th>\n",
       "      <td>Biscoe</td>\n",
       "      <td>34.5</td>\n",
       "      <td>18.1</td>\n",
       "      <td>187</td>\n",
       "      <td>2900</td>\n",
       "      <td>female</td>\n",
       "      <td>2008</td>\n",
       "      <td>1</td>\n",
       "      <td>-1.517922</td>\n",
       "      <td>-0.921755</td>\n",
       "    </tr>\n",
       "    <tr>\n",
       "      <th>3</th>\n",
       "      <td>Torgersen</td>\n",
       "      <td>36.7</td>\n",
       "      <td>18.8</td>\n",
       "      <td>187</td>\n",
       "      <td>3800</td>\n",
       "      <td>female</td>\n",
       "      <td>2008</td>\n",
       "      <td>1</td>\n",
       "      <td>-1.107617</td>\n",
       "      <td>-0.921755</td>\n",
       "    </tr>\n",
       "    <tr>\n",
       "      <th>4</th>\n",
       "      <td>Biscoe</td>\n",
       "      <td>38.1</td>\n",
       "      <td>17.0</td>\n",
       "      <td>181</td>\n",
       "      <td>3175</td>\n",
       "      <td>female</td>\n",
       "      <td>2009</td>\n",
       "      <td>1</td>\n",
       "      <td>-0.846513</td>\n",
       "      <td>-1.409743</td>\n",
       "    </tr>\n",
       "    <tr>\n",
       "      <th>5</th>\n",
       "      <td>Dream</td>\n",
       "      <td>39.2</td>\n",
       "      <td>18.6</td>\n",
       "      <td>190</td>\n",
       "      <td>4250</td>\n",
       "      <td>male</td>\n",
       "      <td>2009</td>\n",
       "      <td>1</td>\n",
       "      <td>-0.641361</td>\n",
       "      <td>-0.677761</td>\n",
       "    </tr>\n",
       "    <tr>\n",
       "      <th>6</th>\n",
       "      <td>Dream</td>\n",
       "      <td>36.0</td>\n",
       "      <td>17.8</td>\n",
       "      <td>195</td>\n",
       "      <td>3450</td>\n",
       "      <td>female</td>\n",
       "      <td>2009</td>\n",
       "      <td>1</td>\n",
       "      <td>-1.238168</td>\n",
       "      <td>-0.271104</td>\n",
       "    </tr>\n",
       "    <tr>\n",
       "      <th>7</th>\n",
       "      <td>Dream</td>\n",
       "      <td>37.8</td>\n",
       "      <td>18.1</td>\n",
       "      <td>193</td>\n",
       "      <td>3750</td>\n",
       "      <td>male</td>\n",
       "      <td>2009</td>\n",
       "      <td>1</td>\n",
       "      <td>-0.902464</td>\n",
       "      <td>-0.433767</td>\n",
       "    </tr>\n",
       "    <tr>\n",
       "      <th>8</th>\n",
       "      <td>Biscoe</td>\n",
       "      <td>46.5</td>\n",
       "      <td>14.5</td>\n",
       "      <td>213</td>\n",
       "      <td>4400</td>\n",
       "      <td>female</td>\n",
       "      <td>2007</td>\n",
       "      <td>3</td>\n",
       "      <td>0.720106</td>\n",
       "      <td>1.192860</td>\n",
       "    </tr>\n",
       "    <tr>\n",
       "      <th>9</th>\n",
       "      <td>Biscoe</td>\n",
       "      <td>46.1</td>\n",
       "      <td>15.1</td>\n",
       "      <td>215</td>\n",
       "      <td>5100</td>\n",
       "      <td>male</td>\n",
       "      <td>2007</td>\n",
       "      <td>3</td>\n",
       "      <td>0.645505</td>\n",
       "      <td>1.355522</td>\n",
       "    </tr>\n",
       "    <tr>\n",
       "      <th>10</th>\n",
       "      <td>Biscoe</td>\n",
       "      <td>47.8</td>\n",
       "      <td>15.0</td>\n",
       "      <td>215</td>\n",
       "      <td>5650</td>\n",
       "      <td>male</td>\n",
       "      <td>2007</td>\n",
       "      <td>3</td>\n",
       "      <td>0.962559</td>\n",
       "      <td>1.355522</td>\n",
       "    </tr>\n",
       "    <tr>\n",
       "      <th>11</th>\n",
       "      <td>Biscoe</td>\n",
       "      <td>45.0</td>\n",
       "      <td>15.4</td>\n",
       "      <td>220</td>\n",
       "      <td>5050</td>\n",
       "      <td>male</td>\n",
       "      <td>2008</td>\n",
       "      <td>3</td>\n",
       "      <td>0.440353</td>\n",
       "      <td>1.762179</td>\n",
       "    </tr>\n",
       "    <tr>\n",
       "      <th>12</th>\n",
       "      <td>Biscoe</td>\n",
       "      <td>49.1</td>\n",
       "      <td>14.5</td>\n",
       "      <td>212</td>\n",
       "      <td>4625</td>\n",
       "      <td>female</td>\n",
       "      <td>2009</td>\n",
       "      <td>3</td>\n",
       "      <td>1.205012</td>\n",
       "      <td>1.111528</td>\n",
       "    </tr>\n",
       "    <tr>\n",
       "      <th>13</th>\n",
       "      <td>Biscoe</td>\n",
       "      <td>43.3</td>\n",
       "      <td>14.0</td>\n",
       "      <td>208</td>\n",
       "      <td>4575</td>\n",
       "      <td>female</td>\n",
       "      <td>2009</td>\n",
       "      <td>3</td>\n",
       "      <td>0.123299</td>\n",
       "      <td>0.786203</td>\n",
       "    </tr>\n",
       "    <tr>\n",
       "      <th>14</th>\n",
       "      <td>Dream</td>\n",
       "      <td>46.0</td>\n",
       "      <td>18.9</td>\n",
       "      <td>195</td>\n",
       "      <td>4150</td>\n",
       "      <td>female</td>\n",
       "      <td>2007</td>\n",
       "      <td>2</td>\n",
       "      <td>0.626855</td>\n",
       "      <td>-0.271104</td>\n",
       "    </tr>\n",
       "    <tr>\n",
       "      <th>15</th>\n",
       "      <td>Dream</td>\n",
       "      <td>46.7</td>\n",
       "      <td>17.9</td>\n",
       "      <td>195</td>\n",
       "      <td>3300</td>\n",
       "      <td>female</td>\n",
       "      <td>2007</td>\n",
       "      <td>2</td>\n",
       "      <td>0.757407</td>\n",
       "      <td>-0.271104</td>\n",
       "    </tr>\n",
       "    <tr>\n",
       "      <th>16</th>\n",
       "      <td>Dream</td>\n",
       "      <td>52.2</td>\n",
       "      <td>18.8</td>\n",
       "      <td>197</td>\n",
       "      <td>3450</td>\n",
       "      <td>male</td>\n",
       "      <td>2009</td>\n",
       "      <td>2</td>\n",
       "      <td>1.783170</td>\n",
       "      <td>-0.108442</td>\n",
       "    </tr>\n",
       "    <tr>\n",
       "      <th>17</th>\n",
       "      <td>Dream</td>\n",
       "      <td>46.8</td>\n",
       "      <td>16.5</td>\n",
       "      <td>189</td>\n",
       "      <td>3650</td>\n",
       "      <td>female</td>\n",
       "      <td>2009</td>\n",
       "      <td>2</td>\n",
       "      <td>0.776057</td>\n",
       "      <td>-0.759092</td>\n",
       "    </tr>\n",
       "  </tbody>\n",
       "</table>\n",
       "</div>"
      ],
      "text/plain": [
       "       island  bill_length_mm  bill_depth_mm  flipper_length_mm  body_mass_g  \\\n",
       "0       Dream            39.2           21.1                196         4150   \n",
       "1       Dream            36.5           18.0                182         3150   \n",
       "2      Biscoe            34.5           18.1                187         2900   \n",
       "3   Torgersen            36.7           18.8                187         3800   \n",
       "4      Biscoe            38.1           17.0                181         3175   \n",
       "5       Dream            39.2           18.6                190         4250   \n",
       "6       Dream            36.0           17.8                195         3450   \n",
       "7       Dream            37.8           18.1                193         3750   \n",
       "8      Biscoe            46.5           14.5                213         4400   \n",
       "9      Biscoe            46.1           15.1                215         5100   \n",
       "10     Biscoe            47.8           15.0                215         5650   \n",
       "11     Biscoe            45.0           15.4                220         5050   \n",
       "12     Biscoe            49.1           14.5                212         4625   \n",
       "13     Biscoe            43.3           14.0                208         4575   \n",
       "14      Dream            46.0           18.9                195         4150   \n",
       "15      Dream            46.7           17.9                195         3300   \n",
       "16      Dream            52.2           18.8                197         3450   \n",
       "17      Dream            46.8           16.5                189         3650   \n",
       "\n",
       "       sex  year  cluster  bill_length_standardized  \\\n",
       "0     male  2007        1                 -0.641361   \n",
       "1   female  2007        1                 -1.144917   \n",
       "2   female  2008        1                 -1.517922   \n",
       "3   female  2008        1                 -1.107617   \n",
       "4   female  2009        1                 -0.846513   \n",
       "5     male  2009        1                 -0.641361   \n",
       "6   female  2009        1                 -1.238168   \n",
       "7     male  2009        1                 -0.902464   \n",
       "8   female  2007        3                  0.720106   \n",
       "9     male  2007        3                  0.645505   \n",
       "10    male  2007        3                  0.962559   \n",
       "11    male  2008        3                  0.440353   \n",
       "12  female  2009        3                  1.205012   \n",
       "13  female  2009        3                  0.123299   \n",
       "14  female  2007        2                  0.626855   \n",
       "15  female  2007        2                  0.757407   \n",
       "16    male  2009        2                  1.783170   \n",
       "17  female  2009        2                  0.776057   \n",
       "\n",
       "    flipper_length_standardized  \n",
       "0                     -0.189773  \n",
       "1                     -1.328412  \n",
       "2                     -0.921755  \n",
       "3                     -0.921755  \n",
       "4                     -1.409743  \n",
       "5                     -0.677761  \n",
       "6                     -0.271104  \n",
       "7                     -0.433767  \n",
       "8                      1.192860  \n",
       "9                      1.355522  \n",
       "10                     1.355522  \n",
       "11                     1.762179  \n",
       "12                     1.111528  \n",
       "13                     0.786203  \n",
       "14                    -0.271104  \n",
       "15                    -0.271104  \n",
       "16                    -0.108442  \n",
       "17                    -0.759092  "
      ]
     },
     "execution_count": 3,
     "metadata": {},
     "output_type": "execute_result"
    }
   ],
   "source": [
    "data = pd.read_csv('data/toy_penguins.csv')\n",
    "data"
   ]
  },
  {
   "cell_type": "code",
   "execution_count": 4,
   "id": "0191ebdd",
   "metadata": {
    "execution": {
     "iopub.execute_input": "2022-06-27T06:01:05.467834Z",
     "iopub.status.busy": "2022-06-27T06:01:05.467698Z",
     "iopub.status.idle": "2022-06-27T06:01:05.473128Z",
     "shell.execute_reply": "2022-06-27T06:01:05.472825Z"
    }
   },
   "outputs": [
    {
     "data": {
      "text/html": [
       "<div>\n",
       "<style scoped>\n",
       "    .dataframe tbody tr th:only-of-type {\n",
       "        vertical-align: middle;\n",
       "    }\n",
       "\n",
       "    .dataframe tbody tr th {\n",
       "        vertical-align: top;\n",
       "    }\n",
       "\n",
       "    .dataframe thead th {\n",
       "        text-align: right;\n",
       "    }\n",
       "</style>\n",
       "<table border=\"1\" class=\"dataframe\">\n",
       "  <thead>\n",
       "    <tr style=\"text-align: right;\">\n",
       "      <th></th>\n",
       "      <th>flipper_length_standardized</th>\n",
       "      <th>bill_length_standardized</th>\n",
       "    </tr>\n",
       "  </thead>\n",
       "  <tbody>\n",
       "    <tr>\n",
       "      <th>0</th>\n",
       "      <td>-0.189773</td>\n",
       "      <td>-0.641361</td>\n",
       "    </tr>\n",
       "    <tr>\n",
       "      <th>1</th>\n",
       "      <td>-1.328412</td>\n",
       "      <td>-1.144917</td>\n",
       "    </tr>\n",
       "    <tr>\n",
       "      <th>2</th>\n",
       "      <td>-0.921755</td>\n",
       "      <td>-1.517922</td>\n",
       "    </tr>\n",
       "    <tr>\n",
       "      <th>3</th>\n",
       "      <td>-0.921755</td>\n",
       "      <td>-1.107617</td>\n",
       "    </tr>\n",
       "    <tr>\n",
       "      <th>4</th>\n",
       "      <td>-1.409743</td>\n",
       "      <td>-0.846513</td>\n",
       "    </tr>\n",
       "    <tr>\n",
       "      <th>5</th>\n",
       "      <td>-0.677761</td>\n",
       "      <td>-0.641361</td>\n",
       "    </tr>\n",
       "    <tr>\n",
       "      <th>6</th>\n",
       "      <td>-0.271104</td>\n",
       "      <td>-1.238168</td>\n",
       "    </tr>\n",
       "    <tr>\n",
       "      <th>7</th>\n",
       "      <td>-0.433767</td>\n",
       "      <td>-0.902464</td>\n",
       "    </tr>\n",
       "    <tr>\n",
       "      <th>8</th>\n",
       "      <td>1.192860</td>\n",
       "      <td>0.720106</td>\n",
       "    </tr>\n",
       "    <tr>\n",
       "      <th>9</th>\n",
       "      <td>1.355522</td>\n",
       "      <td>0.645505</td>\n",
       "    </tr>\n",
       "    <tr>\n",
       "      <th>10</th>\n",
       "      <td>1.355522</td>\n",
       "      <td>0.962559</td>\n",
       "    </tr>\n",
       "    <tr>\n",
       "      <th>11</th>\n",
       "      <td>1.762179</td>\n",
       "      <td>0.440353</td>\n",
       "    </tr>\n",
       "    <tr>\n",
       "      <th>12</th>\n",
       "      <td>1.111528</td>\n",
       "      <td>1.205012</td>\n",
       "    </tr>\n",
       "    <tr>\n",
       "      <th>13</th>\n",
       "      <td>0.786203</td>\n",
       "      <td>0.123299</td>\n",
       "    </tr>\n",
       "    <tr>\n",
       "      <th>14</th>\n",
       "      <td>-0.271104</td>\n",
       "      <td>0.626855</td>\n",
       "    </tr>\n",
       "    <tr>\n",
       "      <th>15</th>\n",
       "      <td>-0.271104</td>\n",
       "      <td>0.757407</td>\n",
       "    </tr>\n",
       "    <tr>\n",
       "      <th>16</th>\n",
       "      <td>-0.108442</td>\n",
       "      <td>1.783170</td>\n",
       "    </tr>\n",
       "    <tr>\n",
       "      <th>17</th>\n",
       "      <td>-0.759092</td>\n",
       "      <td>0.776057</td>\n",
       "    </tr>\n",
       "  </tbody>\n",
       "</table>\n",
       "</div>"
      ],
      "text/plain": [
       "    flipper_length_standardized  bill_length_standardized\n",
       "0                     -0.189773                 -0.641361\n",
       "1                     -1.328412                 -1.144917\n",
       "2                     -0.921755                 -1.517922\n",
       "3                     -0.921755                 -1.107617\n",
       "4                     -1.409743                 -0.846513\n",
       "5                     -0.677761                 -0.641361\n",
       "6                     -0.271104                 -1.238168\n",
       "7                     -0.433767                 -0.902464\n",
       "8                      1.192860                  0.720106\n",
       "9                      1.355522                  0.645505\n",
       "10                     1.355522                  0.962559\n",
       "11                     1.762179                  0.440353\n",
       "12                     1.111528                  1.205012\n",
       "13                     0.786203                  0.123299\n",
       "14                    -0.271104                  0.626855\n",
       "15                    -0.271104                  0.757407\n",
       "16                    -0.108442                  1.783170\n",
       "17                    -0.759092                  0.776057"
      ]
     },
     "execution_count": 4,
     "metadata": {},
     "output_type": "execute_result"
    }
   ],
   "source": [
    "penguin_data = pd.read_csv(\"data/penguins_standardized.csv\")\n",
    "penguin_data\n"
   ]
  },
  {
   "cell_type": "markdown",
   "id": "e2b14ae6",
   "metadata": {},
   "source": [
    "Next, we can create a scatter plot using this data set \n",
    "to see if we can detect subtypes or groups in our data set.\n",
    "\n",
    "\\newpage"
   ]
  },
  {
   "cell_type": "code",
   "execution_count": 5,
   "id": "a85a1c70",
   "metadata": {
    "execution": {
     "iopub.execute_input": "2022-06-27T06:01:05.474860Z",
     "iopub.status.busy": "2022-06-27T06:01:05.474724Z",
     "iopub.status.idle": "2022-06-27T06:01:05.487653Z",
     "shell.execute_reply": "2022-06-27T06:01:05.487360Z"
    }
   },
   "outputs": [
    {
     "data": {
      "application/vnd.vegalite.v4+json": {
       "$schema": "https://vega.github.io/schema/vega-lite/v4.17.0.json",
       "config": {
        "axis": {
         "labelFontSize": 12,
         "titleFontSize": 12
        },
        "title": {
         "fontSize": 12
        },
        "view": {
         "continuousHeight": 300,
         "continuousWidth": 400
        }
       },
       "data": {
        "name": "data-ebb59f3fa086785a5682bd5f8fba47af"
       },
       "datasets": {
        "data-ebb59f3fa086785a5682bd5f8fba47af": [
         {
          "bill_length_standardized": -0.641360823466598,
          "flipper_length_standardized": -0.189773114129794
         },
         {
          "bill_length_standardized": -1.14491714043714,
          "flipper_length_standardized": -1.32841179890856
         },
         {
          "bill_length_standardized": -1.51792181967458,
          "flipper_length_standardized": -0.921755125773284
         },
         {
          "bill_length_standardized": -1.1076166725134,
          "flipper_length_standardized": -0.921755125773284
         },
         {
          "bill_length_standardized": -0.846513397047191,
          "flipper_length_standardized": -1.40974313353561
         },
         {
          "bill_length_standardized": -0.641360823466598,
          "flipper_length_standardized": -0.677761121892121
         },
         {
          "bill_length_standardized": -1.2381683102465,
          "flipper_length_standardized": -0.271104448756849
         },
         {
          "bill_length_standardized": -0.902464098932808,
          "flipper_length_standardized": -0.433767118010958
         },
         {
          "bill_length_standardized": 0.720106255750059,
          "flipper_length_standardized": 1.19285957453013
         },
         {
          "bill_length_standardized": 0.645505319902572,
          "flipper_length_standardized": 1.35552224378424
         },
         {
          "bill_length_standardized": 0.962559297254395,
          "flipper_length_standardized": 1.35552224378424
         },
         {
          "bill_length_standardized": 0.440352746321979,
          "flipper_length_standardized": 1.76217891691951
         },
         {
          "bill_length_standardized": 1.20501233875873,
          "flipper_length_standardized": 1.11152823990308
         },
         {
          "bill_length_standardized": 0.123298768970154,
          "flipper_length_standardized": 0.786202901394858
         },
         {
          "bill_length_standardized": 0.626855085940699,
          "flipper_length_standardized": -0.271104448756849
         },
         {
          "bill_length_standardized": 0.757406723673804,
          "flipper_length_standardized": -0.271104448756849
         },
         {
          "bill_length_standardized": 1.78316959157677,
          "flipper_length_standardized": -0.10844177950274
         },
         {
          "bill_length_standardized": 0.776056957635675,
          "flipper_length_standardized": -0.759092456519175
         }
        ]
       },
       "encoding": {
        "x": {
         "field": "flipper_length_standardized",
         "title": "Flipper Length (standardized)",
         "type": "quantitative"
        },
        "y": {
         "field": "bill_length_standardized",
         "title": "Bill Length (standardized)",
         "type": "quantitative"
        }
       },
       "mark": {
        "color": "black",
        "type": "circle"
       },
       "title": "Scatter plot of standardized bill length versus standardized flipper length."
      },
      "text/plain": [
       "<VegaLite 4 object>\n",
       "\n",
       "If you see this message, it means the renderer has not been properly enabled\n",
       "for the frontend that you are using. For more information, see\n",
       "https://altair-viz.github.io/user_guide/troubleshooting.html\n"
      ]
     },
     "execution_count": 5,
     "metadata": {},
     "output_type": "execute_result"
    }
   ],
   "source": [
    "alt.Chart(penguin_data, title=\"Scatter plot of standardized bill length versus standardized flipper length.\").mark_circle(color='black').encode(\n",
    "    x = alt.X(\"flipper_length_standardized\", title=\"Flipper Length (standardized)\"),\n",
    "    y = alt.Y(\"bill_length_standardized\", title=\"Bill Length (standardized)\")).configure_axis(\n",
    "    labelFontSize=12,\n",
    "    titleFontSize=12\n",
    ").configure_title(fontSize=12)\n",
    " "
   ]
  },
  {
   "cell_type": "markdown",
   "id": "d16db059",
   "metadata": {},
   "source": [
    "Based \\index{ggplot}\\index{ggplot!geom\\_point} on the visualization \n",
    "in Figure \\@ref(fig:10-toy-example-plot), \n",
    "we might suspect there are a few subtypes of penguins within our data set.\n",
    "We can see roughly 3 groups of observations in Figure \\@ref(fig:10-toy-example-plot),\n",
    "including:\n",
    "\n",
    "1. a small flipper and bill length group,\n",
    "2. a small flipper length, but large bill length group, and\n",
    "3. a large  flipper and bill length group.\n",
    "\n",
    "Data visualization is a great tool to give us a rough sense of such patterns\n",
    "when we have a small number of variables. \n",
    "But if we are to group data&mdash;and select the number of groups&mdash;as part of \n",
    "a reproducible analysis, we need something a bit more automated.\n",
    "Additionally, finding groups via visualization becomes more difficult \n",
    "as we increase the number of variables we consider when clustering.\n",
    "The way to rigorously separate the data into groups \n",
    "is to use a clustering algorithm.\n",
    "In this chapter, we will focus on the *K-means* algorithm, \n",
    "\\index{K-means} a widely used and often very effective clustering method, \n",
    "combined with the *elbow method* \\index{elbow method} \n",
    "for selecting the number of clusters. \n",
    "This procedure will separate the data into groups;\n",
    "Figure \\@ref(fig:10-toy-example-clustering) shows these groups\n",
    "denoted by colored scatter points."
   ]
  },
  {
   "cell_type": "code",
   "execution_count": 6,
   "id": "ae7a40cd",
   "metadata": {
    "execution": {
     "iopub.execute_input": "2022-06-27T06:01:05.489484Z",
     "iopub.status.busy": "2022-06-27T06:01:05.489349Z",
     "iopub.status.idle": "2022-06-27T06:01:05.499088Z",
     "shell.execute_reply": "2022-06-27T06:01:05.498792Z"
    }
   },
   "outputs": [
    {
     "data": {
      "application/vnd.vegalite.v4+json": {
       "$schema": "https://vega.github.io/schema/vega-lite/v4.17.0.json",
       "config": {
        "axis": {
         "labelFontSize": 12,
         "titleFontSize": 12
        },
        "title": {
         "fontSize": 12
        },
        "view": {
         "continuousHeight": 300,
         "continuousWidth": 400
        }
       },
       "data": {
        "name": "data-3c9eea8c1410ca5343e5f80a37a0a937"
       },
       "datasets": {
        "data-3c9eea8c1410ca5343e5f80a37a0a937": [
         {
          "bill_depth_mm": 21.1,
          "bill_length_mm": 39.2,
          "bill_length_standardized": -0.641360823466598,
          "body_mass_g": 4150,
          "cluster": 1,
          "flipper_length_mm": 196,
          "flipper_length_standardized": -0.189773114129794,
          "island": "Dream",
          "sex": "male",
          "year": 2007
         },
         {
          "bill_depth_mm": 18.0,
          "bill_length_mm": 36.5,
          "bill_length_standardized": -1.14491714043714,
          "body_mass_g": 3150,
          "cluster": 1,
          "flipper_length_mm": 182,
          "flipper_length_standardized": -1.32841179890856,
          "island": "Dream",
          "sex": "female",
          "year": 2007
         },
         {
          "bill_depth_mm": 18.1,
          "bill_length_mm": 34.5,
          "bill_length_standardized": -1.51792181967458,
          "body_mass_g": 2900,
          "cluster": 1,
          "flipper_length_mm": 187,
          "flipper_length_standardized": -0.921755125773284,
          "island": "Biscoe",
          "sex": "female",
          "year": 2008
         },
         {
          "bill_depth_mm": 18.8,
          "bill_length_mm": 36.7,
          "bill_length_standardized": -1.1076166725134,
          "body_mass_g": 3800,
          "cluster": 1,
          "flipper_length_mm": 187,
          "flipper_length_standardized": -0.921755125773284,
          "island": "Torgersen",
          "sex": "female",
          "year": 2008
         },
         {
          "bill_depth_mm": 17.0,
          "bill_length_mm": 38.1,
          "bill_length_standardized": -0.846513397047191,
          "body_mass_g": 3175,
          "cluster": 1,
          "flipper_length_mm": 181,
          "flipper_length_standardized": -1.40974313353561,
          "island": "Biscoe",
          "sex": "female",
          "year": 2009
         },
         {
          "bill_depth_mm": 18.6,
          "bill_length_mm": 39.2,
          "bill_length_standardized": -0.641360823466598,
          "body_mass_g": 4250,
          "cluster": 1,
          "flipper_length_mm": 190,
          "flipper_length_standardized": -0.677761121892121,
          "island": "Dream",
          "sex": "male",
          "year": 2009
         },
         {
          "bill_depth_mm": 17.8,
          "bill_length_mm": 36.0,
          "bill_length_standardized": -1.2381683102465,
          "body_mass_g": 3450,
          "cluster": 1,
          "flipper_length_mm": 195,
          "flipper_length_standardized": -0.271104448756849,
          "island": "Dream",
          "sex": "female",
          "year": 2009
         },
         {
          "bill_depth_mm": 18.1,
          "bill_length_mm": 37.8,
          "bill_length_standardized": -0.902464098932808,
          "body_mass_g": 3750,
          "cluster": 1,
          "flipper_length_mm": 193,
          "flipper_length_standardized": -0.433767118010958,
          "island": "Dream",
          "sex": "male",
          "year": 2009
         },
         {
          "bill_depth_mm": 14.5,
          "bill_length_mm": 46.5,
          "bill_length_standardized": 0.720106255750059,
          "body_mass_g": 4400,
          "cluster": 3,
          "flipper_length_mm": 213,
          "flipper_length_standardized": 1.19285957453013,
          "island": "Biscoe",
          "sex": "female",
          "year": 2007
         },
         {
          "bill_depth_mm": 15.1,
          "bill_length_mm": 46.1,
          "bill_length_standardized": 0.645505319902572,
          "body_mass_g": 5100,
          "cluster": 3,
          "flipper_length_mm": 215,
          "flipper_length_standardized": 1.35552224378424,
          "island": "Biscoe",
          "sex": "male",
          "year": 2007
         },
         {
          "bill_depth_mm": 15.0,
          "bill_length_mm": 47.8,
          "bill_length_standardized": 0.962559297254395,
          "body_mass_g": 5650,
          "cluster": 3,
          "flipper_length_mm": 215,
          "flipper_length_standardized": 1.35552224378424,
          "island": "Biscoe",
          "sex": "male",
          "year": 2007
         },
         {
          "bill_depth_mm": 15.4,
          "bill_length_mm": 45.0,
          "bill_length_standardized": 0.440352746321979,
          "body_mass_g": 5050,
          "cluster": 3,
          "flipper_length_mm": 220,
          "flipper_length_standardized": 1.76217891691951,
          "island": "Biscoe",
          "sex": "male",
          "year": 2008
         },
         {
          "bill_depth_mm": 14.5,
          "bill_length_mm": 49.1,
          "bill_length_standardized": 1.20501233875873,
          "body_mass_g": 4625,
          "cluster": 3,
          "flipper_length_mm": 212,
          "flipper_length_standardized": 1.11152823990308,
          "island": "Biscoe",
          "sex": "female",
          "year": 2009
         },
         {
          "bill_depth_mm": 14.0,
          "bill_length_mm": 43.3,
          "bill_length_standardized": 0.123298768970154,
          "body_mass_g": 4575,
          "cluster": 3,
          "flipper_length_mm": 208,
          "flipper_length_standardized": 0.786202901394858,
          "island": "Biscoe",
          "sex": "female",
          "year": 2009
         },
         {
          "bill_depth_mm": 18.9,
          "bill_length_mm": 46.0,
          "bill_length_standardized": 0.626855085940699,
          "body_mass_g": 4150,
          "cluster": 2,
          "flipper_length_mm": 195,
          "flipper_length_standardized": -0.271104448756849,
          "island": "Dream",
          "sex": "female",
          "year": 2007
         },
         {
          "bill_depth_mm": 17.9,
          "bill_length_mm": 46.7,
          "bill_length_standardized": 0.757406723673804,
          "body_mass_g": 3300,
          "cluster": 2,
          "flipper_length_mm": 195,
          "flipper_length_standardized": -0.271104448756849,
          "island": "Dream",
          "sex": "female",
          "year": 2007
         },
         {
          "bill_depth_mm": 18.8,
          "bill_length_mm": 52.2,
          "bill_length_standardized": 1.78316959157677,
          "body_mass_g": 3450,
          "cluster": 2,
          "flipper_length_mm": 197,
          "flipper_length_standardized": -0.10844177950274,
          "island": "Dream",
          "sex": "male",
          "year": 2009
         },
         {
          "bill_depth_mm": 16.5,
          "bill_length_mm": 46.8,
          "bill_length_standardized": 0.776056957635675,
          "body_mass_g": 3650,
          "cluster": 2,
          "flipper_length_mm": 189,
          "flipper_length_standardized": -0.759092456519175,
          "island": "Dream",
          "sex": "female",
          "year": 2009
         }
        ]
       },
       "encoding": {
        "color": {
         "field": "cluster",
         "scale": {
          "range": [
           "orange",
           "blue",
           "brown"
          ]
         },
         "type": "nominal"
        },
        "x": {
         "field": "flipper_length_standardized",
         "title": "Flipper Length (standardized)",
         "type": "quantitative"
        },
        "y": {
         "field": "bill_length_standardized",
         "title": "Bill Length (standardized)",
         "type": "quantitative"
        }
       },
       "mark": "circle",
       "title": "Scatter plot of standardized bill length versus standardized flipper length with colored groups."
      },
      "text/plain": [
       "<VegaLite 4 object>\n",
       "\n",
       "If you see this message, it means the renderer has not been properly enabled\n",
       "for the frontend that you are using. For more information, see\n",
       "https://altair-viz.github.io/user_guide/troubleshooting.html\n"
      ]
     },
     "execution_count": 6,
     "metadata": {},
     "output_type": "execute_result"
    }
   ],
   "source": [
    "colors = [\"orange\", \"blue\", \"brown\"]\n",
    "\n",
    "alt.Chart(data, title=\"Scatter plot of standardized bill length versus standardized flipper length with colored groups.\").mark_circle().encode(\n",
    "    x = alt.X(\"flipper_length_standardized\", title=\"Flipper Length (standardized)\"),\n",
    "    y = alt.Y(\"bill_length_standardized\", title=\"Bill Length (standardized)\"),\n",
    "    color = alt.Color('cluster:N', scale=alt.Scale(range=colors))).configure_axis(\n",
    "    labelFontSize=12,\n",
    "    titleFontSize=12\n",
    ").configure_title(fontSize=12)\n",
    " \n",
    " "
   ]
  },
  {
   "cell_type": "markdown",
   "id": "4f1e9efa",
   "metadata": {},
   "source": [
    "What are the labels for these groups? Unfortunately, we don't have any. K-means,\n",
    "like almost all clustering algorithms, just outputs meaningless \"cluster labels\"\n",
    "that are typically whole numbers: 0, 1, 2, 3, etc. But in a simple case like this,\n",
    "where we can easily visualize the clusters on a scatter plot, we can give\n",
    "human-made labels to the groups using their positions on\n",
    "the plot:\n",
    "\n",
    "- small flipper length and small bill length (<font color=\"#D55E00\">orange cluster</font>), \n",
    "- small flipper length and large bill length (<font color=\"#0072B2\">blue cluster</font>).\n",
    "- and large flipper length and large bill  length (<font color=\"#F0E442\">yellow cluster</font>).\n",
    "\n",
    "Once we have made these determinations, we can use them to inform our species\n",
    "classifications or ask further questions about our data. For example, we might\n",
    "be interested in understanding the relationship between flipper length and bill\n",
    "length, and that relationship may differ depending on the type of penguin we\n",
    "have. \n",
    "\n",
    "## K-means \n",
    "\n",
    "### Measuring cluster quality"
   ]
  },
  {
   "cell_type": "code",
   "execution_count": 7,
   "id": "5a5a3604",
   "metadata": {
    "execution": {
     "iopub.execute_input": "2022-06-27T06:01:05.500810Z",
     "iopub.status.busy": "2022-06-27T06:01:05.500676Z",
     "iopub.status.idle": "2022-06-27T06:01:05.503504Z",
     "shell.execute_reply": "2022-06-27T06:01:05.503214Z"
    }
   },
   "outputs": [],
   "source": [
    "clus = data[data[\"cluster\"] == 2].loc[:,[\"bill_length_standardized\", \"flipper_length_standardized\"]]"
   ]
  },
  {
   "cell_type": "markdown",
   "id": "a90fb542",
   "metadata": {},
   "source": [
    "The K-means algorithm is a procedure that groups data into K clusters.\n",
    "It starts with an initial clustering of the data, and then iteratively\n",
    "improves it by making adjustments to the assignment of data\n",
    "to clusters until it cannot improve any further. But how do we measure\n",
    "the \"quality\" of a clustering, and what does it mean to improve it? \n",
    "In K-means clustering, we measure the quality of a cluster by its\n",
    "\\index{within-cluster sum-of-squared-distances|see{WSSD}}\\index{WSSD}\n",
    "*within-cluster sum-of-squared-distances* (WSSD). Computing this involves two steps.\n",
    "First, we find the cluster centers by computing the mean of each variable \n",
    "over data points in the cluster. For example, suppose we have a \n",
    "cluster containing four observations, and we are using two variables, $x$ and $y$, to cluster the data.\n",
    "Then we would compute the coordinates, $\\mu_x$ and $\\mu_y$, of the cluster center via\n",
    "\n",
    "\n",
    "\n",
    "$\\mu_x = \\frac{1}{4}(x_1+x_2+x_3+x_4) \\quad \\mu_y = \\frac{1}{4}(y_1+y_2+y_3+y_4)$"
   ]
  },
  {
   "cell_type": "code",
   "execution_count": 8,
   "id": "d6cd4b12",
   "metadata": {
    "execution": {
     "iopub.execute_input": "2022-06-27T06:01:05.505446Z",
     "iopub.status.busy": "2022-06-27T06:01:05.505307Z",
     "iopub.status.idle": "2022-06-27T06:01:05.961049Z",
     "shell.execute_reply": "2022-06-27T06:01:05.960703Z"
    },
    "tags": [
     "remove-cell"
    ]
   },
   "outputs": [
    {
     "data": {
      "text/plain": [
       "4"
      ]
     },
     "metadata": {
      "scrapbook": {
       "mime_prefix": "",
       "name": "clus_rows_glue"
      }
     },
     "output_type": "display_data"
    },
    {
     "data": {
      "text/plain": [
       "-0.35"
      ]
     },
     "metadata": {
      "scrapbook": {
       "mime_prefix": "",
       "name": "mean_flipper_len_std_glue"
      }
     },
     "output_type": "display_data"
    },
    {
     "data": {
      "text/plain": [
       "0.99"
      ]
     },
     "metadata": {
      "scrapbook": {
       "mime_prefix": "",
       "name": "mean_bill_len_std_glue"
      }
     },
     "output_type": "display_data"
    }
   ],
   "source": [
    "from myst_nb import glue\n",
    "clus_rows = clus.shape[0]\n",
    "\n",
    "mean_flipper_len_std = round(np.mean(clus['flipper_length_standardized']),2)\n",
    "mean_bill_len_std = round(np.mean(clus['bill_length_standardized']),2)\n",
    "\n",
    "glue(\"clus_rows_glue\", clus_rows)\n",
    "glue(\"mean_flipper_len_std_glue\",mean_flipper_len_std)\n",
    "glue(\"mean_bill_len_std_glue\", mean_bill_len_std)"
   ]
  },
  {
   "cell_type": "markdown",
   "id": "4360e74a",
   "metadata": {},
   "source": [
    "In the first cluster from the example, there are {glue:}`clus_rows_glue` data points. These are shown with their cluster center \n",
    "(flipper_length_standardized = {glue:}`mean_flipper_len_std_glue` and bill_length_standardized = {glue:}`mean_bill_len_std_glue`) highlighted \n",
    "in Figure \\@ref(fig:10-toy-example-clus1-center).\n",
    "\n",
    "(ref:10-toy-example-clus1-center) Cluster 1 from the `penguin_data` data set example. Observations are in blue, with the cluster center highlighted in red.\n",
    "\n",
    "```{figure} img/toy-example-clus1-center-1.png\n",
    "---\n",
    "height: 400px\n",
    "name: toy-example-clus1-center-1\n",
    "---\n",
    "Cluster 1 from the penguin_data data set example. Observations are in blue, with the cluster center highlighted in red.\n",
    "```\n",
    "\n",
    "\n",
    "The second step in computing the WSSD is to add up the squared distance \n",
    "\\index{distance!K-means} between each point in the cluster \n",
    "and the cluster center.\n",
    "We use the straight-line / Euclidean distance formula \n",
    "that we learned about in Chapter \\@ref(classification).\n",
    "In the {glue:}`clus_rows_glue`-observation cluster example above, \n",
    "we would compute the WSSD $S^2$ via\n",
    "\n",
    "\\begin{align*}\n",
    "S^2 = \\left((x_1 - \\mu_x)^2 + (y_1 - \\mu_y)^2\\right) + \\left((x_2 - \\mu_x)^2 + (y_2 - \\mu_y)^2\\right) + \\\\ \\left((x_3 - \\mu_x)^2 + (y_3 - \\mu_y)^2\\right)  +  \\left((x_4 - \\mu_x)^2 + (y_4 - \\mu_y)^2\\right).\n",
    "\\end{align*}\n",
    "\n",
    "These distances are denoted by lines in Figure \\@ref(fig:10-toy-example-clus1-dists) for the first cluster of the penguin data example. \n",
    "\n",
    "(ref:10-toy-example-clus1-dists) Cluster 1 from the `penguin_data` data set example. Observations are in blue, with the cluster center highlighted in red. The distances from the observations to the cluster center are represented as black lines.\n",
    "\n",
    "```{figure} img/toy-example-clus1-dists-1.png\n",
    "---\n",
    "height: 400px\n",
    "name: toy-example-clus1-dists-1\n",
    "---\n",
    "Cluster 1 from the penguin_data data set example. Observations are in blue, with the cluster center highlighted in red. The distances from the observations to the cluster center are represented as black lines.\n",
    "```\n",
    "\n",
    "The larger the value of $S^2$, the more spread out the cluster is, since large $S^2$ means that points are far from the cluster center.\n",
    "Note, however, that \"large\" is relative to *both* the scale of the variables for clustering *and* the number of points in the cluster. A cluster where points are very close to the center might still have a large $S^2$ if there are many data points in the cluster.\n",
    "\n",
    "After we have calculated the WSSD for all the clusters, \n",
    "we sum them together to get the *total WSSD*.\n",
    "For our example, \n",
    "this means adding up all the squared distances for the 18 observations.\n",
    "These distances are denoted by black lines in\n",
    "Figure \\@ref(fig:10-toy-example-all-clus-dists).\n",
    "\n",
    "(ref:10-toy-example-all-clus-dists) All clusters from the `penguin_data` data set example. Observations are in orange, blue, and yellow with the cluster center highlighted in red. The distances from the observations to each of the respective cluster centers are represented as black lines.\n",
    "\n",
    "\n",
    "```{figure} img/toy-example-all-clus-dists-1.png\n",
    "---\n",
    "height: 400px\n",
    "name: toy-example-all-clus-dists-1\n",
    "---\n",
    "All clusters from the penguin_data data set example. Observations are in orange, blue, and yellow with the cluster center highlighted in red. The distances from the observations to each of the respective cluster centers are represented as black lines.\n",
    "\n",
    "\n",
    "```\n",
    "\n",
    "\n",
    "\\newpage\n",
    "\n",
    "### The clustering algorithm\n",
    "\n",
    "We begin the K-means \\index{K-means!algorithm} algorithm by picking K, \n",
    "and randomly assigning a roughly equal number of observations \n",
    "to each of the K clusters.\n",
    "An example random initialization is shown in Figure \\@ref(fig:10-toy-kmeans-init).\n",
    "\n",
    "\n",
    "\n",
    "```{figure} img/toy-kmeans-init-1.png\n",
    "---\n",
    "height: 400px\n",
    "name: toy-kmeans-init-1\n",
    "---\n",
    "Random initialization of labels.\n",
    "\n",
    "```\n",
    "\n",
    "\n",
    "Then K-means consists of two major steps that attempt to minimize the\n",
    "sum of WSSDs over all the clusters, i.e., the \\index{WSSD!total} *total WSSD*:\n",
    "\n",
    "1. **Center update:** Compute the center of each cluster.\n",
    "2. **Label update:** Reassign each data point to the cluster with the nearest center.\n",
    "\n",
    "These two steps are repeated until the cluster assignments no longer change.\n",
    "We show what the first four iterations of K-means would look like in  \n",
    "Figure \\@ref(fig:10-toy-kmeans-iter). \n",
    "There each row corresponds to an iteration,\n",
    "where the left column depicts the center update, \n",
    "and the right column depicts the reassignment of data to clusters.\n",
    "\n",
    "(ref:10-toy-kmeans-iter) First four iterations of K-means clustering on the `penguin_data` example data set. Each pair of plots corresponds to an iteration. Within the pair, the first plot depicts the center update, and the second plot depicts the reassignment of data to clusters. Cluster centers are indicated by larger points that are outlined in black.\n",
    "\n",
    "\n",
    "```{figure} img/toy-kmeans-iter-1.png\n",
    "---\n",
    "height: 400px\n",
    "name: toy-kmeans-iter-1\n",
    "---\n",
    "First four iterations of K-means clustering on the penguin_data example data set. Each pair of plots corresponds to an iteration. Within the pair, the first plot depicts the center update, and the second plot depicts the reassignment of data to clusters. Cluster centers are indicated by larger points that are outlined in black.\n",
    "\n",
    "```\n",
    "\n",
    "\n",
    "\n",
    "\n",
    "Note that at this point, we can terminate the algorithm since none of the assignments changed\n",
    "in the fourth iteration; both the centers and labels will remain the same from this point onward.\n",
    "\n",
    "> **Note:** Is K-means *guaranteed* to stop at some point, or could it iterate forever? As it turns out,\n",
    "> thankfully, the answer is that K-means \\index{K-means!termination} is guaranteed to stop after *some* number of iterations. For the interested reader, the\n",
    "> logic for this has three steps: (1) both the label update and the center update decrease total WSSD in each iteration,\n",
    "> (2) the total WSSD is always greater than or equal to 0, and (3) there are only a finite number of possible\n",
    "> ways to assign the data to clusters. So at some point, the total WSSD must stop decreasing, which means none of the assignments\n",
    "> are changing, and the algorithm terminates.\n",
    "\n",
    "What kind of data is suitable for K-means clustering? \n",
    "In the simplest version of K-means clustering that we have presented here,\n",
    "the straight-line distance is used to measure the \n",
    "distance between observations and cluster centers. \n",
    "This means that only quantitative data should be used with this algorithm.\n",
    "There are variants on the K-means algorithm, \n",
    "as well as other clustering algorithms entirely, \n",
    "that use other distance metrics \n",
    "to allow for non-quantitative data to be clustered. \n",
    "These, however, are beyond the scope of this book.\n",
    "\n",
    "### Random restarts\n",
    "\n",
    "Unlike the classification and regression models we studied in previous chapters, K-means \\index{K-means!restart, nstart} can get \"stuck\" in a bad solution.\n",
    "For example, Figure \\@ref(fig:10-toy-kmeans-bad-init) illustrates an unlucky random initialization by K-means.\n",
    "\n",
    "\n",
    "\n",
    "```{figure} img/toy-kmeans-bad-init-1.png\n",
    "---\n",
    "height: 400px\n",
    "name: toy-kmeans-bad-init-1\n",
    "---\n",
    "Random initialization of labels.\n",
    "```\n",
    "\n",
    "\n",
    "\n",
    "\n",
    "\n",
    "Figure \\@ref(fig:10-toy-kmeans-bad-iter) shows what the iterations of K-means would look like with the unlucky random initialization shown in Figure \\@ref(fig:10-toy-kmeans-bad-init).\n",
    "\n",
    "(ref:10-toy-kmeans-bad-iter) First five iterations of K-means clustering on the `penguin_data` example data set with a poor random initialization. Each pair of plots corresponds to an iteration. Within the pair, the first plot depicts the center update, and the second plot depicts the reassignment of data to clusters. Cluster centers are indicated by larger points that are outlined in black.\n",
    "\n",
    "```{figure} img/toy-kmeans-bad-iter-1.png\n",
    "---\n",
    "height: 700px\n",
    "name: toy-kmeans-bad-iter-1\n",
    "---\n",
    "First five iterations of K-means clustering on the penguin_data example data set with a poor random initialization. Each pair of plots corresponds to an iteration. Within the pair, the first plot depicts the center update, and the second plot depicts the reassignment of data to clusters. Cluster centers are indicated by larger points that are outlined in black.\n",
    "```\n",
    "\n",
    "\n",
    "\n",
    "This looks like a relatively bad clustering of the data, but K-means cannot improve it.\n",
    "To solve this problem when clustering data using K-means, we should randomly re-initialize the labels a few times, run K-means for each initialization,\n",
    "and pick the clustering that has the lowest final total WSSD.\n",
    "\n",
    "### Choosing K\n",
    "\n",
    "In order to cluster data using K-means, \n",
    "we also have to pick the number of clusters, K.\n",
    "But unlike in classification, we have no response variable \n",
    "and cannot perform cross-validation with some measure of model prediction error.\n",
    "Further, if K is chosen too small, then multiple clusters get grouped together;\n",
    "if K is too large, then clusters get subdivided. \n",
    "In both cases, we will potentially miss interesting structure in the data. \n",
    "Figure \\@ref(fig:10-toy-kmeans-vary-k) illustrates the impact of K \n",
    "on K-means clustering of our penguin flipper and bill length data \n",
    "by showing the different clusterings for K's ranging from 1 to 9.\n",
    "\n",
    "```{figure} img/toy-kmeans-vary-k-1.png\n",
    "---\n",
    "height: 700px\n",
    "name: toy-kmeans-vary-k-1\n",
    "---\n",
    "Clustering of the penguin data for K clusters ranging from 1 to 9. Cluster centers are indicated by larger points that are outlined in black.\n",
    "```\n",
    "\n",
    "\n",
    "\n",
    "\n",
    "If we set K less than 3, then the clustering merges separate groups of data; this causes a large \n",
    "total WSSD, since the cluster center (denoted by an \"x\") is not close to any of the data in the cluster. On \n",
    "the other hand, if we set K greater than 3, the clustering subdivides subgroups of data; this does indeed still \n",
    "decrease the total WSSD, but by only a *diminishing amount*. If we plot the total WSSD versus the number of \n",
    "clusters, we see that the decrease in total WSSD levels off (or forms an \"elbow shape\") \\index{elbow method} when we reach roughly \n",
    "the right number of clusters (Figure \\@ref(fig:10-toy-kmeans-elbow)).\n",
    "\n",
    "\n",
    "```{figure} img/toy-kmeans-elbow-1.png\n",
    "---\n",
    "height: 400px\n",
    "name: toy-kmeans-elbow-1\n",
    "---\n",
    "Total WSSD for K clusters ranging from 1 to 9.\n",
    "```\n",
    "\n",
    "\n",
    "\n",
    "## Data pre-processing for K-means\n",
    "\n",
    "Similar to K-nearest neighbors classification and regression, K-means \n",
    "clustering uses straight-line distance to decide which points are similar to \n",
    "each other. Therefore, the *scale* of each of the variables in the data\n",
    "will influence which cluster data points end up being assigned.\n",
    "Variables with a large scale will have a much larger \n",
    "effect on deciding cluster assignment than variables with a small scale. \n",
    "To address this problem, we typically standardize \\index{standardization!K-means}\\index{K-means!standardization} our data before clustering,\n",
    "which ensures that each variable has a mean of 0 and standard deviation of 1.\n",
    "The `StandardScaler()` function in Python can be used to do this. \n",
    "We show an example of how to use this function \n",
    "below using an unscaled and unstandardized version of the data set in this chapter."
   ]
  },
  {
   "cell_type": "code",
   "execution_count": 9,
   "id": "7c6987aa",
   "metadata": {
    "execution": {
     "iopub.execute_input": "2022-06-27T06:01:05.963025Z",
     "iopub.status.busy": "2022-06-27T06:01:05.962730Z",
     "iopub.status.idle": "2022-06-27T06:01:05.970282Z",
     "shell.execute_reply": "2022-06-27T06:01:05.969953Z"
    },
    "tags": [
     "remove-cell"
    ]
   },
   "outputs": [
    {
     "data": {
      "text/html": [
       "<div>\n",
       "<style scoped>\n",
       "    .dataframe tbody tr th:only-of-type {\n",
       "        vertical-align: middle;\n",
       "    }\n",
       "\n",
       "    .dataframe tbody tr th {\n",
       "        vertical-align: top;\n",
       "    }\n",
       "\n",
       "    .dataframe thead th {\n",
       "        text-align: right;\n",
       "    }\n",
       "</style>\n",
       "<table border=\"1\" class=\"dataframe\">\n",
       "  <thead>\n",
       "    <tr style=\"text-align: right;\">\n",
       "      <th></th>\n",
       "      <th>bill_length_mm</th>\n",
       "      <th>flipper_length_mm</th>\n",
       "    </tr>\n",
       "  </thead>\n",
       "  <tbody>\n",
       "    <tr>\n",
       "      <th>0</th>\n",
       "      <td>39.2</td>\n",
       "      <td>196</td>\n",
       "    </tr>\n",
       "    <tr>\n",
       "      <th>1</th>\n",
       "      <td>36.5</td>\n",
       "      <td>182</td>\n",
       "    </tr>\n",
       "    <tr>\n",
       "      <th>2</th>\n",
       "      <td>34.5</td>\n",
       "      <td>187</td>\n",
       "    </tr>\n",
       "    <tr>\n",
       "      <th>3</th>\n",
       "      <td>36.7</td>\n",
       "      <td>187</td>\n",
       "    </tr>\n",
       "    <tr>\n",
       "      <th>4</th>\n",
       "      <td>38.1</td>\n",
       "      <td>181</td>\n",
       "    </tr>\n",
       "    <tr>\n",
       "      <th>5</th>\n",
       "      <td>39.2</td>\n",
       "      <td>190</td>\n",
       "    </tr>\n",
       "    <tr>\n",
       "      <th>6</th>\n",
       "      <td>36.0</td>\n",
       "      <td>195</td>\n",
       "    </tr>\n",
       "    <tr>\n",
       "      <th>7</th>\n",
       "      <td>37.8</td>\n",
       "      <td>193</td>\n",
       "    </tr>\n",
       "    <tr>\n",
       "      <th>8</th>\n",
       "      <td>46.5</td>\n",
       "      <td>213</td>\n",
       "    </tr>\n",
       "    <tr>\n",
       "      <th>9</th>\n",
       "      <td>46.1</td>\n",
       "      <td>215</td>\n",
       "    </tr>\n",
       "    <tr>\n",
       "      <th>10</th>\n",
       "      <td>47.8</td>\n",
       "      <td>215</td>\n",
       "    </tr>\n",
       "    <tr>\n",
       "      <th>11</th>\n",
       "      <td>45.0</td>\n",
       "      <td>220</td>\n",
       "    </tr>\n",
       "    <tr>\n",
       "      <th>12</th>\n",
       "      <td>49.1</td>\n",
       "      <td>212</td>\n",
       "    </tr>\n",
       "    <tr>\n",
       "      <th>13</th>\n",
       "      <td>43.3</td>\n",
       "      <td>208</td>\n",
       "    </tr>\n",
       "    <tr>\n",
       "      <th>14</th>\n",
       "      <td>46.0</td>\n",
       "      <td>195</td>\n",
       "    </tr>\n",
       "    <tr>\n",
       "      <th>15</th>\n",
       "      <td>46.7</td>\n",
       "      <td>195</td>\n",
       "    </tr>\n",
       "    <tr>\n",
       "      <th>16</th>\n",
       "      <td>52.2</td>\n",
       "      <td>197</td>\n",
       "    </tr>\n",
       "    <tr>\n",
       "      <th>17</th>\n",
       "      <td>46.8</td>\n",
       "      <td>189</td>\n",
       "    </tr>\n",
       "  </tbody>\n",
       "</table>\n",
       "</div>"
      ],
      "text/plain": [
       "    bill_length_mm  flipper_length_mm\n",
       "0             39.2                196\n",
       "1             36.5                182\n",
       "2             34.5                187\n",
       "3             36.7                187\n",
       "4             38.1                181\n",
       "5             39.2                190\n",
       "6             36.0                195\n",
       "7             37.8                193\n",
       "8             46.5                213\n",
       "9             46.1                215\n",
       "10            47.8                215\n",
       "11            45.0                220\n",
       "12            49.1                212\n",
       "13            43.3                208\n",
       "14            46.0                195\n",
       "15            46.7                195\n",
       "16            52.2                197\n",
       "17            46.8                189"
      ]
     },
     "execution_count": 9,
     "metadata": {},
     "output_type": "execute_result"
    }
   ],
   "source": [
    "unstandardized_data = pd.read_csv(\"data/toy_penguins.csv\", usecols=[\"bill_length_mm\", \"flipper_length_mm\"]) \n",
    "unstandardized_data.to_csv(\"data/penguins_not_standardized.csv\", index=False)\n",
    "unstandardized_data"
   ]
  },
  {
   "cell_type": "markdown",
   "id": "a951688b",
   "metadata": {},
   "source": [
    "First, here is what the raw (i.e., not standardized) data looks like:"
   ]
  },
  {
   "cell_type": "code",
   "execution_count": 10,
   "id": "bbfbc2a1",
   "metadata": {
    "execution": {
     "iopub.execute_input": "2022-06-27T06:01:05.972023Z",
     "iopub.status.busy": "2022-06-27T06:01:05.971879Z",
     "iopub.status.idle": "2022-06-27T06:01:05.977300Z",
     "shell.execute_reply": "2022-06-27T06:01:05.976992Z"
    }
   },
   "outputs": [
    {
     "data": {
      "text/html": [
       "<div>\n",
       "<style scoped>\n",
       "    .dataframe tbody tr th:only-of-type {\n",
       "        vertical-align: middle;\n",
       "    }\n",
       "\n",
       "    .dataframe tbody tr th {\n",
       "        vertical-align: top;\n",
       "    }\n",
       "\n",
       "    .dataframe thead th {\n",
       "        text-align: right;\n",
       "    }\n",
       "</style>\n",
       "<table border=\"1\" class=\"dataframe\">\n",
       "  <thead>\n",
       "    <tr style=\"text-align: right;\">\n",
       "      <th></th>\n",
       "      <th>bill_length_mm</th>\n",
       "      <th>flipper_length_mm</th>\n",
       "    </tr>\n",
       "  </thead>\n",
       "  <tbody>\n",
       "    <tr>\n",
       "      <th>0</th>\n",
       "      <td>39.2</td>\n",
       "      <td>196</td>\n",
       "    </tr>\n",
       "    <tr>\n",
       "      <th>1</th>\n",
       "      <td>36.5</td>\n",
       "      <td>182</td>\n",
       "    </tr>\n",
       "    <tr>\n",
       "      <th>2</th>\n",
       "      <td>34.5</td>\n",
       "      <td>187</td>\n",
       "    </tr>\n",
       "    <tr>\n",
       "      <th>3</th>\n",
       "      <td>36.7</td>\n",
       "      <td>187</td>\n",
       "    </tr>\n",
       "    <tr>\n",
       "      <th>4</th>\n",
       "      <td>38.1</td>\n",
       "      <td>181</td>\n",
       "    </tr>\n",
       "    <tr>\n",
       "      <th>5</th>\n",
       "      <td>39.2</td>\n",
       "      <td>190</td>\n",
       "    </tr>\n",
       "    <tr>\n",
       "      <th>6</th>\n",
       "      <td>36.0</td>\n",
       "      <td>195</td>\n",
       "    </tr>\n",
       "    <tr>\n",
       "      <th>7</th>\n",
       "      <td>37.8</td>\n",
       "      <td>193</td>\n",
       "    </tr>\n",
       "    <tr>\n",
       "      <th>8</th>\n",
       "      <td>46.5</td>\n",
       "      <td>213</td>\n",
       "    </tr>\n",
       "    <tr>\n",
       "      <th>9</th>\n",
       "      <td>46.1</td>\n",
       "      <td>215</td>\n",
       "    </tr>\n",
       "    <tr>\n",
       "      <th>10</th>\n",
       "      <td>47.8</td>\n",
       "      <td>215</td>\n",
       "    </tr>\n",
       "    <tr>\n",
       "      <th>11</th>\n",
       "      <td>45.0</td>\n",
       "      <td>220</td>\n",
       "    </tr>\n",
       "    <tr>\n",
       "      <th>12</th>\n",
       "      <td>49.1</td>\n",
       "      <td>212</td>\n",
       "    </tr>\n",
       "    <tr>\n",
       "      <th>13</th>\n",
       "      <td>43.3</td>\n",
       "      <td>208</td>\n",
       "    </tr>\n",
       "    <tr>\n",
       "      <th>14</th>\n",
       "      <td>46.0</td>\n",
       "      <td>195</td>\n",
       "    </tr>\n",
       "    <tr>\n",
       "      <th>15</th>\n",
       "      <td>46.7</td>\n",
       "      <td>195</td>\n",
       "    </tr>\n",
       "    <tr>\n",
       "      <th>16</th>\n",
       "      <td>52.2</td>\n",
       "      <td>197</td>\n",
       "    </tr>\n",
       "    <tr>\n",
       "      <th>17</th>\n",
       "      <td>46.8</td>\n",
       "      <td>189</td>\n",
       "    </tr>\n",
       "  </tbody>\n",
       "</table>\n",
       "</div>"
      ],
      "text/plain": [
       "    bill_length_mm  flipper_length_mm\n",
       "0             39.2                196\n",
       "1             36.5                182\n",
       "2             34.5                187\n",
       "3             36.7                187\n",
       "4             38.1                181\n",
       "5             39.2                190\n",
       "6             36.0                195\n",
       "7             37.8                193\n",
       "8             46.5                213\n",
       "9             46.1                215\n",
       "10            47.8                215\n",
       "11            45.0                220\n",
       "12            49.1                212\n",
       "13            43.3                208\n",
       "14            46.0                195\n",
       "15            46.7                195\n",
       "16            52.2                197\n",
       "17            46.8                189"
      ]
     },
     "execution_count": 10,
     "metadata": {},
     "output_type": "execute_result"
    }
   ],
   "source": [
    "not_standardized_data = pd.read_csv(\"data/penguins_not_standardized.csv\")\n",
    "not_standardized_data"
   ]
  },
  {
   "cell_type": "markdown",
   "id": "99978a3f",
   "metadata": {},
   "source": [
    "And then we apply the `StandardScaler()` function to both the columns in the data frame \n",
    "using `fit_transform()`"
   ]
  },
  {
   "cell_type": "code",
   "execution_count": 11,
   "id": "5ab0b00b",
   "metadata": {
    "execution": {
     "iopub.execute_input": "2022-06-27T06:01:05.979158Z",
     "iopub.status.busy": "2022-06-27T06:01:05.978920Z",
     "iopub.status.idle": "2022-06-27T06:01:05.985171Z",
     "shell.execute_reply": "2022-06-27T06:01:05.984883Z"
    }
   },
   "outputs": [
    {
     "data": {
      "text/html": [
       "<div>\n",
       "<style scoped>\n",
       "    .dataframe tbody tr th:only-of-type {\n",
       "        vertical-align: middle;\n",
       "    }\n",
       "\n",
       "    .dataframe tbody tr th {\n",
       "        vertical-align: top;\n",
       "    }\n",
       "\n",
       "    .dataframe thead th {\n",
       "        text-align: right;\n",
       "    }\n",
       "</style>\n",
       "<table border=\"1\" class=\"dataframe\">\n",
       "  <thead>\n",
       "    <tr style=\"text-align: right;\">\n",
       "      <th></th>\n",
       "      <th>bill_length_mm</th>\n",
       "      <th>flipper_length_mm</th>\n",
       "    </tr>\n",
       "  </thead>\n",
       "  <tbody>\n",
       "    <tr>\n",
       "      <th>0</th>\n",
       "      <td>-0.659955</td>\n",
       "      <td>-0.195275</td>\n",
       "    </tr>\n",
       "    <tr>\n",
       "      <th>1</th>\n",
       "      <td>-1.178110</td>\n",
       "      <td>-1.366924</td>\n",
       "    </tr>\n",
       "    <tr>\n",
       "      <th>2</th>\n",
       "      <td>-1.561929</td>\n",
       "      <td>-0.948478</td>\n",
       "    </tr>\n",
       "    <tr>\n",
       "      <th>3</th>\n",
       "      <td>-1.139728</td>\n",
       "      <td>-0.948478</td>\n",
       "    </tr>\n",
       "    <tr>\n",
       "      <th>4</th>\n",
       "      <td>-0.871055</td>\n",
       "      <td>-1.450614</td>\n",
       "    </tr>\n",
       "    <tr>\n",
       "      <th>5</th>\n",
       "      <td>-0.659955</td>\n",
       "      <td>-0.697410</td>\n",
       "    </tr>\n",
       "    <tr>\n",
       "      <th>6</th>\n",
       "      <td>-1.274065</td>\n",
       "      <td>-0.278964</td>\n",
       "    </tr>\n",
       "    <tr>\n",
       "      <th>7</th>\n",
       "      <td>-0.928628</td>\n",
       "      <td>-0.446343</td>\n",
       "    </tr>\n",
       "    <tr>\n",
       "      <th>8</th>\n",
       "      <td>0.740983</td>\n",
       "      <td>1.227442</td>\n",
       "    </tr>\n",
       "    <tr>\n",
       "      <th>9</th>\n",
       "      <td>0.664219</td>\n",
       "      <td>1.394821</td>\n",
       "    </tr>\n",
       "    <tr>\n",
       "      <th>10</th>\n",
       "      <td>0.990465</td>\n",
       "      <td>1.394821</td>\n",
       "    </tr>\n",
       "    <tr>\n",
       "      <th>11</th>\n",
       "      <td>0.453119</td>\n",
       "      <td>1.813267</td>\n",
       "    </tr>\n",
       "    <tr>\n",
       "      <th>12</th>\n",
       "      <td>1.239947</td>\n",
       "      <td>1.143753</td>\n",
       "    </tr>\n",
       "    <tr>\n",
       "      <th>13</th>\n",
       "      <td>0.126873</td>\n",
       "      <td>0.808996</td>\n",
       "    </tr>\n",
       "    <tr>\n",
       "      <th>14</th>\n",
       "      <td>0.645029</td>\n",
       "      <td>-0.278964</td>\n",
       "    </tr>\n",
       "    <tr>\n",
       "      <th>15</th>\n",
       "      <td>0.779365</td>\n",
       "      <td>-0.278964</td>\n",
       "    </tr>\n",
       "    <tr>\n",
       "      <th>16</th>\n",
       "      <td>1.834866</td>\n",
       "      <td>-0.111586</td>\n",
       "    </tr>\n",
       "    <tr>\n",
       "      <th>17</th>\n",
       "      <td>0.798556</td>\n",
       "      <td>-0.781100</td>\n",
       "    </tr>\n",
       "  </tbody>\n",
       "</table>\n",
       "</div>"
      ],
      "text/plain": [
       "    bill_length_mm  flipper_length_mm\n",
       "0        -0.659955          -0.195275\n",
       "1        -1.178110          -1.366924\n",
       "2        -1.561929          -0.948478\n",
       "3        -1.139728          -0.948478\n",
       "4        -0.871055          -1.450614\n",
       "5        -0.659955          -0.697410\n",
       "6        -1.274065          -0.278964\n",
       "7        -0.928628          -0.446343\n",
       "8         0.740983           1.227442\n",
       "9         0.664219           1.394821\n",
       "10        0.990465           1.394821\n",
       "11        0.453119           1.813267\n",
       "12        1.239947           1.143753\n",
       "13        0.126873           0.808996\n",
       "14        0.645029          -0.278964\n",
       "15        0.779365          -0.278964\n",
       "16        1.834866          -0.111586\n",
       "17        0.798556          -0.781100"
      ]
     },
     "execution_count": 11,
     "metadata": {},
     "output_type": "execute_result"
    }
   ],
   "source": [
    "scaler = StandardScaler()\n",
    "standardized_data = pd.DataFrame(\n",
    "    scaler.fit_transform(not_standardized_data), columns = ['bill_length_mm', 'flipper_length_mm'])\n",
    "    \n",
    "standardized_data"
   ]
  },
  {
   "cell_type": "markdown",
   "id": "605f0f21",
   "metadata": {},
   "source": [
    "## K-means in Python\n",
    "\n",
    "To perform K-means clustering in Python, we use the `KMeans` function. \\index{K-means!kmeans function} It takes at\n",
    "least two arguments: the data frame containing the data you wish to cluster,\n",
    "and K, the number of clusters (here we choose K = 3). Note that since the K-means\n",
    "algorithm uses a random initialization of assignments, but since we set the random seed\n",
    "earlier, the clustering will be reproducible."
   ]
  },
  {
   "cell_type": "code",
   "execution_count": 12,
   "id": "aec07833",
   "metadata": {
    "execution": {
     "iopub.execute_input": "2022-06-27T06:01:05.986852Z",
     "iopub.status.busy": "2022-06-27T06:01:05.986709Z",
     "iopub.status.idle": "2022-06-27T06:01:05.988572Z",
     "shell.execute_reply": "2022-06-27T06:01:05.988297Z"
    }
   },
   "outputs": [],
   "source": [
    "np.random.seed(1234)"
   ]
  },
  {
   "cell_type": "code",
   "execution_count": 13,
   "id": "7b540c73",
   "metadata": {
    "execution": {
     "iopub.execute_input": "2022-06-27T06:01:05.990221Z",
     "iopub.status.busy": "2022-06-27T06:01:05.990085Z",
     "iopub.status.idle": "2022-06-27T06:01:06.141462Z",
     "shell.execute_reply": "2022-06-27T06:01:06.140845Z"
    }
   },
   "outputs": [
    {
     "data": {
      "text/html": [
       "<style>#sk-container-id-1 {color: black;background-color: white;}#sk-container-id-1 pre{padding: 0;}#sk-container-id-1 div.sk-toggleable {background-color: white;}#sk-container-id-1 label.sk-toggleable__label {cursor: pointer;display: block;width: 100%;margin-bottom: 0;padding: 0.3em;box-sizing: border-box;text-align: center;}#sk-container-id-1 label.sk-toggleable__label-arrow:before {content: \"▸\";float: left;margin-right: 0.25em;color: #696969;}#sk-container-id-1 label.sk-toggleable__label-arrow:hover:before {color: black;}#sk-container-id-1 div.sk-estimator:hover label.sk-toggleable__label-arrow:before {color: black;}#sk-container-id-1 div.sk-toggleable__content {max-height: 0;max-width: 0;overflow: hidden;text-align: left;background-color: #f0f8ff;}#sk-container-id-1 div.sk-toggleable__content pre {margin: 0.2em;color: black;border-radius: 0.25em;background-color: #f0f8ff;}#sk-container-id-1 input.sk-toggleable__control:checked~div.sk-toggleable__content {max-height: 200px;max-width: 100%;overflow: auto;}#sk-container-id-1 input.sk-toggleable__control:checked~label.sk-toggleable__label-arrow:before {content: \"▾\";}#sk-container-id-1 div.sk-estimator input.sk-toggleable__control:checked~label.sk-toggleable__label {background-color: #d4ebff;}#sk-container-id-1 div.sk-label input.sk-toggleable__control:checked~label.sk-toggleable__label {background-color: #d4ebff;}#sk-container-id-1 input.sk-hidden--visually {border: 0;clip: rect(1px 1px 1px 1px);clip: rect(1px, 1px, 1px, 1px);height: 1px;margin: -1px;overflow: hidden;padding: 0;position: absolute;width: 1px;}#sk-container-id-1 div.sk-estimator {font-family: monospace;background-color: #f0f8ff;border: 1px dotted black;border-radius: 0.25em;box-sizing: border-box;margin-bottom: 0.5em;}#sk-container-id-1 div.sk-estimator:hover {background-color: #d4ebff;}#sk-container-id-1 div.sk-parallel-item::after {content: \"\";width: 100%;border-bottom: 1px solid gray;flex-grow: 1;}#sk-container-id-1 div.sk-label:hover label.sk-toggleable__label {background-color: #d4ebff;}#sk-container-id-1 div.sk-serial::before {content: \"\";position: absolute;border-left: 1px solid gray;box-sizing: border-box;top: 0;bottom: 0;left: 50%;z-index: 0;}#sk-container-id-1 div.sk-serial {display: flex;flex-direction: column;align-items: center;background-color: white;padding-right: 0.2em;padding-left: 0.2em;position: relative;}#sk-container-id-1 div.sk-item {position: relative;z-index: 1;}#sk-container-id-1 div.sk-parallel {display: flex;align-items: stretch;justify-content: center;background-color: white;position: relative;}#sk-container-id-1 div.sk-item::before, #sk-container-id-1 div.sk-parallel-item::before {content: \"\";position: absolute;border-left: 1px solid gray;box-sizing: border-box;top: 0;bottom: 0;left: 50%;z-index: -1;}#sk-container-id-1 div.sk-parallel-item {display: flex;flex-direction: column;z-index: 1;position: relative;background-color: white;}#sk-container-id-1 div.sk-parallel-item:first-child::after {align-self: flex-end;width: 50%;}#sk-container-id-1 div.sk-parallel-item:last-child::after {align-self: flex-start;width: 50%;}#sk-container-id-1 div.sk-parallel-item:only-child::after {width: 0;}#sk-container-id-1 div.sk-dashed-wrapped {border: 1px dashed gray;margin: 0 0.4em 0.5em 0.4em;box-sizing: border-box;padding-bottom: 0.4em;background-color: white;}#sk-container-id-1 div.sk-label label {font-family: monospace;font-weight: bold;display: inline-block;line-height: 1.2em;}#sk-container-id-1 div.sk-label-container {text-align: center;}#sk-container-id-1 div.sk-container {/* jupyter's `normalize.less` sets `[hidden] { display: none; }` but bootstrap.min.css set `[hidden] { display: none !important; }` so we also need the `!important` here to be able to override the default hidden behavior on the sphinx rendered scikit-learn.org. See: https://github.com/scikit-learn/scikit-learn/issues/21755 */display: inline-block !important;position: relative;}#sk-container-id-1 div.sk-text-repr-fallback {display: none;}</style><div id=\"sk-container-id-1\" class=\"sk-top-container\"><div class=\"sk-text-repr-fallback\"><pre>KMeans(n_clusters=3, random_state=1234)</pre><b>In a Jupyter environment, please rerun this cell to show the HTML representation or trust the notebook. <br />On GitHub, the HTML representation is unable to render, please try loading this page with nbviewer.org.</b></div><div class=\"sk-container\" hidden><div class=\"sk-item\"><div class=\"sk-estimator sk-toggleable\"><input class=\"sk-toggleable__control sk-hidden--visually\" id=\"sk-estimator-id-1\" type=\"checkbox\" checked><label for=\"sk-estimator-id-1\" class=\"sk-toggleable__label sk-toggleable__label-arrow\">KMeans</label><div class=\"sk-toggleable__content\"><pre>KMeans(n_clusters=3, random_state=1234)</pre></div></div></div></div></div>"
      ],
      "text/plain": [
       "KMeans(n_clusters=3, random_state=1234)"
      ]
     },
     "execution_count": 13,
     "metadata": {},
     "output_type": "execute_result"
    }
   ],
   "source": [
    "from sklearn.cluster import KMeans\n",
    "penguin_clust = KMeans(n_clusters=3, random_state=1234).fit(standardized_data)\n",
    "penguin_clust\n"
   ]
  },
  {
   "cell_type": "markdown",
   "id": "884a5f99",
   "metadata": {},
   "source": [
    "As you can see above, the clustering object returned by `KMeans` has a lot of information\n",
    "that can be used to visualize the clusters, pick K, and evaluate the total WSSD.\n",
    "To obtain this information in a tidy format, we will call in help \n",
    "from the `broom` package. \\index{broom} Let's start by visualizing the clustering\n",
    "as a colored scatter plot. To do that,\n",
    "we use the `augment` function, \\index{K-means!augment} \\index{augment} which takes in the model and the original data\n",
    "frame, and returns a data frame with the data and the cluster assignments for\n",
    "each point:"
   ]
  },
  {
   "cell_type": "code",
   "execution_count": 14,
   "id": "88955c85",
   "metadata": {
    "execution": {
     "iopub.execute_input": "2022-06-27T06:01:06.143767Z",
     "iopub.status.busy": "2022-06-27T06:01:06.143601Z",
     "iopub.status.idle": "2022-06-27T06:01:06.147901Z",
     "shell.execute_reply": "2022-06-27T06:01:06.147551Z"
    }
   },
   "outputs": [
    {
     "data": {
      "text/plain": [
       "array([1, 1, 1, 1, 1, 1, 1, 1, 2, 2, 2, 2, 2, 2, 0, 0, 0, 0], dtype=int32)"
      ]
     },
     "execution_count": 14,
     "metadata": {},
     "output_type": "execute_result"
    }
   ],
   "source": [
    "predictions = penguin_clust.predict(standardized_data)\n",
    "predictions\n"
   ]
  },
  {
   "cell_type": "code",
   "execution_count": 15,
   "id": "363ef20e",
   "metadata": {
    "execution": {
     "iopub.execute_input": "2022-06-27T06:01:06.149951Z",
     "iopub.status.busy": "2022-06-27T06:01:06.149784Z",
     "iopub.status.idle": "2022-06-27T06:01:06.155429Z",
     "shell.execute_reply": "2022-06-27T06:01:06.154912Z"
    }
   },
   "outputs": [
    {
     "data": {
      "text/html": [
       "<div>\n",
       "<style scoped>\n",
       "    .dataframe tbody tr th:only-of-type {\n",
       "        vertical-align: middle;\n",
       "    }\n",
       "\n",
       "    .dataframe tbody tr th {\n",
       "        vertical-align: top;\n",
       "    }\n",
       "\n",
       "    .dataframe thead th {\n",
       "        text-align: right;\n",
       "    }\n",
       "</style>\n",
       "<table border=\"1\" class=\"dataframe\">\n",
       "  <thead>\n",
       "    <tr style=\"text-align: right;\">\n",
       "      <th></th>\n",
       "      <th>bill_length_mm</th>\n",
       "      <th>flipper_length_mm</th>\n",
       "      <th>clusters</th>\n",
       "    </tr>\n",
       "  </thead>\n",
       "  <tbody>\n",
       "    <tr>\n",
       "      <th>0</th>\n",
       "      <td>-0.659955</td>\n",
       "      <td>-0.195275</td>\n",
       "      <td>1</td>\n",
       "    </tr>\n",
       "    <tr>\n",
       "      <th>1</th>\n",
       "      <td>-1.178110</td>\n",
       "      <td>-1.366924</td>\n",
       "      <td>1</td>\n",
       "    </tr>\n",
       "    <tr>\n",
       "      <th>2</th>\n",
       "      <td>-1.561929</td>\n",
       "      <td>-0.948478</td>\n",
       "      <td>1</td>\n",
       "    </tr>\n",
       "    <tr>\n",
       "      <th>3</th>\n",
       "      <td>-1.139728</td>\n",
       "      <td>-0.948478</td>\n",
       "      <td>1</td>\n",
       "    </tr>\n",
       "    <tr>\n",
       "      <th>4</th>\n",
       "      <td>-0.871055</td>\n",
       "      <td>-1.450614</td>\n",
       "      <td>1</td>\n",
       "    </tr>\n",
       "    <tr>\n",
       "      <th>5</th>\n",
       "      <td>-0.659955</td>\n",
       "      <td>-0.697410</td>\n",
       "      <td>1</td>\n",
       "    </tr>\n",
       "    <tr>\n",
       "      <th>6</th>\n",
       "      <td>-1.274065</td>\n",
       "      <td>-0.278964</td>\n",
       "      <td>1</td>\n",
       "    </tr>\n",
       "    <tr>\n",
       "      <th>7</th>\n",
       "      <td>-0.928628</td>\n",
       "      <td>-0.446343</td>\n",
       "      <td>1</td>\n",
       "    </tr>\n",
       "    <tr>\n",
       "      <th>8</th>\n",
       "      <td>0.740983</td>\n",
       "      <td>1.227442</td>\n",
       "      <td>2</td>\n",
       "    </tr>\n",
       "    <tr>\n",
       "      <th>9</th>\n",
       "      <td>0.664219</td>\n",
       "      <td>1.394821</td>\n",
       "      <td>2</td>\n",
       "    </tr>\n",
       "    <tr>\n",
       "      <th>10</th>\n",
       "      <td>0.990465</td>\n",
       "      <td>1.394821</td>\n",
       "      <td>2</td>\n",
       "    </tr>\n",
       "    <tr>\n",
       "      <th>11</th>\n",
       "      <td>0.453119</td>\n",
       "      <td>1.813267</td>\n",
       "      <td>2</td>\n",
       "    </tr>\n",
       "    <tr>\n",
       "      <th>12</th>\n",
       "      <td>1.239947</td>\n",
       "      <td>1.143753</td>\n",
       "      <td>2</td>\n",
       "    </tr>\n",
       "    <tr>\n",
       "      <th>13</th>\n",
       "      <td>0.126873</td>\n",
       "      <td>0.808996</td>\n",
       "      <td>2</td>\n",
       "    </tr>\n",
       "    <tr>\n",
       "      <th>14</th>\n",
       "      <td>0.645029</td>\n",
       "      <td>-0.278964</td>\n",
       "      <td>0</td>\n",
       "    </tr>\n",
       "    <tr>\n",
       "      <th>15</th>\n",
       "      <td>0.779365</td>\n",
       "      <td>-0.278964</td>\n",
       "      <td>0</td>\n",
       "    </tr>\n",
       "    <tr>\n",
       "      <th>16</th>\n",
       "      <td>1.834866</td>\n",
       "      <td>-0.111586</td>\n",
       "      <td>0</td>\n",
       "    </tr>\n",
       "    <tr>\n",
       "      <th>17</th>\n",
       "      <td>0.798556</td>\n",
       "      <td>-0.781100</td>\n",
       "      <td>0</td>\n",
       "    </tr>\n",
       "  </tbody>\n",
       "</table>\n",
       "</div>"
      ],
      "text/plain": [
       "    bill_length_mm  flipper_length_mm  clusters\n",
       "0        -0.659955          -0.195275         1\n",
       "1        -1.178110          -1.366924         1\n",
       "2        -1.561929          -0.948478         1\n",
       "3        -1.139728          -0.948478         1\n",
       "4        -0.871055          -1.450614         1\n",
       "5        -0.659955          -0.697410         1\n",
       "6        -1.274065          -0.278964         1\n",
       "7        -0.928628          -0.446343         1\n",
       "8         0.740983           1.227442         2\n",
       "9         0.664219           1.394821         2\n",
       "10        0.990465           1.394821         2\n",
       "11        0.453119           1.813267         2\n",
       "12        1.239947           1.143753         2\n",
       "13        0.126873           0.808996         2\n",
       "14        0.645029          -0.278964         0\n",
       "15        0.779365          -0.278964         0\n",
       "16        1.834866          -0.111586         0\n",
       "17        0.798556          -0.781100         0"
      ]
     },
     "execution_count": 15,
     "metadata": {},
     "output_type": "execute_result"
    }
   ],
   "source": [
    "clustered_data = standardized_data\n",
    "clustered_data = clustered_data.assign(clusters = predictions)\n",
    "clustered_data"
   ]
  },
  {
   "cell_type": "markdown",
   "id": "06b74bb3",
   "metadata": {},
   "source": [
    "Now that we have this information in a tidy data frame, we can make a visualization\n",
    "of the cluster assignments for each point, as shown in Figure \\@ref(fig:10-plot-clusters-2)."
   ]
  },
  {
   "cell_type": "code",
   "execution_count": 16,
   "id": "c8a94dd1",
   "metadata": {
    "execution": {
     "iopub.execute_input": "2022-06-27T06:01:06.157554Z",
     "iopub.status.busy": "2022-06-27T06:01:06.157397Z",
     "iopub.status.idle": "2022-06-27T06:01:06.166080Z",
     "shell.execute_reply": "2022-06-27T06:01:06.165690Z"
    }
   },
   "outputs": [
    {
     "data": {
      "application/vnd.vegalite.v4+json": {
       "$schema": "https://vega.github.io/schema/vega-lite/v4.17.0.json",
       "config": {
        "axis": {
         "labelFontSize": 20,
         "titleFontSize": 20
        },
        "view": {
         "continuousHeight": 300,
         "continuousWidth": 400
        }
       },
       "data": {
        "name": "data-f9ba5372ad17f212b1b1827985326fef"
       },
       "datasets": {
        "data-f9ba5372ad17f212b1b1827985326fef": [
         {
          "bill_length_mm": -0.6599548427421356,
          "clusters": 1,
          "flipper_length_mm": -0.19527492342808553
         },
         {
          "bill_length_mm": -1.1781100181422628,
          "clusters": 1,
          "flipper_length_mm": -1.366924463996594
         },
         {
          "bill_length_mm": -1.561928666586801,
          "clusters": 1,
          "flipper_length_mm": -0.948478199507841
         },
         {
          "bill_length_mm": -1.1397281532978085,
          "clusters": 1,
          "flipper_length_mm": -0.948478199507841
         },
         {
          "bill_length_mm": -0.871055099386632,
          "clusters": 1,
          "flipper_length_mm": -1.4506137168943447
         },
         {
          "bill_length_mm": -0.6599548427421356,
          "clusters": 1,
          "flipper_length_mm": -0.6974104408145891
         },
         {
          "bill_length_mm": -1.2740646802533975,
          "clusters": 1,
          "flipper_length_mm": -0.27896417632583614
         },
         {
          "bill_length_mm": -0.9286278966533135,
          "clusters": 1,
          "flipper_length_mm": -0.4463426821213374
         },
         {
          "bill_length_mm": 0.7409832240804287,
          "clusters": 2,
          "flipper_length_mm": 1.2274423758336748
         },
         {
          "bill_length_mm": 0.6642194943915214,
          "clusters": 2,
          "flipper_length_mm": 1.394820881629176
         },
         {
          "bill_length_mm": 0.990465345569378,
          "clusters": 2,
          "flipper_length_mm": 1.394820881629176
         },
         {
          "bill_length_mm": 0.453119237747025,
          "clusters": 2,
          "flipper_length_mm": 1.813267146117929
         },
         {
          "bill_length_mm": 1.2399474670583288,
          "clusters": 2,
          "flipper_length_mm": 1.1437531229359241
         },
         {
          "bill_length_mm": 0.12687338656916688,
          "clusters": 2,
          "flipper_length_mm": 0.8089961113449218
         },
         {
          "bill_length_mm": 0.6450285619692941,
          "clusters": 0,
          "flipper_length_mm": -0.27896417632583614
         },
         {
          "bill_length_mm": 0.7793650889248831,
          "clusters": 0,
          "flipper_length_mm": -0.27896417632583614
         },
         {
          "bill_length_mm": 1.8348663721473635,
          "clusters": 0,
          "flipper_length_mm": -0.11158567053033494
         },
         {
          "bill_length_mm": 0.7985560213471089,
          "clusters": 0,
          "flipper_length_mm": -0.7810996937123398
         }
        ]
       },
       "encoding": {
        "color": {
         "field": "clusters",
         "scale": {
          "scheme": "dark2"
         },
         "title": "Cluster",
         "type": "ordinal"
        },
        "x": {
         "field": "flipper_length_mm",
         "title": "Flipper Length (standardized)",
         "type": "quantitative"
        },
        "y": {
         "field": "bill_length_mm",
         "title": "Bill Length (standardized)",
         "type": "quantitative"
        }
       },
       "height": 400,
       "mark": "circle",
       "width": 400
      },
      "text/plain": [
       "<VegaLite 4 object>\n",
       "\n",
       "If you see this message, it means the renderer has not been properly enabled\n",
       "for the frontend that you are using. For more information, see\n",
       "https://altair-viz.github.io/user_guide/troubleshooting.html\n"
      ]
     },
     "execution_count": 16,
     "metadata": {},
     "output_type": "execute_result"
    }
   ],
   "source": [
    "cluster_plot = (\n",
    "    alt.Chart(clustered_data)\n",
    "    .mark_circle()\n",
    "    .encode(\n",
    "         x = alt.X(\"flipper_length_mm\", title=\"Flipper Length (standardized)\"),\n",
    "        y = alt.Y(\"bill_length_mm\", title=\"Bill Length (standardized)\"),\n",
    "    color=alt.Color(\"clusters:O\", title=\"Cluster\", scale=alt.Scale(scheme=\"dark2\")),\n",
    "    ).properties(width=400, height=400)\n",
    "    .configure_axis(labelFontSize=20, titleFontSize=20)\n",
    ")\n",
    "\n",
    "\n",
    "cluster_plot\n",
    "\n"
   ]
  },
  {
   "cell_type": "code",
   "execution_count": 17,
   "id": "86c78615",
   "metadata": {
    "execution": {
     "iopub.execute_input": "2022-06-27T06:01:06.168106Z",
     "iopub.status.busy": "2022-06-27T06:01:06.167956Z",
     "iopub.status.idle": "2022-06-27T06:01:06.173562Z",
     "shell.execute_reply": "2022-06-27T06:01:06.173141Z"
    },
    "tags": [
     "remove-cell"
    ]
   },
   "outputs": [
    {
     "data": {
      "application/vnd.vegalite.v4+json": {
       "$schema": "https://vega.github.io/schema/vega-lite/v4.17.0.json",
       "config": {
        "axis": {
         "labelFontSize": 20,
         "titleFontSize": 20
        },
        "view": {
         "continuousHeight": 300,
         "continuousWidth": 400
        }
       },
       "data": {
        "name": "data-f9ba5372ad17f212b1b1827985326fef"
       },
       "datasets": {
        "data-f9ba5372ad17f212b1b1827985326fef": [
         {
          "bill_length_mm": -0.6599548427421356,
          "clusters": 1,
          "flipper_length_mm": -0.19527492342808553
         },
         {
          "bill_length_mm": -1.1781100181422628,
          "clusters": 1,
          "flipper_length_mm": -1.366924463996594
         },
         {
          "bill_length_mm": -1.561928666586801,
          "clusters": 1,
          "flipper_length_mm": -0.948478199507841
         },
         {
          "bill_length_mm": -1.1397281532978085,
          "clusters": 1,
          "flipper_length_mm": -0.948478199507841
         },
         {
          "bill_length_mm": -0.871055099386632,
          "clusters": 1,
          "flipper_length_mm": -1.4506137168943447
         },
         {
          "bill_length_mm": -0.6599548427421356,
          "clusters": 1,
          "flipper_length_mm": -0.6974104408145891
         },
         {
          "bill_length_mm": -1.2740646802533975,
          "clusters": 1,
          "flipper_length_mm": -0.27896417632583614
         },
         {
          "bill_length_mm": -0.9286278966533135,
          "clusters": 1,
          "flipper_length_mm": -0.4463426821213374
         },
         {
          "bill_length_mm": 0.7409832240804287,
          "clusters": 2,
          "flipper_length_mm": 1.2274423758336748
         },
         {
          "bill_length_mm": 0.6642194943915214,
          "clusters": 2,
          "flipper_length_mm": 1.394820881629176
         },
         {
          "bill_length_mm": 0.990465345569378,
          "clusters": 2,
          "flipper_length_mm": 1.394820881629176
         },
         {
          "bill_length_mm": 0.453119237747025,
          "clusters": 2,
          "flipper_length_mm": 1.813267146117929
         },
         {
          "bill_length_mm": 1.2399474670583288,
          "clusters": 2,
          "flipper_length_mm": 1.1437531229359241
         },
         {
          "bill_length_mm": 0.12687338656916688,
          "clusters": 2,
          "flipper_length_mm": 0.8089961113449218
         },
         {
          "bill_length_mm": 0.6450285619692941,
          "clusters": 0,
          "flipper_length_mm": -0.27896417632583614
         },
         {
          "bill_length_mm": 0.7793650889248831,
          "clusters": 0,
          "flipper_length_mm": -0.27896417632583614
         },
         {
          "bill_length_mm": 1.8348663721473635,
          "clusters": 0,
          "flipper_length_mm": -0.11158567053033494
         },
         {
          "bill_length_mm": 0.7985560213471089,
          "clusters": 0,
          "flipper_length_mm": -0.7810996937123398
         }
        ]
       },
       "encoding": {
        "color": {
         "field": "clusters",
         "scale": {
          "scheme": "dark2"
         },
         "title": "Cluster",
         "type": "ordinal"
        },
        "x": {
         "field": "flipper_length_mm",
         "title": "Flipper Length (standardized)",
         "type": "quantitative"
        },
        "y": {
         "field": "bill_length_mm",
         "title": "Bill Length (standardized)",
         "type": "quantitative"
        }
       },
       "height": 400,
       "mark": "circle",
       "width": 400
      },
      "text/plain": [
       "<VegaLite 4 object>\n",
       "\n",
       "If you see this message, it means the renderer has not been properly enabled\n",
       "for the frontend that you are using. For more information, see\n",
       "https://altair-viz.github.io/user_guide/troubleshooting.html\n"
      ]
     },
     "metadata": {
      "scrapbook": {
       "mime_prefix": "",
       "name": "cluster_plot"
      }
     },
     "output_type": "display_data"
    }
   ],
   "source": [
    "glue('cluster_plot', cluster_plot, display=True)"
   ]
  },
  {
   "cell_type": "markdown",
   "id": "e8b68382",
   "metadata": {},
   "source": [
    "As mentioned above, we also need to select K by finding\n",
    "where the \"elbow\" occurs in the plot of total WSSD versus the number of clusters. \n",
    "We can obtain the total WSSD (`tot.withinss`) \\index{WSSD!total} from our\n",
    "clustering using `broom`'s `glance` function. For example:"
   ]
  },
  {
   "cell_type": "code",
   "execution_count": 18,
   "id": "29ae162c",
   "metadata": {
    "execution": {
     "iopub.execute_input": "2022-06-27T06:01:06.175718Z",
     "iopub.status.busy": "2022-06-27T06:01:06.175405Z",
     "iopub.status.idle": "2022-06-27T06:01:06.178235Z",
     "shell.execute_reply": "2022-06-27T06:01:06.177823Z"
    }
   },
   "outputs": [
    {
     "data": {
      "text/plain": [
       "4.730719092276117"
      ]
     },
     "execution_count": 18,
     "metadata": {},
     "output_type": "execute_result"
    }
   ],
   "source": [
    "penguin_clust.inertia_"
   ]
  },
  {
   "cell_type": "markdown",
   "id": "abf468ed",
   "metadata": {},
   "source": [
    "To calculate the total WSSD for a variety of Ks, we will\n",
    "create a data frame with a column named `k` with rows containing\n",
    "each value of K we want to run K-means with (here, 1 to 9)."
   ]
  },
  {
   "cell_type": "code",
   "execution_count": 19,
   "id": "a6f97533",
   "metadata": {
    "execution": {
     "iopub.execute_input": "2022-06-27T06:01:06.180459Z",
     "iopub.status.busy": "2022-06-27T06:01:06.180307Z",
     "iopub.status.idle": "2022-06-27T06:01:06.182772Z",
     "shell.execute_reply": "2022-06-27T06:01:06.182367Z"
    }
   },
   "outputs": [],
   "source": [
    "import numpy as np\n",
    "penguin_clust_ks = pd.DataFrame({\"k\": np.array(range(1, 10)).transpose()})"
   ]
  },
  {
   "cell_type": "markdown",
   "id": "472f70c7",
   "metadata": {},
   "source": [
    "Then we use `rowwise` \\index{rowwise} + `mutate` to apply the `kmeans` function \n",
    "within each row to each K. \n",
    "However, given that the `kmeans` function \n",
    "returns a model object to us (not a vector),\n",
    "we will need to store the results as a list column.\n",
    "This works because both vectors and lists are legitimate \n",
    "data structures for data frame columns. \n",
    "To make this work, \n",
    "we have to put each model object in a list using the `list` function.\n",
    "We demonstrate how to do this below:"
   ]
  },
  {
   "cell_type": "code",
   "execution_count": 20,
   "id": "83ee2f03",
   "metadata": {
    "execution": {
     "iopub.execute_input": "2022-06-27T06:01:06.184917Z",
     "iopub.status.busy": "2022-06-27T06:01:06.184760Z",
     "iopub.status.idle": "2022-06-27T06:01:06.216058Z",
     "shell.execute_reply": "2022-06-27T06:01:06.215637Z"
    }
   },
   "outputs": [
    {
     "data": {
      "text/html": [
       "<div>\n",
       "<style scoped>\n",
       "    .dataframe tbody tr th:only-of-type {\n",
       "        vertical-align: middle;\n",
       "    }\n",
       "\n",
       "    .dataframe tbody tr th {\n",
       "        vertical-align: top;\n",
       "    }\n",
       "\n",
       "    .dataframe thead th {\n",
       "        text-align: right;\n",
       "    }\n",
       "</style>\n",
       "<table border=\"1\" class=\"dataframe\">\n",
       "  <thead>\n",
       "    <tr style=\"text-align: right;\">\n",
       "      <th></th>\n",
       "      <th>k</th>\n",
       "      <th>penguin_clusts</th>\n",
       "    </tr>\n",
       "  </thead>\n",
       "  <tbody>\n",
       "    <tr>\n",
       "      <th>0</th>\n",
       "      <td>1</td>\n",
       "      <td>KMeans(n_clusters=1, n_init=3, random_state=2020)</td>\n",
       "    </tr>\n",
       "    <tr>\n",
       "      <th>1</th>\n",
       "      <td>2</td>\n",
       "      <td>KMeans(n_clusters=2, n_init=3, random_state=2020)</td>\n",
       "    </tr>\n",
       "    <tr>\n",
       "      <th>2</th>\n",
       "      <td>3</td>\n",
       "      <td>KMeans(n_clusters=3, n_init=3, random_state=2020)</td>\n",
       "    </tr>\n",
       "    <tr>\n",
       "      <th>3</th>\n",
       "      <td>4</td>\n",
       "      <td>KMeans(n_clusters=4, n_init=3, random_state=2020)</td>\n",
       "    </tr>\n",
       "    <tr>\n",
       "      <th>4</th>\n",
       "      <td>5</td>\n",
       "      <td>KMeans(n_clusters=5, n_init=3, random_state=2020)</td>\n",
       "    </tr>\n",
       "    <tr>\n",
       "      <th>5</th>\n",
       "      <td>6</td>\n",
       "      <td>KMeans(n_clusters=6, n_init=3, random_state=2020)</td>\n",
       "    </tr>\n",
       "    <tr>\n",
       "      <th>6</th>\n",
       "      <td>7</td>\n",
       "      <td>KMeans(n_clusters=7, n_init=3, random_state=2020)</td>\n",
       "    </tr>\n",
       "    <tr>\n",
       "      <th>7</th>\n",
       "      <td>8</td>\n",
       "      <td>KMeans(n_init=3, random_state=2020)</td>\n",
       "    </tr>\n",
       "    <tr>\n",
       "      <th>8</th>\n",
       "      <td>9</td>\n",
       "      <td>KMeans(n_clusters=9, n_init=3, random_state=2020)</td>\n",
       "    </tr>\n",
       "  </tbody>\n",
       "</table>\n",
       "</div>"
      ],
      "text/plain": [
       "   k                                     penguin_clusts\n",
       "0  1  KMeans(n_clusters=1, n_init=3, random_state=2020)\n",
       "1  2  KMeans(n_clusters=2, n_init=3, random_state=2020)\n",
       "2  3  KMeans(n_clusters=3, n_init=3, random_state=2020)\n",
       "3  4  KMeans(n_clusters=4, n_init=3, random_state=2020)\n",
       "4  5  KMeans(n_clusters=5, n_init=3, random_state=2020)\n",
       "5  6  KMeans(n_clusters=6, n_init=3, random_state=2020)\n",
       "6  7  KMeans(n_clusters=7, n_init=3, random_state=2020)\n",
       "7  8                KMeans(n_init=3, random_state=2020)\n",
       "8  9  KMeans(n_clusters=9, n_init=3, random_state=2020)"
      ]
     },
     "execution_count": 20,
     "metadata": {},
     "output_type": "execute_result"
    }
   ],
   "source": [
    "penguin_clust_ks = penguin_clust_ks.assign(\n",
    "    penguin_clusts=penguin_clust_ks['k'].apply(\n",
    "        lambda x: KMeans(n_clusters=x, n_init=3, random_state=2020).fit(standardized_data)\n",
    "    )\n",
    ")\n",
    "penguin_clust_ks"
   ]
  },
  {
   "cell_type": "code",
   "execution_count": 21,
   "id": "583b2a33",
   "metadata": {
    "execution": {
     "iopub.execute_input": "2022-06-27T06:01:06.218424Z",
     "iopub.status.busy": "2022-06-27T06:01:06.218171Z",
     "iopub.status.idle": "2022-06-27T06:01:06.223184Z",
     "shell.execute_reply": "2022-06-27T06:01:06.222870Z"
    }
   },
   "outputs": [
    {
     "data": {
      "text/html": [
       "<div>\n",
       "<style scoped>\n",
       "    .dataframe tbody tr th:only-of-type {\n",
       "        vertical-align: middle;\n",
       "    }\n",
       "\n",
       "    .dataframe tbody tr th {\n",
       "        vertical-align: top;\n",
       "    }\n",
       "\n",
       "    .dataframe thead th {\n",
       "        text-align: right;\n",
       "    }\n",
       "</style>\n",
       "<table border=\"1\" class=\"dataframe\">\n",
       "  <thead>\n",
       "    <tr style=\"text-align: right;\">\n",
       "      <th></th>\n",
       "      <th>k</th>\n",
       "      <th>inertia</th>\n",
       "    </tr>\n",
       "  </thead>\n",
       "  <tbody>\n",
       "    <tr>\n",
       "      <th>0</th>\n",
       "      <td>1</td>\n",
       "      <td>36.000000</td>\n",
       "    </tr>\n",
       "    <tr>\n",
       "      <th>1</th>\n",
       "      <td>2</td>\n",
       "      <td>11.576264</td>\n",
       "    </tr>\n",
       "    <tr>\n",
       "      <th>2</th>\n",
       "      <td>3</td>\n",
       "      <td>4.730719</td>\n",
       "    </tr>\n",
       "    <tr>\n",
       "      <th>3</th>\n",
       "      <td>4</td>\n",
       "      <td>3.343613</td>\n",
       "    </tr>\n",
       "    <tr>\n",
       "      <th>4</th>\n",
       "      <td>5</td>\n",
       "      <td>2.362131</td>\n",
       "    </tr>\n",
       "    <tr>\n",
       "      <th>5</th>\n",
       "      <td>6</td>\n",
       "      <td>1.849067</td>\n",
       "    </tr>\n",
       "    <tr>\n",
       "      <th>6</th>\n",
       "      <td>7</td>\n",
       "      <td>1.293320</td>\n",
       "    </tr>\n",
       "    <tr>\n",
       "      <th>7</th>\n",
       "      <td>8</td>\n",
       "      <td>1.058469</td>\n",
       "    </tr>\n",
       "    <tr>\n",
       "      <th>8</th>\n",
       "      <td>9</td>\n",
       "      <td>0.891223</td>\n",
       "    </tr>\n",
       "  </tbody>\n",
       "</table>\n",
       "</div>"
      ],
      "text/plain": [
       "   k    inertia\n",
       "0  1  36.000000\n",
       "1  2  11.576264\n",
       "2  3   4.730719\n",
       "3  4   3.343613\n",
       "4  5   2.362131\n",
       "5  6   1.849067\n",
       "6  7   1.293320\n",
       "7  8   1.058469\n",
       "8  9   0.891223"
      ]
     },
     "execution_count": 21,
     "metadata": {},
     "output_type": "execute_result"
    }
   ],
   "source": [
    "penguin_clust_ks = penguin_clust_ks.assign(\n",
    "    inertia=penguin_clust_ks[\"penguin_clusts\"].apply(lambda x: x.inertia_)\n",
    ").drop(columns=['penguin_clusts'])\n",
    "penguin_clust_ks\n"
   ]
  },
  {
   "cell_type": "markdown",
   "id": "7749b4b7",
   "metadata": {},
   "source": [
    "If we take a look at our data frame `penguin_clust_ks` now, \n",
    "we see that it has two columns: one with the value for K, \n",
    "and the other holding the clustering model object in a list column.\n",
    "\n",
    "\n",
    "If we wanted to get one of the clusterings out \n",
    "of the list column in the data frame,\n",
    "we could use a familiar friend: `pull`.\n",
    "`pull` will return to us a data frame column as a simpler data structure,\n",
    "here that would be a list.\n",
    "And then to extract the first item of the list, \n",
    "we can use the `pluck` function. We pass  \n",
    "it the index for the element we would like to extract \n",
    "(here, `1`).\n",
    "\n",
    "```{r}\n",
    "penguin_clust_ks |>\n",
    "  pull(penguin_clusts) |>\n",
    "  pluck(1)\n",
    "```\n",
    "\n",
    "Next, we use `mutate` again to apply `glance` \\index{glance} \n",
    "to each of the K-means clustering objects to get the clustering statistics \n",
    "(including WSSD). \n",
    "The output of `glance` is a data frame, \n",
    "and so we need to create another list column (using `list`) for this to work. \n",
    "This results in a complex data frame with 3 columns, one for K, one for the \n",
    "K-means clustering objects, and one for the clustering statistics:\n",
    "\n",
    "```{r 10-choose-k-part3}\n",
    "penguin_clust_ks <- tibble(k = 1:9) |>\n",
    "  rowwise() |>\n",
    "  mutate(penguin_clusts = list(kmeans(standardized_data, k)),\n",
    "         glanced = list(glance(penguin_clusts)))\n",
    "\n",
    "penguin_clust_ks\n",
    "```\n",
    "\n",
    "Finally we extract the total WSSD from the column named `glanced`. \n",
    "Given that each item in this list column is a data frame, \n",
    "we will need to use the `unnest` function \n",
    "to unpack the data frames into simpler column data types. \n",
    "\n",
    "```{r 10-get-total-within-sumsqs}\n",
    "clustering_statistics <- penguin_clust_ks |>\n",
    "  unnest(glanced)\n",
    "\n",
    "clustering_statistics\n",
    "```\n",
    "\n",
    "Now that we have `tot.withinss` and `k` as columns in a data frame, we can make a line plot \n",
    "(Figure \\@ref(fig:10-plot-choose-k)) and search for the \"elbow\" to find which value of K to use. \n",
    "\n",
    "```{r 10-plot-choose-k, fig.height = 3.25, fig.width = 4.25, fig.align = \"center\", fig.pos = \"H\", out.extra=\"\", fig.cap = \"A plot showing the total WSSD versus the number of clusters.\"}\n",
    "elbow_plot <- ggplot(clustering_statistics, aes(x = k, y = tot.withinss)) +\n",
    "  geom_point() +\n",
    "  geom_line() +\n",
    "  xlab(\"K\") +\n",
    "  ylab(\"Total within-cluster sum of squares\") +\n",
    "  scale_x_continuous(breaks = 1:9) + \n",
    "  theme(text = element_text(size = 12))\n",
    "\n",
    "elbow_plot\n",
    "```"
   ]
  },
  {
   "cell_type": "code",
   "execution_count": 22,
   "id": "7a6a9834",
   "metadata": {
    "execution": {
     "iopub.execute_input": "2022-06-27T06:01:06.225390Z",
     "iopub.status.busy": "2022-06-27T06:01:06.225242Z",
     "iopub.status.idle": "2022-06-27T06:01:06.232827Z",
     "shell.execute_reply": "2022-06-27T06:01:06.232475Z"
    }
   },
   "outputs": [
    {
     "data": {
      "application/vnd.vegalite.v4+json": {
       "$schema": "https://vega.github.io/schema/vega-lite/v4.17.0.json",
       "config": {
        "axis": {
         "labelFontSize": 15,
         "titleFontSize": 20
        },
        "view": {
         "continuousHeight": 300,
         "continuousWidth": 400
        }
       },
       "data": {
        "name": "data-c43c9bf55491de3ec6b94e110a456591"
       },
       "datasets": {
        "data-c43c9bf55491de3ec6b94e110a456591": [
         {
          "inertia": 35.99999999999999,
          "k": 1
         },
         {
          "inertia": 11.576264153631982,
          "k": 2
         },
         {
          "inertia": 4.730719092276117,
          "k": 3
         },
         {
          "inertia": 3.3436127899809343,
          "k": 4
         },
         {
          "inertia": 2.3621308411553095,
          "k": 5
         },
         {
          "inertia": 1.8490674361826995,
          "k": 6
         },
         {
          "inertia": 1.293320075597939,
          "k": 7
         },
         {
          "inertia": 1.05846895925639,
          "k": 8
         },
         {
          "inertia": 0.8912231535823041,
          "k": 9
         }
        ]
       },
       "encoding": {
        "x": {
         "field": "k",
         "title": "K",
         "type": "quantitative"
        },
        "y": {
         "field": "inertia",
         "title": "Total within-cluster sum of squares",
         "type": "quantitative"
        }
       },
       "height": 400,
       "mark": {
        "point": true,
        "type": "line"
       },
       "width": 400
      },
      "text/plain": [
       "<VegaLite 4 object>\n",
       "\n",
       "If you see this message, it means the renderer has not been properly enabled\n",
       "for the frontend that you are using. For more information, see\n",
       "https://altair-viz.github.io/user_guide/troubleshooting.html\n"
      ]
     },
     "execution_count": 22,
     "metadata": {},
     "output_type": "execute_result"
    }
   ],
   "source": [
    "elbow_plot=(\n",
    "    alt.Chart(penguin_clust_ks)\n",
    "    .mark_line(point=True)\n",
    "    .encode(\n",
    "        x=alt.X(\"k\", title=\"K\"),\n",
    "        y=alt.Y(\"inertia\", title=\"Total within-cluster sum of squares\"),\n",
    "    )\n",
    "    .properties(width=400, height=400)\n",
    "    .configure_axis(labelFontSize=15, titleFontSize=20)\n",
    ")\n",
    "### END SOLUTION \n",
    "elbow_plot"
   ]
  },
  {
   "cell_type": "code",
   "execution_count": 23,
   "id": "a1540aad",
   "metadata": {
    "execution": {
     "iopub.execute_input": "2022-06-27T06:01:06.235066Z",
     "iopub.status.busy": "2022-06-27T06:01:06.234910Z",
     "iopub.status.idle": "2022-06-27T06:01:06.240045Z",
     "shell.execute_reply": "2022-06-27T06:01:06.239671Z"
    },
    "tags": [
     "remove-cell"
    ]
   },
   "outputs": [
    {
     "data": {
      "application/vnd.vegalite.v4+json": {
       "$schema": "https://vega.github.io/schema/vega-lite/v4.17.0.json",
       "config": {
        "axis": {
         "labelFontSize": 15,
         "titleFontSize": 20
        },
        "view": {
         "continuousHeight": 300,
         "continuousWidth": 400
        }
       },
       "data": {
        "name": "data-c43c9bf55491de3ec6b94e110a456591"
       },
       "datasets": {
        "data-c43c9bf55491de3ec6b94e110a456591": [
         {
          "inertia": 35.99999999999999,
          "k": 1
         },
         {
          "inertia": 11.576264153631982,
          "k": 2
         },
         {
          "inertia": 4.730719092276117,
          "k": 3
         },
         {
          "inertia": 3.3436127899809343,
          "k": 4
         },
         {
          "inertia": 2.3621308411553095,
          "k": 5
         },
         {
          "inertia": 1.8490674361826995,
          "k": 6
         },
         {
          "inertia": 1.293320075597939,
          "k": 7
         },
         {
          "inertia": 1.05846895925639,
          "k": 8
         },
         {
          "inertia": 0.8912231535823041,
          "k": 9
         }
        ]
       },
       "encoding": {
        "x": {
         "field": "k",
         "title": "K",
         "type": "quantitative"
        },
        "y": {
         "field": "inertia",
         "title": "Total within-cluster sum of squares",
         "type": "quantitative"
        }
       },
       "height": 400,
       "mark": {
        "point": true,
        "type": "line"
       },
       "width": 400
      },
      "text/plain": [
       "<VegaLite 4 object>\n",
       "\n",
       "If you see this message, it means the renderer has not been properly enabled\n",
       "for the frontend that you are using. For more information, see\n",
       "https://altair-viz.github.io/user_guide/troubleshooting.html\n"
      ]
     },
     "metadata": {
      "scrapbook": {
       "mime_prefix": "",
       "name": "elbow_plot"
      }
     },
     "output_type": "display_data"
    }
   ],
   "source": [
    "glue('elbow_plot', elbow_plot, display=True)"
   ]
  },
  {
   "cell_type": "markdown",
   "id": "d7ed94d1",
   "metadata": {},
   "source": [
    "It looks like 3 clusters is the right choice for this data.\n",
    "But why is there a \"bump\" in the total WSSD plot here? \n",
    "Shouldn't total WSSD always decrease as we add more clusters? \n",
    "Technically yes, but remember:  K-means can get \"stuck\" in a bad solution. \n",
    "Unfortunately, for K = 8 we had an unlucky initialization\n",
    "and found a bad clustering! \\index{K-means!restart, nstart} \n",
    "We can help prevent finding a bad clustering \n",
    "by trying a few different random initializations \n",
    "via the `nstart` argument (Figure \\@ref(fig:10-choose-k-nstart) \n",
    "shows a setup where we use 10 restarts). \n",
    "When we do this, K-means clustering will be performed \n",
    "the number of times specified by the `nstart` argument,\n",
    "and R will return to us the best clustering from this.\n",
    "The more times we perform K-means clustering,\n",
    "the more likely we are to find a good clustering (if one exists).\n",
    "What value should you choose for `nstart`? The answer is that it depends\n",
    "on many factors: the size and characteristics of your data set,\n",
    "as well as the speed and size of your computer.\n",
    "The larger the `nstart` value the better from an analysis perspective, \n",
    "but there is a trade-off that doing many clusterings \n",
    "could take a long time.\n",
    "So this is something that needs to be balanced.\n",
    "\n",
    "```{r 10-choose-k-nstart, fig.height = 3.25, fig.width = 4.25, fig.pos = \"H\", out.extra=\"\", message= FALSE, warning = FALSE, fig.align = \"center\", fig.cap = \"A plot showing the total WSSD versus the number of clusters when K-means is run with 10 restarts.\"}\n",
    "penguin_clust_ks <- tibble(k = 1:9) |>\n",
    "  rowwise() |>\n",
    "  mutate(penguin_clusts = list(kmeans(standardized_data, nstart = 10, k)),\n",
    "         glanced = list(glance(penguin_clusts)))\n",
    "\n",
    "clustering_statistics <- penguin_clust_ks |>\n",
    "  unnest(glanced)\n",
    "\n",
    "elbow_plot <- ggplot(clustering_statistics, aes(x = k, y = tot.withinss)) +\n",
    "  geom_point() +\n",
    "  geom_line() +\n",
    "  xlab(\"K\") +\n",
    "  ylab(\"Total within-cluster sum of squares\") +\n",
    "  scale_x_continuous(breaks = 1:9) + \n",
    "  theme(text = element_text(size = 12))\n",
    "\n",
    "elbow_plot\n",
    "```\n",
    "\n",
    "## Exercises\n",
    "\n",
    "Practice exercises for the material covered in this chapter \n",
    "can be found in the accompanying \n",
    "[worksheets repository](https://github.com/UBC-DSCI/data-science-a-first-intro-worksheets#readme)\n",
    "in the \"Clustering\" row.\n",
    "You can launch an interactive version of the worksheet in your browser by clicking the \"launch binder\" button.\n",
    "You can also preview a non-interactive version of the worksheet by clicking \"view worksheet.\"\n",
    "If you instead decide to download the worksheet and run it on your own machine,\n",
    "make sure to follow the instructions for computer setup\n",
    "found in Chapter \\@ref(move-to-your-own-machine). This will ensure that the automated feedback\n",
    "and guidance that the worksheets provide will function as intended.\n",
    "\n",
    "## Additional resources\n",
    "- Chapter 10 of *An Introduction to Statistical\n",
    "  Learning* [@james2013introduction] provides a\n",
    "  great next stop in the process of learning about clustering and unsupervised\n",
    "  learning in general. In the realm of clustering specifically, it provides a\n",
    "  great companion introduction to K-means, but also covers *hierarchical*\n",
    "  clustering for when you expect there to be subgroups, and then subgroups within\n",
    "  subgroups, etc., in your data. In the realm of more general unsupervised\n",
    "  learning, it covers *principal components analysis (PCA)*, which is a very\n",
    "  popular technique for reducing the number of predictors in a dataset."
   ]
  }
 ],
 "metadata": {
  "jupytext": {
   "cell_metadata_filter": "-all",
   "formats": "py:percent,md:myst,ipynb"
  },
  "kernelspec": {
   "display_name": "Python 3 (ipykernel)",
   "language": "python",
   "name": "python3"
  },
  "language_info": {
   "codemirror_mode": {
    "name": "ipython",
    "version": 3
   },
   "file_extension": ".py",
   "mimetype": "text/x-python",
   "name": "python",
   "nbconvert_exporter": "python",
   "pygments_lexer": "ipython3",
   "version": "3.9.12"
  }
 },
 "nbformat": 4,
 "nbformat_minor": 5
}
