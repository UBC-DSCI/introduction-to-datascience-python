{
 "cells": [
  {
   "cell_type": "markdown",
   "id": "cbab190f",
   "metadata": {},
   "source": [
    "## Images\n",
    "This is the README.md for the Introduction to Data Science textbook images.\n",
    "\n",
    "- to make the ggplot function images \n",
    "  - go to ggplot_functions.key\n",
    "  - take a screenshot of code \n",
    "  - paste image in the key and update relevant text/arrows"
   ]
  }
 ],
 "metadata": {
  "jupytext": {
   "cell_metadata_filter": "-all",
   "formats": "py:percent,md:myst,ipynb",
   "main_language": "python"
  }
 },
 "nbformat": 4,
 "nbformat_minor": 5
}
